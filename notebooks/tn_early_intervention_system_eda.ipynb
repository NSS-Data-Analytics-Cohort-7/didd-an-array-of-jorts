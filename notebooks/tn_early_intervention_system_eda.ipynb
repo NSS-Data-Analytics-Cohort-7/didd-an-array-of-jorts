{
 "cells": [
  {
   "cell_type": "code",
   "execution_count": null,
   "id": "2bfca3cc",
   "metadata": {},
   "outputs": [],
   "source": [
    "import pandas as pd\n",
    "import numpy as np\n",
    "import matplotlib.pyplot as plt\n",
    "import seaborn as sns\n",
    "\n",
    "%matplotlib inline"
   ]
  },
  {
   "cell_type": "code",
   "execution_count": null,
   "id": "24bbda36",
   "metadata": {},
   "outputs": [],
   "source": [
    "project_data = pd.read_excel('../data/TEIS-NSS Project Data 10-2022.xlsx', \n",
    "                             sheet_name=['ECO with Exit21-22', 'Elig Timeline Rpt 2018-2022'])\n"
   ]
  },
  {
   "cell_type": "code",
   "execution_count": null,
   "id": "45a2d5ae",
   "metadata": {},
   "outputs": [],
   "source": [
    "eco_exit = project_data.get('ECO with Exit21-22')\n",
    "elig_timeline = project_data.get('Elig Timeline Rpt 2018-2022')\n",
    "print(eco_exit)\n",
    "print(elig_timeline)"
   ]
  },
  {
   "cell_type": "code",
   "execution_count": null,
   "id": "c4f2ebd4",
   "metadata": {
    "scrolled": false
   },
   "outputs": [],
   "source": [
    "eco_exit"
   ]
  },
  {
   "cell_type": "code",
   "execution_count": null,
   "id": "434fe697",
   "metadata": {
    "scrolled": true
   },
   "outputs": [],
   "source": [
    "elig_timeline"
   ]
  },
  {
   "cell_type": "code",
   "execution_count": null,
   "id": "2cda8fec",
   "metadata": {},
   "outputs": [],
   "source": [
    "type(elig_timeline)"
   ]
  },
  {
   "cell_type": "markdown",
   "id": "69f547f4",
   "metadata": {},
   "source": [
    "#### Dropped all columns that did not appear to be relevant to analysis"
   ]
  },
  {
   "cell_type": "code",
   "execution_count": null,
   "id": "4a9e867c",
   "metadata": {
    "scrolled": true
   },
   "outputs": [],
   "source": [
    "elig_timeline = elig_timeline.drop(elig_timeline.columns[[4,5,6,7,8,9,10,11,12,13,14,15,16,17,18,19,20,21,22,23,24,25,26,27,28,29,30,31,32,33]],\n",
    "                                   axis=1)\n",
    "elig_timeline"
   ]
  },
  {
   "cell_type": "markdown",
   "id": "2b0de7de",
   "metadata": {},
   "source": [
    "#### Separated Init Elig Cat into 3 DFs based on condition listed"
   ]
  },
  {
   "cell_type": "code",
   "execution_count": null,
   "id": "164a80be",
   "metadata": {},
   "outputs": [],
   "source": [
    "diag_cond = elig_timeline[elig_timeline['Init. Elig. Category'] == 'Diagnosed Condition']\n",
    "\n",
    "dev_eval = elig_timeline[elig_timeline['Init. Elig. Category'] == 'Developmental Evaluation']\n",
    "\n",
    "diag_dev_comb = elig_timeline[elig_timeline['Init. Elig. Category'] == 'Diagnosed Condition, Developmental Evaluation']"
   ]
  },
  {
   "cell_type": "code",
   "execution_count": null,
   "id": "d5b3da58",
   "metadata": {},
   "outputs": [],
   "source": [
    "##determine unique exit reasons and total number of each occurrence\n",
    "exit_reason = elig_timeline['Exit Reason'].value_counts()\n",
    "exit_reason"
   ]
  },
  {
   "cell_type": "code",
   "execution_count": null,
   "id": "3053a865",
   "metadata": {},
   "outputs": [],
   "source": [
    "exit_reason = exit_reason.to_frame()\n",
    "type(exit_reason)"
   ]
  },
  {
   "cell_type": "code",
   "execution_count": null,
   "id": "eb328c37",
   "metadata": {},
   "outputs": [],
   "source": []
  },
  {
   "cell_type": "code",
   "execution_count": null,
   "id": "b7a0a8ca",
   "metadata": {},
   "outputs": [],
   "source": []
  },
  {
   "cell_type": "code",
   "execution_count": null,
   "id": "47503064",
   "metadata": {},
   "outputs": [],
   "source": []
  }
 ],
 "metadata": {
  "kernelspec": {
   "display_name": "Python 3 (ipykernel)",
   "language": "python",
   "name": "python3"
  },
  "language_info": {
   "codemirror_mode": {
    "name": "ipython",
    "version": 3
   },
   "file_extension": ".py",
   "mimetype": "text/x-python",
   "name": "python",
   "nbconvert_exporter": "python",
   "pygments_lexer": "ipython3",
   "version": "3.9.7"
  }
 },
 "nbformat": 4,
 "nbformat_minor": 5
}
