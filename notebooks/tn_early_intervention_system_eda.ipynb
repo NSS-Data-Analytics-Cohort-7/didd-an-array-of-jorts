{
 "cells": [
  {
   "cell_type": "code",
   "execution_count": null,
   "id": "a3d8ab51",
   "metadata": {},
   "outputs": [],
   "source": [
    "import pandas as pd\n",
    "import numpy as np\n",
    "import matplotlib.pyplot as plt\n",
    "import seaborn as sns\n",
    "\n",
    "%matplotlib inline"
   ]
  },
  {
   "cell_type": "code",
   "execution_count": null,
   "id": "c2a249e7",
   "metadata": {},
   "outputs": [],
   "source": [
    "project_data = pd.read_excel('../data/TEIS-NSS Project Data 10-2022.xlsx', \n",
    "                             sheet_name=['ECO with Exit21-22', 'Elig Timeline Rpt 2018-2022'])\n"
   ]
  },
  {
   "cell_type": "code",
   "execution_count": null,
   "id": "3169d310",
   "metadata": {},
   "outputs": [],
   "source": [
    "eco_exit = project_data.get('ECO with Exit21-22')\n",
    "elig_timeline = project_data.get('Elig Timeline Rpt 2018-2022')\n",
    "print(eco_exit)\n",
    "print(elig_timeline)"
   ]
  },
  {
   "cell_type": "code",
   "execution_count": null,
   "id": "58c30c69",
   "metadata": {
    "scrolled": false
   },
   "outputs": [],
   "source": [
    "eco_exit"
   ]
  },
  {
   "cell_type": "code",
   "execution_count": null,
   "id": "6864215e",
   "metadata": {
    "scrolled": true
   },
   "outputs": [],
   "source": [
    "elig_timeline"
   ]
  },
  {
   "cell_type": "code",
   "execution_count": null,
   "id": "2bd355da",
   "metadata": {},
   "outputs": [],
   "source": [
    "type(elig_timeline)"
   ]
  },
  {
   "cell_type": "markdown",
   "id": "7f589baa",
   "metadata": {},
   "source": [
    "#### Dropped all columns that did not appear to be relevant to analysis"
   ]
  },
  {
   "cell_type": "code",
   "execution_count": null,
   "id": "3d423c6a",
   "metadata": {
    "scrolled": true
   },
   "outputs": [],
   "source": [
    "elig_timeline = elig_timeline.drop(elig_timeline.columns[[4,5,6,7,8,9,10,11,12,13,14,15,16,17,18,19,20,21,22,23,24,25,26,27,28,29,30,31,32,33]],\n",
    "                                   axis=1)\n",
    "elig_timeline"
   ]
  },
  {
   "cell_type": "markdown",
   "id": "17616b57",
   "metadata": {},
   "source": [
    "#### Separated Init Elig Cat into 3 DFs based on condition listed"
   ]
  },
  {
   "cell_type": "code",
   "execution_count": null,
   "id": "146a9048",
   "metadata": {},
   "outputs": [],
   "source": [
    "diag_cond = elig_timeline[elig_timeline['Init. Elig. Category'] == 'Diagnosed Condition']\n",
    "\n",
    "dev_eval = elig_timeline[elig_timeline['Init. Elig. Category'] == 'Developmental Evaluation']\n",
    "\n",
    "diag_dev_comb = elig_timeline[elig_timeline['Init. Elig. Category'] == 'Diagnosed Condition, Developmental Evaluation']"
   ]
  },
  {
   "cell_type": "code",
   "execution_count": null,
   "id": "7ee07bb4",
   "metadata": {},
   "outputs": [],
   "source": [
    "##determine unique exit reasons and total number of each occurrence\n",
    "exit_reason = elig_timeline['Exit Reason'].value_counts()\n",
    "exit_reason"
   ]
  },
  {
   "cell_type": "code",
   "execution_count": null,
   "id": "228c0069",
   "metadata": {},
   "outputs": [],
   "source": [
    "exit_reason = exit_reason.to_frame()\n",
    "\n",
    "##need to figure out how to fix column names. df.colums= gives me an error saying it's a list\n",
    "exit_reason"
   ]
  },
  {
   "cell_type": "code",
   "execution_count": null,
   "id": "49757816",
   "metadata": {
    "scrolled": true
   },
   "outputs": [],
   "source": [
    "##dropped unused columns\n",
    "eco_exit = eco_exit.drop(eco_exit.columns[[16,17,18,19,20,21,22,23,24,25,26,27,28,29,30,31,32,33,34,35,36,37,38,39,40,\n",
    "                                          41,42,43,44,45,46,47,48,49,50,51,52,53,54,55,56,57,58,59]], axis=1)\n",
    "eco_exit"
   ]
  },
  {
   "cell_type": "code",
   "execution_count": null,
   "id": "2829178c",
   "metadata": {},
   "outputs": [],
   "source": [
    "## standardize column names\n",
    "elig_timeline = elig_timeline.rename(columns={'District':'district',\n",
    "                                              'Child ID':'child_id',\n",
    "                                              'Child Status':'child_status',\n",
    "                                              'Child Phase':'child_phase',\n",
    "                                              'Init. Elig. Category':'eligibility_category',\n",
    "                                              'Init. Elig. Det. Date': 'date_elig_determined',\n",
    "                                              'Exit Date':'exit_date',\n",
    "                                              'Exit Reason':'exit_reason'})\n",
    "elig_timeline.head()"
   ]
  },
  {
   "cell_type": "code",
   "execution_count": null,
   "id": "c68e21ed",
   "metadata": {},
   "outputs": [],
   "source": [
    "eco_exit = eco_exit.rename(columns={'DISTRICT':'district',\n",
    "                                    'CHILD_ID':'child_id',\n",
    "                                    'ECO_Entry_DATE':'eco_entry_date',\n",
    "                                    'Ent SOCIAL_SCALE':'ent_social',\n",
    "                                    'Ent KNOWLEDGE_SCALE':'ent_knowledge',\n",
    "                                    'Ent APPROPRIATE_ACTION_SCALE':'ent_approp_action',\n",
    "                                    'ECO_Exit_DATE':'eco_exit_date',\n",
    "                                    'Exit SOCIAL_SCALE':'exit_social',\n",
    "                                    'Exit KNOWLEDGE_SCALE':'exit_knowledge',\n",
    "                                    'Exit APPROPRIATE_ACTION_SCALE':'exit_approp_action',\n",
    "                                    'ExitIS_SOCIAL_PROGRESS':'exit_social_progress',\n",
    "                                    'ExitIS_KNOWLEDGE_PROGRESS':'exit_knowledge_progress',\n",
    "                                    'ExitIS_APPROPRIATE_ACTION_PROGRESS':'exit_approp_act_progress',\n",
    "                                    'Initial IFSP Date':'initial_ifsp_date',\n",
    "                                    'Exit Reason':'exit_reason',\n",
    "                                    'Exit Date':'exit_date'})\n",
    "                                            \n",
    "eco_exit.head()"
   ]
  },
  {
   "cell_type": "code",
   "execution_count": null,
   "id": "fff64d91",
   "metadata": {},
   "outputs": [],
   "source": [
    "type(eco_exit['child_id'])"
   ]
  },
  {
   "cell_type": "code",
   "execution_count": null,
   "id": "41331315",
   "metadata": {},
   "outputs": [],
   "source": [
    "##remove last 4 rows of DF that are all NaN and converted child_id from float to int\n",
    "\n",
    "eco_exit = eco_exit.iloc[:-4 , :]\n",
    "eco_exit['child_id'] = eco_exit['child_id'].astype('int')\n",
    "type(eco_exit['child_id'])"
   ]
  },
  {
   "cell_type": "code",
   "execution_count": null,
   "id": "55f61071",
   "metadata": {},
   "outputs": [],
   "source": [
    "eco_exit"
   ]
  },
  {
   "cell_type": "code",
   "execution_count": null,
   "id": "b5a54939",
   "metadata": {},
   "outputs": [],
   "source": [
    "##datasets joined for analysis\n",
    "\n",
    "eco_elig_combined = pd.merge(elig_timeline, eco_exit, on=['child_id', 'district'], how='inner')\n",
    "eco_elig_combined"
   ]
  },
  {
   "cell_type": "code",
   "execution_count": null,
   "id": "6760d6dd",
   "metadata": {},
   "outputs": [],
   "source": []
  }
 ],
 "metadata": {
  "kernelspec": {
   "display_name": "Python 3 (ipykernel)",
   "language": "python",
   "name": "python3"
  },
  "language_info": {
   "codemirror_mode": {
    "name": "ipython",
    "version": 3
   },
   "file_extension": ".py",
   "mimetype": "text/x-python",
   "name": "python",
   "nbconvert_exporter": "python",
   "pygments_lexer": "ipython3",
   "version": "3.9.7"
  }
 },
 "nbformat": 4,
 "nbformat_minor": 5
}
