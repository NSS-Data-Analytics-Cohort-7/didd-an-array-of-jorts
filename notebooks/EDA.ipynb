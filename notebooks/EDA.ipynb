{
 "cells": [
  {
   "cell_type": "code",
   "execution_count": null,
   "id": "729283be",
   "metadata": {},
   "outputs": [],
   "source": [
    "import pandas as pd"
   ]
  },
  {
   "cell_type": "code",
   "execution_count": null,
   "id": "01ca14dd",
   "metadata": {},
   "outputs": [],
   "source": [
    "import matplotlib.pyplot as plt"
   ]
  },
  {
   "cell_type": "code",
   "execution_count": null,
   "id": "8eaea649",
   "metadata": {},
   "outputs": [],
   "source": [
    "import seaborn as sns"
   ]
  },
  {
   "cell_type": "code",
   "execution_count": null,
   "id": "0de7826b",
   "metadata": {},
   "outputs": [],
   "source": [
    "didd_df = pd.read_excel(\"../data/project_data.xlsx\", sheet_name=['ECO with Exit21-22'])"
   ]
  },
  {
   "cell_type": "code",
   "execution_count": null,
   "id": "9bc55da9",
   "metadata": {},
   "outputs": [],
   "source": [
    "eco_exit = didd_df.get('ECO with Exit21-22')"
   ]
  },
  {
   "cell_type": "code",
   "execution_count": null,
   "id": "28221b71",
   "metadata": {},
   "outputs": [],
   "source": [
    "eco_exit.head(5)"
   ]
  },
  {
   "cell_type": "code",
   "execution_count": null,
   "id": "fb4f774d",
   "metadata": {},
   "outputs": [],
   "source": [
    "df_social_mean = eco_exit[['Ent SOCIAL_SCALE']].mean()"
   ]
  },
  {
   "cell_type": "code",
   "execution_count": null,
   "id": "89b2e2b5",
   "metadata": {},
   "outputs": [],
   "source": [
    "print(df_social_mean)"
   ]
  },
  {
   "cell_type": "code",
   "execution_count": null,
   "id": "75c002ca",
   "metadata": {},
   "outputs": [],
   "source": [
    "df_know_mean = eco_exit[['Ent KNOWLEDGE_SCALE']].mean()"
   ]
  },
  {
   "cell_type": "code",
   "execution_count": null,
   "id": "6c1ae8e2",
   "metadata": {},
   "outputs": [],
   "source": [
    "print(df_know_mean)"
   ]
  },
  {
   "cell_type": "code",
   "execution_count": null,
   "id": "8f61ff20",
   "metadata": {},
   "outputs": [],
   "source": [
    "df_action_mean = eco_exit[['Ent APPROPRIATE_ACTION_SCALE']].mean()"
   ]
  },
  {
   "cell_type": "code",
   "execution_count": null,
   "id": "165e7f98",
   "metadata": {},
   "outputs": [],
   "source": [
    "print(df_action_mean)"
   ]
  },
  {
   "cell_type": "code",
   "execution_count": null,
   "id": "c9f8f78d",
   "metadata": {},
   "outputs": [],
   "source": [
    "df_ent_mean = eco_exit[['Ent SOCIAL_SCALE', 'Ent KNOWLEDGE SCALE', 'ENT APPROPRIATE_ACTION_SCALE']].MEAN()"
   ]
  },
  {
   "cell_type": "code",
   "execution_count": null,
   "id": "6fc5276b",
   "metadata": {},
   "outputs": [],
   "source": [
    "eco_exit = eco_exit.rename(columns={'DISTRICT':'district',\n",
    "                                    'CHILD_ID':'child_id',\n",
    "                                    'ECO_Entry_DATE':'eco_entry_date',\n",
    "                                    'Ent SOCIAL_SCALE':'ent_social',\n",
    "                                    'Ent KNOWLEDGE_SCALE':'ent_knowledge',\n",
    "                                    'Ent APPROPRIATE_ACTION_SCALE':'ent_approp_action',\n",
    "                                    'ECO_Exit_DATE':'eco_exit_date',\n",
    "                                    'Exit SOCIAL_SCALE':'exit_social',\n",
    "                                    'Exit KNOWLEDGE_SCALE':'exit_knowledge',\n",
    "                                    'Exit APPROPRIATE_ACTION_SCALE':'exit_approp_action'})"
   ]
  },
  {
   "cell_type": "code",
   "execution_count": null,
   "id": "c475dbe5",
   "metadata": {},
   "outputs": [],
   "source": [
    "eco_exit.head(20)"
   ]
  },
  {
   "cell_type": "code",
   "execution_count": null,
   "id": "bc28be70",
   "metadata": {},
   "outputs": [],
   "source": [
    "exit7ss = eco_exit[eco_exit['exit_social'] == 7]\n",
    "#to get all info for kiddos with exit ss of 7"
   ]
  },
  {
   "cell_type": "code",
   "execution_count": null,
   "id": "c7d97439",
   "metadata": {},
   "outputs": [],
   "source": [
    "print(exit7ss)"
   ]
  },
  {
   "cell_type": "code",
   "execution_count": null,
   "id": "74bc7191",
   "metadata": {},
   "outputs": [],
   "source": [
    "#to get the information for kiddos who have exit knowledge score of 7\n",
    "exit7ks = eco_exit[eco_exit['exit_knowledge'] == 7]"
   ]
  },
  {
   "cell_type": "code",
   "execution_count": null,
   "id": "4b12494f",
   "metadata": {},
   "outputs": [],
   "source": [
    "print(exit7ks)"
   ]
  },
  {
   "cell_type": "code",
   "execution_count": null,
   "id": "e502d9da",
   "metadata": {},
   "outputs": [],
   "source": [
    "#To get the info for kiddos with exit action scores of 7\n",
    "exit7aa = eco_exit[eco_exit['exit_approp_action'] == 7]"
   ]
  },
  {
   "cell_type": "code",
   "execution_count": null,
   "id": "7277d288",
   "metadata": {},
   "outputs": [],
   "source": [
    "print(exit7aa)"
   ]
  },
  {
   "cell_type": "code",
   "execution_count": null,
   "id": "ec599bb5",
   "metadata": {},
   "outputs": [],
   "source": [
    "# info for the kiddos whose  social entrance scores were 7\n",
    "ent7ss = eco_exit[eco_exit['ent_social'] == 7]"
   ]
  },
  {
   "cell_type": "code",
   "execution_count": null,
   "id": "8df6afb2",
   "metadata": {},
   "outputs": [],
   "source": [
    "print(ent7ss)"
   ]
  },
  {
   "cell_type": "code",
   "execution_count": null,
   "id": "b8b3b0ef",
   "metadata": {},
   "outputs": [],
   "source": [
    "# To get info about kiddos whose entrance knowledge score was 7 \n",
    "ent7ks = eco_exit[eco_exit['ent_knowledge'] == 7]"
   ]
  },
  {
   "cell_type": "code",
   "execution_count": null,
   "id": "f21e961b",
   "metadata": {},
   "outputs": [],
   "source": [
    "print(ent7ks)"
   ]
  },
  {
   "cell_type": "code",
   "execution_count": null,
   "id": "45860fad",
   "metadata": {},
   "outputs": [],
   "source": [
    "# to get info about kiddos whose entrance action scores were 7\n",
    "ent7aa = eco_exit[eco_exit['ent_approp_action'] == 7]"
   ]
  },
  {
   "cell_type": "code",
   "execution_count": null,
   "id": "77b59a2f",
   "metadata": {},
   "outputs": [],
   "source": [
    "print(ent7aa)"
   ]
  },
  {
   "cell_type": "code",
   "execution_count": null,
   "id": "4f48f1cb",
   "metadata": {},
   "outputs": [],
   "source": [
    "#no changes in scores\n",
    "nochangess = eco_exit[(eco_exit['ent_social'] == 7) & (eco_exit['exit_social'] == 7)]\n",
    "nochangesk = eco_exit[(eco_exit['ent_knowledge'] == 7) & (eco_exit['exit_knowledge'] == 7)]\n",
    "nochangesa = eco_exit[(eco_exit['ent_approp_action'] == 7) & (eco_exit['exit_approp_action'] == 7)]"
   ]
  },
  {
   "cell_type": "code",
   "execution_count": null,
   "id": "32fe1861",
   "metadata": {},
   "outputs": [],
   "source": [
    "print(nochangess)"
   ]
  },
  {
   "cell_type": "code",
   "execution_count": null,
   "id": "5e74eda6",
   "metadata": {},
   "outputs": [],
   "source": [
    "# To get decreases in scores\n",
    "decreases = eco_exit[(eco_exit['ent_social'] == 7) & (eco_exit['exit_social'] < 7)]\n",
    "decreasek = eco_exit[(eco_exit['ent_knowledge'] == 7) & (eco_exit['exit_knowledge'] < 7)]\n",
    "decreasea = eco_exit[(eco_exit['ent_approp_action'] == 7) & (eco_exit['exit_approp_action'] < 7)]"
   ]
  },
  {
   "cell_type": "code",
   "execution_count": null,
   "id": "c5a028d9",
   "metadata": {},
   "outputs": [],
   "source": [
    "#print percentages for no changes\n",
    "print(nochangess['ent_social'].count()/ent7ss['ent_social'].count() *100)\n",
    "print(nochangesk['ent_knowledge'].count()/ent7ks['ent_knowledge'].count() *100)\n",
    "print(nochangesa['ent_approp_action'].count()/ent7aa['ent_approp_action'].count() *100)"
   ]
  },
  {
   "cell_type": "code",
   "execution_count": null,
   "id": "7e831c4a",
   "metadata": {},
   "outputs": [],
   "source": [
    "#print percentages for decreases in scores\n",
    "print(decreases['ent_social'].count()/ent7ss['ent_social'].count() *100)\n",
    "print(decreasek['ent_knowledge'].count()/ent7ks['ent_knowledge'].count() *100)\n",
    "print(decreasea['ent_approp_action'].count()/ent7aa['ent_approp_action'].count() *100)"
   ]
  },
  {
   "cell_type": "code",
   "execution_count": null,
   "id": "ddf89a70",
   "metadata": {},
   "outputs": [],
   "source": []
  }
 ],
 "metadata": {
  "kernelspec": {
   "display_name": "Python 3 (ipykernel)",
   "language": "python",
   "name": "python3"
  },
  "language_info": {
   "codemirror_mode": {
    "name": "ipython",
    "version": 3
   },
   "file_extension": ".py",
   "mimetype": "text/x-python",
   "name": "python",
   "nbconvert_exporter": "python",
   "pygments_lexer": "ipython3",
   "version": "3.9.12"
  }
 },
 "nbformat": 4,
 "nbformat_minor": 5
}
