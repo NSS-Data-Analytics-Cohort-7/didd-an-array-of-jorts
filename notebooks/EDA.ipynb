{
 "cells": [
  {
   "cell_type": "markdown",
   "id": "7709754c",
   "metadata": {},
   "source": [
    "importing packages"
   ]
  },
  {
   "cell_type": "code",
   "execution_count": null,
   "id": "6540e1fd",
   "metadata": {},
   "outputs": [],
   "source": [
    "import pandas as pd\n",
    "import numpy as np\n",
    "import matplotlib.pyplot as plt\n",
    "import seaborn as sns \n",
    "%matplotlib inline"
   ]
  },
  {
   "cell_type": "code",
   "execution_count": null,
   "id": "5864748e",
   "metadata": {},
   "outputs": [],
   "source": [
    "didd_df = pd.read_excel(\"../data/project_data.xlsx\", sheet_name=['ECO with Exit21-22', 'Elig Timeline Rpt 2018-2022'])"
   ]
  },
  {
   "cell_type": "code",
   "execution_count": null,
   "id": "cb318f0d",
   "metadata": {},
   "outputs": [],
   "source": [
    "eco_exit = didd_df.get('ECO with Exit21-22')\n",
    "elig_timeline = didd_df.get('Elig Timeline Rpt 2018-2022')"
   ]
  },
  {
   "cell_type": "code",
   "execution_count": null,
   "id": "17342e7f",
   "metadata": {},
   "outputs": [],
   "source": [
    "print(eco_exit)\n",
    "print(elig_timeline)"
   ]
  },
  {
   "cell_type": "markdown",
   "id": "9594c5d3",
   "metadata": {},
   "source": [
    "finding out shapes of data sheets"
   ]
  },
  {
   "cell_type": "code",
   "execution_count": null,
   "id": "445b0a1b",
   "metadata": {},
   "outputs": [],
   "source": [
    "eco_exit.shape"
   ]
  },
  {
   "cell_type": "code",
   "execution_count": null,
   "id": "5a8ebe5d",
   "metadata": {},
   "outputs": [],
   "source": [
    "elig_timeline.shape"
   ]
  },
  {
   "cell_type": "markdown",
   "id": "c88a3635",
   "metadata": {},
   "source": [
    "datatypes of sheets"
   ]
  },
  {
   "cell_type": "code",
   "execution_count": null,
   "id": "97834145",
   "metadata": {},
   "outputs": [],
   "source": [
    "eco_exit.dtypes"
   ]
  },
  {
   "cell_type": "code",
   "execution_count": null,
   "id": "a3370b06",
   "metadata": {},
   "outputs": [],
   "source": [
    "elig_timeline.dtypes"
   ]
  },
  {
   "cell_type": "code",
   "execution_count": null,
   "id": "732b61e0",
   "metadata": {},
   "outputs": [],
   "source": [
    "eco_exit.head(10)"
   ]
  },
  {
   "cell_type": "code",
   "execution_count": null,
   "id": "5f1c7319",
   "metadata": {},
   "outputs": [],
   "source": [
    "elig_timeline.head(10)"
   ]
  },
  {
   "cell_type": "code",
   "execution_count": null,
   "id": "ef0734e9",
   "metadata": {},
   "outputs": [],
   "source": [
    "eco_exit.tail(10)"
   ]
  },
  {
   "cell_type": "code",
   "execution_count": null,
   "id": "3dd85535",
   "metadata": {},
   "outputs": [],
   "source": [
    "elig_timeline.tail(10)"
   ]
  },
  {
   "cell_type": "code",
   "execution_count": null,
   "id": "82721455",
   "metadata": {},
   "outputs": [],
   "source": []
  },
  {
   "cell_type": "code",
   "execution_count": null,
   "id": "c9944589",
   "metadata": {},
   "outputs": [],
   "source": []
  },
  {
   "cell_type": "code",
   "execution_count": null,
   "id": "a96c8bb2",
   "metadata": {},
   "outputs": [],
   "source": []
  }
 ],
 "metadata": {
  "kernelspec": {
   "display_name": "Python 3 (ipykernel)",
   "language": "python",
   "name": "python3"
  },
  "language_info": {
   "codemirror_mode": {
    "name": "ipython",
    "version": 3
   },
   "file_extension": ".py",
   "mimetype": "text/x-python",
   "name": "python",
   "nbconvert_exporter": "python",
   "pygments_lexer": "ipython3",
   "version": "3.9.12"
  }
 },
 "nbformat": 4,
 "nbformat_minor": 5
}
