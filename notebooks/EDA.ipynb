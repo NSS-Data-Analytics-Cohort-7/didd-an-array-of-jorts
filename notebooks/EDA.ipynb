{
 "cells": [
  {
   "cell_type": "code",
   "execution_count": 2,
   "id": "385c2b99",
   "metadata": {},
   "outputs": [],
   "source": [
    "import pandas as pd\n",
    "import numpy as np\n",
    "import matplotlib.pyplot as plt\n",
    "import seaborn as sns \n",
    "%matplotlib inline"
   ]
  },
  {
   "cell_type": "code",
   "execution_count": 3,
   "id": "55212a18",
   "metadata": {},
   "outputs": [],
   "source": [
    "didd_df = pd.read_excel(\"../data/project_data.xlsx\", sheet_name=['ECO with Exit21-22', 'Elig Timeline Rpt 2018-2022'])"
   ]
  },
  {
   "cell_type": "code",
   "execution_count": 4,
   "id": "3f0e7e23",
   "metadata": {},
   "outputs": [],
   "source": [
    "eco_df = didd_df.get('ECO with Exit21-22')\n",
    "elig_timeline = didd_df.get('Elig Timeline Rpt 2018-2022')"
   ]
  },
  {
   "cell_type": "code",
   "execution_count": 6,
   "id": "6b870a89",
   "metadata": {},
   "outputs": [],
   "source": [
    "#print(eco_df)"
   ]
  },
  {
   "cell_type": "code",
   "execution_count": 7,
   "id": "20d825dd",
   "metadata": {},
   "outputs": [
    {
     "data": {
      "text/html": [
       "<div>\n",
       "<style scoped>\n",
       "    .dataframe tbody tr th:only-of-type {\n",
       "        vertical-align: middle;\n",
       "    }\n",
       "\n",
       "    .dataframe tbody tr th {\n",
       "        vertical-align: top;\n",
       "    }\n",
       "\n",
       "    .dataframe thead th {\n",
       "        text-align: right;\n",
       "    }\n",
       "</style>\n",
       "<table border=\"1\" class=\"dataframe\">\n",
       "  <thead>\n",
       "    <tr style=\"text-align: right;\">\n",
       "      <th></th>\n",
       "      <th>DISTRICT</th>\n",
       "      <th>CHILD_ID</th>\n",
       "      <th>ECO_Entry_DATE</th>\n",
       "      <th>Ent SOCIAL_SCALE</th>\n",
       "      <th>Ent KNOWLEDGE_SCALE</th>\n",
       "      <th>Ent APPROPRIATE_ACTION_SCALE</th>\n",
       "      <th>ECO_Exit_DATE</th>\n",
       "      <th>Exit SOCIAL_SCALE</th>\n",
       "      <th>Exit KNOWLEDGE_SCALE</th>\n",
       "      <th>Exit APPROPRIATE_ACTION_SCALE</th>\n",
       "      <th>...</th>\n",
       "      <th>OC2 Data Check</th>\n",
       "      <th>OC3 - a</th>\n",
       "      <th>OC3 - b</th>\n",
       "      <th>OC3 - c</th>\n",
       "      <th>OC3 - d</th>\n",
       "      <th>OC3 - e</th>\n",
       "      <th>OC3 Data Check</th>\n",
       "      <th>Days btw Initial and Exit</th>\n",
       "      <th>Days btw I-IFSP to Exit ECO</th>\n",
       "      <th>Days btw I-IFSP to entry ECO</th>\n",
       "    </tr>\n",
       "  </thead>\n",
       "  <tbody>\n",
       "    <tr>\n",
       "      <th>0</th>\n",
       "      <td>ET</td>\n",
       "      <td>500335.0</td>\n",
       "      <td>2021-04-23</td>\n",
       "      <td>5.0</td>\n",
       "      <td>3.0</td>\n",
       "      <td>4.0</td>\n",
       "      <td>2021-10-23</td>\n",
       "      <td>6.0</td>\n",
       "      <td>3.0</td>\n",
       "      <td>4.0</td>\n",
       "      <td>...</td>\n",
       "      <td>1.0</td>\n",
       "      <td>NaN</td>\n",
       "      <td>1.0</td>\n",
       "      <td>NaN</td>\n",
       "      <td>NaN</td>\n",
       "      <td>NaN</td>\n",
       "      <td>1.0</td>\n",
       "      <td>206.0</td>\n",
       "      <td>183.0</td>\n",
       "      <td>0.0</td>\n",
       "    </tr>\n",
       "    <tr>\n",
       "      <th>1</th>\n",
       "      <td>ET</td>\n",
       "      <td>479453.0</td>\n",
       "      <td>2020-03-23</td>\n",
       "      <td>7.0</td>\n",
       "      <td>7.0</td>\n",
       "      <td>7.0</td>\n",
       "      <td>2021-08-19</td>\n",
       "      <td>7.0</td>\n",
       "      <td>7.0</td>\n",
       "      <td>7.0</td>\n",
       "      <td>...</td>\n",
       "      <td>1.0</td>\n",
       "      <td>NaN</td>\n",
       "      <td>NaN</td>\n",
       "      <td>NaN</td>\n",
       "      <td>NaN</td>\n",
       "      <td>1.0</td>\n",
       "      <td>1.0</td>\n",
       "      <td>704.0</td>\n",
       "      <td>514.0</td>\n",
       "      <td>0.0</td>\n",
       "    </tr>\n",
       "    <tr>\n",
       "      <th>2</th>\n",
       "      <td>ET</td>\n",
       "      <td>510663.0</td>\n",
       "      <td>NaT</td>\n",
       "      <td>NaN</td>\n",
       "      <td>NaN</td>\n",
       "      <td>NaN</td>\n",
       "      <td>NaT</td>\n",
       "      <td>NaN</td>\n",
       "      <td>NaN</td>\n",
       "      <td>NaN</td>\n",
       "      <td>...</td>\n",
       "      <td>0.0</td>\n",
       "      <td>NaN</td>\n",
       "      <td>NaN</td>\n",
       "      <td>NaN</td>\n",
       "      <td>NaN</td>\n",
       "      <td>NaN</td>\n",
       "      <td>0.0</td>\n",
       "      <td>115.0</td>\n",
       "      <td>-44483.0</td>\n",
       "      <td>-44483.0</td>\n",
       "    </tr>\n",
       "    <tr>\n",
       "      <th>3</th>\n",
       "      <td>ET</td>\n",
       "      <td>452482.0</td>\n",
       "      <td>2019-01-31</td>\n",
       "      <td>2.0</td>\n",
       "      <td>3.0</td>\n",
       "      <td>3.0</td>\n",
       "      <td>2021-11-22</td>\n",
       "      <td>5.0</td>\n",
       "      <td>3.0</td>\n",
       "      <td>5.0</td>\n",
       "      <td>...</td>\n",
       "      <td>1.0</td>\n",
       "      <td>NaN</td>\n",
       "      <td>NaN</td>\n",
       "      <td>1.0</td>\n",
       "      <td>NaN</td>\n",
       "      <td>NaN</td>\n",
       "      <td>1.0</td>\n",
       "      <td>1053.0</td>\n",
       "      <td>1026.0</td>\n",
       "      <td>0.0</td>\n",
       "    </tr>\n",
       "    <tr>\n",
       "      <th>4</th>\n",
       "      <td>ET</td>\n",
       "      <td>506507.0</td>\n",
       "      <td>NaT</td>\n",
       "      <td>NaN</td>\n",
       "      <td>NaN</td>\n",
       "      <td>NaN</td>\n",
       "      <td>NaT</td>\n",
       "      <td>NaN</td>\n",
       "      <td>NaN</td>\n",
       "      <td>NaN</td>\n",
       "      <td>...</td>\n",
       "      <td>0.0</td>\n",
       "      <td>NaN</td>\n",
       "      <td>NaN</td>\n",
       "      <td>NaN</td>\n",
       "      <td>NaN</td>\n",
       "      <td>NaN</td>\n",
       "      <td>0.0</td>\n",
       "      <td>159.0</td>\n",
       "      <td>-44434.0</td>\n",
       "      <td>-44434.0</td>\n",
       "    </tr>\n",
       "    <tr>\n",
       "      <th>5</th>\n",
       "      <td>ET</td>\n",
       "      <td>494216.0</td>\n",
       "      <td>2021-01-06</td>\n",
       "      <td>2.0</td>\n",
       "      <td>4.0</td>\n",
       "      <td>6.0</td>\n",
       "      <td>2021-06-30</td>\n",
       "      <td>4.0</td>\n",
       "      <td>5.0</td>\n",
       "      <td>7.0</td>\n",
       "      <td>...</td>\n",
       "      <td>1.0</td>\n",
       "      <td>NaN</td>\n",
       "      <td>NaN</td>\n",
       "      <td>NaN</td>\n",
       "      <td>NaN</td>\n",
       "      <td>1.0</td>\n",
       "      <td>1.0</td>\n",
       "      <td>288.0</td>\n",
       "      <td>175.0</td>\n",
       "      <td>0.0</td>\n",
       "    </tr>\n",
       "    <tr>\n",
       "      <th>6</th>\n",
       "      <td>ET</td>\n",
       "      <td>449725.0</td>\n",
       "      <td>2020-08-06</td>\n",
       "      <td>4.0</td>\n",
       "      <td>5.0</td>\n",
       "      <td>7.0</td>\n",
       "      <td>2021-04-21</td>\n",
       "      <td>7.0</td>\n",
       "      <td>7.0</td>\n",
       "      <td>7.0</td>\n",
       "      <td>...</td>\n",
       "      <td>1.0</td>\n",
       "      <td>NaN</td>\n",
       "      <td>NaN</td>\n",
       "      <td>NaN</td>\n",
       "      <td>NaN</td>\n",
       "      <td>1.0</td>\n",
       "      <td>1.0</td>\n",
       "      <td>444.0</td>\n",
       "      <td>348.0</td>\n",
       "      <td>90.0</td>\n",
       "    </tr>\n",
       "    <tr>\n",
       "      <th>7</th>\n",
       "      <td>ET</td>\n",
       "      <td>494502.0</td>\n",
       "      <td>2021-03-01</td>\n",
       "      <td>6.0</td>\n",
       "      <td>4.0</td>\n",
       "      <td>5.0</td>\n",
       "      <td>2021-10-15</td>\n",
       "      <td>7.0</td>\n",
       "      <td>5.0</td>\n",
       "      <td>6.0</td>\n",
       "      <td>...</td>\n",
       "      <td>1.0</td>\n",
       "      <td>NaN</td>\n",
       "      <td>NaN</td>\n",
       "      <td>NaN</td>\n",
       "      <td>1.0</td>\n",
       "      <td>NaN</td>\n",
       "      <td>1.0</td>\n",
       "      <td>277.0</td>\n",
       "      <td>228.0</td>\n",
       "      <td>0.0</td>\n",
       "    </tr>\n",
       "    <tr>\n",
       "      <th>8</th>\n",
       "      <td>ET</td>\n",
       "      <td>488351.0</td>\n",
       "      <td>2020-09-15</td>\n",
       "      <td>5.0</td>\n",
       "      <td>5.0</td>\n",
       "      <td>7.0</td>\n",
       "      <td>2021-02-25</td>\n",
       "      <td>6.0</td>\n",
       "      <td>5.0</td>\n",
       "      <td>7.0</td>\n",
       "      <td>...</td>\n",
       "      <td>1.0</td>\n",
       "      <td>NaN</td>\n",
       "      <td>NaN</td>\n",
       "      <td>NaN</td>\n",
       "      <td>NaN</td>\n",
       "      <td>1.0</td>\n",
       "      <td>1.0</td>\n",
       "      <td>343.0</td>\n",
       "      <td>163.0</td>\n",
       "      <td>0.0</td>\n",
       "    </tr>\n",
       "    <tr>\n",
       "      <th>9</th>\n",
       "      <td>ET</td>\n",
       "      <td>489949.0</td>\n",
       "      <td>2020-10-20</td>\n",
       "      <td>2.0</td>\n",
       "      <td>1.0</td>\n",
       "      <td>2.0</td>\n",
       "      <td>2021-09-30</td>\n",
       "      <td>1.0</td>\n",
       "      <td>4.0</td>\n",
       "      <td>5.0</td>\n",
       "      <td>...</td>\n",
       "      <td>1.0</td>\n",
       "      <td>NaN</td>\n",
       "      <td>NaN</td>\n",
       "      <td>1.0</td>\n",
       "      <td>NaN</td>\n",
       "      <td>NaN</td>\n",
       "      <td>1.0</td>\n",
       "      <td>533.0</td>\n",
       "      <td>345.0</td>\n",
       "      <td>0.0</td>\n",
       "    </tr>\n",
       "  </tbody>\n",
       "</table>\n",
       "<p>10 rows × 60 columns</p>\n",
       "</div>"
      ],
      "text/plain": [
       "  DISTRICT  CHILD_ID ECO_Entry_DATE  Ent SOCIAL_SCALE  Ent KNOWLEDGE_SCALE  \\\n",
       "0       ET  500335.0     2021-04-23               5.0                  3.0   \n",
       "1       ET  479453.0     2020-03-23               7.0                  7.0   \n",
       "2       ET  510663.0            NaT               NaN                  NaN   \n",
       "3       ET  452482.0     2019-01-31               2.0                  3.0   \n",
       "4       ET  506507.0            NaT               NaN                  NaN   \n",
       "5       ET  494216.0     2021-01-06               2.0                  4.0   \n",
       "6       ET  449725.0     2020-08-06               4.0                  5.0   \n",
       "7       ET  494502.0     2021-03-01               6.0                  4.0   \n",
       "8       ET  488351.0     2020-09-15               5.0                  5.0   \n",
       "9       ET  489949.0     2020-10-20               2.0                  1.0   \n",
       "\n",
       "   Ent APPROPRIATE_ACTION_SCALE ECO_Exit_DATE  Exit SOCIAL_SCALE  \\\n",
       "0                           4.0    2021-10-23                6.0   \n",
       "1                           7.0    2021-08-19                7.0   \n",
       "2                           NaN           NaT                NaN   \n",
       "3                           3.0    2021-11-22                5.0   \n",
       "4                           NaN           NaT                NaN   \n",
       "5                           6.0    2021-06-30                4.0   \n",
       "6                           7.0    2021-04-21                7.0   \n",
       "7                           5.0    2021-10-15                7.0   \n",
       "8                           7.0    2021-02-25                6.0   \n",
       "9                           2.0    2021-09-30                1.0   \n",
       "\n",
       "   Exit KNOWLEDGE_SCALE  Exit APPROPRIATE_ACTION_SCALE  ... OC2 Data Check  \\\n",
       "0                   3.0                            4.0  ...            1.0   \n",
       "1                   7.0                            7.0  ...            1.0   \n",
       "2                   NaN                            NaN  ...            0.0   \n",
       "3                   3.0                            5.0  ...            1.0   \n",
       "4                   NaN                            NaN  ...            0.0   \n",
       "5                   5.0                            7.0  ...            1.0   \n",
       "6                   7.0                            7.0  ...            1.0   \n",
       "7                   5.0                            6.0  ...            1.0   \n",
       "8                   5.0                            7.0  ...            1.0   \n",
       "9                   4.0                            5.0  ...            1.0   \n",
       "\n",
       "  OC3 - a OC3 - b OC3 - c OC3 - d OC3 - e OC3 Data Check  \\\n",
       "0     NaN     1.0     NaN     NaN     NaN            1.0   \n",
       "1     NaN     NaN     NaN     NaN     1.0            1.0   \n",
       "2     NaN     NaN     NaN     NaN     NaN            0.0   \n",
       "3     NaN     NaN     1.0     NaN     NaN            1.0   \n",
       "4     NaN     NaN     NaN     NaN     NaN            0.0   \n",
       "5     NaN     NaN     NaN     NaN     1.0            1.0   \n",
       "6     NaN     NaN     NaN     NaN     1.0            1.0   \n",
       "7     NaN     NaN     NaN     1.0     NaN            1.0   \n",
       "8     NaN     NaN     NaN     NaN     1.0            1.0   \n",
       "9     NaN     NaN     1.0     NaN     NaN            1.0   \n",
       "\n",
       "   Days btw Initial and Exit  Days btw I-IFSP to Exit ECO  \\\n",
       "0                      206.0                        183.0   \n",
       "1                      704.0                        514.0   \n",
       "2                      115.0                     -44483.0   \n",
       "3                     1053.0                       1026.0   \n",
       "4                      159.0                     -44434.0   \n",
       "5                      288.0                        175.0   \n",
       "6                      444.0                        348.0   \n",
       "7                      277.0                        228.0   \n",
       "8                      343.0                        163.0   \n",
       "9                      533.0                        345.0   \n",
       "\n",
       "   Days btw I-IFSP to entry ECO  \n",
       "0                           0.0  \n",
       "1                           0.0  \n",
       "2                      -44483.0  \n",
       "3                           0.0  \n",
       "4                      -44434.0  \n",
       "5                           0.0  \n",
       "6                          90.0  \n",
       "7                           0.0  \n",
       "8                           0.0  \n",
       "9                           0.0  \n",
       "\n",
       "[10 rows x 60 columns]"
      ]
     },
     "execution_count": 7,
     "metadata": {},
     "output_type": "execute_result"
    }
   ],
   "source": [
    "eco_df.head(10)"
   ]
  },
  {
   "cell_type": "code",
   "execution_count": 9,
   "id": "3074d8aa",
   "metadata": {},
   "outputs": [],
   "source": [
    "eco_df = eco_df[['DISTRICT', 'CHILD_ID', 'ECO_Entry_DATE', 'Ent SOCIAL_SCALE', 'Ent KNOWLEDGE_SCALE', 'Ent APPROPRIATE_ACTION_SCALE', 'ECO_Exit_DATE', 'Exit SOCIAL_SCALE', 'Exit KNOWLEDGE_SCALE', 'Exit APPROPRIATE_ACTION_SCALE', 'Days btw I-IFSP to Exit ECO']]"
   ]
  },
  {
   "cell_type": "code",
   "execution_count": 10,
   "id": "f2ca02ef",
   "metadata": {},
   "outputs": [],
   "source": [
    "eco_df = eco_df.rename(columns={'DISTRICT':'district',\n",
    "                                    'CHILD_ID':'child_id',\n",
    "                                    'ECO_Entry_DATE':'eco_entry_date',\n",
    "                                    'Ent SOCIAL_SCALE':'ent_social',\n",
    "                                    'Ent KNOWLEDGE_SCALE':'ent_knowledge',\n",
    "                                    'Ent APPROPRIATE_ACTION_SCALE':'ent_approp_action',\n",
    "                                    'ECO_Exit_DATE':'eco_exit_date',\n",
    "                                    'Exit SOCIAL_SCALE':'exit_social',\n",
    "                                    'Exit KNOWLEDGE_SCALE':'exit_knowledge',\n",
    "                                    'Exit APPROPRIATE_ACTION_SCALE':'exit_approp_action',\n",
    "                                    'Days btw I-IFSP to Exit ECO':'days_in_program'})"
   ]
  },
  {
   "cell_type": "markdown",
   "id": "2594382d",
   "metadata": {},
   "source": [
    "### columns that equal 4"
   ]
  },
  {
   "cell_type": "code",
   "execution_count": 19,
   "id": "fea91b82",
   "metadata": {},
   "outputs": [],
   "source": [
    "ent_social_4 = eco_df[eco_df['ent_social'] == 4.0]\n",
    "ent_knowledge_4 = eco_df[eco_df['ent_knowledge'] == 4.0]\n",
    "ent_approp_action_4 = eco_df[eco_df['ent_approp_action'] == 4.0]\n",
    "\n",
    "exit_social_4 = eco_df[eco_df['exit_social'] == 4.0]\n",
    "exit_knowledge_4 = eco_df[eco_df['ent_knowledge'] == 4.0]\n",
    "exit_approp_action_4 = eco_df[eco_df['exit_approp_action'] == 4.0]\n",
    "\n",
    "no_change_social_4 = eco_df[(eco_df['ent_social'] == 4) & (eco_df['exit_social'] == 4)]\n",
    "no_change_knowledge_4 = eco_df[(eco_df['ent_knowledge'] == 4) & (eco_df['exit_knowledge'] == 4)]\n",
    "no_change_approp_4 = eco_df[(eco_df['ent_approp_action'] == 4) & (eco_df['exit_approp_action'] == 4)]\n",
    "\n",
    "increase_social = eco_df[(eco_df['ent_social'] == 4) & (eco_df['exit_social'] > 4 )]\n",
    "increase_knowledge = eco_df[(eco_df['ent_knowledge'] == 4) & (eco_df['exit_knowledge'] > 4 )]\n",
    "increase_approp_action = eco_df[(eco_df['ent_approp_action'] == 4) & (eco_df['exit_approp_action'] > 4 )]\n",
    "\n",
    "decrease_social = eco_df[(eco_df['ent_social'] == 4) & (eco_df['exit_social'] < 4 )]\n",
    "decrease_knowledge = eco_df[(eco_df['ent_knowledge'] == 4) & (eco_df['exit_knowledge'] < 4 )]\n",
    "decrease_approp_action = eco_df[(eco_df['ent_approp_action'] == 4) & (eco_df['exit_approp_action'] < 4 )]"
   ]
  },
  {
   "cell_type": "markdown",
   "id": "c7c9231e",
   "metadata": {},
   "source": [
    "### Finding rows that have an overall average of 4 from each entry column, then exit column"
   ]
  },
  {
   "cell_type": "code",
   "execution_count": 22,
   "id": "921d65fd",
   "metadata": {},
   "outputs": [],
   "source": [
    "eco_df['overall_ent_average'] = eco_df[['ent_social', 'ent_knowledge', 'ent_approp_action']].mean(axis=1)\n",
    "ent_avg_4 = eco_df[eco_df['overall_ent_average'] == 4.0]"
   ]
  },
  {
   "cell_type": "code",
   "execution_count": 23,
   "id": "8e243a8e",
   "metadata": {},
   "outputs": [],
   "source": [
    "eco_df['overall_exit_average'] = eco_df[['exit_social', 'exit_knowledge', 'exit_approp_action']].mean(axis=1)\n",
    "exit_avg_4 = eco_df[eco_df['overall_exit_average'] == 4.0]"
   ]
  },
  {
   "cell_type": "markdown",
   "id": "aa31b582",
   "metadata": {},
   "source": [
    "### Average days in program for rows with overall average of 4 from entry, then exit columns"
   ]
  },
  {
   "cell_type": "code",
   "execution_count": 25,
   "id": "d505b0df",
   "metadata": {},
   "outputs": [],
   "source": [
    "ent_days_total_4 = ent_avg_4['days_in_program'].mean() \n",
    "exit_days_total_4 = exit_avg_4['days_in_program'].mean()"
   ]
  },
  {
   "cell_type": "markdown",
   "id": "08fb91cd",
   "metadata": {},
   "source": [
    "###### Kevin created the code for finding percentages"
   ]
  },
  {
   "cell_type": "markdown",
   "id": "ad325f8f",
   "metadata": {},
   "source": [
    "### Percentage of children with no change in score"
   ]
  },
  {
   "cell_type": "code",
   "execution_count": 31,
   "id": "ca997551",
   "metadata": {
    "scrolled": true
   },
   "outputs": [
    {
     "name": "stdout",
     "output_type": "stream",
     "text": [
      "14.339622641509434\n",
      "18.231441048034934\n",
      "22.284434490481523\n"
     ]
    }
   ],
   "source": [
    "print(no_change_social_4['ent_social'].count()/ent_social_4['ent_social'].count() *100)\n",
    "print(no_change_knowledge_4['ent_knowledge'].count()/ent_knowledge_4['ent_knowledge'].count() *100)\n",
    "print(no_change_approp_4['ent_approp_action'].count()/ent_approp_action_4['ent_approp_action'].count() *100)"
   ]
  },
  {
   "cell_type": "markdown",
   "id": "f8dca63c",
   "metadata": {},
   "source": [
    "### Percentage of children with an increase in score"
   ]
  },
  {
   "cell_type": "code",
   "execution_count": 33,
   "id": "ea9b4b43",
   "metadata": {},
   "outputs": [
    {
     "name": "stdout",
     "output_type": "stream",
     "text": [
      "74.90566037735849\n",
      "51.52838427947598\n",
      "60.806270996640535\n"
     ]
    }
   ],
   "source": [
    "print(increase_social['ent_social'].count()/ent_social_4['ent_social'].count() *100)\n",
    "print(increase_knowledge['ent_knowledge'].count()/ent_knowledge_4['ent_knowledge'].count() *100)\n",
    "print(increase_approp_action['ent_approp_action'].count()/ent_approp_action_4['ent_approp_action'].count() *100)"
   ]
  },
  {
   "cell_type": "markdown",
   "id": "6eb3bec8",
   "metadata": {},
   "source": [
    "### Percentage of children with a decrease in score"
   ]
  },
  {
   "cell_type": "code",
   "execution_count": 34,
   "id": "0a3eedba",
   "metadata": {},
   "outputs": [
    {
     "name": "stdout",
     "output_type": "stream",
     "text": [
      "10.754716981132075\n",
      "30.240174672489083\n",
      "16.90929451287794\n"
     ]
    }
   ],
   "source": [
    "print(decrease_social['ent_social'].count()/ent_social_4['ent_social'].count() *100)\n",
    "print(decrease_knowledge['ent_knowledge'].count()/ent_knowledge_4['ent_knowledge'].count() *100)\n",
    "print(decrease_approp_action['ent_approp_action'].count()/ent_approp_action_4['ent_approp_action'].count() *100)"
   ]
  },
  {
   "cell_type": "markdown",
   "id": "ee283965",
   "metadata": {},
   "source": [
    "### Average days in program with scores of 4 in entry, then exit columns"
   ]
  },
  {
   "cell_type": "code",
   "execution_count": 38,
   "id": "d27adb0e",
   "metadata": {},
   "outputs": [
    {
     "name": "stdout",
     "output_type": "stream",
     "text": [
      "350.85283018867926\n",
      "392.38318777292574\n",
      "346.3538633818589\n",
      "349.6294642857143\n",
      "392.38318777292574\n",
      "350.2584933530281\n"
     ]
    }
   ],
   "source": [
    "print(ent_social_4['days_in_program'].mean())\n",
    "print(ent_knowledge_4['days_in_program'].mean())\n",
    "print(ent_approp_action_4['days_in_program'].mean())\n",
    "\n",
    "print(exit_social_4['days_in_program'].mean())\n",
    "print(exit_knowledge_4['days_in_program'].mean())\n",
    "print(exit_approp_action_4['days_in_program'].mean())"
   ]
  },
  {
   "cell_type": "markdown",
   "id": "8af62959",
   "metadata": {},
   "source": [
    "### Children that had scores go from 4 to 1"
   ]
  },
  {
   "cell_type": "code",
   "execution_count": 41,
   "id": "192e4b7c",
   "metadata": {},
   "outputs": [],
   "source": [
    "social_to_1 = eco_df[(eco_df['ent_social'] == 4) & (eco_df['exit_social'] == 1 )]\n",
    "knowledge_to_1 = eco_df[(eco_df['ent_knowledge'] == 4) & (eco_df['exit_knowledge'] == 1 )]\n",
    "approp_to_1 = eco_df[(eco_df['ent_approp_action'] == 4) & (eco_df['exit_approp_action'] == 1 )]"
   ]
  },
  {
   "cell_type": "markdown",
   "id": "f0f5967e",
   "metadata": {},
   "source": [
    "### Children that had scores go from 4 to 2"
   ]
  },
  {
   "cell_type": "code",
   "execution_count": 42,
   "id": "c92014a0",
   "metadata": {},
   "outputs": [],
   "source": [
    "social_to_2 = eco_df[(eco_df['ent_social'] == 4) & (eco_df['exit_social'] == 2 )]\n",
    "knowledge_to_2 = eco_df[(eco_df['ent_knowledge'] == 4) & (eco_df['exit_knowledge'] == 2 )]\n",
    "approp_to_2 = eco_df[(eco_df['ent_approp_action'] == 4) & (eco_df['exit_approp_action'] == 2 )]"
   ]
  },
  {
   "cell_type": "markdown",
   "id": "6eefeaba",
   "metadata": {},
   "source": [
    "### Children that had scores go from 4 to 3"
   ]
  },
  {
   "cell_type": "code",
   "execution_count": 43,
   "id": "fbc08f32",
   "metadata": {},
   "outputs": [],
   "source": [
    "social_to_3 = eco_df[(eco_df['ent_social'] == 4) & (eco_df['exit_social'] == 3 )]\n",
    "knowledge_to_3 = eco_df[(eco_df['ent_knowledge'] == 4) & (eco_df['exit_knowledge'] == 3 )]\n",
    "approp_to_3 = eco_df[(eco_df['ent_approp_action'] == 4) & (eco_df['exit_approp_action'] == 3 )]"
   ]
  },
  {
   "cell_type": "markdown",
   "id": "0c71786a",
   "metadata": {},
   "source": [
    "### Children that had scores go from 4 to 5"
   ]
  },
  {
   "cell_type": "code",
   "execution_count": 44,
   "id": "51a19da6",
   "metadata": {},
   "outputs": [],
   "source": [
    "social_to_5 = eco_df[(eco_df['ent_social'] == 4) & (eco_df['exit_social'] == 5 )]\n",
    "knowledge_to_5 = eco_df[(eco_df['ent_knowledge'] == 4) & (eco_df['exit_knowledge'] == 5 )]\n",
    "approp_to_5 = eco_df[(eco_df['ent_approp_action'] == 4) & (eco_df['exit_approp_action'] == 5 )]"
   ]
  },
  {
   "cell_type": "markdown",
   "id": "6b3d5ef1",
   "metadata": {},
   "source": [
    "### Children that had scores go from 4 to 6"
   ]
  },
  {
   "cell_type": "code",
   "execution_count": 45,
   "id": "53a3144c",
   "metadata": {},
   "outputs": [],
   "source": [
    "social_to_6 = eco_df[(eco_df['ent_social'] == 4) & (eco_df['exit_social'] == 6 )]\n",
    "knowledge_to_6 = eco_df[(eco_df['ent_knowledge'] == 4) & (eco_df['exit_knowledge'] == 6 )]\n",
    "approp_to_6 = eco_df[(eco_df['ent_approp_action'] == 4) & (eco_df['exit_approp_action'] == 6 )]"
   ]
  },
  {
   "cell_type": "markdown",
   "id": "04c6fdf7",
   "metadata": {},
   "source": [
    "### Children that had scores go from 4 to 7"
   ]
  },
  {
   "cell_type": "code",
   "execution_count": 46,
   "id": "f015f0d9",
   "metadata": {},
   "outputs": [],
   "source": [
    "social_to_7 = eco_df[(eco_df['ent_social'] == 4) & (eco_df['exit_social'] == 7 )]\n",
    "knowledge_to_7 = eco_df[(eco_df['ent_knowledge'] == 4) & (eco_df['exit_knowledge'] == 7 )]\n",
    "approp_to_7 = eco_df[(eco_df['ent_approp_action'] == 4) & (eco_df['exit_approp_action'] == 7 )]"
   ]
  },
  {
   "cell_type": "markdown",
   "id": "526039a1",
   "metadata": {},
   "source": [
    "### Children with score of 4 by district "
   ]
  },
  {
   "cell_type": "markdown",
   "id": "caecf613",
   "metadata": {},
   "source": [
    "##### ET = East Tennessee "
   ]
  },
  {
   "cell_type": "code",
   "execution_count": 54,
   "id": "c8ee4035",
   "metadata": {},
   "outputs": [],
   "source": [
    "ET_social_4 = eco_df[(eco_df['ent_social'] == 4) & (eco_df['district'] == 'ET')]\n",
    "ET_knowledge_4 = eco_df[(eco_df['ent_knowledge'] == 4) & (eco_df['district'] == 'ET')]\n",
    "ET_approp_4 = eco_df[(eco_df['ent_approp_action'] == 4) & (eco_df['district'] == 'ET')]"
   ]
  },
  {
   "cell_type": "markdown",
   "id": "17bb3b9b",
   "metadata": {},
   "source": [
    "##### FT = First Tennessee"
   ]
  },
  {
   "cell_type": "code",
   "execution_count": 56,
   "id": "f11ad49a",
   "metadata": {},
   "outputs": [],
   "source": [
    "FT_social_4 = eco_df[(eco_df['ent_social'] == 4) & (eco_df['district'] == 'FT')]\n",
    "FT_knowledge_4 = eco_df[(eco_df['ent_knowledge'] == 4) & (eco_df['district'] == 'FT')]\n",
    "FT_approp_4 = eco_df[(eco_df['ent_approp_action'] == 4) & (eco_df['district'] == 'FT')]"
   ]
  },
  {
   "cell_type": "markdown",
   "id": "386cc708",
   "metadata": {},
   "source": [
    "##### GN = Greater Nashville"
   ]
  },
  {
   "cell_type": "code",
   "execution_count": 57,
   "id": "c3370ec6",
   "metadata": {},
   "outputs": [],
   "source": [
    "GN_social_4 = eco_df[(eco_df['ent_social'] == 4) & (eco_df['district'] == 'GN')]\n",
    "GN_knowledge_4 = eco_df[(eco_df['ent_knowledge'] == 4) & (eco_df['district'] == 'GN')]\n",
    "GN_approp_4 = eco_df[(eco_df['ent_approp_action'] == 4) & (eco_df['district'] == 'GN')]"
   ]
  },
  {
   "cell_type": "markdown",
   "id": "a08a9e9d",
   "metadata": {},
   "source": [
    "##### MD = Memphis Delta"
   ]
  },
  {
   "cell_type": "code",
   "execution_count": 58,
   "id": "b095e47f",
   "metadata": {},
   "outputs": [],
   "source": [
    "MD_social_4 = eco_df[(eco_df['ent_social'] == 4) & (eco_df['district'] == 'MD')]\n",
    "MD_knowledge_4 = eco_df[(eco_df['ent_knowledge'] == 4) & (eco_df['district'] == 'MD')]\n",
    "MD_approp_4 = eco_df[(eco_df['ent_approp_action'] == 4) & (eco_df['district'] == 'MD')]"
   ]
  },
  {
   "cell_type": "markdown",
   "id": "1b31a2ad",
   "metadata": {},
   "source": [
    "##### NW = Northwest"
   ]
  },
  {
   "cell_type": "code",
   "execution_count": 59,
   "id": "0edb5168",
   "metadata": {},
   "outputs": [],
   "source": [
    "NW_social_4 = eco_df[(eco_df['ent_social'] == 4) & (eco_df['district'] == 'NW')]\n",
    "NW_knowledge_4 = eco_df[(eco_df['ent_knowledge'] == 4) & (eco_df['district'] == 'NW')]\n",
    "NW_approp_4 = eco_df[(eco_df['ent_approp_action'] == 4) & (eco_df['district'] == 'NW')]"
   ]
  },
  {
   "cell_type": "markdown",
   "id": "0e8a869e",
   "metadata": {},
   "source": [
    "##### SC = South Central"
   ]
  },
  {
   "cell_type": "code",
   "execution_count": 60,
   "id": "91bddf4f",
   "metadata": {},
   "outputs": [],
   "source": [
    "SC_social_4 = eco_df[(eco_df['ent_social'] == 4) & (eco_df['district'] == 'SC')]\n",
    "SC_knowledge_4 = eco_df[(eco_df['ent_knowledge'] == 4) & (eco_df['district'] == 'SC')]\n",
    "SC_approp_4 = eco_df[(eco_df['ent_approp_action'] == 4) & (eco_df['district'] == 'SC')]"
   ]
  },
  {
   "cell_type": "markdown",
   "id": "7b80137a",
   "metadata": {},
   "source": [
    "##### SE = Southeast"
   ]
  },
  {
   "cell_type": "code",
   "execution_count": 61,
   "id": "91a2fe9d",
   "metadata": {},
   "outputs": [],
   "source": [
    "SE_social_4 = eco_df[(eco_df['ent_social'] == 4) & (eco_df['district'] == 'SE')]\n",
    "SE_knowledge_4 = eco_df[(eco_df['ent_knowledge'] == 4) & (eco_df['district'] == 'SE')]\n",
    "SE_approp_4 = eco_df[(eco_df['ent_approp_action'] == 4) & (eco_df['district'] == 'SE')]"
   ]
  },
  {
   "cell_type": "markdown",
   "id": "c24a5931",
   "metadata": {},
   "source": [
    "##### SW = Southwest"
   ]
  },
  {
   "cell_type": "code",
   "execution_count": 62,
   "id": "dbe93e42",
   "metadata": {},
   "outputs": [],
   "source": [
    "SW_social_4 = eco_df[(eco_df['ent_social'] == 4) & (eco_df['district'] == 'SW')]\n",
    "SW_knowledge_4 = eco_df[(eco_df['ent_knowledge'] == 4) & (eco_df['district'] == 'SW')]\n",
    "SW_approp_4 = eco_df[(eco_df['ent_approp_action'] == 4) & (eco_df['district'] == 'SW')]"
   ]
  },
  {
   "cell_type": "markdown",
   "id": "4ec0ddbc",
   "metadata": {},
   "source": [
    "##### UC = Upper Cumberland"
   ]
  },
  {
   "cell_type": "code",
   "execution_count": 63,
   "id": "8be64365",
   "metadata": {},
   "outputs": [],
   "source": [
    "UC_social_4 = eco_df[(eco_df['ent_social'] == 4) & (eco_df['district'] == 'UC')]\n",
    "UC_knowledge_4 = eco_df[(eco_df['ent_knowledge'] == 4) & (eco_df['district'] == 'UC')]\n",
    "UC_approp_4 = eco_df[(eco_df['ent_approp_action'] == 4) & (eco_df['district'] == 'UC')]"
   ]
  },
  {
   "cell_type": "markdown",
   "id": "da02197e",
   "metadata": {},
   "source": [
    "# Next, look at how to tie in visuals. Do you need to create a dataframe from the information in the above code? ie., seeing how many children increased and decreased or didn't change, putting that into a new dataframe and creating a chart. Same with percentages and district. "
   ]
  }
 ],
 "metadata": {
  "kernelspec": {
   "display_name": "Python 3 (ipykernel)",
   "language": "python",
   "name": "python3"
  },
  "language_info": {
   "codemirror_mode": {
    "name": "ipython",
    "version": 3
   },
   "file_extension": ".py",
   "mimetype": "text/x-python",
   "name": "python",
   "nbconvert_exporter": "python",
   "pygments_lexer": "ipython3",
   "version": "3.9.12"
  }
 },
 "nbformat": 4,
 "nbformat_minor": 5
}
