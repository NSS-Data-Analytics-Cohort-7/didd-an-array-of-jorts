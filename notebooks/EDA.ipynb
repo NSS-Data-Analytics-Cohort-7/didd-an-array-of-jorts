{
 "cells": [
  {
   "cell_type": "code",
   "execution_count": 2,
   "id": "729283be",
   "metadata": {},
   "outputs": [],
   "source": [
    "import pandas as pd"
   ]
  },
  {
   "cell_type": "code",
   "execution_count": 3,
   "id": "01ca14dd",
   "metadata": {},
   "outputs": [],
   "source": [
    "import matplotlib.pyplot as plt"
   ]
  },
  {
   "cell_type": "code",
   "execution_count": 4,
   "id": "8eaea649",
   "metadata": {},
   "outputs": [],
   "source": [
    "import seaborn as sns"
   ]
  },
  {
   "cell_type": "code",
   "execution_count": 7,
   "id": "333a4f6e",
   "metadata": {},
   "outputs": [],
   "source": [
    "didd_df = pd.read_excel(\"../data/project_data.xlsx\", sheet_name=['ECO with Exit21-22', 'Elig Timeline Rpt 2018-2022'])"
   ]
  },
  {
   "cell_type": "code",
   "execution_count": null,
   "id": "ba958d30",
   "metadata": {},
   "outputs": [],
   "source": []
  }
 ],
 "metadata": {
  "kernelspec": {
   "display_name": "Python 3 (ipykernel)",
   "language": "python",
   "name": "python3"
  },
  "language_info": {
   "codemirror_mode": {
    "name": "ipython",
    "version": 3
   },
   "file_extension": ".py",
   "mimetype": "text/x-python",
   "name": "python",
   "nbconvert_exporter": "python",
   "pygments_lexer": "ipython3",
   "version": "3.9.12"
  }
 },
 "nbformat": 4,
 "nbformat_minor": 5
}
