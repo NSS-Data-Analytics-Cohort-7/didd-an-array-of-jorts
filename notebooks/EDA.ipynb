{
 "cells": [
  {
   "cell_type": "markdown",
   "id": "8509623e",
   "metadata": {},
   "source": [
    "importing packages"
   ]
  },
  {
   "cell_type": "code",
   "execution_count": null,
   "id": "5348fe60",
   "metadata": {},
   "outputs": [],
   "source": [
    "import pandas as pd\n",
    "import numpy as np\n",
    "import matplotlib.pyplot as plt\n",
    "import seaborn as sns \n",
    "%matplotlib inline"
   ]
  },
  {
   "cell_type": "code",
   "execution_count": null,
   "id": "c647bf09",
   "metadata": {},
   "outputs": [],
   "source": [
    "didd_df = pd.read_excel(\"../data/project_data.xlsx\", sheet_name=['ECO with Exit21-22', 'Elig Timeline Rpt 2018-2022'])"
   ]
  },
  {
   "cell_type": "code",
   "execution_count": null,
   "id": "3774937c",
   "metadata": {},
   "outputs": [],
   "source": [
    "eco_exit = didd_df.get('ECO with Exit21-22')\n",
    "elig_timeline = didd_df.get('Elig Timeline Rpt 2018-2022')"
   ]
  },
  {
   "cell_type": "code",
   "execution_count": null,
   "id": "6822e423",
   "metadata": {},
   "outputs": [],
   "source": [
    "print(eco_exit)\n",
    "print(elig_timeline)"
   ]
  },
  {
   "cell_type": "markdown",
   "id": "5f7f4068",
   "metadata": {},
   "source": [
    "finding out shapes of data sheets"
   ]
  },
  {
   "cell_type": "code",
   "execution_count": null,
   "id": "1560a81a",
   "metadata": {},
   "outputs": [],
   "source": [
    "eco_exit.shape"
   ]
  },
  {
   "cell_type": "code",
   "execution_count": null,
   "id": "5b5f9e29",
   "metadata": {},
   "outputs": [],
   "source": [
    "elig_timeline.shape"
   ]
  },
  {
   "cell_type": "markdown",
   "id": "b26300da",
   "metadata": {},
   "source": [
    "datatypes of sheets"
   ]
  },
  {
   "cell_type": "code",
   "execution_count": null,
   "id": "39ba18ef",
   "metadata": {},
   "outputs": [],
   "source": [
    "eco_exit.dtypes"
   ]
  },
  {
   "cell_type": "code",
   "execution_count": null,
   "id": "9fc918e2",
   "metadata": {},
   "outputs": [],
   "source": [
    "elig_timeline.dtypes"
   ]
  },
  {
   "cell_type": "markdown",
   "id": "51ffcfe9",
   "metadata": {},
   "source": [
    "first 10 rows of sheets"
   ]
  },
  {
   "cell_type": "code",
   "execution_count": null,
   "id": "ac4f871c",
   "metadata": {},
   "outputs": [],
   "source": [
    "eco_exit.head(10)"
   ]
  },
  {
   "cell_type": "code",
   "execution_count": null,
   "id": "69988f5b",
   "metadata": {},
   "outputs": [],
   "source": [
    "elig_timeline.head(10)"
   ]
  },
  {
   "cell_type": "markdown",
   "id": "9578d9aa",
   "metadata": {},
   "source": [
    "last 10 rows of sheets"
   ]
  },
  {
   "cell_type": "code",
   "execution_count": null,
   "id": "62bc74be",
   "metadata": {},
   "outputs": [],
   "source": [
    "eco_exit.tail(10)"
   ]
  },
  {
   "cell_type": "code",
   "execution_count": null,
   "id": "254e74ae",
   "metadata": {},
   "outputs": [],
   "source": [
    "elig_timeline.tail(10)"
   ]
  },
  {
   "cell_type": "markdown",
   "id": "f17c7a7e",
   "metadata": {},
   "source": [
    "splitting elig_timeline into 3 distinct dataframes based on condition listed in 'Init. Elig. Category' column"
   ]
  },
  {
   "cell_type": "markdown",
   "id": "0bfe7aa7",
   "metadata": {},
   "source": [
    "Diagnosed Condition"
   ]
  },
  {
   "cell_type": "code",
   "execution_count": null,
   "id": "95a9da5e",
   "metadata": {},
   "outputs": [],
   "source": [
    "dcdf = elig_timeline[elig_timeline['Init. Elig. Category']=='Diagnosed Condition']"
   ]
  },
  {
   "cell_type": "markdown",
   "id": "5d95632f",
   "metadata": {},
   "source": [
    "Developmental Evaluation"
   ]
  },
  {
   "cell_type": "code",
   "execution_count": null,
   "id": "07fb72b1",
   "metadata": {},
   "outputs": [],
   "source": [
    "dedf = elig_timeline[elig_timeline['Init. Elig. Category']=='Developmental Evaluation']"
   ]
  },
  {
   "cell_type": "markdown",
   "id": "7f177267",
   "metadata": {},
   "source": [
    "Both Diagnosed Condition and Developmental Evaluation"
   ]
  },
  {
   "cell_type": "code",
   "execution_count": null,
   "id": "489af716",
   "metadata": {},
   "outputs": [],
   "source": [
    "bothdf = elig_timeline[elig_timeline['Init. Elig. Category']=='Diagnosed Condition, Developmental Evaluation']"
   ]
  },
  {
   "cell_type": "code",
   "execution_count": null,
   "id": "0aaf2710",
   "metadata": {},
   "outputs": [],
   "source": [
    "eco_exit.DISTRICT.unique()"
   ]
  },
  {
   "cell_type": "markdown",
   "id": "edf79ee1",
   "metadata": {},
   "source": [
    "subsetting eco_exit into dataframes based off unique value in DISTRICT column"
   ]
  },
  {
   "cell_type": "markdown",
   "id": "c461b164",
   "metadata": {},
   "source": [
    "ET - East Tennessee"
   ]
  },
  {
   "cell_type": "code",
   "execution_count": null,
   "id": "ff5f9596",
   "metadata": {},
   "outputs": [],
   "source": [
    "etdf = eco_exit[eco_exit['DISTRICT']=='ET']"
   ]
  },
  {
   "cell_type": "markdown",
   "id": "2a86abf6",
   "metadata": {},
   "source": [
    "FT = First Tennessee"
   ]
  },
  {
   "cell_type": "code",
   "execution_count": null,
   "id": "13d997db",
   "metadata": {},
   "outputs": [],
   "source": [
    "ftdf = eco_exit[eco_exit['DISTRICT']=='FT']"
   ]
  },
  {
   "cell_type": "markdown",
   "id": "066fc2d0",
   "metadata": {},
   "source": [
    "GN = Greater Nashville"
   ]
  },
  {
   "cell_type": "code",
   "execution_count": null,
   "id": "daaa9422",
   "metadata": {},
   "outputs": [],
   "source": [
    "gndf = eco_exit[eco_exit['DISTRICT']=='GN']"
   ]
  },
  {
   "cell_type": "markdown",
   "id": "dc567584",
   "metadata": {},
   "source": [
    "MD = Memphis Delta"
   ]
  },
  {
   "cell_type": "code",
   "execution_count": null,
   "id": "fc768ad4",
   "metadata": {},
   "outputs": [],
   "source": [
    "mddf = eco_exit[eco_exit['DISTRICT']=='MD']"
   ]
  },
  {
   "cell_type": "code",
   "execution_count": null,
   "id": "4ddf26ee",
   "metadata": {},
   "outputs": [],
   "source": []
  }
 ],
 "metadata": {
  "kernelspec": {
   "display_name": "Python 3 (ipykernel)",
   "language": "python",
   "name": "python3"
  },
  "language_info": {
   "codemirror_mode": {
    "name": "ipython",
    "version": 3
   },
   "file_extension": ".py",
   "mimetype": "text/x-python",
   "name": "python",
   "nbconvert_exporter": "python",
   "pygments_lexer": "ipython3",
   "version": "3.9.12"
  }
 },
 "nbformat": 4,
 "nbformat_minor": 5
}
