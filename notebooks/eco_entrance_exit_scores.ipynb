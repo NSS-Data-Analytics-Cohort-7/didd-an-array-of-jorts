{
 "cells": [
  {
   "cell_type": "code",
   "execution_count": null,
   "id": "60a70c59",
   "metadata": {},
   "outputs": [],
   "source": [
    "import pandas as pd\n",
    "import numpy as np\n",
    "import matplotlib.pyplot as plt\n",
    "import seaborn as sns\n",
    "\n",
    "%matplotlib inline"
   ]
  },
  {
   "cell_type": "code",
   "execution_count": null,
   "id": "32f662d3",
   "metadata": {},
   "outputs": [],
   "source": [
    "##import worksheets\n",
    "\n",
    "project_data = pd.read_excel('../data/TEIS-NSS Project Data 10-2022.xlsx', \n",
    "                             sheet_name=['ECO with Exit21-22', 'Elig Timeline Rpt 2018-2022'])\n",
    "\n",
    "eco_exit = project_data.get('ECO with Exit21-22')\n",
    "elig_timeline = project_data.get('Elig Timeline Rpt 2018-2022')\n"
   ]
  },
  {
   "cell_type": "code",
   "execution_count": null,
   "id": "e25936ec",
   "metadata": {},
   "outputs": [],
   "source": [
    "eco_exit = eco_exit[['DISTRICT', 'CHILD_ID', 'ECO_Entry_DATE', 'Ent SOCIAL_SCALE', 'Ent KNOWLEDGE_SCALE', 'Ent APPROPRIATE_ACTION_SCALE', 'ECO_Exit_DATE', 'Exit SOCIAL_SCALE', 'Exit KNOWLEDGE_SCALE', 'Exit APPROPRIATE_ACTION_SCALE', 'Days btw I-IFSP to Exit ECO']]\n",
    "eco_exit"
   ]
  },
  {
   "cell_type": "code",
   "execution_count": null,
   "id": "be5d4f85",
   "metadata": {},
   "outputs": [],
   "source": [
    "##rename columns\n",
    "eco_exit = eco_exit.rename(columns={'DISTRICT':'district',\n",
    "                                    'CHILD_ID':'child_id',\n",
    "                                    'ECO_Entry_DATE':'eco_entry_date',\n",
    "                                    'Ent SOCIAL_SCALE':'ent_social',\n",
    "                                    'Ent KNOWLEDGE_SCALE':'ent_knowledge',\n",
    "                                    'Ent APPROPRIATE_ACTION_SCALE':'ent_approp_action',\n",
    "                                    'ECO_Exit_DATE':'eco_exit_date',\n",
    "                                    'Exit SOCIAL_SCALE':'exit_social',\n",
    "                                    'Exit KNOWLEDGE_SCALE':'exit_knowledge',\n",
    "                                    'Exit APPROPRIATE_ACTION_SCALE':'exit_approp_action',\n",
    "                                    'Days btw I-IFSP to Exit ECO': 'days_in_program'})"
   ]
  },
  {
   "cell_type": "code",
   "execution_count": null,
   "id": "9cb5ca54",
   "metadata": {
    "scrolled": false
   },
   "outputs": [],
   "source": [
    "##drop NaN\n",
    "eco_exit = eco_exit.dropna(axis=0)\n",
    "eco_exit"
   ]
  },
  {
   "cell_type": "code",
   "execution_count": null,
   "id": "21179200",
   "metadata": {},
   "outputs": [],
   "source": [
    "##consolidated to 3 separate DFs. One for each category to average among the 1s in each\n",
    "\n",
    "soc1 = eco_exit[eco_exit['ent_social'] == 1.0]\n",
    "knowl1 = eco_exit[eco_exit['ent_knowledge'] == 1.0]\n",
    "aa1 = eco_exit[eco_exit['ent_approp_action'] == 1.0]\n",
    "\n",
    "##DFs for each category that showed no improvement\n",
    "samesoc = soc1[soc1['exit_social'] == 1]\n",
    "sameknowl = knowl1[knowl1['exit_knowledge'] == 1]\n",
    "sameaa = aa1[aa1['exit_approp_action'] == 1]\n",
    "\n",
    "##DFs for each category that improved\n",
    "impsoc  = soc1[soc1['exit_social'] > 1]\n",
    "impknowl= knowl1[knowl1['exit_knowledge'] > 1]\n",
    "impaa  = aa1[aa1['exit_approp_action'] > 1]"
   ]
  },
  {
   "cell_type": "code",
   "execution_count": null,
   "id": "e396a4b6",
   "metadata": {},
   "outputs": [],
   "source": [
    "print('percent that stayed the same')\n",
    "print(len(samesoc)/len(soc1)*100)\n",
    "print(len(sameknowl)/len(knowl1)*100)\n",
    "print(len(sameaa)/len(aa1)*100)\n",
    "print(' ')\n",
    "print('percent that improved')\n",
    "print(len(impsoc)/len(soc1)*100)\n",
    "print(len(impknowl)/len(knowl1)*100)\n",
    "print(len(impaa)/len(aa1)*100)"
   ]
  },
  {
   "cell_type": "code",
   "execution_count": null,
   "id": "9d06362a",
   "metadata": {},
   "outputs": [],
   "source": [
    "samesoc['days_in_program'].mean()"
   ]
  },
  {
   "cell_type": "code",
   "execution_count": null,
   "id": "81f1ff00",
   "metadata": {},
   "outputs": [],
   "source": [
    "sameknowl['days_in_program'].mean()"
   ]
  },
  {
   "cell_type": "code",
   "execution_count": null,
   "id": "7be38bf6",
   "metadata": {},
   "outputs": [],
   "source": [
    "sameaa['days_in_program'].mean()"
   ]
  },
  {
   "cell_type": "code",
   "execution_count": null,
   "id": "15650f50",
   "metadata": {},
   "outputs": [],
   "source": [
    "impsoc['days_in_program'].mean()"
   ]
  },
  {
   "cell_type": "code",
   "execution_count": null,
   "id": "c8923c8e",
   "metadata": {},
   "outputs": [],
   "source": [
    "impknowl['days_in_program'].mean()"
   ]
  },
  {
   "cell_type": "code",
   "execution_count": null,
   "id": "f3ae0e43",
   "metadata": {},
   "outputs": [],
   "source": [
    "impaa['days_in_program'].mean()"
   ]
  },
  {
   "cell_type": "code",
   "execution_count": null,
   "id": "11ee71d0",
   "metadata": {},
   "outputs": [],
   "source": [
    "eco_exit['days_in_program'].mean()"
   ]
  },
  {
   "cell_type": "code",
   "execution_count": null,
   "id": "f9de5509",
   "metadata": {},
   "outputs": [],
   "source": [
    "eco_exit['district'].unique()"
   ]
  },
  {
   "cell_type": "code",
   "execution_count": null,
   "id": "ba79ea4d",
   "metadata": {},
   "outputs": [],
   "source": [
    "eco_et = eco_exit.loc[eco_exit['district']=='ET']\n",
    "eco_ft = eco_exit.loc[eco_exit['district']=='FT']\n",
    "eco_gn = eco_exit.loc[eco_exit['district']=='GN']\n",
    "eco_md = eco_exit.loc[eco_exit['district']=='MD']\n",
    "eco_nw = eco_exit.loc[eco_exit['district']=='NW']\n",
    "eco_sc = eco_exit.loc[eco_exit['district']=='SC']\n",
    "eco_se = eco_exit.loc[eco_exit['district']=='SE']\n",
    "eco_sw = eco_exit.loc[eco_exit['district']=='SW']\n",
    "eco_uc = eco_exit.loc[eco_exit['district']=='UC']"
   ]
  },
  {
   "cell_type": "code",
   "execution_count": null,
   "id": "409bc8bb",
   "metadata": {},
   "outputs": [],
   "source": [
    "eco_et['days_in_program'].median()"
   ]
  },
  {
   "cell_type": "code",
   "execution_count": null,
   "id": "4a619150",
   "metadata": {},
   "outputs": [],
   "source": [
    "eco_ft['days_in_program'].median()"
   ]
  },
  {
   "cell_type": "code",
   "execution_count": null,
   "id": "632f4e63",
   "metadata": {},
   "outputs": [],
   "source": [
    "eco_gn['days_in_program'].median()"
   ]
  },
  {
   "cell_type": "code",
   "execution_count": null,
   "id": "5748c975",
   "metadata": {},
   "outputs": [],
   "source": [
    "eco_md['days_in_program'].median()"
   ]
  },
  {
   "cell_type": "code",
   "execution_count": null,
   "id": "b5451e19",
   "metadata": {},
   "outputs": [],
   "source": [
    "eco_nw['days_in_program'].median()"
   ]
  },
  {
   "cell_type": "code",
   "execution_count": null,
   "id": "441bb4a8",
   "metadata": {},
   "outputs": [],
   "source": [
    "eco_sc['days_in_program'].median()"
   ]
  },
  {
   "cell_type": "code",
   "execution_count": null,
   "id": "35a1f468",
   "metadata": {},
   "outputs": [],
   "source": [
    "eco_se['days_in_program'].median()"
   ]
  },
  {
   "cell_type": "code",
   "execution_count": null,
   "id": "f4a0ea32",
   "metadata": {},
   "outputs": [],
   "source": [
    "eco_sw['days_in_program'].median()"
   ]
  },
  {
   "cell_type": "code",
   "execution_count": null,
   "id": "37dc43f6",
   "metadata": {},
   "outputs": [],
   "source": [
    "eco_uc['days_in_program'].median()"
   ]
  },
  {
   "cell_type": "code",
   "execution_count": null,
   "id": "f317c152",
   "metadata": {},
   "outputs": [],
   "source": [
    "entry= pd.DataFrame(columns=['point_of_entry', 'avg_days_of_service'])\n",
    "col1 = ['ET', 'FT', 'GN', 'MD', 'NW', 'SC', 'SE', 'SW', 'UC']\n",
    "col2 = [352, 347,339,349,351,322,344,347,351]\n",
    "\n",
    "entry['point_of_entry'] = col1\n",
    "entry['avg_days_of_service'] = col2\n",
    "\n",
    "\n"
   ]
  },
  {
   "cell_type": "code",
   "execution_count": null,
   "id": "5edc085f",
   "metadata": {},
   "outputs": [],
   "source": [
    "eco_exit"
   ]
  },
  {
   "cell_type": "code",
   "execution_count": null,
   "id": "e3060c7f",
   "metadata": {},
   "outputs": [],
   "source": [
    "eco_et['ent_social'].mean()"
   ]
  },
  {
   "cell_type": "code",
   "execution_count": null,
   "id": "1107a5bb",
   "metadata": {},
   "outputs": [],
   "source": [
    "#social scale increase df\n",
    "ssin = pd.DataFrame()\n",
    "\n",
    "ssin =pd.DataFrame(columns=[\"entry_score\", \"pct_of_children_improved\", \"time_in_program\"])\n",
    "\n",
    "list1 = [1,2,3,4,5,6]\n",
    "list2 = [57.9,77.2,71.6,75.0,71.14,60.0]\n",
    "list3 = [364,490,357,345,335,194] \n",
    "\n",
    "ssin['entry_score'] = list1\n",
    "ssin['pct_of_children_improved'] = list2\n",
    "ssin['time_in_program'] = list3\n",
    "\n",
    "print(ssin)"
   ]
  },
  {
   "cell_type": "code",
   "execution_count": null,
   "id": "b95824aa",
   "metadata": {},
   "outputs": [],
   "source": [
    "#knowledge scale increase df\n",
    "ksin = pd.DataFrame()\n",
    "\n",
    "ksin =pd.DataFrame(columns=[\"entry_score\", \"pct_of_children_improved\", \"time_in_program\"])\n",
    "\n",
    "list1a = [1,2,3,4,5,6]\n",
    "list2a = [52.1,50.5,41.3,52.0,49.2,53.0]\n",
    "list3a = [480,335,336,348,353,338]\n",
    "\n",
    "ksin['entry_score'] = list1a\n",
    "ksin['pct_of_children_improved'] = list2a\n",
    "ksin['time_in_program'] = list3a\n",
    "\n",
    "print(ksin)"
   ]
  },
  {
   "cell_type": "code",
   "execution_count": null,
   "id": "b06496b5",
   "metadata": {},
   "outputs": [],
   "source": [
    "#appropriate action scale increase df\n",
    "aasin = pd.DataFrame()\n",
    "\n",
    "aasin =pd.DataFrame(columns=[\"entry_score\", \"pct_of_children_improved\", \"time_in_program\"])\n",
    "\n",
    "list1b = [1,2,3,4,5,6]\n",
    "list2b = [67.6,74.2,66.9,61.0,64.0,56.0]\n",
    "list3b = [693,523,352,342,335,201] # need to update value 3\n",
    "\n",
    "aasin['entry_score'] = list1b\n",
    "aasin['pct_of_children_improved'] = list2b\n",
    "aasin['time_in_program'] = list3b\n",
    "\n",
    "print(aasin)"
   ]
  },
  {
   "cell_type": "code",
   "execution_count": null,
   "id": "08592774",
   "metadata": {},
   "outputs": [],
   "source": [
    "#social scale no change df\n",
    "ssnc = pd.DataFrame()\n",
    "\n",
    "ssnc =pd.DataFrame(columns=[\"entry_score\", \"pct_of_children_nochange\", \"time_in_program\"])\n",
    "\n",
    "list1c = [1,2,3,4,5,6,7]\n",
    "list2c = [42.1,14.5,19.8,14.0,21.9,34.0,88.4]\n",
    "list3c = [317,227,183,189,182,182,188]\n",
    "\n",
    "ssnc['entry_score'] = list1c\n",
    "ssnc['pct_of_children_nochange'] = list2c\n",
    "ssnc['time_in_program'] = list3c\n",
    "\n",
    "print(ssnc)"
   ]
  },
  {
   "cell_type": "code",
   "execution_count": null,
   "id": "d1524300",
   "metadata": {},
   "outputs": [],
   "source": [
    "#knowledge scale no change df\n",
    "ksnc = pd.DataFrame()\n",
    "\n",
    "ksnc =pd.DataFrame(columns=[\"entry_score\", \"pct_of_children_nochange\", \"time_in_program\"])\n",
    "\n",
    "list1d = [1,2,3,4,5,6,7]\n",
    "list2d = [47.9,17.5,31.7,18.0,21.8,27.0,85.0]\n",
    "list3d = [196,180,186,234,325,189,186]\n",
    "\n",
    "ksnc['entry_score'] = list1d\n",
    "ksnc['pct_of_children_nochange'] = list2d\n",
    "ksnc['time_in_program'] = list3d\n",
    "\n",
    "print(ksnc)"
   ]
  },
  {
   "cell_type": "code",
   "execution_count": null,
   "id": "e43250c9",
   "metadata": {},
   "outputs": [],
   "source": [
    "#appropriate action scale no change df\n",
    "aasnc = pd.DataFrame()\n",
    "\n",
    "aasnc = pd.DataFrame(columns=[\"entry_score\", \"pct_of_children_nochange\", \"time_in_program\"])\n",
    "\n",
    "list1e = [1,2,3,4,5,6,7]\n",
    "list2e = [32.4,14.4,19.8,22,13.6,27,85.3]\n",
    "list3e = [362,185,203,184,184,183,250]\n",
    "\n",
    "aasnc['entry_score'] = list1e\n",
    "aasnc['pct_of_children_nochange'] = list2e\n",
    "aasnc['time_in_program'] = list3e\n",
    "\n",
    "print(aasnc)"
   ]
  },
  {
   "cell_type": "code",
   "execution_count": null,
   "id": "eef49b94",
   "metadata": {},
   "outputs": [],
   "source": [
    "#social scale decrease df\n",
    "ssde = pd.DataFrame()\n",
    "\n",
    "ssde =pd.DataFrame(columns=[\"entry_score\", \"pct_of_children_decrease\", \"time_in_program\"])\n",
    "\n",
    "list1f = [2,3,4,5,6,7]\n",
    "list2f = [8.4,8.6,11.0,6.9,6.0,11.6] # need to update value 2\n",
    "list3f = [389,352,351,325,319,200] # need to update value 2\n",
    "\n",
    "ssde['entry_score'] = list1f\n",
    "ssde['pct_of_children_decrease'] = list2f\n",
    "ssde['time_in_program'] = list3f\n",
    "\n",
    "print(ssde)"
   ]
  },
  {
   "cell_type": "code",
   "execution_count": null,
   "id": "dbfbf0ae",
   "metadata": {},
   "outputs": [],
   "source": [
    "#knowledge scale decrease df\n",
    "ksde = pd.DataFrame()\n",
    "\n",
    "ksde =pd.DataFrame(columns=[\"entry_score\", \"pct_of_children_decrease\", \"time_in_program\"])\n",
    "\n",
    "list1g = [2,3,4,5,6,7]\n",
    "list2g = [32.1,27.0,30.0,29.0,21.0,14.8]\n",
    "list3g = [349,357,364,501,357,350]\n",
    "\n",
    "ksde['entry_score'] = list1g\n",
    "ksde['pct_of_children_decrease'] = list2g\n",
    "ksde['time_in_program'] = list3g\n",
    "\n",
    "print(ksde)"
   ]
  },
  {
   "cell_type": "code",
   "execution_count": null,
   "id": "2ffd0bc1",
   "metadata": {},
   "outputs": [],
   "source": [
    "#appropriate action scale decrease df\n",
    "aasde = pd.DataFrame()\n",
    "\n",
    "aasde =pd.DataFrame(columns=[\"entry_score\", \"pct_of_children_decrease\", \"time_in_program\"])\n",
    "\n",
    "list1h = [2,3,4,5,6,7]\n",
    "list2h = [11.4,13.3,17.0,22.4,17.0,14.7]\n",
    "list3h = [425,348,337,343,340,349]\n",
    "\n",
    "aasde['entry_score'] = list1h\n",
    "aasde['pct_of_children_decrease'] = list2h\n",
    "aasde['time_in_program'] = list3h\n",
    "\n",
    "print(aasde)"
   ]
  },
  {
   "cell_type": "code",
   "execution_count": null,
   "id": "c72f03ff",
   "metadata": {},
   "outputs": [],
   "source": [
    "\n",
    "ssingraph = ssin.plot(x = 'entry_score',\n",
    "                      y = 'time_in_program',\n",
    "                      title = '*******',\n",
    "                      xlabel = 'Entry Score',\n",
    "                      ylabel = 'Days in Program',\n",
    "                      kind = 'bar',)\n",
    "\n",
    "ssingraph.get_legend ().remove ()"
   ]
  },
  {
   "cell_type": "code",
   "execution_count": null,
   "id": "d617da8d",
   "metadata": {},
   "outputs": [],
   "source": [
    "ksingraph = ksin.plot(x = 'entry_score',\n",
    "                      y = 'time_in_program',\n",
    "                      title = '******',\n",
    "                      xlabel = 'Entry Score',\n",
    "                      ylabel = 'Days in Program',\n",
    "                      kind = 'bar')\n",
    "\n",
    "ksingraph.get_legend ().remove ()"
   ]
  },
  {
   "cell_type": "code",
   "execution_count": null,
   "id": "905a6b41",
   "metadata": {},
   "outputs": [],
   "source": [
    "aasingraph = aasin.plot(x = 'entry_score',\n",
    "                        y = 'time_in_program',\n",
    "                        title = '******',\n",
    "                        xlabel = 'Entry Score',\n",
    "                        ylabel = 'Days in Program',\n",
    "                        kind = 'bar')\n",
    "\n",
    "aasingraph.get_legend ().remove ()"
   ]
  },
  {
   "cell_type": "code",
   "execution_count": null,
   "id": "1d198202",
   "metadata": {},
   "outputs": [],
   "source": [
    "ssingrapha = ssin.plot(x = 'entry_score',\n",
    "                      y = 'pct_of_children_improved',\n",
    "                      xlabel = 'Entry Score',\n",
    "                      ylabel = 'Children Showing Improvement [%]',\n",
    "                      kind = 'bar')\n",
    "\n",
    "ssingrapha.get_legend ().remove ()"
   ]
  },
  {
   "cell_type": "code",
   "execution_count": null,
   "id": "8f84a3b2",
   "metadata": {},
   "outputs": [],
   "source": [
    "ksingrapha = ksin.plot(x = 'entry_score',\n",
    "                      y = 'pct_of_children_improved',\n",
    "                      xlabel = 'Entry Score',\n",
    "                      ylabel = 'Children Showing Improvement [%]',\n",
    "                      kind = 'bar')\n",
    "\n",
    "ksingrapha.get_legend ().remove ()"
   ]
  },
  {
   "cell_type": "code",
   "execution_count": null,
   "id": "fd0a3d79",
   "metadata": {},
   "outputs": [],
   "source": [
    "aasingrapha = aasin.plot(x = 'entry_score',\n",
    "                      y = 'pct_of_children_improved',\n",
    "                      xlabel = 'Entry Score',\n",
    "                      ylabel = 'Children Showing Improvement [%]',\n",
    "                      kind = 'bar')\n",
    "\n",
    "aasingrapha.get_legend ().remove ()"
   ]
  },
  {
   "cell_type": "code",
   "execution_count": null,
   "id": "c2654daa",
   "metadata": {},
   "outputs": [],
   "source": [
    "ssncgraph = ssnc.plot(x = 'entry_score',\n",
    "                      y = 'time_in_program',\n",
    "                      title = '*******',\n",
    "                      xlabel = 'Entry Score',\n",
    "                      ylabel = 'Days in Program',\n",
    "                      kind = 'bar',)\n",
    "\n",
    "ssncgraph.get_legend ().remove ()"
   ]
  },
  {
   "cell_type": "code",
   "execution_count": null,
   "id": "1695840b",
   "metadata": {},
   "outputs": [],
   "source": [
    "ksncgraph = ksnc.plot(x = 'entry_score',\n",
    "                      y = 'time_in_program',\n",
    "                      title = '*******',\n",
    "                      xlabel = 'Entry Score',\n",
    "                      ylabel = 'Days in Program',\n",
    "                      kind = 'bar',)\n",
    "\n",
    "\n",
    "ksncgraph.get_legend ().remove ()"
   ]
  },
  {
   "cell_type": "code",
   "execution_count": null,
   "id": "f8cdc2cb",
   "metadata": {},
   "outputs": [],
   "source": [
    "aasncgraph = aasnc.plot(x = 'entry_score',\n",
    "                      y = 'time_in_program',\n",
    "                      title = '*******',\n",
    "                      xlabel = 'Entry Score',\n",
    "                      ylabel = 'Days in Program',\n",
    "                      kind = 'bar',)\n",
    "\n",
    "aasncgraph.get_legend ().remove ()"
   ]
  },
  {
   "cell_type": "code",
   "execution_count": null,
   "id": "8c907bf8",
   "metadata": {},
   "outputs": [],
   "source": [
    "ssncgrapha = ssnc.plot(x = 'entry_score',\n",
    "                      y = 'pct_of_children_nochange',\n",
    "                      xlabel = 'Entry Score',\n",
    "                      ylabel = 'Children Showing No change  [%]',\n",
    "                      kind = 'bar')\n",
    "\n",
    "ssncgrapha.get_legend ().remove ()"
   ]
  },
  {
   "cell_type": "code",
   "execution_count": null,
   "id": "3c8dc514",
   "metadata": {},
   "outputs": [],
   "source": [
    "ksncgrapha = ksnc.plot(x = 'entry_score',\n",
    "                      y = 'pct_of_children_nochange',\n",
    "                      xlabel = 'Entry Score',\n",
    "                      ylabel = 'Children Showing No change  [%]',\n",
    "                      kind = 'bar')\n",
    "\n",
    "ksncgrapha.get_legend ().remove ()"
   ]
  },
  {
   "cell_type": "code",
   "execution_count": null,
   "id": "38b05c58",
   "metadata": {},
   "outputs": [],
   "source": [
    "aasncgrapha = aasnc.plot(x = 'entry_score',\n",
    "                      y = 'pct_of_children_nochange',\n",
    "                      xlabel = 'Entry Score',\n",
    "                      ylabel = 'Children Showing No change  [%]',\n",
    "                      kind = 'bar')\n",
    "\n",
    "aasncgrapha.get_legend ().remove ()"
   ]
  },
  {
   "cell_type": "code",
   "execution_count": null,
   "id": "77ed3728",
   "metadata": {},
   "outputs": [],
   "source": [
    "ssdegraph = ssde.plot(x = 'entry_score',\n",
    "                      y = 'time_in_program',\n",
    "                      title = '*******',\n",
    "                      xlabel = 'Entry Score',\n",
    "                      ylabel = 'Days in Program',\n",
    "                      kind = 'bar',)\n",
    "\n",
    "ssdegraph.get_legend ().remove ()"
   ]
  },
  {
   "cell_type": "code",
   "execution_count": null,
   "id": "15144fce",
   "metadata": {},
   "outputs": [],
   "source": [
    "ksdegraph = ksde.plot(x = 'entry_score',\n",
    "                      y = 'time_in_program',\n",
    "                      title = '*******',\n",
    "                      xlabel = 'Entry Score',\n",
    "                      ylabel = 'Days in Program',\n",
    "                      kind = 'bar',)\n",
    "\n",
    "ksdegraph.get_legend ().remove ()"
   ]
  },
  {
   "cell_type": "code",
   "execution_count": null,
   "id": "4b08e980",
   "metadata": {},
   "outputs": [],
   "source": [
    "aasdegraph = aasde.plot(x = 'entry_score',\n",
    "                      y = 'time_in_program',\n",
    "                      title = '*******',\n",
    "                      xlabel = 'Entry Score',\n",
    "                      ylabel = 'Days in Program',\n",
    "                      kind = 'bar',)\n",
    "\n",
    "aasdegraph.get_legend ().remove ()"
   ]
  },
  {
   "cell_type": "code",
   "execution_count": null,
   "id": "7319e8bf",
   "metadata": {},
   "outputs": [],
   "source": [
    "ssdegrapha = ssde.plot(x = 'entry_score',\n",
    "                      y = 'pct_of_children_decrease',\n",
    "                      xlabel = 'Entry Score',\n",
    "                      ylabel = 'Children Showing Decrease  [%]',\n",
    "                      kind = 'bar')\n",
    "\n",
    "ssdegrapha.get_legend ().remove ()"
   ]
  },
  {
   "cell_type": "code",
   "execution_count": null,
   "id": "dd3d4320",
   "metadata": {},
   "outputs": [],
   "source": [
    "ksdegrapha = ksde.plot(x = 'entry_score',\n",
    "                      y = 'pct_of_children_decrease',\n",
    "                      xlabel = 'Entry Score',\n",
    "                      ylabel = 'Children Showing Decrease  [%]',\n",
    "                      kind = 'bar')\n",
    "\n",
    "ksdegrapha.get_legend ().remove ()"
   ]
  },
  {
   "cell_type": "code",
   "execution_count": null,
   "id": "50efd9af",
   "metadata": {},
   "outputs": [],
   "source": [
    "aasdegrapha = aasde.plot(x = 'entry_score',\n",
    "                      y = 'pct_of_children_decrease',\n",
    "                      xlabel = 'Entry Score',\n",
    "                      ylabel = 'Children Showing Decrease  [%]',\n",
    "                      kind = 'pie')\n",
    "\n",
    "aasdegrapha.get_legend ().remove ()"
   ]
  },
  {
   "cell_type": "markdown",
   "id": "35d18c1b",
   "metadata": {},
   "source": [
    "<!-- You can select a graph below and simply call it to show the results\n",
    "\n",
    "#Graphs for children whos entry scores increased: days in program by entry score\n",
    "ssingraph # social scale\n",
    "ksingraph # knowledge scale\n",
    "aasingraph # appropriate action scale\n",
    "\n",
    "#Graphs for children whos entry scores increased: percent of children with increase by entry score\n",
    "ssingrapha\n",
    "ksingrapha\n",
    "aasingrapha\n",
    "\n",
    "#Graphs for children whos entry scores did not change: days in program by entry score\n",
    "ssncgraph\n",
    "ksncgraph\n",
    "aasncgraph\n",
    "\n",
    "#Graphs for children whos entry scores did not change: percent of children with increase by entry score\n",
    "ssncgrapha\n",
    "ksncgrapha\n",
    "aasncgrapha\n",
    "\n",
    "#Graphs for children whos entry scores decreased: days in program by entry score\n",
    "ssdegraph\n",
    "ksdegraph\n",
    "aasdegraph\n",
    "\n",
    "#Graphs for children whos entry scores decreased: percent of children with increase by entry score\n",
    "ssdegrapha\n",
    "ksdegrapha\n",
    "aasdegrapha -->"
   ]
  },
  {
   "cell_type": "code",
   "execution_count": null,
   "id": "8fdd31d7",
   "metadata": {},
   "outputs": [],
   "source": [
    "\n",
    "##You can select a graph below and simply call it to show the results\n",
    "\n",
    "##Graphs for children whos entry scores increased: days in program by entry score\n",
    "## ssingraph # social scale\n",
    "## ksingraph # knowledge scale\n",
    "## aasingraph # appropriate action scale\n",
    "\n",
    "##Graphs for children whos entry scores increased: percent of children with increase by entry score\n",
    "## ssingrapha\n",
    "## ksingrapha\n",
    "## aasingrapha\n",
    "\n",
    "##Graphs for children whos entry scores did not change: days in program by entry score\n",
    "## ssncgraph\n",
    "## ksncgraph\n",
    "## aasncgraph\n",
    "\n",
    "##Graphs for children whos entry scores did not change: percent of children with increase by entry score\n",
    "## ssncgrapha\n",
    "## ksncgrapha\n",
    "## aasncgrapha\n",
    "\n",
    "##Graphs for children whos entry scores decreased: days in program by entry score\n",
    "## ssdegraph\n",
    "## ksdegraph\n",
    "## aasdegraph\n",
    "\n",
    "##Graphs for children whos entry scores decreased: percent of children with increase by entry score\n",
    "## ssdegrapha\n",
    "## ksdegrapha\n",
    "## aasdegrapha\n",
    "\n"
   ]
  },
  {
   "cell_type": "code",
   "execution_count": null,
   "id": "3d148cc6",
   "metadata": {
    "scrolled": false
   },
   "outputs": [],
   "source": [
    "eco_exit"
   ]
  },
  {
   "cell_type": "code",
   "execution_count": null,
   "id": "b427bd65",
   "metadata": {
    "scrolled": true
   },
   "outputs": [],
   "source": [
    "eco_exit.describe()"
   ]
  },
  {
   "cell_type": "code",
   "execution_count": null,
   "id": "0dcf63ea",
   "metadata": {},
   "outputs": [],
   "source": [
    "ssnc_prep = ssnc[['entry_score', 'pct_of_children_nochange']]\n",
    "ssin_prep = ssin[['entry_score', 'pct_of_children_improved']]\n",
    "\n",
    "social_inc_dec = pd.merge(ssnc_prep, ssin_prep, how = 'left', on = 'entry_score')"
   ]
  },
  {
   "cell_type": "code",
   "execution_count": null,
   "id": "6e2f7774",
   "metadata": {
    "scrolled": true
   },
   "outputs": [],
   "source": [
    "#chart comparing children that did not improve with children that did improve\n",
    "\n",
    "socimp=pd.DataFrame({'x':[1,2,3,4,5,6,7],'y':[57.9, 77.2, 71.6, 75.0, 71.14, 60.0, 0]})\n",
    "socnc=pd.DataFrame({'x':[1,2,3,4,5,6,7],'y':[42.1, 14.5, 19.8, 14.0, 21.9, 34.0, 88.4]})\n",
    "socdec=pd.DataFrame({'x':[1,2,3,4,5,6,7],'y':[0 , 8.2, 8.6, 11.0, 6.9, 6.0, 11.6]})\n",
    "socimp['Scale']='Improved'\n",
    "socnc['Scale']='No Change'\n",
    "socdec['Scale']='Regressed'\n",
    "res=pd.concat([socimp,socnc, socdec])\n",
    "sns.barplot(x='x',y='y',data=res,hue='Scale', palette='Paired')\n",
    "plt.xlabel('entry scores')\n",
    "plt.ylabel('percentage')\n",
    "plt.ylim(0, 100)\n",
    "plt.grid(axis='y')\n",
    "plt.title('Social')\n",
    "plt.savefig('social_comp2.png')\n",
    "plt.legend([],[], frameon=False)\n",
    "plt.show()\n"
   ]
  },
  {
   "cell_type": "code",
   "execution_count": null,
   "id": "f9e0f719",
   "metadata": {},
   "outputs": [],
   "source": [
    "##Knowledge chart comparing children that did not improve with children that did improve\n",
    "ymin=0\n",
    "ymax=100\n",
    "knowimp=pd.DataFrame({'x':[1,2,3,4,5,6,7],'y':[52.1, 50.5, 41.3, 52, 48.2, 53, 0]})\n",
    "knownc=pd.DataFrame({'x':[1,2,3,4,5,6,7],'y':[47.9, 17.5, 31.7, 18, 21.8, 27, 85]})\n",
    "knowdec=pd.DataFrame({'x':[1,2,3,4,5,6,7],'y':[0 , 32.1, 27, 30, 29, 21, 14.8]})\n",
    "knowimp['Scale']='Improved'\n",
    "knownc['Scale']='No Change'\n",
    "knowdec['Scale']='Regressed'\n",
    "res=pd.concat([knowimp,knownc, knowdec])\n",
    "sns.barplot(x='x',y='y',data=res,hue='Scale', palette='Paired')\n",
    "plt.xlabel('entry scores')\n",
    "plt.ylabel('percentage')\n",
    "plt.ylim(0, 100)\n",
    "plt.grid(axis='y')\n",
    "plt.title('Knowledge')\n",
    "plt.savefig('knowledge_comp2.png')\n",
    "plt.show()"
   ]
  },
  {
   "cell_type": "code",
   "execution_count": null,
   "id": "b05571b5",
   "metadata": {
    "scrolled": true
   },
   "outputs": [],
   "source": [
    "##Appropriate Action chart comparing children that did not improve with children that did improve\n",
    "\n",
    "aasimp=pd.DataFrame({'x':[1,2,3,4,5,6,7],'y':[67.6, 74.2, 66.9, 61, 64, 56, 0]})\n",
    "aasno=pd.DataFrame({'x':[1,2,3,4,5,6,7],'y':[32.4, 14.4, 19.8, 22, 13.6, 27, 85.3]})\n",
    "aasdec=pd.DataFrame({'x':[1,2,3,4,5,6,7],'y':[0 , 11.4, 13.3, 17, 22.4, 17, 14.7]})\n",
    "aasimp['Scale']='Improved'\n",
    "aasno['Scale']='No Change'\n",
    "aasdec['Scale']='Regressed'\n",
    "res=pd.concat([aasimp, aasno, aasdec])\n",
    "sns.barplot(x='x',y='y',data=res,hue='Scale', palette='Paired')\n",
    "plt.xlabel('entry scores')\n",
    "plt.ylabel('percentage')\n",
    "plt.ylim(0, 100)\n",
    "plt.grid(axis='y')\n",
    "plt.title('Appropriate Action')\n",
    "plt.savefig('approriate_action_comp2.png')\n",
    "plt.legend([],[], frameon=False)\n",
    "plt.show()"
   ]
  },
  {
   "cell_type": "code",
   "execution_count": null,
   "id": "d6cb793a",
   "metadata": {},
   "outputs": [],
   "source": [
    "ssin['Scale']='Social'\n",
    "ksin['Scale']='Knowledge'\n",
    "aasin['Scale']='Approp. Action'\n",
    "res=pd.concat([ssin,ksin,aasin])\n",
    "sns.barplot(x='entry_score',y=('pct_of_children_improved'),data=res,hue='Scale',palette='Paired').set(title='Percent Improved')\n",
    "plt.show()"
   ]
  },
  {
   "cell_type": "code",
   "execution_count": null,
   "id": "d643c311",
   "metadata": {},
   "outputs": [],
   "source": [
    "ssin['Scale']='Social'\n",
    "ksin['Scale']='Knowledge'\n",
    "aasin['Scale']='Approp. Action'\n",
    "res=pd.concat([ssin,ksin,aasin])\n",
    "sns.barplot(x='entry_score',y=('time_in_program'),data=res,hue='Scale',palette='Set3').set(title='Scale-Improved T.I.P(Median)')\n",
    "plt.grid(axis='y')\n",
    "plt.savefig('improved_tip2.png')\n",
    "plt.show()"
   ]
  },
  {
   "cell_type": "code",
   "execution_count": null,
   "id": "6b20b7b5",
   "metadata": {},
   "outputs": [],
   "source": [
    "ssnc['Scale']='Social'\n",
    "ksnc['Scale']='Knowledge'\n",
    "aasnc['Scale']='Approp. Action'\n",
    "res=pd.concat([ssnc,ksnc,aasnc])\n",
    "sns.barplot(x='entry_score',y=('pct_of_children_nochange'),data=res,hue='Scale',palette='Paired').set(title='Percent With No Change')\n",
    "plt.show()"
   ]
  },
  {
   "cell_type": "code",
   "execution_count": null,
   "id": "72523087",
   "metadata": {
    "scrolled": true
   },
   "outputs": [],
   "source": [
    "\n",
    "ssnc['Scale']='Social'\n",
    "ksnc['Scale']='Knowledge'\n",
    "aasnc['Scale']='Approp. Action'\n",
    "res=pd.concat([ssnc,ksnc,aasnc])\n",
    "sns.barplot(x='entry_score',y=('time_in_program'),data=res,hue='Scale',palette='Set3').set(title='Scale-No Change T.I.P(Median)')\n",
    "plt.grid(axis='y')\n",
    "plt.savefig('nochange_tip2.png')\n",
    "plt.show()"
   ]
  },
  {
   "cell_type": "code",
   "execution_count": null,
   "id": "ec644ed3",
   "metadata": {},
   "outputs": [],
   "source": [
    "ssde['Scale']='Social'\n",
    "ksde['Scale']='Knowledge'\n",
    "aasde['Scale']='Approp. Action'\n",
    "res=pd.concat([ssde,ksde,aasde])\n",
    "sns.barplot(x='entry_score',y=('pct_of_children_decrease'),data=res,hue='Scale',palette='Paired').set(title='Percent Decreased')\n",
    "plt.show()"
   ]
  },
  {
   "cell_type": "code",
   "execution_count": null,
   "id": "2b948558",
   "metadata": {},
   "outputs": [],
   "source": [
    "ssde['Scale']='Social'\n",
    "ksde['Scale']='Knowledge'\n",
    "aasde['Scale']='Approp. Action'\n",
    "res=pd.concat([ssde,ksde,aasde])\n",
    "sns.barplot(x='entry_score',y=('time_in_program'),data=res,hue='Scale',palette='Set3').set(title='Scale-Decrease T.I.P(Median)')\n",
    "plt.grid(axis='y')\n",
    "plt.savefig('decrease_tip2.png')\n",
    "plt.show()"
   ]
  },
  {
   "cell_type": "code",
   "execution_count": null,
   "id": "71ec2c54",
   "metadata": {},
   "outputs": [],
   "source": [
    "ssin['Scale']='Social'\n",
    "ksin['Scale']='Knowledge'\n",
    "aasin['Scale']='Approp. Action'\n",
    "res=pd.concat([ssin,ksin,aasin])\n",
    "#matplotlib.rc_file_defaults()\n",
    "ax1 = sns.set_style(style=None, rc=None )\n",
    "fig, ax1 = plt.subplots(figsize=(12,6))\n",
    "sns.pointplot(x='entry_score',y=('time_in_program'),data=res,hue='Scale',kind='point',palette='Paired',ax=ax1).set(title='% Improved + T.I.P(Median)')\n",
    "ax2 = ax1.twinx()\n",
    "sns.barplot(x='entry_score',y=('pct_of_children_improved'),data=res,hue='Scale',palette='Paired',alpha=0.25,ax=ax2)\n",
    "plt.savefig('improved_tip3.png')\n",
    "plt.show()"
   ]
  },
  {
   "cell_type": "code",
   "execution_count": null,
   "id": "f1090a4c",
   "metadata": {
    "scrolled": true
   },
   "outputs": [],
   "source": [
    "ssnc['Scale']='Social'\n",
    "ksnc['Scale']='Knowledge'\n",
    "aasnc['Scale']='Approp. Action'\n",
    "res=pd.concat([ssnc,ksnc,aasnc])\n",
    "#matplotlib.rc_file_defaults()\n",
    "ax1 = sns.set_style(style=None, rc=None )\n",
    "fig, ax1 = plt.subplots(figsize=(12,6))\n",
    "sns.pointplot(x='entry_score',y=('time_in_program'),data=res,hue='Scale',kind='point',palette='Paired',ax=ax1).set(title='% No Change + T.I.P(Median)')\n",
    "ax2 = ax1.twinx()\n",
    "sns.barplot(x='entry_score',y=('pct_of_children_nochange'),data=res,hue='Scale',palette='Paired', alpha=.25, ax=ax2)\n",
    "plt.savefig('nochange_tip3.png')\n",
    "plt.show()"
   ]
  },
  {
   "cell_type": "code",
   "execution_count": null,
   "id": "846daba1",
   "metadata": {},
   "outputs": [],
   "source": [
    "ssde['Scale']='Social'\n",
    "ksde['Scale']='Knowledge'\n",
    "aasde['Scale']='Approp. Action'\n",
    "res=pd.concat([ssde,ksde,aasde])\n",
    "#matplotlib.rc_file_defaults()\n",
    "ax1 = sns.set_style(style=None, rc=None )\n",
    "fig, ax1 = plt.subplots(figsize=(12,6))\n",
    "sns.pointplot(x='entry_score',y=('time_in_program'),data=res,hue='Scale',kind='point',palette='Paired',ax=ax1).set(title='% Regressed + T.I.P(Median)')\n",
    "ax2 = ax1.twinx()\n",
    "sns.barplot(x='entry_score',y=('pct_of_children_decrease'),data=res,hue='Scale',palette='Paired',alpha=0.25,ax=ax2)\n",
    "plt.savefig('decrease_tip3.png')\n",
    "plt.show()"
   ]
  },
  {
   "cell_type": "code",
   "execution_count": null,
   "id": "c1b18f40",
   "metadata": {},
   "outputs": [],
   "source": [
    "eco_exit"
   ]
  },
  {
   "cell_type": "code",
   "execution_count": null,
   "id": "d5901501",
   "metadata": {},
   "outputs": [],
   "source": [
    "eco_exit['improved_social'] = ''\n",
    "eco_exit['improved_knowledge'] = ''\n",
    "eco_exit['improved_approp'] = ''"
   ]
  },
  {
   "cell_type": "code",
   "execution_count": null,
   "id": "e018e1c2",
   "metadata": {},
   "outputs": [],
   "source": [
    "for x, y in eco_exit.iterrows():\n",
    "    if eco_exit['exit_social'][x] > eco_exit['ent_social'][x]:\n",
    "        eco_exit.loc[x, 'improved_social'] = 1\n",
    "    else:\n",
    "        eco_exit.loc[x, 'improved_social'] = 0"
   ]
  },
  {
   "cell_type": "code",
   "execution_count": null,
   "id": "9e18dbd2",
   "metadata": {},
   "outputs": [],
   "source": [
    "for x, y in eco_exit.iterrows():\n",
    "    if eco_exit['exit_knowledge'][x] > eco_exit['ent_knowledge'][x]:\n",
    "        eco_exit.loc[x, 'improved_knowledge'] = 1\n",
    "    else:\n",
    "        eco_exit.loc[x, 'improved_knowledge'] = 0"
   ]
  },
  {
   "cell_type": "code",
   "execution_count": null,
   "id": "3779d7e1",
   "metadata": {},
   "outputs": [],
   "source": [
    "for x, y in eco_exit.iterrows():\n",
    "    if eco_exit['exit_approp_action'][x] > eco_exit['ent_approp_action'][x]:\n",
    "        eco_exit.loc[x, 'improved_approp'] = 1\n",
    "    else:\n",
    "        eco_exit.loc[x, 'improved_approp'] = 0"
   ]
  },
  {
   "cell_type": "code",
   "execution_count": null,
   "id": "d09f9ca6",
   "metadata": {},
   "outputs": [],
   "source": [
    "eco_exit.head()"
   ]
  },
  {
   "cell_type": "code",
   "execution_count": null,
   "id": "9ffc68f5",
   "metadata": {},
   "outputs": [],
   "source": [
    "eco_exit['dec_social'] = ''\n",
    "eco_exit['dec_knowledge'] = ''\n",
    "eco_exit['dec_approp'] = ''"
   ]
  },
  {
   "cell_type": "code",
   "execution_count": null,
   "id": "881d7d37",
   "metadata": {},
   "outputs": [],
   "source": [
    "for x, y in eco_exit.iterrows():\n",
    "    if eco_exit['exit_social'][x] < eco_exit['ent_social'][x]:\n",
    "        eco_exit.loc[x, 'dec_social'] = 1\n",
    "    else:\n",
    "        eco_exit.loc[x, 'dec_social'] = 0"
   ]
  },
  {
   "cell_type": "code",
   "execution_count": null,
   "id": "dfc93dcc",
   "metadata": {},
   "outputs": [],
   "source": [
    "for x, y in eco_exit.iterrows():\n",
    "    if eco_exit['exit_knowledge'][x] < eco_exit['ent_knowledge'][x]:\n",
    "        eco_exit.loc[x, 'dec_knowledge'] = 1\n",
    "    else:\n",
    "        eco_exit.loc[x, 'dec_knowledge'] = 0"
   ]
  },
  {
   "cell_type": "code",
   "execution_count": null,
   "id": "bd0c53e5",
   "metadata": {},
   "outputs": [],
   "source": [
    "for x, y in eco_exit.iterrows():\n",
    "    if eco_exit['exit_approp_action'][x] < eco_exit['ent_approp_action'][x]:\n",
    "        eco_exit.loc[x, 'dec_approp'] = 1\n",
    "    else:\n",
    "        eco_exit.loc[x, 'dec_approp'] = 0"
   ]
  },
  {
   "cell_type": "code",
   "execution_count": null,
   "id": "300a6b04",
   "metadata": {},
   "outputs": [],
   "source": [
    "eco_exit.head()"
   ]
  },
  {
   "cell_type": "code",
   "execution_count": null,
   "id": "198cbfeb",
   "metadata": {},
   "outputs": [],
   "source": [
    "eco_exit['same_social'] = ''\n",
    "eco_exit['same_knowledge'] = ''\n",
    "eco_exit['same_approp'] = ''"
   ]
  },
  {
   "cell_type": "code",
   "execution_count": null,
   "id": "3270c513",
   "metadata": {},
   "outputs": [],
   "source": [
    "for x, y in eco_exit.iterrows():\n",
    "    if eco_exit['exit_social'][x] == eco_exit['ent_social'][x]:\n",
    "        eco_exit.loc[x, 'same_social'] = 1\n",
    "    else:\n",
    "        eco_exit.loc[x, 'same_social'] = 0"
   ]
  },
  {
   "cell_type": "code",
   "execution_count": null,
   "id": "f13f7f15",
   "metadata": {},
   "outputs": [],
   "source": [
    "for x, y in eco_exit.iterrows():\n",
    "    if eco_exit['exit_knowledge'][x] == eco_exit['ent_knowledge'][x]:\n",
    "        eco_exit.loc[x, 'same_knowledge'] = 1\n",
    "    else:\n",
    "        eco_exit.loc[x, 'same_knowledge'] = 0"
   ]
  },
  {
   "cell_type": "code",
   "execution_count": null,
   "id": "287b21f1",
   "metadata": {},
   "outputs": [],
   "source": [
    "for x, y in eco_exit.iterrows():\n",
    "    if eco_exit['exit_approp_action'][x] == eco_exit['ent_approp_action'][x]:\n",
    "        eco_exit.loc[x, 'same_approp'] = 1\n",
    "    else:\n",
    "        eco_exit.loc[x, 'same_approp'] = 0"
   ]
  },
  {
   "cell_type": "code",
   "execution_count": null,
   "id": "8e9bb93d",
   "metadata": {},
   "outputs": [],
   "source": [
    "eco_exit.head(1)"
   ]
  },
  {
   "cell_type": "code",
   "execution_count": null,
   "id": "142ec051",
   "metadata": {},
   "outputs": [],
   "source": [
    "print(sum(eco_exit['same_social'])/eco_exit['same_social'].count()*100)\n",
    "print(sum(eco_exit['same_knowledge'])/eco_exit['same_knowledge'].count()*100)\n",
    "print(sum(eco_exit['same_approp'])/eco_exit['same_approp'].count()*100)\n",
    "print('')\n",
    "print(sum(eco_exit['improved_social'])/eco_exit['improved_social'].count()*100)\n",
    "print(sum(eco_exit['improved_knowledge'])/eco_exit['improved_knowledge'].count()*100)\n",
    "print(sum(eco_exit['improved_approp'])/eco_exit['improved_approp'].count()*100)\n",
    "print('')\n",
    "print(sum(eco_exit['dec_social'])/eco_exit['dec_social'].count()*100)\n",
    "print(sum(eco_exit['dec_knowledge'])/eco_exit['dec_knowledge'].count()*100)\n",
    "print(sum(eco_exit['dec_approp'])/eco_exit['dec_approp'].count()*100)"
   ]
  },
  {
   "cell_type": "code",
   "execution_count": null,
   "id": "3b6ca307",
   "metadata": {},
   "outputs": [],
   "source": [
    "source_data={'students':['No Change','Decreased','Increased'],\n",
    "'social_scale':[31.11,6.75,62.14],\n",
    "'knowledge_scale':[30.71,23.00,46.29],\n",
    "'appropriate_action_scale':[34.92,12.88,52.30]}\n",
    "\n",
    "# Segregating the raw data into usuable form\n",
    "df=pd.DataFrame(source_data,columns=\n",
    "['students','social_scale','knowledge_scale','appropriate_action_scale'])\n",
    "# df['cumulative_score']=df['social_scale']+df['knowledge_scale']\n",
    "# +df['appropriate_action_scale']\n",
    "\n",
    "# Seperating the sub-parts of the given data\n",
    "x1= df.iloc[0:3,1]\n",
    "x2= df.iloc[0:3,2]\n",
    "x3= df.iloc[0:3,3]\n",
    "\n",
    "# Setting figure colors\n",
    "cmap = plt.get_cmap(\"tab20c\")\n",
    "# outer_colors = cmap(np.arange(3)*4)\n",
    "outer_colors = cmap(np.array([1,5,9]))\n",
    "inner_colors = cmap(np.array([1,5,9]))\n",
    "inner_colors1 = cmap(np.array([1,5,9]))\n",
    "# Setting the size of the figure\n",
    "plt.figure(figsize=(8,6))\n",
    "\n",
    "# Plotting the outer pie\n",
    "plt.pie(x1, labels = df.iloc[0:3, 0], \n",
    "       startangle=90, pctdistance =0.88 ,colors=outer_colors,\n",
    "       autopct = '%1.1f%%', radius= 1.0, labeldistance=1.05,\n",
    "       textprops ={'fontsize':13},\n",
    "       wedgeprops = {'linewidth' : 3, 'edgecolor' : \"w\" } )\n",
    "\n",
    "# PLotting the inner pie\n",
    "plt.pie(x2,startangle=90, pctdistance =.85,colors=inner_colors,\n",
    "        autopct = '%1.1f%%',radius= 0.70,\n",
    "       textprops ={'fontsize':13}, \n",
    "       wedgeprops = {'linewidth' : 3, 'edgecolor' : \"w\" } )\n",
    "\n",
    "# PLotting the inner pie2\n",
    "plt.pie(x3,startangle=90, pctdistance =.50,colors=inner_colors1,\n",
    "        autopct = '%1.1f%%',radius= 0.45,\n",
    "        textprops ={'fontsize':13}, \n",
    "       wedgeprops = {'linewidth' : 3, 'edgecolor' : \"w\" } )\n",
    "# 'fontweight': 'bold' ,\n",
    "# Creating the donut shape for the pie\n",
    "centre_circle = plt.Circle((0,0), 0.25, fc='white')\n",
    "fig= plt.gcf()\n",
    "fig.gca().add_artist(centre_circle) # adding the centre circle\n",
    "\n",
    "# Plotting the pie \n",
    "plt.axis('equal')  # equal aspect ratio\n",
    "# plt.legend(loc=3, fontsize =10)\n",
    "# plt.legend(['Outer Ring (Social Scale)', 'Middle Ring (Knowledge Scale)', 'Inner Ring (Appropriate Action Scale)'])\n",
    "plt.title('Total % of Change\\n\\nOuter Ring - Social Scale\\nMiddle Ring - Knowledge Scale\\nInner Ring - Appropriate Action Scale', fontweight='bold')\n",
    "plt.tight_layout()\n",
    "plt.show()"
   ]
  },
  {
   "cell_type": "code",
   "execution_count": null,
   "id": "2349c28d",
   "metadata": {},
   "outputs": [],
   "source": []
  }
 ],
 "metadata": {
  "kernelspec": {
   "display_name": "Python 3 (ipykernel)",
   "language": "python",
   "name": "python3"
  },
  "language_info": {
   "codemirror_mode": {
    "name": "ipython",
    "version": 3
   },
   "file_extension": ".py",
   "mimetype": "text/x-python",
   "name": "python",
   "nbconvert_exporter": "python",
   "pygments_lexer": "ipython3",
   "version": "3.9.7"
  }
 },
 "nbformat": 4,
 "nbformat_minor": 5
}
