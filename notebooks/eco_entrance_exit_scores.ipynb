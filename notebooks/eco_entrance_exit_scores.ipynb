{
 "cells": [
  {
   "cell_type": "code",
   "execution_count": null,
   "id": "60a70c59",
   "metadata": {},
   "outputs": [],
   "source": [
    "import pandas as pd\n",
    "import numpy as np\n",
    "import matplotlib.pyplot as plt\n",
    "import seaborn as sns\n",
    "\n",
    "%matplotlib inline"
   ]
  },
  {
   "cell_type": "code",
   "execution_count": null,
   "id": "32f662d3",
   "metadata": {},
   "outputs": [],
   "source": [
    "##import worksheets\n",
    "\n",
    "project_data = pd.read_excel('../data/TEIS-NSS Project Data 10-2022.xlsx', \n",
    "                             sheet_name=['ECO with Exit21-22', 'Elig Timeline Rpt 2018-2022'])\n",
    "\n",
    "eco_exit = project_data.get('ECO with Exit21-22')\n",
    "elig_timeline = project_data.get('Elig Timeline Rpt 2018-2022')\n"
   ]
  },
  {
   "cell_type": "code",
   "execution_count": null,
   "id": "e25936ec",
   "metadata": {},
   "outputs": [],
   "source": [
    "eco_exit = eco_exit[['DISTRICT', 'CHILD_ID', 'ECO_Entry_DATE', 'Ent SOCIAL_SCALE', 'Ent KNOWLEDGE_SCALE', 'Ent APPROPRIATE_ACTION_SCALE', 'ECO_Exit_DATE', 'Exit SOCIAL_SCALE', 'Exit KNOWLEDGE_SCALE', 'Exit APPROPRIATE_ACTION_SCALE', 'Days btw I-IFSP to Exit ECO']]\n",
    "eco_exit"
   ]
  },
  {
   "cell_type": "code",
   "execution_count": null,
   "id": "be5d4f85",
   "metadata": {},
   "outputs": [],
   "source": [
    "##rename columns\n",
    "eco_exit = eco_exit.rename(columns={'DISTRICT':'district',\n",
    "                                    'CHILD_ID':'child_id',\n",
    "                                    'ECO_Entry_DATE':'eco_entry_date',\n",
    "                                    'Ent SOCIAL_SCALE':'ent_social',\n",
    "                                    'Ent KNOWLEDGE_SCALE':'ent_knowledge',\n",
    "                                    'Ent APPROPRIATE_ACTION_SCALE':'ent_approp_action',\n",
    "                                    'ECO_Exit_DATE':'eco_exit_date',\n",
    "                                    'Exit SOCIAL_SCALE':'exit_social',\n",
    "                                    'Exit KNOWLEDGE_SCALE':'exit_knowledge',\n",
    "                                    'Exit APPROPRIATE_ACTION_SCALE':'exit_approp_action',\n",
    "                                    'Days btw I-IFSP to Exit ECO': 'days_in_program'})"
   ]
  },
  {
   "cell_type": "code",
   "execution_count": null,
   "id": "9cb5ca54",
   "metadata": {
    "scrolled": false
   },
   "outputs": [],
   "source": [
    "##drop NaN\n",
    "eco_exit = eco_exit.dropna(axis=0)\n",
    "eco_exit"
   ]
  },
  {
   "cell_type": "code",
   "execution_count": null,
   "id": "21179200",
   "metadata": {},
   "outputs": [],
   "source": [
    "##consolidated to 3 separate DFs. One for each category to average among the 1s in each\n",
    "\n",
    "soc1 = eco_exit[eco_exit['ent_social'] == 1.0]\n",
    "knowl1 = eco_exit[eco_exit['ent_knowledge'] == 1.0]\n",
    "aa1 = eco_exit[eco_exit['ent_approp_action'] == 1.0]\n",
    "\n",
    "##DFs for each category that showed no improvement\n",
    "samesoc = soc1[soc1['exit_social'] == 1]\n",
    "sameknowl = knowl1[knowl1['exit_knowledge'] == 1]\n",
    "sameaa = aa1[aa1['exit_approp_action'] == 1]\n",
    "\n",
    "##DFs for each category that improved\n",
    "impsoc  = soc1[soc1['exit_social'] > 1]\n",
    "impknowl= knowl1[knowl1['exit_knowledge'] > 1]\n",
    "impaa  = aa1[aa1['exit_approp_action'] > 1]"
   ]
  },
  {
   "cell_type": "code",
   "execution_count": null,
   "id": "e396a4b6",
   "metadata": {},
   "outputs": [],
   "source": [
    "print('percent that stayed the same')\n",
    "print(len(samesoc)/len(soc1)*100)\n",
    "print(len(sameknowl)/len(knowl1)*100)\n",
    "print(len(sameaa)/len(aa1)*100)\n",
    "print(' ')\n",
    "print('percent that improved')\n",
    "print(len(impsoc)/len(soc1)*100)\n",
    "print(len(impknowl)/len(knowl1)*100)\n",
    "print(len(impaa)/len(aa1)*100)"
   ]
  },
  {
   "cell_type": "code",
   "execution_count": null,
   "id": "9d06362a",
   "metadata": {},
   "outputs": [],
   "source": [
    "samesoc['days_in_program'].median()"
   ]
  },
  {
   "cell_type": "code",
   "execution_count": null,
   "id": "fcd2dad2",
   "metadata": {},
   "outputs": [],
   "source": [
    "sameknowl['days_in_program'].median()"
   ]
  },
  {
   "cell_type": "code",
   "execution_count": null,
   "id": "accf7ee5",
   "metadata": {},
   "outputs": [],
   "source": [
    "sameaa['days_in_program'].median()"
   ]
  },
  {
   "cell_type": "code",
   "execution_count": null,
   "id": "f3e28787",
   "metadata": {},
   "outputs": [],
   "source": [
    "impsoc['days_in_program'].median()"
   ]
  },
  {
   "cell_type": "code",
   "execution_count": null,
   "id": "103fd9e4",
   "metadata": {},
   "outputs": [],
   "source": [
    "impknowl['days_in_program'].median()"
   ]
  },
  {
   "cell_type": "code",
   "execution_count": null,
   "id": "76a32a6e",
   "metadata": {},
   "outputs": [],
   "source": [
    "impaa['days_in_program'].median()"
   ]
  },
  {
   "cell_type": "code",
   "execution_count": null,
   "id": "9d246af2",
   "metadata": {},
   "outputs": [],
   "source": [
    "eco_exit['days_in_program'].median()"
   ]
  },
  {
   "cell_type": "code",
   "execution_count": null,
   "id": "a694dd00",
   "metadata": {},
   "outputs": [],
   "source": [
    "eco_exit['district'].unique()"
   ]
  },
  {
   "cell_type": "code",
   "execution_count": null,
   "id": "26c93c2c",
   "metadata": {},
   "outputs": [],
   "source": [
    "eco_et = eco_exit.loc[eco_exit['district']=='ET']\n",
    "eco_ft = eco_exit.loc[eco_exit['district']=='FT']\n",
    "eco_gn = eco_exit.loc[eco_exit['district']=='GN']\n",
    "eco_md = eco_exit.loc[eco_exit['district']=='MD']\n",
    "eco_nw = eco_exit.loc[eco_exit['district']=='NW']\n",
    "eco_sc = eco_exit.loc[eco_exit['district']=='SC']\n",
    "eco_se = eco_exit.loc[eco_exit['district']=='SE']\n",
    "eco_sw = eco_exit.loc[eco_exit['district']=='SW']\n",
    "eco_uc = eco_exit.loc[eco_exit['district']=='UC']"
   ]
  },
  {
   "cell_type": "code",
   "execution_count": null,
   "id": "5efc74d1",
   "metadata": {},
   "outputs": [],
   "source": [
    "eco_et['days_in_program'].median()"
   ]
  },
  {
   "cell_type": "code",
   "execution_count": null,
   "id": "ff9371a1",
   "metadata": {},
   "outputs": [],
   "source": [
    "eco_ft['days_in_program'].median()"
   ]
  },
  {
   "cell_type": "code",
   "execution_count": null,
   "id": "66a94010",
   "metadata": {},
   "outputs": [],
   "source": [
    "eco_gn['days_in_program'].median()"
   ]
  },
  {
   "cell_type": "code",
   "execution_count": null,
   "id": "d2e62aa0",
   "metadata": {},
   "outputs": [],
   "source": [
    "eco_md['days_in_program'].median()"
   ]
  },
  {
   "cell_type": "code",
   "execution_count": null,
   "id": "34f7c01c",
   "metadata": {},
   "outputs": [],
   "source": [
    "eco_nw['days_in_program'].median()"
   ]
  },
  {
   "cell_type": "code",
   "execution_count": null,
   "id": "1208f934",
   "metadata": {},
   "outputs": [],
   "source": [
    "eco_sc['days_in_program'].median()"
   ]
  },
  {
   "cell_type": "code",
   "execution_count": null,
   "id": "d510cee2",
   "metadata": {},
   "outputs": [],
   "source": [
    "eco_se['days_in_program'].median()"
   ]
  },
  {
   "cell_type": "code",
   "execution_count": null,
   "id": "76607155",
   "metadata": {},
   "outputs": [],
   "source": [
    "eco_sw['days_in_program'].median()"
   ]
  },
  {
   "cell_type": "code",
   "execution_count": null,
   "id": "5c37ad43",
   "metadata": {},
   "outputs": [],
   "source": [
    "eco_uc['days_in_program'].median()"
   ]
  },
  {
   "cell_type": "code",
   "execution_count": null,
   "id": "6f855d83",
   "metadata": {},
   "outputs": [],
   "source": [
    "entry= pd.DataFrame(columns=['point_of_entry', 'avg_days_of_service'])\n",
    "col1 = ['ET', 'FT', 'GN', 'MD', 'NW', 'SC', 'SE', 'SW', 'UC']\n",
    "col2 = [352, 347,339,349,351,322,344,347,351]\n",
    "\n",
    "entry['point_of_entry'] = col1\n",
    "entry['avg_days_of_service'] = col2\n",
    "\n",
    "\n"
   ]
  },
  {
   "cell_type": "code",
   "execution_count": null,
   "id": "6c75d3ab",
   "metadata": {},
   "outputs": [],
   "source": [
    "eco_exit"
   ]
  },
  {
   "cell_type": "code",
   "execution_count": null,
   "id": "e10589df",
   "metadata": {},
   "outputs": [],
   "source": [
    "eco_et['ent_social'].mean()"
   ]
  },
  {
   "cell_type": "code",
   "execution_count": null,
   "id": "b2319caa",
   "metadata": {},
   "outputs": [],
   "source": [
    "#social scale increase df\n",
    "ssin = pd.DataFrame()\n",
    "\n",
    "ssin =pd.DataFrame(columns=[\"entry_score\", \"pct_of_children_improved\", \"time_in_program\"])\n",
    "\n",
    "list1 = [1,2,3,4,5,6]\n",
    "list2 = [57.9,77.2,71.6,75.0,71.14,60.0]\n",
    "list3 = [364,490,357,345,335,194] \n",
    "\n",
    "ssin['entry_score'] = list1\n",
    "ssin['pct_of_children_improved'] = list2\n",
    "ssin['time_in_program'] = list3\n",
    "\n",
    "print(ssin)"
   ]
  },
  {
   "cell_type": "code",
   "execution_count": null,
   "id": "e2271296",
   "metadata": {},
   "outputs": [],
   "source": [
    "#knowledge scale increase df\n",
    "ksin = pd.DataFrame()\n",
    "\n",
    "ksin =pd.DataFrame(columns=[\"entry_score\", \"pct_of_children_improved\", \"time_in_program\"])\n",
    "\n",
    "list1a = [1,2,3,4,5,6]\n",
    "list2a = [52.1,50.5,41.3,52.0,49.2,53.0]\n",
    "list3a = [480,335,336,348,353,338]\n",
    "\n",
    "ksin['entry_score'] = list1a\n",
    "ksin['pct_of_children_improved'] = list2a\n",
    "ksin['time_in_program'] = list3a\n",
    "\n",
    "print(ksin)"
   ]
  },
  {
   "cell_type": "code",
   "execution_count": null,
   "id": "7967d942",
   "metadata": {},
   "outputs": [],
   "source": [
    "#appropriate action scale increase df\n",
    "aasin = pd.DataFrame()\n",
    "\n",
    "aasin =pd.DataFrame(columns=[\"entry_score\", \"pct_of_children_improved\", \"time_in_program\"])\n",
    "\n",
    "list1b = [1,2,3,4,5,6]\n",
    "list2b = [67.6,74.2,66.9,61.0,64.0,56.0]\n",
    "list3b = [693,523,352,342,335,201] # need to update value 3\n",
    "\n",
    "aasin['entry_score'] = list1b\n",
    "aasin['pct_of_children_improved'] = list2b\n",
    "aasin['time_in_program'] = list3b\n",
    "\n",
    "print(aasin)"
   ]
  },
  {
   "cell_type": "code",
   "execution_count": null,
   "id": "23a4732c",
   "metadata": {},
   "outputs": [],
   "source": [
    "#social scale no change df\n",
    "ssnc = pd.DataFrame()\n",
    "\n",
    "ssnc =pd.DataFrame(columns=[\"entry_score\", \"pct_of_children_nochange\", \"time_in_program\"])\n",
    "\n",
    "list1c = [1,2,3,4,5,6,7]\n",
    "list2c = [42.1,14.5,19.8,14.0,21.9,34.0,88.4]\n",
    "list3c = [317,227,183,189,182,182,188]\n",
    "\n",
    "ssnc['entry_score'] = list1c\n",
    "ssnc['pct_of_children_nochange'] = list2c\n",
    "ssnc['time_in_program'] = list3c\n",
    "\n",
    "print(ssnc)"
   ]
  },
  {
   "cell_type": "code",
   "execution_count": null,
   "id": "d23e0b93",
   "metadata": {},
   "outputs": [],
   "source": [
    "#knowledge scale no change df\n",
    "ksnc = pd.DataFrame()\n",
    "\n",
    "ksnc =pd.DataFrame(columns=[\"entry_score\", \"pct_of_children_nochange\", \"time_in_program\"])\n",
    "\n",
    "list1d = [1,2,3,4,5,6,7]\n",
    "list2d = [47.9,17.5,31.7,18.0,21.8,27.0,85.0]\n",
    "list3d = [196,180,186,234,325,189,186]\n",
    "\n",
    "ksnc['entry_score'] = list1d\n",
    "ksnc['pct_of_children_nochange'] = list2d\n",
    "ksnc['time_in_program'] = list3d\n",
    "\n",
    "print(ksnc)"
   ]
  },
  {
   "cell_type": "code",
   "execution_count": null,
   "id": "d9aed57e",
   "metadata": {},
   "outputs": [],
   "source": [
    "#appropriate action scale no change df\n",
    "aasnc = pd.DataFrame()\n",
    "\n",
    "aasnc = pd.DataFrame(columns=[\"entry_score\", \"pct_of_children_nochange\", \"time_in_program\"])\n",
    "\n",
    "list1e = [1,2,3,4,5,6,7]\n",
    "list2e = [32.4,14.4,19.8,22,13.6,27,85.3]\n",
    "list3e = [362,185,203,184,184,183,250]\n",
    "\n",
    "aasnc['entry_score'] = list1e\n",
    "aasnc['pct_of_children_nochange'] = list2e\n",
    "aasnc['time_in_program'] = list3e\n",
    "\n",
    "print(aasnc)"
   ]
  },
  {
   "cell_type": "code",
   "execution_count": null,
   "id": "e80453b4",
   "metadata": {},
   "outputs": [],
   "source": [
    "#social scale decrease df\n",
    "ssde = pd.DataFrame()\n",
    "\n",
    "ssde =pd.DataFrame(columns=[\"entry_score\", \"pct_of_children_decrease\", \"time_in_program\"])\n",
    "\n",
    "list1f = [2,3,4,5,6,7]\n",
    "list2f = [8.4,8.6,11.0,6.9,6.0,11.6] # need to update value 2\n",
    "list3f = [389,352,351,325,319,200] # need to update value 2\n",
    "\n",
    "ssde['entry_score'] = list1f\n",
    "ssde['pct_of_children_decrease'] = list2f\n",
    "ssde['time_in_program'] = list3f\n",
    "\n",
    "print(ssde)"
   ]
  },
  {
   "cell_type": "code",
   "execution_count": null,
   "id": "747a5711",
   "metadata": {},
   "outputs": [],
   "source": [
    "#knowledge scale decrease df\n",
    "ksde = pd.DataFrame()\n",
    "\n",
    "ksde =pd.DataFrame(columns=[\"entry_score\", \"pct_of_children_decrease\", \"time_in_program\"])\n",
    "\n",
    "list1g = [2,3,4,5,6,7]\n",
    "list2g = [32.1,27.0,30.0,29.0,21.0,14.8]\n",
    "list3g = [349,357,364,501,357,350]\n",
    "\n",
    "ksde['entry_score'] = list1g\n",
    "ksde['pct_of_children_decrease'] = list2g\n",
    "ksde['time_in_program'] = list3g\n",
    "\n",
    "print(ksde)"
   ]
  },
  {
   "cell_type": "code",
   "execution_count": null,
   "id": "07e7af89",
   "metadata": {},
   "outputs": [],
   "source": [
    "#appropriate action scale decrease df\n",
    "aasde = pd.DataFrame()\n",
    "\n",
    "aasde =pd.DataFrame(columns=[\"entry_score\", \"pct_of_children_decrease\", \"time_in_program\"])\n",
    "\n",
    "list1h = [2,3,4,5,6,7]\n",
    "list2h = [11.4,13.3,17.0,22.4,17.0,14.7]\n",
    "list3h = [425,348,337,343,340,349]\n",
    "\n",
    "aasde['entry_score'] = list1h\n",
    "aasde['pct_of_children_decrease'] = list2h\n",
    "aasde['time_in_program'] = list3h\n",
    "\n",
    "print(aasde)"
   ]
  },
  {
   "cell_type": "code",
   "execution_count": null,
   "id": "7097f2ca",
   "metadata": {},
   "outputs": [],
   "source": [
    "\n",
    "ssingraph = ssin.plot(x = 'entry_score',\n",
    "                      y = 'time_in_program',\n",
    "                      title = '*******',\n",
    "                      xlabel = 'Entry Score',\n",
    "                      ylabel = 'Days in Program',\n",
    "                      kind = 'bar',)\n",
    "\n",
    "ssingraph.get_legend ().remove ()"
   ]
  },
  {
   "cell_type": "code",
   "execution_count": null,
   "id": "4b705022",
   "metadata": {},
   "outputs": [],
   "source": [
    "ksingraph = ksin.plot(x = 'entry_score',\n",
    "                      y = 'time_in_program',\n",
    "                      title = '******',\n",
    "                      xlabel = 'Entry Score',\n",
    "                      ylabel = 'Days in Program',\n",
    "                      kind = 'bar')\n",
    "\n",
    "ksingraph.get_legend ().remove ()"
   ]
  },
  {
   "cell_type": "code",
   "execution_count": null,
   "id": "f96c25f3",
   "metadata": {},
   "outputs": [],
   "source": [
    "aasingraph = aasin.plot(x = 'entry_score',\n",
    "                        y = 'time_in_program',\n",
    "                        title = '******',\n",
    "                        xlabel = 'Entry Score',\n",
    "                        ylabel = 'Days in Program',\n",
    "                        kind = 'bar')\n",
    "\n",
    "aasingraph.get_legend ().remove ()"
   ]
  },
  {
   "cell_type": "code",
   "execution_count": null,
   "id": "d6106acc",
   "metadata": {},
   "outputs": [],
   "source": [
    "ssingrapha = ssin.plot(x = 'entry_score',\n",
    "                      y = 'pct_of_children_improved',\n",
    "                      xlabel = 'Entry Score',\n",
    "                      ylabel = 'Children Showing Improvement [%]',\n",
    "                      kind = 'bar')\n",
    "\n",
    "ssingrapha.get_legend ().remove ()"
   ]
  },
  {
   "cell_type": "code",
   "execution_count": null,
   "id": "93f8fb54",
   "metadata": {},
   "outputs": [],
   "source": [
    "ksingrapha = ksin.plot(x = 'entry_score',\n",
    "                      y = 'pct_of_children_improved',\n",
    "                      xlabel = 'Entry Score',\n",
    "                      ylabel = 'Children Showing Improvement [%]',\n",
    "                      kind = 'bar')\n",
    "\n",
    "ksingrapha.get_legend ().remove ()"
   ]
  },
  {
   "cell_type": "code",
   "execution_count": null,
   "id": "4c17e9ae",
   "metadata": {},
   "outputs": [],
   "source": [
    "aasingrapha = aasin.plot(x = 'entry_score',\n",
    "                      y = 'pct_of_children_improved',\n",
    "                      xlabel = 'Entry Score',\n",
    "                      ylabel = 'Children Showing Improvement [%]',\n",
    "                      kind = 'bar')\n",
    "\n",
    "aasingrapha.get_legend ().remove ()"
   ]
  },
  {
   "cell_type": "code",
   "execution_count": null,
   "id": "5f43875d",
   "metadata": {},
   "outputs": [],
   "source": [
    "ssncgraph = ssnc.plot(x = 'entry_score',\n",
    "                      y = 'time_in_program',\n",
    "                      title = '*******',\n",
    "                      xlabel = 'Entry Score',\n",
    "                      ylabel = 'Days in Program',\n",
    "                      kind = 'bar',)\n",
    "\n",
    "ssncgraph.get_legend ().remove ()"
   ]
  },
  {
   "cell_type": "code",
   "execution_count": null,
   "id": "c58310a2",
   "metadata": {},
   "outputs": [],
   "source": [
    "ksncgraph = ksnc.plot(x = 'entry_score',\n",
    "                      y = 'time_in_program',\n",
    "                      title = '*******',\n",
    "                      xlabel = 'Entry Score',\n",
    "                      ylabel = 'Days in Program',\n",
    "                      kind = 'bar',)\n",
    "\n",
    "\n",
    "ksncgraph.get_legend ().remove ()"
   ]
  },
  {
   "cell_type": "code",
   "execution_count": null,
   "id": "5aa2b42f",
   "metadata": {},
   "outputs": [],
   "source": [
    "aasncgraph = aasnc.plot(x = 'entry_score',\n",
    "                      y = 'time_in_program',\n",
    "                      title = '*******',\n",
    "                      xlabel = 'Entry Score',\n",
    "                      ylabel = 'Days in Program',\n",
    "                      kind = 'bar',)\n",
    "\n",
    "aasncgraph.get_legend ().remove ()"
   ]
  },
  {
   "cell_type": "code",
   "execution_count": null,
   "id": "88b2a0d1",
   "metadata": {},
   "outputs": [],
   "source": [
    "ssncgrapha = ssnc.plot(x = 'entry_score',\n",
    "                      y = 'pct_of_children_nochange',\n",
    "                      xlabel = 'Entry Score',\n",
    "                      ylabel = 'Children Showing No change  [%]',\n",
    "                      kind = 'bar')\n",
    "\n",
    "ssncgrapha.get_legend ().remove ()"
   ]
  },
  {
   "cell_type": "code",
   "execution_count": null,
   "id": "7946569b",
   "metadata": {},
   "outputs": [],
   "source": [
    "ksncgrapha = ksnc.plot(x = 'entry_score',\n",
    "                      y = 'pct_of_children_nochange',\n",
    "                      xlabel = 'Entry Score',\n",
    "                      ylabel = 'Children Showing No change  [%]',\n",
    "                      kind = 'bar')\n",
    "\n",
    "ksncgrapha.get_legend ().remove ()"
   ]
  },
  {
   "cell_type": "code",
   "execution_count": null,
   "id": "d3518f32",
   "metadata": {},
   "outputs": [],
   "source": [
    "aasncgrapha = aasnc.plot(x = 'entry_score',\n",
    "                      y = 'pct_of_children_nochange',\n",
    "                      xlabel = 'Entry Score',\n",
    "                      ylabel = 'Children Showing No change  [%]',\n",
    "                      kind = 'bar')\n",
    "\n",
    "aasncgrapha.get_legend ().remove ()"
   ]
  },
  {
   "cell_type": "code",
   "execution_count": null,
   "id": "71c4b55c",
   "metadata": {},
   "outputs": [],
   "source": [
    "ssdegraph = ssde.plot(x = 'entry_score',\n",
    "                      y = 'time_in_program',\n",
    "                      title = '*******',\n",
    "                      xlabel = 'Entry Score',\n",
    "                      ylabel = 'Days in Program',\n",
    "                      kind = 'bar',)\n",
    "\n",
    "ssdegraph.get_legend ().remove ()"
   ]
  },
  {
   "cell_type": "code",
   "execution_count": null,
   "id": "0df00df8",
   "metadata": {},
   "outputs": [],
   "source": [
    "ksdegraph = ksde.plot(x = 'entry_score',\n",
    "                      y = 'time_in_program',\n",
    "                      title = '*******',\n",
    "                      xlabel = 'Entry Score',\n",
    "                      ylabel = 'Days in Program',\n",
    "                      kind = 'bar',)\n",
    "\n",
    "ksdegraph.get_legend ().remove ()"
   ]
  },
  {
   "cell_type": "code",
   "execution_count": null,
   "id": "90afeabd",
   "metadata": {},
   "outputs": [],
   "source": [
    "aasdegraph = aasde.plot(x = 'entry_score',\n",
    "                      y = 'time_in_program',\n",
    "                      title = '*******',\n",
    "                      xlabel = 'Entry Score',\n",
    "                      ylabel = 'Days in Program',\n",
    "                      kind = 'bar',)\n",
    "\n",
    "aasdegraph.get_legend ().remove ()"
   ]
  },
  {
   "cell_type": "code",
   "execution_count": null,
   "id": "ebaa7bb9",
   "metadata": {},
   "outputs": [],
   "source": [
    "ssdegrapha = ssde.plot(x = 'entry_score',\n",
    "                      y = 'pct_of_children_decrease',\n",
    "                      xlabel = 'Entry Score',\n",
    "                      ylabel = 'Children Showing Decrease  [%]',\n",
    "                      kind = 'bar')\n",
    "\n",
    "ssdegrapha.get_legend ().remove ()"
   ]
  },
  {
   "cell_type": "code",
   "execution_count": null,
   "id": "e7223e16",
   "metadata": {},
   "outputs": [],
   "source": [
    "ksdegrapha = ksde.plot(x = 'entry_score',\n",
    "                      y = 'pct_of_children_decrease',\n",
    "                      xlabel = 'Entry Score',\n",
    "                      ylabel = 'Children Showing Decrease  [%]',\n",
    "                      kind = 'bar')\n",
    "\n",
    "ksdegrapha.get_legend ().remove ()"
   ]
  },
  {
   "cell_type": "code",
   "execution_count": null,
   "id": "5e65ed17",
   "metadata": {},
   "outputs": [],
   "source": [
    "aasdegrapha = aasde.plot(x = 'entry_score',\n",
    "                      y = 'pct_of_children_decrease',\n",
    "                      xlabel = 'Entry Score',\n",
    "                      ylabel = 'Children Showing Decrease  [%]',\n",
    "                      kind = 'pie')\n",
    "\n",
    "aasdegrapha.get_legend ().remove ()"
   ]
  },
  {
   "cell_type": "markdown",
   "id": "85da056c",
   "metadata": {},
   "source": [
    "<!-- You can select a graph below and simply call it to show the results\n",
    "\n",
    "#Graphs for children whos entry scores increased: days in program by entry score\n",
    "ssingraph # social scale\n",
    "ksingraph # knowledge scale\n",
    "aasingraph # appropriate action scale\n",
    "\n",
    "#Graphs for children whos entry scores increased: percent of children with increase by entry score\n",
    "ssingrapha\n",
    "ksingrapha\n",
    "aasingrapha\n",
    "\n",
    "#Graphs for children whos entry scores did not change: days in program by entry score\n",
    "ssncgraph\n",
    "ksncgraph\n",
    "aasncgraph\n",
    "\n",
    "#Graphs for children whos entry scores did not change: percent of children with increase by entry score\n",
    "ssncgrapha\n",
    "ksncgrapha\n",
    "aasncgrapha\n",
    "\n",
    "#Graphs for children whos entry scores decreased: days in program by entry score\n",
    "ssdegraph\n",
    "ksdegraph\n",
    "aasdegraph\n",
    "\n",
    "#Graphs for children whos entry scores decreased: percent of children with increase by entry score\n",
    "ssdegrapha\n",
    "ksdegrapha\n",
    "aasdegrapha -->"
   ]
  },
  {
   "cell_type": "code",
   "execution_count": null,
   "id": "a4e2ba61",
   "metadata": {},
   "outputs": [],
   "source": [
    "\n",
    "##You can select a graph below and simply call it to show the results\n",
    "\n",
    "##Graphs for children whos entry scores increased: days in program by entry score\n",
    "## ssingraph # social scale\n",
    "## ksingraph # knowledge scale\n",
    "## aasingraph # appropriate action scale\n",
    "\n",
    "##Graphs for children whos entry scores increased: percent of children with increase by entry score\n",
    "## ssingrapha\n",
    "## ksingrapha\n",
    "## aasingrapha\n",
    "\n",
    "##Graphs for children whos entry scores did not change: days in program by entry score\n",
    "## ssncgraph\n",
    "## ksncgraph\n",
    "## aasncgraph\n",
    "\n",
    "##Graphs for children whos entry scores did not change: percent of children with increase by entry score\n",
    "## ssncgrapha\n",
    "## ksncgrapha\n",
    "## aasncgrapha\n",
    "\n",
    "##Graphs for children whos entry scores decreased: days in program by entry score\n",
    "## ssdegraph\n",
    "## ksdegraph\n",
    "## aasdegraph\n",
    "\n",
    "##Graphs for children whos entry scores decreased: percent of children with increase by entry score\n",
    "## ssdegrapha\n",
    "## ksdegrapha\n",
    "## aasdegrapha\n",
    "\n"
   ]
  },
  {
   "cell_type": "code",
   "execution_count": null,
   "id": "20de2166",
   "metadata": {
    "scrolled": false
   },
   "outputs": [],
   "source": [
    "eco_exit"
   ]
  },
  {
   "cell_type": "code",
   "execution_count": null,
   "id": "4f9b71ca",
   "metadata": {},
   "outputs": [],
   "source": [
    "eco_exit.describe()"
   ]
  },
  {
   "cell_type": "code",
   "execution_count": null,
   "id": "653df482",
   "metadata": {},
   "outputs": [],
   "source": []
  }
 ],
 "metadata": {
  "kernelspec": {
   "display_name": "Python 3 (ipykernel)",
   "language": "python",
   "name": "python3"
  },
  "language_info": {
   "codemirror_mode": {
    "name": "ipython",
    "version": 3
   },
   "file_extension": ".py",
   "mimetype": "text/x-python",
   "name": "python",
   "nbconvert_exporter": "python",
   "pygments_lexer": "ipython3",
   "version": "3.9.7"
  }
 },
 "nbformat": 4,
 "nbformat_minor": 5
}
