{
 "cells": [
  {
   "cell_type": "code",
   "execution_count": null,
   "id": "5843da8c",
   "metadata": {},
   "outputs": [],
   "source": [
    "import pandas as pd\n",
    "import numpy as np\n",
    "import matplotlib.pyplot as plt\n",
    "import seaborn as sns\n",
    "\n",
    "%matplotlib inline"
   ]
  },
  {
   "cell_type": "code",
   "execution_count": null,
   "id": "a2fac5bb",
   "metadata": {},
   "outputs": [],
   "source": [
    "##import worksheets\n",
    "\n",
    "project_data = pd.read_excel('../data/TEIS-NSS Project Data 10-2022.xlsx', \n",
    "                             sheet_name=['ECO with Exit21-22', 'Elig Timeline Rpt 2018-2022'])\n",
    "\n",
    "eco_exit = project_data.get('ECO with Exit21-22')\n",
    "elig_timeline = project_data.get('Elig Timeline Rpt 2018-2022')\n"
   ]
  },
  {
   "cell_type": "code",
   "execution_count": null,
   "id": "48ff5b03",
   "metadata": {},
   "outputs": [],
   "source": [
    "eco_exit = eco_exit[['DISTRICT', 'CHILD_ID', 'ECO_Entry_DATE', 'Ent SOCIAL_SCALE', 'Ent KNOWLEDGE_SCALE', 'Ent APPROPRIATE_ACTION_SCALE', 'ECO_Exit_DATE', 'Exit SOCIAL_SCALE', 'Exit KNOWLEDGE_SCALE', 'Exit APPROPRIATE_ACTION_SCALE', 'Days btw I-IFSP to Exit ECO']]\n",
    "eco_exit"
   ]
  },
  {
   "cell_type": "code",
   "execution_count": null,
   "id": "d2fda062",
   "metadata": {},
   "outputs": [],
   "source": [
    "##rename columns\n",
    "eco_exit = eco_exit.rename(columns={'DISTRICT':'district',\n",
    "                                    'CHILD_ID':'child_id',\n",
    "                                    'ECO_Entry_DATE':'eco_entry_date',\n",
    "                                    'Ent SOCIAL_SCALE':'ent_social',\n",
    "                                    'Ent KNOWLEDGE_SCALE':'ent_knowledge',\n",
    "                                    'Ent APPROPRIATE_ACTION_SCALE':'ent_approp_action',\n",
    "                                    'ECO_Exit_DATE':'eco_exit_date',\n",
    "                                    'Exit SOCIAL_SCALE':'exit_social',\n",
    "                                    'Exit KNOWLEDGE_SCALE':'exit_knowledge',\n",
    "                                    'Exit APPROPRIATE_ACTION_SCALE':'exit_approp_action',\n",
    "                                    'Days btw I-IFSP to Exit ECO': 'days_in_program'})"
   ]
  },
  {
   "cell_type": "code",
   "execution_count": null,
   "id": "035a7f02",
   "metadata": {},
   "outputs": [],
   "source": [
    "##drop NaN\n",
    "eco_exit = eco_exit.dropna(axis=0)\n",
    "eco_exit"
   ]
  },
  {
   "cell_type": "code",
   "execution_count": null,
   "id": "02de419d",
   "metadata": {},
   "outputs": [],
   "source": [
    "##consolidate to entrance columns that contain 1s\n",
    "\n",
    "eco_exit_1 = eco_exit[eco_exit['ent_social'] == 1.0]\n",
    "eco_exit_1 = eco_exit[eco_exit['ent_knowledge'] == 1.0]\n",
    "eco_exit_1 = eco_exit[eco_exit['ent_approp_action'] == 1.0]\n",
    "eco_exit_1"
   ]
  },
  {
   "cell_type": "code",
   "execution_count": null,
   "id": "169f2f6e",
   "metadata": {},
   "outputs": [],
   "source": [
    "##created dfs for all 1s that remained the same. Each df is for a specific metric\n",
    "same_soc = eco_exit_1[(eco_exit_1['exit_social'] == 1) & (eco_exit_1['ent_social'] == 1)]\n",
    "same_knowl = eco_exit_1[(eco_exit_1['exit_knowledge'] == 1) & (eco_exit_1['ent_knowledge'] == 1)]\n",
    "same_aa = eco_exit_1[(eco_exit_1['exit_approp_action'] == 1) & (eco_exit_1['ent_approp_action'] == 1)]\n",
    "\n",
    "##created dfs for all 1s that improved. Each df is for a specific metric\n",
    "imp_soc = eco_exit_1[(eco_exit_1['exit_social'] > 1) & (eco_exit_1['ent_social'] == 1)]\n",
    "imp_knowl = eco_exit_1[(eco_exit_1['exit_knowledge'] > 1) & (eco_exit_1['ent_knowledge'] == 1)]\n",
    "imp_aa = eco_exit_1[(eco_exit_1['exit_approp_action'] > 1) & (eco_exit_1['ent_approp_action'] == 1)]\n",
    "\n",
    "soc2 = eco_exit_1[(eco_exit_1['exit_social'] == 2) & (eco_exit_1['ent_social'] == 1)]\n",
    "knowl2 = eco_exit_1[(eco_exit_1['exit_knowledge'] == 2) & (eco_exit_1['ent_knowledge'] == 1)]\n",
    "aa2 = eco_exit_1[(eco_exit_1['exit_approp_action'] == 2) & (eco_exit_1['ent_approp_action'] == 1)]\n",
    "\n",
    "soc3 = eco_exit_1[(eco_exit_1['exit_social'] == 3) & (eco_exit_1['ent_social'] == 1)]\n",
    "knowl3 = eco_exit_1[(eco_exit_1['exit_knowledge'] == 3) & (eco_exit_1['ent_knowledge'] == 1)]\n",
    "aa3 = eco_exit_1[(eco_exit_1['exit_approp_action'] == 3) & (eco_exit_1['ent_approp_action'] == 1)] \n",
    "\n",
    "soc4 = eco_exit_1[(eco_exit_1['exit_social'] == 4) & (eco_exit_1['ent_social'] == 1)]\n",
    "knowl4 = eco_exit_1[(eco_exit_1['exit_knowledge'] == 4) & (eco_exit_1['ent_knowledge'] == 1)]\n",
    "aa4 = eco_exit_1[(eco_exit_1['exit_approp_action'] == 4) & (eco_exit_1['ent_approp_action'] == 1)]\n",
    "\n",
    "soc5 = eco_exit_1[(eco_exit_1['exit_social'] == 5) & (eco_exit_1['ent_social'] == 1)]\n",
    "knowl5 = eco_exit_1[(eco_exit_1['exit_knowledge'] == 5) & (eco_exit_1['ent_knowledge'] == 1)]\n",
    "aa5 = eco_exit_1[(eco_exit_1['exit_approp_action'] == 5) & (eco_exit_1['ent_approp_action'] == 1)] \n",
    "\n",
    "soc6 = eco_exit_1[(eco_exit_1['exit_social'] == 6) & (eco_exit_1['ent_social'] == 1)]\n",
    "knowl6 = eco_exit_1[(eco_exit_1['exit_knowledge'] == 6) & (eco_exit_1['ent_knowledge'] == 1)]\n",
    "aa6 = eco_exit_1[(eco_exit_1['exit_approp_action'] == 6) & (eco_exit_1['ent_approp_action'] == 1)]\n",
    "\n",
    "soc7 = eco_exit_1[(eco_exit_1['exit_social'] == 7) & (eco_exit_1['ent_social'] == 1)]\n",
    "knowl7 = eco_exit_1[(eco_exit_1['exit_knowledge'] == 7) & (eco_exit_1['ent_knowledge'] == 1)]\n",
    "aa7 = eco_exit_1[(eco_exit_1['exit_approp_action'] == 7) & (eco_exit_1['ent_approp_action'] == 1)]   "
   ]
  },
  {
   "cell_type": "code",
   "execution_count": null,
   "id": "eec7b4bf",
   "metadata": {},
   "outputs": [],
   "source": [
    "print(len(same_soc)/len(eco_exit_1)*100)\n",
    "print(len(same_knowl)/len(eco_exit_1)*100)\n",
    "print(len(same_aa)/len(eco_exit_1)*100)\n",
    "print(' ')\n",
    "print(len(imp_soc)/len(eco_exit_1)*100)\n",
    "print(len(imp_knowl)/len(eco_exit_1)*100)\n",
    "print(len(imp_aa)/len(eco_exit_1)*100)\n",
    "print(' ')"
   ]
  },
  {
   "cell_type": "markdown",
   "id": "3279c89f",
   "metadata": {},
   "source": [
    "## % stats for kids that showed no improvement and some improvement\n",
    "### No improvement\n",
    "##### Social --                       26.3 \n",
    "##### Knowledge --              21.90 \n",
    "##### Appropriate Action -- 31.41 \n",
    "### Improvement\n",
    "##### Social --                       31.92 \n",
    "##### Knowledge --              20.33 \n",
    "##### Appropriate Action -- 67.58 "
   ]
  },
  {
   "cell_type": "code",
   "execution_count": null,
   "id": "cd7c5e3b",
   "metadata": {},
   "outputs": [],
   "source": []
  }
 ],
 "metadata": {
  "kernelspec": {
   "display_name": "Python 3 (ipykernel)",
   "language": "python",
   "name": "python3"
  },
  "language_info": {
   "codemirror_mode": {
    "name": "ipython",
    "version": 3
   },
   "file_extension": ".py",
   "mimetype": "text/x-python",
   "name": "python",
   "nbconvert_exporter": "python",
   "pygments_lexer": "ipython3",
   "version": "3.9.7"
  }
 },
 "nbformat": 4,
 "nbformat_minor": 5
}
