{
 "cells": [
  {
   "cell_type": "code",
   "execution_count": null,
   "id": "60a70c59",
   "metadata": {},
   "outputs": [],
   "source": [
    "import pandas as pd\n",
    "import numpy as np\n",
    "import matplotlib.pyplot as plt\n",
    "import seaborn as sns\n",
    "\n",
    "%matplotlib inline"
   ]
  },
  {
   "cell_type": "code",
   "execution_count": null,
   "id": "32f662d3",
   "metadata": {},
   "outputs": [],
   "source": [
    "##import worksheets\n",
    "\n",
    "project_data = pd.read_excel('../data/TEIS-NSS Project Data 10-2022.xlsx', \n",
    "                             sheet_name=['ECO with Exit21-22', 'Elig Timeline Rpt 2018-2022'])\n",
    "\n",
    "eco_exit = project_data.get('ECO with Exit21-22')\n",
    "elig_timeline = project_data.get('Elig Timeline Rpt 2018-2022')\n"
   ]
  },
  {
   "cell_type": "code",
   "execution_count": null,
   "id": "e25936ec",
   "metadata": {},
   "outputs": [],
   "source": [
    "eco_exit = eco_exit[['DISTRICT', 'CHILD_ID', 'ECO_Entry_DATE', 'Ent SOCIAL_SCALE', 'Ent KNOWLEDGE_SCALE', 'Ent APPROPRIATE_ACTION_SCALE', 'ECO_Exit_DATE', 'Exit SOCIAL_SCALE', 'Exit KNOWLEDGE_SCALE', 'Exit APPROPRIATE_ACTION_SCALE', 'Days btw I-IFSP to Exit ECO']]\n",
    "eco_exit"
   ]
  },
  {
   "cell_type": "code",
   "execution_count": null,
   "id": "be5d4f85",
   "metadata": {},
   "outputs": [],
   "source": [
    "##rename columns\n",
    "eco_exit = eco_exit.rename(columns={'DISTRICT':'district',\n",
    "                                    'CHILD_ID':'child_id',\n",
    "                                    'ECO_Entry_DATE':'eco_entry_date',\n",
    "                                    'Ent SOCIAL_SCALE':'ent_social',\n",
    "                                    'Ent KNOWLEDGE_SCALE':'ent_knowledge',\n",
    "                                    'Ent APPROPRIATE_ACTION_SCALE':'ent_approp_action',\n",
    "                                    'ECO_Exit_DATE':'eco_exit_date',\n",
    "                                    'Exit SOCIAL_SCALE':'exit_social',\n",
    "                                    'Exit KNOWLEDGE_SCALE':'exit_knowledge',\n",
    "                                    'Exit APPROPRIATE_ACTION_SCALE':'exit_approp_action',\n",
    "                                    'Days btw I-IFSP to Exit ECO': 'days_in_program'})"
   ]
  },
  {
   "cell_type": "code",
   "execution_count": null,
   "id": "9cb5ca54",
   "metadata": {
    "scrolled": false
   },
   "outputs": [],
   "source": [
    "##drop NaN\n",
    "eco_exit = eco_exit.dropna(axis=0)\n",
    "eco_exit"
   ]
  },
  {
   "cell_type": "code",
   "execution_count": null,
   "id": "21179200",
   "metadata": {},
   "outputs": [],
   "source": [
    "##consolidated to 3 separate DFs. One for each category to average among the 1s in each\n",
    "\n",
    "soc1 = eco_exit[eco_exit['ent_social'] == 1.0]\n",
    "knowl1 = eco_exit[eco_exit['ent_knowledge'] == 1.0]\n",
    "aa1 = eco_exit_1[eco_exit['ent_approp_action'] == 1.0]\n",
    "\n",
    "##DFs for each category that showed no improvement\n",
    "samesoc = soc1[soc1['exit_social'] == 1]\n",
    "sameknowl = knowl1[knowl1['exit_knowledge'] == 1]\n",
    "sameaa = aa1[aa1['exit_approp_action'] == 1]\n",
    "\n",
    "##DFs for each category that improved\n",
    "impsoc  = soc1[soc1['exit_social'] > 1]\n",
    "impknowl= knowl1[knowl1['exit_knowledge'] > 1]\n",
    "impaa  = aa1[aa1['exit_approp_action'] > 1]"
   ]
  },
  {
   "cell_type": "code",
   "execution_count": null,
   "id": "e396a4b6",
   "metadata": {},
   "outputs": [],
   "source": [
    "print('percent that stayed the same')\n",
    "print(len(samesoc)/len(soc1)*100)\n",
    "print(len(sameknowl)/len(knowl1)*100)\n",
    "print(len(sameaa)/len(aa1)*100)\n",
    "print(' ')\n",
    "print('percent that improved')\n",
    "print(len(impsoc)/len(soc1)*100)\n",
    "print(len(impknowl)/len(knowl1)*100)\n",
    "print(len(impaa)/len(aa1)*100)"
   ]
  },
  {
   "cell_type": "code",
   "execution_count": null,
   "id": "9d06362a",
   "metadata": {},
   "outputs": [],
   "source": [
    "samesoc['days_in_program'].median()"
   ]
  },
  {
   "cell_type": "code",
   "execution_count": null,
   "id": "2c0dfeb6",
   "metadata": {},
   "outputs": [],
   "source": [
    "sameknowl['days_in_program'].median()"
   ]
  },
  {
   "cell_type": "code",
   "execution_count": null,
   "id": "87949951",
   "metadata": {},
   "outputs": [],
   "source": [
    "sameaa['days_in_program'].median()"
   ]
  },
  {
   "cell_type": "code",
   "execution_count": null,
   "id": "4f88a975",
   "metadata": {},
   "outputs": [],
   "source": [
    "impsoc['days_in_program'].median()"
   ]
  },
  {
   "cell_type": "code",
   "execution_count": null,
   "id": "fa76307f",
   "metadata": {},
   "outputs": [],
   "source": [
    "impknowl['days_in_program'].median()"
   ]
  },
  {
   "cell_type": "code",
   "execution_count": null,
   "id": "282c02f6",
   "metadata": {},
   "outputs": [],
   "source": [
    "impaa['days_in_program'].median()"
   ]
  },
  {
   "cell_type": "code",
   "execution_count": null,
   "id": "4e62ae5f",
   "metadata": {},
   "outputs": [],
   "source": [
    "eco_exit['days_in_program'].median()"
   ]
  },
  {
   "cell_type": "code",
   "execution_count": null,
   "id": "d6859624",
   "metadata": {},
   "outputs": [],
   "source": [
    "eco_exit['district'].unique()"
   ]
  },
  {
   "cell_type": "code",
   "execution_count": null,
   "id": "dd4a7a0f",
   "metadata": {},
   "outputs": [],
   "source": [
    "eco_et = eco_exit.loc[eco_exit['district']=='ET']\n",
    "eco_ft = eco_exit.loc[eco_exit['district']=='FT']\n",
    "eco_gn = eco_exit.loc[eco_exit['district']=='GN']\n",
    "eco_md = eco_exit.loc[eco_exit['district']=='MD']\n",
    "eco_nw = eco_exit.loc[eco_exit['district']=='NW']\n",
    "eco_sc = eco_exit.loc[eco_exit['district']=='SC']\n",
    "eco_se = eco_exit.loc[eco_exit['district']=='SE']\n",
    "eco_sw = eco_exit.loc[eco_exit['district']=='SW']\n",
    "eco_uc = eco_exit.loc[eco_exit['district']=='UC']"
   ]
  },
  {
   "cell_type": "code",
   "execution_count": null,
   "id": "0b66fa3a",
   "metadata": {},
   "outputs": [],
   "source": [
    "eco_et['days_in_program'].median()"
   ]
  },
  {
   "cell_type": "code",
   "execution_count": null,
   "id": "d957c898",
   "metadata": {},
   "outputs": [],
   "source": [
    "eco_ft['days_in_program'].median()"
   ]
  },
  {
   "cell_type": "code",
   "execution_count": null,
   "id": "c417e302",
   "metadata": {},
   "outputs": [],
   "source": [
    "eco_gn['days_in_program'].median()"
   ]
  },
  {
   "cell_type": "code",
   "execution_count": null,
   "id": "9254bba6",
   "metadata": {},
   "outputs": [],
   "source": [
    "eco_md['days_in_program'].median()"
   ]
  },
  {
   "cell_type": "code",
   "execution_count": null,
   "id": "9752bcfe",
   "metadata": {},
   "outputs": [],
   "source": [
    "eco_nw['days_in_program'].median()"
   ]
  },
  {
   "cell_type": "code",
   "execution_count": null,
   "id": "534046bc",
   "metadata": {},
   "outputs": [],
   "source": [
    "eco_sc['days_in_program'].median()"
   ]
  },
  {
   "cell_type": "code",
   "execution_count": null,
   "id": "7bd18718",
   "metadata": {},
   "outputs": [],
   "source": [
    "eco_se['days_in_program'].median()"
   ]
  },
  {
   "cell_type": "code",
   "execution_count": null,
   "id": "b8de4b35",
   "metadata": {},
   "outputs": [],
   "source": [
    "eco_sw['days_in_program'].median()"
   ]
  },
  {
   "cell_type": "code",
   "execution_count": null,
   "id": "a1fa796d",
   "metadata": {},
   "outputs": [],
   "source": [
    "eco_uc['days_in_program'].median()"
   ]
  },
  {
   "cell_type": "code",
   "execution_count": null,
   "id": "02ae16d0",
   "metadata": {},
   "outputs": [],
   "source": [
    "eco_et['ent_social'].mean()"
   ]
  },
  {
   "cell_type": "code",
   "execution_count": null,
   "id": "7f24ca0c",
   "metadata": {},
   "outputs": [],
   "source": [
    "for x in eco_exit['district']:\n",
    "    if x == 'ET':\n",
    "        print(eco_exit['ent_social'].mean())\n",
    "    \n",
    "    "
   ]
  },
  {
   "cell_type": "code",
   "execution_count": null,
   "id": "317ac0dd",
   "metadata": {},
   "outputs": [],
   "source": []
  }
 ],
 "metadata": {
  "kernelspec": {
   "display_name": "Python 3 (ipykernel)",
   "language": "python",
   "name": "python3"
  },
  "language_info": {
   "codemirror_mode": {
    "name": "ipython",
    "version": 3
   },
   "file_extension": ".py",
   "mimetype": "text/x-python",
   "name": "python",
   "nbconvert_exporter": "python",
   "pygments_lexer": "ipython3",
   "version": "3.9.7"
  }
 },
 "nbformat": 4,
 "nbformat_minor": 5
}
