{
 "cells": [
  {
   "cell_type": "code",
   "execution_count": null,
   "id": "60a70c59",
   "metadata": {},
   "outputs": [],
   "source": [
    "import pandas as pd\n",
    "import numpy as np\n",
    "import matplotlib.pyplot as plt\n",
    "import seaborn as sns\n",
    "\n",
    "%matplotlib inline"
   ]
  },
  {
   "cell_type": "code",
   "execution_count": null,
   "id": "32f662d3",
   "metadata": {},
   "outputs": [],
   "source": [
    "##import worksheets\n",
    "\n",
    "project_data = pd.read_excel('../data/TEIS-NSS Project Data 10-2022.xlsx', \n",
    "                             sheet_name=['ECO with Exit21-22', 'Elig Timeline Rpt 2018-2022'])\n",
    "\n",
    "eco_exit = project_data.get('ECO with Exit21-22')\n",
    "elig_timeline = project_data.get('Elig Timeline Rpt 2018-2022')\n"
   ]
  },
  {
   "cell_type": "code",
   "execution_count": null,
   "id": "e25936ec",
   "metadata": {},
   "outputs": [],
   "source": [
    "eco_exit = eco_exit[['DISTRICT', 'CHILD_ID', 'ECO_Entry_DATE', 'Ent SOCIAL_SCALE', 'Ent KNOWLEDGE_SCALE', 'Ent APPROPRIATE_ACTION_SCALE', 'ECO_Exit_DATE', 'Exit SOCIAL_SCALE', 'Exit KNOWLEDGE_SCALE', 'Exit APPROPRIATE_ACTION_SCALE', 'Days btw I-IFSP to Exit ECO']]\n",
    "eco_exit"
   ]
  },
  {
   "cell_type": "code",
   "execution_count": null,
   "id": "be5d4f85",
   "metadata": {},
   "outputs": [],
   "source": [
    "##rename columns\n",
    "eco_exit = eco_exit.rename(columns={'DISTRICT':'district',\n",
    "                                    'CHILD_ID':'child_id',\n",
    "                                    'ECO_Entry_DATE':'eco_entry_date',\n",
    "                                    'Ent SOCIAL_SCALE':'ent_social',\n",
    "                                    'Ent KNOWLEDGE_SCALE':'ent_knowledge',\n",
    "                                    'Ent APPROPRIATE_ACTION_SCALE':'ent_approp_action',\n",
    "                                    'ECO_Exit_DATE':'eco_exit_date',\n",
    "                                    'Exit SOCIAL_SCALE':'exit_social',\n",
    "                                    'Exit KNOWLEDGE_SCALE':'exit_knowledge',\n",
    "                                    'Exit APPROPRIATE_ACTION_SCALE':'exit_approp_action',\n",
    "                                    'Days btw I-IFSP to Exit ECO': 'days_in_program'})"
   ]
  },
  {
   "cell_type": "code",
   "execution_count": null,
   "id": "9cb5ca54",
   "metadata": {
    "scrolled": false
   },
   "outputs": [],
   "source": [
    "##drop NaN\n",
    "eco_exit = eco_exit.dropna(axis=0)\n",
    "eco_exit"
   ]
  },
  {
   "cell_type": "code",
   "execution_count": null,
   "id": "21179200",
   "metadata": {},
   "outputs": [],
   "source": [
    "##consolidated to 3 separate DFs. One for each category to average among the 1s in each\n",
    "\n",
    "soc1 = eco_exit[eco_exit['ent_social'] == 1.0]\n",
    "knowl1 = eco_exit[eco_exit['ent_knowledge'] == 1.0]\n",
    "aa1 = eco_exit[eco_exit['ent_approp_action'] == 1.0]\n",
    "\n",
    "##DFs for each category that showed no improvement\n",
    "samesoc = soc1[soc1['exit_social'] == 1]\n",
    "sameknowl = knowl1[knowl1['exit_knowledge'] == 1]\n",
    "sameaa = aa1[aa1['exit_approp_action'] == 1]\n",
    "\n",
    "##DFs for each category that improved\n",
    "impsoc  = soc1[soc1['exit_social'] > 1]\n",
    "impknowl= knowl1[knowl1['exit_knowledge'] > 1]\n",
    "impaa  = aa1[aa1['exit_approp_action'] > 1]"
   ]
  },
  {
   "cell_type": "code",
   "execution_count": null,
   "id": "e396a4b6",
   "metadata": {},
   "outputs": [],
   "source": [
    "print('percent that stayed the same')\n",
    "print(len(samesoc)/len(soc1)*100)\n",
    "print(len(sameknowl)/len(knowl1)*100)\n",
    "print(len(sameaa)/len(aa1)*100)\n",
    "print(' ')\n",
    "print('percent that improved')\n",
    "print(len(impsoc)/len(soc1)*100)\n",
    "print(len(impknowl)/len(knowl1)*100)\n",
    "print(len(impaa)/len(aa1)*100)"
   ]
  },
  {
   "cell_type": "code",
   "execution_count": null,
   "id": "9d06362a",
   "metadata": {},
   "outputs": [],
   "source": [
    "samesoc['days_in_program'].median()"
   ]
  },
  {
   "cell_type": "code",
   "execution_count": null,
   "id": "8e645ac9",
   "metadata": {},
   "outputs": [],
   "source": [
    "sameknowl['days_in_program'].median()"
   ]
  },
  {
   "cell_type": "code",
   "execution_count": null,
   "id": "2f8a21ef",
   "metadata": {},
   "outputs": [],
   "source": [
    "sameaa['days_in_program'].median()"
   ]
  },
  {
   "cell_type": "code",
   "execution_count": null,
   "id": "60fa9352",
   "metadata": {},
   "outputs": [],
   "source": [
    "impsoc['days_in_program'].median()"
   ]
  },
  {
   "cell_type": "code",
   "execution_count": null,
   "id": "718c4c3f",
   "metadata": {},
   "outputs": [],
   "source": [
    "impknowl['days_in_program'].median()"
   ]
  },
  {
   "cell_type": "code",
   "execution_count": null,
   "id": "799d7ae2",
   "metadata": {},
   "outputs": [],
   "source": [
    "impaa['days_in_program'].median()"
   ]
  },
  {
   "cell_type": "code",
   "execution_count": null,
   "id": "71e8b9b4",
   "metadata": {},
   "outputs": [],
   "source": [
    "eco_exit['days_in_program'].median()"
   ]
  },
  {
   "cell_type": "code",
   "execution_count": null,
   "id": "b96b39b3",
   "metadata": {},
   "outputs": [],
   "source": [
    "eco_exit['district'].unique()"
   ]
  },
  {
   "cell_type": "code",
   "execution_count": null,
   "id": "b2d416d0",
   "metadata": {},
   "outputs": [],
   "source": [
    "eco_et = eco_exit.loc[eco_exit['district']=='ET']\n",
    "eco_ft = eco_exit.loc[eco_exit['district']=='FT']\n",
    "eco_gn = eco_exit.loc[eco_exit['district']=='GN']\n",
    "eco_md = eco_exit.loc[eco_exit['district']=='MD']\n",
    "eco_nw = eco_exit.loc[eco_exit['district']=='NW']\n",
    "eco_sc = eco_exit.loc[eco_exit['district']=='SC']\n",
    "eco_se = eco_exit.loc[eco_exit['district']=='SE']\n",
    "eco_sw = eco_exit.loc[eco_exit['district']=='SW']\n",
    "eco_uc = eco_exit.loc[eco_exit['district']=='UC']"
   ]
  },
  {
   "cell_type": "code",
   "execution_count": null,
   "id": "59d1ae7e",
   "metadata": {},
   "outputs": [],
   "source": [
    "eco_et['days_in_program'].median()"
   ]
  },
  {
   "cell_type": "code",
   "execution_count": null,
   "id": "58531db9",
   "metadata": {},
   "outputs": [],
   "source": [
    "eco_ft['days_in_program'].median()"
   ]
  },
  {
   "cell_type": "code",
   "execution_count": null,
   "id": "dceb4eb4",
   "metadata": {},
   "outputs": [],
   "source": [
    "eco_gn['days_in_program'].median()"
   ]
  },
  {
   "cell_type": "code",
   "execution_count": null,
   "id": "ff56aec3",
   "metadata": {},
   "outputs": [],
   "source": [
    "eco_md['days_in_program'].median()"
   ]
  },
  {
   "cell_type": "code",
   "execution_count": null,
   "id": "0a2284d2",
   "metadata": {},
   "outputs": [],
   "source": [
    "eco_nw['days_in_program'].median()"
   ]
  },
  {
   "cell_type": "code",
   "execution_count": null,
   "id": "c73d018a",
   "metadata": {},
   "outputs": [],
   "source": [
    "eco_sc['days_in_program'].median()"
   ]
  },
  {
   "cell_type": "code",
   "execution_count": null,
   "id": "352bca27",
   "metadata": {},
   "outputs": [],
   "source": [
    "eco_se['days_in_program'].median()"
   ]
  },
  {
   "cell_type": "code",
   "execution_count": null,
   "id": "03e7831a",
   "metadata": {},
   "outputs": [],
   "source": [
    "eco_sw['days_in_program'].median()"
   ]
  },
  {
   "cell_type": "code",
   "execution_count": null,
   "id": "526c2bdc",
   "metadata": {},
   "outputs": [],
   "source": [
    "eco_uc['days_in_program'].median()"
   ]
  },
  {
   "cell_type": "code",
   "execution_count": null,
   "id": "b829cad9",
   "metadata": {},
   "outputs": [],
   "source": [
    "entry= pd.DataFrame(columns=['point_of_entry', 'avg_days_of_service'])\n",
    "col1 = ['ET', 'FT', 'GN', 'MD', 'NW', 'SC', 'SE', 'SW', 'UC']\n",
    "col2 = [352, 347,339,349,351,322,344,347,351]\n",
    "\n",
    "entry['point_of_entry'] = col1\n",
    "entry['avg_days_of_service'] = col2\n",
    "\n",
    "\n"
   ]
  },
  {
   "cell_type": "code",
   "execution_count": null,
   "id": "9b0890a6",
   "metadata": {},
   "outputs": [],
   "source": [
    "eco_exit"
   ]
  },
  {
   "cell_type": "code",
   "execution_count": null,
   "id": "a6397e67",
   "metadata": {},
   "outputs": [],
   "source": [
    "eco_et['ent_social'].mean()"
   ]
  },
  {
   "cell_type": "code",
   "execution_count": null,
   "id": "6cd2e151",
   "metadata": {},
   "outputs": [],
   "source": [
    "#social scale increase df\n",
    "ssin = pd.DataFrame()\n",
    "\n",
    "ssin =pd.DataFrame(columns=[\"entry_score\", \"pct_of_children_improved\", \"time_in_program\"])\n",
    "\n",
    "list1 = [1,2,3,4,5,6]\n",
    "list2 = [57.9,77.2,71.6,75.0,71.14,60.0]\n",
    "list3 = [364,490,357,345,335,194] \n",
    "\n",
    "ssin['entry_score'] = list1\n",
    "ssin['pct_of_children_improved'] = list2\n",
    "ssin['time_in_program'] = list3\n",
    "\n",
    "print(ssin)"
   ]
  },
  {
   "cell_type": "code",
   "execution_count": null,
   "id": "d28e2547",
   "metadata": {},
   "outputs": [],
   "source": [
    "#knowledge scale increase df\n",
    "ksin = pd.DataFrame()\n",
    "\n",
    "ksin =pd.DataFrame(columns=[\"entry_score\", \"pct_of_children_improved\", \"time_in_program\"])\n",
    "\n",
    "list1a = [1,2,3,4,5,6]\n",
    "list2a = [52.1,50.5,41.3,52.0,49.2,53.0]\n",
    "list3a = [480,335,336,348,353,338]\n",
    "\n",
    "ksin['entry_score'] = list1a\n",
    "ksin['pct_of_children_improved'] = list2a\n",
    "ksin['time_in_program'] = list3a\n",
    "\n",
    "print(ksin)"
   ]
  },
  {
   "cell_type": "code",
   "execution_count": null,
   "id": "012ad197",
   "metadata": {},
   "outputs": [],
   "source": [
    "#appropriate action scale increase df\n",
    "aasin = pd.DataFrame()\n",
    "\n",
    "aasin =pd.DataFrame(columns=[\"entry_score\", \"pct_of_children_improved\", \"time_in_program\"])\n",
    "\n",
    "list1b = [1,2,3,4,5,6]\n",
    "list2b = [67.6,74.2,66.9,61.0,64.0,56.0]\n",
    "list3b = [693,523,352,342,335,201] # need to update value 3\n",
    "\n",
    "aasin['entry_score'] = list1b\n",
    "aasin['pct_of_children_improved'] = list2b\n",
    "aasin['time_in_program'] = list3b\n",
    "\n",
    "print(aasin)"
   ]
  },
  {
   "cell_type": "code",
   "execution_count": null,
   "id": "63b490b8",
   "metadata": {},
   "outputs": [],
   "source": [
    "#social scale no change df\n",
    "ssnc = pd.DataFrame()\n",
    "\n",
    "ssnc =pd.DataFrame(columns=[\"entry_score\", \"pct_of_children_nochange\", \"time_in_program\"])\n",
    "\n",
    "list1c = [1,2,3,4,5,6,7]\n",
    "list2c = [42.1,14.5,19.8,14.0,21.9,34.0,88.4]\n",
    "list3c = [317,227,183,189,182,182,188]\n",
    "\n",
    "ssnc['entry_score'] = list1c\n",
    "ssnc['pct_of_children_nochange'] = list2c\n",
    "ssnc['time_in_program'] = list3c\n",
    "\n",
    "print(ssnc)"
   ]
  },
  {
   "cell_type": "code",
   "execution_count": null,
   "id": "a9f3598f",
   "metadata": {},
   "outputs": [],
   "source": [
    "#knowledge scale no change df\n",
    "ksnc = pd.DataFrame()\n",
    "\n",
    "ksnc =pd.DataFrame(columns=[\"entry_score\", \"pct_of_children_nochange\", \"time_in_program\"])\n",
    "\n",
    "list1d = [1,2,3,4,5,6,7]\n",
    "list2d = [47.9,17.5,31.7,18.0,21.8,27.0,85.0]\n",
    "list3d = [196,180,186,234,325,189,186]\n",
    "\n",
    "ksnc['entry_score'] = list1d\n",
    "ksnc['pct_of_children_nochange'] = list2d\n",
    "ksnc['time_in_program'] = list3d\n",
    "\n",
    "print(ksnc)"
   ]
  },
  {
   "cell_type": "code",
   "execution_count": null,
   "id": "640c9e72",
   "metadata": {},
   "outputs": [],
   "source": [
    "#appropriate action scale no change df\n",
    "aasnc = pd.DataFrame()\n",
    "\n",
    "aasnc = pd.DataFrame(columns=[\"entry_score\", \"pct_of_children_nochange\", \"time_in_program\"])\n",
    "\n",
    "list1e = [1,2,3,4,5,6,7]\n",
    "list2e = [32.4,14.4,19.8,22,13.6,27,85.3]\n",
    "list3e = [362,185,203,184,184,183,250]\n",
    "\n",
    "aasnc['entry_score'] = list1e\n",
    "aasnc['pct_of_children_nochange'] = list2e\n",
    "aasnc['time_in_program'] = list3e\n",
    "\n",
    "print(aasnc)"
   ]
  },
  {
   "cell_type": "code",
   "execution_count": null,
   "id": "d82cd0d4",
   "metadata": {},
   "outputs": [],
   "source": [
    "#social scale decrease df\n",
    "ssde = pd.DataFrame()\n",
    "\n",
    "ssde =pd.DataFrame(columns=[\"entry_score\", \"pct_of_children_decrease\", \"time_in_program\"])\n",
    "\n",
    "list1f = [2,3,4,5,6,7]\n",
    "list2f = [8.4,8.6,11.0,6.9,6.0,11.6] # need to update value 2\n",
    "list3f = [389,352,351,325,319,200] # need to update value 2\n",
    "\n",
    "ssde['entry_score'] = list1f\n",
    "ssde['pct_of_children_decrease'] = list2f\n",
    "ssde['time_in_program'] = list3f\n",
    "\n",
    "print(ssde)"
   ]
  },
  {
   "cell_type": "code",
   "execution_count": null,
   "id": "f979d85b",
   "metadata": {},
   "outputs": [],
   "source": [
    "#knowledge scale decrease df\n",
    "ksde = pd.DataFrame()\n",
    "\n",
    "ksde =pd.DataFrame(columns=[\"entry_score\", \"pct_of_children_decrease\", \"time_in_program\"])\n",
    "\n",
    "list1g = [2,3,4,5,6,7]\n",
    "list2g = [32.1,27.0,30.0,29.0,21.0,14.8]\n",
    "list3g = [349,357,364,501,357,350]\n",
    "\n",
    "ksde['entry_score'] = list1g\n",
    "ksde['pct_of_children_decrease'] = list2g\n",
    "ksde['time_in_program'] = list3g\n",
    "\n",
    "print(ksde)"
   ]
  },
  {
   "cell_type": "code",
   "execution_count": null,
   "id": "ca11f1dd",
   "metadata": {},
   "outputs": [],
   "source": [
    "#appropriate action scale decrease df\n",
    "aasde = pd.DataFrame()\n",
    "\n",
    "aasde =pd.DataFrame(columns=[\"entry_score\", \"pct_of_children_decrease\", \"time_in_program\"])\n",
    "\n",
    "list1h = [2,3,4,5,6,7]\n",
    "list2h = [11.4,13.3,17.0,22.4,17.0,14.7]\n",
    "list3h = [425,348,337,343,340,349]\n",
    "\n",
    "aasde['entry_score'] = list1h\n",
    "aasde['pct_of_children_decrease'] = list2h\n",
    "aasde['time_in_program'] = list3h\n",
    "\n",
    "print(aasde)"
   ]
  },
  {
   "cell_type": "code",
   "execution_count": null,
   "id": "9c1d0e0a",
   "metadata": {},
   "outputs": [],
   "source": [
    "\n",
    "ssingraph = ssin.plot(x = 'entry_score',\n",
    "                      y = 'time_in_program',\n",
    "                      title = '*******',\n",
    "                      xlabel = 'Entry Score',\n",
    "                      ylabel = 'Days in Program',\n",
    "                      kind = 'bar',)\n",
    "\n",
    "ssingraph.get_legend ().remove ()"
   ]
  },
  {
   "cell_type": "code",
   "execution_count": null,
   "id": "259f454d",
   "metadata": {},
   "outputs": [],
   "source": [
    "ksingraph = ksin.plot(x = 'entry_score',\n",
    "                      y = 'time_in_program',\n",
    "                      title = '******',\n",
    "                      xlabel = 'Entry Score',\n",
    "                      ylabel = 'Days in Program',\n",
    "                      kind = 'bar')\n",
    "\n",
    "ksingraph.get_legend ().remove ()"
   ]
  },
  {
   "cell_type": "code",
   "execution_count": null,
   "id": "574bc7ad",
   "metadata": {},
   "outputs": [],
   "source": [
    "aasingraph = aasin.plot(x = 'entry_score',\n",
    "                        y = 'time_in_program',\n",
    "                        title = '******',\n",
    "                        xlabel = 'Entry Score',\n",
    "                        ylabel = 'Days in Program',\n",
    "                        kind = 'bar')\n",
    "\n",
    "aasingraph.get_legend ().remove ()"
   ]
  },
  {
   "cell_type": "code",
   "execution_count": null,
   "id": "982aa2dd",
   "metadata": {},
   "outputs": [],
   "source": [
    "ssingrapha = ssin.plot(x = 'entry_score',\n",
    "                      y = 'pct_of_children_improved',\n",
    "                      xlabel = 'Entry Score',\n",
    "                      ylabel = 'Children Showing Improvement [%]',\n",
    "                      kind = 'bar')\n",
    "\n",
    "ssingrapha.get_legend ().remove ()"
   ]
  },
  {
   "cell_type": "code",
   "execution_count": null,
   "id": "3abf6099",
   "metadata": {},
   "outputs": [],
   "source": [
    "ksingrapha = ksin.plot(x = 'entry_score',\n",
    "                      y = 'pct_of_children_improved',\n",
    "                      xlabel = 'Entry Score',\n",
    "                      ylabel = 'Children Showing Improvement [%]',\n",
    "                      kind = 'bar')\n",
    "\n",
    "ksingrapha.get_legend ().remove ()"
   ]
  },
  {
   "cell_type": "code",
   "execution_count": null,
   "id": "465ec03b",
   "metadata": {},
   "outputs": [],
   "source": [
    "aasingrapha = aasin.plot(x = 'entry_score',\n",
    "                      y = 'pct_of_children_improved',\n",
    "                      xlabel = 'Entry Score',\n",
    "                      ylabel = 'Children Showing Improvement [%]',\n",
    "                      kind = 'bar')\n",
    "\n",
    "aasingrapha.get_legend ().remove ()"
   ]
  },
  {
   "cell_type": "code",
   "execution_count": null,
   "id": "d2d3386e",
   "metadata": {},
   "outputs": [],
   "source": [
    "ssncgraph = ssnc.plot(x = 'entry_score',\n",
    "                      y = 'time_in_program',\n",
    "                      title = '*******',\n",
    "                      xlabel = 'Entry Score',\n",
    "                      ylabel = 'Days in Program',\n",
    "                      kind = 'bar',)\n",
    "\n",
    "ssncgraph.get_legend ().remove ()"
   ]
  },
  {
   "cell_type": "code",
   "execution_count": null,
   "id": "7e6c93ab",
   "metadata": {},
   "outputs": [],
   "source": [
    "ksncgraph = ksnc.plot(x = 'entry_score',\n",
    "                      y = 'time_in_program',\n",
    "                      title = '*******',\n",
    "                      xlabel = 'Entry Score',\n",
    "                      ylabel = 'Days in Program',\n",
    "                      kind = 'bar',)\n",
    "\n",
    "\n",
    "ksncgraph.get_legend ().remove ()"
   ]
  },
  {
   "cell_type": "code",
   "execution_count": null,
   "id": "f7840f76",
   "metadata": {},
   "outputs": [],
   "source": [
    "aasncgraph = aasnc.plot(x = 'entry_score',\n",
    "                      y = 'time_in_program',\n",
    "                      title = '*******',\n",
    "                      xlabel = 'Entry Score',\n",
    "                      ylabel = 'Days in Program',\n",
    "                      kind = 'bar',)\n",
    "\n",
    "aasncgraph.get_legend ().remove ()"
   ]
  },
  {
   "cell_type": "code",
   "execution_count": null,
   "id": "7b72a6f1",
   "metadata": {},
   "outputs": [],
   "source": [
    "ssncgrapha = ssnc.plot(x = 'entry_score',\n",
    "                      y = 'pct_of_children_nochange',\n",
    "                      xlabel = 'Entry Score',\n",
    "                      ylabel = 'Children Showing No change  [%]',\n",
    "                      kind = 'bar')\n",
    "\n",
    "ssncgrapha.get_legend ().remove ()"
   ]
  },
  {
   "cell_type": "code",
   "execution_count": null,
   "id": "0291cd7f",
   "metadata": {},
   "outputs": [],
   "source": [
    "ksncgrapha = ksnc.plot(x = 'entry_score',\n",
    "                      y = 'pct_of_children_nochange',\n",
    "                      xlabel = 'Entry Score',\n",
    "                      ylabel = 'Children Showing No change  [%]',\n",
    "                      kind = 'bar')\n",
    "\n",
    "ksncgrapha.get_legend ().remove ()"
   ]
  },
  {
   "cell_type": "code",
   "execution_count": null,
   "id": "69fbe9e9",
   "metadata": {},
   "outputs": [],
   "source": [
    "aasncgrapha = aasnc.plot(x = 'entry_score',\n",
    "                      y = 'pct_of_children_nochange',\n",
    "                      xlabel = 'Entry Score',\n",
    "                      ylabel = 'Children Showing No change  [%]',\n",
    "                      kind = 'bar')\n",
    "\n",
    "aasncgrapha.get_legend ().remove ()"
   ]
  },
  {
   "cell_type": "code",
   "execution_count": null,
   "id": "30be8931",
   "metadata": {},
   "outputs": [],
   "source": [
    "ssdegraph = ssde.plot(x = 'entry_score',\n",
    "                      y = 'time_in_program',\n",
    "                      title = '*******',\n",
    "                      xlabel = 'Entry Score',\n",
    "                      ylabel = 'Days in Program',\n",
    "                      kind = 'bar',)\n",
    "\n",
    "ssdegraph.get_legend ().remove ()"
   ]
  },
  {
   "cell_type": "code",
   "execution_count": null,
   "id": "7df03b03",
   "metadata": {},
   "outputs": [],
   "source": [
    "ksdegraph = ksde.plot(x = 'entry_score',\n",
    "                      y = 'time_in_program',\n",
    "                      title = '*******',\n",
    "                      xlabel = 'Entry Score',\n",
    "                      ylabel = 'Days in Program',\n",
    "                      kind = 'bar',)\n",
    "\n",
    "ksdegraph.get_legend ().remove ()"
   ]
  },
  {
   "cell_type": "code",
   "execution_count": null,
   "id": "1c6ebf8e",
   "metadata": {},
   "outputs": [],
   "source": [
    "aasdegraph = aasde.plot(x = 'entry_score',\n",
    "                      y = 'time_in_program',\n",
    "                      title = '*******',\n",
    "                      xlabel = 'Entry Score',\n",
    "                      ylabel = 'Days in Program',\n",
    "                      kind = 'bar',)\n",
    "\n",
    "aasdegraph.get_legend ().remove ()"
   ]
  },
  {
   "cell_type": "code",
   "execution_count": null,
   "id": "337ce6fc",
   "metadata": {},
   "outputs": [],
   "source": [
    "ssdegrapha = ssde.plot(x = 'entry_score',\n",
    "                      y = 'pct_of_children_decrease',\n",
    "                      xlabel = 'Entry Score',\n",
    "                      ylabel = 'Children Showing Decrease  [%]',\n",
    "                      kind = 'bar')\n",
    "\n",
    "ssdegrapha.get_legend ().remove ()"
   ]
  },
  {
   "cell_type": "code",
   "execution_count": null,
   "id": "dad32f42",
   "metadata": {},
   "outputs": [],
   "source": [
    "ksdegrapha = ksde.plot(x = 'entry_score',\n",
    "                      y = 'pct_of_children_decrease',\n",
    "                      xlabel = 'Entry Score',\n",
    "                      ylabel = 'Children Showing Decrease  [%]',\n",
    "                      kind = 'bar')\n",
    "\n",
    "ksdegrapha.get_legend ().remove ()"
   ]
  },
  {
   "cell_type": "code",
   "execution_count": null,
   "id": "9aaa819a",
   "metadata": {},
   "outputs": [],
   "source": [
    "aasdegrapha = aasde.plot(x = 'entry_score',\n",
    "                      y = 'pct_of_children_decrease',\n",
    "                      xlabel = 'Entry Score',\n",
    "                      ylabel = 'Children Showing Decrease  [%]',\n",
    "                      kind = 'pie')\n",
    "\n",
    "aasdegrapha.get_legend ().remove ()"
   ]
  },
  {
   "cell_type": "markdown",
   "id": "e57d6316",
   "metadata": {},
   "source": [
    "<!-- You can select a graph below and simply call it to show the results\n",
    "\n",
    "#Graphs for children whos entry scores increased: days in program by entry score\n",
    "ssingraph # social scale\n",
    "ksingraph # knowledge scale\n",
    "aasingraph # appropriate action scale\n",
    "\n",
    "#Graphs for children whos entry scores increased: percent of children with increase by entry score\n",
    "ssingrapha\n",
    "ksingrapha\n",
    "aasingrapha\n",
    "\n",
    "#Graphs for children whos entry scores did not change: days in program by entry score\n",
    "ssncgraph\n",
    "ksncgraph\n",
    "aasncgraph\n",
    "\n",
    "#Graphs for children whos entry scores did not change: percent of children with increase by entry score\n",
    "ssncgrapha\n",
    "ksncgrapha\n",
    "aasncgrapha\n",
    "\n",
    "#Graphs for children whos entry scores decreased: days in program by entry score\n",
    "ssdegraph\n",
    "ksdegraph\n",
    "aasdegraph\n",
    "\n",
    "#Graphs for children whos entry scores decreased: percent of children with increase by entry score\n",
    "ssdegrapha\n",
    "ksdegrapha\n",
    "aasdegrapha -->"
   ]
  },
  {
   "cell_type": "code",
   "execution_count": null,
   "id": "ebeb1144",
   "metadata": {},
   "outputs": [],
   "source": [
    "\n",
    "##You can select a graph below and simply call it to show the results\n",
    "\n",
    "##Graphs for children whos entry scores increased: days in program by entry score\n",
    "## ssingraph # social scale\n",
    "## ksingraph # knowledge scale\n",
    "## aasingraph # appropriate action scale\n",
    "\n",
    "##Graphs for children whos entry scores increased: percent of children with increase by entry score\n",
    "## ssingrapha\n",
    "## ksingrapha\n",
    "## aasingrapha\n",
    "\n",
    "##Graphs for children whos entry scores did not change: days in program by entry score\n",
    "## ssncgraph\n",
    "## ksncgraph\n",
    "## aasncgraph\n",
    "\n",
    "##Graphs for children whos entry scores did not change: percent of children with increase by entry score\n",
    "## ssncgrapha\n",
    "## ksncgrapha\n",
    "## aasncgrapha\n",
    "\n",
    "##Graphs for children whos entry scores decreased: days in program by entry score\n",
    "## ssdegraph\n",
    "## ksdegraph\n",
    "## aasdegraph\n",
    "\n",
    "##Graphs for children whos entry scores decreased: percent of children with increase by entry score\n",
    "## ssdegrapha\n",
    "## ksdegrapha\n",
    "## aasdegrapha\n",
    "\n"
   ]
  },
  {
   "cell_type": "code",
   "execution_count": null,
   "id": "a56bca61",
   "metadata": {
    "scrolled": false
   },
   "outputs": [],
   "source": [
    "eco_exit"
   ]
  },
  {
   "cell_type": "code",
   "execution_count": null,
   "id": "5b9d34c8",
   "metadata": {},
   "outputs": [],
   "source": [
    "eco_exit.describe()"
   ]
  },
  {
   "cell_type": "code",
   "execution_count": null,
   "id": "51032567",
   "metadata": {},
   "outputs": [],
   "source": [
    "ssnc_prep = ssnc[['entry_score', 'pct_of_children_nochange']]\n",
    "ssin_prep = ssin[['entry_score', 'pct_of_children_improved']]\n",
    "\n",
    "social_inc_dec = pd.merge(ssnc_prep, ssin_prep, how = 'left', on = 'entry_score')"
   ]
  },
  {
   "cell_type": "code",
   "execution_count": null,
   "id": "93810ae7",
   "metadata": {},
   "outputs": [],
   "source": [
    "ksde\n"
   ]
  },
  {
   "cell_type": "code",
   "execution_count": null,
   "id": "c0cdde85",
   "metadata": {},
   "outputs": [],
   "source": [
    "#chart comparing children that did not improve with children that did improve\n",
    "\n",
    "socimp=pd.DataFrame({'x':[1,2,3,4,5,6,7],'y':[57.9, 77.2, 71.6, 75.0, 71.14, 60.0, 0]})\n",
    "socnc=pd.DataFrame({'x':[1,2,3,4,5,6,7],'y':[42.1, 14.5, 19.8, 14.0, 21.9, 34.0, 88.4]})\n",
    "socdec=pd.DataFrame({'x':[1,2,3,4,5,6,7],'y':[0 , 8.2, 8.6, 11.0, 6.9, 6.0, 11.6]})\n",
    "socimp['Scale']='Improved'\n",
    "socnc['Scale']='No Change'\n",
    "socdec['Scale']='Regressed'\n",
    "res=pd.concat([socimp,socnc, socdec])\n",
    "sns.barplot(x='x',y='y',data=res,hue='Scale', palette='Paired')\n",
    "plt.xlabel('entry scores')\n",
    "plt.ylabel('percentage')\n",
    "plt.title('Improved v. Static v. Regressed (Social)')\n",
    "plt.show()"
   ]
  },
  {
   "cell_type": "code",
   "execution_count": null,
   "id": "cb34a8f2",
   "metadata": {},
   "outputs": [],
   "source": [
    "knowimp=pd.DataFrame({'x':[1,2,3,4,5,6,7],'y':[52.1, 50.5, 41.3, 52, 48.2, 53, 0]})\n",
    "knownc=pd.DataFrame({'x':[1,2,3,4,5,6,7],'y':[47.9, 17.5, 31.7, 18, 21.8, 27, 85]})\n",
    "knowdec=pd.DataFrame({'x':[1,2,3,4,5,6,7],'y':[0 , 32.1, 27, 30, 29, 21, 14.8]})\n",
    "knowimp['Scale']='Improved'\n",
    "knownc['Scale']='No Change'\n",
    "knowdec['Scale']='Regressed'\n",
    "res=pd.concat([knowimp,knownc, knowdec])\n",
    "sns.barplot(x='x',y='y',data=res,hue='Scale', palette='Paired')\n",
    "plt.xlabel('entry scores')\n",
    "plt.ylabel('percentage')\n",
    "plt.title('Improved v. Static v. Regressed (Knowledge)')\n",
    "plt.show()"
   ]
  },
  {
   "cell_type": "code",
   "execution_count": null,
   "id": "67b96f30",
   "metadata": {},
   "outputs": [],
   "source": [
    "aasimp=pd.DataFrame({'x':[1,2,3,4,5,6,7],'y':[67.6, 74.2, 66.9, 61, 64, 56, 0]})\n",
    "aasno=pd.DataFrame({'x':[1,2,3,4,5,6,7],'y':[32.4, 14.4, 19.8, 22, 13.6, 27, 85.3]})\n",
    "aasdec=pd.DataFrame({'x':[1,2,3,4,5,6,7],'y':[0 , 11.4, 13.3, 17, 22.4, 17, 14.7]})\n",
    "aasimp['Scale']='Improved'\n",
    "aasno['Scale']='No Change'\n",
    "aasdec['Scale']='Regressed'\n",
    "res=pd.concat([aasimp, aasno, aasdec])\n",
    "sns.barplot(x='x',y='y',data=res,hue='Scale', palette='Paired')\n",
    "plt.xlabel('entry scores')\n",
    "plt.ylabel('percentage')\n",
    "plt.title('Improved v. Static v. Regressed (Approp. Action)')\n",
    "plt.show()"
   ]
  },
  {
   "cell_type": "code",
   "execution_count": null,
   "id": "7dedb7fa",
   "metadata": {},
   "outputs": [],
   "source": [
    "ssin['Scale']='Social'\n",
    "ksin['Scale']='Knowledge'\n",
    "aasin['Scale']='Approp. Action'\n",
    "res=pd.concat([ssin,ksin,aasin])\n",
    "sns.barplot(x='entry_score',y=('pct_of_children_improved'),data=res,hue='Scale',palette='Paired').set(title='Percent Improved')\n",
    "plt.show()"
   ]
  },
  {
   "cell_type": "code",
   "execution_count": null,
   "id": "4a80cbd5",
   "metadata": {},
   "outputs": [],
   "source": [
    "ssnc['Scale']='Social'\n",
    "ksnc['Scale']='Knowledge'\n",
    "aasnc['Scale']='Approp. Action'\n",
    "res=pd.concat([ssnc,ksnc,aasnc])\n",
    "sns.barplot(x='entry_score',y=('pct_of_children_nochange'),data=res,hue='Scale',palette='Paired').set(title='Percent With No Change')\n",
    "plt.show()"
   ]
  },
  {
   "cell_type": "code",
   "execution_count": null,
   "id": "fe1bd08b",
   "metadata": {},
   "outputs": [],
   "source": [
    "\n",
    "ssnc['Scale']='Social'\n",
    "ksnc['Scale']='Knowledge'\n",
    "aasnc['Scale']='Approp. Action'\n",
    "res=pd.concat([ssnc,ksnc,aasnc])\n",
    "sns.barplot(x='entry_score',y=('time_in_program'),data=res,hue='Scale',palette='Paired').set(title='Scale-No Change T.I.P(Median)')\n",
    "plt.show()"
   ]
  },
  {
   "cell_type": "code",
   "execution_count": null,
   "id": "8817d560",
   "metadata": {},
   "outputs": [],
   "source": [
    "ssde['Scale']='Social'\n",
    "ksde['Scale']='Knowledge'\n",
    "aasde['Scale']='Approp. Action'\n",
    "res=pd.concat([ssde,ksde,aasde])\n",
    "sns.barplot(x='entry_score',y=('pct_of_children_decrease'),data=res,hue='Scale',palette='Paired').set(title='Percent Decreased')\n",
    "plt.show()"
   ]
  },
  {
   "cell_type": "code",
   "execution_count": null,
   "id": "4294383b",
   "metadata": {},
   "outputs": [],
   "source": [
    "ssde['Scale']='Social'\n",
    "ksde['Scale']='Knowledge'\n",
    "aasde['Scale']='Approp. Action'\n",
    "res=pd.concat([ssde,ksde,aasde])\n",
    "sns.barplot(x='entry_score',y=('time_in_program'),data=res,hue='Scale',palette='Paired').set(title='Scale-Decrease T.I.P(Median)')\n",
    "plt.show()"
   ]
  },
  {
   "cell_type": "code",
   "execution_count": null,
   "id": "daa050fe",
   "metadata": {},
   "outputs": [],
   "source": [
    "values = [66.907514,13.294798,19.797688]\n",
    "colors = ['royalblue', 'dodgerblue', 'skyblue']\n",
    "labels = ['increased','decreased','no change']\n",
    "explode = (0.2, 0, 0)\n",
    "plt.pie(values, colors=colors, labels=labels,\n",
    "explode=explode, autopct='%1.1f%%',\n",
    "counterclock=False, shadow=True)\n",
    "plt.title('Entry Score 3\\n (Approp_Ac Scale)')\n",
    "plt.show()"
   ]
  },
  {
   "cell_type": "code",
   "execution_count": null,
   "id": "e293eada",
   "metadata": {},
   "outputs": [],
   "source": [
    "values = [41.302739,27.017024,31.680237]\n",
    "colors = ['royalblue', 'dodgerblue', 'skyblue']\n",
    "labels = ['increased','decreased','no change']\n",
    "explode = (0.2, 0, 0)\n",
    "plt.pie(values, colors=colors, labels=labels,\n",
    "explode=explode, autopct='%1.1f%%',\n",
    "counterclock=False, shadow=True)\n",
    "plt.title('Entry Score 3\\n (Knowledge Scale)')\n",
    "plt.show()"
   ]
  },
  {
   "cell_type": "code",
   "execution_count": null,
   "id": "c4d992a9",
   "metadata": {},
   "outputs": [],
   "source": [
    "values = [71.600965,8.608206,19.790829]\n",
    "colors = ['royalblue', 'dodgerblue', 'skyblue']\n",
    "labels = ['increased','decreased','no change']\n",
    "explode = (0.2, 0, 0)\n",
    "plt.pie(values, colors=colors, labels=labels,\n",
    "explode=explode, autopct='%1.1f%%',\n",
    "counterclock=False, shadow=True)\n",
    "plt.title('Entry Score 3\\n (Social Scale)')\n",
    "plt.show()"
   ]
  },
  {
   "cell_type": "code",
   "execution_count": null,
   "id": "22ee76b1",
   "metadata": {},
   "outputs": [],
   "source": []
  }
 ],
 "metadata": {
  "kernelspec": {
   "display_name": "Python 3 (ipykernel)",
   "language": "python",
   "name": "python3"
  },
  "language_info": {
   "codemirror_mode": {
    "name": "ipython",
    "version": 3
   },
   "file_extension": ".py",
   "mimetype": "text/x-python",
   "name": "python",
   "nbconvert_exporter": "python",
   "pygments_lexer": "ipython3",
   "version": "3.9.7"
  }
 },
 "nbformat": 4,
 "nbformat_minor": 5
}
