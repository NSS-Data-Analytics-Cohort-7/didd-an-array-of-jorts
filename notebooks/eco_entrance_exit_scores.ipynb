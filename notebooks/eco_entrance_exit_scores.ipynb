{
 "cells": [
  {
   "cell_type": "code",
   "execution_count": null,
   "id": "60a70c59",
   "metadata": {},
   "outputs": [],
   "source": [
    "import pandas as pd\n",
    "import numpy as np\n",
    "import matplotlib.pyplot as plt\n",
    "import seaborn as sns\n",
    "\n",
    "%matplotlib inline"
   ]
  },
  {
   "cell_type": "code",
   "execution_count": null,
   "id": "32f662d3",
   "metadata": {},
   "outputs": [],
   "source": [
    "##import worksheets\n",
    "\n",
    "project_data = pd.read_excel('../data/TEIS-NSS Project Data 10-2022.xlsx', \n",
    "                             sheet_name=['ECO with Exit21-22', 'Elig Timeline Rpt 2018-2022'])\n",
    "\n",
    "eco_exit = project_data.get('ECO with Exit21-22')\n",
    "elig_timeline = project_data.get('Elig Timeline Rpt 2018-2022')\n"
   ]
  },
  {
   "cell_type": "code",
   "execution_count": null,
   "id": "e25936ec",
   "metadata": {},
   "outputs": [],
   "source": [
    "eco_exit = eco_exit[['DISTRICT', 'CHILD_ID', 'ECO_Entry_DATE', 'Ent SOCIAL_SCALE', 'Ent KNOWLEDGE_SCALE', 'Ent APPROPRIATE_ACTION_SCALE', 'ECO_Exit_DATE', 'Exit SOCIAL_SCALE', 'Exit KNOWLEDGE_SCALE', 'Exit APPROPRIATE_ACTION_SCALE', 'Days btw I-IFSP to Exit ECO']]\n",
    "eco_exit"
   ]
  },
  {
   "cell_type": "code",
   "execution_count": null,
   "id": "be5d4f85",
   "metadata": {},
   "outputs": [],
   "source": [
    "##rename columns\n",
    "eco_exit = eco_exit.rename(columns={'DISTRICT':'district',\n",
    "                                    'CHILD_ID':'child_id',\n",
    "                                    'ECO_Entry_DATE':'eco_entry_date',\n",
    "                                    'Ent SOCIAL_SCALE':'ent_social',\n",
    "                                    'Ent KNOWLEDGE_SCALE':'ent_knowledge',\n",
    "                                    'Ent APPROPRIATE_ACTION_SCALE':'ent_approp_action',\n",
    "                                    'ECO_Exit_DATE':'eco_exit_date',\n",
    "                                    'Exit SOCIAL_SCALE':'exit_social',\n",
    "                                    'Exit KNOWLEDGE_SCALE':'exit_knowledge',\n",
    "                                    'Exit APPROPRIATE_ACTION_SCALE':'exit_approp_action',\n",
    "                                    'Days btw I-IFSP to Exit ECO': 'days_in_program'})"
   ]
  },
  {
   "cell_type": "code",
   "execution_count": null,
   "id": "9cb5ca54",
   "metadata": {
    "scrolled": false
   },
   "outputs": [],
   "source": [
    "##drop NaN\n",
    "eco_exit = eco_exit.dropna(axis=0)\n",
    "eco_exit"
   ]
  },
  {
   "cell_type": "code",
   "execution_count": null,
   "id": "21179200",
   "metadata": {},
   "outputs": [],
   "source": [
    "##consolidated to 3 separate DFs. One for each category to average among the 1s in each\n",
    "\n",
    "soc1 = eco_exit[eco_exit['ent_social'] == 1.0]\n",
    "knowl1 = eco_exit[eco_exit['ent_knowledge'] == 1.0]\n",
    "aa1 = eco_exit[eco_exit['ent_approp_action'] == 1.0]\n",
    "\n",
    "##DFs for each category that showed no improvement\n",
    "samesoc = soc1[soc1['exit_social'] == 1]\n",
    "sameknowl = knowl1[knowl1['exit_knowledge'] == 1]\n",
    "sameaa = aa1[aa1['exit_approp_action'] == 1]\n",
    "\n",
    "##DFs for each category that improved\n",
    "impsoc  = soc1[soc1['exit_social'] > 1]\n",
    "impknowl= knowl1[knowl1['exit_knowledge'] > 1]\n",
    "impaa  = aa1[aa1['exit_approp_action'] > 1]"
   ]
  },
  {
   "cell_type": "code",
   "execution_count": null,
   "id": "e396a4b6",
   "metadata": {},
   "outputs": [],
   "source": [
    "print('percent that stayed the same')\n",
    "print(len(samesoc)/len(soc1)*100)\n",
    "print(len(sameknowl)/len(knowl1)*100)\n",
    "print(len(sameaa)/len(aa1)*100)\n",
    "print(' ')\n",
    "print('percent that improved')\n",
    "print(len(impsoc)/len(soc1)*100)\n",
    "print(len(impknowl)/len(knowl1)*100)\n",
    "print(len(impaa)/len(aa1)*100)"
   ]
  },
  {
   "cell_type": "code",
   "execution_count": null,
   "id": "9d06362a",
   "metadata": {},
   "outputs": [],
   "source": [
    "samesoc['days_in_program'].mean()"
   ]
  },
  {
   "cell_type": "code",
   "execution_count": null,
   "id": "d83579e3",
   "metadata": {},
   "outputs": [],
   "source": [
    "sameknowl['days_in_program'].mean()"
   ]
  },
  {
   "cell_type": "code",
   "execution_count": null,
   "id": "4e81e35f",
   "metadata": {},
   "outputs": [],
   "source": [
    "sameaa['days_in_program'].mean()"
   ]
  },
  {
   "cell_type": "code",
   "execution_count": null,
   "id": "cf8128bf",
   "metadata": {},
   "outputs": [],
   "source": [
    "impsoc['days_in_program'].mean()"
   ]
  },
  {
   "cell_type": "code",
   "execution_count": null,
   "id": "7b7702ec",
   "metadata": {},
   "outputs": [],
   "source": [
    "impknowl['days_in_program'].mean()"
   ]
  },
  {
   "cell_type": "code",
   "execution_count": null,
   "id": "5ba48378",
   "metadata": {},
   "outputs": [],
   "source": [
    "impaa['days_in_program'].mean()"
   ]
  },
  {
   "cell_type": "code",
   "execution_count": null,
   "id": "df46cc8e",
   "metadata": {},
   "outputs": [],
   "source": [
    "eco_exit['days_in_program'].mean()"
   ]
  },
  {
   "cell_type": "code",
   "execution_count": null,
   "id": "1981f909",
   "metadata": {},
   "outputs": [],
   "source": [
    "eco_exit['district'].unique()"
   ]
  },
  {
   "cell_type": "code",
   "execution_count": null,
   "id": "9f7574f7",
   "metadata": {},
   "outputs": [],
   "source": [
    "eco_et = eco_exit.loc[eco_exit['district']=='ET']\n",
    "eco_ft = eco_exit.loc[eco_exit['district']=='FT']\n",
    "eco_gn = eco_exit.loc[eco_exit['district']=='GN']\n",
    "eco_md = eco_exit.loc[eco_exit['district']=='MD']\n",
    "eco_nw = eco_exit.loc[eco_exit['district']=='NW']\n",
    "eco_sc = eco_exit.loc[eco_exit['district']=='SC']\n",
    "eco_se = eco_exit.loc[eco_exit['district']=='SE']\n",
    "eco_sw = eco_exit.loc[eco_exit['district']=='SW']\n",
    "eco_uc = eco_exit.loc[eco_exit['district']=='UC']"
   ]
  },
  {
   "cell_type": "code",
   "execution_count": null,
   "id": "8b482251",
   "metadata": {},
   "outputs": [],
   "source": [
    "eco_et['days_in_program'].median()"
   ]
  },
  {
   "cell_type": "code",
   "execution_count": null,
   "id": "37aa0448",
   "metadata": {},
   "outputs": [],
   "source": [
    "eco_ft['days_in_program'].median()"
   ]
  },
  {
   "cell_type": "code",
   "execution_count": null,
   "id": "82cdbf46",
   "metadata": {},
   "outputs": [],
   "source": [
    "eco_gn['days_in_program'].median()"
   ]
  },
  {
   "cell_type": "code",
   "execution_count": null,
   "id": "6afbcf95",
   "metadata": {},
   "outputs": [],
   "source": [
    "eco_md['days_in_program'].median()"
   ]
  },
  {
   "cell_type": "code",
   "execution_count": null,
   "id": "21d5eb66",
   "metadata": {},
   "outputs": [],
   "source": [
    "eco_nw['days_in_program'].median()"
   ]
  },
  {
   "cell_type": "code",
   "execution_count": null,
   "id": "6a956b30",
   "metadata": {},
   "outputs": [],
   "source": [
    "eco_sc['days_in_program'].median()"
   ]
  },
  {
   "cell_type": "code",
   "execution_count": null,
   "id": "eafe64c8",
   "metadata": {},
   "outputs": [],
   "source": [
    "eco_se['days_in_program'].median()"
   ]
  },
  {
   "cell_type": "code",
   "execution_count": null,
   "id": "1baca8ca",
   "metadata": {},
   "outputs": [],
   "source": [
    "eco_sw['days_in_program'].median()"
   ]
  },
  {
   "cell_type": "code",
   "execution_count": null,
   "id": "742e9f1d",
   "metadata": {},
   "outputs": [],
   "source": [
    "eco_uc['days_in_program'].median()"
   ]
  },
  {
   "cell_type": "code",
   "execution_count": null,
   "id": "d5862ad1",
   "metadata": {},
   "outputs": [],
   "source": [
    "entry= pd.DataFrame(columns=['point_of_entry', 'avg_days_of_service'])\n",
    "col1 = ['ET', 'FT', 'GN', 'MD', 'NW', 'SC', 'SE', 'SW', 'UC']\n",
    "col2 = [352, 347,339,349,351,322,344,347,351]\n",
    "\n",
    "entry['point_of_entry'] = col1\n",
    "entry['avg_days_of_service'] = col2\n",
    "\n",
    "\n"
   ]
  },
  {
   "cell_type": "code",
   "execution_count": null,
   "id": "fdf0af7f",
   "metadata": {},
   "outputs": [],
   "source": [
    "eco_exit"
   ]
  },
  {
   "cell_type": "code",
   "execution_count": null,
   "id": "e5c60471",
   "metadata": {},
   "outputs": [],
   "source": [
    "eco_et['ent_social'].mean()"
   ]
  },
  {
   "cell_type": "code",
   "execution_count": null,
   "id": "c9847975",
   "metadata": {},
   "outputs": [],
   "source": [
    "#social scale increase df\n",
    "ssin = pd.DataFrame()\n",
    "\n",
    "ssin =pd.DataFrame(columns=[\"entry_score\", \"pct_of_children_improved\", \"time_in_program\"])\n",
    "\n",
    "list1 = [1,2,3,4,5,6]\n",
    "list2 = [57.9,77.2,71.6,75.0,71.14,60.0]\n",
    "list3 = [364,490,357,345,335,194] \n",
    "\n",
    "ssin['entry_score'] = list1\n",
    "ssin['pct_of_children_improved'] = list2\n",
    "ssin['time_in_program'] = list3\n",
    "\n",
    "print(ssin)"
   ]
  },
  {
   "cell_type": "code",
   "execution_count": null,
   "id": "92adc906",
   "metadata": {},
   "outputs": [],
   "source": [
    "#knowledge scale increase df\n",
    "ksin = pd.DataFrame()\n",
    "\n",
    "ksin =pd.DataFrame(columns=[\"entry_score\", \"pct_of_children_improved\", \"time_in_program\"])\n",
    "\n",
    "list1a = [1,2,3,4,5,6]\n",
    "list2a = [52.1,50.5,41.3,52.0,49.2,53.0]\n",
    "list3a = [480,335,336,348,353,338]\n",
    "\n",
    "ksin['entry_score'] = list1a\n",
    "ksin['pct_of_children_improved'] = list2a\n",
    "ksin['time_in_program'] = list3a\n",
    "\n",
    "print(ksin)"
   ]
  },
  {
   "cell_type": "code",
   "execution_count": null,
   "id": "404d211f",
   "metadata": {},
   "outputs": [],
   "source": [
    "#appropriate action scale increase df\n",
    "aasin = pd.DataFrame()\n",
    "\n",
    "aasin =pd.DataFrame(columns=[\"entry_score\", \"pct_of_children_improved\", \"time_in_program\"])\n",
    "\n",
    "list1b = [1,2,3,4,5,6]\n",
    "list2b = [67.6,74.2,66.9,61.0,64.0,56.0]\n",
    "list3b = [693,523,352,342,335,201] # need to update value 3\n",
    "\n",
    "aasin['entry_score'] = list1b\n",
    "aasin['pct_of_children_improved'] = list2b\n",
    "aasin['time_in_program'] = list3b\n",
    "\n",
    "print(aasin)"
   ]
  },
  {
   "cell_type": "code",
   "execution_count": null,
   "id": "73d02714",
   "metadata": {},
   "outputs": [],
   "source": [
    "#social scale no change df\n",
    "ssnc = pd.DataFrame()\n",
    "\n",
    "ssnc =pd.DataFrame(columns=[\"entry_score\", \"pct_of_children_nochange\", \"time_in_program\"])\n",
    "\n",
    "list1c = [1,2,3,4,5,6,7]\n",
    "list2c = [42.1,14.5,19.8,14.0,21.9,34.0,88.4]\n",
    "list3c = [317,227,183,189,182,182,188]\n",
    "\n",
    "ssnc['entry_score'] = list1c\n",
    "ssnc['pct_of_children_nochange'] = list2c\n",
    "ssnc['time_in_program'] = list3c\n",
    "\n",
    "print(ssnc)"
   ]
  },
  {
   "cell_type": "code",
   "execution_count": null,
   "id": "d4acc43e",
   "metadata": {},
   "outputs": [],
   "source": [
    "#knowledge scale no change df\n",
    "ksnc = pd.DataFrame()\n",
    "\n",
    "ksnc =pd.DataFrame(columns=[\"entry_score\", \"pct_of_children_nochange\", \"time_in_program\"])\n",
    "\n",
    "list1d = [1,2,3,4,5,6,7]\n",
    "list2d = [47.9,17.5,31.7,18.0,21.8,27.0,85.0]\n",
    "list3d = [196,180,186,234,325,189,186]\n",
    "\n",
    "ksnc['entry_score'] = list1d\n",
    "ksnc['pct_of_children_nochange'] = list2d\n",
    "ksnc['time_in_program'] = list3d\n",
    "\n",
    "print(ksnc)"
   ]
  },
  {
   "cell_type": "code",
   "execution_count": null,
   "id": "fbd2d623",
   "metadata": {},
   "outputs": [],
   "source": [
    "#appropriate action scale no change df\n",
    "aasnc = pd.DataFrame()\n",
    "\n",
    "aasnc = pd.DataFrame(columns=[\"entry_score\", \"pct_of_children_nochange\", \"time_in_program\"])\n",
    "\n",
    "list1e = [1,2,3,4,5,6,7]\n",
    "list2e = [32.4,14.4,19.8,22,13.6,27,85.3]\n",
    "list3e = [362,185,203,184,184,183,250]\n",
    "\n",
    "aasnc['entry_score'] = list1e\n",
    "aasnc['pct_of_children_nochange'] = list2e\n",
    "aasnc['time_in_program'] = list3e\n",
    "\n",
    "print(aasnc)"
   ]
  },
  {
   "cell_type": "code",
   "execution_count": null,
   "id": "66a288b8",
   "metadata": {},
   "outputs": [],
   "source": [
    "#social scale decrease df\n",
    "ssde = pd.DataFrame()\n",
    "\n",
    "ssde =pd.DataFrame(columns=[\"entry_score\", \"pct_of_children_decrease\", \"time_in_program\"])\n",
    "\n",
    "list1f = [2,3,4,5,6,7]\n",
    "list2f = [8.4,8.6,11.0,6.9,6.0,11.6] # need to update value 2\n",
    "list3f = [389,352,351,325,319,200] # need to update value 2\n",
    "\n",
    "ssde['entry_score'] = list1f\n",
    "ssde['pct_of_children_decrease'] = list2f\n",
    "ssde['time_in_program'] = list3f\n",
    "\n",
    "print(ssde)"
   ]
  },
  {
   "cell_type": "code",
   "execution_count": null,
   "id": "3fae4b8d",
   "metadata": {},
   "outputs": [],
   "source": [
    "#knowledge scale decrease df\n",
    "ksde = pd.DataFrame()\n",
    "\n",
    "ksde =pd.DataFrame(columns=[\"entry_score\", \"pct_of_children_decrease\", \"time_in_program\"])\n",
    "\n",
    "list1g = [2,3,4,5,6,7]\n",
    "list2g = [32.1,27.0,30.0,29.0,21.0,14.8]\n",
    "list3g = [349,357,364,501,357,350]\n",
    "\n",
    "ksde['entry_score'] = list1g\n",
    "ksde['pct_of_children_decrease'] = list2g\n",
    "ksde['time_in_program'] = list3g\n",
    "\n",
    "print(ksde)"
   ]
  },
  {
   "cell_type": "code",
   "execution_count": null,
   "id": "19db71fd",
   "metadata": {},
   "outputs": [],
   "source": [
    "#appropriate action scale decrease df\n",
    "aasde = pd.DataFrame()\n",
    "\n",
    "aasde =pd.DataFrame(columns=[\"entry_score\", \"pct_of_children_decrease\", \"time_in_program\"])\n",
    "\n",
    "list1h = [2,3,4,5,6,7]\n",
    "list2h = [11.4,13.3,17.0,22.4,17.0,14.7]\n",
    "list3h = [425,348,337,343,340,349]\n",
    "\n",
    "aasde['entry_score'] = list1h\n",
    "aasde['pct_of_children_decrease'] = list2h\n",
    "aasde['time_in_program'] = list3h\n",
    "\n",
    "print(aasde)"
   ]
  },
  {
   "cell_type": "code",
   "execution_count": null,
   "id": "c823eb2e",
   "metadata": {},
   "outputs": [],
   "source": [
    "\n",
    "ssingraph = ssin.plot(x = 'entry_score',\n",
    "                      y = 'time_in_program',\n",
    "                      title = '*******',\n",
    "                      xlabel = 'Entry Score',\n",
    "                      ylabel = 'Days in Program',\n",
    "                      kind = 'bar',)\n",
    "\n",
    "ssingraph.get_legend ().remove ()"
   ]
  },
  {
   "cell_type": "code",
   "execution_count": null,
   "id": "6c3c911a",
   "metadata": {},
   "outputs": [],
   "source": [
    "ksingraph = ksin.plot(x = 'entry_score',\n",
    "                      y = 'time_in_program',\n",
    "                      title = '******',\n",
    "                      xlabel = 'Entry Score',\n",
    "                      ylabel = 'Days in Program',\n",
    "                      kind = 'bar')\n",
    "\n",
    "ksingraph.get_legend ().remove ()"
   ]
  },
  {
   "cell_type": "code",
   "execution_count": null,
   "id": "b15a355c",
   "metadata": {},
   "outputs": [],
   "source": [
    "aasingraph = aasin.plot(x = 'entry_score',\n",
    "                        y = 'time_in_program',\n",
    "                        title = '******',\n",
    "                        xlabel = 'Entry Score',\n",
    "                        ylabel = 'Days in Program',\n",
    "                        kind = 'bar')\n",
    "\n",
    "aasingraph.get_legend ().remove ()"
   ]
  },
  {
   "cell_type": "code",
   "execution_count": null,
   "id": "c3982552",
   "metadata": {},
   "outputs": [],
   "source": [
    "ssingrapha = ssin.plot(x = 'entry_score',\n",
    "                      y = 'pct_of_children_improved',\n",
    "                      xlabel = 'Entry Score',\n",
    "                      ylabel = 'Children Showing Improvement [%]',\n",
    "                      kind = 'bar')\n",
    "\n",
    "ssingrapha.get_legend ().remove ()"
   ]
  },
  {
   "cell_type": "code",
   "execution_count": null,
   "id": "aa0874d7",
   "metadata": {},
   "outputs": [],
   "source": [
    "ksingrapha = ksin.plot(x = 'entry_score',\n",
    "                      y = 'pct_of_children_improved',\n",
    "                      xlabel = 'Entry Score',\n",
    "                      ylabel = 'Children Showing Improvement [%]',\n",
    "                      kind = 'bar')\n",
    "\n",
    "ksingrapha.get_legend ().remove ()"
   ]
  },
  {
   "cell_type": "code",
   "execution_count": null,
   "id": "f25faafc",
   "metadata": {},
   "outputs": [],
   "source": [
    "aasingrapha = aasin.plot(x = 'entry_score',\n",
    "                      y = 'pct_of_children_improved',\n",
    "                      xlabel = 'Entry Score',\n",
    "                      ylabel = 'Children Showing Improvement [%]',\n",
    "                      kind = 'bar')\n",
    "\n",
    "aasingrapha.get_legend ().remove ()"
   ]
  },
  {
   "cell_type": "code",
   "execution_count": null,
   "id": "9755382e",
   "metadata": {},
   "outputs": [],
   "source": [
    "ssncgraph = ssnc.plot(x = 'entry_score',\n",
    "                      y = 'time_in_program',\n",
    "                      title = '*******',\n",
    "                      xlabel = 'Entry Score',\n",
    "                      ylabel = 'Days in Program',\n",
    "                      kind = 'bar',)\n",
    "\n",
    "ssncgraph.get_legend ().remove ()"
   ]
  },
  {
   "cell_type": "code",
   "execution_count": null,
   "id": "7b25afa7",
   "metadata": {},
   "outputs": [],
   "source": [
    "ksncgraph = ksnc.plot(x = 'entry_score',\n",
    "                      y = 'time_in_program',\n",
    "                      title = '*******',\n",
    "                      xlabel = 'Entry Score',\n",
    "                      ylabel = 'Days in Program',\n",
    "                      kind = 'bar',)\n",
    "\n",
    "\n",
    "ksncgraph.get_legend ().remove ()"
   ]
  },
  {
   "cell_type": "code",
   "execution_count": null,
   "id": "8a7777f4",
   "metadata": {},
   "outputs": [],
   "source": [
    "aasncgraph = aasnc.plot(x = 'entry_score',\n",
    "                      y = 'time_in_program',\n",
    "                      title = '*******',\n",
    "                      xlabel = 'Entry Score',\n",
    "                      ylabel = 'Days in Program',\n",
    "                      kind = 'bar',)\n",
    "\n",
    "aasncgraph.get_legend ().remove ()"
   ]
  },
  {
   "cell_type": "code",
   "execution_count": null,
   "id": "fed45b79",
   "metadata": {},
   "outputs": [],
   "source": [
    "ssncgrapha = ssnc.plot(x = 'entry_score',\n",
    "                      y = 'pct_of_children_nochange',\n",
    "                      xlabel = 'Entry Score',\n",
    "                      ylabel = 'Children Showing No change  [%]',\n",
    "                      kind = 'bar')\n",
    "\n",
    "ssncgrapha.get_legend ().remove ()"
   ]
  },
  {
   "cell_type": "code",
   "execution_count": null,
   "id": "9a500786",
   "metadata": {},
   "outputs": [],
   "source": [
    "ksncgrapha = ksnc.plot(x = 'entry_score',\n",
    "                      y = 'pct_of_children_nochange',\n",
    "                      xlabel = 'Entry Score',\n",
    "                      ylabel = 'Children Showing No change  [%]',\n",
    "                      kind = 'bar')\n",
    "\n",
    "ksncgrapha.get_legend ().remove ()"
   ]
  },
  {
   "cell_type": "code",
   "execution_count": null,
   "id": "8ff86d0a",
   "metadata": {},
   "outputs": [],
   "source": [
    "aasncgrapha = aasnc.plot(x = 'entry_score',\n",
    "                      y = 'pct_of_children_nochange',\n",
    "                      xlabel = 'Entry Score',\n",
    "                      ylabel = 'Children Showing No change  [%]',\n",
    "                      kind = 'bar')\n",
    "\n",
    "aasncgrapha.get_legend ().remove ()"
   ]
  },
  {
   "cell_type": "code",
   "execution_count": null,
   "id": "11600f06",
   "metadata": {},
   "outputs": [],
   "source": [
    "ssdegraph = ssde.plot(x = 'entry_score',\n",
    "                      y = 'time_in_program',\n",
    "                      title = '*******',\n",
    "                      xlabel = 'Entry Score',\n",
    "                      ylabel = 'Days in Program',\n",
    "                      kind = 'bar',)\n",
    "\n",
    "ssdegraph.get_legend ().remove ()"
   ]
  },
  {
   "cell_type": "code",
   "execution_count": null,
   "id": "462daeec",
   "metadata": {},
   "outputs": [],
   "source": [
    "ksdegraph = ksde.plot(x = 'entry_score',\n",
    "                      y = 'time_in_program',\n",
    "                      title = '*******',\n",
    "                      xlabel = 'Entry Score',\n",
    "                      ylabel = 'Days in Program',\n",
    "                      kind = 'bar',)\n",
    "\n",
    "ksdegraph.get_legend ().remove ()"
   ]
  },
  {
   "cell_type": "code",
   "execution_count": null,
   "id": "345c1063",
   "metadata": {},
   "outputs": [],
   "source": [
    "aasdegraph = aasde.plot(x = 'entry_score',\n",
    "                      y = 'time_in_program',\n",
    "                      title = '*******',\n",
    "                      xlabel = 'Entry Score',\n",
    "                      ylabel = 'Days in Program',\n",
    "                      kind = 'bar',)\n",
    "\n",
    "aasdegraph.get_legend ().remove ()"
   ]
  },
  {
   "cell_type": "code",
   "execution_count": null,
   "id": "1a4537d0",
   "metadata": {},
   "outputs": [],
   "source": [
    "ssdegrapha = ssde.plot(x = 'entry_score',\n",
    "                      y = 'pct_of_children_decrease',\n",
    "                      xlabel = 'Entry Score',\n",
    "                      ylabel = 'Children Showing Decrease  [%]',\n",
    "                      kind = 'bar')\n",
    "\n",
    "ssdegrapha.get_legend ().remove ()"
   ]
  },
  {
   "cell_type": "code",
   "execution_count": null,
   "id": "f6a5f3be",
   "metadata": {},
   "outputs": [],
   "source": [
    "ksdegrapha = ksde.plot(x = 'entry_score',\n",
    "                      y = 'pct_of_children_decrease',\n",
    "                      xlabel = 'Entry Score',\n",
    "                      ylabel = 'Children Showing Decrease  [%]',\n",
    "                      kind = 'bar')\n",
    "\n",
    "ksdegrapha.get_legend ().remove ()"
   ]
  },
  {
   "cell_type": "code",
   "execution_count": null,
   "id": "d8e4bd07",
   "metadata": {},
   "outputs": [],
   "source": [
    "aasdegrapha = aasde.plot(x = 'entry_score',\n",
    "                      y = 'pct_of_children_decrease',\n",
    "                      xlabel = 'Entry Score',\n",
    "                      ylabel = 'Children Showing Decrease  [%]',\n",
    "                      kind = 'pie')\n",
    "\n",
    "aasdegrapha.get_legend ().remove ()"
   ]
  },
  {
   "cell_type": "markdown",
   "id": "fe11c2ad",
   "metadata": {},
   "source": [
    "<!-- You can select a graph below and simply call it to show the results\n",
    "\n",
    "#Graphs for children whos entry scores increased: days in program by entry score\n",
    "ssingraph # social scale\n",
    "ksingraph # knowledge scale\n",
    "aasingraph # appropriate action scale\n",
    "\n",
    "#Graphs for children whos entry scores increased: percent of children with increase by entry score\n",
    "ssingrapha\n",
    "ksingrapha\n",
    "aasingrapha\n",
    "\n",
    "#Graphs for children whos entry scores did not change: days in program by entry score\n",
    "ssncgraph\n",
    "ksncgraph\n",
    "aasncgraph\n",
    "\n",
    "#Graphs for children whos entry scores did not change: percent of children with increase by entry score\n",
    "ssncgrapha\n",
    "ksncgrapha\n",
    "aasncgrapha\n",
    "\n",
    "#Graphs for children whos entry scores decreased: days in program by entry score\n",
    "ssdegraph\n",
    "ksdegraph\n",
    "aasdegraph\n",
    "\n",
    "#Graphs for children whos entry scores decreased: percent of children with increase by entry score\n",
    "ssdegrapha\n",
    "ksdegrapha\n",
    "aasdegrapha -->"
   ]
  },
  {
   "cell_type": "code",
   "execution_count": null,
   "id": "6d7b9f58",
   "metadata": {},
   "outputs": [],
   "source": [
    "\n",
    "##You can select a graph below and simply call it to show the results\n",
    "\n",
    "##Graphs for children whos entry scores increased: days in program by entry score\n",
    "## ssingraph # social scale\n",
    "## ksingraph # knowledge scale\n",
    "## aasingraph # appropriate action scale\n",
    "\n",
    "##Graphs for children whos entry scores increased: percent of children with increase by entry score\n",
    "## ssingrapha\n",
    "## ksingrapha\n",
    "## aasingrapha\n",
    "\n",
    "##Graphs for children whos entry scores did not change: days in program by entry score\n",
    "## ssncgraph\n",
    "## ksncgraph\n",
    "## aasncgraph\n",
    "\n",
    "##Graphs for children whos entry scores did not change: percent of children with increase by entry score\n",
    "## ssncgrapha\n",
    "## ksncgrapha\n",
    "## aasncgrapha\n",
    "\n",
    "##Graphs for children whos entry scores decreased: days in program by entry score\n",
    "## ssdegraph\n",
    "## ksdegraph\n",
    "## aasdegraph\n",
    "\n",
    "##Graphs for children whos entry scores decreased: percent of children with increase by entry score\n",
    "## ssdegrapha\n",
    "## ksdegrapha\n",
    "## aasdegrapha\n",
    "\n"
   ]
  },
  {
   "cell_type": "code",
   "execution_count": null,
   "id": "a32182be",
   "metadata": {
    "scrolled": false
   },
   "outputs": [],
   "source": [
    "eco_exit"
   ]
  },
  {
   "cell_type": "code",
   "execution_count": null,
   "id": "606bb120",
   "metadata": {
    "scrolled": true
   },
   "outputs": [],
   "source": [
    "eco_exit.describe()"
   ]
  },
  {
   "cell_type": "code",
   "execution_count": null,
   "id": "91e1909f",
   "metadata": {},
   "outputs": [],
   "source": [
    "ssnc_prep = ssnc[['entry_score', 'pct_of_children_nochange']]\n",
    "ssin_prep = ssin[['entry_score', 'pct_of_children_improved']]\n",
    "\n",
    "social_inc_dec = pd.merge(ssnc_prep, ssin_prep, how = 'left', on = 'entry_score')"
   ]
  },
  {
   "cell_type": "code",
   "execution_count": null,
   "id": "8672d7c0",
   "metadata": {
    "scrolled": true
   },
   "outputs": [],
   "source": [
    "#chart comparing children that did not improve with children that did improve\n",
    "\n",
    "socimp=pd.DataFrame({'x':[1,2,3,4,5,6,7],'y':[57.9, 77.2, 71.6, 75.0, 71.14, 60.0, 0]})\n",
    "socnc=pd.DataFrame({'x':[1,2,3,4,5,6,7],'y':[42.1, 14.5, 19.8, 14.0, 21.9, 34.0, 88.4]})\n",
    "socdec=pd.DataFrame({'x':[1,2,3,4,5,6,7],'y':[0 , 8.2, 8.6, 11.0, 6.9, 6.0, 11.6]})\n",
    "socimp['Scale']='Improved'\n",
    "socnc['Scale']='No Change'\n",
    "socdec['Scale']='Regressed'\n",
    "res=pd.concat([socimp, socnc, socdec])\n",
    "fig, ax = plt.subplots(figsize=(8,6))\n",
    "sns.barplot(x='x',y='y',data=res,hue='Scale', palette='Paired', ax=ax)\n",
    "plt.xlabel('Entry Scores')\n",
    "plt.ylabel('Percentage')\n",
    "plt.ylim(0, 100)\n",
    "plt.grid(axis='y')\n",
    "plt.title('Social')\n",
    "plt.grid(axis='y')\n",
    "plt.legend(loc='upper center')\n",
    "\n",
    "plt.savefig('social_comp_final.png')\n",
    "plt.show()\n"
   ]
  },
  {
   "cell_type": "code",
   "execution_count": null,
   "id": "0daaa02d",
   "metadata": {},
   "outputs": [],
   "source": [
    "##Knowledge chart comparing children that did not improve with children that did improve\n",
    "ymin=0\n",
    "ymax=100\n",
    "knowimp=pd.DataFrame({'x':[1,2,3,4,5,6,7],'y':[52.1, 50.5, 41.3, 52, 48.2, 53, 0]})\n",
    "knownc=pd.DataFrame({'x':[1,2,3,4,5,6,7],'y':[47.9, 17.5, 31.7, 18, 21.8, 27, 85]})\n",
    "knowdec=pd.DataFrame({'x':[1,2,3,4,5,6,7],'y':[0 , 32.1, 27, 30, 29, 21, 14.8]})\n",
    "knowimp['Scale']='Improved'\n",
    "knownc['Scale']='No Change'\n",
    "knowdec['Scale']='Regressed'\n",
    "res=pd.concat([knowimp,knownc, knowdec])\n",
    "sns.set_style('whitegrid')\n",
    "fig, ax = plt.subplots(figsize=(8,6))\n",
    "sns.barplot(x='x',y='y',data=res,hue='Scale', palette='Paired', ax=ax)\n",
    "plt.xlabel('Entry Ecores')\n",
    "plt.ylabel('Percentage')\n",
    "plt.ylim(0, 100)\n",
    "plt.title('Knowledge')\n",
    "plt.savefig('knowledge_comp_final.png')\n",
    "plt.show()"
   ]
  },
  {
   "cell_type": "code",
   "execution_count": null,
   "id": "3f33e756",
   "metadata": {
    "scrolled": true
   },
   "outputs": [],
   "source": [
    "##Appropriate Action chart comparing children that did not improve with children that did improve\n",
    "\n",
    "aasimp=pd.DataFrame({'x':[1,2,3,4,5,6,7],'y':[67.6, 74.2, 66.9, 61, 64, 56, 0]})\n",
    "aasno=pd.DataFrame({'x':[1,2,3,4,5,6,7],'y':[32.4, 14.4, 19.8, 22, 13.6, 27, 85.3]})\n",
    "aasdec=pd.DataFrame({'x':[1,2,3,4,5,6,7],'y':[0 , 11.4, 13.3, 17, 22.4, 17, 14.7]})\n",
    "aasimp['Scale']='Improved'\n",
    "aasno['Scale']='No Change'\n",
    "aasdec['Scale']='Regressed'\n",
    "res=pd.concat([aasimp, aasno, aasdec])\n",
    "sns.set_style('whitegrid')\n",
    "fig, ax = plt.subplots(figsize=(8,6))\n",
    "sns.barplot(x='x',y='y',data=res,hue='Scale', palette='Paired', ax=ax)\n",
    "plt.xlabel('Entry Scores')\n",
    "plt.ylabel('Percentage')\n",
    "plt.ylim(0, 100)\n",
    "plt.title('Appropriate Action')\n",
    "plt.legend(loc='upper center')\n",
    "plt.savefig('approriate_action_comp_final.png')\n",
    "plt.show()"
   ]
  },
  {
   "cell_type": "code",
   "execution_count": null,
   "id": "130e38d1",
   "metadata": {},
   "outputs": [],
   "source": [
    "eco_exit"
   ]
  },
  {
   "cell_type": "code",
   "execution_count": null,
   "id": "c95a2f55",
   "metadata": {},
   "outputs": [],
   "source": [
    "eco_exit['improved_social'] = ''\n",
    "eco_exit['improved_knowledge'] = ''\n",
    "eco_exit['improved_approp'] = ''"
   ]
  },
  {
   "cell_type": "code",
   "execution_count": null,
   "id": "290b3348",
   "metadata": {},
   "outputs": [],
   "source": [
    "for x, y in eco_exit.iterrows():\n",
    "    if eco_exit['exit_social'][x] > eco_exit['ent_social'][x]:\n",
    "        eco_exit.loc[x, 'improved_social'] = 1\n",
    "    else:\n",
    "        eco_exit.loc[x, 'improved_social'] = 0"
   ]
  },
  {
   "cell_type": "code",
   "execution_count": null,
   "id": "949fa01e",
   "metadata": {},
   "outputs": [],
   "source": [
    "for x, y in eco_exit.iterrows():\n",
    "    if eco_exit['exit_knowledge'][x] > eco_exit['ent_knowledge'][x]:\n",
    "        eco_exit.loc[x, 'improved_knowledge'] = 1\n",
    "    else:\n",
    "        eco_exit.loc[x, 'improved_knowledge'] = 0"
   ]
  },
  {
   "cell_type": "code",
   "execution_count": null,
   "id": "8af9dfec",
   "metadata": {},
   "outputs": [],
   "source": [
    "for x, y in eco_exit.iterrows():\n",
    "    if eco_exit['exit_approp_action'][x] > eco_exit['ent_approp_action'][x]:\n",
    "        eco_exit.loc[x, 'improved_approp'] = 1\n",
    "    else:\n",
    "        eco_exit.loc[x, 'improved_approp'] = 0"
   ]
  },
  {
   "cell_type": "code",
   "execution_count": null,
   "id": "41d7f394",
   "metadata": {},
   "outputs": [],
   "source": [
    "eco_exit.head()"
   ]
  },
  {
   "cell_type": "code",
   "execution_count": null,
   "id": "be6327f1",
   "metadata": {},
   "outputs": [],
   "source": [
    "eco_exit['dec_social'] = ''\n",
    "eco_exit['dec_knowledge'] = ''\n",
    "eco_exit['dec_approp'] = ''"
   ]
  },
  {
   "cell_type": "code",
   "execution_count": null,
   "id": "0965e85a",
   "metadata": {},
   "outputs": [],
   "source": [
    "for x, y in eco_exit.iterrows():\n",
    "    if eco_exit['exit_social'][x] < eco_exit['ent_social'][x]:\n",
    "        eco_exit.loc[x, 'dec_social'] = 1\n",
    "    else:\n",
    "        eco_exit.loc[x, 'dec_social'] = 0"
   ]
  },
  {
   "cell_type": "code",
   "execution_count": null,
   "id": "97ec001e",
   "metadata": {},
   "outputs": [],
   "source": [
    "for x, y in eco_exit.iterrows():\n",
    "    if eco_exit['exit_knowledge'][x] < eco_exit['ent_knowledge'][x]:\n",
    "        eco_exit.loc[x, 'dec_knowledge'] = 1\n",
    "    else:\n",
    "        eco_exit.loc[x, 'dec_knowledge'] = 0"
   ]
  },
  {
   "cell_type": "code",
   "execution_count": null,
   "id": "b86775b8",
   "metadata": {},
   "outputs": [],
   "source": [
    "for x, y in eco_exit.iterrows():\n",
    "    if eco_exit['exit_approp_action'][x] < eco_exit['ent_approp_action'][x]:\n",
    "        eco_exit.loc[x, 'dec_approp'] = 1\n",
    "    else:\n",
    "        eco_exit.loc[x, 'dec_approp'] = 0"
   ]
  },
  {
   "cell_type": "code",
   "execution_count": null,
   "id": "70f23354",
   "metadata": {},
   "outputs": [],
   "source": [
    "eco_exit.head()"
   ]
  },
  {
   "cell_type": "code",
   "execution_count": null,
   "id": "b184ccd8",
   "metadata": {},
   "outputs": [],
   "source": [
    "eco_exit['same_social'] = ''\n",
    "eco_exit['same_knowledge'] = ''\n",
    "eco_exit['same_approp'] = ''"
   ]
  },
  {
   "cell_type": "code",
   "execution_count": null,
   "id": "fb56b38c",
   "metadata": {},
   "outputs": [],
   "source": [
    "for x, y in eco_exit.iterrows():\n",
    "    if eco_exit['exit_social'][x] == eco_exit['ent_social'][x]:\n",
    "        eco_exit.loc[x, 'same_social'] = 1\n",
    "    else:\n",
    "        eco_exit.loc[x, 'same_social'] = 0"
   ]
  },
  {
   "cell_type": "code",
   "execution_count": null,
   "id": "6a5c94d8",
   "metadata": {},
   "outputs": [],
   "source": [
    "for x, y in eco_exit.iterrows():\n",
    "    if eco_exit['exit_knowledge'][x] == eco_exit['ent_knowledge'][x]:\n",
    "        eco_exit.loc[x, 'same_knowledge'] = 1\n",
    "    else:\n",
    "        eco_exit.loc[x, 'same_knowledge'] = 0"
   ]
  },
  {
   "cell_type": "code",
   "execution_count": null,
   "id": "6126dacc",
   "metadata": {},
   "outputs": [],
   "source": [
    "for x, y in eco_exit.iterrows():\n",
    "    if eco_exit['exit_approp_action'][x] == eco_exit['ent_approp_action'][x]:\n",
    "        eco_exit.loc[x, 'same_approp'] = 1\n",
    "    else:\n",
    "        eco_exit.loc[x, 'same_approp'] = 0"
   ]
  },
  {
   "cell_type": "code",
   "execution_count": null,
   "id": "6e305a4a",
   "metadata": {},
   "outputs": [],
   "source": [
    "eco_exit.head(1)"
   ]
  },
  {
   "cell_type": "code",
   "execution_count": null,
   "id": "99789552",
   "metadata": {},
   "outputs": [],
   "source": [
    "print(sum(eco_exit['same_social'])/eco_exit['same_social'].count()*100)\n",
    "print(sum(eco_exit['same_knowledge'])/eco_exit['same_knowledge'].count()*100)\n",
    "print(sum(eco_exit['same_approp'])/eco_exit['same_approp'].count()*100)\n",
    "print('')\n",
    "print(sum(eco_exit['improved_social'])/eco_exit['improved_social'].count()*100)\n",
    "print(sum(eco_exit['improved_knowledge'])/eco_exit['improved_knowledge'].count()*100)\n",
    "print(sum(eco_exit['improved_approp'])/eco_exit['improved_approp'].count()*100)\n",
    "print('')\n",
    "print(sum(eco_exit['dec_social'])/eco_exit['dec_social'].count()*100)\n",
    "print(sum(eco_exit['dec_knowledge'])/eco_exit['dec_knowledge'].count()*100)\n",
    "print(sum(eco_exit['dec_approp'])/eco_exit['dec_approp'].count()*100)"
   ]
  },
  {
   "cell_type": "code",
   "execution_count": null,
   "id": "bebb2322",
   "metadata": {},
   "outputs": [],
   "source": [
    "source_data={'students':['No Change','Decreased','Increased'],\n",
    "'social_scale':[31.11,6.75,62.14],\n",
    "'knowledge_scale':[30.71,23.00,46.29],\n",
    "'appropriate_action_scale':[34.92,12.88,52.30]}\n",
    "\n",
    "# Segregating the raw data into usuable form\n",
    "df=pd.DataFrame(source_data,columns=\n",
    "['students','social_scale','knowledge_scale','appropriate_action_scale'])\n",
    "# df['cumulative_score']=df['social_scale']+df['knowledge_scale']\n",
    "# +df['appropriate_action_scale']\n",
    "\n",
    "# Seperating the sub-parts of the given data\n",
    "x1= df.iloc[0:3,1]\n",
    "x2= df.iloc[0:3,2]\n",
    "x3= df.iloc[0:3,3]\n",
    "\n",
    "# Setting figure colors\n",
    "cmap = plt.get_cmap(\"tab20c\")\n",
    "# outer_colors = cmap(np.arange(3)*4)\n",
    "outer_colors = cmap(np.array([1,5,9]))\n",
    "inner_colors = cmap(np.array([1,5,9]))\n",
    "inner_colors1 = cmap(np.array([1,5,9]))\n",
    "# Setting the size of the figure\n",
    "plt.figure(figsize=(8,6))\n",
    "\n",
    "# Plotting the outer pie\n",
    "plt.pie(x1, labels = df.iloc[0:3, 0], \n",
    "       startangle=90, pctdistance =0.88 ,colors=outer_colors,\n",
    "       autopct = '%1.1f%%', radius= 1.0, labeldistance=1.05,\n",
    "       textprops ={'fontsize':13},\n",
    "       wedgeprops = {'linewidth' : 3, 'edgecolor' : \"w\" } )\n",
    "\n",
    "# PLotting the inner pie\n",
    "plt.pie(x2,startangle=90, pctdistance =.85,colors=inner_colors,\n",
    "        autopct = '%1.1f%%',radius= 0.70,\n",
    "       textprops ={'fontsize':13}, \n",
    "       wedgeprops = {'linewidth' : 3, 'edgecolor' : \"w\" } )\n",
    "\n",
    "# PLotting the inner pie2\n",
    "plt.pie(x3,startangle=90, pctdistance =.50,colors=inner_colors1,\n",
    "        autopct = '%1.1f%%',radius= 0.45,\n",
    "        textprops ={'fontsize':13}, \n",
    "       wedgeprops = {'linewidth' : 3, 'edgecolor' : \"w\" } )\n",
    "# 'fontweight': 'bold' ,\n",
    "# Creating the donut shape for the pie\n",
    "centre_circle = plt.Circle((0,0), 0.25, fc='white')\n",
    "fig= plt.gcf()\n",
    "fig.gca().add_artist(centre_circle) # adding the centre circle\n",
    "\n",
    "# Plotting the pie \n",
    "plt.axis('equal')  # equal aspect ratio\n",
    "# plt.legend(loc=3, fontsize =10)\n",
    "# plt.legend(['Outer Ring (Social Scale)', 'Middle Ring (Knowledge Scale)', 'Inner Ring (Appropriate Action Scale)'])\n",
    "plt.title('Total % of Change\\n\\nOuter Ring - Social Scale\\nMiddle Ring - Knowledge Scale\\nInner Ring - Appropriate Action Scale', fontweight='bold')\n",
    "plt.tight_layout()\n",
    "plt.savefig('total-percent-comparison.png')\n",
    "plt.show()"
   ]
  },
  {
   "cell_type": "code",
   "execution_count": null,
   "id": "02f5dba9",
   "metadata": {},
   "outputs": [],
   "source": [
    "##create new column in your dataframe\n",
    "##df['improved'] = ''\n",
    "\n",
    "##for loop to iterate of entire data set. Prints a 1 or 0 in the new column depending on if there was improvement or not\n",
    "##for x, y in df.iterrows():\n",
    "    ##if df['avg_ent'][x] < eco_exit['avg_exit'][x]: \n",
    "        ##eco_exit.loc[x, 'improved'] = 1\n",
    "   ## else:\n",
    "        ##eco_exit.loc[x, 'improved'] = 0\n",
    "        \n",
    "##then perform calculation on new column\n",
    "##this will figure the percentage that improved by adding all the 1s\n",
    "##sum(df['improved'])/df['improved'].count()*100\n",
    "\n",
    "\n",
    "##you can do the same thing for decrease. Make a new column to represent the decrease, then flip the comparison operator\n",
    "##in the for loop"
   ]
  },
  {
   "cell_type": "code",
   "execution_count": null,
   "id": "708819a4",
   "metadata": {},
   "outputs": [],
   "source": [
    "eco_exit.head()"
   ]
  },
  {
   "cell_type": "code",
   "execution_count": null,
   "id": "d7602a37",
   "metadata": {},
   "outputs": [],
   "source": [
    "eco_exit['months_in_program'] = (eco_exit['days_in_program']/30).astype(int)\n",
    "eco_exit"
   ]
  },
  {
   "cell_type": "code",
   "execution_count": null,
   "id": "ef4aca2e",
   "metadata": {},
   "outputs": [],
   "source": [
    "eco_exit.describe()"
   ]
  },
  {
   "cell_type": "code",
   "execution_count": null,
   "id": "615ee1e2",
   "metadata": {},
   "outputs": [],
   "source": [
    "x = np.arange(9)\n",
    "y1 = [3.741709, 3.704778, 3.071645, 3.044177, 3.058296, 3.013786, 3.479915, 2.964706, 3.238189]\n",
    "y2 = [4.157789, 4.052901, 3.403633, 3.076305, 3.470852, 3.457052, 3.909091, 3.368627, 3.397638]\n",
    "y3 = [4.497487, 4.192833, 3.940464, 3.619813, 3.892377, 3.923648, 4.200846, 3.623529, 3.925197]\n",
    "width = .2\n",
    "plt.figure(figsize=(8,6))\n",
    "plt.bar(x-0.2, y1, width, color='tab:blue')\n",
    "plt.bar(x, y2, width, color='tab:orange')\n",
    "plt.bar(x+0.2, y3, width, color='tab:green')\n",
    "plt.title('Average Entry Score by District')\n",
    "plt.xticks(x, ['ET', 'FT', 'GN', 'MD', 'NW', 'SC', 'SE', 'SW', 'UC'])\n",
    "plt.xlabel(\"District\")\n",
    "plt.ylabel(\"Score\")\n",
    "plt.ylim(0, 7)\n",
    "plt.legend([\"Entry Social\", \"Entry Knowledge\", \"Entry Appropriate Action\"])\n",
    "plt.grid(axis='x')\n",
    "plt.savefig('avg_entry_district.png')\n",
    "plt.show()"
   ]
  },
  {
   "cell_type": "code",
   "execution_count": null,
   "id": "1a32b8b1",
   "metadata": {},
   "outputs": [],
   "source": [
    "x = np.arange(9)\n",
    "y1 = [5.42, 5.47, 4.53, 4.16, 4.66, 4.46, 5.08, 4.37, 4.85]\n",
    "y2 = [4.87, 5.04, 3.95, 3.37, 4.18, 4.03, 4.52, 3.93, 4.35]\n",
    "y3 = [4.50, 4.19, 3.94, 3.62, 3.89, 3.92, 4.20, 3.62, 3.93]\n",
    "width = .2\n",
    "plt.figure(figsize=(8,6))\n",
    "plt.bar(x-0.2, y1, width, color='tab:blue')\n",
    "plt.bar(x, y2, width, color='tab:orange')\n",
    "plt.bar(x+0.2, y3, width, color='tab:green')\n",
    "plt.title('Average Exit Score by District')\n",
    "plt.xticks(x, ['ET', 'FT', 'GN', 'MD', 'NW', 'SC', 'SE', 'SW', 'UC'])\n",
    "plt.xlabel(\"District\")\n",
    "plt.ylabel(\"Score\")\n",
    "plt.ylim(0, 7)\n",
    "plt.grid(axis='x')\n",
    "plt.savefig('avg_exit_district.png')\n",
    "plt.show()"
   ]
  },
  {
   "cell_type": "code",
   "execution_count": null,
   "id": "862d9f59",
   "metadata": {
    "scrolled": false
   },
   "outputs": [],
   "source": [
    "eco_exit.sort_values(by='days_in_program', ascending=True)\n",
    "eco_exit"
   ]
  },
  {
   "cell_type": "code",
   "execution_count": null,
   "id": "5264ea57",
   "metadata": {},
   "outputs": [],
   "source": [
    "eco_exit2 = eco_exit[['child_id', 'ent_social', 'ent_knowledge', 'ent_approp_action', 'exit_social', 'exit_knowledge', 'exit_approp_action', 'days_in_program', 'months_in_program']]\n"
   ]
  },
  {
   "cell_type": "code",
   "execution_count": null,
   "id": "95e39e80",
   "metadata": {},
   "outputs": [],
   "source": [
    "eco_exit2"
   ]
  },
  {
   "cell_type": "code",
   "execution_count": null,
   "id": "5d046190",
   "metadata": {},
   "outputs": [],
   "source": [
    "#create columns for average entrance, ecit, and days\n",
    "eco_exit2['avg_ent'] = eco_exit2[['ent_social','ent_knowledge', 'ent_approp_action' ]].mean(axis=1)\n",
    "eco_exit2['avg_exit'] = eco_exit2[['exit_social','exit_knowledge', 'exit_approp_action' ]].mean(axis=1)\n",
    "eco_exit2['avg_days'] = eco_exit2[['days_in_program' ]].mean(axis=1)\n",
    "eco_exit2.head()"
   ]
  },
  {
   "cell_type": "code",
   "execution_count": null,
   "id": "8f0e7754",
   "metadata": {},
   "outputs": [],
   "source": [
    "##somehow use this chart to plot change based on time in program.....\n",
    "##how long is each entry rating in the program?\n",
    "\n",
    "\n"
   ]
  },
  {
   "cell_type": "code",
   "execution_count": null,
   "id": "043b7631",
   "metadata": {},
   "outputs": [],
   "source": [
    "eco_exit.loc[eco_exit['ent_social']==1, 'days_in_program'].mean()"
   ]
  },
  {
   "cell_type": "code",
   "execution_count": null,
   "id": "f1b72dab",
   "metadata": {},
   "outputs": [],
   "source": [
    "eco_exit.loc[eco_exit['ent_social']==2, 'days_in_program'].mean()"
   ]
  },
  {
   "cell_type": "code",
   "execution_count": null,
   "id": "2d750b8e",
   "metadata": {},
   "outputs": [],
   "source": [
    "eco_exit.loc[eco_exit['ent_social']==3, 'days_in_program'].mean()"
   ]
  },
  {
   "cell_type": "code",
   "execution_count": null,
   "id": "3ca39d0c",
   "metadata": {},
   "outputs": [],
   "source": [
    "eco_exit.loc[eco_exit['ent_social']==4, 'days_in_program'].mean()"
   ]
  },
  {
   "cell_type": "code",
   "execution_count": null,
   "id": "e6c5f0df",
   "metadata": {},
   "outputs": [],
   "source": [
    "eco_exit.loc[eco_exit['ent_social']==5, 'days_in_program'].mean()"
   ]
  },
  {
   "cell_type": "code",
   "execution_count": null,
   "id": "f47907a1",
   "metadata": {},
   "outputs": [],
   "source": [
    "eco_exit.loc[eco_exit['ent_social']==6, 'days_in_program'].mean()"
   ]
  },
  {
   "cell_type": "code",
   "execution_count": null,
   "id": "9c3e5fc0",
   "metadata": {},
   "outputs": [],
   "source": [
    "eco_exit.loc[eco_exit['ent_social']==7, 'days_in_program'].mean()"
   ]
  },
  {
   "cell_type": "code",
   "execution_count": null,
   "id": "ed4005fc",
   "metadata": {},
   "outputs": [],
   "source": [
    "soc_avg_days = pd.DataFrame([[1, 414.25], [2, 484.35], [3, 409.71], [4, 350.85], [5, 319.14], [6, 261.11], [7, 265.63]],\n",
    "                            columns=['rating', 'soc_avg_days'])"
   ]
  },
  {
   "cell_type": "code",
   "execution_count": null,
   "id": "82ae4264",
   "metadata": {},
   "outputs": [],
   "source": [
    "soc_avg_days"
   ]
  },
  {
   "cell_type": "code",
   "execution_count": null,
   "id": "eb334a0c",
   "metadata": {},
   "outputs": [],
   "source": [
    "print(eco_exit.loc[eco_exit['ent_knowledge']==1, 'days_in_program'].mean())\n",
    "print(eco_exit.loc[eco_exit['ent_knowledge']==2, 'days_in_program'].mean())\n",
    "print(eco_exit.loc[eco_exit['ent_knowledge']==3, 'days_in_program'].mean())\n",
    "print(eco_exit.loc[eco_exit['ent_knowledge']==4, 'days_in_program'].mean())\n",
    "print(eco_exit.loc[eco_exit['ent_knowledge']==5, 'days_in_program'].mean())\n",
    "print(eco_exit.loc[eco_exit['ent_knowledge']==6, 'days_in_program'].mean())\n",
    "print(eco_exit.loc[eco_exit['ent_knowledge']==7, 'days_in_program'].mean())\n",
    "print('')\n",
    "print('APPROP ACTION')\n",
    "print(eco_exit.loc[eco_exit['ent_approp_action']==1, 'days_in_program'].mean())\n",
    "print(eco_exit.loc[eco_exit['ent_approp_action']==2, 'days_in_program'].mean())\n",
    "print(eco_exit.loc[eco_exit['ent_approp_action']==3, 'days_in_program'].mean())\n",
    "print(eco_exit.loc[eco_exit['ent_approp_action']==4, 'days_in_program'].mean())\n",
    "print(eco_exit.loc[eco_exit['ent_approp_action']==5, 'days_in_program'].mean())\n",
    "print(eco_exit.loc[eco_exit['ent_approp_action']==6, 'days_in_program'].mean())\n",
    "print(eco_exit.loc[eco_exit['ent_approp_action']==7, 'days_in_program'].mean())"
   ]
  },
  {
   "cell_type": "code",
   "execution_count": null,
   "id": "935902b2",
   "metadata": {},
   "outputs": [],
   "source": [
    "dd = {'rating':[1,2,3,4,5,6,7],\n",
    "      'soc_days':[414.25, 484.35, 409.71, 350.85, 319.14, 261.11, 265.63],\n",
    "      'knowl_days':[429.78, 380.08, 339.08, 392.38, 422.62, 357.98, 286.31],\n",
    "      'approp_act_days':[550.67, 489.06, 389.27, 346.35, 319.59, 274.50, 293.55] }\n",
    "\n",
    "avg_days_chart = pd.DataFrame(data=dd)\n",
    "avg_days_chart"
   ]
  },
  {
   "cell_type": "code",
   "execution_count": null,
   "id": "3496f44f",
   "metadata": {},
   "outputs": [],
   "source": [
    "avgsoc = pd.DataFrame({'x':[1,2,3,4,5,6,7],\n",
    "                       'y':[414.25, 484.35, 409.71, 350.85, 319.14, 261.11, 265.63]})\n",
    "avgknowl = pd.DataFrame({'x':[1,2,3,4,5,6,7],\n",
    "                         'y':[429.78, 380.08, 339.08, 392.38, 422.62, 357.98, 286.31]})\n",
    "avgapprop = pd.DataFrame({'x':[1,2,3,4,5,6,7],\n",
    "                          'y':[550.67, 489.06, 389.27, 346.35, 319.59, 274.50, 293.55]})\n",
    "\n",
    "avgsoc['Skill']='Social'\n",
    "avgknowl['Skill']='Knowledge'\n",
    "avgapprop['Skill']='Approp. Action'\n",
    "res=pd.concat([avgsoc, avgknowl, avgapprop])\n",
    "sns.set_style('whitegrid')\n",
    "fig, ax = plt.subplots(figsize=(8,6))\n",
    "sns.barplot(x='x',y='y',data=res,hue='Skill', palette='Paired', ax=ax)\n",
    "plt.xlabel('Rating')\n",
    "plt.ylabel('Avg. Days')\n",
    "plt.ylim(0, 600)\n",
    "plt.title('Avg. Days in Program by Entry Score')\n",
    "plt.savefig('avg_days_by_entry.png')\n",
    "plt.show()\n",
    "\n"
   ]
  },
  {
   "cell_type": "code",
   "execution_count": null,
   "id": "318b1942",
   "metadata": {},
   "outputs": [],
   "source": [
    "print('SOCIAL')\n",
    "print(eco_exit.loc[eco_exit['exit_social']==1, 'days_in_program'].mean())\n",
    "print(eco_exit.loc[eco_exit['exit_social']==2, 'days_in_program'].mean())\n",
    "print(eco_exit.loc[eco_exit['exit_social']==3, 'days_in_program'].mean())\n",
    "print(eco_exit.loc[eco_exit['exit_social']==4, 'days_in_program'].mean())\n",
    "print(eco_exit.loc[eco_exit['exit_social']==5, 'days_in_program'].mean())\n",
    "print(eco_exit.loc[eco_exit['exit_social']==6, 'days_in_program'].mean())\n",
    "print(eco_exit.loc[eco_exit['exit_social']==7, 'days_in_program'].mean())\n",
    "print('')\n",
    "print('KNOWLEDGE')\n",
    "print(eco_exit.loc[eco_exit['exit_knowledge']==1, 'days_in_program'].mean())\n",
    "print(eco_exit.loc[eco_exit['exit_knowledge']==2, 'days_in_program'].mean())\n",
    "print(eco_exit.loc[eco_exit['exit_knowledge']==3, 'days_in_program'].mean())\n",
    "print(eco_exit.loc[eco_exit['exit_knowledge']==4, 'days_in_program'].mean())\n",
    "print(eco_exit.loc[eco_exit['exit_knowledge']==5, 'days_in_program'].mean())\n",
    "print(eco_exit.loc[eco_exit['exit_knowledge']==6, 'days_in_program'].mean())\n",
    "print(eco_exit.loc[eco_exit['exit_knowledge']==7, 'days_in_program'].mean())\n",
    "print('')\n",
    "print('APPROP ACTION')\n",
    "print(eco_exit.loc[eco_exit['exit_approp_action']==1, 'days_in_program'].mean())\n",
    "print(eco_exit.loc[eco_exit['exit_approp_action']==2, 'days_in_program'].mean())\n",
    "print(eco_exit.loc[eco_exit['exit_approp_action']==3, 'days_in_program'].mean())\n",
    "print(eco_exit.loc[eco_exit['exit_approp_action']==4, 'days_in_program'].mean())\n",
    "print(eco_exit.loc[eco_exit['exit_approp_action']==5, 'days_in_program'].mean())\n",
    "print(eco_exit.loc[eco_exit['exit_approp_action']==6, 'days_in_program'].mean())\n",
    "print(eco_exit.loc[eco_exit['exit_approp_action']==7, 'days_in_program'].mean())"
   ]
  },
  {
   "cell_type": "code",
   "execution_count": null,
   "id": "ac701a8d",
   "metadata": {},
   "outputs": [],
   "source": [
    "avgsocex = pd.DataFrame({'x':[1,2,3,4,5,6,7],\n",
    "                       'y':[377.84, 336.98, 343.99, 349.63, 368.39, 385.92, 425.78]})\n",
    "avgknowlex = pd.DataFrame({'x':[1,2,3,4,5,6,7],\n",
    "                         'y':[417.73, 364.27, 361.23, 348.07, 343.35, 361.20, 434.32]})\n",
    "avgappropex = pd.DataFrame({'x':[1,2,3,4,5,6,7],\n",
    "                          'y':[456.33, 356.23, 351.72, 350.26, 335.17, 354.00, 405.30]})\n",
    "\n",
    "avgsocex['Skill']='Social'\n",
    "avgknowlex['Skill']='Knowledge'\n",
    "sns.set_style('whitegrid')\n",
    "avgappropex['Skill']='Approp. Action'\n",
    "res=pd.concat([avgsocex, avgknowlex, avgappropex])\n",
    "fig, ax = plt.subplots(figsize=(8,6))\n",
    "sns.barplot(x='x',y='y',data=res,hue='Skill', palette='Paired', ax=ax)\n",
    "plt.xlabel('Rating')\n",
    "plt.ylabel('Avg. Days')\n",
    "plt.ylim(0, 600)\n",
    "plt.title('Avg. Days in Program by Exit Score')\n",
    "plt.savefig('avg_days_by_exit.png')\n",
    "plt.show()"
   ]
  },
  {
   "cell_type": "code",
   "execution_count": null,
   "id": "35583685",
   "metadata": {},
   "outputs": [],
   "source": [
    "sns.lineplot(data = avgsoc, x='x', y='y')"
   ]
  },
  {
   "cell_type": "code",
   "execution_count": null,
   "id": "5866ffcd",
   "metadata": {},
   "outputs": [],
   "source": [
    "avgsoc['Skill']='Social'\n",
    "avgknowl['Skill']='Knowledge'\n",
    "avgapprop['Skill']='Approp. Action'\n",
    "res=pd.concat([avgsoc, avgknowl, avgapprop])\n",
    "sns.set_style('whitegrid')\n",
    "fig, ax1 = plt.subplots(figsize=(12,6))\n",
    "sns.pointplot(data = res, x='x', y='y', hue='Skill', kind='point', palette='Paired')\n",
    "sns.barplot(x='x',y='y',data=res,hue='Skill', palette='Paired', alpha=0.5)\n",
    "plt.xlabel('Rating')\n",
    "plt.ylabel('Avg. Days')\n",
    "plt.ylim(0, 600)\n",
    "##plt.grid(axis='y')\n",
    "plt.title('Avg. Days in Program by Entry Score')\n",
    "plt.savefig('avg_days_by_entry_comp.png')\n",
    "plt.show()\n",
    "\n"
   ]
  },
  {
   "cell_type": "code",
   "execution_count": null,
   "id": "60b04e1a",
   "metadata": {},
   "outputs": [],
   "source": [
    "avgsocex['Skill']='Social'\n",
    "avgknowlex['Skill']='Knowledge'\n",
    "avgappropex['Skill']='Approp. Action'\n",
    "res=pd.concat([avgsocex, avgknowlex, avgappropex])\n",
    "sns.set_style('whitegrid')\n",
    "fig, ax1 = plt.subplots(figsize=(12,6))\n",
    "sns.pointplot(data = res, x='x', y='y', hue='Skill', kind='point', palette='Paired')\n",
    "sns.barplot(x='x',y='y',data=res,hue='Skill', palette='Paired', alpha=0.5)\n",
    "plt.xlabel('Rating')\n",
    "plt.ylabel('Avg. Days')\n",
    "plt.ylim(0, 600)\n",
    "##plt.grid(axis='y')\n",
    "plt.title('Avg. Days in Program by Exit Score')\n",
    "##plt.legend([],[], frameon=False)\n",
    "plt.savefig('avg_days_by_exit_comp.png')\n",
    "plt.show()"
   ]
  },
  {
   "cell_type": "code",
   "execution_count": null,
   "id": "ef298871",
   "metadata": {},
   "outputs": [],
   "source": []
  }
 ],
 "metadata": {
  "kernelspec": {
   "display_name": "Python 3 (ipykernel)",
   "language": "python",
   "name": "python3"
  },
  "language_info": {
   "codemirror_mode": {
    "name": "ipython",
    "version": 3
   },
   "file_extension": ".py",
   "mimetype": "text/x-python",
   "name": "python",
   "nbconvert_exporter": "python",
   "pygments_lexer": "ipython3",
   "version": "3.9.7"
  }
 },
 "nbformat": 4,
 "nbformat_minor": 5
}
