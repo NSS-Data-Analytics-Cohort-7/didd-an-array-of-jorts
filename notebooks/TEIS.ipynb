{
 "cells": [
  {
   "cell_type": "code",
   "execution_count": 1,
   "id": "16f19d45",
   "metadata": {},
   "outputs": [],
   "source": [
    "import pandas as pd\n",
    "import numpy as np\n",
    "import matplotlib.pyplot as plt\n",
    "import seaborn as sns"
   ]
  },
  {
   "cell_type": "code",
   "execution_count": null,
   "id": "8af1b273",
   "metadata": {},
   "outputs": [],
   "source": [
    "project_data = pd.read_excel('../data/TEIS-NSS Project Data 10-2022.xlsx', \n",
    "                             sheet_name=['ECO with Exit21-22', 'Elig Timeline Rpt 2018-2022'])"
   ]
  },
  {
   "cell_type": "code",
   "execution_count": null,
   "id": "7a147d63",
   "metadata": {},
   "outputs": [],
   "source": [
    "eco_exit = project_data.get('ECO with Exit21-22')\n",
    "elig_timeline = project_data.get('Elig Timeline Rpt 2018-2022')\n",
    "print(eco_exit)\n",
    "print(elig_timeline)"
   ]
  },
  {
   "cell_type": "code",
   "execution_count": null,
   "id": "290968ae",
   "metadata": {},
   "outputs": [],
   "source": [
    "eco_exit.head(n=7)"
   ]
  },
  {
   "cell_type": "code",
   "execution_count": null,
   "id": "0b941170",
   "metadata": {},
   "outputs": [],
   "source": [
    "elig_timeline.head(n=7)"
   ]
  },
  {
   "cell_type": "code",
   "execution_count": null,
   "id": "38cdf58b",
   "metadata": {},
   "outputs": [],
   "source": [
    "eco_exit.shape"
   ]
  },
  {
   "cell_type": "code",
   "execution_count": null,
   "id": "c6e1ae0b",
   "metadata": {},
   "outputs": [],
   "source": [
    "eco_exit.dtypes"
   ]
  },
  {
   "cell_type": "code",
   "execution_count": null,
   "id": "f5b646d0",
   "metadata": {},
   "outputs": [],
   "source": [
    "elig_timeline.shape"
   ]
  },
  {
   "cell_type": "code",
   "execution_count": null,
   "id": "74c12091",
   "metadata": {},
   "outputs": [],
   "source": [
    "elig_timeline.dtypes"
   ]
  },
  {
   "cell_type": "code",
   "execution_count": null,
   "id": "20cb113b",
   "metadata": {},
   "outputs": [],
   "source": [
    "elig_timeline.tail(10)"
   ]
  },
  {
   "cell_type": "code",
   "execution_count": null,
   "id": "03d62b73",
   "metadata": {},
   "outputs": [],
   "source": [
    "eco_exit.tail(10)"
   ]
  },
  {
   "cell_type": "code",
   "execution_count": null,
   "id": "5b13e22a",
   "metadata": {},
   "outputs": [],
   "source": [
    "eco_exit = eco_exit.iloc[:-4 , :]"
   ]
  },
  {
   "cell_type": "code",
   "execution_count": null,
   "id": "5c6fc990",
   "metadata": {},
   "outputs": [],
   "source": [
    "eco_exit.tail(10)"
   ]
  },
  {
   "cell_type": "code",
   "execution_count": null,
   "id": "98545663",
   "metadata": {},
   "outputs": [],
   "source": [
    "dx = elig_timeline[elig_timeline['Init. Elig. Category'] == 'Diagnosed Condition']\n"
   ]
  },
  {
   "cell_type": "code",
   "execution_count": null,
   "id": "02d2c03c",
   "metadata": {},
   "outputs": [],
   "source": []
  }
 ],
 "metadata": {
  "kernelspec": {
   "display_name": "Python 3 (ipykernel)",
   "language": "python",
   "name": "python3"
  },
  "language_info": {
   "codemirror_mode": {
    "name": "ipython",
    "version": 3
   },
   "file_extension": ".py",
   "mimetype": "text/x-python",
   "name": "python",
   "nbconvert_exporter": "python",
   "pygments_lexer": "ipython3",
   "version": "3.9.12"
  }
 },
 "nbformat": 4,
 "nbformat_minor": 5
}
