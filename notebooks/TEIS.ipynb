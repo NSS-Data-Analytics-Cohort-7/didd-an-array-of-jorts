{
 "cells": [
  {
   "cell_type": "code",
   "execution_count": null,
   "id": "16f19d45",
   "metadata": {},
   "outputs": [],
   "source": [
    "import pandas as pd\n",
    "import numpy as np\n",
    "import matplotlib.pyplot as plt\n",
    "import seaborn as sns"
   ]
  },
  {
   "cell_type": "code",
   "execution_count": null,
   "id": "8af1b273",
   "metadata": {},
   "outputs": [],
   "source": [
    "project_data = pd.read_excel('../data/TEIS-NSS Project Data 10-2022.xlsx', \n",
    "                             sheet_name=['ECO with Exit21-22', 'Elig Timeline Rpt 2018-2022'])"
   ]
  },
  {
   "cell_type": "code",
   "execution_count": null,
   "id": "e20cff16",
   "metadata": {},
   "outputs": [],
   "source": [
    "eco_exit = project_data.get('ECO with Exit21-22')\n",
    "elig_timeline = project_data.get('Elig Timeline Rpt 2018-2022')\n",
    "print(eco_exit)\n",
    "print(elig_timeline)"
   ]
  },
  {
   "cell_type": "code",
   "execution_count": null,
   "id": "9ab00126",
   "metadata": {},
   "outputs": [],
   "source": [
    "eco_exit.head(n=7)"
   ]
  },
  {
   "cell_type": "code",
   "execution_count": null,
   "id": "6da553be",
   "metadata": {},
   "outputs": [],
   "source": [
    "elig_timeline.head(n=7)"
   ]
  },
  {
   "cell_type": "code",
   "execution_count": null,
   "id": "d023ebd8",
   "metadata": {},
   "outputs": [],
   "source": [
    "eco_exit.shape"
   ]
  },
  {
   "cell_type": "code",
   "execution_count": null,
   "id": "77e09df3",
   "metadata": {},
   "outputs": [],
   "source": [
    "eco_exit.dtypes"
   ]
  },
  {
   "cell_type": "code",
   "execution_count": null,
   "id": "225f29da",
   "metadata": {},
   "outputs": [],
   "source": [
    "elig_timeline.shape"
   ]
  },
  {
   "cell_type": "code",
   "execution_count": null,
   "id": "e22c9878",
   "metadata": {},
   "outputs": [],
   "source": [
    "elig_timeline.dtypes"
   ]
  },
  {
   "cell_type": "code",
   "execution_count": null,
   "id": "b5fcef1d",
   "metadata": {},
   "outputs": [],
   "source": [
    "elig_timeline.tail(10)"
   ]
  },
  {
   "cell_type": "code",
   "execution_count": null,
   "id": "b3ffe0d7",
   "metadata": {},
   "outputs": [],
   "source": [
    "eco_exit.tail(10)"
   ]
  },
  {
   "cell_type": "code",
   "execution_count": null,
   "id": "6d3aeaff",
   "metadata": {},
   "outputs": [],
   "source": [
    "eco_exit = eco_exit.iloc[:-4 , :]  #drops lines from the tail "
   ]
  },
  {
   "cell_type": "code",
   "execution_count": null,
   "id": "1c1d7687",
   "metadata": {},
   "outputs": [],
   "source": [
    "eco_exit.tail(10)"
   ]
  },
  {
   "cell_type": "markdown",
   "id": "97da8ea0",
   "metadata": {},
   "source": [
    "below code pulls out specfic information "
   ]
  },
  {
   "cell_type": "code",
   "execution_count": null,
   "id": "eb731d52",
   "metadata": {},
   "outputs": [],
   "source": [
    "dx = elig_timeline[elig_timeline['Init. Elig. Category'] == 'Diagnosed Condition']\n",
    "dev = elig_timeline[elig_timeline['Init. Elig. Category'] == 'Developmental Evaluation']\n",
    "dxdev = elig_timeline[elig_timeline['Init. Elig. Category'] == 'Diagnosed Condition, Developmental Evaluation']"
   ]
  },
  {
   "cell_type": "code",
   "execution_count": null,
   "id": "1c4c7188",
   "metadata": {
    "scrolled": true
   },
   "outputs": [],
   "source": [
    "dx.tail(10)"
   ]
  },
  {
   "cell_type": "code",
   "execution_count": null,
   "id": "4f06a0f0",
   "metadata": {
    "scrolled": true
   },
   "outputs": [],
   "source": [
    "dev.tail(10)"
   ]
  },
  {
   "cell_type": "code",
   "execution_count": null,
   "id": "faba651c",
   "metadata": {},
   "outputs": [],
   "source": [
    "eco_exit['Ent SOCIAL_SCALE'].mean()"
   ]
  },
  {
   "cell_type": "code",
   "execution_count": null,
   "id": "90520a68",
   "metadata": {},
   "outputs": [],
   "source": [
    "eco_exit[['Ent SOCIAL_SCALE', 'Ent KNOWLEDGE_SCALE', 'Ent APPROPRIATE_ACTION_SCALE']].median(axis=1)"
   ]
  },
  {
   "cell_type": "code",
   "execution_count": null,
   "id": "15d8f752",
   "metadata": {},
   "outputs": [],
   "source": [
    "eco_exit[['Exit SOCIAL_SCALE', 'Exit KNOWLEDGE_SCALE', 'Exit APPROPRIATE_ACTION_SCALE']].median(axis=1)"
   ]
  },
  {
   "cell_type": "code",
   "execution_count": null,
   "id": "f0415926",
   "metadata": {},
   "outputs": [],
   "source": [
    "elig_timeline = elig_timeline.rename(columns={'Child ID': 'CHILD_ID', 'District' : 'DISTRICT'})"
   ]
  },
  {
   "cell_type": "code",
   "execution_count": null,
   "id": "d0f80d97",
   "metadata": {},
   "outputs": [],
   "source": [
    "eco_exit_timeline = eco_exit.merge(elig_timeline, how='outer', on=[\"CHILD_ID\",'DISTRICT'])\n",
    "\n"
   ]
  },
  {
   "cell_type": "code",
   "execution_count": null,
   "id": "570fba30",
   "metadata": {},
   "outputs": [],
   "source": [
    "dx = eco_exit_timeline[eco_exit_timeline['Init. Elig. Category'] == 'Diagnosed Condition']\n",
    "dev = eco_exit_timeline[eco_exit_timeline['Init. Elig. Category'] == 'Developmental Evaluation']\n",
    "dxdev = eco_exit_timeline[eco_exit_timeline['Init. Elig. Category'] == 'Diagnosed Condition, Developmental Evaluation']"
   ]
  },
  {
   "cell_type": "code",
   "execution_count": null,
   "id": "a9346a14",
   "metadata": {},
   "outputs": [],
   "source": [
    "eco_exit_timeline.shape"
   ]
  },
  {
   "cell_type": "code",
   "execution_count": null,
   "id": "5a90c791",
   "metadata": {
    "scrolled": true
   },
   "outputs": [],
   "source": [
    "eco_exit_timeline.tail(10)\n"
   ]
  },
  {
   "cell_type": "code",
   "execution_count": null,
   "id": "4e588a89",
   "metadata": {},
   "outputs": [],
   "source": [
    "dx.head(5)"
   ]
  },
  {
   "cell_type": "code",
   "execution_count": null,
   "id": "39fec547",
   "metadata": {},
   "outputs": [],
   "source": [
    "dx.head()"
   ]
  },
  {
   "cell_type": "code",
   "execution_count": null,
   "id": "ae8e9866",
   "metadata": {},
   "outputs": [],
   "source": [
    "for col in dx.columns:\n",
    "    print(col)"
   ]
  },
  {
   "cell_type": "markdown",
   "id": "869ad792",
   "metadata": {},
   "source": [
    "DataFrame.drop(labels=None, axis=0, index=None, columns=None, level=None, inplace=False, errors='raise')[source]"
   ]
  },
  {
   "cell_type": "code",
   "execution_count": null,
   "id": "ac671b72",
   "metadata": {},
   "outputs": [],
   "source": []
  }
 ],
 "metadata": {
  "kernelspec": {
   "display_name": "Python 3 (ipykernel)",
   "language": "python",
   "name": "python3"
  },
  "language_info": {
   "codemirror_mode": {
    "name": "ipython",
    "version": 3
   },
   "file_extension": ".py",
   "mimetype": "text/x-python",
   "name": "python",
   "nbconvert_exporter": "python",
   "pygments_lexer": "ipython3",
   "version": "3.9.12"
  }
 },
 "nbformat": 4,
 "nbformat_minor": 5
}
