{
 "cells": [
  {
   "cell_type": "code",
   "execution_count": null,
   "id": "ee638298",
   "metadata": {},
   "outputs": [],
   "source": [
    "import pandas as pd\n",
    "import openpyxl as opx\n",
    "import numpy as np\n",
    "import matplotlib.pyplot as plt\n",
    "import seaborn as sns"
   ]
  },
  {
   "cell_type": "code",
   "execution_count": null,
   "id": "fd127248",
   "metadata": {},
   "outputs": [],
   "source": [
    "teisdf = pd.read_excel('../data/teisdata.xlsx', \n",
    "                             sheet_name=['ECO with Exit21-22', 'Elig Timeline Rpt 2018-2022'])\n",
    "\n",
    "ecodf = teisdf.get('ECO with Exit21-22')\n",
    "eligdf = teisdf.get('Elig Timeline Rpt 2018-2022')"
   ]
  },
  {
   "cell_type": "code",
   "execution_count": null,
   "id": "c0e33a46",
   "metadata": {},
   "outputs": [],
   "source": [
    "\n",
    "# dataframe of children who entered the program with a 6 in either the social, knowledge, or appropriate action scale\n",
    "ent6ss = ecodf[ecodf['Ent SOCIAL_SCALE'] == 6]\n",
    "ent6ks = ecodf[ecodf['Ent KNOWLEDGE_SCALE'] == 6]\n",
    "ent6aas = ecodf[ecodf['Ent APPROPRIATE_ACTION_SCALE'] == 6]\n",
    "\n",
    "# dataframe of children who exited the program with a 6 in either the social, knowledge, or appropriate action scale \n",
    "exit6ss = ecodf[ecodf['Exit SOCIAL_SCALE'] == 6] \n",
    "exit6ks = ecodf[ecodf['Exit KNOWLEDGE_SCALE'] == 6]\n",
    "exit6aas = ecodf[ecodf['Exit APPROPRIATE_ACTION_SCALE'] == 6]\n",
    "\n",
    "# dataframe of children who entered and exited the program with a 6 in the social, knowledge, or appropriate action scale\n",
    "nochangess = ecodf[(ecodf['Ent SOCIAL_SCALE'] == 6) & (ecodf['Exit SOCIAL_SCALE'] == 6)]\n",
    "nochangeks = ecodf[(ecodf['Ent KNOWLEDGE_SCALE'] == 6) & (ecodf['Exit KNOWLEDGE_SCALE'] == 6)]\n",
    "nochangeaas = ecodf[(ecodf['Ent APPROPRIATE_ACTION_SCALE'] == 6) & (ecodf['Exit APPROPRIATE_ACTION_SCALE'] == 6)]\n",
    "\n",
    "# dataframe of children whos scores decreased in the social, knowledge, or appropriate action scale\n",
    "decreasess = ecodf[(ecodf['Ent SOCIAL_SCALE'] == 6) & (ecodf['Exit SOCIAL_SCALE'] < 6)]\n",
    "decreaseks = ecodf[(ecodf['Ent KNOWLEDGE_SCALE'] == 6) & (ecodf['Exit KNOWLEDGE_SCALE'] < 6)]\n",
    "decreaseaas = ecodf[(ecodf['Ent APPROPRIATE_ACTION_SCALE'] == 6) & (ecodf['Exit APPROPRIATE_ACTION_SCALE'] < 6)]\n",
    "\n",
    "# dataframe of children whos scores increased in the social, knowledge, or appropriate action scale\n",
    "increasess = ecodf[(ecodf['Ent SOCIAL_SCALE'] == 6) & (ecodf['Exit SOCIAL_SCALE'] > 6)]\n",
    "increaseks = ecodf[(ecodf['Ent KNOWLEDGE_SCALE'] == 6) & (ecodf['Exit KNOWLEDGE_SCALE'] > 6)]\n",
    "increaseaas = ecodf[(ecodf['Ent APPROPRIATE_ACTION_SCALE'] == 6) & (ecodf['Exit APPROPRIATE_ACTION_SCALE'] > 6)]"
   ]
  },
  {
   "cell_type": "code",
   "execution_count": null,
   "id": "cd69679d",
   "metadata": {},
   "outputs": [],
   "source": [
    "print(nochangess['Ent SOCIAL_SCALE'].count()/ent6ss['Ent SOCIAL_SCALE'].count() *100)\n",
    "print(nochangeks['Ent KNOWLEDGE_SCALE'].count()/ent6ks['Ent KNOWLEDGE_SCALE'].count() *100)\n",
    "print(nochangeaas['Ent APPROPRIATE_ACTION_SCALE'].count()/ent6aas['Ent APPROPRIATE_ACTION_SCALE'].count() *100)"
   ]
  },
  {
   "cell_type": "markdown",
   "id": "78dcdb4f",
   "metadata": {},
   "source": [
    "*Children with an entry score of 6: What percentage of children have no change in their exit score?*\n",
    "\n",
    "Social Scale: 34% of children with an entry score of 6 did not see any change compared to the exit score\n",
    "\n",
    "Knowledge Scale: 27% of children with an entry score of 6 did not see any change compared to the exit score\n",
    "\n",
    "Appropriate Action Scale: 27% of children with an entry score of 6 did not see any change compared to the exit score"
   ]
  },
  {
   "cell_type": "code",
   "execution_count": null,
   "id": "3c42e19f",
   "metadata": {},
   "outputs": [],
   "source": [
    "print(decreasess['Ent SOCIAL_SCALE'].count()/ent6ss['Ent SOCIAL_SCALE'].count() *100)\n",
    "print(decreaseks['Ent KNOWLEDGE_SCALE'].count()/ent6ks['Ent KNOWLEDGE_SCALE'].count() *100)\n",
    "print(decreaseaas['Ent APPROPRIATE_ACTION_SCALE'].count()/ent6aas['Ent APPROPRIATE_ACTION_SCALE'].count() *100)"
   ]
  },
  {
   "cell_type": "markdown",
   "id": "065233cd",
   "metadata": {},
   "source": [
    "*Children with an entry score of 6: What percentage of children have a decrease in their exit score?*\n",
    "\n",
    "Social Scale: 6% of children with an entry score of 6 showed a decrease compared to the exit score\n",
    "\n",
    "Knowledge Scale: 21% of children with an entry score of 6 showed a decrease compared to the exit score\n",
    "\n",
    "Appropriate Action Scale: 17% of children with an entry score of 6 showed a decrease compared to the exit score"
   ]
  },
  {
   "cell_type": "code",
   "execution_count": null,
   "id": "bae8337a",
   "metadata": {},
   "outputs": [],
   "source": [
    "print(increasess['Ent SOCIAL_SCALE'].count()/ent6ss['Ent SOCIAL_SCALE'].count() *100)\n",
    "print(increaseks['Ent KNOWLEDGE_SCALE'].count()/ent6ks['Ent KNOWLEDGE_SCALE'].count() *100)\n",
    "print(increaseaas['Ent APPROPRIATE_ACTION_SCALE'].count()/ent6aas['Ent APPROPRIATE_ACTION_SCALE'].count() *100)"
   ]
  },
  {
   "cell_type": "markdown",
   "id": "5aba2487",
   "metadata": {},
   "source": [
    "*Children with an entry score of 6: What percentage of children have an increase in their exit score?*\n",
    "\n",
    "\n",
    "Social Scale: 60% of children with an entry score of 6 showed a increase compared to the exit score\n",
    "\n",
    "Knowledge Scale: 53% of children with an entry score of 6 showed a increase compared to the exit score\n",
    "\n",
    "Appropriate Action Scale: 56% of children with an entry score of 6 showed a increase compared to the exit score"
   ]
  },
  {
   "cell_type": "code",
   "execution_count": null,
   "id": "aa1db721",
   "metadata": {},
   "outputs": [],
   "source": [
    "averagesocialchange6 = ent6ss['Exit SOCIAL_SCALE'] - ent6ss['Ent SOCIAL_SCALE']\n",
    "averagesocialchange6.median()"
   ]
  },
  {
   "cell_type": "markdown",
   "id": "2790a58b",
   "metadata": {},
   "source": [
    "Social Scale: On average children who recieved an entry score of 6 improved by .50 points to a 6.5 score"
   ]
  },
  {
   "cell_type": "code",
   "execution_count": null,
   "id": "3a47614d",
   "metadata": {},
   "outputs": [],
   "source": [
    "averageknowledgechange6 = ent6ks['Exit KNOWLEDGE_SCALE'] - ent6ks['Ent KNOWLEDGE_SCALE']\n",
    "averageknowledgechange6.mean()"
   ]
  },
  {
   "cell_type": "markdown",
   "id": "b214cc82",
   "metadata": {},
   "source": [
    "Knowledge Scale: On average children who recieved an entry score of 6 improved by .18 points to a 6.18 score"
   ]
  },
  {
   "cell_type": "code",
   "execution_count": null,
   "id": "56f47412",
   "metadata": {},
   "outputs": [],
   "source": [
    "averageappropriateactionchange6 = ent6aas['Exit APPROPRIATE_ACTION_SCALE'] - ent6aas['Ent APPROPRIATE_ACTION_SCALE']\n",
    "averageappropriateactionchange6.mean()"
   ]
  },
  {
   "cell_type": "markdown",
   "id": "193bf9f5",
   "metadata": {},
   "source": [
    "Appropriate Action Scale: On average children who recieved an entry score of 6 improved by .26 points to a 6.26 score"
   ]
  },
  {
   "cell_type": "code",
   "execution_count": null,
   "id": "7cd7fe9b",
   "metadata": {},
   "outputs": [],
   "source": [
    "# dataframe showing average program length based on whether social status score increased, decreased or had no change\n",
    "avgprogramlenssin = increasess['Days btw I-IFSP to Exit ECO'].median()\n",
    "avgprogramlenssde = decreasess['Days btw I-IFSP to Exit ECO'].median()\n",
    "avgprogramlenssnc = nochangess['Days btw I-IFSP to Exit ECO'].median()\n",
    "\n",
    "# dataframe showing average program length based on whether knowledge status score increased, decreased or had no change\n",
    "avgprogramlenksin = increaseks['Days btw I-IFSP to Exit ECO'].median()\n",
    "avgprogramlenksde = decreaseks['Days btw I-IFSP to Exit ECO'].median()\n",
    "avgprogramlenksnc = nochangeks['Days btw I-IFSP to Exit ECO'].median()\n",
    "\n",
    "# dataframe showing average program length based on whether acceptable action score increased, decreased or had no change\n",
    "avgprogramlenaasin = increaseaas['Days btw I-IFSP to Exit ECO'].median()\n",
    "avgprogramlenaasde = decreaseaas['Days btw I-IFSP to Exit ECO'].median()\n",
    "avgprogramlenaasnc = nochangeaas['Days btw I-IFSP to Exit ECO'].median()"
   ]
  },
  {
   "cell_type": "code",
   "execution_count": null,
   "id": "f85d8de7",
   "metadata": {},
   "outputs": [],
   "source": [
    "print(avgprogramlenssin)\n",
    "print(avgprogramlenssde)\n",
    "print(avgprogramlenssnc)"
   ]
  },
  {
   "cell_type": "code",
   "execution_count": null,
   "id": "c9287e9f",
   "metadata": {},
   "outputs": [],
   "source": [
    "print(avgprogramlenksin)\n",
    "print(avgprogramlenksde)\n",
    "print(avgprogramlenksnc)"
   ]
  },
  {
   "cell_type": "code",
   "execution_count": null,
   "id": "7cb4efa1",
   "metadata": {},
   "outputs": [],
   "source": [
    "print(avgprogramlenaasin)\n",
    "print(avgprogramlenaasde)\n",
    "print(avgprogramlenaasnc)"
   ]
  },
  {
   "cell_type": "markdown",
   "id": "29e93b82",
   "metadata": {},
   "source": [
    "*Social Scale:*\n",
    "\n",
    "For children who have an entry score of 6 and increased, the average duration in the program is 194 days\n",
    "\n",
    "For children who have an entry score of 6 and decreased, the average duration in the program is 319 days\n",
    "\n",
    "For children who have an entry score of 6 and no change was seen, the average duration in the program is 182 days\n",
    "\n",
    "              \n",
    "*Knowledge Scale:* \n",
    "\n",
    "For children who have an entry score of 6 and increased, the average duration in the program is 338 days\n",
    "\n",
    "For children who have an entry score of 6 and decreased, the average duration in the program is 357 days\n",
    "\n",
    "For children who have an entry score of 6 and no change was seen, the average duration in the program is 189 days\n",
    "              \n",
    "*Appropriate Action Scale:* \n",
    "\n",
    "For children who have an entry score of 6 and increased, the average duration in the program is 201 days\n",
    "\n",
    "For children who have an entry score of 6 and decreased, the average duration in the program is 340 days\n",
    "\n",
    "For children who have an entry score of 6 and no change was seen, the average duration in the program is 183 days"
   ]
  },
  {
   "cell_type": "markdown",
   "id": "ecc004b7",
   "metadata": {},
   "source": [
    "Visual Ideas: \n",
    "\n",
    "Percentage increase by entry score\n",
    "Percentage decrease by entry score\n",
    "Percentage with no change by entry score\n",
    "\n",
    "Time in program by entry score \n",
    "Time in program by inc.,dec.,no change metric\n",
    "\n",
    "Average improvement by entry score\n",
    "Average regression by entry score\n",
    "Average no change by entry score"
   ]
  },
  {
   "cell_type": "code",
   "execution_count": null,
   "id": "e34e8d86",
   "metadata": {},
   "outputs": [],
   "source": [
    "a = ecodf[(ecodf['Ent SOCIAL_SCALE'] == 6) | (ecodf['Ent KNOWLEDGE_SCALE'] == 6) | (ecodf['Ent APPROPRIATE_ACTION_SCALE'] == 6)]\n",
    "\n",
    "b = a['Days btw I-IFSP to Exit ECO'].mean()\n",
    "\n",
    "\n",
    "\n",
    "\n",
    "#ecodf[(ecodf['Ent KNOWLEDGE_SCALE'] == 6) & (ecodf['Exit KNOWLEDGE_SCALE'] == 6)]"
   ]
  },
  {
   "cell_type": "code",
   "execution_count": null,
   "id": "47864774",
   "metadata": {},
   "outputs": [],
   "source": [
    "print(ent6ss['Ent SOCIAL_SCALE'].count()) \n",
    "print(ent6ks['Exit KNOWLEDGE_SCALE'].count()) \n",
    "print(ent6aas['Exit APPROPRIATE_ACTION_SCALE'].count())"
   ]
  },
  {
   "cell_type": "code",
   "execution_count": null,
   "id": "11b26d62",
   "metadata": {},
   "outputs": [],
   "source": [
    "ssin = pd.DataFrame()\n",
    "\n",
    "ssin =pd.DataFrame(columns=[\"entry_score\", \"pct_of_children_improved\", \"time_in_program\"])\n",
    "\n",
    "list1 = [1,2,3,4,5,6]\n",
    "list2 = [57.9,77.2,61.6,75.0,71.14,60.0]\n",
    "list3 = [364,490,349,336,335,194] # need to update value 3\n",
    "\n",
    "ssin['entry_score'] = list1\n",
    "ssin['pct_of_children_improved'] = list2\n",
    "ssin['time_in_program'] = list3\n",
    "\n",
    "print(ssin)"
   ]
  },
  {
   "cell_type": "code",
   "execution_count": null,
   "id": "263c5251",
   "metadata": {},
   "outputs": [],
   "source": [
    "ksin = pd.DataFrame()\n",
    "\n",
    "ksin =pd.DataFrame(columns=[\"entry_score\", \"pct_of_children_improved\", \"time_in_program\"])\n",
    "\n",
    "list1a = [1,2,3,4,5,6]\n",
    "list2a = [52.1,50.5,20.3,52.0,49.2,53.0]\n",
    "list3a = [480,335,349,350,353,338] # need to update value 3\n",
    "\n",
    "ksin['entry_score'] = list1a\n",
    "ksin['pct_of_children_improved'] = list2a\n",
    "ksin['time_in_program'] = list3a\n",
    "\n",
    "print(ksin)"
   ]
  },
  {
   "cell_type": "code",
   "execution_count": null,
   "id": "76ab5d99",
   "metadata": {},
   "outputs": [],
   "source": [
    "aasin = pd.DataFrame()\n",
    "\n",
    "aasin =pd.DataFrame(columns=[\"entry_score\", \"pct_of_children_improved\", \"time_in_program\"])\n",
    "\n",
    "list1b = [1,2,3,4,5,6]\n",
    "list2b = [67.6,74.2,40.1,61.0,64.0,56.0]\n",
    "list3b = [693,523,349,334,335,201] # need to update value 3\n",
    "\n",
    "aasin['entry_score'] = list1b\n",
    "aasin['pct_of_children_improved'] = list2b\n",
    "aasin['time_in_program'] = list3b\n",
    "\n",
    "print(aasin)"
   ]
  },
  {
   "cell_type": "code",
   "execution_count": null,
   "id": "23041016",
   "metadata": {},
   "outputs": [],
   "source": [
    "ssingraph = ssin.plot(x = 'entry_score', \n",
    "                      y = 'time_in_program',\n",
    "                      title = '*******',\n",
    "                      xlabel = 'Entry Score', \n",
    "                      ylabel = 'Days in Program',\n",
    "                      kind = 'bar',)\n",
    "\n",
    "ssingraph"
   ]
  },
  {
   "cell_type": "code",
   "execution_count": null,
   "id": "83cddd3e",
   "metadata": {},
   "outputs": [],
   "source": [
    "ksingraph = ksin.plot(x = 'entry_score', \n",
    "                      y = 'time_in_program',\n",
    "                      title = '******',\n",
    "                      xlabel = 'Entry Score', \n",
    "                      ylabel = 'Days in Program', \n",
    "                      kind = 'bar')\n",
    "ksingraph"
   ]
  },
  {
   "cell_type": "code",
   "execution_count": null,
   "id": "2c26eb9c",
   "metadata": {},
   "outputs": [],
   "source": [
    "aasingraph = aasin.plot(x = 'entry_score', \n",
    "                        y = 'time_in_program', \n",
    "                        title = '******',\n",
    "                        xlabel = 'Entry Score', \n",
    "                        ylabel = 'Days in Program',\n",
    "                        kind = 'bar')\n",
    "\n",
    "\n",
    "aasingraph"
   ]
  },
  {
   "cell_type": "code",
   "execution_count": null,
   "id": "02736fe0",
   "metadata": {},
   "outputs": [],
   "source": [
    "ssingrapha = ssin.plot(x = 'entry_score', \n",
    "                      y = 'pct_of_children_improved',\n",
    "                      xlabel = 'Entry Score', \n",
    "                      ylabel = 'Children Showing Improvement [%]',\n",
    "                      kind = 'bar')\n",
    "\n",
    "ssingrapha"
   ]
  },
  {
   "cell_type": "code",
   "execution_count": null,
   "id": "0782a603",
   "metadata": {},
   "outputs": [],
   "source": [
    "ksingrapha = ksin.plot(x = 'entry_score', \n",
    "                      y = 'pct_of_children_improved', \n",
    "                      xlabel = 'Entry Score', \n",
    "                      ylabel = 'Children Showing Improvement [%]',\n",
    "                      kind = 'bar')\n",
    "\n",
    "ksingrapha"
   ]
  },
  {
   "cell_type": "code",
   "execution_count": null,
   "id": "1f440610",
   "metadata": {},
   "outputs": [],
   "source": [
    "aasingrapha = aasin.plot(x = 'entry_score', \n",
    "                      y = 'pct_of_children_improved',   \n",
    "                      xlabel = 'Entry Score', \n",
    "                      ylabel = 'Children Showing Improvement [%]',\n",
    "                      kind = 'bar')\n",
    "\n",
    "aasingrapha"
   ]
  },
  {
   "cell_type": "code",
   "execution_count": null,
   "id": "d5f98ae9",
   "metadata": {},
   "outputs": [],
   "source": [
    "#Update below dataframes with no change data"
   ]
  },
  {
   "cell_type": "code",
   "execution_count": null,
   "id": "281ed24b",
   "metadata": {},
   "outputs": [],
   "source": [
    "ssnc = pd.DataFrame()\n",
    "\n",
    "ssnc =pd.DataFrame(columns=[\"entry_score\", \"pct_of_children_nochange\", \"time_in_program\"])\n",
    "\n",
    "list1c = [1,2,3,4,5,6,7]\n",
    "list2c = [42.1,14.5,10,14.0,21.9,34.0,88.4] # need to update value 3\n",
    "list3c = [317,227,10,336,182,182,188] # need to update value 3\n",
    "\n",
    "ssnc['entry_score'] = list1c\n",
    "ssnc['pct_of_children_nochange'] = list2c\n",
    "ssnc['time_in_program'] = list3c\n",
    "\n",
    "print(ssnc)"
   ]
  },
  {
   "cell_type": "code",
   "execution_count": null,
   "id": "2aa3de91",
   "metadata": {},
   "outputs": [],
   "source": [
    "ksnc = pd.DataFrame()\n",
    "\n",
    "ksnc =pd.DataFrame(columns=[\"entry_score\", \"pct_of_children_nochange\", \"time_in_program\"])\n",
    "\n",
    "list1d = [1,2,3,4,5,6,7]\n",
    "list2d = [47.9,17.5,10,18.0,21.8,27.0,85.0] # need to update value 3\n",
    "list3d = [196,180,10,350,325,189,186] # need to update value 3\n",
    "\n",
    "ksnc['entry_score'] = list1d\n",
    "ksnc['pct_of_children_nochange'] = list2d\n",
    "ksnc['time_in_program'] = list3d\n",
    "\n",
    "print(ksnc)"
   ]
  },
  {
   "cell_type": "code",
   "execution_count": null,
   "id": "efa4efc5",
   "metadata": {},
   "outputs": [],
   "source": [
    "aasnc = pd.DataFrame()\n",
    "\n",
    "aasnc = pd.DataFrame(columns=[\"entry_score\", \"pct_of_children_nochange\", \"time_in_program\"])\n",
    "\n",
    "list1e = [1,2,3,4,5,6,7]\n",
    "list2e = [32.4,14.4,10,22,13.6,27,85.3] # need to update value 3\n",
    "list3e = [362,185,10,316,184,183,250] # need to update value 3\n",
    "\n",
    "aasnc['entry_score'] = list1e\n",
    "aasnc['pct_of_children_nochange'] = list2e\n",
    "aasnc['time_in_program'] = list3e\n",
    "\n",
    "print(aasnc)"
   ]
  },
  {
   "cell_type": "code",
   "execution_count": null,
   "id": "2f08c7ca",
   "metadata": {},
   "outputs": [],
   "source": []
  }
 ],
 "metadata": {
  "kernelspec": {
   "display_name": "Python 3 (ipykernel)",
   "language": "python",
   "name": "python3"
  },
  "language_info": {
   "codemirror_mode": {
    "name": "ipython",
    "version": 3
   },
   "file_extension": ".py",
   "mimetype": "text/x-python",
   "name": "python",
   "nbconvert_exporter": "python",
   "pygments_lexer": "ipython3",
   "version": "3.9.12"
  }
 },
 "nbformat": 4,
 "nbformat_minor": 5
}
