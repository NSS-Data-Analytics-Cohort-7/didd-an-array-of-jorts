{
 "cells": [
  {
   "cell_type": "code",
   "execution_count": 1,
   "id": "f2857e08",
   "metadata": {},
   "outputs": [],
   "source": [
    "import pandas as pd\n",
    "import openpyxl as opx\n",
    "import numpy as np\n",
    "import matplotlib.pyplot as plt\n",
    "import seaborn as sns"
   ]
  },
  {
   "cell_type": "code",
   "execution_count": 2,
   "id": "2e00d90c",
   "metadata": {},
   "outputs": [],
   "source": [
    "teisdf = pd.read_excel('../data/teisdata.xlsx', \n",
    "                             sheet_name=['ECO with Exit21-22', 'Elig Timeline Rpt 2018-2022'])\n",
    "\n",
    "ecodf = teisdf.get('ECO with Exit21-22')\n",
    "eligdf = teisdf.get('Elig Timeline Rpt 2018-2022')"
   ]
  },
  {
   "cell_type": "code",
   "execution_count": 3,
   "id": "bf08776a",
   "metadata": {},
   "outputs": [],
   "source": [
    "\n",
    "# dataframe of children who entered the program with a 6 in either the social, knowledge, or appropriate action scale\n",
    "ent6ss = ecodf[ecodf['Ent SOCIAL_SCALE'] == 6]\n",
    "ent6ks = ecodf[ecodf['Ent KNOWLEDGE_SCALE'] == 6]\n",
    "ent6aas = ecodf[ecodf['Ent APPROPRIATE_ACTION_SCALE'] == 6]\n",
    "\n",
    "# dataframe of children who exited the program with a 6 in either the social, knowledge, or appropriate action scale \n",
    "exit6ss = ecodf[ecodf['Exit SOCIAL_SCALE'] == 6] \n",
    "exit6ks = ecodf[ecodf['Exit KNOWLEDGE_SCALE'] == 6]\n",
    "exit6aas = ecodf[ecodf['Exit APPROPRIATE_ACTION_SCALE'] == 6]\n",
    "\n",
    "# dataframe of children who entered and exited the program with a 6 in the social, knowledge, or appropriate action scale\n",
    "nochangess = ecodf[(ecodf['Ent SOCIAL_SCALE'] == 6) & (ecodf['Exit SOCIAL_SCALE'] == 6)]\n",
    "nochangeks = ecodf[(ecodf['Ent KNOWLEDGE_SCALE'] == 6) & (ecodf['Exit KNOWLEDGE_SCALE'] == 6)]\n",
    "nochangeaas = ecodf[(ecodf['Ent APPROPRIATE_ACTION_SCALE'] == 6) & (ecodf['Exit APPROPRIATE_ACTION_SCALE'] == 6)]\n",
    "\n",
    "# dataframe of children whos scores decreased in the social, knowledge, or appropriate action scale\n",
    "decreasess = ecodf[(ecodf['Ent SOCIAL_SCALE'] == 6) & (ecodf['Exit SOCIAL_SCALE'] < 6)]\n",
    "decreaseks = ecodf[(ecodf['Ent KNOWLEDGE_SCALE'] == 6) & (ecodf['Exit KNOWLEDGE_SCALE'] < 6)]\n",
    "decreaseaas = ecodf[(ecodf['Ent APPROPRIATE_ACTION_SCALE'] == 6) & (ecodf['Exit APPROPRIATE_ACTION_SCALE'] < 6)]\n",
    "\n",
    "# dataframe of children whos scores increased in the social, knowledge, or appropriate action scale\n",
    "increasess = ecodf[(ecodf['Ent SOCIAL_SCALE'] == 6) & (ecodf['Exit SOCIAL_SCALE'] > 6)]\n",
    "increaseks = ecodf[(ecodf['Ent KNOWLEDGE_SCALE'] == 6) & (ecodf['Exit KNOWLEDGE_SCALE'] > 6)]\n",
    "increaseaas = ecodf[(ecodf['Ent APPROPRIATE_ACTION_SCALE'] == 6) & (ecodf['Exit APPROPRIATE_ACTION_SCALE'] > 6)]"
   ]
  },
  {
   "cell_type": "code",
   "execution_count": 4,
   "id": "e1a93c3a",
   "metadata": {},
   "outputs": [],
   "source": [
    "# print(nochangess['Ent SOCIAL_SCALE'].count()/ent6ss['Ent SOCIAL_SCALE'].count() *100)\n",
    "# print(nochangeks['Ent KNOWLEDGE_SCALE'].count()/ent6ks['Ent KNOWLEDGE_SCALE'].count() *100)\n",
    "# print(nochangeaas['Ent APPROPRIATE_ACTION_SCALE'].count()/ent6aas['Ent APPROPRIATE_ACTION_SCALE'].count() *100)"
   ]
  },
  {
   "cell_type": "markdown",
   "id": "555f1f58",
   "metadata": {},
   "source": [
    "*Children with an entry score of 6: What percentage of children have no change in their exit score?*\n",
    "\n",
    "Social Scale: 34% of children with an entry score of 6 did not see any change compared to the exit score\n",
    "\n",
    "Knowledge Scale: 27% of children with an entry score of 6 did not see any change compared to the exit score\n",
    "\n",
    "Appropriate Action Scale: 27% of children with an entry score of 6 did not see any change compared to the exit score"
   ]
  },
  {
   "cell_type": "code",
   "execution_count": 5,
   "id": "e104ee7d",
   "metadata": {},
   "outputs": [],
   "source": [
    "# print(decreasess['Ent SOCIAL_SCALE'].count()/ent6ss['Ent SOCIAL_SCALE'].count() *100)\n",
    "# print(decreaseks['Ent KNOWLEDGE_SCALE'].count()/ent6ks['Ent KNOWLEDGE_SCALE'].count() *100)\n",
    "# print(decreaseaas['Ent APPROPRIATE_ACTION_SCALE'].count()/ent6aas['Ent APPROPRIATE_ACTION_SCALE'].count() *100)"
   ]
  },
  {
   "cell_type": "markdown",
   "id": "e25c54a1",
   "metadata": {},
   "source": [
    "*Children with an entry score of 6: What percentage of children have a decrease in their exit score?*\n",
    "\n",
    "Social Scale: 6% of children with an entry score of 6 showed a decrease compared to the exit score\n",
    "\n",
    "Knowledge Scale: 21% of children with an entry score of 6 showed a decrease compared to the exit score\n",
    "\n",
    "Appropriate Action Scale: 17% of children with an entry score of 6 showed a decrease compared to the exit score"
   ]
  },
  {
   "cell_type": "code",
   "execution_count": 6,
   "id": "b9a8ac19",
   "metadata": {},
   "outputs": [],
   "source": [
    "# print(increasess['Ent SOCIAL_SCALE'].count()/ent6ss['Ent SOCIAL_SCALE'].count() *100)\n",
    "# print(increaseks['Ent KNOWLEDGE_SCALE'].count()/ent6ks['Ent KNOWLEDGE_SCALE'].count() *100)\n",
    "# print(increaseaas['Ent APPROPRIATE_ACTION_SCALE'].count()/ent6aas['Ent APPROPRIATE_ACTION_SCALE'].count() *100)"
   ]
  },
  {
   "cell_type": "markdown",
   "id": "305084df",
   "metadata": {},
   "source": [
    "*Children with an entry score of 6: What percentage of children have an increase in their exit score?*\n",
    "\n",
    "\n",
    "Social Scale: 60% of children with an entry score of 6 showed a increase compared to the exit score\n",
    "\n",
    "Knowledge Scale: 53% of children with an entry score of 6 showed a increase compared to the exit score\n",
    "\n",
    "Appropriate Action Scale: 56% of children with an entry score of 6 showed a increase compared to the exit score"
   ]
  },
  {
   "cell_type": "code",
   "execution_count": 7,
   "id": "9cf7f2fc",
   "metadata": {},
   "outputs": [
    {
     "data": {
      "text/plain": [
       "0.4940047961630695"
      ]
     },
     "execution_count": 7,
     "metadata": {},
     "output_type": "execute_result"
    }
   ],
   "source": [
    "averagesocialchange6 = ent6ss['Exit SOCIAL_SCALE'] - ent6ss['Ent SOCIAL_SCALE']\n",
    "averagesocialchange6.mean()"
   ]
  },
  {
   "cell_type": "markdown",
   "id": "8fbab369",
   "metadata": {},
   "source": [
    "Social Scale: On average children who recieved an entry score of 6 improved by .50 points to a 6.5 score"
   ]
  },
  {
   "cell_type": "code",
   "execution_count": 8,
   "id": "d017694d",
   "metadata": {},
   "outputs": [
    {
     "data": {
      "text/plain": [
       "0.1756440281030445"
      ]
     },
     "execution_count": 8,
     "metadata": {},
     "output_type": "execute_result"
    }
   ],
   "source": [
    "averageknowledgechange6 = ent6ks['Exit KNOWLEDGE_SCALE'] - ent6ks['Ent KNOWLEDGE_SCALE']\n",
    "averageknowledgechange6.mean()"
   ]
  },
  {
   "cell_type": "markdown",
   "id": "6d13b073",
   "metadata": {},
   "source": [
    "Knowledge Scale: On average children who recieved an entry score of 6 improved by .18 points to a 6.18 score"
   ]
  },
  {
   "cell_type": "code",
   "execution_count": 9,
   "id": "8f7448a5",
   "metadata": {},
   "outputs": [
    {
     "data": {
      "text/plain": [
       "0.25997045790251105"
      ]
     },
     "execution_count": 9,
     "metadata": {},
     "output_type": "execute_result"
    }
   ],
   "source": [
    "averageappropriateactionchange6 = ent6aas['Exit APPROPRIATE_ACTION_SCALE'] - ent6aas['Ent APPROPRIATE_ACTION_SCALE']\n",
    "averageappropriateactionchange6.mean()"
   ]
  },
  {
   "cell_type": "markdown",
   "id": "f6864938",
   "metadata": {},
   "source": [
    "Appropriate Action Scale: On average children who recieved an entry score of 6 improved by .26 points to a 6.26 score"
   ]
  },
  {
   "cell_type": "code",
   "execution_count": 10,
   "id": "0847035d",
   "metadata": {},
   "outputs": [],
   "source": [
    "# dataframe showing average program length based on whether social status score increased, decreased or had no change\n",
    "avgprogramlenssin = increasess['Days btw I-IFSP to Exit ECO'].mean()\n",
    "avgprogramlenssde = decreasess['Days btw I-IFSP to Exit ECO'].mean()\n",
    "avgprogramlenssnc = nochangess['Days btw I-IFSP to Exit ECO'].mean()\n",
    "\n",
    "# dataframe showing average program length based on whether knowledge status score increased, decreased or had no change\n",
    "avgprogramlenksin = increaseks['Days btw I-IFSP to Exit ECO'].mean()\n",
    "avgprogramlenksde = decreaseks['Days btw I-IFSP to Exit ECO'].mean()\n",
    "avgprogramlenksnc = nochangeks['Days btw I-IFSP to Exit ECO'].mean()\n",
    "\n",
    "# dataframe showing average program length based on whether acceptable action score increased, decreased or had no change\n",
    "avgprogramlenaasin = increaseaas['Days btw I-IFSP to Exit ECO'].mean()\n",
    "avgprogramlenaasde = decreaseaas['Days btw I-IFSP to Exit ECO'].mean()\n",
    "avgprogramlenaasnc = nochangeaas['Days btw I-IFSP to Exit ECO'].mean()"
   ]
  },
  {
   "cell_type": "code",
   "execution_count": 11,
   "id": "363d3a4d",
   "metadata": {},
   "outputs": [],
   "source": [
    "# print(avgprogramlenssin)\n",
    "# print(avgprogramlenssde)\n",
    "# print(avgprogramlenssnc)"
   ]
  },
  {
   "cell_type": "code",
   "execution_count": 12,
   "id": "c28119b8",
   "metadata": {},
   "outputs": [],
   "source": [
    "# print(avgprogramlenksin)\n",
    "# print(avgprogramlenksde)\n",
    "# print(avgprogramlenksnc)"
   ]
  },
  {
   "cell_type": "code",
   "execution_count": 13,
   "id": "028b7940",
   "metadata": {},
   "outputs": [],
   "source": [
    "# print(avgprogramlenaasin)\n",
    "# print(avgprogramlenaasde)\n",
    "# print(avgprogramlenaasnc)"
   ]
  },
  {
   "cell_type": "markdown",
   "id": "30880329",
   "metadata": {},
   "source": [
    "*Social Scale:*\n",
    "\n",
    "For children who have an entry score of 6 and increased, the average duration in the program is 267 days\n",
    "\n",
    "For children who have an entry score of 6 and decreased, the average duration in the program is 341 days\n",
    "\n",
    "For children who have an entry score of 6 and no change was seen, the average duration in the program is 237 days\n",
    "\n",
    "              \n",
    "*Knowledge Scale:* \n",
    "\n",
    "For children who have an entry score of 6 and increased, the average duration in the program is 371 days\n",
    "\n",
    "For children who have an entry score of 6 and decreased, the average duration in the program is 410 days\n",
    "\n",
    "For children who have an entry score of 6 and no change was seen, the average duration in the program is 292 days\n",
    "              \n",
    "*Appropriate Action Scale:* \n",
    "\n",
    "For children who have an entry score of 6 and increased, the average duration in the program is 273 days\n",
    "\n",
    "For children who have an entry score of 6 and decreased, the average duration in the program is 318 days\n",
    "\n",
    "For children who have an entry score of 6 and no change was seen, the average duration in the program is 250 days"
   ]
  },
  {
   "cell_type": "markdown",
   "id": "57721896",
   "metadata": {},
   "source": [
    "Visual Ideas: \n",
    "\n",
    "Percentage increase by entry score\n",
    "Percentage decrease by entry score\n",
    "Percentage with no change by entry score\n",
    "\n",
    "Time in program by entry score \n",
    "Time in program by inc.,dec.,no change metric\n",
    "\n",
    "Average improvement by entry score\n",
    "Average regression by entry score\n",
    "Average no change by entry score"
   ]
  },
  {
   "cell_type": "code",
   "execution_count": 19,
   "id": "b2208282",
   "metadata": {},
   "outputs": [
    {
     "data": {
      "text/plain": [
       "297.86325439266614"
      ]
     },
     "execution_count": 19,
     "metadata": {},
     "output_type": "execute_result"
    }
   ],
   "source": [
    "a = ecodf[(ecodf['Ent SOCIAL_SCALE'] == 6) | (ecodf['Ent KNOWLEDGE_SCALE'] == 6) | (ecodf['Ent APPROPRIATE_ACTION_SCALE'] == 6)]\n",
    "\n",
    "b = a['Days btw I-IFSP to Exit ECO'].mean()\n",
    "\n",
    "\n",
    "\n",
    "\n",
    "#ecodf[(ecodf['Ent KNOWLEDGE_SCALE'] == 6) & (ecodf['Exit KNOWLEDGE_SCALE'] == 6)]"
   ]
  },
  {
   "cell_type": "code",
   "execution_count": null,
   "id": "a4e6d4a4",
   "metadata": {},
   "outputs": [],
   "source": []
  }
 ],
 "metadata": {
  "kernelspec": {
   "display_name": "Python 3 (ipykernel)",
   "language": "python",
   "name": "python3"
  },
  "language_info": {
   "codemirror_mode": {
    "name": "ipython",
    "version": 3
   },
   "file_extension": ".py",
   "mimetype": "text/x-python",
   "name": "python",
   "nbconvert_exporter": "python",
   "pygments_lexer": "ipython3",
   "version": "3.9.12"
  }
 },
 "nbformat": 4,
 "nbformat_minor": 5
}
