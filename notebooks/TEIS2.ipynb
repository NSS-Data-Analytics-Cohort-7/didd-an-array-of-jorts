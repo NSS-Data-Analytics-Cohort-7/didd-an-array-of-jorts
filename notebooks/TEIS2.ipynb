{
 "cells": [
  {
   "cell_type": "code",
   "execution_count": null,
   "id": "d6e8e16a",
   "metadata": {},
   "outputs": [],
   "source": [
    "import pandas as pd\n",
    "import numpy as np\n",
    "import matplotlib.pyplot as plt\n",
    "import seaborn as sns\n",
    "%matplotlib inline"
   ]
  },
  {
   "cell_type": "code",
   "execution_count": null,
   "id": "02094694",
   "metadata": {},
   "outputs": [],
   "source": [
    "project_data = pd.read_excel('../data/TEIS-NSS Project Data 10-2022.xlsx', \n",
    "                             sheet_name=['ECO with Exit21-22', 'Elig Timeline Rpt 2018-2022'])"
   ]
  },
  {
   "cell_type": "code",
   "execution_count": null,
   "id": "cbf0c728",
   "metadata": {},
   "outputs": [],
   "source": [
    "eco_exit = project_data.get('ECO with Exit21-22')\n",
    "elig_timeline = project_data.get('Elig Timeline Rpt 2018-2022')\n",
    "print(eco_exit)\n",
    "print(elig_timeline)"
   ]
  },
  {
   "cell_type": "code",
   "execution_count": null,
   "id": "a8c24478",
   "metadata": {},
   "outputs": [],
   "source": [
    "for col in eco_exit.columns:\n",
    "    print(col)"
   ]
  },
  {
   "cell_type": "code",
   "execution_count": null,
   "id": "659bfee0",
   "metadata": {},
   "outputs": [],
   "source": [
    "eco_exitent = eco_exit[['DISTRICT', 'CHILD_ID', 'Ent SOCIAL_SCALE', 'Ent KNOWLEDGE_SCALE', 'Ent APPROPRIATE_ACTION_SCALE', 'Exit SOCIAL_SCALE', 'Exit KNOWLEDGE_SCALE','Exit APPROPRIATE_ACTION_SCALE', 'Initial IFSP Date', 'Exit Date', 'Days btw I-IFSP to Exit ECO']]\n",
    "                   "
   ]
  },
  {
   "cell_type": "code",
   "execution_count": null,
   "id": "458cdc6e",
   "metadata": {},
   "outputs": [],
   "source": [
    "eco_exitent.head(5)"
   ]
  },
  {
   "cell_type": "code",
   "execution_count": null,
   "id": "46e9cbab",
   "metadata": {},
   "outputs": [],
   "source": [
    "for col in eco_exitent.columns:\n",
    "    print(col)"
   ]
  },
  {
   "cell_type": "code",
   "execution_count": null,
   "id": "23ed8635",
   "metadata": {},
   "outputs": [],
   "source": [
    "ss = eco_exitent[eco_exitent[\"Ent SOCIAL_SCALE\"]== 5]\n",
    "ks = eco_exitent[eco_exitent[\"Ent KNOWLEDGE_SCALE\"]== 5]\n",
    "aa = eco_exitent[eco_exitent[\"Ent APPROPRIATE_ACTION_SCALE\"]== 5]"
   ]
  },
  {
   "cell_type": "code",
   "execution_count": null,
   "id": "fcf17d50",
   "metadata": {},
   "outputs": [],
   "source": [
    "ss.head(10)"
   ]
  },
  {
   "cell_type": "code",
   "execution_count": null,
   "id": "cfe9b295",
   "metadata": {},
   "outputs": [],
   "source": [
    "ss=  ss[['DISTRICT', 'CHILD_ID', 'Ent SOCIAL_SCALE','Exit SOCIAL_SCALE', 'Days btw I-IFSP to Exit ECO' ]]\n",
    "ks=  ks[['DISTRICT', 'CHILD_ID', 'Ent KNOWLEDGE_SCALE','Exit KNOWLEDGE_SCALE', 'Days btw I-IFSP to Exit ECO']]\n",
    "aa=  aa[['DISTRICT', 'CHILD_ID', 'Ent APPROPRIATE_ACTION_SCALE','Exit APPROPRIATE_ACTION_SCALE', 'Days btw I-IFSP to Exit ECO']]"
   ]
  },
  {
   "cell_type": "code",
   "execution_count": null,
   "id": "308f778b",
   "metadata": {},
   "outputs": [],
   "source": [
    "nochangess = ss[(ss['Ent SOCIAL_SCALE']== 5) & (ss['Exit SOCIAL_SCALE']== 5) & ['Days btw I-IFSP to Exit ECO']]\n",
    "nochangesks = ks[(ks['Ent KNOWLEDGE_SCALE']== 5) & (ks['Exit KNOWLEDGE_SCALE']== 5) & ['Days btw I-IFSP to Exit ECO']]\n",
    "nochangesaa = aa[(aa['Ent APPROPRIATE_ACTION_SCALE']== 5) & (aa['Exit APPROPRIATE_ACTION_SCALE']== 5) & ['Days btw I-IFSP to Exit ECO']]\n",
    "\n",
    "increasess = ss[(ss['Ent SOCIAL_SCALE']== 5) & (ss['Exit SOCIAL_SCALE']> 5)& ['Days btw I-IFSP to Exit ECO']]\n",
    "increaseks = ks[(ks['Ent KNOWLEDGE_SCALE']== 5) & (ks['Exit KNOWLEDGE_SCALE']> 5)& ['Days btw I-IFSP to Exit ECO']]\n",
    "increaseaa = aa[(aa['Ent APPROPRIATE_ACTION_SCALE']== 5) & (aa['Exit APPROPRIATE_ACTION_SCALE']> 5)& ['Days btw I-IFSP to Exit ECO']]\n",
    "\n",
    "decreasess = ss[(ss['Ent SOCIAL_SCALE']== 5) & (ss['Exit SOCIAL_SCALE']< 5)& ['Days btw I-IFSP to Exit ECO']]\n",
    "decreaseks = ks[(ks['Ent KNOWLEDGE_SCALE']== 5) & (ks['Exit KNOWLEDGE_SCALE']< 5)& ['Days btw I-IFSP to Exit ECO']]\n",
    "decreaseaa = aa[(aa['Ent APPROPRIATE_ACTION_SCALE']== 5) & (aa['Exit APPROPRIATE_ACTION_SCALE']< 5)& ['Days btw I-IFSP to Exit ECO']]\n",
    "\n",
    "\n"
   ]
  },
  {
   "cell_type": "code",
   "execution_count": null,
   "id": "7956e2aa",
   "metadata": {},
   "outputs": [],
   "source": [
    "print(increasess)"
   ]
  },
  {
   "cell_type": "markdown",
   "id": "1b1006a2",
   "metadata": {},
   "source": [
    "Kevins code **  count rows then divide. "
   ]
  },
  {
   "cell_type": "code",
   "execution_count": null,
   "id": "67fe1028",
   "metadata": {},
   "outputs": [],
   "source": [
    "print(nochangess['Ent SOCIAL_SCALE'].count()/ss['Exit SOCIAL_SCALE'].count() *100)\n",
    "print(nochangesks['Ent KNOWLEDGE_SCALE'].count()/ks['Exit KNOWLEDGE_SCALE'].count() *100)\n",
    "print(nochangesaa['Ent APPROPRIATE_ACTION_SCALE'].count()/aa['Exit APPROPRIATE_ACTION_SCALE'].count() *100)\n"
   ]
  },
  {
   "cell_type": "code",
   "execution_count": null,
   "id": "bba9a26e",
   "metadata": {},
   "outputs": [],
   "source": [
    "print(increasess['Ent SOCIAL_SCALE'].count()/ss['Exit SOCIAL_SCALE'].count() *100)\n",
    "print(increaseks['Ent KNOWLEDGE_SCALE'].count()/ks['Exit KNOWLEDGE_SCALE'].count() *100)\n",
    "print(increaseaa['Ent APPROPRIATE_ACTION_SCALE'].count()/aa['Exit APPROPRIATE_ACTION_SCALE'].count() *100)\n",
    "\n",
    "print(decreasess['Ent SOCIAL_SCALE'].count()/ss['Exit SOCIAL_SCALE'].count() *100)\n",
    "print(decreaseks['Ent KNOWLEDGE_SCALE'].count()/ks['Exit KNOWLEDGE_SCALE'].count() *100)\n",
    "print(decreaseaa['Ent APPROPRIATE_ACTION_SCALE'].count()/aa['Exit APPROPRIATE_ACTION_SCALE'].count() *100)"
   ]
  },
  {
   "cell_type": "code",
   "execution_count": null,
   "id": "a7f1c31c",
   "metadata": {},
   "outputs": [],
   "source": [
    "nochangess['Days btw I-IFSP to Exit ECO'].median()\n",
    "nochangesks['Days btw I-IFSP to Exit ECO'].median()\n",
    "nochangesaa['Days btw I-IFSP to Exit ECO'].median()\n",
    "\n",
    "increasess['Days btw I-IFSP to Exit ECO'].median()\n",
    "increaseks['Days btw I-IFSP to Exit ECO'].median()\n",
    "increaseaa['Days btw I-IFSP to Exit ECO'].median()\n",
    "\n",
    "decreasess['Days btw I-IFSP to Exit ECO'].median()\n",
    "decreaseks['Days btw I-IFSP to Exit ECO'].median()\n",
    "decreaseaa['Days btw I-IFSP to Exit ECO'].median()\n"
   ]
  },
  {
   "cell_type": "code",
   "execution_count": null,
   "id": "aa060a2a",
   "metadata": {},
   "outputs": [],
   "source": [
    "increasess['Days btw I-IFSP to Exit ECO'].median()"
   ]
  },
  {
   "cell_type": "code",
   "execution_count": null,
   "id": "736e0f58",
   "metadata": {},
   "outputs": [],
   "source": [
    "increaseks['Days btw I-IFSP to Exit ECO'].median()"
   ]
  },
  {
   "cell_type": "code",
   "execution_count": null,
   "id": "e822be2f",
   "metadata": {},
   "outputs": [],
   "source": [
    "increaseaa['Days btw I-IFSP to Exit ECO'].median()"
   ]
  },
  {
   "cell_type": "code",
   "execution_count": null,
   "id": "3bd5a5b5",
   "metadata": {},
   "outputs": [],
   "source": [
    "nochangess['Days btw I-IFSP to Exit ECO'].median()"
   ]
  },
  {
   "cell_type": "code",
   "execution_count": null,
   "id": "d80a5a33",
   "metadata": {},
   "outputs": [],
   "source": [
    "nochangesks['Days btw I-IFSP to Exit ECO'].median()"
   ]
  },
  {
   "cell_type": "code",
   "execution_count": null,
   "id": "1bc58690",
   "metadata": {},
   "outputs": [],
   "source": [
    "nochangesaa['Days btw I-IFSP to Exit ECO'].median()"
   ]
  },
  {
   "cell_type": "code",
   "execution_count": null,
   "id": "395c9d33",
   "metadata": {},
   "outputs": [],
   "source": [
    "decreasess['Days btw I-IFSP to Exit ECO'].median()"
   ]
  },
  {
   "cell_type": "code",
   "execution_count": null,
   "id": "dfa57f17",
   "metadata": {},
   "outputs": [],
   "source": [
    "decreaseks['Days btw I-IFSP to Exit ECO'].median()"
   ]
  },
  {
   "cell_type": "code",
   "execution_count": null,
   "id": "0b97be8c",
   "metadata": {},
   "outputs": [],
   "source": [
    "decreaseaa['Days btw I-IFSP to Exit ECO'].median()"
   ]
  },
  {
   "cell_type": "code",
   "execution_count": null,
   "id": "1d5e4651",
   "metadata": {},
   "outputs": [],
   "source": [
    "Agess = eco_exit[['DISTRICT', 'CHILD_ID', '<Calc> Entrance Age (months)',  'Ent SOCIAL_SCALE', 'Ent KNOWLEDGE_SCALE', 'Ent APPROPRIATE_ACTION_SCALE', 'Exit SOCIAL_SCALE', 'Exit KNOWLEDGE_SCALE','Exit APPROPRIATE_ACTION_SCALE', 'Initial IFSP Date', 'Exit Date', 'Days btw I-IFSP to Exit ECO']]"
   ]
  },
  {
   "cell_type": "code",
   "execution_count": null,
   "id": "bab5fe31",
   "metadata": {},
   "outputs": [],
   "source": [
    "agess = Agess[Agess[\"Ent SOCIAL_SCALE\"]== 5]\n",
    "ageks = Agess[Agess[\"Ent KNOWLEDGE_SCALE\"]== 5]\n",
    "ageaa = Agess[Agess[\"Ent APPROPRIATE_ACTION_SCALE\"]== 5]"
   ]
  },
  {
   "cell_type": "code",
   "execution_count": null,
   "id": "45457b15",
   "metadata": {},
   "outputs": [],
   "source": [
    "#social scale increase df\n",
    "ssin = pd.DataFrame()\n",
    "\n",
    "ssin =pd.DataFrame(columns=[\"entry_score\", \"pct_of_children_improved\", \"time_in_program\"])\n",
    "\n",
    "list1 = [1,2,3,4,5,6]\n",
    "list2 = [57.9,77.2,71.6,75.0,71.14,60.0]\n",
    "list3 = [364,490,357,345,335,194] \n",
    "\n",
    "ssin['entry_score'] = list1\n",
    "ssin['pct_of_children_improved'] = list2\n",
    "ssin['time_in_program'] = list3\n",
    "\n",
    "print(ssin)"
   ]
  },
  {
   "cell_type": "markdown",
   "id": "14e47cc7",
   "metadata": {},
   "source": [
    "6.944444444444445   325    ss\n",
    "29.00763358778626   501    ks\n",
    "22.40802675585284   343    aa"
   ]
  },
  {
   "cell_type": "code",
   "execution_count": null,
   "id": "3ad392d5",
   "metadata": {},
   "outputs": [],
   "source": [
    "#knowledge scale increase df\n",
    "ksin = pd.DataFrame()\n",
    "\n",
    "ksin =pd.DataFrame(columns=[\"entry_score\", \"pct_of_children_improved\", \"time_in_program\"])\n",
    "\n",
    "list1a = [1,2,3,4,5,6]\n",
    "list2a = [52.1,50.5,41.3,52.0,49.2,53.0]\n",
    "list3a = [480,335,336,348,353,338]\n",
    "\n",
    "ksin['entry_score'] = list1a\n",
    "ksin['pct_of_children_improved'] = list2a\n",
    "ksin['time_in_program'] = list3a\n",
    "\n",
    "print(ksin)\n",
    "\n",
    "\n",
    "\n",
    "\n",
    "\n",
    "\n",
    "\n",
    "\n",
    "\n",
    "\n",
    "\n",
    "\n",
    "\n",
    "\n",
    "\n",
    "\n",
    "\n",
    "\n",
    "\n",
    "\n",
    "\n",
    "\n",
    "\n",
    "\n",
    "\n",
    "\n"
   ]
  },
  {
   "cell_type": "code",
   "execution_count": null,
   "id": "ca444d89",
   "metadata": {},
   "outputs": [],
   "source": [
    "#appropriate action scale increase df\n",
    "aasin = pd.DataFrame()\n",
    "\n",
    "aasin =pd.DataFrame(columns=[\"entry_score\", \"pct_of_children_improved\", \"time_in_program\"])\n",
    "\n",
    "list1b = [1,2,3,4,5,6]\n",
    "list2b = [67.6,74.2,66.9,61.0,64.0,56.0]\n",
    "list3b = [693,523,352,342,335,201] # need to update value 3\n",
    "\n",
    "aasin['entry_score'] = list1b\n",
    "aasin['pct_of_children_improved'] = list2b\n",
    "aasin['time_in_program'] = list3b\n",
    "\n",
    "print(aasin)"
   ]
  },
  {
   "cell_type": "code",
   "execution_count": null,
   "id": "498e62ff",
   "metadata": {},
   "outputs": [],
   "source": [
    "#social scale no change df\n",
    "ssnc = pd.DataFrame()\n",
    "\n",
    "ssnc =pd.DataFrame(columns=[\"entry_score\", \"pct_of_children_nochange\", \"time_in_program\"])\n",
    "\n",
    "list1c = [1,2,3,4,5,6,7]\n",
    "list2c = [42.1,14.5,19.8,14.0,21.9,34.0,88.4]\n",
    "list3c = [317,227,183,189,182,182,188]\n",
    "\n",
    "ssnc['entry_score'] = list1c\n",
    "ssnc['pct_of_children_nochange'] = list2c\n",
    "ssnc['time_in_program'] = list3c\n",
    "\n",
    "print(ssnc)\n"
   ]
  },
  {
   "cell_type": "code",
   "execution_count": null,
   "id": "2993fda6",
   "metadata": {},
   "outputs": [],
   "source": [
    "#knowledge scale no change df\n",
    "ksnc = pd.DataFrame()\n",
    "\n",
    "ksnc =pd.DataFrame(columns=[\"entry_score\", \"pct_of_children_nochange\", \"time_in_program\"])\n",
    "\n",
    "list1d = [1,2,3,4,5,6,7]\n",
    "list2d = [47.9,17.5,31.7,18.0,21.8,27.0,85.0]\n",
    "list3d = [196,180,186,234,325,189,186]\n",
    "\n",
    "ksnc['entry_score'] = list1d\n",
    "ksnc['pct_of_children_nochange'] = list2d\n",
    "ksnc['time_in_program'] = list3d\n",
    "\n",
    "print(ksnc)"
   ]
  },
  {
   "cell_type": "code",
   "execution_count": null,
   "id": "754b7f63",
   "metadata": {},
   "outputs": [],
   "source": [
    "#appropriate action scale no change df\n",
    "aasnc = pd.DataFrame()\n",
    "\n",
    "aasnc = pd.DataFrame(columns=[\"entry_score\", \"pct_of_children_nochange\", \"time_in_program\"])\n",
    "\n",
    "list1e = [1,2,3,4,5,6,7]\n",
    "list2e = [32.4,14.4,19.8,22,13.6,27,85.3]\n",
    "list3e = [362,185,203,184,184,183,250]\n",
    "\n",
    "aasnc['entry_score'] = list1e\n",
    "aasnc['pct_of_children_nochange'] = list2e\n",
    "aasnc['time_in_program'] = list3e\n",
    "\n",
    "print(aasnc)"
   ]
  },
  {
   "cell_type": "code",
   "execution_count": null,
   "id": "a7acb261",
   "metadata": {},
   "outputs": [],
   "source": [
    "#social scale decrease df\n",
    "ssde = pd.DataFrame()\n",
    "\n",
    "ssde =pd.DataFrame(columns=[\"entry_score\", \"pct_of_children_decrease\", \"time_in_program\"])\n",
    "\n",
    "list1f = [2,3,4,5,6,7]\n",
    "list2f = [8.4,8.6,11.0,6.9,6.0,11.6] # need to update value 2\n",
    "list3f = [389,352,351,325,319,200] # need to update value 2\n",
    "\n",
    "ssde['entry_score'] = list1f\n",
    "ssde['pct_of_children_decrease'] = list2f\n",
    "ssde['time_in_program'] = list3f\n",
    "\n",
    "print(ssde)"
   ]
  },
  {
   "cell_type": "code",
   "execution_count": null,
   "id": "9e7e4b90",
   "metadata": {},
   "outputs": [],
   "source": [
    "#knowledge scale decrease df\n",
    "ksde = pd.DataFrame()\n",
    "\n",
    "ksde =pd.DataFrame(columns=[\"entry_score\", \"pct_of_children_decrease\", \"time_in_program\"])\n",
    "\n",
    "list1g = [2,3,4,5,6,7]\n",
    "list2g = [32.1,27.0,30.0,29.0,21.0,14.8]\n",
    "list3g = [349,357,364,501,357,350]\n",
    "\n",
    "ksde['entry_score'] = list1g\n",
    "ksde['pct_of_children_decrease'] = list2g\n",
    "ksde['time_in_program'] = list3g\n",
    "\n",
    "print(ksde)"
   ]
  },
  {
   "cell_type": "code",
   "execution_count": null,
   "id": "6975ea1b",
   "metadata": {},
   "outputs": [],
   "source": [
    "#appropriate action scale decrease df\n",
    "aasde = pd.DataFrame()\n",
    "\n",
    "aasde =pd.DataFrame(columns=[\"entry_score\", \"pct_of_children_decrease\", \"time_in_program\"])\n",
    "\n",
    "list1h = [2,3,4,5,6,7]\n",
    "list2h = [11.4,13.3,17.0,22.4,17.0,14.7]\n",
    "list3h = [425,348,337,343,340,349]\n",
    "\n",
    "aasde['entry_score'] = list1h\n",
    "aasde['pct_of_children_decrease'] = list2h\n",
    "aasde['time_in_program'] = list3h\n",
    "\n",
    "print(aasde)"
   ]
  },
  {
   "cell_type": "code",
   "execution_count": null,
   "id": "eb512cb8",
   "metadata": {},
   "outputs": [],
   "source": [
    "ssingraph = ssin.plot(x = 'entry_score',\n",
    "                      y = 'time_in_program',\n",
    "                      title = '*******',\n",
    "                      xlabel = 'Entry Score',\n",
    "                      ylabel = 'Days in Program',\n",
    "                      kind = 'bar',)\n",
    "\n",
    "ssingraph.get_legend ().remove ()\n",
    "\n",
    "\n",
    "ksingraph = ksin.plot(x = 'entry_score',\n",
    "                      y = 'time_in_program',\n",
    "                      title = '******',\n",
    "                      xlabel = 'Entry Score',\n",
    "                      ylabel = 'Days in Program',\n",
    "                      kind = 'bar')\n",
    "\n",
    "ksingraph.get_legend ().remove ()\n",
    "\n",
    "\n",
    "aasingraph = aasin.plot(x = 'entry_score',\n",
    "                        y = 'time_in_program',\n",
    "                        title = '******',\n",
    "                        xlabel = 'Entry Score',\n",
    "                        ylabel = 'Days in Program',\n",
    "                        kind = 'bar')\n",
    "\n",
    "aasingraph.get_legend ().remove ()\n",
    "\n",
    "\n",
    "ssingrapha = ssin.plot(x = 'entry_score',\n",
    "                      y = 'pct_of_children_improved',\n",
    "                      xlabel = 'Entry Score',\n",
    "                      ylabel = 'Children Showing Improvement [%]',\n",
    "                      kind = 'bar')\n",
    "\n",
    "ssingrapha.get_legend ().remove ()\n",
    "\n",
    "\n",
    "ksingrapha = ksin.plot(x = 'entry_score',\n",
    "                      y = 'pct_of_children_improved',\n",
    "                      xlabel = 'Entry Score',\n",
    "                      ylabel = 'Children Showing Improvement [%]',\n",
    "                      kind = 'bar')\n",
    "\n",
    "ksingrapha.get_legend ().remove ()\n",
    "\n",
    "\n",
    "aasingrapha = aasin.plot(x = 'entry_score',\n",
    "                      y = 'pct_of_children_improved',\n",
    "                      xlabel = 'Entry Score',\n",
    "                      ylabel = 'Children Showing Improvement [%]',\n",
    "                      kind = 'bar')\n",
    "\n",
    "aasingrapha.get_legend ().remove ()\n",
    "\n",
    "\n",
    "ssncgraph = ssnc.plot(x = 'entry_score',\n",
    "                      y = 'time_in_program',\n",
    "                      title = '*******',\n",
    "                      xlabel = 'Entry Score',\n",
    "                      ylabel = 'Days in Program',\n",
    "                      kind = 'bar',)\n",
    "\n",
    "ssncgraph.get_legend ().remove ()\n",
    "\n",
    "\n",
    "ksncgraph = ksnc.plot(x = 'entry_score',\n",
    "                      y = 'time_in_program',\n",
    "                      title = '*******',\n",
    "                      xlabel = 'Entry Score',\n",
    "                      ylabel = 'Days in Program',\n",
    "                      kind = 'bar',)\n",
    "\n",
    "\n",
    "ksncgraph.get_legend ().remove ()\n",
    "\n",
    "\n",
    "aasncgraph = aasnc.plot(x = 'entry_score',\n",
    "                      y = 'time_in_program',\n",
    "                      title = '*******',\n",
    "                      xlabel = 'Entry Score',\n",
    "                      ylabel = 'Days in Program',\n",
    "                      kind = 'bar',)\n",
    "\n",
    "aasncgraph.get_legend ().remove ()\n",
    "\n",
    "\n",
    "ssncgrapha = ssnc.plot(x = 'entry_score',\n",
    "                      y = 'pct_of_children_nochange',\n",
    "                      xlabel = 'Entry Score',\n",
    "                      ylabel = 'Children Showing No change  [%]',\n",
    "                      kind = 'bar')\n",
    "\n",
    "ssncgrapha.get_legend ().remove ()\n",
    "\n",
    "\n",
    "ksncgrapha = ksnc.plot(x = 'entry_score',\n",
    "                      y = 'pct_of_children_nochange',\n",
    "                      xlabel = 'Entry Score',\n",
    "                      ylabel = 'Children Showing No change  [%]',\n",
    "                      kind = 'bar')\n",
    "\n",
    "ksncgrapha.get_legend ().remove ()\n",
    "\n",
    "\n",
    "aasncgrapha = aasnc.plot(x = 'entry_score',\n",
    "                      y = 'pct_of_children_nochange',\n",
    "                      xlabel = 'Entry Score',\n",
    "                      ylabel = 'Children Showing No change  [%]',\n",
    "                      kind = 'bar')\n",
    "\n",
    "aasncgrapha.get_legend ().remove ()\n",
    "\n",
    "\n",
    "ssdegraph = ssde.plot(x = 'entry_score',\n",
    "                      y = 'time_in_program',\n",
    "                      title = '*******',\n",
    "                      xlabel = 'Entry Score',\n",
    "                      ylabel = 'Days in Program',\n",
    "                      kind = 'bar',)\n",
    "\n",
    "ssdegraph.get_legend ().remove ()\n",
    "\n",
    "\n",
    "ksdegraph = ksde.plot(x = 'entry_score',\n",
    "                      y = 'time_in_program',\n",
    "                      title = '*******',\n",
    "                      xlabel = 'Entry Score',\n",
    "                      ylabel = 'Days in Program',\n",
    "                      kind = 'bar',)\n",
    "\n",
    "ksdegraph.get_legend ().remove ()\n",
    "\n",
    "\n",
    "aasdegraph = aasde.plot(x = 'entry_score',\n",
    "                      y = 'time_in_program',\n",
    "                      title = '*******',\n",
    "                      xlabel = 'Entry Score',\n",
    "                      ylabel = 'Days in Program',\n",
    "                      kind = 'bar',)\n",
    "\n",
    "aasdegraph.get_legend ().remove ()\n",
    "\n",
    "\n",
    "ssdegrapha = ssde.plot(x = 'entry_score',\n",
    "                      y = 'pct_of_children_decrease',\n",
    "                      xlabel = 'Entry Score',\n",
    "                      ylabel = 'Children Showing No change  [%]',\n",
    "                      kind = 'bar')\n",
    "\n",
    "ssdegrapha.get_legend ().remove ()\n",
    "\n",
    "\n",
    "ksdegrapha = ksde.plot(x = 'entry_score',\n",
    "                      y = 'pct_of_children_decrease',\n",
    "                      xlabel = 'Entry Score',\n",
    "                      ylabel = 'Children Showing No change  [%]',\n",
    "                      kind = 'bar')\n",
    "\n",
    "ksdegrapha.get_legend ().remove ()\n",
    "\n",
    "\n",
    "aasdegrapha = aasde.plot(x = 'entry_score',\n",
    "                      y = 'pct_of_children_decrease',\n",
    "                      xlabel = 'Entry Score',\n",
    "                      ylabel = 'Children Showing No change  [%]',\n",
    "                      kind = 'bar')\n",
    "\n",
    "aasdegrapha.get_legend ().remove ()\n",
    "\n"
   ]
  },
  {
   "cell_type": "code",
   "execution_count": null,
   "id": "1190eea1",
   "metadata": {},
   "outputs": [],
   "source": []
  },
  {
   "cell_type": "code",
   "execution_count": null,
   "id": "ed548454",
   "metadata": {},
   "outputs": [],
   "source": [
    "plt.figure(figsize=(6, 6))\n",
    "\n",
    "corr = ssingraph.corr()\n",
    "\n",
    "# create a custom diverging colormap\n",
    "cmap = sns.diverging_palette(220, 10, as_cmap=True)\n",
    "\n",
    "# Generate a mask for the upper triangle\n",
    "mask = np.zeros_like(corr, dtype=np.bool)\n",
    "mask[np.triu_indices_from(mask)] = True\n",
    "\n",
    "# Draw the heatmap with the mask and correct aspect ratio\n",
    "sns.heatmap(corr, cmap=cmap, mask = mask, center=0,\n",
    "            square=True, linewidths=.5, cbar_kws={\"shrink\": .5});"
   ]
  },
  {
   "cell_type": "markdown",
   "id": "70510aca",
   "metadata": {},
   "source": [
    "You can select a graph below and simply call it to show the results\n",
    "\n",
    "#Graphs for children whos entry scores increased: days in program by entry score\n",
    "ssingraph # social scale\n",
    "ksingraph # knowledge scale\n",
    "aasingraph # appropriate action scale\n",
    "\n",
    "#Graphs for children whos entry scores increased: percent of children with increase by entry score\n",
    "ssingrapha\n",
    "ksingrapha\n",
    "aasingrapha\n",
    "\n",
    "#Graphs for children whos entry scores did not change: days in program by entry score\n",
    "ssncgraph\n",
    "ksncgraph\n",
    "aasncgraph\n",
    "\n",
    "#Graphs for children whos entry scores did not change: percent of children with increase by entry score\n",
    "ssncgrapha\n",
    "ksncgrapha\n",
    "aasncgrapha\n",
    "\n",
    "#Graphs for children whos entry scores decreased: days in program by entry score\n",
    "ssdegraph\n",
    "ksdegraph\n",
    "aasdegraph\n",
    "\n",
    "#Graphs for children whos entry scores decreased: percent of children with increase by entry score\n",
    "ssdegrapha\n",
    "ksdegrapha\n",
    "aasdegrapha"
   ]
  }
 ],
 "metadata": {
  "kernelspec": {
   "display_name": "Python 3 (ipykernel)",
   "language": "python",
   "name": "python3"
  },
  "language_info": {
   "codemirror_mode": {
    "name": "ipython",
    "version": 3
   },
   "file_extension": ".py",
   "mimetype": "text/x-python",
   "name": "python",
   "nbconvert_exporter": "python",
   "pygments_lexer": "ipython3",
   "version": "3.9.12"
  }
 },
 "nbformat": 4,
 "nbformat_minor": 5
}
