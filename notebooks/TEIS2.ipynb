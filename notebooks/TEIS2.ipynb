{
 "cells": [
  {
   "cell_type": "code",
   "execution_count": null,
   "id": "5afb0cda",
   "metadata": {},
   "outputs": [],
   "source": [
    "import pandas as pd\n",
    "import numpy as np\n",
    "import matplotlib.pyplot as plt\n",
    "import seaborn as sns"
   ]
  },
  {
   "cell_type": "code",
   "execution_count": null,
   "id": "683913c9",
   "metadata": {},
   "outputs": [],
   "source": [
    "project_data = pd.read_excel('../data/TEIS-NSS Project Data 10-2022.xlsx', \n",
    "                             sheet_name=['ECO with Exit21-22', 'Elig Timeline Rpt 2018-2022'])"
   ]
  },
  {
   "cell_type": "code",
   "execution_count": null,
   "id": "e3004af7",
   "metadata": {},
   "outputs": [],
   "source": [
    "eco_exit = project_data.get('ECO with Exit21-22')\n",
    "elig_timeline = project_data.get('Elig Timeline Rpt 2018-2022')\n",
    "print(eco_exit)\n",
    "print(elig_timeline)"
   ]
  },
  {
   "cell_type": "code",
   "execution_count": null,
   "id": "a2a08cf2",
   "metadata": {},
   "outputs": [],
   "source": [
    "for col in eco_exit.columns:\n",
    "    print(col)"
   ]
  },
  {
   "cell_type": "code",
   "execution_count": null,
   "id": "cdd61c2b",
   "metadata": {},
   "outputs": [],
   "source": [
    "eco_exitent = eco_exit[['DISTRICT', 'CHILD_ID', 'Ent SOCIAL_SCALE', 'Ent KNOWLEDGE_SCALE', 'Ent APPROPRIATE_ACTION_SCALE', 'Exit SOCIAL_SCALE', 'Exit KNOWLEDGE_SCALE','Exit APPROPRIATE_ACTION_SCALE', 'Initial IFSP Date', 'Exit Date', 'Days btw I-IFSP to Exit ECO']]\n",
    "                   "
   ]
  },
  {
   "cell_type": "code",
   "execution_count": null,
   "id": "0a4e9bcf",
   "metadata": {},
   "outputs": [],
   "source": [
    "eco_exitent.head(5)"
   ]
  },
  {
   "cell_type": "code",
   "execution_count": null,
   "id": "a7b97d51",
   "metadata": {},
   "outputs": [],
   "source": [
    "for col in eco_exitent.columns:\n",
    "    print(col)"
   ]
  },
  {
   "cell_type": "code",
   "execution_count": null,
   "id": "d4d364e3",
   "metadata": {},
   "outputs": [],
   "source": [
    "ss = eco_exitent[eco_exitent[\"Ent SOCIAL_SCALE\"]== 5]\n",
    "ks = eco_exitent[eco_exitent[\"Ent KNOWLEDGE_SCALE\"]== 5]\n",
    "aa = eco_exitent[eco_exitent[\"Ent APPROPRIATE_ACTION_SCALE\"]== 5]"
   ]
  },
  {
   "cell_type": "code",
   "execution_count": null,
   "id": "6b331284",
   "metadata": {},
   "outputs": [],
   "source": [
    "ss.head(10)"
   ]
  },
  {
   "cell_type": "code",
   "execution_count": null,
   "id": "506b2a3b",
   "metadata": {},
   "outputs": [],
   "source": [
    "ss=  ss[['DISTRICT', 'CHILD_ID', 'Ent SOCIAL_SCALE','Exit SOCIAL_SCALE', 'Days btw I-IFSP to Exit ECO' ]]\n",
    "ks=  ks[['DISTRICT', 'CHILD_ID', 'Ent KNOWLEDGE_SCALE','Exit KNOWLEDGE_SCALE', 'Days btw I-IFSP to Exit ECO']]\n",
    "aa=  aa[['DISTRICT', 'CHILD_ID', 'Ent APPROPRIATE_ACTION_SCALE','Exit APPROPRIATE_ACTION_SCALE', 'Days btw I-IFSP to Exit ECO']]"
   ]
  },
  {
   "cell_type": "code",
   "execution_count": null,
   "id": "21bf065f",
   "metadata": {},
   "outputs": [],
   "source": [
    "nochangess = ss[(ss['Ent SOCIAL_SCALE']== 5) & (ss['Exit SOCIAL_SCALE']== 5) & ['Days btw I-IFSP to Exit ECO']]\n",
    "nochangesks = ks[(ks['Ent KNOWLEDGE_SCALE']== 5) & (ks['Exit KNOWLEDGE_SCALE']== 5) & ['Days btw I-IFSP to Exit ECO']]\n",
    "nochangesaa = aa[(aa['Ent APPROPRIATE_ACTION_SCALE']== 5) & (aa['Exit APPROPRIATE_ACTION_SCALE']== 5) & ['Days btw I-IFSP to Exit ECO']]\n",
    "\n",
    "increasess = ss[(ss['Ent SOCIAL_SCALE']== 5) & (ss['Exit SOCIAL_SCALE']> 5)& ['Days btw I-IFSP to Exit ECO']]\n",
    "increaseks = ks[(ks['Ent KNOWLEDGE_SCALE']== 5) & (ks['Exit KNOWLEDGE_SCALE']> 5)& ['Days btw I-IFSP to Exit ECO']]\n",
    "increaseaa = aa[(aa['Ent APPROPRIATE_ACTION_SCALE']== 5) & (aa['Exit APPROPRIATE_ACTION_SCALE']> 5)& ['Days btw I-IFSP to Exit ECO']]\n",
    "\n",
    "decreasess = ss[(ss['Ent SOCIAL_SCALE']== 5) & (ss['Exit SOCIAL_SCALE']< 5)& ['Days btw I-IFSP to Exit ECO']]\n",
    "decreaseks = ks[(ks['Ent KNOWLEDGE_SCALE']== 5) & (ks['Exit KNOWLEDGE_SCALE']< 5)& ['Days btw I-IFSP to Exit ECO']]\n",
    "decreaseaa = aa[(aa['Ent APPROPRIATE_ACTION_SCALE']== 5) & (aa['Exit APPROPRIATE_ACTION_SCALE']< 5)& ['Days btw I-IFSP to Exit ECO']]\n",
    "\n"
   ]
  },
  {
   "cell_type": "code",
   "execution_count": null,
   "id": "7aacf6ac",
   "metadata": {},
   "outputs": [],
   "source": [
    "print(increasess)"
   ]
  },
  {
   "cell_type": "markdown",
   "id": "b1c13fc6",
   "metadata": {},
   "source": [
    "Kevins code **  count rows then divide. "
   ]
  },
  {
   "cell_type": "code",
   "execution_count": null,
   "id": "1bee2598",
   "metadata": {},
   "outputs": [],
   "source": [
    "print(nochangess['Ent SOCIAL_SCALE'].count()/ss['Exit SOCIAL_SCALE'].count() *100)\n",
    "print(nochangesks['Ent KNOWLEDGE_SCALE'].count()/ks['Exit KNOWLEDGE_SCALE'].count() *100)\n",
    "print(nochangesaa['Ent APPROPRIATE_ACTION_SCALE'].count()/aa['Exit APPROPRIATE_ACTION_SCALE'].count() *100)\n"
   ]
  },
  {
   "cell_type": "code",
   "execution_count": null,
   "id": "04ad2938",
   "metadata": {},
   "outputs": [],
   "source": [
    "print(nochangess['Ent SOCIAL_SCALE'].count()/ss['Exit SOCIAL_SCALE'].count() *100)\n",
    "print(nochangesks['Ent KNOWLEDGE_SCALE'].count()/ks['Exit KNOWLEDGE_SCALE'].count() *100)\n",
    "print(nochangesaa['Ent APPROPRIATE_ACTION_SCALE'].count()/aa['Exit APPROPRIATE_ACTION_SCALE'].count() *100)\n",
    "\n",
    "print(increasess['Ent SOCIAL_SCALE'].count()/ss['Exit SOCIAL_SCALE'].count() *100)\n",
    "print(increaseks['Ent KNOWLEDGE_SCALE'].count()/ks['Exit KNOWLEDGE_SCALE'].count() *100)\n",
    "print(increaseaa['Ent APPROPRIATE_ACTION_SCALE'].count()/aa['Exit APPROPRIATE_ACTION_SCALE'].count() *100)\n",
    "\n",
    "print(decreasess['Ent SOCIAL_SCALE'].count()/ss['Exit SOCIAL_SCALE'].count() *100)\n",
    "print(decreaseks['Ent KNOWLEDGE_SCALE'].count()/ks['Exit KNOWLEDGE_SCALE'].count() *100)\n",
    "print(decreaseaa['Ent APPROPRIATE_ACTION_SCALE'].count()/aa['Exit APPROPRIATE_ACTION_SCALE'].count() *100)"
   ]
  },
  {
   "cell_type": "code",
   "execution_count": null,
   "id": "0a224869",
   "metadata": {},
   "outputs": [],
   "source": [
    "nochangess['Days btw I-IFSP to Exit ECO'].median()\n",
    "nochangesks['Days btw I-IFSP to Exit ECO'].median()\n",
    "nochangesaa['Days btw I-IFSP to Exit ECO'].median()\n",
    "\n",
    "increasess['Days btw I-IFSP to Exit ECO'].median()\n",
    "increaseks['Days btw I-IFSP to Exit ECO'].median()\n",
    "increaseaa['Days btw I-IFSP to Exit ECO'].median()\n",
    "\n",
    "decreasess['Days btw I-IFSP to Exit ECO'].median()\n",
    "decreaseks['Days btw I-IFSP to Exit ECO'].median()\n",
    "decreaseaa['Days btw I-IFSP to Exit ECO'].median()\n"
   ]
  },
  {
   "cell_type": "code",
   "execution_count": null,
   "id": "cd2124c5",
   "metadata": {},
   "outputs": [],
   "source": [
    "increasess['Days btw I-IFSP to Exit ECO'].median()"
   ]
  },
  {
   "cell_type": "code",
   "execution_count": null,
   "id": "32d71aa2",
   "metadata": {},
   "outputs": [],
   "source": [
    "increaseks['Days btw I-IFSP to Exit ECO'].median()"
   ]
  },
  {
   "cell_type": "code",
   "execution_count": null,
   "id": "7b27cbe7",
   "metadata": {},
   "outputs": [],
   "source": [
    "increaseaa['Days btw I-IFSP to Exit ECO'].median()"
   ]
  },
  {
   "cell_type": "code",
   "execution_count": null,
   "id": "069caf74",
   "metadata": {},
   "outputs": [],
   "source": [
    "nochangess['Days btw I-IFSP to Exit ECO'].median()"
   ]
  },
  {
   "cell_type": "code",
   "execution_count": null,
   "id": "28be6492",
   "metadata": {},
   "outputs": [],
   "source": [
    "decreasess['Days btw I-IFSP to Exit ECO'].median()"
   ]
  },
  {
   "cell_type": "code",
   "execution_count": null,
   "id": "1580a733",
   "metadata": {},
   "outputs": [],
   "source": []
  },
  {
   "cell_type": "code",
   "execution_count": null,
   "id": "961fd45a",
   "metadata": {},
   "outputs": [],
   "source": []
  }
 ],
 "metadata": {
  "kernelspec": {
   "display_name": "Python 3 (ipykernel)",
   "language": "python",
   "name": "python3"
  },
  "language_info": {
   "codemirror_mode": {
    "name": "ipython",
    "version": 3
   },
   "file_extension": ".py",
   "mimetype": "text/x-python",
   "name": "python",
   "nbconvert_exporter": "python",
   "pygments_lexer": "ipython3",
   "version": "3.9.12"
  }
 },
 "nbformat": 4,
 "nbformat_minor": 5
}
