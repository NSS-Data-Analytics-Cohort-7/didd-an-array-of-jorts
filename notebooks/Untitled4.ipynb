{
 "cells": [
  {
   "cell_type": "code",
   "execution_count": null,
   "id": "249d1a47",
   "metadata": {},
   "outputs": [],
   "source": [
    "#import"
   ]
  },
  {
   "cell_type": "code",
   "execution_count": null,
   "id": "480e10c6",
   "metadata": {},
   "outputs": [],
   "source": [
    "from pandasql import sqldf\n",
    "from sklearn import datasets\n",
    "import pandas as pd\n",
    "import numpy as np\n",
    "import matplotlib.pyplot as plt\n",
    "import seaborn as sns"
   ]
  },
  {
   "cell_type": "code",
   "execution_count": null,
   "id": "223d7280",
   "metadata": {},
   "outputs": [],
   "source": [
    "#data"
   ]
  },
  {
   "cell_type": "code",
   "execution_count": null,
   "id": "dd69d8a0",
   "metadata": {},
   "outputs": [],
   "source": [
    "project_data = pd.read_excel('../data/TEIS-NSS Project Data 10-2022.xlsx', \n",
    "                             sheet_name=['ECO with Exit21-22', 'Elig Timeline Rpt 2018-2022'])\n",
    "\n",
    "eco_exit = project_data.get('ECO with Exit21-22')\n",
    "elig_timeline = project_data.get('Elig Timeline Rpt 2018-2022')\n",
    "print(eco_exit)\n",
    "print(elig_timeline)"
   ]
  },
  {
   "cell_type": "code",
   "execution_count": null,
   "id": "947f4b87",
   "metadata": {},
   "outputs": [],
   "source": [
    "#rename"
   ]
  },
  {
   "cell_type": "code",
   "execution_count": null,
   "id": "54a38eb3",
   "metadata": {},
   "outputs": [],
   "source": [
    "eco_exit = eco_exit.rename(columns={'DISTRICT':'district',\n",
    "                                    'CHILD_ID':'child_id',\n",
    "                                    'ECO_Entry_DATE':'eco_entry_date',\n",
    "                                    'Ent SOCIAL_SCALE':'ent_social',\n",
    "                                    'Ent KNOWLEDGE_SCALE':'ent_knowledge',\n",
    "                                    'Ent APPROPRIATE_ACTION_SCALE':'ent_approp_action',\n",
    "                                    'ECO_Exit_DATE':'eco_exit_date',\n",
    "                                    'Exit SOCIAL_SCALE':'exit_social',\n",
    "                                    'Exit KNOWLEDGE_SCALE':'exit_knowledge',\n",
    "                                    'Exit APPROPRIATE_ACTION_SCALE':'exit_approp_action',\n",
    "                                    'Days btw I-IFSP to Exit ECO' :'DBIexit'})"
   ]
  },
  {
   "cell_type": "code",
   "execution_count": null,
   "id": "4656c890",
   "metadata": {},
   "outputs": [],
   "source": []
  },
  {
   "cell_type": "code",
   "execution_count": null,
   "id": "6f57d275",
   "metadata": {},
   "outputs": [],
   "source": [
    "#ent_social = 3"
   ]
  },
  {
   "cell_type": "code",
   "execution_count": null,
   "id": "44967255",
   "metadata": {},
   "outputs": [],
   "source": [
    "eco_exit_1 = eco_exit[eco_exit['ent_social'] == 3.0]\n",
    "eco_exit_1 = eco_exit"
   ]
  },
  {
   "cell_type": "code",
   "execution_count": null,
   "id": "12d2e514",
   "metadata": {},
   "outputs": [],
   "source": [
    "#eco_exit1 iloc"
   ]
  },
  {
   "cell_type": "code",
   "execution_count": null,
   "id": "a709aa66",
   "metadata": {},
   "outputs": [],
   "source": [
    "eco_exit1 = eco_exit.iloc[[3,4,5,7,8,9]]\n",
    "print(eco_exit_1)"
   ]
  },
  {
   "cell_type": "code",
   "execution_count": null,
   "id": "94b0d46a",
   "metadata": {},
   "outputs": [],
   "source": []
  },
  {
   "cell_type": "code",
   "execution_count": null,
   "id": "1fd44450",
   "metadata": {},
   "outputs": [],
   "source": [
    "#eco_exit2"
   ]
  },
  {
   "cell_type": "code",
   "execution_count": null,
   "id": "e9c7f7ef",
   "metadata": {},
   "outputs": [],
   "source": [
    "eco_exit_2 = eco_exit[eco_exit['ent_social'] == 3.0]\n",
    "eco_exit_2"
   ]
  },
  {
   "cell_type": "code",
   "execution_count": null,
   "id": "51a2ca99",
   "metadata": {
    "scrolled": true
   },
   "outputs": [],
   "source": [
    "eco_exit_3 = eco_exit[eco_exit['ent_knowledge'] ==3.0]\n",
    "eco_exit_3"
   ]
  },
  {
   "cell_type": "code",
   "execution_count": null,
   "id": "f2324abf",
   "metadata": {},
   "outputs": [],
   "source": [
    "eco_exit_4 = eco_exit[eco_exit['ent_approp_action'] ==3.0]\n",
    "eco_exit_4"
   ]
  },
  {
   "cell_type": "code",
   "execution_count": null,
   "id": "99b7896f",
   "metadata": {},
   "outputs": [],
   "source": [
    "#eco_exit_social"
   ]
  },
  {
   "cell_type": "code",
   "execution_count": null,
   "id": "f310a212",
   "metadata": {},
   "outputs": [],
   "source": [
    "eco_exit_social = eco_exit_2[eco_exit_2['exit_social'] > 3.0]\n",
    "eco_exit_social\n"
   ]
  },
  {
   "cell_type": "code",
   "execution_count": null,
   "id": "ba0a0f8c",
   "metadata": {},
   "outputs": [],
   "source": [
    "#social_exit = 3"
   ]
  },
  {
   "cell_type": "code",
   "execution_count": null,
   "id": "c7a1724e",
   "metadata": {
    "scrolled": true
   },
   "outputs": [],
   "source": [
    "social_exit_nochange = eco_exit_2[eco_exit_2['exit_social'] == 3.0]\n",
    "social_exit_nochange\n"
   ]
  },
  {
   "cell_type": "code",
   "execution_count": null,
   "id": "9c5a6983",
   "metadata": {},
   "outputs": [],
   "source": [
    "#Social_decrease"
   ]
  },
  {
   "cell_type": "code",
   "execution_count": null,
   "id": "d0a7b383",
   "metadata": {},
   "outputs": [],
   "source": [
    "social_exit_decrease = eco_exit_2[eco_exit_2['exit_social'] < 3.0]\n",
    "social_exit_decrease"
   ]
  },
  {
   "cell_type": "markdown",
   "id": "80548930",
   "metadata": {},
   "source": [
    "## eco_exit_knowledge"
   ]
  },
  {
   "cell_type": "code",
   "execution_count": null,
   "id": "13d13486",
   "metadata": {},
   "outputs": [],
   "source": [
    "eco_exit_knowledge = eco_exit_3[eco_exit_3['exit_knowledge'] >  3.0]\n",
    "eco_exit_knowledge"
   ]
  },
  {
   "cell_type": "code",
   "execution_count": null,
   "id": "a0926cc1",
   "metadata": {},
   "outputs": [],
   "source": [
    "#knowledge exit = 3"
   ]
  },
  {
   "cell_type": "code",
   "execution_count": null,
   "id": "72c40677",
   "metadata": {
    "scrolled": true
   },
   "outputs": [],
   "source": [
    "knowledge_exit_3 = eco_exit_3[eco_exit_3['exit_knowledge'] == 3.0]\n",
    "knowledge_exit_3"
   ]
  },
  {
   "cell_type": "code",
   "execution_count": null,
   "id": "ea456597",
   "metadata": {},
   "outputs": [],
   "source": [
    "#knowledge exit decrease"
   ]
  },
  {
   "cell_type": "code",
   "execution_count": null,
   "id": "b160a073",
   "metadata": {},
   "outputs": [],
   "source": [
    "knowledge_exit_decrease = eco_exit_3[eco_exit_3['exit_knowledge'] < 3.0]\n",
    "knowledge_exit_decrease"
   ]
  },
  {
   "cell_type": "code",
   "execution_count": null,
   "id": "e0b63c0a",
   "metadata": {},
   "outputs": [],
   "source": [
    "#eco_exit_approp"
   ]
  },
  {
   "cell_type": "code",
   "execution_count": null,
   "id": "85f1a165",
   "metadata": {},
   "outputs": [],
   "source": [
    "eco_exit_approp = eco_exit_4[eco_exit_4['exit_approp_action'] > 3.0]\n",
    "eco_exit_approp"
   ]
  },
  {
   "cell_type": "code",
   "execution_count": null,
   "id": "27890e35",
   "metadata": {},
   "outputs": [],
   "source": [
    "#exit_approp = 3"
   ]
  },
  {
   "cell_type": "code",
   "execution_count": null,
   "id": "100d62a1",
   "metadata": {
    "scrolled": true
   },
   "outputs": [],
   "source": [
    "approp_exit_nochange = eco_exit_4[eco_exit_4['exit_approp_action'] == 3.0]\n",
    "approp_exit_nochange"
   ]
  },
  {
   "cell_type": "code",
   "execution_count": null,
   "id": "5db9b8db",
   "metadata": {},
   "outputs": [],
   "source": [
    "#exit approp decrease"
   ]
  },
  {
   "cell_type": "code",
   "execution_count": null,
   "id": "9f93c6f5",
   "metadata": {},
   "outputs": [],
   "source": [
    "approp_exit_decrease = eco_exit_4[eco_exit_4['exit_approp_action'] < 3.0]\n",
    "approp_exit_decrease"
   ]
  },
  {
   "cell_type": "code",
   "execution_count": null,
   "id": "47fbf656",
   "metadata": {},
   "outputs": [],
   "source": [
    "# SQL AVG improvemnt social"
   ]
  },
  {
   "cell_type": "code",
   "execution_count": null,
   "id": "8f964094",
   "metadata": {},
   "outputs": [],
   "source": [
    "sql2= 'SELECT AVG(exit_social - ent_social) as avg FROM eco_exit_2 WHERE ent_social = 3'\n",
    "sqldf(sql2, globals())"
   ]
  },
  {
   "cell_type": "code",
   "execution_count": null,
   "id": "30468219",
   "metadata": {},
   "outputs": [],
   "source": [
    "# SQL AVG improvement knowledge"
   ]
  },
  {
   "cell_type": "code",
   "execution_count": null,
   "id": "0860ac5a",
   "metadata": {},
   "outputs": [],
   "source": [
    "sql2= 'SELECT AVG(exit_knowledge - ent_knowledge) as knowledge_increase FROM eco_exit_2 WHERE ent_social = 3'\n",
    "sqldf(sql2, globals())"
   ]
  },
  {
   "cell_type": "code",
   "execution_count": null,
   "id": "49974935",
   "metadata": {},
   "outputs": [],
   "source": [
    "#SQL AVG improvement approp_action"
   ]
  },
  {
   "cell_type": "code",
   "execution_count": null,
   "id": "0bebd542",
   "metadata": {},
   "outputs": [],
   "source": [
    "sql2= 'SELECT AVG(exit_approp_action - ent_approp_action) as approp_action_increase FROM eco_exit_2 WHERE ent_social = 3'\n",
    "sqldf(sql2, globals())"
   ]
  },
  {
   "cell_type": "code",
   "execution_count": null,
   "id": "ea8bc357",
   "metadata": {},
   "outputs": [],
   "source": [
    "#python count social"
   ]
  },
  {
   "cell_type": "code",
   "execution_count": null,
   "id": "0436cf64",
   "metadata": {},
   "outputs": [],
   "source": [
    "social=(eco_exit_2['exit_social'].mean()- eco_exit_2['ent_social'].mean())\n",
    "print(social)"
   ]
  },
  {
   "cell_type": "code",
   "execution_count": null,
   "id": "f6e2ce28",
   "metadata": {},
   "outputs": [],
   "source": [
    "# python AVG improvement knowledge"
   ]
  },
  {
   "cell_type": "code",
   "execution_count": null,
   "id": "748beb46",
   "metadata": {},
   "outputs": [],
   "source": [
    "knowledge=(eco_exit_2['exit_knowledge'].mean()- eco_exit_2['ent_knowledge'])\n",
    "knowledge.mean()"
   ]
  },
  {
   "cell_type": "code",
   "execution_count": null,
   "id": "995f93d7",
   "metadata": {},
   "outputs": [],
   "source": [
    "# python AVG improvement approp_action"
   ]
  },
  {
   "cell_type": "code",
   "execution_count": null,
   "id": "9389fe2e",
   "metadata": {},
   "outputs": [],
   "source": [
    "knowledge=(eco_exit_2['exit_approp_action'].mean()- eco_exit_2['ent_approp_action'])\n",
    "knowledge.mean()"
   ]
  },
  {
   "cell_type": "code",
   "execution_count": null,
   "id": "d06129b7",
   "metadata": {},
   "outputs": [],
   "source": [
    "#percent change social SQL"
   ]
  },
  {
   "cell_type": "code",
   "execution_count": null,
   "id": "bf3ce4d0",
   "metadata": {},
   "outputs": [],
   "source": [
    "avg_sql_1 = 'SELECT ((SUM(exit_social)-SUM(ent_social))/ SUM(ent_social))*100 as perc_change FROM eco_exit_2 WHERE ent_social =3'\n",
    "sqldf(avg_sql_1, globals())"
   ]
  },
  {
   "cell_type": "code",
   "execution_count": null,
   "id": "3feae008",
   "metadata": {},
   "outputs": [],
   "source": [
    "avg_sql_1 = 'SELECT ((SUM(exit_social)-SUM(ent_social))/ SUM(ent_social))*100 as perc_change FROM eco_exit_2 WHERE exit_social =3'\n",
    "sqldf(avg_sql_1, globals())"
   ]
  },
  {
   "cell_type": "code",
   "execution_count": null,
   "id": "6e57647c",
   "metadata": {},
   "outputs": [],
   "source": [
    "#percent change knowledge SQL"
   ]
  },
  {
   "cell_type": "code",
   "execution_count": null,
   "id": "bf00fe3a",
   "metadata": {},
   "outputs": [],
   "source": [
    "avg_sql_2 = 'SELECT (((SUM(exit_knowledge)-SUM(ent_knowledge))/ SUM(ent_knowledge))*100) as perc_change FROM eco_exit_knowledge WHERE ent_knowledge =3'\n",
    "sqldf(avg_sql_2, globals())"
   ]
  },
  {
   "cell_type": "code",
   "execution_count": null,
   "id": "2af95db6",
   "metadata": {},
   "outputs": [],
   "source": [
    "#percent change approp SQL"
   ]
  },
  {
   "cell_type": "code",
   "execution_count": null,
   "id": "449d9c67",
   "metadata": {},
   "outputs": [],
   "source": [
    "avg_sql_1 = 'SELECT (((SUM(exit_approp_action)-SUM(ent_approp_action))/ SUM(ent_approp_action))*100) as perc_change FROM eco_exit_approp WHERE ent_approp_action =3'\n",
    "sqldf(avg_sql_1, globals())"
   ]
  },
  {
   "cell_type": "markdown",
   "id": "bb68a86d",
   "metadata": {},
   "source": [
    "# social"
   ]
  },
  {
   "cell_type": "code",
   "execution_count": null,
   "id": "3a1fc8f9",
   "metadata": {},
   "outputs": [],
   "source": [
    "#perent change social python"
   ]
  },
  {
   "cell_type": "code",
   "execution_count": null,
   "id": "a13c0aa3",
   "metadata": {},
   "outputs": [],
   "source": [
    "social_python = ((eco_exit_social['exit_social'].count()/ eco_exit_2['ent_social'].count())*100)\n",
    "print(social_python)"
   ]
  },
  {
   "cell_type": "code",
   "execution_count": null,
   "id": "021000f8",
   "metadata": {},
   "outputs": [],
   "source": [
    "# no percent change"
   ]
  },
  {
   "cell_type": "code",
   "execution_count": null,
   "id": "eb252f9b",
   "metadata": {},
   "outputs": [],
   "source": [
    "social_nochange_python = ((social_exit_nochange['exit_social'].count()/ eco_exit_2['ent_social'].count())*100)\n",
    "print(social_nochange_python)"
   ]
  },
  {
   "cell_type": "code",
   "execution_count": null,
   "id": "41399619",
   "metadata": {},
   "outputs": [],
   "source": [
    "# percent decrease"
   ]
  },
  {
   "cell_type": "code",
   "execution_count": null,
   "id": "34a39992",
   "metadata": {},
   "outputs": [],
   "source": [
    "decrease_social_python =((social_exit_decrease['exit_social'].count()/ eco_exit_2['ent_social'].count())*100)\n",
    "print(decrease_social_python)"
   ]
  },
  {
   "cell_type": "markdown",
   "id": "9d2e8c08",
   "metadata": {},
   "source": [
    "# knowledge"
   ]
  },
  {
   "cell_type": "code",
   "execution_count": null,
   "id": "3af40deb",
   "metadata": {},
   "outputs": [],
   "source": [
    "#percent change knowledge python"
   ]
  },
  {
   "cell_type": "code",
   "execution_count": null,
   "id": "9ce614f5",
   "metadata": {},
   "outputs": [],
   "source": [
    "knowledge_python = ((eco_exit_knowledge['exit_knowledge'].count()/ eco_exit_3['ent_knowledge'].count())*100)\n",
    "print(knowledge_python)"
   ]
  },
  {
   "cell_type": "code",
   "execution_count": null,
   "id": "49dd9085",
   "metadata": {},
   "outputs": [],
   "source": [
    "#knowledge no change"
   ]
  },
  {
   "cell_type": "code",
   "execution_count": null,
   "id": "c4417431",
   "metadata": {},
   "outputs": [],
   "source": [
    "knowledge_nochange_python = ((knowledge_exit_3['exit_knowledge'].count()/ eco_exit_3['ent_knowledge'].count())*100)\n",
    "print(knowledge_nochange_python)"
   ]
  },
  {
   "cell_type": "code",
   "execution_count": null,
   "id": "95204618",
   "metadata": {},
   "outputs": [],
   "source": [
    "#knowledge decrease"
   ]
  },
  {
   "cell_type": "code",
   "execution_count": null,
   "id": "8dd6f421",
   "metadata": {},
   "outputs": [],
   "source": [
    "decrease_knowledge_python =((knowledge_exit_decrease['exit_knowledge'].count\n",
    "                         ()/ eco_exit_3['ent_knowledge'].count())*100)\n",
    "print(decrease_knowledge_python)"
   ]
  },
  {
   "cell_type": "markdown",
   "id": "eee0ae49",
   "metadata": {},
   "source": [
    "# approp"
   ]
  },
  {
   "cell_type": "code",
   "execution_count": null,
   "id": "6c539d84",
   "metadata": {},
   "outputs": [],
   "source": [
    "#percent change approp python"
   ]
  },
  {
   "cell_type": "code",
   "execution_count": null,
   "id": "ede0d45d",
   "metadata": {},
   "outputs": [],
   "source": [
    "approp_python = ((eco_exit_approp['exit_approp_action'].count()/ eco_exit_4['ent_approp_action'].count())*100)\n",
    "print(approp_python)"
   ]
  },
  {
   "cell_type": "code",
   "execution_count": null,
   "id": "2b279275",
   "metadata": {},
   "outputs": [],
   "source": [
    "#percent no change"
   ]
  },
  {
   "cell_type": "code",
   "execution_count": null,
   "id": "49c5b557",
   "metadata": {},
   "outputs": [],
   "source": [
    "approp_nochange_python= ((approp_exit_nochange['exit_approp_action'].count()/ eco_exit_4['ent_approp_action'].count())*100)\n",
    "print(approp_nochange_python)"
   ]
  },
  {
   "cell_type": "code",
   "execution_count": null,
   "id": "16abd52c",
   "metadata": {},
   "outputs": [],
   "source": [
    "# percent decerease"
   ]
  },
  {
   "cell_type": "code",
   "execution_count": null,
   "id": "c09925ce",
   "metadata": {},
   "outputs": [],
   "source": [
    "approp_decrease_python= ((approp_exit_decrease['exit_approp_action'].count()/ eco_exit_4['ent_approp_action'].count())*100)\n",
    "print(approp_decrease_python)"
   ]
  },
  {
   "cell_type": "code",
   "execution_count": null,
   "id": "a4def4d4",
   "metadata": {},
   "outputs": [],
   "source": [
    "social_days = eco_exit_social['DBIexit'].median()\n",
    "print(social_days)"
   ]
  },
  {
   "cell_type": "code",
   "execution_count": null,
   "id": "e5127cb8",
   "metadata": {},
   "outputs": [],
   "source": [
    "knowledge_days = eco_exit_knowledge['DBIexit'].median()\n",
    "print(knowledge_days)"
   ]
  },
  {
   "cell_type": "code",
   "execution_count": null,
   "id": "650f69f5",
   "metadata": {},
   "outputs": [],
   "source": [
    "approp_days = eco_exit_approp['DBIexit'].median()\n",
    "print(approp_days)"
   ]
  },
  {
   "cell_type": "code",
   "execution_count": null,
   "id": "800590d2",
   "metadata": {},
   "outputs": [],
   "source": [
    "#total increase"
   ]
  },
  {
   "cell_type": "code",
   "execution_count": null,
   "id": "4cf8dec0",
   "metadata": {},
   "outputs": [],
   "source": [
    "total_increase = (social_python + knowledge_python + approp_python)/3\n",
    "print(total_increase)"
   ]
  },
  {
   "cell_type": "code",
   "execution_count": null,
   "id": "be4f9381",
   "metadata": {},
   "outputs": [],
   "source": [
    "lst = [3, social_python, social_nochange_python, decrease_social_python, knowledge_python, knowledge_nochange_python, decrease_knowledge_python, approp_python, approp_nochange_python, approp_decrease_python, social_days, knowledge_days, approp_days, total_increase]\n",
    "df= pd.DataFrame(lst, index=['3', 'social_increase%', 'social_nochange%',  'social_decrease%' , 'knowledge_increase%', 'knowledge_nochange%', 'knowledge_decrease%', 'approp_action_increase%', 'approp_action_nochange%', 'approp_action_decrease%', 'social_days', 'knowledge_days', 'approp_action_days', 'total_increase%'])\n",
    "print(df)"
   ]
  },
  {
   "cell_type": "code",
   "execution_count": null,
   "id": "4cddbbcf",
   "metadata": {},
   "outputs": [],
   "source": [
    "lst2 = [social_days, knowledge_days, approp_days]\n",
    "df2= pd.DataFrame(lst2, index=['social_days', 'knowledge_days', 'approp_action_days'])\n",
    "print(df2)"
   ]
  },
  {
   "cell_type": "code",
   "execution_count": null,
   "id": "1175f0f9",
   "metadata": {},
   "outputs": [],
   "source": [
    "#kevin code"
   ]
  },
  {
   "cell_type": "markdown",
   "id": "4376b655",
   "metadata": {},
   "source": [
    "# PERCENT INCREASE"
   ]
  },
  {
   "cell_type": "code",
   "execution_count": null,
   "id": "72cf2db8",
   "metadata": {},
   "outputs": [],
   "source": [
    "#social scale increase df"
   ]
  },
  {
   "cell_type": "code",
   "execution_count": null,
   "id": "45c8d077",
   "metadata": {},
   "outputs": [],
   "source": [
    "ssin = pd.DataFrame()\n",
    "\n",
    "ssin =pd.DataFrame(columns=[\"entry_score\", \"pct_of_children_improved\", \"time_in_program\"])\n",
    "\n",
    "list1 = [1,2,3,4,5,6]\n",
    "list2 = [57.9,77.2,71.6,75.0,71.14,60.0]\n",
    "list3 = [364,490,357,345,335,194] \n",
    "\n",
    "ssin['entry_score'] = list1\n",
    "ssin['pct_of_children_improved'] = list2\n",
    "ssin['time_in_program'] = list3\n",
    "\n",
    "print(ssin)"
   ]
  },
  {
   "cell_type": "code",
   "execution_count": null,
   "id": "15168d91",
   "metadata": {},
   "outputs": [],
   "source": [
    "#knowledge scale increase df"
   ]
  },
  {
   "cell_type": "code",
   "execution_count": null,
   "id": "898e0ae5",
   "metadata": {},
   "outputs": [],
   "source": [
    "ksin = pd.DataFrame()\n",
    "\n",
    "ksin =pd.DataFrame(columns=[\"entry_score\", \"pct_of_children_improved\", \"time_in_program\"])\n",
    "\n",
    "list1a = [1,2,3,4,5,6]\n",
    "list2a = [52.1,50.5,41.3,52.0,49.2,53.0]\n",
    "list3a = [480,335,336,348,353,338]\n",
    "\n",
    "ksin['entry_score'] = list1a\n",
    "ksin['pct_of_children_improved'] = list2a\n",
    "ksin['time_in_program'] = list3a\n",
    "\n",
    "print(ksin)"
   ]
  },
  {
   "cell_type": "code",
   "execution_count": null,
   "id": "c47e38a4",
   "metadata": {},
   "outputs": [],
   "source": [
    "#appropriate action scale increase df"
   ]
  },
  {
   "cell_type": "code",
   "execution_count": null,
   "id": "561f3c90",
   "metadata": {},
   "outputs": [],
   "source": [
    "aasin = pd.DataFrame()\n",
    "\n",
    "aasin =pd.DataFrame(columns=[\"entry_score\", \"pct_of_children_improved\", \"time_in_program\"])\n",
    "\n",
    "list1b = [1,2,3,4,5,6]\n",
    "list2b = [67.6,74.2,66.9,61.0,64.0,56.0]\n",
    "list3b = [693,523,352,342,335,201] # need to update value 3\n",
    "\n",
    "aasin['entry_score'] = list1b\n",
    "aasin['pct_of_children_improved'] = list2b\n",
    "aasin['time_in_program'] = list3b\n",
    "\n",
    "print(aasin)"
   ]
  },
  {
   "cell_type": "markdown",
   "id": "51808d85",
   "metadata": {},
   "source": [
    "# NO CHANGE"
   ]
  },
  {
   "cell_type": "code",
   "execution_count": null,
   "id": "cc4cd7ea",
   "metadata": {},
   "outputs": [],
   "source": [
    "#social scale no change df"
   ]
  },
  {
   "cell_type": "code",
   "execution_count": null,
   "id": "f5a0d181",
   "metadata": {},
   "outputs": [],
   "source": [
    "ssnc = pd.DataFrame()\n",
    "\n",
    "ssnc =pd.DataFrame(columns=[\"entry_score\", \"pct_of_children_nochange\", \"time_in_program\"])\n",
    "\n",
    "list1c = [1,2,3,4,5,6,7]\n",
    "list2c = [42.1,14.5,19.8,14.0,21.9,34.0,88.4]\n",
    "list3c = [317,227,183,189,182,182,188]\n",
    "\n",
    "ssnc['entry_score'] = list1c\n",
    "ssnc['pct_of_children_nochange'] = list2c\n",
    "ssnc['time_in_program'] = list3c\n",
    "\n",
    "print(ssnc)"
   ]
  },
  {
   "cell_type": "code",
   "execution_count": null,
   "id": "81f2a7e4",
   "metadata": {},
   "outputs": [],
   "source": [
    "#knowledge scale no change df"
   ]
  },
  {
   "cell_type": "code",
   "execution_count": null,
   "id": "40baa096",
   "metadata": {},
   "outputs": [],
   "source": [
    "ksnc = pd.DataFrame()\n",
    "\n",
    "ksnc = pd.DataFrame(columns=[\"entry_score\", \"pct_of_children_nochange\", \"time_in_program\"])\n",
    "\n",
    "list1d = [1,2,3,4,5,6,7]\n",
    "list2d = [47.9,17.5,31.7,18.0,21.8,27.0,85.0]\n",
    "list3d = [196,180,186,234,325,189,186]\n",
    "\n",
    "ksnc['entry_score'] = list1d\n",
    "ksnc['pct_of_children_nochange'] = list2d\n",
    "ksnc['time_in_program'] = list3d\n",
    "\n",
    "print(ksnc)"
   ]
  },
  {
   "cell_type": "code",
   "execution_count": null,
   "id": "8ba4e676",
   "metadata": {},
   "outputs": [],
   "source": [
    "#appropriate action scale no change df"
   ]
  },
  {
   "cell_type": "code",
   "execution_count": null,
   "id": "8e060878",
   "metadata": {},
   "outputs": [],
   "source": [
    "aasnc = pd.DataFrame()\n",
    "\n",
    "aasnc = pd.DataFrame(columns=[\"entry_score\", \"pct_of_children_nochange\", \"time_in_program\"])\n",
    "\n",
    "list1e = [1,2,3,4,5,6,7]\n",
    "list2e = [32.4,14.4,19.8,22,13.6,27,85.3]\n",
    "list3e = [362,185,203,184,184,183,250]\n",
    "\n",
    "aasnc['entry_score'] = list1e\n",
    "aasnc['pct_of_children_nochange'] = list2e\n",
    "aasnc['time_in_program'] = list3e\n",
    "\n",
    "print(aasnc)"
   ]
  },
  {
   "cell_type": "markdown",
   "id": "66588089",
   "metadata": {},
   "source": [
    "# % SOCIAL DECREASE"
   ]
  },
  {
   "cell_type": "code",
   "execution_count": null,
   "id": "3354db65",
   "metadata": {},
   "outputs": [],
   "source": [
    "#social scale decrease df"
   ]
  },
  {
   "cell_type": "code",
   "execution_count": null,
   "id": "077d6aff",
   "metadata": {},
   "outputs": [],
   "source": [
    "ssde = pd.DataFrame()\n",
    "\n",
    "ssde =pd.DataFrame(columns=[\"entry_score\", \"pct_of_children_decrease\", \"time_in_program\"])\n",
    "\n",
    "list1f = [2,3,4,5,6,7]\n",
    "list2f = [8.4,8.6,11.0,6.9,6.0,11.6] # need to update value 2\n",
    "list3f = [389,352,351,325,319,200] # need to update value 2\n",
    "\n",
    "ssde['entry_score'] = list1f\n",
    "ssde['pct_of_children_decrease'] = list2f\n",
    "ssde['time_in_program'] = list3f\n",
    "print(ssde)"
   ]
  },
  {
   "cell_type": "code",
   "execution_count": null,
   "id": "e60f3b8a",
   "metadata": {},
   "outputs": [],
   "source": [
    "#knowledge scale decrease df"
   ]
  },
  {
   "cell_type": "code",
   "execution_count": null,
   "id": "18522a00",
   "metadata": {},
   "outputs": [],
   "source": [
    "ksde = pd.DataFrame()\n",
    "\n",
    "ksde =pd.DataFrame(columns=[\"entry_score\", \"pct_of_children_decrease\", \"time_in_program\"])\n",
    "\n",
    "list1g = [2,3,4,5,6,7]\n",
    "list2g = [32.1,27.0,30.0,29.0,21.0,14.8]\n",
    "list3g = [349,357,364,501,357,350]\n",
    "\n",
    "ksde['entry_score'] = list1g\n",
    "ksde['pct_of_children_decrease'] = list2g\n",
    "ksde['time_in_program'] = list3g\n",
    "\n",
    "print(ksde)"
   ]
  },
  {
   "cell_type": "code",
   "execution_count": null,
   "id": "c28f226b",
   "metadata": {},
   "outputs": [],
   "source": [
    "#appropriate action scale decrease df"
   ]
  },
  {
   "cell_type": "code",
   "execution_count": null,
   "id": "6029b13b",
   "metadata": {},
   "outputs": [],
   "source": [
    "aasde = pd.DataFrame()\n",
    "\n",
    "aasde =pd.DataFrame(columns=[\"entry_score\", \"pct_of_children_decrease\", \"time_in_program\"])\n",
    "\n",
    "list1h = [2,3,4,5,6,7]\n",
    "list2h = [11.4,13.3,17.0,22.4,17.0,14.7]\n",
    "list3h = [425,348,337,343,340,349]\n",
    "\n",
    "aasde['entry_score'] = list1h\n",
    "aasde['pct_of_children_decrease'] = list2h\n",
    "aasde['time_in_program'] = list3h\n",
    "\n",
    "print(aasde)"
   ]
  },
  {
   "cell_type": "code",
   "execution_count": null,
   "id": "7af9f0f5",
   "metadata": {},
   "outputs": [],
   "source": [
    "# social increase days graph"
   ]
  },
  {
   "cell_type": "code",
   "execution_count": null,
   "id": "ab82d695",
   "metadata": {},
   "outputs": [],
   "source": [
    "ssingraph = ssin.plot(figsize=(10,6),\n",
    "                      x = 'entry_score',\n",
    "                      y = 'time_in_program',\n",
    "                      title = 'Social Inc Days',\n",
    "                      xlabel = 'Entry Score',\n",
    "                      ylabel = 'Days in Program',\n",
    "                      kind = 'bar',\n",
    "                      color = 'darkblue',\n",
    "                      edgecolor = 'black',\n",
    "                      alpha = 0.8)\n",
    "\n",
    "ssingraph.get_legend ().remove ()"
   ]
  },
  {
   "cell_type": "code",
   "execution_count": null,
   "id": "5f4b30b1",
   "metadata": {},
   "outputs": [],
   "source": [
    "# knowledge inc days graph"
   ]
  },
  {
   "cell_type": "code",
   "execution_count": null,
   "id": "8030a1bb",
   "metadata": {},
   "outputs": [],
   "source": [
    "ksingraph = ksin.plot(figsize=(10,6),\n",
    "                      x = 'entry_score',\n",
    "                      y = 'time_in_program',\n",
    "                      title = 'Knowledge Inc Days',\n",
    "                      xlabel = 'Entry Score',\n",
    "                      ylabel = 'Days in Program',\n",
    "                      color = 'darkblue',\n",
    "                      edgecolor = 'black',\n",
    "                      kind = 'bar')\n",
    "\n",
    "ksingraph.get_legend ().remove ()"
   ]
  },
  {
   "cell_type": "code",
   "execution_count": null,
   "id": "cdb079dc",
   "metadata": {},
   "outputs": [],
   "source": [
    "# approp_action increase days graph"
   ]
  },
  {
   "cell_type": "code",
   "execution_count": null,
   "id": "6bc4a18c",
   "metadata": {},
   "outputs": [],
   "source": [
    "aasingraph = aasin.plot(figsize=(10,6),\n",
    "                        x = 'entry_score',\n",
    "                        y = 'time_in_program',\n",
    "                        title = 'Approp_Ac Inc Days',\n",
    "                        xlabel = 'Entry Score',\n",
    "                        ylabel = 'Days in Program',\n",
    "                        color = 'darkblue',\n",
    "                        edgecolor = 'black',\n",
    "                        kind = 'bar')\n",
    "\n",
    "aasingraph.get_legend ().remove ()\n"
   ]
  },
  {
   "cell_type": "code",
   "execution_count": null,
   "id": "db93a1cc",
   "metadata": {},
   "outputs": [],
   "source": [
    "#social increase % graph "
   ]
  },
  {
   "cell_type": "code",
   "execution_count": null,
   "id": "f7936c58",
   "metadata": {},
   "outputs": [],
   "source": [
    "ssingrapha = ssin.plot(figsize=(10,6),\n",
    "                      x = 'entry_score',\n",
    "                      y = 'pct_of_children_improved',\n",
    "                      title = 'Social Inc %',\n",
    "                      xlabel = 'Entry Score',\n",
    "                      ylabel = 'Children Showing Improvement [%]',\n",
    "                      color = 'darkblue',\n",
    "                      edgecolor = 'black',\n",
    "                      kind = 'bar')\n",
    "\n",
    "ssingrapha.get_legend ().remove ()"
   ]
  },
  {
   "cell_type": "code",
   "execution_count": null,
   "id": "0a908300",
   "metadata": {},
   "outputs": [],
   "source": [
    "# knowledge increase % graph "
   ]
  },
  {
   "cell_type": "code",
   "execution_count": null,
   "id": "15c66a23",
   "metadata": {},
   "outputs": [],
   "source": [
    "ksingrapha = ksin.plot(figsize=(10,6),\n",
    "                      x = 'entry_score',\n",
    "                      y = 'pct_of_children_improved',\n",
    "                      title = 'Knowledge Inc %',\n",
    "                      xlabel = 'Entry Score',\n",
    "                      ylabel = 'Children Showing Improvement [%]',\n",
    "                      color = 'darkblue',\n",
    "                      edgecolor = 'black',\n",
    "                      kind = 'bar')\n",
    "\n",
    "ksingrapha.get_legend ().remove ()"
   ]
  },
  {
   "cell_type": "code",
   "execution_count": null,
   "id": "ab25c971",
   "metadata": {},
   "outputs": [],
   "source": [
    "# approp action & increase graph "
   ]
  },
  {
   "cell_type": "code",
   "execution_count": null,
   "id": "c127e2e4",
   "metadata": {},
   "outputs": [],
   "source": [
    "aasingrapha = aasin.plot(figsize=(10,6),\n",
    "                      x = 'entry_score',\n",
    "                      y = 'pct_of_children_improved',\n",
    "                      title = 'Approp_Ac Inc %',\n",
    "                      xlabel = 'Entry Score',\n",
    "                      ylabel = 'Children Showing Improvement [%]',\n",
    "                      color = 'darkblue',\n",
    "                      edgecolor = 'black',\n",
    "                      kind = 'bar')\n",
    "\n",
    "aasingrapha.get_legend ().remove ()\n"
   ]
  },
  {
   "cell_type": "code",
   "execution_count": null,
   "id": "5692bea1",
   "metadata": {},
   "outputs": [],
   "source": [
    "# social no change days graph"
   ]
  },
  {
   "cell_type": "code",
   "execution_count": null,
   "id": "cd9656b8",
   "metadata": {},
   "outputs": [],
   "source": [
    "ssncgraph = ssnc.plot(figsize=(10,6),\n",
    "                      x = 'entry_score',\n",
    "                      y = 'time_in_program',\n",
    "                      title = 'Social No Change Days',\n",
    "                      xlabel = 'Entry Score',\n",
    "                      ylabel = 'Days in Program',\n",
    "                      color = 'darkblue',\n",
    "                      edgecolor = 'black',\n",
    "                      kind = 'bar',)\n",
    "\n",
    "ssncgraph.get_legend ().remove ()"
   ]
  },
  {
   "cell_type": "code",
   "execution_count": null,
   "id": "d6bf5e4a",
   "metadata": {},
   "outputs": [],
   "source": [
    "#knowledge no change days graph"
   ]
  },
  {
   "cell_type": "code",
   "execution_count": null,
   "id": "8d6fae6f",
   "metadata": {},
   "outputs": [],
   "source": [
    "ksncgraph = ksnc.plot(figsize=(10,6),\n",
    "                      x = 'entry_score',\n",
    "                      y = 'time_in_program',\n",
    "                      title = 'Knowledge No Change Days',\n",
    "                      xlabel = 'Entry Score',\n",
    "                      ylabel = 'Days in Program',\n",
    "                      color = 'darkblue',\n",
    "                      edgecolor = 'black',\n",
    "                      kind = 'bar',)\n",
    "\n",
    "\n",
    "ksncgraph.get_legend ().remove ()"
   ]
  },
  {
   "cell_type": "code",
   "execution_count": null,
   "id": "343dc39d",
   "metadata": {},
   "outputs": [],
   "source": [
    "#approp action no change days graph"
   ]
  },
  {
   "cell_type": "code",
   "execution_count": null,
   "id": "287a9d42",
   "metadata": {},
   "outputs": [],
   "source": [
    "aasncgraph = aasnc.plot(figsize=(10,6),\n",
    "                      x = 'entry_score',\n",
    "                      y = 'time_in_program',\n",
    "                      title = 'Approp_Ac No Change Days',\n",
    "                      xlabel = 'Entry Score',\n",
    "                      ylabel = 'Days in Program',\n",
    "                      color = 'darkblue',\n",
    "                      edgecolor = 'black',\n",
    "                      kind = 'bar',)\n",
    "\n",
    "aasncgraph.get_legend ().remove ()"
   ]
  },
  {
   "cell_type": "code",
   "execution_count": null,
   "id": "4a4926e3",
   "metadata": {},
   "outputs": [],
   "source": [
    "# social no change % graph"
   ]
  },
  {
   "cell_type": "code",
   "execution_count": null,
   "id": "99cdeaac",
   "metadata": {},
   "outputs": [],
   "source": [
    "ssncgrapha = ssnc.plot(figsize=(10,6),\n",
    "                      x = 'entry_score',\n",
    "                      y = 'pct_of_children_nochange',\n",
    "                      title = 'Social No Change %',\n",
    "                      xlabel = 'Entry Score',\n",
    "                      ylabel = 'Children Showing No change  [%]',\n",
    "                      color = 'darkblue',\n",
    "                      edgecolor = 'black',\n",
    "                      kind = 'bar')\n",
    "\n",
    "ssncgrapha.get_legend ().remove ()\n"
   ]
  },
  {
   "cell_type": "code",
   "execution_count": null,
   "id": "b7753109",
   "metadata": {},
   "outputs": [],
   "source": [
    "# knowledge no change % graph "
   ]
  },
  {
   "cell_type": "code",
   "execution_count": null,
   "id": "ba417732",
   "metadata": {},
   "outputs": [],
   "source": [
    "ksncgrapha = ksnc.plot(figsize=(10,6),\n",
    "                      x = 'entry_score',\n",
    "                      y = 'pct_of_children_nochange',\n",
    "                      title = 'Knowledge No Change %',\n",
    "                      xlabel = 'Entry Score',\n",
    "                      ylabel = 'Children Showing No change  [%]',\n",
    "                      color = 'darkblue',\n",
    "                      edgecolor = 'black',\n",
    "                      kind = 'bar')\n",
    "\n",
    "ksncgrapha.get_legend ().remove ()"
   ]
  },
  {
   "cell_type": "code",
   "execution_count": null,
   "id": "b2469dc2",
   "metadata": {},
   "outputs": [],
   "source": [
    "# approp action no days change graph"
   ]
  },
  {
   "cell_type": "code",
   "execution_count": null,
   "id": "9a1bc892",
   "metadata": {},
   "outputs": [],
   "source": [
    "aasncgrapha = aasnc.plot(figsize=(10,6),\n",
    "                      x = 'entry_score',\n",
    "                      y = 'pct_of_children_nochange',\n",
    "                      title = 'Approp_Ac No Change %',\n",
    "                      xlabel = 'Entry Score',\n",
    "                      ylabel = 'Children Showing No change  [%]',\n",
    "                      color = 'darkblue',\n",
    "                      edgecolor = 'black',\n",
    "                      kind = 'bar')\n",
    "\n",
    "aasncgrapha.get_legend ().remove ()"
   ]
  },
  {
   "cell_type": "code",
   "execution_count": null,
   "id": "8e5778b7",
   "metadata": {},
   "outputs": [],
   "source": [
    "# social decrease days graph"
   ]
  },
  {
   "cell_type": "code",
   "execution_count": null,
   "id": "4867ae57",
   "metadata": {},
   "outputs": [],
   "source": [
    "ssdegraph = ssde.plot(figsize=(10,6),\n",
    "                      x = 'entry_score',\n",
    "                      y = 'time_in_program',\n",
    "                      title = 'Social Dec Days',\n",
    "                      xlabel = 'Entry Score',\n",
    "                      ylabel = 'Days in Program',\n",
    "                      color = 'darkblue',\n",
    "                      edgecolor = 'black',\n",
    "                      kind = 'bar',)\n",
    "\n",
    "ssdegraph.get_legend ().remove ()"
   ]
  },
  {
   "cell_type": "code",
   "execution_count": null,
   "id": "bda92c06",
   "metadata": {},
   "outputs": [],
   "source": [
    "#knowledge decrease days graph "
   ]
  },
  {
   "cell_type": "code",
   "execution_count": null,
   "id": "6dd67b42",
   "metadata": {},
   "outputs": [],
   "source": [
    "ksdegraph = ksde.plot(figsize=(10,6),\n",
    "                      x = 'entry_score',\n",
    "                      y = 'time_in_program',\n",
    "                      title = 'Knowledge Dec Days',\n",
    "                      xlabel = 'Entry Score',\n",
    "                      ylabel = 'Days in Program',\n",
    "                      color = 'darkblue',\n",
    "                      edgecolor = 'black',\n",
    "                      kind = 'bar',)\n",
    "\n",
    "ksdegraph.get_legend ().remove ()"
   ]
  },
  {
   "cell_type": "code",
   "execution_count": null,
   "id": "23f27247",
   "metadata": {},
   "outputs": [],
   "source": [
    "#approp action decrease days graph"
   ]
  },
  {
   "cell_type": "code",
   "execution_count": null,
   "id": "7cb115e3",
   "metadata": {},
   "outputs": [],
   "source": [
    "aasdegraph = aasde.plot(figsize=(10,6),\n",
    "                      x = 'entry_score',\n",
    "                      y = 'time_in_program',\n",
    "                      title = 'Approp_Ac Dec Days',\n",
    "                      xlabel = 'Entry Score',\n",
    "                      ylabel = 'Days in Program',\n",
    "                      color = 'darkblue',\n",
    "                      edgecolor = 'black',\n",
    "                      kind = 'bar',)\n",
    "\n",
    "aasdegraph.get_legend ().remove ()"
   ]
  },
  {
   "cell_type": "code",
   "execution_count": null,
   "id": "bd9e56e2",
   "metadata": {},
   "outputs": [],
   "source": [
    "#social decrease % graph "
   ]
  },
  {
   "cell_type": "code",
   "execution_count": null,
   "id": "31ae01e6",
   "metadata": {},
   "outputs": [],
   "source": [
    "ssdegrapha = ssde.plot(figsize=(10,6),\n",
    "                      x = 'entry_score',\n",
    "                      y = 'pct_of_children_decrease',\n",
    "                      title = 'Social Dec %',\n",
    "                      xlabel = 'Entry Score',\n",
    "                      ylabel = 'Children Showing Decrease  [%]',\n",
    "                      color = 'darkblue',\n",
    "                      edgecolor = 'black',\n",
    "                      kind = 'bar')\n",
    "\n",
    "ssdegrapha.get_legend ().remove ()"
   ]
  },
  {
   "cell_type": "code",
   "execution_count": null,
   "id": "7a734b17",
   "metadata": {},
   "outputs": [],
   "source": [
    "#knowledge decrease % graph"
   ]
  },
  {
   "cell_type": "code",
   "execution_count": null,
   "id": "4b79e96c",
   "metadata": {},
   "outputs": [],
   "source": [
    "ksdegrapha = ksde.plot(figsize=(10,6),\n",
    "                      x = 'entry_score',\n",
    "                      y = 'pct_of_children_decrease',\n",
    "                      title = 'KNowledge Dec %',\n",
    "                      xlabel = 'Entry Score',\n",
    "                      ylabel = 'Children Showing Decrease  [%]',\n",
    "                      color = 'darkblue',\n",
    "                      edgecolor = 'black',\n",
    "                      kind = 'bar')\n",
    "\n",
    "ksdegrapha.get_legend ().remove ()"
   ]
  },
  {
   "cell_type": "code",
   "execution_count": null,
   "id": "dddf2853",
   "metadata": {},
   "outputs": [],
   "source": [
    "# approp_action decrease % graph  "
   ]
  },
  {
   "cell_type": "code",
   "execution_count": null,
   "id": "38cfd390",
   "metadata": {},
   "outputs": [],
   "source": [
    "aasdegrapha = aasde.plot(figsize=(10,6),\n",
    "                      x = 'entry_score',\n",
    "                      y = 'pct_of_children_decrease',\n",
    "                      title = 'Approp_Ac Dec %',\n",
    "                      xlabel = 'Entry Score',\n",
    "                      ylabel = 'Children Showing Decrease  [%]',\n",
    "                      color = 'darkblue',\n",
    "                      edgecolor = 'black',\n",
    "                      kind = 'bar')\n",
    "\n",
    "aasdegrapha.get_legend ().remove ()"
   ]
  },
  {
   "cell_type": "code",
   "execution_count": null,
   "id": "93548f85",
   "metadata": {},
   "outputs": [],
   "source": [
    "# pie chart social %"
   ]
  },
  {
   "cell_type": "code",
   "execution_count": null,
   "id": "6e50c2af",
   "metadata": {},
   "outputs": [],
   "source": [
    "values = [71.600965,8.608206,19.790829]\n",
    "colors = ['royalblue', 'dodgerblue', 'skyblue']\n",
    "labels = ['increased','decreased','no change']\n",
    "explode = (0.2, 0, 0)\n",
    "plt.pie(values, colors=colors, labels=labels,\n",
    "explode=explode, autopct='%1.1f%%',\n",
    "counterclock=False, shadow=True)\n",
    "plt.title('Entry Score 3\\n (Social Scale)')\n",
    "plt.show()"
   ]
  },
  {
   "cell_type": "code",
   "execution_count": null,
   "id": "3958fccf",
   "metadata": {},
   "outputs": [],
   "source": [
    "# pie chart knowledge %"
   ]
  },
  {
   "cell_type": "code",
   "execution_count": null,
   "id": "f8f0e3f1",
   "metadata": {},
   "outputs": [],
   "source": [
    "values = [41.302739,27.017024,31.680237]\n",
    "colors = ['royalblue', 'dodgerblue', 'skyblue']\n",
    "labels = ['increased','decreased','no change']\n",
    "explode = (0.2, 0, 0)\n",
    "plt.pie(values, colors=colors, labels=labels,\n",
    "explode=explode, autopct='%1.1f%%',\n",
    "counterclock=False, shadow=True)\n",
    "plt.title('Entry Score 3\\n (Knowledge Scale)')\n",
    "plt.show()"
   ]
  },
  {
   "cell_type": "code",
   "execution_count": null,
   "id": "d0f47868",
   "metadata": {},
   "outputs": [],
   "source": [
    "# pie chart Approp_Ac %"
   ]
  },
  {
   "cell_type": "code",
   "execution_count": null,
   "id": "925d9b32",
   "metadata": {},
   "outputs": [],
   "source": [
    "values = [66.907514,13.294798,19.797688]\n",
    "colors = ['royalblue', 'dodgerblue', 'skyblue']\n",
    "labels = ['increased','decreased','no change']\n",
    "explode = (0.2, 0, 0)\n",
    "plt.pie(values, colors=colors, labels=labels,\n",
    "explode=explode, autopct='%1.1f%%',\n",
    "counterclock=False, shadow=True)\n",
    "plt.title('Entry Score 3\\n (Approp_Ac Scale)')\n",
    "plt.show()"
   ]
  },
  {
   "cell_type": "code",
   "execution_count": null,
   "id": "913adf30",
   "metadata": {},
   "outputs": [],
   "source": [
    "ssin['Scale']='Social'\n",
    "ksin['Scale']='Knowledge'\n",
    "aasin['Scale']='Approp. Action'\n",
    "res=pd.concat([ssin,ksin,aasin])\n",
    "sns.barplot(x='entry_score',y=('pct_of_children_improved'),data=res,hue='Scale',palette='Paired').set(title='Percent Improved')\n",
    "plt.show()"
   ]
  },
  {
   "cell_type": "code",
   "execution_count": null,
   "id": "522d5e35",
   "metadata": {},
   "outputs": [],
   "source": [
    "ssin['Scale']='Social'\n",
    "ksin['Scale']='Knowledge'\n",
    "aasin['Scale']='Approp. Action'\n",
    "res=pd.concat([ssin,ksin,aasin])\n",
    "sns.barplot(x='entry_score',y=('time_in_program'),data=res,hue='Scale',palette='Paired').set(title='Scale-Improved T.I.P(Median)')\n",
    "plt.show()"
   ]
  },
  {
   "cell_type": "code",
   "execution_count": null,
   "id": "cca1eaa3",
   "metadata": {},
   "outputs": [],
   "source": [
    "ssnc['Scale']='Social'\n",
    "ksnc['Scale']='Knowledge'\n",
    "aasnc['Scale']='Approp. Action'\n",
    "res=pd.concat([ssnc,ksnc,aasnc])\n",
    "sns.barplot(x='entry_score',y=('pct_of_children_nochange'),data=res,hue='Scale',palette='Paired').set(title='Percent With No Change')\n",
    "plt.show()"
   ]
  },
  {
   "cell_type": "code",
   "execution_count": null,
   "id": "b894c807",
   "metadata": {},
   "outputs": [],
   "source": [
    "#chart comparing children that did not improve with children that did improve and children that regressed"
   ]
  },
  {
   "cell_type": "code",
   "execution_count": null,
   "id": "62b255e3",
   "metadata": {},
   "outputs": [],
   "source": [
    "df1=pd.DataFrame({'x':[1,2,3,4,5,6,7],'y':[42.1, 14.5, 19.8, 14.0, 21.9, 34.0, 88.4]})\n",
    "df2=pd.DataFrame({'x':[1,2,3,4,5,6,7],'y':[57.9, 77.2, 71.6, 75.0, 71.14, 60.0, 0]})\n",
    "df3=pd.DataFrame({'x':[1,2,3,4,5,6,7],'y':[0 , 8.2, 8.6, 11.0, 6.9, 6.0, 11.6]})\n",
    "df1['Scale']='Improved'\n",
    "df2['Scale']='No Change'\n",
    "df3['Scale']='Regressed'\n",
    "res=pd.concat([df1,df2, df3])\n",
    "sns.barplot(x='x',y='y',data=res,hue='Scale', palette='Paired')\n",
    "plt.xlabel('entry scores')\n",
    "plt.ylabel('percentage')\n",
    "plt.title('Improved v. Static v. Regressed (Social)')\n",
    "plt.show()"
   ]
  },
  {
   "cell_type": "code",
   "execution_count": null,
   "id": "b09f0209",
   "metadata": {},
   "outputs": [],
   "source": [
    "#eco exit social for 1 with increase 2,3,4..."
   ]
  },
  {
   "cell_type": "code",
   "execution_count": null,
   "id": "4806bf57",
   "metadata": {},
   "outputs": [],
   "source": [
    "eco_exit_for_1_social = eco_exit[eco_exit['ent_social'] == 1.0]\n",
    "eco_exit_for_1_social"
   ]
  },
  {
   "cell_type": "code",
   "execution_count": null,
   "id": "2d1399a3",
   "metadata": {},
   "outputs": [],
   "source": [
    "eco_exit_for_1_social_2 = eco_exit_for_1_social[eco_exit_for_1_social['exit_social'] ==2]\n",
    "eco_exit_for_1_social_2"
   ]
  },
  {
   "cell_type": "code",
   "execution_count": null,
   "id": "5ff15969",
   "metadata": {},
   "outputs": [],
   "source": [
    "eco_exit_for_1_social_3 = eco_exit_for_1_social[eco_exit_for_1_social['exit_social'] ==3]\n",
    "eco_exit_for_1_social_3"
   ]
  },
  {
   "cell_type": "code",
   "execution_count": null,
   "id": "7ef8f12e",
   "metadata": {},
   "outputs": [],
   "source": [
    "eco_exit_for_1_social_4 = eco_exit_for_1_social[eco_exit_for_1_social['exit_social'] ==4]\n",
    "eco_exit_for_1_social_4"
   ]
  },
  {
   "cell_type": "code",
   "execution_count": null,
   "id": "6f164986",
   "metadata": {},
   "outputs": [],
   "source": [
    "eco_exit_for_1_social_5 = eco_exit_for_1_social[eco_exit_for_1_social['exit_social'] == 5]\n",
    "eco_exit_for_1_social_5"
   ]
  },
  {
   "cell_type": "code",
   "execution_count": null,
   "id": "03319d60",
   "metadata": {},
   "outputs": [],
   "source": [
    "eco_exit_for_1_social_6 = eco_exit_for_1_social[eco_exit_for_1_social['exit_social'] == 6]\n",
    "eco_exit_for_1_social_6"
   ]
  },
  {
   "cell_type": "code",
   "execution_count": null,
   "id": "cdef969c",
   "metadata": {},
   "outputs": [],
   "source": [
    "eco_exit_for_1_social_7 = eco_exit_for_1_social[eco_exit_for_1_social['exit_social'] == 7]\n",
    "eco_exit_for_1_social_7"
   ]
  },
  {
   "cell_type": "code",
   "execution_count": null,
   "id": "1b09fd39",
   "metadata": {},
   "outputs": [],
   "source": [
    "#social days scount 1,2,3..."
   ]
  },
  {
   "cell_type": "code",
   "execution_count": null,
   "id": "81bb2d6d",
   "metadata": {},
   "outputs": [],
   "source": [
    "social_1_2= (eco_exit_for_1_social_2['exit_social']).count()\n",
    "print(social_1_2)"
   ]
  },
  {
   "cell_type": "code",
   "execution_count": null,
   "id": "15c907b0",
   "metadata": {},
   "outputs": [],
   "source": [
    "social_1_3= (eco_exit_for_1_social_3['exit_social']).count()\n",
    "print(social_1_3)"
   ]
  },
  {
   "cell_type": "code",
   "execution_count": null,
   "id": "4d1874d0",
   "metadata": {},
   "outputs": [],
   "source": [
    "social_1_4= (eco_exit_for_1_social_4['exit_social']).count()\n",
    "print(social_1_4)"
   ]
  },
  {
   "cell_type": "code",
   "execution_count": null,
   "id": "f9989f9b",
   "metadata": {},
   "outputs": [],
   "source": [
    "social_1_5= (eco_exit_for_1_social_5['exit_social']).count()\n",
    "print(social_1_5)"
   ]
  },
  {
   "cell_type": "code",
   "execution_count": null,
   "id": "987315b3",
   "metadata": {},
   "outputs": [],
   "source": [
    "social_1_6= (eco_exit_for_1_social_6['exit_social']).count()\n",
    "print(social_1_6)"
   ]
  },
  {
   "cell_type": "code",
   "execution_count": null,
   "id": "c9b2f079",
   "metadata": {},
   "outputs": [],
   "source": [
    "social_1_7= (eco_exit_for_1_social_7['exit_social']).count()\n",
    "print(social_1_7)"
   ]
  },
  {
   "cell_type": "code",
   "execution_count": null,
   "id": "f486ece1",
   "metadata": {},
   "outputs": [],
   "source": [
    "#knowledge days count 1,2,3..."
   ]
  },
  {
   "cell_type": "code",
   "execution_count": null,
   "id": "f48177e2",
   "metadata": {
    "scrolled": true
   },
   "outputs": [],
   "source": [
    "eco_exit_for_1_knowledge = eco_exit[eco_exit['ent_knowledge'] == 1.0]\n",
    "eco_exit_for_1_knowledge"
   ]
  },
  {
   "cell_type": "code",
   "execution_count": null,
   "id": "08708d30",
   "metadata": {},
   "outputs": [],
   "source": [
    "eco_exit_for_2_knowledge = eco_exit_for_1_knowledge[eco_exit['exit_knowledge'] == 2.0]\n",
    "eco_exit_for_2_knowledge"
   ]
  },
  {
   "cell_type": "code",
   "execution_count": null,
   "id": "d01769be",
   "metadata": {},
   "outputs": [],
   "source": [
    "eco_exit_for_3_knowledge = eco_exit_for_1_knowledge[eco_exit['exit_knowledge'] == 3.0]\n",
    "eco_exit_for_3_knowledge"
   ]
  },
  {
   "cell_type": "code",
   "execution_count": null,
   "id": "8c388ba3",
   "metadata": {},
   "outputs": [],
   "source": [
    "eco_exit_for_4_knowledge = eco_exit_for_1_knowledge[eco_exit['exit_knowledge'] == 4.0]\n",
    "eco_exit_for_4_knowledge"
   ]
  },
  {
   "cell_type": "code",
   "execution_count": null,
   "id": "dd18c773",
   "metadata": {},
   "outputs": [],
   "source": [
    "eco_exit_for_5_knowledge = eco_exit_for_1_knowledge[eco_exit['exit_knowledge'] == 5.0]\n",
    "eco_exit_for_5_knowledge"
   ]
  },
  {
   "cell_type": "code",
   "execution_count": null,
   "id": "ad698da3",
   "metadata": {},
   "outputs": [],
   "source": [
    "eco_exit_for_6_knowledge = eco_exit_for_1_knowledge[eco_exit['exit_knowledge'] == 6.0]\n",
    "eco_exit_for_6_knowledge"
   ]
  },
  {
   "cell_type": "code",
   "execution_count": null,
   "id": "aa4b22b4",
   "metadata": {},
   "outputs": [],
   "source": [
    "eco_exit_for_7_knowledge = eco_exit_for_1_knowledge[eco_exit['exit_knowledge'] == 7.0]\n",
    "eco_exit_for_7_knowledge"
   ]
  },
  {
   "cell_type": "code",
   "execution_count": null,
   "id": "2b97907f",
   "metadata": {},
   "outputs": [],
   "source": [
    "knowledge_2= (eco_exit_for_2_knowledge['exit_knowledge']).count()\n",
    "print(knowledge_2)"
   ]
  },
  {
   "cell_type": "code",
   "execution_count": null,
   "id": "7f4f8a17",
   "metadata": {},
   "outputs": [],
   "source": [
    "knowledge_3= (eco_exit_for_3_knowledge['exit_knowledge']).count()\n",
    "print(knowledge_3)"
   ]
  },
  {
   "cell_type": "code",
   "execution_count": null,
   "id": "ab05d2c1",
   "metadata": {},
   "outputs": [],
   "source": [
    "knowledge_4= (eco_exit_for_4_knowledge['exit_knowledge']).count()\n",
    "print(knowledge_4)"
   ]
  },
  {
   "cell_type": "code",
   "execution_count": null,
   "id": "54c45f6d",
   "metadata": {},
   "outputs": [],
   "source": [
    "knowledge_5= (eco_exit_for_5_knowledge['exit_knowledge']).count()\n",
    "print(knowledge_5)"
   ]
  },
  {
   "cell_type": "code",
   "execution_count": null,
   "id": "a6b0b129",
   "metadata": {},
   "outputs": [],
   "source": [
    "knowledge_6= (eco_exit_for_6_knowledge['exit_knowledge']).count()\n",
    "print(knowledge_6)"
   ]
  },
  {
   "cell_type": "code",
   "execution_count": null,
   "id": "a4d1e178",
   "metadata": {},
   "outputs": [],
   "source": [
    "knowledge_7= (eco_exit_for_7_knowledge['exit_knowledge']).count()\n",
    "print(knowledge_7)"
   ]
  },
  {
   "cell_type": "code",
   "execution_count": null,
   "id": "adb3242e",
   "metadata": {},
   "outputs": [],
   "source": [
    "#approp_action days count 1,2,3..."
   ]
  },
  {
   "cell_type": "code",
   "execution_count": null,
   "id": "20ed7192",
   "metadata": {},
   "outputs": [],
   "source": [
    "approp_1_1 = eco_exit[eco_exit['ent_approp_action'] == 1.0]\n",
    "approp_1_1"
   ]
  },
  {
   "cell_type": "code",
   "execution_count": null,
   "id": "082603a6",
   "metadata": {},
   "outputs": [],
   "source": [
    "approp_1_2 = approp_1_1[approp_1_1['exit_approp_action'] == 2.0]\n",
    "approp_1_2"
   ]
  },
  {
   "cell_type": "code",
   "execution_count": null,
   "id": "160bdb38",
   "metadata": {
    "scrolled": true
   },
   "outputs": [],
   "source": [
    "approp_1_3 = approp_1_1[approp_1_1['exit_approp_action'] == 3.0]\n",
    "approp_1_3"
   ]
  },
  {
   "cell_type": "code",
   "execution_count": null,
   "id": "01dfd712",
   "metadata": {},
   "outputs": [],
   "source": [
    "approp_1_4 = approp_1_1[approp_1_1['exit_approp_action'] == 4.0]\n",
    "approp_1_4"
   ]
  },
  {
   "cell_type": "code",
   "execution_count": null,
   "id": "73a6d80e",
   "metadata": {},
   "outputs": [],
   "source": [
    "approp_1_5 = approp_1_1[approp_1_1['exit_approp_action'] == 5.0]\n",
    "approp_1_5"
   ]
  },
  {
   "cell_type": "code",
   "execution_count": null,
   "id": "d8e2bbe8",
   "metadata": {},
   "outputs": [],
   "source": [
    "approp_1_6 = approp_1_1[approp_1_1['exit_approp_action'] == 6.0]\n",
    "approp_1_6"
   ]
  },
  {
   "cell_type": "code",
   "execution_count": null,
   "id": "5b690e0c",
   "metadata": {},
   "outputs": [],
   "source": [
    "approp_1_7 = approp_1_1[approp_1_1['exit_approp_action'] == 7.0]\n",
    "approp_1_7"
   ]
  },
  {
   "cell_type": "code",
   "execution_count": null,
   "id": "dc0bf588",
   "metadata": {},
   "outputs": [],
   "source": [
    "approp_2= (approp_1_2['exit_approp_action']).count()\n",
    "print(approp_2)"
   ]
  },
  {
   "cell_type": "code",
   "execution_count": null,
   "id": "9f6484c4",
   "metadata": {},
   "outputs": [],
   "source": [
    "approp_3= (approp_1_3['exit_approp_action']).count()\n",
    "print(knowledge_3)"
   ]
  },
  {
   "cell_type": "code",
   "execution_count": null,
   "id": "e19cbbfb",
   "metadata": {},
   "outputs": [],
   "source": [
    "approp_4= (approp_1_4['exit_approp_action']).count()\n",
    "print(knowledge_4)"
   ]
  },
  {
   "cell_type": "code",
   "execution_count": null,
   "id": "06d90acb",
   "metadata": {},
   "outputs": [],
   "source": [
    "approp_5= (approp_1_5['exit_approp_action']).count()\n",
    "print(knowledge_5)"
   ]
  },
  {
   "cell_type": "code",
   "execution_count": null,
   "id": "a4205aaf",
   "metadata": {},
   "outputs": [],
   "source": [
    "approp_6= (approp_1_6['exit_approp_action']).count()\n",
    "print(knowledge_6)"
   ]
  },
  {
   "cell_type": "code",
   "execution_count": null,
   "id": "022c0055",
   "metadata": {},
   "outputs": [],
   "source": [
    "approp_7= (approp_1_7['exit_approp_action']).count()\n",
    "print(knowledge_7)"
   ]
  },
  {
   "cell_type": "code",
   "execution_count": null,
   "id": "eeabee4b",
   "metadata": {},
   "outputs": [],
   "source": [
    "#list entry 1 social days"
   ]
  },
  {
   "cell_type": "code",
   "execution_count": null,
   "id": "e1495c64",
   "metadata": {},
   "outputs": [],
   "source": [
    "lst3 = [social_1_2, social_1_3, social_1_4, social_1_5, social_1_6, social_1_7]\n",
    "df3= pd.DataFrame(lst3, index=['Social: 2', 'Social: 3', 'Social: 4', 'Social: 5', 'Social: 6', 'Social: 7'])\n",
    "print(df3)"
   ]
  },
  {
   "cell_type": "code",
   "execution_count": null,
   "id": "bad08de6",
   "metadata": {},
   "outputs": [],
   "source": [
    "#improvement from 1 social\n",
    "social = {'2': 179, '3': 174, '4': 75, '5': 98, '6': 106, '7': 114}\n",
    "\n",
    "Exit_Score = list(social.keys())\n",
    "Days = list(social.values())\n",
    "\n",
    "fig = plt.figure(figsize = (10, 5))\n",
    "\n",
    "plt.bar(Exit_Score, Days, color = 'darkblue')\n",
    "\n",
    "plt.xlabel('Exit Score')\n",
    "plt.ylabel('Days In Program')\n",
    "plt.title('Improvement from 1 Social')\n",
    "plt.show()"
   ]
  },
  {
   "cell_type": "code",
   "execution_count": null,
   "id": "42d4b596",
   "metadata": {},
   "outputs": [],
   "source": [
    "lst3 = [social_1_2, social_1_3, social_1_4, social_1_5, social_1_6, social_1_7]\n",
    "df3= pd.DataFrame(lst3, index=['Social: 2', 'Social: 3', 'Social: 4', 'Social: 5', 'Social: 6', 'Social: 7'])\n",
    "lst3_2 = [2,3,4,5,6,7]\n",
    "plt.bar(lst3_2, lst3)\n",
    "plt.show()"
   ]
  },
  {
   "cell_type": "code",
   "execution_count": null,
   "id": "f524e2f3",
   "metadata": {
    "scrolled": true
   },
   "outputs": [],
   "source": [
    "lst4 = [knowledge_2, knowledge_3, knowledge_4, knowledge_5, knowledge_6, knowledge_7]\n",
    "dfknow= pd.DataFrame(lst4, index=['Knowledge: 2', 'Knowledge: 3', 'Knowledge: 4', 'Knowledge: 5', 'Knowledge: 6', 'Knowledge: 7'])\n",
    "print(dfknow)"
   ]
  },
  {
   "cell_type": "code",
   "execution_count": null,
   "id": "81e9b4cc",
   "metadata": {},
   "outputs": [],
   "source": [
    "#improvement from 1 knowledge\n",
    "knowledge = {'2': 67, '3': 125, '4': 70, '5': 86, '6': 48, '7': 90}\n",
    "\n",
    "Exit_Score = list(knowledge.keys())\n",
    "Days = list(knowledge.values())\n",
    "\n",
    "fig = plt.figure(figsize = (10, 5))\n",
    "\n",
    "plt.bar(Exit_Score, Days, color = 'darkblue')\n",
    "\n",
    "plt.xlabel('Exit Score')\n",
    "plt.ylabel('Days In Program')\n",
    "plt.title('Improvement from 1 Knowledge')\n",
    "plt.show()"
   ]
  },
  {
   "cell_type": "code",
   "execution_count": null,
   "id": "b60f6c28",
   "metadata": {},
   "outputs": [],
   "source": [
    "lst4 = [knowledge_2, knowledge_3, knowledge_4, knowledge_5, knowledge_6, knowledge_7]\n",
    "dfknow= pd.DataFrame(lst4, index=['Knowledge: 2', 'Knowledge: 3', 'Knowledge: 4', 'Knowledge: 5', 'Knowledge: 6', 'Knowledge: 7'])\n",
    "lst3_2 = [2,3,4,5,6,7]\n",
    "plt.bar(lst3_2, lst4)\n",
    "plt.show()"
   ]
  },
  {
   "cell_type": "code",
   "execution_count": null,
   "id": "db7c07db",
   "metadata": {
    "scrolled": true
   },
   "outputs": [],
   "source": [
    "lst5 = [approp_2, approp_3, approp_4, approp_5, approp_6, approp_7]\n",
    "dfapprop= pd.DataFrame(lst5, index=['Aprrop_Action: 2', 'Approp_Action: 3', 'Approp_Action: 4', 'Approp_Action: 5', 'Approp_Action: 6', 'Approp_Action: 7'])\n",
    "print(dfapprop)"
   ]
  },
  {
   "cell_type": "code",
   "execution_count": null,
   "id": "61cbde3e",
   "metadata": {
    "scrolled": true
   },
   "outputs": [],
   "source": [
    "#improvement from 1 approp\n",
    "approp_action = {'2': 67, '3': 125, '4': 70, '5': 86, '6': 48, '7': 90}\n",
    "\n",
    "Exit_Score = list(approp_action.keys())\n",
    "Days = list(approp_action.values())\n",
    "\n",
    "fig = plt.figure(figsize = (10, 5))\n",
    "\n",
    "plt.bar(Exit_Score, Days, color = 'darkblue')\n",
    "\n",
    "plt.xlabel('Exit Score')\n",
    "plt.ylabel('Days In Program')\n",
    "plt.title('Improvement from 1 Approp_Action')\n",
    "plt.show()"
   ]
  },
  {
   "cell_type": "code",
   "execution_count": null,
   "id": "9ba231ad",
   "metadata": {},
   "outputs": [],
   "source": [
    "lst5 = [approp_2, approp_3, approp_4, approp_5, approp_6, approp_7]\n",
    "dfapprop= pd.DataFrame(lst5, index=['Aprrop_Action: 2', 'Approp_Action: 3', 'Approp_Action: 4', 'Approp_Action: 5', 'Approp_Action: 6', 'Approp_Action: 7'])\n",
    "lst3_2 = [2,3,4,5,6,7]\n",
    "plt.bar(lst3_2, lst5)\n",
    "plt.show()"
   ]
  },
  {
   "cell_type": "code",
   "execution_count": null,
   "id": "bfb90110",
   "metadata": {},
   "outputs": [],
   "source": [
    "#1 to 2,3,4..."
   ]
  },
  {
   "cell_type": "code",
   "execution_count": null,
   "id": "133f5a39",
   "metadata": {},
   "outputs": [],
   "source": [
    "eco_exit_for_1_knowledge = eco_exit[eco_exit['ent_knowledge'] == 1.0]\n",
    "eco_exit_for_1_knowledge"
   ]
  },
  {
   "cell_type": "code",
   "execution_count": null,
   "id": "2becb835",
   "metadata": {},
   "outputs": [],
   "source": [
    "knowledge_1_2 = eco_exit_for_1_knowledge[eco_exit_for_1_knowledge['exit_knowledge'] ==2]\n",
    "knowledge_1_2"
   ]
  },
  {
   "cell_type": "code",
   "execution_count": null,
   "id": "e3e992a7",
   "metadata": {},
   "outputs": [],
   "source": [
    "knowledge_1_3 = eco_exit_for_1_knowledge[eco_exit_for_1_knowledge['exit_knowledge'] ==3]\n",
    "knowledge_1_3"
   ]
  },
  {
   "cell_type": "code",
   "execution_count": null,
   "id": "91497739",
   "metadata": {},
   "outputs": [],
   "source": [
    "knowledge_1_4 = eco_exit_for_1_knowledge[eco_exit_for_1_knowledge['exit_knowledge'] ==4]\n",
    "knowledge_1_4"
   ]
  },
  {
   "cell_type": "code",
   "execution_count": null,
   "id": "985b65d3",
   "metadata": {},
   "outputs": [],
   "source": [
    "knowledge_1_5 = eco_exit_for_1_knowledge[eco_exit_for_1_knowledge['exit_knowledge'] ==5]\n",
    "knowledge_1_5"
   ]
  },
  {
   "cell_type": "code",
   "execution_count": null,
   "id": "ae42968c",
   "metadata": {},
   "outputs": [],
   "source": [
    "knowledge_1_6 = eco_exit_for_1_knowledge[eco_exit_for_1_knowledge['exit_knowledge'] ==6]\n",
    "knowledge_1_6"
   ]
  },
  {
   "cell_type": "code",
   "execution_count": null,
   "id": "ae85f402",
   "metadata": {},
   "outputs": [],
   "source": [
    "knowledge_1_7 = eco_exit_for_1_knowledge[eco_exit_for_1_knowledge['exit_knowledge'] ==7]\n",
    "knowledge_1_7"
   ]
  },
  {
   "cell_type": "code",
   "execution_count": null,
   "id": "a9f3cc1c",
   "metadata": {},
   "outputs": [],
   "source": [
    "#knowledge list"
   ]
  },
  {
   "cell_type": "code",
   "execution_count": null,
   "id": "8a12f9d0",
   "metadata": {},
   "outputs": [],
   "source": [
    "lst4 = [knowledge_2, knowledge_3, knowledge_4, knowledge_5, knowledge_6, knowledge_7]\n",
    "dfknow= pd.DataFrame(lst4, index=['2', '3', '4', '5', '6', '7'])\n",
    "print(dfknow)"
   ]
  },
  {
   "cell_type": "code",
   "execution_count": null,
   "id": "980aad45",
   "metadata": {},
   "outputs": [],
   "source": [
    "# approp 1 to 2,3,4..."
   ]
  },
  {
   "cell_type": "code",
   "execution_count": null,
   "id": "a2c0dc8d",
   "metadata": {},
   "outputs": [],
   "source": [
    "eco_exit_for_1_approp = eco_exit[eco_exit['ent_approp_action'] == 1.0]\n",
    "eco_exit_for_1_approp"
   ]
  },
  {
   "cell_type": "code",
   "execution_count": null,
   "id": "6acf167f",
   "metadata": {},
   "outputs": [],
   "source": [
    "approp_1_2 = eco_exit_for_1_approp[eco_exit_for_1_approp['exit_approp_action'] ==2]\n",
    "approp_1_2"
   ]
  },
  {
   "cell_type": "code",
   "execution_count": null,
   "id": "40cf18b5",
   "metadata": {},
   "outputs": [],
   "source": [
    "approp_1_3 = eco_exit_for_1_approp[eco_exit_for_1_approp['exit_approp_action'] ==3]\n",
    "approp_1_3"
   ]
  },
  {
   "cell_type": "code",
   "execution_count": null,
   "id": "f9606707",
   "metadata": {},
   "outputs": [],
   "source": [
    "approp_1_4 = eco_exit_for_1_approp[eco_exit_for_1_approp['exit_approp_action'] ==4]\n",
    "approp_1_4"
   ]
  },
  {
   "cell_type": "code",
   "execution_count": null,
   "id": "e52a2e88",
   "metadata": {},
   "outputs": [],
   "source": [
    "approp_1_5 = eco_exit_for_1_approp[eco_exit_for_1_approp['exit_approp_action'] ==5]\n",
    "approp_1_5"
   ]
  },
  {
   "cell_type": "code",
   "execution_count": null,
   "id": "23429872",
   "metadata": {},
   "outputs": [],
   "source": [
    "approp_1_6 = eco_exit_for_1_approp[eco_exit_for_1_approp['exit_approp_action'] ==6]\n",
    "approp_1_6"
   ]
  },
  {
   "cell_type": "code",
   "execution_count": null,
   "id": "8b9c7f83",
   "metadata": {},
   "outputs": [],
   "source": [
    "approp_1_7 = eco_exit_for_1_approp[eco_exit_for_1_approp['exit_approp_action'] ==7]\n",
    "approp_1_7"
   ]
  },
  {
   "cell_type": "code",
   "execution_count": null,
   "id": "cad7fa4b",
   "metadata": {},
   "outputs": [],
   "source": [
    "for x, y in eco_exit.iterrows():\n",
    "    if eco_exit['exit_knowledge'][x] < eco_exit['ent_knowledge'][x]:\n",
    "        eco_exit.loc[x, 'dec_knowledge'] = 1\n",
    "    else:\n",
    "        eco_exit.loc[x, 'dec_knowledge'] = 0\n",
    "eco_exit.iterrows"
   ]
  },
  {
   "cell_type": "code",
   "execution_count": null,
   "id": "86c4136f",
   "metadata": {},
   "outputs": [],
   "source": [
    "# ent social 2 change"
   ]
  },
  {
   "cell_type": "code",
   "execution_count": null,
   "id": "f174b735",
   "metadata": {},
   "outputs": [],
   "source": [
    "#1\n",
    "eco_exit_for_2_social = eco_exit[eco_exit['ent_social'] == 2.0]\n",
    "eco_exit_for_2_social_1 = eco_exit_for_1_social[eco_exit_for_1_social['exit_social'] ==1]\n",
    "social_2_1= (eco_exit_for_2_social_1['exit_social']).count()\n",
    "print(social_2_1)"
   ]
  },
  {
   "cell_type": "code",
   "execution_count": null,
   "id": "2741529d",
   "metadata": {},
   "outputs": [],
   "source": [
    "#3\n",
    "eco_exit_for_2_social = eco_exit[eco_exit['ent_social'] == 2.0]\n",
    "eco_exit_for_2_social_3 = eco_exit_for_1_social[eco_exit_for_1_social['exit_social'] ==3]\n",
    "social_2_3= (eco_exit_for_2_social_3['exit_social']).count()\n",
    "print(social_2_3)"
   ]
  },
  {
   "cell_type": "code",
   "execution_count": null,
   "id": "5e369808",
   "metadata": {},
   "outputs": [],
   "source": [
    "#4\n",
    "eco_exit_for_2_social = eco_exit[eco_exit['ent_social'] == 2.0]\n",
    "eco_exit_for_2_social_4 = eco_exit_for_1_social[eco_exit_for_1_social['exit_social'] ==4]\n",
    "social_2_4= (eco_exit_for_2_social_4['exit_social']).count()\n",
    "print(social_2_4)"
   ]
  },
  {
   "cell_type": "code",
   "execution_count": null,
   "id": "e31d5d41",
   "metadata": {},
   "outputs": [],
   "source": [
    "#5\n",
    "eco_exit_for_2_social = eco_exit[eco_exit['ent_social'] == 2.0]\n",
    "eco_exit_for_2_social_5 = eco_exit_for_1_social[eco_exit_for_1_social['exit_social'] ==5]\n",
    "social_2_5= (eco_exit_for_2_social_5['exit_social']).count()\n",
    "print(social_2_5)"
   ]
  },
  {
   "cell_type": "code",
   "execution_count": null,
   "id": "7cc7af90",
   "metadata": {},
   "outputs": [],
   "source": [
    "#6\n",
    "eco_exit_for_2_social = eco_exit[eco_exit['ent_social'] == 2.0]\n",
    "eco_exit_for_2_social_6 = eco_exit_for_1_social[eco_exit_for_1_social['exit_social'] ==6]\n",
    "social_2_6= (eco_exit_for_2_social_6['exit_social']).count()\n",
    "print(social_2_6)"
   ]
  },
  {
   "cell_type": "code",
   "execution_count": null,
   "id": "9ebc15f7",
   "metadata": {},
   "outputs": [],
   "source": [
    "#7\n",
    "eco_exit_for_2_social = eco_exit[eco_exit['ent_social'] == 2.0]\n",
    "eco_exit_for_2_social_7 = eco_exit_for_1_social[eco_exit_for_1_social['exit_social'] ==7]\n",
    "social_2_7= (eco_exit_for_2_social_7['exit_social']).count()\n",
    "print(social_2_7)"
   ]
  },
  {
   "cell_type": "code",
   "execution_count": null,
   "id": "4fbc4a11",
   "metadata": {},
   "outputs": [],
   "source": [
    "#districts"
   ]
  },
  {
   "cell_type": "code",
   "execution_count": null,
   "id": "16a68355",
   "metadata": {},
   "outputs": [],
   "source": [
    "eco_exit_ET = eco_exit[eco_exit['district'] == 'ET']"
   ]
  },
  {
   "cell_type": "code",
   "execution_count": null,
   "id": "542bc564",
   "metadata": {},
   "outputs": [],
   "source": [
    "eco_exit_FT = eco_exit[eco_exit['district'] == 'FT']"
   ]
  },
  {
   "cell_type": "code",
   "execution_count": null,
   "id": "0b352ee7",
   "metadata": {},
   "outputs": [],
   "source": [
    "eco_exit_GN = eco_exit[eco_exit['district'] =='GN']"
   ]
  },
  {
   "cell_type": "code",
   "execution_count": null,
   "id": "b9f4f9fc",
   "metadata": {},
   "outputs": [],
   "source": [
    "eco_exit_MD = eco_exit[eco_exit['district'] =='MD']"
   ]
  },
  {
   "cell_type": "code",
   "execution_count": null,
   "id": "3d815114",
   "metadata": {},
   "outputs": [],
   "source": [
    "eco_exit_NW = eco_exit[eco_exit['district'] =='NW']"
   ]
  },
  {
   "cell_type": "code",
   "execution_count": null,
   "id": "26549527",
   "metadata": {},
   "outputs": [],
   "source": [
    "eco_exit_SC = eco_exit[eco_exit['district'] =='SC']"
   ]
  },
  {
   "cell_type": "code",
   "execution_count": null,
   "id": "7456d4d2",
   "metadata": {},
   "outputs": [],
   "source": [
    "#d1 AVG ENT"
   ]
  },
  {
   "cell_type": "code",
   "execution_count": null,
   "id": "d131cdc6",
   "metadata": {},
   "outputs": [],
   "source": [
    "eco_exit_ent_social = (eco_exit['ent_social']).mean()\n",
    "print(eco_exit_ent_social)"
   ]
  },
  {
   "cell_type": "code",
   "execution_count": null,
   "id": "068cc834",
   "metadata": {},
   "outputs": [],
   "source": [
    "eco_exit_ent_knowledge = (eco_exit['ent_knowledge']).mean()\n",
    "print(eco_exit_ent_knowledge)"
   ]
  },
  {
   "cell_type": "code",
   "execution_count": null,
   "id": "4b81c3a7",
   "metadata": {},
   "outputs": [],
   "source": [
    "eco_exit_ent_approp = (eco_exit['ent_approp_action']).mean()\n",
    "print(eco_exit_ent_approp)"
   ]
  },
  {
   "cell_type": "code",
   "execution_count": null,
   "id": "c7e855f8",
   "metadata": {},
   "outputs": [],
   "source": []
  }
 ],
 "metadata": {
  "kernelspec": {
   "display_name": "Python 3 (ipykernel)",
   "language": "python",
   "name": "python3"
  },
  "language_info": {
   "codemirror_mode": {
    "name": "ipython",
    "version": 3
   },
   "file_extension": ".py",
   "mimetype": "text/x-python",
   "name": "python",
   "nbconvert_exporter": "python",
   "pygments_lexer": "ipython3",
   "version": "3.9.12"
  }
 },
 "nbformat": 4,
 "nbformat_minor": 5
}
