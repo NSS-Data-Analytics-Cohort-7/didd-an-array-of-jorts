{
 "cells": [
  {
   "cell_type": "code",
   "execution_count": null,
   "id": "fa2b6ef8",
   "metadata": {},
   "outputs": [],
   "source": [
    "#import"
   ]
  },
  {
   "cell_type": "code",
   "execution_count": null,
   "id": "1868bbcf",
   "metadata": {},
   "outputs": [],
   "source": [
    "from pandasql import sqldf\n",
    "from sklearn import datasets\n",
    "import pandas as pd\n",
    "import numpy as np\n",
    "import matplotlib.pyplot as plt\n",
    "import seaborn as sns"
   ]
  },
  {
   "cell_type": "code",
   "execution_count": null,
   "id": "f35d2311",
   "metadata": {},
   "outputs": [],
   "source": [
    "#data"
   ]
  },
  {
   "cell_type": "code",
   "execution_count": null,
   "id": "25e598ff",
   "metadata": {},
   "outputs": [],
   "source": [
    "project_data = pd.read_excel('../data/TEIS-NSS Project Data 10-2022.xlsx', \n",
    "                             sheet_name=['ECO with Exit21-22', 'Elig Timeline Rpt 2018-2022'])\n",
    "\n",
    "eco_exit = project_data.get('ECO with Exit21-22')\n",
    "elig_timeline = project_data.get('Elig Timeline Rpt 2018-2022')\n",
    "print(eco_exit)\n",
    "print(elig_timeline)"
   ]
  },
  {
   "cell_type": "code",
   "execution_count": null,
   "id": "1fe81d8a",
   "metadata": {},
   "outputs": [],
   "source": [
    "#rename"
   ]
  },
  {
   "cell_type": "code",
   "execution_count": null,
   "id": "6c73a4fe",
   "metadata": {},
   "outputs": [],
   "source": [
    "eco_exit = eco_exit.rename(columns={'DISTRICT':'district',\n",
    "                                    'CHILD_ID':'child_id',\n",
    "                                    'ECO_Entry_DATE':'eco_entry_date',\n",
    "                                    'Ent SOCIAL_SCALE':'ent_social',\n",
    "                                    'Ent KNOWLEDGE_SCALE':'ent_knowledge',\n",
    "                                    'Ent APPROPRIATE_ACTION_SCALE':'ent_approp_action',\n",
    "                                    'ECO_Exit_DATE':'eco_exit_date',\n",
    "                                    'Exit SOCIAL_SCALE':'exit_social',\n",
    "                                    'Exit KNOWLEDGE_SCALE':'exit_knowledge',\n",
    "                                    'Exit APPROPRIATE_ACTION_SCALE':'exit_approp_action',\n",
    "                                    'Days btw I-IFSP to Exit ECO' :'DBIexit'})"
   ]
  },
  {
   "cell_type": "code",
   "execution_count": null,
   "id": "3934a4c4",
   "metadata": {},
   "outputs": [],
   "source": [
    "#ent_social = 3"
   ]
  },
  {
   "cell_type": "code",
   "execution_count": null,
   "id": "e09f1052",
   "metadata": {},
   "outputs": [],
   "source": [
    "eco_exit_1 = eco_exit[eco_exit['ent_social'] == 3.0]\n",
    "eco_exit_1 = eco_exit"
   ]
  },
  {
   "cell_type": "code",
   "execution_count": null,
   "id": "dc1e89a8",
   "metadata": {},
   "outputs": [],
   "source": [
    "#eco_exit1 iloc"
   ]
  },
  {
   "cell_type": "code",
   "execution_count": null,
   "id": "a38925e1",
   "metadata": {},
   "outputs": [],
   "source": [
    "eco_exit1 = eco_exit.iloc[[3,4,5,7,8,9]]\n",
    "print(eco_exit_1)"
   ]
  },
  {
   "cell_type": "code",
   "execution_count": null,
   "id": "db85a99c",
   "metadata": {},
   "outputs": [],
   "source": [
    "#eco_exit2"
   ]
  },
  {
   "cell_type": "code",
   "execution_count": null,
   "id": "27dfe004",
   "metadata": {},
   "outputs": [],
   "source": [
    "eco_exit_2 = eco_exit[eco_exit['ent_social'] == 3.0]\n",
    "eco_exit_2"
   ]
  },
  {
   "cell_type": "code",
   "execution_count": null,
   "id": "99ab6dca",
   "metadata": {},
   "outputs": [],
   "source": [
    "eco_exit_social = eco_exit[eco_exit['ent_social'] == 3.0]\n",
    "eco_exit_social"
   ]
  },
  {
   "cell_type": "code",
   "execution_count": null,
   "id": "dc0ddf00",
   "metadata": {},
   "outputs": [],
   "source": [
    "eco_exit_knowledge = eco_exit[eco_exit['ent_knowledge'] == 3.0]\n",
    "eco_exit_knowledge"
   ]
  },
  {
   "cell_type": "code",
   "execution_count": null,
   "id": "3e97ace8",
   "metadata": {},
   "outputs": [],
   "source": [
    "eco_exit_approp = eco_exit[eco_exit['ent_approp_action'] == 3.0]\n",
    "eco_exit_approp"
   ]
  },
  {
   "cell_type": "code",
   "execution_count": null,
   "id": "1af8071b",
   "metadata": {},
   "outputs": [],
   "source": [
    "# SQL AVG improvemnt social"
   ]
  },
  {
   "cell_type": "code",
   "execution_count": null,
   "id": "82140195",
   "metadata": {},
   "outputs": [],
   "source": [
    "sql2= 'SELECT AVG(exit_social - ent_social) as avg FROM eco_exit_2 WHERE ent_social = 3'\n",
    "sqldf(sql2, globals())"
   ]
  },
  {
   "cell_type": "code",
   "execution_count": null,
   "id": "dfb723e3",
   "metadata": {},
   "outputs": [],
   "source": [
    "# SQL AVG improvement knowledge"
   ]
  },
  {
   "cell_type": "code",
   "execution_count": null,
   "id": "64851c13",
   "metadata": {},
   "outputs": [],
   "source": [
    "sql2= 'SELECT AVG(exit_knowledge - ent_knowledge) as knowledge_increase FROM eco_exit_2 WHERE ent_social = 3'\n",
    "sqldf(sql2, globals())"
   ]
  },
  {
   "cell_type": "code",
   "execution_count": null,
   "id": "2acf2428",
   "metadata": {},
   "outputs": [],
   "source": [
    "#SQL AVG improvement approp_action"
   ]
  },
  {
   "cell_type": "code",
   "execution_count": null,
   "id": "428758c6",
   "metadata": {},
   "outputs": [],
   "source": [
    "sql2= 'SELECT AVG(exit_approp_action - ent_approp_action) as approp_action_increase FROM eco_exit_2 WHERE ent_social = 3'\n",
    "sqldf(sql2, globals())"
   ]
  },
  {
   "cell_type": "code",
   "execution_count": null,
   "id": "372a6bd8",
   "metadata": {},
   "outputs": [],
   "source": [
    "#python count social"
   ]
  },
  {
   "cell_type": "code",
   "execution_count": null,
   "id": "bb21fde6",
   "metadata": {},
   "outputs": [],
   "source": [
    "social=(eco_exit_2['exit_social'].mean()- eco_exit_2['ent_social'].mean())\n",
    "print(social)"
   ]
  },
  {
   "cell_type": "code",
   "execution_count": null,
   "id": "4bb7b06c",
   "metadata": {},
   "outputs": [],
   "source": [
    "# python AVG improvement knowledge"
   ]
  },
  {
   "cell_type": "code",
   "execution_count": null,
   "id": "f309202c",
   "metadata": {},
   "outputs": [],
   "source": [
    "knowledge=(eco_exit_2['exit_knowledge'].mean()- eco_exit_2['ent_knowledge'])\n",
    "knowledge.mean()"
   ]
  },
  {
   "cell_type": "code",
   "execution_count": null,
   "id": "3e39cc35",
   "metadata": {},
   "outputs": [],
   "source": [
    "# python AVG improvement approp_action"
   ]
  },
  {
   "cell_type": "code",
   "execution_count": null,
   "id": "b1c70409",
   "metadata": {},
   "outputs": [],
   "source": [
    "knowledge=(eco_exit_2['exit_approp_action'].mean()- eco_exit_2['ent_approp_action'])\n",
    "knowledge.mean()"
   ]
  },
  {
   "cell_type": "code",
   "execution_count": null,
   "id": "50c2b05e",
   "metadata": {},
   "outputs": [],
   "source": [
    "#percent change social SQL"
   ]
  },
  {
   "cell_type": "code",
   "execution_count": null,
   "id": "d4af8544",
   "metadata": {},
   "outputs": [],
   "source": [
    "avg_sql_1 = 'SELECT ((SUM(exit_social)-SUM(ent_social))/ SUM(ent_social))*100 as perc_change FROM eco_exit_2 WHERE ent_social IS NOT NULL'\n",
    "sqldf(avg_sql_1, globals())"
   ]
  },
  {
   "cell_type": "code",
   "execution_count": null,
   "id": "9845706a",
   "metadata": {},
   "outputs": [],
   "source": [
    "#percent change knowledge SQL"
   ]
  },
  {
   "cell_type": "code",
   "execution_count": null,
   "id": "aca72538",
   "metadata": {},
   "outputs": [],
   "source": [
    "avg_sql_2 = 'SELECT (((SUM(exit_knowledge)-SUM(ent_knowledge))/ SUM(ent_knowledge))*100) as perc_change FROM eco_exit_2 WHERE ent_social =3'\n",
    "sqldf(avg_sql_2, globals())"
   ]
  },
  {
   "cell_type": "code",
   "execution_count": null,
   "id": "b01f346d",
   "metadata": {},
   "outputs": [],
   "source": [
    "#percent change approp SQL"
   ]
  },
  {
   "cell_type": "code",
   "execution_count": null,
   "id": "cb18a79c",
   "metadata": {},
   "outputs": [],
   "source": [
    "avg_sql_1 = 'SELECT (((SUM(exit_approp_action)-SUM(ent_approp_action))/ SUM(ent_approp_action))*100) as perc_change FROM eco_exit_2 WHERE ent_social =3'\n",
    "sqldf(avg_sql_1, globals())"
   ]
  },
  {
   "cell_type": "code",
   "execution_count": null,
   "id": "4d802e5f",
   "metadata": {},
   "outputs": [],
   "source": [
    "#perent change social python"
   ]
  },
  {
   "cell_type": "code",
   "execution_count": null,
   "id": "d9996ece",
   "metadata": {},
   "outputs": [],
   "source": [
    "social_python =(((eco_exit_2['exit_social'].sum() - eco_exit_2['ent_social'].sum())/eco_exit_2['ent_social'].sum()*100))\n",
    "print(social_python)"
   ]
  },
  {
   "cell_type": "code",
   "execution_count": null,
   "id": "7ff17217",
   "metadata": {},
   "outputs": [],
   "source": [
    "#percent change knowledge python"
   ]
  },
  {
   "cell_type": "code",
   "execution_count": null,
   "id": "dcd21b4a",
   "metadata": {},
   "outputs": [],
   "source": [
    "knowledge_python =(((eco_exit_2['exit_knowledge'].sum() - eco_exit_2['ent_knowledge'].sum())/eco_exit_2['ent_knowledge'].sum()*100))\n",
    "print(knowledge_python)"
   ]
  },
  {
   "cell_type": "code",
   "execution_count": null,
   "id": "f914629c",
   "metadata": {},
   "outputs": [],
   "source": [
    "#percent change approp python"
   ]
  },
  {
   "cell_type": "code",
   "execution_count": null,
   "id": "3ce098ca",
   "metadata": {},
   "outputs": [],
   "source": [
    "approp_python= (((eco_exit_2['exit_approp_action'].sum() - eco_exit_2['ent_approp_action'].sum())/eco_exit_2['ent_approp_action'].sum()*100))\n",
    "print(approp_python)"
   ]
  },
  {
   "cell_type": "code",
   "execution_count": null,
   "id": "bf60e510",
   "metadata": {},
   "outputs": [],
   "source": [
    "social_days = eco_exit_social['DBIexit'].median()\n",
    "print(social_days)"
   ]
  },
  {
   "cell_type": "code",
   "execution_count": null,
   "id": "8107e0f7",
   "metadata": {},
   "outputs": [],
   "source": [
    "knowledge_days = eco_exit_knowledge['DBIexit'].median()\n",
    "print(knowledge_days)"
   ]
  },
  {
   "cell_type": "code",
   "execution_count": null,
   "id": "020c5b8e",
   "metadata": {},
   "outputs": [],
   "source": [
    "approp_days = eco_exit_knowledge['DBIexit'].median()\n",
    "print(approp_days)"
   ]
  },
  {
   "cell_type": "code",
   "execution_count": null,
   "id": "6279c609",
   "metadata": {},
   "outputs": [],
   "source": [
    "#median"
   ]
  },
  {
   "cell_type": "code",
   "execution_count": null,
   "id": "10cdd244",
   "metadata": {},
   "outputs": [],
   "source": [
    "median_days_social= eco_exit_2[['DBIexit', 'ent_social']].median()\n",
    "print(median_days_social)"
   ]
  },
  {
   "cell_type": "code",
   "execution_count": null,
   "id": "fab2c6c7",
   "metadata": {},
   "outputs": [],
   "source": [
    "social_median_days= median_days_social['DBIexit'].astype(int)\n",
    "print(social_median_days)"
   ]
  },
  {
   "cell_type": "code",
   "execution_count": null,
   "id": "9809daec",
   "metadata": {},
   "outputs": [],
   "source": [
    "median_days_knowledge = eco_exit_2['DBIexit'].median()\n",
    "print(median_days_knowledge)"
   ]
  },
  {
   "cell_type": "code",
   "execution_count": null,
   "id": "16d6173c",
   "metadata": {},
   "outputs": [],
   "source": [
    "median_days_approp = eco_exit_2['DBIexit'].median()\n",
    "print(median_days_knowledge)"
   ]
  },
  {
   "cell_type": "code",
   "execution_count": null,
   "id": "3fa58ce6",
   "metadata": {},
   "outputs": [],
   "source": [
    "#social increase sql"
   ]
  },
  {
   "cell_type": "code",
   "execution_count": null,
   "id": "426bc9a8",
   "metadata": {
    "scrolled": false
   },
   "outputs": [],
   "source": [
    "increasesocial = (('SELECT DBIexit FROM eco_exit_2 WHERE ent_social =3'))\n",
    "sqldf(increasesocial, globals())"
   ]
  },
  {
   "cell_type": "code",
   "execution_count": null,
   "id": "e7c022b1",
   "metadata": {},
   "outputs": [],
   "source": [
    "##DAYS SQL INCrEASE"
   ]
  },
  {
   "cell_type": "code",
   "execution_count": null,
   "id": "45973fce",
   "metadata": {},
   "outputs": [],
   "source": [
    "increasesocial = (('SELECT ent_knowledge, DBIexit FROM eco_exit_2 WHERE ent_knowledge =3'))\n",
    "sqldf(increasesocial, globals())"
   ]
  },
  {
   "cell_type": "code",
   "execution_count": null,
   "id": "7ce4eae2",
   "metadata": {},
   "outputs": [],
   "source": [
    "increasesocial.median()"
   ]
  },
  {
   "cell_type": "code",
   "execution_count": null,
   "id": "d21d2fd7",
   "metadata": {},
   "outputs": [],
   "source": [
    "increasesocial = (('SELECT ent_approp_action, DBIexit FROM eco_exit_2 WHERE ent_approp_action =3'))\n",
    "sqldf(increasesocial, globals())"
   ]
  },
  {
   "cell_type": "code",
   "execution_count": null,
   "id": "09f14ee2",
   "metadata": {},
   "outputs": [],
   "source": [
    "increase_approp= eco_exit_2[['ent_approp_action', 'DBIexit']]"
   ]
  },
  {
   "cell_type": "code",
   "execution_count": null,
   "id": "482d4f40",
   "metadata": {},
   "outputs": [],
   "source": [
    "increase_approp.median()"
   ]
  },
  {
   "cell_type": "code",
   "execution_count": null,
   "id": "9c9998f2",
   "metadata": {},
   "outputs": [],
   "source": [
    "total_increase = (social_python + knowledge_python + approp_python)/3\n",
    "print(total_increase)"
   ]
  },
  {
   "cell_type": "code",
   "execution_count": null,
   "id": "92568665",
   "metadata": {},
   "outputs": [],
   "source": [
    "lst = [3, social_days, knowledge_days, approp_days, social_python, knowledge_python, approp_python, median_days, total_increase]\n",
    "df= pd.DataFrame(lst, index =['3','social_days', 'knowledge_days', 'approp_days','social increase %', 'knowledge increase %', 'approp increase %', 'median_days', 'total_increase'])\n",
    "print(df)"
   ]
  },
  {
   "cell_type": "code",
   "execution_count": null,
   "id": "1b480cb9",
   "metadata": {},
   "outputs": [],
   "source": []
  }
 ],
 "metadata": {
  "kernelspec": {
   "display_name": "Python 3 (ipykernel)",
   "language": "python",
   "name": "python3"
  },
  "language_info": {
   "codemirror_mode": {
    "name": "ipython",
    "version": 3
   },
   "file_extension": ".py",
   "mimetype": "text/x-python",
   "name": "python",
   "nbconvert_exporter": "python",
   "pygments_lexer": "ipython3",
   "version": "3.9.12"
  }
 },
 "nbformat": 4,
 "nbformat_minor": 5
}
