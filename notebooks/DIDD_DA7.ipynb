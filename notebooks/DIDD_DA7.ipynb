{
 "cells": [
  {
   "cell_type": "markdown",
   "id": "ccdd34fb",
   "metadata": {},
   "source": [
    "### *Analysis Results*\n",
    "##### *Number with scores of 2*\n",
    "- Entrance Social Scale of '2' = 1,051\n",
    "- Exit Social Scale of '2' = 373\n",
    "- Entrance Knowledge Scale of '2' = 521\n",
    "- Exit Knowledge Scale of '2' = 373\n",
    "- Entrand Appropriate Action Scale of '2' = 721\n",
    "- Exit Appropriate Action Scale of '2' = 298\n",
    "##### *Avgs btwn '2.0-2.9'*\n",
    "- Avg Entry Score of '2.0-2.9' = 1,170\n",
    "- Avg Exit Score of '2.0-2.9' = 529\n",
    "##### *Total Averages*\n",
    "- TOTAL Ent SOCIAL_SCALE Average = 3.283167\n",
    "- TOTAL Ent KNOWLEDGE_SCALE Average = 3.609684\n",
    "- TOTAL Ent APPROPRIATE_ACTION_SCALE Average = 4.022723\n",
    "- TOTAL Exit SOCIAL_SCALE                4.795141\n",
    "- TOTAL Exit KNOWLEDGE_SCALE             4.251704\n",
    "- TOTAL Exit APPROPRIATE_ACTION_SCALE    5.289285\n",
    "##### *No Progress with score of 2 *\n",
    "- No Progress Social Scale = 152\n",
    "- No Progress Knowledge Scale = 91\n",
    "- No Progress Appropriate Action Scale = 104\n",
    "##### *Decrease in Progress*\n",
    "- Decrease Social Scale = 88\n",
    "- Decrease Knowledge Scale = 167\n",
    "- Decrease Appropriate Action Scale = 82\n",
    "##### *Increase in Progress*\n",
    "- Increase Social Scale = 811\n",
    "- Increase Knowledge Scale = 263\n",
    "- Increase Appropriate Action Scale = 535\n",
    "##### *Percentage of Change in scores of '2'*\n",
    "- No Progress\n",
    "    - Social = 14.46%\n",
    "    - Knowledge = 17.47%\n",
    "    - Appropriate Action = 14.42%\n",
    "- Increase Greater than 2\n",
    "    - Social = 77.16%\n",
    "    - Knowledge = 50.48%\n",
    "    - Appropriate Action = 74.22%\n",
    "- Decrease to 1 \n",
    "    - Social = 8.37%\n",
    "    - Knowledge = 32.05%\n",
    "    - Appropriate Action = 11.37%\n",
    "- Increase to 3\n",
    "    - Social = 20.17%\n",
    "    - Knowledge = 18.62%\n",
    "    - Appropriat Action = 10.68%\n",
    "- Increase to 4\n",
    "    - Social = 9.80%\n",
    "    - Knowledge = 7.68%\n",
    "    - Appropriate Action = 13.45%\n",
    "- Increase to 5\n",
    "    - Social = 12.46%\n",
    "    - Knowledge = 11.13%\n",
    "    - Appropriate Action = 7.77%\n",
    "- Increase to 6\n",
    "    - Social = 11.99%\n",
    "    - Knowledge = 4.99%\n",
    "    - Appropriate Action = 8.46%\n",
    "- Increase to 7\n",
    "    - Social = 22.74%\n",
    "    - Knowledge = 8.06%\n",
    "    - Appropriate Action = 33.84%\n",
    "- Median Days in Program\n",
    "    - Overall with entry of 2\n",
    "        - Social = 490\n",
    "        - Knowledge = 335\n",
    "        - Appropriate Action = 523\n",
    "    - Increased to 3\n",
    "        - Social = 327\n",
    "        - Knowledge = 193\n",
    "        - Appropriate Action = 187\n",
    "    - Increased to 4\n",
    "        - Social = 359\n",
    "        - Knowledge = 190.5\n",
    "        - Appropriate Action = 349\n",
    "    - Increased to 5\n",
    "        - Social = 360\n",
    "        - Knowledge = 334.5\n",
    "        - Appropriate Action = 356\n",
    "    - Increased to 6\n",
    "        - Social = 690\n",
    "        - Knowledge = 368.5\n",
    "        - Appropriate Action = 673\n",
    "    - Increased to 7\n",
    "        - Social = 721\n",
    "        - Knowledge = 724.5\n",
    "        - Appropriate Action = 695\n",
    "    - Decrease to 1\n",
    "        - Social = 388.5\n",
    "        - Knowledge = 349\n",
    "        - Appropriate Action = 425\n",
    "    - No Progress\n",
    "        - Social = 226.5\n",
    "        - Knowledge = 180\n",
    "        - Appropriate Action = 184.5"
   ]
  },
  {
   "cell_type": "markdown",
   "id": "4abfa42d",
   "metadata": {},
   "source": [
    "#### Overall increase\n",
    "- Entry score of 2\n",
    "- Social,  77.16% increase, 490 days\n",
    "- Knowledge, 50.48% increase, 335 days\n",
    "- Approp. Action, 74.22% increase, 523 days\n",
    "#### Overall no change\n",
    "- Entry Score of 2\n",
    "- Social, 14.46% no change, 226.5 days\n",
    "- Knowledge, 17.47% no change, 180 days\n",
    "- Approp. Action, 14.42% no change, 184.5 days\n",
    "#### Overall decrease\n",
    "- Entry score of 2\n",
    "- Social, 8.37% decrease, 388.5 days\n",
    "- Knowledge, 32.05% decrease, 349 days\n",
    "- Approp. Action, 11.37% decrease, 425 days\n"
   ]
  },
  {
   "cell_type": "code",
   "execution_count": null,
   "id": "73e5f443",
   "metadata": {},
   "outputs": [],
   "source": [
    "import pandas as pd\n",
    "import matplotlib.pyplot as plt\n",
    "import seaborn as sns"
   ]
  },
  {
   "cell_type": "code",
   "execution_count": null,
   "id": "beb25fc3",
   "metadata": {},
   "outputs": [],
   "source": [
    "project_data = pd.read_excel('../data/TEIS-NSS Project Data 10-2022.xlsx', sheet_name=['ECO with Exit21-22', 'Elig Timeline Rpt 2018-2022'])"
   ]
  },
  {
   "cell_type": "code",
   "execution_count": null,
   "id": "f62ae6ff",
   "metadata": {},
   "outputs": [],
   "source": [
    "eco_exit = project_data.get('ECO with Exit21-22')\n",
    "elig_timeline = project_data.get('Elig Timeline Rpt 2018-2022')\n",
    "print(eco_exit)\n",
    "print(elig_timeline)"
   ]
  },
  {
   "cell_type": "code",
   "execution_count": null,
   "id": "9f33d078",
   "metadata": {},
   "outputs": [],
   "source": [
    "eco_exit.head()"
   ]
  },
  {
   "cell_type": "code",
   "execution_count": null,
   "id": "3285fe0a",
   "metadata": {},
   "outputs": [],
   "source": [
    "for columnName in eco_exit:\n",
    "    print(columnName)"
   ]
  },
  {
   "cell_type": "code",
   "execution_count": null,
   "id": "52a6f85c",
   "metadata": {},
   "outputs": [],
   "source": [
    "eco_exit = eco_exit[['DISTRICT', 'CHILD_ID', 'ECO_Entry_DATE', 'Ent SOCIAL_SCALE', 'Ent KNOWLEDGE_SCALE', 'Ent APPROPRIATE_ACTION_SCALE', 'ECO_Exit_DATE', 'Exit SOCIAL_SCALE', 'Exit KNOWLEDGE_SCALE', 'Exit APPROPRIATE_ACTION_SCALE', 'Days btw I-IFSP to Exit ECO']]\n",
    "eco_exit"
   ]
  },
  {
   "cell_type": "markdown",
   "id": "be00bed9",
   "metadata": {},
   "source": [
    "### 530  with an Entry-Social-Scale of \"2\""
   ]
  },
  {
   "cell_type": "code",
   "execution_count": null,
   "id": "9f90bee3",
   "metadata": {
    "scrolled": true
   },
   "outputs": [],
   "source": [
    "entss=eco_exit.loc[eco_exit['Ent SOCIAL_SCALE']== 2]"
   ]
  },
  {
   "cell_type": "code",
   "execution_count": null,
   "id": "ca75720b",
   "metadata": {},
   "outputs": [],
   "source": [
    "exitss=eco_exit.loc[eco_exit['Exit SOCIAL_SCALE']== 2]"
   ]
  },
  {
   "cell_type": "code",
   "execution_count": null,
   "id": "6b97668a",
   "metadata": {},
   "outputs": [],
   "source": [
    "entks=eco_exit.loc[eco_exit['Ent KNOWLEDGE_SCALE']== 2]"
   ]
  },
  {
   "cell_type": "code",
   "execution_count": null,
   "id": "0b36659b",
   "metadata": {},
   "outputs": [],
   "source": [
    "exitks=eco_exit.loc[eco_exit['Exit KNOWLEDGE_SCALE']== 2]"
   ]
  },
  {
   "cell_type": "code",
   "execution_count": null,
   "id": "e36bd18a",
   "metadata": {},
   "outputs": [],
   "source": [
    "entaa=eco_exit.loc[eco_exit['Ent APPROPRIATE_ACTION_SCALE']== 2]"
   ]
  },
  {
   "cell_type": "code",
   "execution_count": null,
   "id": "dc64909d",
   "metadata": {
    "scrolled": true
   },
   "outputs": [],
   "source": [
    "exitaa=eco_exit.loc[eco_exit['Exit APPROPRIATE_ACTION_SCALE']== 2]"
   ]
  },
  {
   "cell_type": "code",
   "execution_count": null,
   "id": "4717cf89",
   "metadata": {},
   "outputs": [],
   "source": [
    "avg_ent_rows=['Ent SOCIAL_SCALE', 'Ent KNOWLEDGE_SCALE', 'Ent APPROPRIATE_ACTION_SCALE']\n",
    "avg_ent_rows2=eco_exit[avg_ent_rows].mean(axis=1)\n",
    "\n",
    "eco_exit.insert(loc=6,column='Avg_Entry_Score',value=avg_ent_rows2)\n",
    "print(eco_exit)"
   ]
  },
  {
   "cell_type": "code",
   "execution_count": null,
   "id": "5ea9b6dc",
   "metadata": {},
   "outputs": [],
   "source": [
    "avg_ext_rows=['Exit SOCIAL_SCALE', 'Exit KNOWLEDGE_SCALE', 'Exit APPROPRIATE_ACTION_SCALE']\n",
    "avg_ext_rows2=eco_exit[avg_ext_rows].mean(axis=1)\n",
    "\n",
    "eco_exit.insert(loc=10,column='Avg_Exit_Score',value=avg_ext_rows2)\n",
    "print(eco_exit)"
   ]
  },
  {
   "cell_type": "code",
   "execution_count": null,
   "id": "66caf213",
   "metadata": {},
   "outputs": [],
   "source": [
    "avg_ent_cols=['Ent SOCIAL_SCALE', 'Ent KNOWLEDGE_SCALE', 'Ent APPROPRIATE_ACTION_SCALE']\n",
    "eco_exit[avg_ent_cols].mean(axis=0)"
   ]
  },
  {
   "cell_type": "code",
   "execution_count": null,
   "id": "1b1587fc",
   "metadata": {},
   "outputs": [],
   "source": [
    "avg_ext_cols=['Exit SOCIAL_SCALE', 'Exit KNOWLEDGE_SCALE', 'Exit APPROPRIATE_ACTION_SCALE']\n",
    "eco_exit[avg_ext_cols].mean(axis=0)"
   ]
  },
  {
   "cell_type": "code",
   "execution_count": null,
   "id": "f4bb267c",
   "metadata": {},
   "outputs": [],
   "source": [
    "eco_exit"
   ]
  },
  {
   "cell_type": "code",
   "execution_count": null,
   "id": "950281d6",
   "metadata": {},
   "outputs": [],
   "source": [
    "eco_exit = eco_exit[['DISTRICT', 'CHILD_ID', 'ECO_Entry_DATE', 'Ent SOCIAL_SCALE', 'Ent KNOWLEDGE_SCALE', 'Ent APPROPRIATE_ACTION_SCALE', 'ECO_Exit_DATE', 'Exit SOCIAL_SCALE', 'Exit KNOWLEDGE_SCALE', 'Exit APPROPRIATE_ACTION_SCALE', 'Avg_Entry_Score', 'Avg_Exit_Score', 'Days btw I-IFSP to Exit ECO']]"
   ]
  },
  {
   "cell_type": "code",
   "execution_count": null,
   "id": "97670f57",
   "metadata": {},
   "outputs": [],
   "source": [
    "eco_exit"
   ]
  },
  {
   "cell_type": "code",
   "execution_count": null,
   "id": "d69fadd2",
   "metadata": {},
   "outputs": [],
   "source": [
    "eco_exit.loc[eco_exit['Avg_Entry_Score'].between(2.0,2.9)]"
   ]
  },
  {
   "cell_type": "code",
   "execution_count": null,
   "id": "437e2815",
   "metadata": {},
   "outputs": [],
   "source": [
    "eco_exit.loc[eco_exit['Avg_Exit_Score'].between(2.0,2.9)]"
   ]
  },
  {
   "cell_type": "code",
   "execution_count": null,
   "id": "163ccd46",
   "metadata": {},
   "outputs": [],
   "source": [
    "no_progress_social=eco_exit[(eco_exit['Ent SOCIAL_SCALE']==2) & (eco_exit['Exit SOCIAL_SCALE']==2)]\n",
    "no_progress_know=eco_exit[(eco_exit['Ent KNOWLEDGE_SCALE']==2) & (eco_exit['Exit KNOWLEDGE_SCALE']==2)]\n",
    "no_progress_aa=eco_exit[(eco_exit['Ent APPROPRIATE_ACTION_SCALE']==2) & (eco_exit['Exit APPROPRIATE_ACTION_SCALE']==2)]"
   ]
  },
  {
   "cell_type": "code",
   "execution_count": null,
   "id": "1880f5bb",
   "metadata": {},
   "outputs": [],
   "source": [
    "no_progress_social.head"
   ]
  },
  {
   "cell_type": "code",
   "execution_count": null,
   "id": "412acb90",
   "metadata": {},
   "outputs": [],
   "source": [
    "no_progress_know.head"
   ]
  },
  {
   "cell_type": "code",
   "execution_count": null,
   "id": "b344ac4b",
   "metadata": {},
   "outputs": [],
   "source": [
    "no_progress_aa.head"
   ]
  },
  {
   "cell_type": "code",
   "execution_count": null,
   "id": "3ce1b062",
   "metadata": {},
   "outputs": [],
   "source": [
    "decrease_social=eco_exit[(eco_exit['Ent SOCIAL_SCALE']==2) & (eco_exit['Exit SOCIAL_SCALE']<2)]\n",
    "decrease_know=eco_exit[(eco_exit['Ent KNOWLEDGE_SCALE']==2) & (eco_exit['Exit KNOWLEDGE_SCALE']<2)]\n",
    "decrease_aa=eco_exit[(eco_exit['Ent APPROPRIATE_ACTION_SCALE']==2) & (eco_exit['Exit APPROPRIATE_ACTION_SCALE']<2)]"
   ]
  },
  {
   "cell_type": "code",
   "execution_count": null,
   "id": "84dc222a",
   "metadata": {},
   "outputs": [],
   "source": [
    "decrease_social.head"
   ]
  },
  {
   "cell_type": "code",
   "execution_count": null,
   "id": "a2daa3ed",
   "metadata": {},
   "outputs": [],
   "source": [
    "decrease_know.head"
   ]
  },
  {
   "cell_type": "code",
   "execution_count": null,
   "id": "f54e6d06",
   "metadata": {},
   "outputs": [],
   "source": [
    "decrease_aa.head"
   ]
  },
  {
   "cell_type": "code",
   "execution_count": null,
   "id": "b133cda4",
   "metadata": {},
   "outputs": [],
   "source": [
    "increase_social=eco_exit[(eco_exit['Ent SOCIAL_SCALE']==2) & (eco_exit['Exit SOCIAL_SCALE']>2)]\n",
    "increase_know=eco_exit[(eco_exit['Ent KNOWLEDGE_SCALE']==2) & (eco_exit['Exit KNOWLEDGE_SCALE']>2)]\n",
    "increase_aa=eco_exit[(eco_exit['Ent APPROPRIATE_ACTION_SCALE']==2) & (eco_exit['Exit APPROPRIATE_ACTION_SCALE']>2)]"
   ]
  },
  {
   "cell_type": "code",
   "execution_count": null,
   "id": "23fd1915",
   "metadata": {},
   "outputs": [],
   "source": [
    "increase_social.head"
   ]
  },
  {
   "cell_type": "code",
   "execution_count": null,
   "id": "537ffc27",
   "metadata": {},
   "outputs": [],
   "source": [
    "increase_know.head"
   ]
  },
  {
   "cell_type": "code",
   "execution_count": null,
   "id": "88c1dfb5",
   "metadata": {},
   "outputs": [],
   "source": [
    "increase_aa.head"
   ]
  },
  {
   "cell_type": "code",
   "execution_count": null,
   "id": "64f799f9",
   "metadata": {},
   "outputs": [],
   "source": [
    "print(no_progress_social['Ent SOCIAL_SCALE'].count()/entss['Ent SOCIAL_SCALE'].count()*100)\n",
    "print(no_progress_know['Ent SOCIAL_SCALE'].count()/entks['Ent SOCIAL_SCALE'].count()*100)\n",
    "print(no_progress_aa['Ent SOCIAL_SCALE'].count()/entaa['Ent SOCIAL_SCALE'].count()*100)"
   ]
  },
  {
   "cell_type": "code",
   "execution_count": null,
   "id": "59594028",
   "metadata": {},
   "outputs": [],
   "source": [
    "print(decrease_social['Ent SOCIAL_SCALE'].count()/entss['Ent SOCIAL_SCALE'].count()*100)\n",
    "print(decrease_know['Ent SOCIAL_SCALE'].count()/entks['Ent SOCIAL_SCALE'].count()*100)\n",
    "print(decrease_aa['Ent SOCIAL_SCALE'].count()/entaa['Ent SOCIAL_SCALE'].count()*100)"
   ]
  },
  {
   "cell_type": "code",
   "execution_count": null,
   "id": "e468444d",
   "metadata": {},
   "outputs": [],
   "source": [
    "print(increase_social['Ent SOCIAL_SCALE'].count()/entss['Ent SOCIAL_SCALE'].count()*100)\n",
    "print(increase_know['Ent SOCIAL_SCALE'].count()/entks['Ent SOCIAL_SCALE'].count()*100)\n",
    "print(increase_aa['Ent SOCIAL_SCALE'].count()/entaa['Ent SOCIAL_SCALE'].count()*100)"
   ]
  },
  {
   "cell_type": "markdown",
   "id": "6b594c64",
   "metadata": {},
   "source": [
    "## Increase from 2 to 3.."
   ]
  },
  {
   "cell_type": "code",
   "execution_count": null,
   "id": "cc8c8ec2",
   "metadata": {},
   "outputs": [],
   "source": [
    "increase_social_3=eco_exit[(eco_exit['Ent SOCIAL_SCALE']==2) & (eco_exit['Exit SOCIAL_SCALE'] ==3)]\n",
    "increase_know_3=eco_exit[(eco_exit['Ent KNOWLEDGE_SCALE']==2) & (eco_exit['Exit KNOWLEDGE_SCALE']==3)]\n",
    "increase_aa_3=eco_exit[(eco_exit['Ent APPROPRIATE_ACTION_SCALE']==2) & (eco_exit['Exit APPROPRIATE_ACTION_SCALE']==3)]"
   ]
  },
  {
   "cell_type": "code",
   "execution_count": null,
   "id": "a93fd951",
   "metadata": {},
   "outputs": [],
   "source": [
    "is3=increase_social_3['Ent SOCIAL_SCALE'].count()/entss['Ent SOCIAL_SCALE'].count()*100\n",
    "ik3=increase_know_3['Ent SOCIAL_SCALE'].count()/entks['Ent SOCIAL_SCALE'].count()*100\n",
    "ia3=increase_aa_3['Ent SOCIAL_SCALE'].count()/entaa['Ent SOCIAL_SCALE'].count()*100\n",
    "print(is3)\n",
    "print(ik3)\n",
    "print(ia3)"
   ]
  },
  {
   "cell_type": "markdown",
   "id": "543bf823",
   "metadata": {},
   "source": [
    "## Increase from 2 to 4.."
   ]
  },
  {
   "cell_type": "code",
   "execution_count": null,
   "id": "c437e9f2",
   "metadata": {},
   "outputs": [],
   "source": [
    "increase_social_4=eco_exit[(eco_exit['Ent SOCIAL_SCALE']==2) & (eco_exit['Exit SOCIAL_SCALE'] ==4)]\n",
    "increase_know_4=eco_exit[(eco_exit['Ent KNOWLEDGE_SCALE']==2) & (eco_exit['Exit KNOWLEDGE_SCALE']==4)]\n",
    "increase_aa_4=eco_exit[(eco_exit['Ent APPROPRIATE_ACTION_SCALE']==2) & (eco_exit['Exit APPROPRIATE_ACTION_SCALE']==4)]\n",
    "is4=increase_social_4['Ent SOCIAL_SCALE'].count()/entss['Ent SOCIAL_SCALE'].count()*100\n",
    "ik4=increase_know_4['Ent SOCIAL_SCALE'].count()/entks['Ent SOCIAL_SCALE'].count()*100\n",
    "ia4=increase_aa_4['Ent SOCIAL_SCALE'].count()/entaa['Ent SOCIAL_SCALE'].count()*100\n",
    "print(is4)\n",
    "print(ik4)\n",
    "print(ia4)"
   ]
  },
  {
   "cell_type": "markdown",
   "id": "4f54cd7f",
   "metadata": {},
   "source": [
    "## Increase from 2 to 5.."
   ]
  },
  {
   "cell_type": "code",
   "execution_count": null,
   "id": "768b35e0",
   "metadata": {},
   "outputs": [],
   "source": [
    "increase_social_5=eco_exit[(eco_exit['Ent SOCIAL_SCALE']==2) & (eco_exit['Exit SOCIAL_SCALE'] ==5)]\n",
    "increase_know_5=eco_exit[(eco_exit['Ent KNOWLEDGE_SCALE']==2) & (eco_exit['Exit KNOWLEDGE_SCALE']==5)]\n",
    "increase_aa_5=eco_exit[(eco_exit['Ent APPROPRIATE_ACTION_SCALE']==2) & (eco_exit['Exit APPROPRIATE_ACTION_SCALE']==5)]\n",
    "is5=increase_social_5['Ent SOCIAL_SCALE'].count()/entss['Ent SOCIAL_SCALE'].count()*100\n",
    "ik5=increase_know_5['Ent SOCIAL_SCALE'].count()/entks['Ent SOCIAL_SCALE'].count()*100\n",
    "ia5=increase_aa_5['Ent SOCIAL_SCALE'].count()/entaa['Ent SOCIAL_SCALE'].count()*100\n",
    "print(is5)\n",
    "print(ik5)\n",
    "print(ia5)"
   ]
  },
  {
   "cell_type": "markdown",
   "id": "66da40d9",
   "metadata": {},
   "source": [
    "## Increase from 2 to 6.."
   ]
  },
  {
   "cell_type": "code",
   "execution_count": null,
   "id": "7627332d",
   "metadata": {},
   "outputs": [],
   "source": [
    "increase_social_6=eco_exit[(eco_exit['Ent SOCIAL_SCALE']==2) & (eco_exit['Exit SOCIAL_SCALE'] ==6)]\n",
    "increase_know_6=eco_exit[(eco_exit['Ent KNOWLEDGE_SCALE']==2) & (eco_exit['Exit KNOWLEDGE_SCALE']==6)]\n",
    "increase_aa_6=eco_exit[(eco_exit['Ent APPROPRIATE_ACTION_SCALE']==2) & (eco_exit['Exit APPROPRIATE_ACTION_SCALE']==6)]\n",
    "is6=increase_social_6['Ent SOCIAL_SCALE'].count()/entss['Ent SOCIAL_SCALE'].count()*100\n",
    "ik6=increase_know_6['Ent SOCIAL_SCALE'].count()/entks['Ent SOCIAL_SCALE'].count()*100\n",
    "ia6=increase_aa_6['Ent SOCIAL_SCALE'].count()/entaa['Ent SOCIAL_SCALE'].count()*100\n",
    "print(is6)\n",
    "print(ik6)\n",
    "print(ia6)"
   ]
  },
  {
   "cell_type": "markdown",
   "id": "9cd6fea6",
   "metadata": {},
   "source": [
    "## Increase from 2 to 7.."
   ]
  },
  {
   "cell_type": "code",
   "execution_count": null,
   "id": "cf7da48b",
   "metadata": {},
   "outputs": [],
   "source": [
    "increase_social_7=eco_exit[(eco_exit['Ent SOCIAL_SCALE']==2) & (eco_exit['Exit SOCIAL_SCALE'] ==7)]\n",
    "increase_know_7=eco_exit[(eco_exit['Ent KNOWLEDGE_SCALE']==2) & (eco_exit['Exit KNOWLEDGE_SCALE']==7)]\n",
    "increase_aa_7=eco_exit[(eco_exit['Ent APPROPRIATE_ACTION_SCALE']==2) & (eco_exit['Exit APPROPRIATE_ACTION_SCALE']==7)]\n",
    "is7=increase_social_7['Ent SOCIAL_SCALE'].count()/entss['Ent SOCIAL_SCALE'].count()*100\n",
    "ik7=increase_know_7['Ent SOCIAL_SCALE'].count()/entks['Ent SOCIAL_SCALE'].count()*100\n",
    "ia7=increase_aa_7['Ent SOCIAL_SCALE'].count()/entaa['Ent SOCIAL_SCALE'].count()*100\n",
    "print(is7)\n",
    "print(ik7)\n",
    "print(ia7)"
   ]
  },
  {
   "cell_type": "markdown",
   "id": "90e03a7e",
   "metadata": {},
   "source": [
    "## Decrease from 2 to 1.."
   ]
  },
  {
   "cell_type": "code",
   "execution_count": null,
   "id": "897c116a",
   "metadata": {},
   "outputs": [],
   "source": [
    "decrease_social_1=eco_exit[(eco_exit['Ent SOCIAL_SCALE']==2) & (eco_exit['Exit SOCIAL_SCALE']==1)]\n",
    "decrease_know_1=eco_exit[(eco_exit['Ent KNOWLEDGE_SCALE']==2) & (eco_exit['Exit KNOWLEDGE_SCALE']==1)]\n",
    "decrease_aa_1=eco_exit[(eco_exit['Ent APPROPRIATE_ACTION_SCALE']==2) & (eco_exit['Exit APPROPRIATE_ACTION_SCALE']==1)]\n",
    "print(decrease_social_1['Ent SOCIAL_SCALE'].count()/entss['Ent SOCIAL_SCALE'].count()*100)\n",
    "print(decrease_know_1['Ent SOCIAL_SCALE'].count()/entks['Ent SOCIAL_SCALE'].count()*100)\n",
    "print(decrease_aa_1['Ent SOCIAL_SCALE'].count()/entaa['Ent SOCIAL_SCALE'].count()*100)\n"
   ]
  },
  {
   "cell_type": "markdown",
   "id": "ea7a5985",
   "metadata": {},
   "source": [
    "## Plot shows many outliers that could affect average number of \n",
    "## days in program. Will use median in place of mean..."
   ]
  },
  {
   "cell_type": "code",
   "execution_count": null,
   "id": "bff2b822",
   "metadata": {},
   "outputs": [],
   "source": [
    "increase_social.plot(kind='scatter',x='CHILD_ID', y='Days btw I-IFSP to Exit ECO')"
   ]
  },
  {
   "cell_type": "code",
   "execution_count": null,
   "id": "533e428b",
   "metadata": {},
   "outputs": [],
   "source": [
    "increase_social['Days btw I-IFSP to Exit ECO'].median()"
   ]
  },
  {
   "cell_type": "code",
   "execution_count": null,
   "id": "768cd167",
   "metadata": {},
   "outputs": [],
   "source": [
    "increase_know['Days btw I-IFSP to Exit ECO'].median()"
   ]
  },
  {
   "cell_type": "code",
   "execution_count": null,
   "id": "26b7641d",
   "metadata": {},
   "outputs": [],
   "source": [
    "increase_aa['Days btw I-IFSP to Exit ECO'].median()"
   ]
  },
  {
   "cell_type": "code",
   "execution_count": null,
   "id": "90f83e99",
   "metadata": {},
   "outputs": [],
   "source": [
    "print(increase_social_3['Days btw I-IFSP to Exit ECO'].median())\n",
    "print(increase_know_3['Days btw I-IFSP to Exit ECO'].median())\n",
    "print(increase_aa_3['Days btw I-IFSP to Exit ECO'].median())"
   ]
  },
  {
   "cell_type": "code",
   "execution_count": null,
   "id": "6177cf6d",
   "metadata": {},
   "outputs": [],
   "source": [
    "print(increase_social_4['Days btw I-IFSP to Exit ECO'].median())\n",
    "print(increase_know_4['Days btw I-IFSP to Exit ECO'].median())\n",
    "print(increase_aa_4['Days btw I-IFSP to Exit ECO'].median())"
   ]
  },
  {
   "cell_type": "code",
   "execution_count": null,
   "id": "1f8a2fe4",
   "metadata": {},
   "outputs": [],
   "source": [
    "print(increase_social_5['Days btw I-IFSP to Exit ECO'].median())\n",
    "print(increase_know_5['Days btw I-IFSP to Exit ECO'].median())\n",
    "print(increase_aa_5['Days btw I-IFSP to Exit ECO'].median())"
   ]
  },
  {
   "cell_type": "code",
   "execution_count": null,
   "id": "797282a5",
   "metadata": {},
   "outputs": [],
   "source": [
    "print(increase_social_6['Days btw I-IFSP to Exit ECO'].median())\n",
    "print(increase_know_6['Days btw I-IFSP to Exit ECO'].median())\n",
    "print(increase_aa_6['Days btw I-IFSP to Exit ECO'].median())"
   ]
  },
  {
   "cell_type": "code",
   "execution_count": null,
   "id": "f78f34bd",
   "metadata": {},
   "outputs": [],
   "source": [
    "print(increase_social_7['Days btw I-IFSP to Exit ECO'].median())\n",
    "print(increase_know_7['Days btw I-IFSP to Exit ECO'].median())\n",
    "print(increase_aa_7['Days btw I-IFSP to Exit ECO'].median())"
   ]
  },
  {
   "cell_type": "code",
   "execution_count": null,
   "id": "adb36b02",
   "metadata": {},
   "outputs": [],
   "source": [
    "print(decrease_social_1['Days btw I-IFSP to Exit ECO'].median())\n",
    "print(decrease_know_1['Days btw I-IFSP to Exit ECO'].median())\n",
    "print(decrease_aa_1['Days btw I-IFSP to Exit ECO'].median())"
   ]
  },
  {
   "cell_type": "code",
   "execution_count": null,
   "id": "5feb9095",
   "metadata": {},
   "outputs": [],
   "source": [
    "eco_exit['Days btw I-IFSP to Exit ECO'].median()"
   ]
  },
  {
   "cell_type": "code",
   "execution_count": null,
   "id": "9187d033",
   "metadata": {},
   "outputs": [],
   "source": [
    "increase_social_3.plot(kind='hist',x='DISTRICT', y='Days btw I-IFSP to Exit ECO')"
   ]
  },
  {
   "cell_type": "code",
   "execution_count": null,
   "id": "2ebb4f14",
   "metadata": {},
   "outputs": [],
   "source": [
    "increase_social_4.plot(kind='hist',x='DISTRICT', y='Days btw I-IFSP to Exit ECO')"
   ]
  },
  {
   "cell_type": "code",
   "execution_count": null,
   "id": "d626d40e",
   "metadata": {},
   "outputs": [],
   "source": [
    "increase_social_5.plot(kind='hist',x='DISTRICT', y='Days btw I-IFSP to Exit ECO')"
   ]
  },
  {
   "cell_type": "code",
   "execution_count": null,
   "id": "f077ed5d",
   "metadata": {},
   "outputs": [],
   "source": [
    "no_progress_social['Days btw I-IFSP to Exit ECO'].median()"
   ]
  },
  {
   "cell_type": "code",
   "execution_count": null,
   "id": "0d5fda56",
   "metadata": {},
   "outputs": [],
   "source": [
    "no_progress_know['Days btw I-IFSP to Exit ECO'].median()"
   ]
  },
  {
   "cell_type": "code",
   "execution_count": null,
   "id": "446ae5c6",
   "metadata": {},
   "outputs": [],
   "source": [
    "no_progress_aa['Days btw I-IFSP to Exit ECO'].median()"
   ]
  },
  {
   "cell_type": "code",
   "execution_count": null,
   "id": "8bd06127",
   "metadata": {},
   "outputs": [],
   "source": []
  }
 ],
 "metadata": {
  "kernelspec": {
   "display_name": "Python 3 (ipykernel)",
   "language": "python",
   "name": "python3"
  },
  "language_info": {
   "codemirror_mode": {
    "name": "ipython",
    "version": 3
   },
   "file_extension": ".py",
   "mimetype": "text/x-python",
   "name": "python",
   "nbconvert_exporter": "python",
   "pygments_lexer": "ipython3",
   "version": "3.9.12"
  }
 },
 "nbformat": 4,
 "nbformat_minor": 5
}
