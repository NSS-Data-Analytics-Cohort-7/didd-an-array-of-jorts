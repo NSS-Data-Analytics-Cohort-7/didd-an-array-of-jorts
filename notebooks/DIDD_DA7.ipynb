{
 "cells": [
  {
   "cell_type": "markdown",
   "id": "bcb8ab1a",
   "metadata": {},
   "source": [
    "### *Analysis Results*\n",
    "##### *Number with scores of 2*\n",
    "- Entrance Social Scale of '2' = 1,051\n",
    "- Exit Social Scale of '2' = 373\n",
    "- Entrance Knowledge Scale of '2' = 521\n",
    "- Exit Knowledge Scale of '2' = 373\n",
    "- Entrand Appropriate Action Scale of '2' = 721\n",
    "- Exit Appropriate Action Scale of '2' = 298\n",
    "##### *Avgs btwn '2.0-2.9'*\n",
    "- Avg Entry Score of '2.0-2.9' = 1,170\n",
    "- Avg Exit Score of '2.0-2.9' = 529\n",
    "##### *Total Averages*\n",
    "- TOTAL Ent SOCIAL_SCALE Average = 3.283167\n",
    "- TOTAL Ent KNOWLEDGE_SCALE Average = 3.609684\n",
    "- TOTAL Ent APPROPRIATE_ACTION_SCALE Average = 4.022723\n",
    "- TOTAL Exit SOCIAL_SCALE                4.795141\n",
    "- TOTAL Exit KNOWLEDGE_SCALE             4.251704\n",
    "- TOTAL Exit APPROPRIATE_ACTION_SCALE    5.289285\n",
    "##### *No Progress with score of 2 *\n",
    "- No Progress Social Scale = 152\n",
    "- No Progress Knowledge Scale = 91\n",
    "- No Progress Appropriate Action Scale = 104\n",
    "##### *Decrease in Progress*\n",
    "- Decrease Social Scale = 88\n",
    "- Decrease Knowledge Scale = 167\n",
    "- Decrease Appropriate Action Scale = 82\n",
    "##### *Increase in Progress*\n",
    "- Increase Social Scale = 811\n",
    "- Increase Knowledge Scale = 263\n",
    "- Increase Appropriate Action Scale = 535\n",
    "##### *Percentage of Change in scores of '2'*\n",
    "- No Progress\n",
    "    - Social = 14.46%\n",
    "    - Knowledge = 17.47%\n",
    "    - Appropriate Action = 14.42%\n",
    "- Increase\n",
    "    - Social = 77.16%\n",
    "    - Knowledge = 50.48%\n",
    "    - Appropriate Action = 74.22%\n",
    "- Decrease \n",
    "    - Social = 8.37%\n",
    "    - Knowledge = 32.05%\n",
    "    - Appropriate Action = 11.37%"
   ]
  },
  {
   "cell_type": "code",
   "execution_count": null,
   "id": "1f46a979",
   "metadata": {},
   "outputs": [],
   "source": [
    "import pandas as pd\n",
    "import matplotlib.pyplot as plt\n",
    "import seaborn as sns"
   ]
  },
  {
   "cell_type": "code",
   "execution_count": null,
   "id": "ad0c8639",
   "metadata": {},
   "outputs": [],
   "source": [
    "project_data = pd.read_excel('../data/TEIS-NSS Project Data 10-2022.xlsx', sheet_name=['ECO with Exit21-22', 'Elig Timeline Rpt 2018-2022'])"
   ]
  },
  {
   "cell_type": "code",
   "execution_count": null,
   "id": "9997b6de",
   "metadata": {},
   "outputs": [],
   "source": [
    "eco_exit = project_data.get('ECO with Exit21-22')\n",
    "elig_timeline = project_data.get('Elig Timeline Rpt 2018-2022')\n",
    "print(eco_exit)\n",
    "print(elig_timeline)"
   ]
  },
  {
   "cell_type": "code",
   "execution_count": null,
   "id": "d314b95d",
   "metadata": {},
   "outputs": [],
   "source": [
    "eco_exit.head()"
   ]
  },
  {
   "cell_type": "code",
   "execution_count": null,
   "id": "faea1bb4",
   "metadata": {},
   "outputs": [],
   "source": [
    "for columnName in eco_exit:\n",
    "    print(columnName)"
   ]
  },
  {
   "cell_type": "code",
   "execution_count": null,
   "id": "97721862",
   "metadata": {},
   "outputs": [],
   "source": [
    "eco_exit = eco_exit[['DISTRICT', 'CHILD_ID', 'ECO_Entry_DATE', 'Ent SOCIAL_SCALE', 'Ent KNOWLEDGE_SCALE', 'Ent APPROPRIATE_ACTION_SCALE', 'ECO_Exit_DATE', 'Exit SOCIAL_SCALE', 'Exit KNOWLEDGE_SCALE', 'Exit APPROPRIATE_ACTION_SCALE', 'Days btw I-IFSP to Exit ECO']]\n",
    "eco_exit"
   ]
  },
  {
   "cell_type": "markdown",
   "id": "5f2d957e",
   "metadata": {},
   "source": [
    "### 530  with an Entry-Social-Scale of \"2\""
   ]
  },
  {
   "cell_type": "code",
   "execution_count": null,
   "id": "6f665b4a",
   "metadata": {
    "scrolled": true
   },
   "outputs": [],
   "source": [
    "entss=eco_exit.loc[eco_exit['Ent SOCIAL_SCALE']== 2]"
   ]
  },
  {
   "cell_type": "code",
   "execution_count": null,
   "id": "8c0c8f2c",
   "metadata": {},
   "outputs": [],
   "source": [
    "exitss=eco_exit.loc[eco_exit['Exit SOCIAL_SCALE']== 2]"
   ]
  },
  {
   "cell_type": "code",
   "execution_count": null,
   "id": "879180ff",
   "metadata": {},
   "outputs": [],
   "source": [
    "entks=eco_exit.loc[eco_exit['Ent KNOWLEDGE_SCALE']== 2]"
   ]
  },
  {
   "cell_type": "code",
   "execution_count": null,
   "id": "a960b0d3",
   "metadata": {},
   "outputs": [],
   "source": [
    "exitks=eco_exit.loc[eco_exit['Exit KNOWLEDGE_SCALE']== 2]"
   ]
  },
  {
   "cell_type": "code",
   "execution_count": null,
   "id": "9633ae97",
   "metadata": {},
   "outputs": [],
   "source": [
    "entaa=eco_exit.loc[eco_exit['Ent APPROPRIATE_ACTION_SCALE']== 2]"
   ]
  },
  {
   "cell_type": "code",
   "execution_count": null,
   "id": "695b04d3",
   "metadata": {
    "scrolled": true
   },
   "outputs": [],
   "source": [
    "exitaa=eco_exit.loc[eco_exit['Exit APPROPRIATE_ACTION_SCALE']== 2]"
   ]
  },
  {
   "cell_type": "code",
   "execution_count": null,
   "id": "c632e157",
   "metadata": {},
   "outputs": [],
   "source": [
    "avg_ent_rows=['Ent SOCIAL_SCALE', 'Ent KNOWLEDGE_SCALE', 'Ent APPROPRIATE_ACTION_SCALE']\n",
    "avg_ent_rows2=eco_exit[avg_ent_rows].mean(axis=1)\n",
    "\n",
    "eco_exit.insert(loc=6,column='Avg_Entry_Score',value=avg_ent_rows2)\n",
    "print(eco_exit)"
   ]
  },
  {
   "cell_type": "code",
   "execution_count": null,
   "id": "a8b92843",
   "metadata": {},
   "outputs": [],
   "source": [
    "avg_ext_rows=['Exit SOCIAL_SCALE', 'Exit KNOWLEDGE_SCALE', 'Exit APPROPRIATE_ACTION_SCALE']\n",
    "avg_ext_rows2=eco_exit[avg_ext_rows].mean(axis=1)\n",
    "\n",
    "eco_exit.insert(loc=10,column='Avg_Exit_Score',value=avg_ext_rows2)\n",
    "print(eco_exit)"
   ]
  },
  {
   "cell_type": "code",
   "execution_count": null,
   "id": "04b98d0c",
   "metadata": {},
   "outputs": [],
   "source": [
    "avg_ent_cols=['Ent SOCIAL_SCALE', 'Ent KNOWLEDGE_SCALE', 'Ent APPROPRIATE_ACTION_SCALE']\n",
    "eco_exit[avg_ent_cols].mean(axis=0)"
   ]
  },
  {
   "cell_type": "code",
   "execution_count": null,
   "id": "976a8365",
   "metadata": {},
   "outputs": [],
   "source": [
    "avg_ext_cols=['Exit SOCIAL_SCALE', 'Exit KNOWLEDGE_SCALE', 'Exit APPROPRIATE_ACTION_SCALE']\n",
    "eco_exit[avg_ext_cols].mean(axis=0)"
   ]
  },
  {
   "cell_type": "code",
   "execution_count": null,
   "id": "6da77276",
   "metadata": {},
   "outputs": [],
   "source": [
    "eco_exit"
   ]
  },
  {
   "cell_type": "code",
   "execution_count": null,
   "id": "d8973f4b",
   "metadata": {},
   "outputs": [],
   "source": [
    "eco_exit = eco_exit[['DISTRICT', 'CHILD_ID', 'ECO_Entry_DATE', 'Ent SOCIAL_SCALE', 'Ent KNOWLEDGE_SCALE', 'Ent APPROPRIATE_ACTION_SCALE', 'ECO_Exit_DATE', 'Exit SOCIAL_SCALE', 'Exit KNOWLEDGE_SCALE', 'Exit APPROPRIATE_ACTION_SCALE', 'Avg_Entry_Score', 'Avg_Exit_Score', 'Days btw I-IFSP to Exit ECO']]"
   ]
  },
  {
   "cell_type": "code",
   "execution_count": null,
   "id": "74f7f1ef",
   "metadata": {},
   "outputs": [],
   "source": [
    "eco_exit"
   ]
  },
  {
   "cell_type": "code",
   "execution_count": null,
   "id": "9d3201de",
   "metadata": {},
   "outputs": [],
   "source": [
    "eco_exit.loc[eco_exit['Avg_Entry_Score'].between(2.0,2.9)]"
   ]
  },
  {
   "cell_type": "code",
   "execution_count": null,
   "id": "319779d3",
   "metadata": {},
   "outputs": [],
   "source": [
    "eco_exit.loc[eco_exit['Avg_Exit_Score'].between(2.0,2.9)]"
   ]
  },
  {
   "cell_type": "code",
   "execution_count": null,
   "id": "f6f06c83",
   "metadata": {},
   "outputs": [],
   "source": [
    "no_progress_social=eco_exit[(eco_exit['Ent SOCIAL_SCALE']==2) & (eco_exit['Exit SOCIAL_SCALE']==2)]\n",
    "no_progress_know=eco_exit[(eco_exit['Ent KNOWLEDGE_SCALE']==2) & (eco_exit['Exit KNOWLEDGE_SCALE']==2)]\n",
    "no_progress_aa=eco_exit[(eco_exit['Ent APPROPRIATE_ACTION_SCALE']==2) & (eco_exit['Exit APPROPRIATE_ACTION_SCALE']==2)]"
   ]
  },
  {
   "cell_type": "code",
   "execution_count": null,
   "id": "da18553b",
   "metadata": {},
   "outputs": [],
   "source": [
    "no_progress_social.head"
   ]
  },
  {
   "cell_type": "code",
   "execution_count": null,
   "id": "7ac6c02f",
   "metadata": {},
   "outputs": [],
   "source": [
    "no_progress_know.head"
   ]
  },
  {
   "cell_type": "code",
   "execution_count": null,
   "id": "03d30ed7",
   "metadata": {},
   "outputs": [],
   "source": [
    "no_progress_aa.head"
   ]
  },
  {
   "cell_type": "code",
   "execution_count": null,
   "id": "6c2a0b04",
   "metadata": {},
   "outputs": [],
   "source": [
    "decrease_social=eco_exit[(eco_exit['Ent SOCIAL_SCALE']==2) & (eco_exit['Exit SOCIAL_SCALE']<2)]\n",
    "decrease_know=eco_exit[(eco_exit['Ent KNOWLEDGE_SCALE']==2) & (eco_exit['Exit KNOWLEDGE_SCALE']<2)]\n",
    "decrease_aa=eco_exit[(eco_exit['Ent APPROPRIATE_ACTION_SCALE']==2) & (eco_exit['Exit APPROPRIATE_ACTION_SCALE']<2)]"
   ]
  },
  {
   "cell_type": "code",
   "execution_count": null,
   "id": "0d2a44e4",
   "metadata": {},
   "outputs": [],
   "source": [
    "decrease_social.head"
   ]
  },
  {
   "cell_type": "code",
   "execution_count": null,
   "id": "2b9dad75",
   "metadata": {},
   "outputs": [],
   "source": [
    "decrease_know.head"
   ]
  },
  {
   "cell_type": "code",
   "execution_count": null,
   "id": "f3ef27eb",
   "metadata": {},
   "outputs": [],
   "source": [
    "decrease_aa.head"
   ]
  },
  {
   "cell_type": "code",
   "execution_count": null,
   "id": "e13bfa2c",
   "metadata": {},
   "outputs": [],
   "source": [
    "increase_social=eco_exit[(eco_exit['Ent SOCIAL_SCALE']==2) & (eco_exit['Exit SOCIAL_SCALE']>2)]\n",
    "increase_know=eco_exit[(eco_exit['Ent KNOWLEDGE_SCALE']==2) & (eco_exit['Exit KNOWLEDGE_SCALE']>2)]\n",
    "increase_aa=eco_exit[(eco_exit['Ent APPROPRIATE_ACTION_SCALE']==2) & (eco_exit['Exit APPROPRIATE_ACTION_SCALE']>2)]"
   ]
  },
  {
   "cell_type": "code",
   "execution_count": null,
   "id": "8900378e",
   "metadata": {},
   "outputs": [],
   "source": [
    "increase_social.head"
   ]
  },
  {
   "cell_type": "code",
   "execution_count": null,
   "id": "23e8e289",
   "metadata": {},
   "outputs": [],
   "source": [
    "increase_know.head"
   ]
  },
  {
   "cell_type": "code",
   "execution_count": null,
   "id": "c6089723",
   "metadata": {},
   "outputs": [],
   "source": [
    "increase_aa.head"
   ]
  },
  {
   "cell_type": "code",
   "execution_count": null,
   "id": "df625f51",
   "metadata": {},
   "outputs": [],
   "source": [
    "print(no_progress_social['Ent SOCIAL_SCALE'].count()/entss['Ent SOCIAL_SCALE'].count()*100)\n",
    "print(no_progress_know['Ent SOCIAL_SCALE'].count()/entks['Ent SOCIAL_SCALE'].count()*100)\n",
    "print(no_progress_aa['Ent SOCIAL_SCALE'].count()/entaa['Ent SOCIAL_SCALE'].count()*100)"
   ]
  },
  {
   "cell_type": "code",
   "execution_count": null,
   "id": "5a5f1c3d",
   "metadata": {},
   "outputs": [],
   "source": [
    "print(decrease_social['Ent SOCIAL_SCALE'].count()/entss['Ent SOCIAL_SCALE'].count()*100)\n",
    "print(decrease_know['Ent SOCIAL_SCALE'].count()/entks['Ent SOCIAL_SCALE'].count()*100)\n",
    "print(decrease_aa['Ent SOCIAL_SCALE'].count()/entaa['Ent SOCIAL_SCALE'].count()*100)"
   ]
  },
  {
   "cell_type": "code",
   "execution_count": null,
   "id": "dcb88651",
   "metadata": {},
   "outputs": [],
   "source": [
    "print(increase_social['Ent SOCIAL_SCALE'].count()/entss['Ent SOCIAL_SCALE'].count()*100)\n",
    "print(increase_know['Ent SOCIAL_SCALE'].count()/entks['Ent SOCIAL_SCALE'].count()*100)\n",
    "print(increase_aa['Ent SOCIAL_SCALE'].count()/entaa['Ent SOCIAL_SCALE'].count()*100)"
   ]
  },
  {
   "cell_type": "code",
   "execution_count": null,
   "id": "ff3f2d95",
   "metadata": {},
   "outputs": [],
   "source": []
  }
 ],
 "metadata": {
  "kernelspec": {
   "display_name": "Python 3 (ipykernel)",
   "language": "python",
   "name": "python3"
  },
  "language_info": {
   "codemirror_mode": {
    "name": "ipython",
    "version": 3
   },
   "file_extension": ".py",
   "mimetype": "text/x-python",
   "name": "python",
   "nbconvert_exporter": "python",
   "pygments_lexer": "ipython3",
   "version": "3.9.12"
  }
 },
 "nbformat": 4,
 "nbformat_minor": 5
}
