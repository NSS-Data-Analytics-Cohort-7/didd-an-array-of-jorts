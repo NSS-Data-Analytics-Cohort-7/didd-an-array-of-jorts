{
 "cells": [
  {
   "cell_type": "markdown",
   "id": "25c441a6",
   "metadata": {},
   "source": [
    "##### *Analysis Results*\n",
    "- Entrance Social Scale of '2' = 1051\n",
    "- Exit Social Scale of '2' = 373\n",
    "- Entrance Knowledge Scale of '2' = 521\n",
    "- Exit Knowledge Scale of '2' = 373\n",
    "- Entrand Appropriate Action Scale of '2' = 721\n",
    "- Exit Appropriate Action Scale of '2' = 298\n",
    "- TOTAL Ent SOCIAL_SCALE Average = 3.283167\n",
    "- TOTAL Ent KNOWLEDGE_SCALE Average = 3.609684\n",
    "- TOTAL Ent APPROPRIATE_ACTION_SCALE Average = 4.022723\n",
    "- TOTAL Exit SOCIAL_SCALE                4.795141\n",
    "- TOTAL Exit KNOWLEDGE_SCALE             4.251704\n",
    "- TOTAL Exit APPROPRIATE_ACTION_SCALE    5.289285"
   ]
  },
  {
   "cell_type": "code",
   "execution_count": null,
   "id": "50db0adf",
   "metadata": {},
   "outputs": [],
   "source": [
    "import pandas as pd\n",
    "import matplotlib.pyplot as plt\n",
    "import seaborn as sns"
   ]
  },
  {
   "cell_type": "code",
   "execution_count": null,
   "id": "ad989a25",
   "metadata": {},
   "outputs": [],
   "source": [
    "project_data = pd.read_excel('../data/TEIS-NSS Project Data 10-2022.xlsx', sheet_name=['ECO with Exit21-22', 'Elig Timeline Rpt 2018-2022'])"
   ]
  },
  {
   "cell_type": "code",
   "execution_count": null,
   "id": "4ccfdcc6",
   "metadata": {},
   "outputs": [],
   "source": [
    "eco_exit = project_data.get('ECO with Exit21-22')\n",
    "elig_timeline = project_data.get('Elig Timeline Rpt 2018-2022')\n",
    "print(eco_exit)\n",
    "print(elig_timeline)"
   ]
  },
  {
   "cell_type": "code",
   "execution_count": null,
   "id": "8c85fc29",
   "metadata": {},
   "outputs": [],
   "source": [
    "eco_exit.head()"
   ]
  },
  {
   "cell_type": "code",
   "execution_count": null,
   "id": "1bb9dda7",
   "metadata": {},
   "outputs": [],
   "source": [
    "for columnName in eco_exit:\n",
    "    print(columnName)"
   ]
  },
  {
   "cell_type": "code",
   "execution_count": null,
   "id": "0de19b03",
   "metadata": {},
   "outputs": [],
   "source": [
    "eco_exit = eco_exit[['DISTRICT', 'CHILD_ID', 'ECO_Entry_DATE', 'Ent SOCIAL_SCALE', 'Ent KNOWLEDGE_SCALE', 'Ent APPROPRIATE_ACTION_SCALE', 'ECO_Exit_DATE', 'Exit SOCIAL_SCALE', 'Exit KNOWLEDGE_SCALE', 'Exit APPROPRIATE_ACTION_SCALE', 'Days btw I-IFSP to Exit ECO']]\n",
    "eco_exit"
   ]
  },
  {
   "cell_type": "markdown",
   "id": "7c9e50eb",
   "metadata": {},
   "source": [
    "### 530  with an Entry-Social-Scale of \"2\""
   ]
  },
  {
   "cell_type": "code",
   "execution_count": null,
   "id": "52ae996d",
   "metadata": {
    "scrolled": true
   },
   "outputs": [],
   "source": [
    "eco_exit.loc[eco_exit['Ent SOCIAL_SCALE']== 2]"
   ]
  },
  {
   "cell_type": "code",
   "execution_count": null,
   "id": "30c49864",
   "metadata": {},
   "outputs": [],
   "source": [
    "eco_exit.loc[eco_exit['Exit KNOWLEDGE_SCALE']== 2]"
   ]
  },
  {
   "cell_type": "code",
   "execution_count": null,
   "id": "4374e008",
   "metadata": {},
   "outputs": [],
   "source": [
    "eco_exit.loc[eco_exit['Ent KNOWLEDGE_SCALE']== 2]"
   ]
  },
  {
   "cell_type": "code",
   "execution_count": null,
   "id": "51e0d05e",
   "metadata": {},
   "outputs": [],
   "source": [
    "eco_exit.loc[eco_exit['Exit KNOWLEDGE_SCALE']== 2]"
   ]
  },
  {
   "cell_type": "code",
   "execution_count": null,
   "id": "180d54b8",
   "metadata": {},
   "outputs": [],
   "source": [
    "eco_exit.loc[eco_exit['Ent APPROPRIATE_ACTION_SCALE']== 2]"
   ]
  },
  {
   "cell_type": "code",
   "execution_count": null,
   "id": "f4ad2cc3",
   "metadata": {
    "scrolled": true
   },
   "outputs": [],
   "source": [
    "eco_exit.loc[eco_exit['Exit APPROPRIATE_ACTION_SCALE']== 2]"
   ]
  },
  {
   "cell_type": "code",
   "execution_count": null,
   "id": "9deb3726",
   "metadata": {},
   "outputs": [],
   "source": [
    "ent_cols=['Ent SOCIAL_SCALE', 'Ent KNOWLEDGE_SCALE', 'Ent APPROPRIATE_ACTION_SCALE']\n",
    "eco_exit[ent_cols].mean()"
   ]
  },
  {
   "cell_type": "code",
   "execution_count": null,
   "id": "a64d8f05",
   "metadata": {},
   "outputs": [],
   "source": [
    "ext_cols=['Exit SOCIAL_SCALE', 'Exit KNOWLEDGE_SCALE', 'Exit APPROPRIATE_ACTION_SCALE']\n",
    "eco_exit[ext_cols].mean()"
   ]
  },
  {
   "cell_type": "code",
   "execution_count": null,
   "id": "339b9590",
   "metadata": {},
   "outputs": [],
   "source": []
  }
 ],
 "metadata": {
  "kernelspec": {
   "display_name": "Python 3 (ipykernel)",
   "language": "python",
   "name": "python3"
  },
  "language_info": {
   "codemirror_mode": {
    "name": "ipython",
    "version": 3
   },
   "file_extension": ".py",
   "mimetype": "text/x-python",
   "name": "python",
   "nbconvert_exporter": "python",
   "pygments_lexer": "ipython3",
   "version": "3.9.12"
  }
 },
 "nbformat": 4,
 "nbformat_minor": 5
}
