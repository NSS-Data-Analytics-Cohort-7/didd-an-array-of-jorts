{
 "cells": [
  {
   "cell_type": "markdown",
   "id": "ccdd34fb",
   "metadata": {},
   "source": [
    "### *Analysis Results*\n",
    "##### *Number with scores of 2*\n",
    "- Entrance Social Scale of '2' = 1,051\n",
    "- Exit Social Scale of '2' = 373\n",
    "- Entrance Knowledge Scale of '2' = 521\n",
    "- Exit Knowledge Scale of '2' = 373\n",
    "- Entrand Appropriate Action Scale of '2' = 721\n",
    "- Exit Appropriate Action Scale of '2' = 298\n",
    "##### *Avgs btwn '2.0-2.9'*\n",
    "- Avg Entry Score of '2.0-2.9' = 1,170\n",
    "- Avg Exit Score of '2.0-2.9' = 529\n",
    "##### *Total Averages*\n",
    "- TOTAL Ent SOCIAL_SCALE Average = 3.283167\n",
    "- TOTAL Ent KNOWLEDGE_SCALE Average = 3.609684\n",
    "- TOTAL Ent APPROPRIATE_ACTION_SCALE Average = 4.022723\n",
    "- TOTAL Exit SOCIAL_SCALE                4.795141\n",
    "- TOTAL Exit KNOWLEDGE_SCALE             4.251704\n",
    "- TOTAL Exit APPROPRIATE_ACTION_SCALE    5.289285\n",
    "##### *No Progress with score of 2 *\n",
    "- No Progress Social Scale = 152\n",
    "- No Progress Knowledge Scale = 91\n",
    "- No Progress Appropriate Action Scale = 104\n",
    "##### *Decrease in Progress*\n",
    "- Decrease Social Scale = 88\n",
    "- Decrease Knowledge Scale = 167\n",
    "- Decrease Appropriate Action Scale = 82\n",
    "##### *Increase in Progress*\n",
    "- Increase Social Scale = 811\n",
    "- Increase Knowledge Scale = 263\n",
    "- Increase Appropriate Action Scale = 535\n",
    "##### *Percentage of Change in scores of '2'*\n",
    "- No Progress\n",
    "    - Social = 14.46%\n",
    "    - Knowledge = 17.47%\n",
    "    - Appropriate Action = 14.42%\n",
    "- Increase Greater than 2\n",
    "    - Social = 77.16%\n",
    "    - Knowledge = 50.48%\n",
    "    - Appropriate Action = 74.22%\n",
    "- Decrease to 1 \n",
    "    - Social = 8.37%\n",
    "    - Knowledge = 32.05%\n",
    "    - Appropriate Action = 11.37%\n",
    "- Increase to 3\n",
    "    - Social = 20.17%\n",
    "    - Knowledge = 18.62%\n",
    "    - Appropriat Action = 10.68%\n",
    "- Increase to 4\n",
    "    - Social = 9.80%\n",
    "    - Knowledge = 7.68%\n",
    "    - Appropriate Action = 13.45%\n",
    "- Increase to 5\n",
    "    - Social = 12.46%\n",
    "    - Knowledge = 11.13%\n",
    "    - Appropriate Action = 7.77%\n",
    "- Increase to 6\n",
    "    - Social = 11.99%\n",
    "    - Knowledge = 4.99%\n",
    "    - Appropriate Action = 8.46%\n",
    "- Increase to 7\n",
    "    - Social = 22.74%\n",
    "    - Knowledge = 8.06%\n",
    "    - Appropriate Action = 33.84%\n",
    "- Median Days in Program\n",
    "    - Overall with entry of 2\n",
    "        - Social = 490\n",
    "        - Knowledge = 335\n",
    "        - Appropriate Action = 523\n",
    "    - Increased to 3\n",
    "        - Social = 327\n",
    "        - Knowledge = 193\n",
    "        - Appropriate Action = 187\n",
    "    - Increased to 4\n",
    "        - Social = 359\n",
    "        - Knowledge = 190.5\n",
    "        - Appropriate Action = 349\n",
    "    - Increased to 5\n",
    "        - Social = 360\n",
    "        - Knowledge = 334.5\n",
    "        - Appropriate Action = 356\n",
    "    - Increased to 6\n",
    "        - Social = 690\n",
    "        - Knowledge = 368.5\n",
    "        - Appropriate Action = 673\n",
    "    - Increased to 7\n",
    "        - Social = 721\n",
    "        - Knowledge = 724.5\n",
    "        - Appropriate Action = 695\n",
    "    - Decrease to 1\n",
    "        - Social = 388.5\n",
    "        - Knowledge = 349\n",
    "        - Appropriate Action = 425\n",
    "    - No Progress\n",
    "        - Social = 226.5\n",
    "        - Knowledge = 180\n",
    "        - Appropriate Action = 184.5"
   ]
  },
  {
   "cell_type": "markdown",
   "id": "7510f239",
   "metadata": {},
   "source": [
    "#### Overall increase\n",
    "- Entry score of 2\n",
    "- Social,  77.16% increase, 490 days\n",
    "- Knowledge, 50.48% increase, 335 days\n",
    "- Approp. Action, 74.22% increase, 523 days\n",
    "#### Overall no change\n",
    "- Entry Score of 2\n",
    "- Social, 14.46% no change, 226.5 days\n",
    "- Knowledge, 17.47% no change, 180 days\n",
    "- Approp. Action, 14.42% no change, 184.5 days\n",
    "#### Overall decrease\n",
    "- Entry score of 2\n",
    "- Social, 8.37% decrease, 388.5 days\n",
    "- Knowledge, 32.05% decrease, 349 days\n",
    "- Approp. Action, 11.37% decrease, 425 days\n"
   ]
  },
  {
   "cell_type": "code",
   "execution_count": 1,
   "id": "73e5f443",
   "metadata": {},
   "outputs": [],
   "source": [
    "import pandas as pd\n",
    "import matplotlib.pyplot as plt\n",
    "import seaborn as sns\n",
    "import numpy as np"
   ]
  },
  {
   "cell_type": "code",
   "execution_count": 2,
   "id": "beb25fc3",
   "metadata": {},
   "outputs": [],
   "source": [
    "project_data = pd.read_excel('../data/TEIS-NSS Project Data 10-2022.xlsx', sheet_name=['ECO with Exit21-22', 'Elig Timeline Rpt 2018-2022'])"
   ]
  },
  {
   "cell_type": "code",
   "execution_count": 3,
   "id": "f62ae6ff",
   "metadata": {},
   "outputs": [
    {
     "name": "stdout",
     "output_type": "stream",
     "text": [
      "                                               DISTRICT  CHILD_ID  \\\n",
      "0                                                    ET  500335.0   \n",
      "1                                                    ET  479453.0   \n",
      "2                                                    ET  510663.0   \n",
      "3                                                    ET  452482.0   \n",
      "4                                                    ET  506507.0   \n",
      "...                                                 ...       ...   \n",
      "8631                                                 UC  514216.0   \n",
      "8632                                                NaN       NaN   \n",
      "8633                                                NaN       NaN   \n",
      "8634                                                NaN       NaN   \n",
      "8635  9/29/22 JM Corrected in TEIDS. Progress would ...       NaN   \n",
      "\n",
      "     ECO_Entry_DATE  Ent SOCIAL_SCALE  Ent KNOWLEDGE_SCALE  \\\n",
      "0        2021-04-23               5.0                  3.0   \n",
      "1        2020-03-23               7.0                  7.0   \n",
      "2               NaT               NaN                  NaN   \n",
      "3        2019-01-31               2.0                  3.0   \n",
      "4               NaT               NaN                  NaN   \n",
      "...             ...               ...                  ...   \n",
      "8631            NaT               NaN                  NaN   \n",
      "8632            NaT               NaN                  NaN   \n",
      "8633            NaT               NaN                  NaN   \n",
      "8634            NaT               NaN                  NaN   \n",
      "8635            NaT               NaN                  NaN   \n",
      "\n",
      "      Ent APPROPRIATE_ACTION_SCALE ECO_Exit_DATE  Exit SOCIAL_SCALE  \\\n",
      "0                              4.0    2021-10-23                6.0   \n",
      "1                              7.0    2021-08-19                7.0   \n",
      "2                              NaN           NaT                NaN   \n",
      "3                              3.0    2021-11-22                5.0   \n",
      "4                              NaN           NaT                NaN   \n",
      "...                            ...           ...                ...   \n",
      "8631                           NaN           NaT                NaN   \n",
      "8632                           NaN           NaT                NaN   \n",
      "8633                           NaN           NaT                NaN   \n",
      "8634                           NaN           NaT                NaN   \n",
      "8635                           NaN           NaT                NaN   \n",
      "\n",
      "      Exit KNOWLEDGE_SCALE  Exit APPROPRIATE_ACTION_SCALE  ... OC2 Data Check  \\\n",
      "0                      3.0                            4.0  ...            1.0   \n",
      "1                      7.0                            7.0  ...            1.0   \n",
      "2                      NaN                            NaN  ...            0.0   \n",
      "3                      3.0                            5.0  ...            1.0   \n",
      "4                      NaN                            NaN  ...            0.0   \n",
      "...                    ...                            ...  ...            ...   \n",
      "8631                   NaN                            NaN  ...            0.0   \n",
      "8632                   NaN                            NaN  ...            NaN   \n",
      "8633                   NaN                            NaN  ...            NaN   \n",
      "8634                   NaN                            NaN  ...            NaN   \n",
      "8635                   NaN                            NaN  ...            NaN   \n",
      "\n",
      "     OC3 - a OC3 - b OC3 - c OC3 - d OC3 - e OC3 Data Check  \\\n",
      "0        NaN     1.0     NaN     NaN     NaN            1.0   \n",
      "1        NaN     NaN     NaN     NaN     1.0            1.0   \n",
      "2        NaN     NaN     NaN     NaN     NaN            0.0   \n",
      "3        NaN     NaN     1.0     NaN     NaN            1.0   \n",
      "4        NaN     NaN     NaN     NaN     NaN            0.0   \n",
      "...      ...     ...     ...     ...     ...            ...   \n",
      "8631     NaN     NaN     NaN     NaN     NaN            0.0   \n",
      "8632     NaN     NaN     NaN     NaN     NaN            NaN   \n",
      "8633     NaN     NaN     NaN     NaN     NaN            NaN   \n",
      "8634     NaN     NaN     NaN     NaN     NaN            NaN   \n",
      "8635     NaN     NaN     NaN     NaN     NaN            NaN   \n",
      "\n",
      "      Days btw Initial and Exit  Days btw I-IFSP to Exit ECO  \\\n",
      "0                         206.0                        183.0   \n",
      "1                         704.0                        514.0   \n",
      "2                         115.0                     -44483.0   \n",
      "3                        1053.0                       1026.0   \n",
      "4                         159.0                     -44434.0   \n",
      "...                         ...                          ...   \n",
      "8631                       65.0                     -44537.0   \n",
      "8632                        NaN                          NaN   \n",
      "8633                        NaN                          NaN   \n",
      "8634                        NaN                          NaN   \n",
      "8635                        NaN                          NaN   \n",
      "\n",
      "      Days btw I-IFSP to entry ECO  \n",
      "0                              0.0  \n",
      "1                              0.0  \n",
      "2                         -44483.0  \n",
      "3                              0.0  \n",
      "4                         -44434.0  \n",
      "...                            ...  \n",
      "8631                      -44537.0  \n",
      "8632                           NaN  \n",
      "8633                           NaN  \n",
      "8634                           NaN  \n",
      "8635                           NaN  \n",
      "\n",
      "[8636 rows x 60 columns]\n",
      "      District  Child ID Child Status  Child Phase Init. IFSP Due Date  \\\n",
      "0           ET    453926     Inactive         IFSP          2019-03-04   \n",
      "1           ET    431729     Inactive         IFSP          2018-10-26   \n",
      "2           ET    462474     Inactive         IFSP          2019-06-28   \n",
      "3           ET    446841     Inactive  Eligibility          2018-11-23   \n",
      "4           ET    459629     Inactive         IFSP          2019-05-16   \n",
      "...        ...       ...          ...          ...                 ...   \n",
      "67605       UC    509553     Inactive         IFSP          2021-10-03   \n",
      "67606       UC    509684     Inactive         IFSP          2021-10-07   \n",
      "67607       UC    526338     Inactive         IFSP          2022-05-22   \n",
      "67608       UC    511641     Inactive  Eligibility          2021-11-22   \n",
      "67609       UC    519977     Inactive         IFSP          2022-03-07   \n",
      "\n",
      "      IFSP Due Date IFSP Late Reason Active Ref. Date  \\\n",
      "0        2019-03-27           System       2019-01-18   \n",
      "1        2018-10-26              NaN       2018-09-11   \n",
      "2        2019-06-14              NaN       2019-05-14   \n",
      "3               NaT              NaN       2018-10-09   \n",
      "4        2019-04-24              NaN       2019-04-01   \n",
      "...             ...              ...              ...   \n",
      "67605    2021-10-22           System       2021-08-19   \n",
      "67606    2021-09-07              NaN       2021-08-23   \n",
      "67607    2022-05-05              NaN       2022-04-07   \n",
      "67608           NaT              NaN       2021-10-08   \n",
      "67609    2022-02-03              NaN       2022-01-21   \n",
      "\n",
      "      Parent Consent/Intake Date Date Dev. Evaluator Rec'd. Ref.  ...  \\\n",
      "0                     2019-02-04             2019-01-22 00:00:00  ...   \n",
      "1                     2018-09-25             2018-09-12 00:00:00  ...   \n",
      "2                     2019-05-30             2019-05-15 00:00:00  ...   \n",
      "3                     2018-10-25             2018-10-11 00:00:00  ...   \n",
      "4                     2019-04-10             2019-04-02 00:00:00  ...   \n",
      "...                          ...                             ...  ...   \n",
      "67605                 2021-08-26             2021-08-23 00:00:00  ...   \n",
      "67606                 2021-08-31             2021-08-24 00:00:00  ...   \n",
      "67607                 2022-04-10             2022-04-08 00:00:00  ...   \n",
      "67608                 2021-10-18             2021-10-11 00:00:00  ...   \n",
      "67609                 2022-01-26             2022-01-24 00:00:00  ...   \n",
      "\n",
      "      # Days Parent Consent to Dev. Eval.  \\\n",
      "0                                    17.0   \n",
      "1                                     0.0   \n",
      "2                                     0.0   \n",
      "3                                     0.0   \n",
      "4                                     0.0   \n",
      "...                                   ...   \n",
      "67605                                 0.0   \n",
      "67606                                 0.0   \n",
      "67607                                 1.0   \n",
      "67608                                 0.0   \n",
      "67609                                 0.0   \n",
      "\n",
      "      # Days Dev. Evaluator Assigned to Dev. Eval.  \\\n",
      "0                                             30.0   \n",
      "1                                             13.0   \n",
      "2                                             15.0   \n",
      "3                                             14.0   \n",
      "4                                              8.0   \n",
      "...                                            ...   \n",
      "67605                                          3.0   \n",
      "67606                                          7.0   \n",
      "67607                                          3.0   \n",
      "67608                                          7.0   \n",
      "67609                                          2.0   \n",
      "\n",
      "      1st Date Requested to Receipt of Med. Records  \\\n",
      "0                                               NaN   \n",
      "1                                               NaN   \n",
      "2                                               0.0   \n",
      "3                                               NaN   \n",
      "4                                               0.0   \n",
      "...                                             ...   \n",
      "67605                                          35.0   \n",
      "67606                                           0.0   \n",
      "67607                                           0.0   \n",
      "67608                                           NaN   \n",
      "67609                                           0.0   \n",
      "\n",
      "      # Days Dev. Eval. to Elig. Det. # Days Ref. to Elig. Det.  \\\n",
      "0                                 4.0                      38.0   \n",
      "1                                 6.0                      20.0   \n",
      "2                                 1.0                      17.0   \n",
      "3                                 1.0                      17.0   \n",
      "4                                 2.0                      11.0   \n",
      "...                               ...                       ...   \n",
      "67605                            47.0                      54.0   \n",
      "67606                             2.0                      10.0   \n",
      "67607                             2.0                       6.0   \n",
      "67608                            11.0                      21.0   \n",
      "67609                             5.0                      10.0   \n",
      "\n",
      "      Init. Elig. Decision                           Init. Elig. Category  \\\n",
      "0                 Eligible                       Developmental Evaluation   \n",
      "1                 Eligible  Diagnosed Condition, Developmental Evaluation   \n",
      "2                 Eligible                       Developmental Evaluation   \n",
      "3                 Eligible                            Diagnosed Condition   \n",
      "4                 Eligible                       Developmental Evaluation   \n",
      "...                    ...                                            ...   \n",
      "67605             Eligible  Diagnosed Condition, Developmental Evaluation   \n",
      "67606             Eligible                       Developmental Evaluation   \n",
      "67607             Eligible                       Developmental Evaluation   \n",
      "67608             Eligible                            Diagnosed Condition   \n",
      "67609             Eligible                       Developmental Evaluation   \n",
      "\n",
      "      Init. Elig. Det. Date  Exit Date  \\\n",
      "0                2019-02-25 2020-01-11   \n",
      "1                2018-10-01 2020-12-11   \n",
      "2                2019-05-31 2020-11-12   \n",
      "3                2018-10-26 2020-08-12   \n",
      "4                2019-04-12 2019-09-26   \n",
      "...                     ...        ...   \n",
      "67605            2021-10-12 2021-12-10   \n",
      "67606            2021-09-02 2022-03-07   \n",
      "67607            2022-04-13 2022-07-25   \n",
      "67608            2021-10-29 2022-06-22   \n",
      "67609            2022-01-31 2022-06-20   \n",
      "\n",
      "                                   Exit Reason  \n",
      "0                        618 - Part B eligible  \n",
      "1      618 - Part B eligibility not determined  \n",
      "2      618 - Part B eligibility not determined  \n",
      "3                               Parent decline  \n",
      "4                        618 - Parent withdraw  \n",
      "...                                        ...  \n",
      "67605                 618 - Moved out of state  \n",
      "67606                    618 - Parent withdraw  \n",
      "67607                    618 - Parent withdraw  \n",
      "67608                           Parent decline  \n",
      "67609                    618 - Part B eligible  \n",
      "\n",
      "[67610 rows x 38 columns]\n"
     ]
    }
   ],
   "source": [
    "eco_exit = project_data.get('ECO with Exit21-22')\n",
    "elig_timeline = project_data.get('Elig Timeline Rpt 2018-2022')\n",
    "print(eco_exit)\n",
    "print(elig_timeline)"
   ]
  },
  {
   "cell_type": "code",
   "execution_count": 4,
   "id": "9f33d078",
   "metadata": {},
   "outputs": [
    {
     "data": {
      "text/html": [
       "<div>\n",
       "<style scoped>\n",
       "    .dataframe tbody tr th:only-of-type {\n",
       "        vertical-align: middle;\n",
       "    }\n",
       "\n",
       "    .dataframe tbody tr th {\n",
       "        vertical-align: top;\n",
       "    }\n",
       "\n",
       "    .dataframe thead th {\n",
       "        text-align: right;\n",
       "    }\n",
       "</style>\n",
       "<table border=\"1\" class=\"dataframe\">\n",
       "  <thead>\n",
       "    <tr style=\"text-align: right;\">\n",
       "      <th></th>\n",
       "      <th>DISTRICT</th>\n",
       "      <th>CHILD_ID</th>\n",
       "      <th>ECO_Entry_DATE</th>\n",
       "      <th>Ent SOCIAL_SCALE</th>\n",
       "      <th>Ent KNOWLEDGE_SCALE</th>\n",
       "      <th>Ent APPROPRIATE_ACTION_SCALE</th>\n",
       "      <th>ECO_Exit_DATE</th>\n",
       "      <th>Exit SOCIAL_SCALE</th>\n",
       "      <th>Exit KNOWLEDGE_SCALE</th>\n",
       "      <th>Exit APPROPRIATE_ACTION_SCALE</th>\n",
       "      <th>...</th>\n",
       "      <th>OC2 Data Check</th>\n",
       "      <th>OC3 - a</th>\n",
       "      <th>OC3 - b</th>\n",
       "      <th>OC3 - c</th>\n",
       "      <th>OC3 - d</th>\n",
       "      <th>OC3 - e</th>\n",
       "      <th>OC3 Data Check</th>\n",
       "      <th>Days btw Initial and Exit</th>\n",
       "      <th>Days btw I-IFSP to Exit ECO</th>\n",
       "      <th>Days btw I-IFSP to entry ECO</th>\n",
       "    </tr>\n",
       "  </thead>\n",
       "  <tbody>\n",
       "    <tr>\n",
       "      <th>0</th>\n",
       "      <td>ET</td>\n",
       "      <td>500335.0</td>\n",
       "      <td>2021-04-23</td>\n",
       "      <td>5.0</td>\n",
       "      <td>3.0</td>\n",
       "      <td>4.0</td>\n",
       "      <td>2021-10-23</td>\n",
       "      <td>6.0</td>\n",
       "      <td>3.0</td>\n",
       "      <td>4.0</td>\n",
       "      <td>...</td>\n",
       "      <td>1.0</td>\n",
       "      <td>NaN</td>\n",
       "      <td>1.0</td>\n",
       "      <td>NaN</td>\n",
       "      <td>NaN</td>\n",
       "      <td>NaN</td>\n",
       "      <td>1.0</td>\n",
       "      <td>206.0</td>\n",
       "      <td>183.0</td>\n",
       "      <td>0.0</td>\n",
       "    </tr>\n",
       "    <tr>\n",
       "      <th>1</th>\n",
       "      <td>ET</td>\n",
       "      <td>479453.0</td>\n",
       "      <td>2020-03-23</td>\n",
       "      <td>7.0</td>\n",
       "      <td>7.0</td>\n",
       "      <td>7.0</td>\n",
       "      <td>2021-08-19</td>\n",
       "      <td>7.0</td>\n",
       "      <td>7.0</td>\n",
       "      <td>7.0</td>\n",
       "      <td>...</td>\n",
       "      <td>1.0</td>\n",
       "      <td>NaN</td>\n",
       "      <td>NaN</td>\n",
       "      <td>NaN</td>\n",
       "      <td>NaN</td>\n",
       "      <td>1.0</td>\n",
       "      <td>1.0</td>\n",
       "      <td>704.0</td>\n",
       "      <td>514.0</td>\n",
       "      <td>0.0</td>\n",
       "    </tr>\n",
       "    <tr>\n",
       "      <th>2</th>\n",
       "      <td>ET</td>\n",
       "      <td>510663.0</td>\n",
       "      <td>NaT</td>\n",
       "      <td>NaN</td>\n",
       "      <td>NaN</td>\n",
       "      <td>NaN</td>\n",
       "      <td>NaT</td>\n",
       "      <td>NaN</td>\n",
       "      <td>NaN</td>\n",
       "      <td>NaN</td>\n",
       "      <td>...</td>\n",
       "      <td>0.0</td>\n",
       "      <td>NaN</td>\n",
       "      <td>NaN</td>\n",
       "      <td>NaN</td>\n",
       "      <td>NaN</td>\n",
       "      <td>NaN</td>\n",
       "      <td>0.0</td>\n",
       "      <td>115.0</td>\n",
       "      <td>-44483.0</td>\n",
       "      <td>-44483.0</td>\n",
       "    </tr>\n",
       "    <tr>\n",
       "      <th>3</th>\n",
       "      <td>ET</td>\n",
       "      <td>452482.0</td>\n",
       "      <td>2019-01-31</td>\n",
       "      <td>2.0</td>\n",
       "      <td>3.0</td>\n",
       "      <td>3.0</td>\n",
       "      <td>2021-11-22</td>\n",
       "      <td>5.0</td>\n",
       "      <td>3.0</td>\n",
       "      <td>5.0</td>\n",
       "      <td>...</td>\n",
       "      <td>1.0</td>\n",
       "      <td>NaN</td>\n",
       "      <td>NaN</td>\n",
       "      <td>1.0</td>\n",
       "      <td>NaN</td>\n",
       "      <td>NaN</td>\n",
       "      <td>1.0</td>\n",
       "      <td>1053.0</td>\n",
       "      <td>1026.0</td>\n",
       "      <td>0.0</td>\n",
       "    </tr>\n",
       "    <tr>\n",
       "      <th>4</th>\n",
       "      <td>ET</td>\n",
       "      <td>506507.0</td>\n",
       "      <td>NaT</td>\n",
       "      <td>NaN</td>\n",
       "      <td>NaN</td>\n",
       "      <td>NaN</td>\n",
       "      <td>NaT</td>\n",
       "      <td>NaN</td>\n",
       "      <td>NaN</td>\n",
       "      <td>NaN</td>\n",
       "      <td>...</td>\n",
       "      <td>0.0</td>\n",
       "      <td>NaN</td>\n",
       "      <td>NaN</td>\n",
       "      <td>NaN</td>\n",
       "      <td>NaN</td>\n",
       "      <td>NaN</td>\n",
       "      <td>0.0</td>\n",
       "      <td>159.0</td>\n",
       "      <td>-44434.0</td>\n",
       "      <td>-44434.0</td>\n",
       "    </tr>\n",
       "  </tbody>\n",
       "</table>\n",
       "<p>5 rows × 60 columns</p>\n",
       "</div>"
      ],
      "text/plain": [
       "  DISTRICT  CHILD_ID ECO_Entry_DATE  Ent SOCIAL_SCALE  Ent KNOWLEDGE_SCALE  \\\n",
       "0       ET  500335.0     2021-04-23               5.0                  3.0   \n",
       "1       ET  479453.0     2020-03-23               7.0                  7.0   \n",
       "2       ET  510663.0            NaT               NaN                  NaN   \n",
       "3       ET  452482.0     2019-01-31               2.0                  3.0   \n",
       "4       ET  506507.0            NaT               NaN                  NaN   \n",
       "\n",
       "   Ent APPROPRIATE_ACTION_SCALE ECO_Exit_DATE  Exit SOCIAL_SCALE  \\\n",
       "0                           4.0    2021-10-23                6.0   \n",
       "1                           7.0    2021-08-19                7.0   \n",
       "2                           NaN           NaT                NaN   \n",
       "3                           3.0    2021-11-22                5.0   \n",
       "4                           NaN           NaT                NaN   \n",
       "\n",
       "   Exit KNOWLEDGE_SCALE  Exit APPROPRIATE_ACTION_SCALE  ... OC2 Data Check  \\\n",
       "0                   3.0                            4.0  ...            1.0   \n",
       "1                   7.0                            7.0  ...            1.0   \n",
       "2                   NaN                            NaN  ...            0.0   \n",
       "3                   3.0                            5.0  ...            1.0   \n",
       "4                   NaN                            NaN  ...            0.0   \n",
       "\n",
       "  OC3 - a OC3 - b OC3 - c OC3 - d OC3 - e OC3 Data Check  \\\n",
       "0     NaN     1.0     NaN     NaN     NaN            1.0   \n",
       "1     NaN     NaN     NaN     NaN     1.0            1.0   \n",
       "2     NaN     NaN     NaN     NaN     NaN            0.0   \n",
       "3     NaN     NaN     1.0     NaN     NaN            1.0   \n",
       "4     NaN     NaN     NaN     NaN     NaN            0.0   \n",
       "\n",
       "   Days btw Initial and Exit  Days btw I-IFSP to Exit ECO  \\\n",
       "0                      206.0                        183.0   \n",
       "1                      704.0                        514.0   \n",
       "2                      115.0                     -44483.0   \n",
       "3                     1053.0                       1026.0   \n",
       "4                      159.0                     -44434.0   \n",
       "\n",
       "   Days btw I-IFSP to entry ECO  \n",
       "0                           0.0  \n",
       "1                           0.0  \n",
       "2                      -44483.0  \n",
       "3                           0.0  \n",
       "4                      -44434.0  \n",
       "\n",
       "[5 rows x 60 columns]"
      ]
     },
     "execution_count": 4,
     "metadata": {},
     "output_type": "execute_result"
    }
   ],
   "source": [
    "eco_exit.head()"
   ]
  },
  {
   "cell_type": "code",
   "execution_count": 5,
   "id": "3285fe0a",
   "metadata": {},
   "outputs": [
    {
     "name": "stdout",
     "output_type": "stream",
     "text": [
      "DISTRICT\n",
      "CHILD_ID\n",
      "ECO_Entry_DATE\n",
      "Ent SOCIAL_SCALE\n",
      "Ent KNOWLEDGE_SCALE\n",
      "Ent APPROPRIATE_ACTION_SCALE\n",
      "ECO_Exit_DATE\n",
      "Exit SOCIAL_SCALE\n",
      "Exit KNOWLEDGE_SCALE\n",
      "Exit APPROPRIATE_ACTION_SCALE\n",
      "ExitIS_SOCIAL_PROGRESS\n",
      "ExitIS_KNOWLEDGE_PROGRESS\n",
      "ExitIS_APPROPRIATE_ACTION_PROGRESS\n",
      "Initial IFSP Date\n",
      "Exit Reason\n",
      "Exit Date\n",
      "<Lookup> Expected Rating\n",
      "<Calc> Months in Program\n",
      "<Calc> Entrance Age (months)\n",
      "<Calc> Day count\n",
      "<Calc> Month count\n",
      "<Calc> Missing Entrance Date\n",
      "<Calc> Missing Exit Dates\n",
      "<Calc> Missing Both Ent & Exit Dates\n",
      "<Calc> Record Count\n",
      "<Calc> Day count 182 days +\n",
      "<Calc> Exit Day cnt < 182 days\n",
      "OC1 Missing Exit Rating\n",
      "OC2 Missing Exit Rating\n",
      "OC3 Missing Exit Rating\n",
      "OC1 Not Expected\n",
      "OC2 Not Expected\n",
      "OC3 Not Expected\n",
      "<Calc> Day count less than 182\n",
      "OC1 Useable Data\n",
      "OC2 Useable Data\n",
      "OC3 Useable Data\n",
      "Usable Data on at least one Outcome\n",
      "Usable Data on All 3 Outcomes\n",
      "OC1 - a\n",
      "OC1 - b\n",
      "OC1 - c\n",
      "OC1 - d\n",
      "OC1 - e\n",
      "OC1 Data Check\n",
      "OC2 - a\n",
      "OC2 - b\n",
      "OC2 - c\n",
      "OC2 - d\n",
      "OC2 - e\n",
      "OC2 Data Check\n",
      "OC3 - a\n",
      "OC3 - b\n",
      "OC3 - c\n",
      "OC3 - d\n",
      "OC3 - e\n",
      "OC3 Data Check\n",
      "Days btw Initial and Exit\n",
      "Days btw I-IFSP to Exit ECO\n",
      "Days btw I-IFSP to entry ECO\n"
     ]
    }
   ],
   "source": [
    "for columnName in eco_exit:\n",
    "    print(columnName)"
   ]
  },
  {
   "cell_type": "code",
   "execution_count": 6,
   "id": "52a6f85c",
   "metadata": {},
   "outputs": [
    {
     "data": {
      "text/html": [
       "<div>\n",
       "<style scoped>\n",
       "    .dataframe tbody tr th:only-of-type {\n",
       "        vertical-align: middle;\n",
       "    }\n",
       "\n",
       "    .dataframe tbody tr th {\n",
       "        vertical-align: top;\n",
       "    }\n",
       "\n",
       "    .dataframe thead th {\n",
       "        text-align: right;\n",
       "    }\n",
       "</style>\n",
       "<table border=\"1\" class=\"dataframe\">\n",
       "  <thead>\n",
       "    <tr style=\"text-align: right;\">\n",
       "      <th></th>\n",
       "      <th>DISTRICT</th>\n",
       "      <th>CHILD_ID</th>\n",
       "      <th>ECO_Entry_DATE</th>\n",
       "      <th>Ent SOCIAL_SCALE</th>\n",
       "      <th>Ent KNOWLEDGE_SCALE</th>\n",
       "      <th>Ent APPROPRIATE_ACTION_SCALE</th>\n",
       "      <th>ECO_Exit_DATE</th>\n",
       "      <th>Exit SOCIAL_SCALE</th>\n",
       "      <th>Exit KNOWLEDGE_SCALE</th>\n",
       "      <th>Exit APPROPRIATE_ACTION_SCALE</th>\n",
       "      <th>Days btw I-IFSP to Exit ECO</th>\n",
       "    </tr>\n",
       "  </thead>\n",
       "  <tbody>\n",
       "    <tr>\n",
       "      <th>0</th>\n",
       "      <td>ET</td>\n",
       "      <td>500335.0</td>\n",
       "      <td>2021-04-23</td>\n",
       "      <td>5.0</td>\n",
       "      <td>3.0</td>\n",
       "      <td>4.0</td>\n",
       "      <td>2021-10-23</td>\n",
       "      <td>6.0</td>\n",
       "      <td>3.0</td>\n",
       "      <td>4.0</td>\n",
       "      <td>183.0</td>\n",
       "    </tr>\n",
       "    <tr>\n",
       "      <th>1</th>\n",
       "      <td>ET</td>\n",
       "      <td>479453.0</td>\n",
       "      <td>2020-03-23</td>\n",
       "      <td>7.0</td>\n",
       "      <td>7.0</td>\n",
       "      <td>7.0</td>\n",
       "      <td>2021-08-19</td>\n",
       "      <td>7.0</td>\n",
       "      <td>7.0</td>\n",
       "      <td>7.0</td>\n",
       "      <td>514.0</td>\n",
       "    </tr>\n",
       "    <tr>\n",
       "      <th>2</th>\n",
       "      <td>ET</td>\n",
       "      <td>510663.0</td>\n",
       "      <td>NaT</td>\n",
       "      <td>NaN</td>\n",
       "      <td>NaN</td>\n",
       "      <td>NaN</td>\n",
       "      <td>NaT</td>\n",
       "      <td>NaN</td>\n",
       "      <td>NaN</td>\n",
       "      <td>NaN</td>\n",
       "      <td>-44483.0</td>\n",
       "    </tr>\n",
       "    <tr>\n",
       "      <th>3</th>\n",
       "      <td>ET</td>\n",
       "      <td>452482.0</td>\n",
       "      <td>2019-01-31</td>\n",
       "      <td>2.0</td>\n",
       "      <td>3.0</td>\n",
       "      <td>3.0</td>\n",
       "      <td>2021-11-22</td>\n",
       "      <td>5.0</td>\n",
       "      <td>3.0</td>\n",
       "      <td>5.0</td>\n",
       "      <td>1026.0</td>\n",
       "    </tr>\n",
       "    <tr>\n",
       "      <th>4</th>\n",
       "      <td>ET</td>\n",
       "      <td>506507.0</td>\n",
       "      <td>NaT</td>\n",
       "      <td>NaN</td>\n",
       "      <td>NaN</td>\n",
       "      <td>NaN</td>\n",
       "      <td>NaT</td>\n",
       "      <td>NaN</td>\n",
       "      <td>NaN</td>\n",
       "      <td>NaN</td>\n",
       "      <td>-44434.0</td>\n",
       "    </tr>\n",
       "    <tr>\n",
       "      <th>...</th>\n",
       "      <td>...</td>\n",
       "      <td>...</td>\n",
       "      <td>...</td>\n",
       "      <td>...</td>\n",
       "      <td>...</td>\n",
       "      <td>...</td>\n",
       "      <td>...</td>\n",
       "      <td>...</td>\n",
       "      <td>...</td>\n",
       "      <td>...</td>\n",
       "      <td>...</td>\n",
       "    </tr>\n",
       "    <tr>\n",
       "      <th>8631</th>\n",
       "      <td>UC</td>\n",
       "      <td>514216.0</td>\n",
       "      <td>NaT</td>\n",
       "      <td>NaN</td>\n",
       "      <td>NaN</td>\n",
       "      <td>NaN</td>\n",
       "      <td>NaT</td>\n",
       "      <td>NaN</td>\n",
       "      <td>NaN</td>\n",
       "      <td>NaN</td>\n",
       "      <td>-44537.0</td>\n",
       "    </tr>\n",
       "    <tr>\n",
       "      <th>8632</th>\n",
       "      <td>NaN</td>\n",
       "      <td>NaN</td>\n",
       "      <td>NaT</td>\n",
       "      <td>NaN</td>\n",
       "      <td>NaN</td>\n",
       "      <td>NaN</td>\n",
       "      <td>NaT</td>\n",
       "      <td>NaN</td>\n",
       "      <td>NaN</td>\n",
       "      <td>NaN</td>\n",
       "      <td>NaN</td>\n",
       "    </tr>\n",
       "    <tr>\n",
       "      <th>8633</th>\n",
       "      <td>NaN</td>\n",
       "      <td>NaN</td>\n",
       "      <td>NaT</td>\n",
       "      <td>NaN</td>\n",
       "      <td>NaN</td>\n",
       "      <td>NaN</td>\n",
       "      <td>NaT</td>\n",
       "      <td>NaN</td>\n",
       "      <td>NaN</td>\n",
       "      <td>NaN</td>\n",
       "      <td>NaN</td>\n",
       "    </tr>\n",
       "    <tr>\n",
       "      <th>8634</th>\n",
       "      <td>NaN</td>\n",
       "      <td>NaN</td>\n",
       "      <td>NaT</td>\n",
       "      <td>NaN</td>\n",
       "      <td>NaN</td>\n",
       "      <td>NaN</td>\n",
       "      <td>NaT</td>\n",
       "      <td>NaN</td>\n",
       "      <td>NaN</td>\n",
       "      <td>NaN</td>\n",
       "      <td>NaN</td>\n",
       "    </tr>\n",
       "    <tr>\n",
       "      <th>8635</th>\n",
       "      <td>9/29/22 JM Corrected in TEIDS. Progress would ...</td>\n",
       "      <td>NaN</td>\n",
       "      <td>NaT</td>\n",
       "      <td>NaN</td>\n",
       "      <td>NaN</td>\n",
       "      <td>NaN</td>\n",
       "      <td>NaT</td>\n",
       "      <td>NaN</td>\n",
       "      <td>NaN</td>\n",
       "      <td>NaN</td>\n",
       "      <td>NaN</td>\n",
       "    </tr>\n",
       "  </tbody>\n",
       "</table>\n",
       "<p>8636 rows × 11 columns</p>\n",
       "</div>"
      ],
      "text/plain": [
       "                                               DISTRICT  CHILD_ID  \\\n",
       "0                                                    ET  500335.0   \n",
       "1                                                    ET  479453.0   \n",
       "2                                                    ET  510663.0   \n",
       "3                                                    ET  452482.0   \n",
       "4                                                    ET  506507.0   \n",
       "...                                                 ...       ...   \n",
       "8631                                                 UC  514216.0   \n",
       "8632                                                NaN       NaN   \n",
       "8633                                                NaN       NaN   \n",
       "8634                                                NaN       NaN   \n",
       "8635  9/29/22 JM Corrected in TEIDS. Progress would ...       NaN   \n",
       "\n",
       "     ECO_Entry_DATE  Ent SOCIAL_SCALE  Ent KNOWLEDGE_SCALE  \\\n",
       "0        2021-04-23               5.0                  3.0   \n",
       "1        2020-03-23               7.0                  7.0   \n",
       "2               NaT               NaN                  NaN   \n",
       "3        2019-01-31               2.0                  3.0   \n",
       "4               NaT               NaN                  NaN   \n",
       "...             ...               ...                  ...   \n",
       "8631            NaT               NaN                  NaN   \n",
       "8632            NaT               NaN                  NaN   \n",
       "8633            NaT               NaN                  NaN   \n",
       "8634            NaT               NaN                  NaN   \n",
       "8635            NaT               NaN                  NaN   \n",
       "\n",
       "      Ent APPROPRIATE_ACTION_SCALE ECO_Exit_DATE  Exit SOCIAL_SCALE  \\\n",
       "0                              4.0    2021-10-23                6.0   \n",
       "1                              7.0    2021-08-19                7.0   \n",
       "2                              NaN           NaT                NaN   \n",
       "3                              3.0    2021-11-22                5.0   \n",
       "4                              NaN           NaT                NaN   \n",
       "...                            ...           ...                ...   \n",
       "8631                           NaN           NaT                NaN   \n",
       "8632                           NaN           NaT                NaN   \n",
       "8633                           NaN           NaT                NaN   \n",
       "8634                           NaN           NaT                NaN   \n",
       "8635                           NaN           NaT                NaN   \n",
       "\n",
       "      Exit KNOWLEDGE_SCALE  Exit APPROPRIATE_ACTION_SCALE  \\\n",
       "0                      3.0                            4.0   \n",
       "1                      7.0                            7.0   \n",
       "2                      NaN                            NaN   \n",
       "3                      3.0                            5.0   \n",
       "4                      NaN                            NaN   \n",
       "...                    ...                            ...   \n",
       "8631                   NaN                            NaN   \n",
       "8632                   NaN                            NaN   \n",
       "8633                   NaN                            NaN   \n",
       "8634                   NaN                            NaN   \n",
       "8635                   NaN                            NaN   \n",
       "\n",
       "      Days btw I-IFSP to Exit ECO  \n",
       "0                           183.0  \n",
       "1                           514.0  \n",
       "2                        -44483.0  \n",
       "3                          1026.0  \n",
       "4                        -44434.0  \n",
       "...                           ...  \n",
       "8631                     -44537.0  \n",
       "8632                          NaN  \n",
       "8633                          NaN  \n",
       "8634                          NaN  \n",
       "8635                          NaN  \n",
       "\n",
       "[8636 rows x 11 columns]"
      ]
     },
     "execution_count": 6,
     "metadata": {},
     "output_type": "execute_result"
    }
   ],
   "source": [
    "eco_exit = eco_exit[['DISTRICT', 'CHILD_ID', 'ECO_Entry_DATE', 'Ent SOCIAL_SCALE', 'Ent KNOWLEDGE_SCALE', 'Ent APPROPRIATE_ACTION_SCALE', 'ECO_Exit_DATE', 'Exit SOCIAL_SCALE', 'Exit KNOWLEDGE_SCALE', 'Exit APPROPRIATE_ACTION_SCALE', 'Days btw I-IFSP to Exit ECO']]\n",
    "eco_exit"
   ]
  },
  {
   "cell_type": "markdown",
   "id": "be00bed9",
   "metadata": {},
   "source": [
    "### 530  with an Entry-Social-Scale of \"2\""
   ]
  },
  {
   "cell_type": "code",
   "execution_count": 7,
   "id": "9f90bee3",
   "metadata": {
    "scrolled": true
   },
   "outputs": [],
   "source": [
    "entss=eco_exit.loc[eco_exit['Ent SOCIAL_SCALE']== 2]"
   ]
  },
  {
   "cell_type": "code",
   "execution_count": 8,
   "id": "ca75720b",
   "metadata": {},
   "outputs": [],
   "source": [
    "exitss=eco_exit.loc[eco_exit['Exit SOCIAL_SCALE']== 2]"
   ]
  },
  {
   "cell_type": "code",
   "execution_count": 9,
   "id": "6b97668a",
   "metadata": {},
   "outputs": [],
   "source": [
    "entks=eco_exit.loc[eco_exit['Ent KNOWLEDGE_SCALE']== 2]"
   ]
  },
  {
   "cell_type": "code",
   "execution_count": 10,
   "id": "0b36659b",
   "metadata": {},
   "outputs": [],
   "source": [
    "exitks=eco_exit.loc[eco_exit['Exit KNOWLEDGE_SCALE']== 2]"
   ]
  },
  {
   "cell_type": "code",
   "execution_count": 11,
   "id": "e36bd18a",
   "metadata": {},
   "outputs": [],
   "source": [
    "entaa=eco_exit.loc[eco_exit['Ent APPROPRIATE_ACTION_SCALE']== 2]"
   ]
  },
  {
   "cell_type": "code",
   "execution_count": 12,
   "id": "dc64909d",
   "metadata": {
    "scrolled": true
   },
   "outputs": [],
   "source": [
    "exitaa=eco_exit.loc[eco_exit['Exit APPROPRIATE_ACTION_SCALE']== 2]"
   ]
  },
  {
   "cell_type": "code",
   "execution_count": 13,
   "id": "4717cf89",
   "metadata": {},
   "outputs": [
    {
     "name": "stdout",
     "output_type": "stream",
     "text": [
      "                                               DISTRICT  CHILD_ID  \\\n",
      "0                                                    ET  500335.0   \n",
      "1                                                    ET  479453.0   \n",
      "2                                                    ET  510663.0   \n",
      "3                                                    ET  452482.0   \n",
      "4                                                    ET  506507.0   \n",
      "...                                                 ...       ...   \n",
      "8631                                                 UC  514216.0   \n",
      "8632                                                NaN       NaN   \n",
      "8633                                                NaN       NaN   \n",
      "8634                                                NaN       NaN   \n",
      "8635  9/29/22 JM Corrected in TEIDS. Progress would ...       NaN   \n",
      "\n",
      "     ECO_Entry_DATE  Ent SOCIAL_SCALE  Ent KNOWLEDGE_SCALE  \\\n",
      "0        2021-04-23               5.0                  3.0   \n",
      "1        2020-03-23               7.0                  7.0   \n",
      "2               NaT               NaN                  NaN   \n",
      "3        2019-01-31               2.0                  3.0   \n",
      "4               NaT               NaN                  NaN   \n",
      "...             ...               ...                  ...   \n",
      "8631            NaT               NaN                  NaN   \n",
      "8632            NaT               NaN                  NaN   \n",
      "8633            NaT               NaN                  NaN   \n",
      "8634            NaT               NaN                  NaN   \n",
      "8635            NaT               NaN                  NaN   \n",
      "\n",
      "      Ent APPROPRIATE_ACTION_SCALE  Avg_Entry_Score ECO_Exit_DATE  \\\n",
      "0                              4.0         4.000000    2021-10-23   \n",
      "1                              7.0         7.000000    2021-08-19   \n",
      "2                              NaN              NaN           NaT   \n",
      "3                              3.0         2.666667    2021-11-22   \n",
      "4                              NaN              NaN           NaT   \n",
      "...                            ...              ...           ...   \n",
      "8631                           NaN              NaN           NaT   \n",
      "8632                           NaN              NaN           NaT   \n",
      "8633                           NaN              NaN           NaT   \n",
      "8634                           NaN              NaN           NaT   \n",
      "8635                           NaN              NaN           NaT   \n",
      "\n",
      "      Exit SOCIAL_SCALE  Exit KNOWLEDGE_SCALE  Exit APPROPRIATE_ACTION_SCALE  \\\n",
      "0                   6.0                   3.0                            4.0   \n",
      "1                   7.0                   7.0                            7.0   \n",
      "2                   NaN                   NaN                            NaN   \n",
      "3                   5.0                   3.0                            5.0   \n",
      "4                   NaN                   NaN                            NaN   \n",
      "...                 ...                   ...                            ...   \n",
      "8631                NaN                   NaN                            NaN   \n",
      "8632                NaN                   NaN                            NaN   \n",
      "8633                NaN                   NaN                            NaN   \n",
      "8634                NaN                   NaN                            NaN   \n",
      "8635                NaN                   NaN                            NaN   \n",
      "\n",
      "      Days btw I-IFSP to Exit ECO  \n",
      "0                           183.0  \n",
      "1                           514.0  \n",
      "2                        -44483.0  \n",
      "3                          1026.0  \n",
      "4                        -44434.0  \n",
      "...                           ...  \n",
      "8631                     -44537.0  \n",
      "8632                          NaN  \n",
      "8633                          NaN  \n",
      "8634                          NaN  \n",
      "8635                          NaN  \n",
      "\n",
      "[8636 rows x 12 columns]\n"
     ]
    }
   ],
   "source": [
    "avg_ent_rows=['Ent SOCIAL_SCALE', 'Ent KNOWLEDGE_SCALE', 'Ent APPROPRIATE_ACTION_SCALE']\n",
    "avg_ent_rows2=eco_exit[avg_ent_rows].mean(axis=1)\n",
    "\n",
    "eco_exit.insert(loc=6,column='Avg_Entry_Score',value=avg_ent_rows2)\n",
    "print(eco_exit)"
   ]
  },
  {
   "cell_type": "code",
   "execution_count": 14,
   "id": "5ea9b6dc",
   "metadata": {},
   "outputs": [
    {
     "name": "stdout",
     "output_type": "stream",
     "text": [
      "                                               DISTRICT  CHILD_ID  \\\n",
      "0                                                    ET  500335.0   \n",
      "1                                                    ET  479453.0   \n",
      "2                                                    ET  510663.0   \n",
      "3                                                    ET  452482.0   \n",
      "4                                                    ET  506507.0   \n",
      "...                                                 ...       ...   \n",
      "8631                                                 UC  514216.0   \n",
      "8632                                                NaN       NaN   \n",
      "8633                                                NaN       NaN   \n",
      "8634                                                NaN       NaN   \n",
      "8635  9/29/22 JM Corrected in TEIDS. Progress would ...       NaN   \n",
      "\n",
      "     ECO_Entry_DATE  Ent SOCIAL_SCALE  Ent KNOWLEDGE_SCALE  \\\n",
      "0        2021-04-23               5.0                  3.0   \n",
      "1        2020-03-23               7.0                  7.0   \n",
      "2               NaT               NaN                  NaN   \n",
      "3        2019-01-31               2.0                  3.0   \n",
      "4               NaT               NaN                  NaN   \n",
      "...             ...               ...                  ...   \n",
      "8631            NaT               NaN                  NaN   \n",
      "8632            NaT               NaN                  NaN   \n",
      "8633            NaT               NaN                  NaN   \n",
      "8634            NaT               NaN                  NaN   \n",
      "8635            NaT               NaN                  NaN   \n",
      "\n",
      "      Ent APPROPRIATE_ACTION_SCALE  Avg_Entry_Score ECO_Exit_DATE  \\\n",
      "0                              4.0         4.000000    2021-10-23   \n",
      "1                              7.0         7.000000    2021-08-19   \n",
      "2                              NaN              NaN           NaT   \n",
      "3                              3.0         2.666667    2021-11-22   \n",
      "4                              NaN              NaN           NaT   \n",
      "...                            ...              ...           ...   \n",
      "8631                           NaN              NaN           NaT   \n",
      "8632                           NaN              NaN           NaT   \n",
      "8633                           NaN              NaN           NaT   \n",
      "8634                           NaN              NaN           NaT   \n",
      "8635                           NaN              NaN           NaT   \n",
      "\n",
      "      Exit SOCIAL_SCALE  Exit KNOWLEDGE_SCALE  Avg_Exit_Score  \\\n",
      "0                   6.0                   3.0        4.333333   \n",
      "1                   7.0                   7.0        7.000000   \n",
      "2                   NaN                   NaN             NaN   \n",
      "3                   5.0                   3.0        4.333333   \n",
      "4                   NaN                   NaN             NaN   \n",
      "...                 ...                   ...             ...   \n",
      "8631                NaN                   NaN             NaN   \n",
      "8632                NaN                   NaN             NaN   \n",
      "8633                NaN                   NaN             NaN   \n",
      "8634                NaN                   NaN             NaN   \n",
      "8635                NaN                   NaN             NaN   \n",
      "\n",
      "      Exit APPROPRIATE_ACTION_SCALE  Days btw I-IFSP to Exit ECO  \n",
      "0                               4.0                        183.0  \n",
      "1                               7.0                        514.0  \n",
      "2                               NaN                     -44483.0  \n",
      "3                               5.0                       1026.0  \n",
      "4                               NaN                     -44434.0  \n",
      "...                             ...                          ...  \n",
      "8631                            NaN                     -44537.0  \n",
      "8632                            NaN                          NaN  \n",
      "8633                            NaN                          NaN  \n",
      "8634                            NaN                          NaN  \n",
      "8635                            NaN                          NaN  \n",
      "\n",
      "[8636 rows x 13 columns]\n"
     ]
    }
   ],
   "source": [
    "avg_ext_rows=['Exit SOCIAL_SCALE', 'Exit KNOWLEDGE_SCALE', 'Exit APPROPRIATE_ACTION_SCALE']\n",
    "avg_ext_rows2=eco_exit[avg_ext_rows].mean(axis=1)\n",
    "\n",
    "eco_exit.insert(loc=10,column='Avg_Exit_Score',value=avg_ext_rows2)\n",
    "print(eco_exit)"
   ]
  },
  {
   "cell_type": "code",
   "execution_count": 15,
   "id": "66caf213",
   "metadata": {},
   "outputs": [
    {
     "data": {
      "text/plain": [
       "Ent SOCIAL_SCALE                3.283167\n",
       "Ent KNOWLEDGE_SCALE             3.609684\n",
       "Ent APPROPRIATE_ACTION_SCALE    4.022723\n",
       "dtype: float64"
      ]
     },
     "execution_count": 15,
     "metadata": {},
     "output_type": "execute_result"
    }
   ],
   "source": [
    "avg_ent_cols=['Ent SOCIAL_SCALE', 'Ent KNOWLEDGE_SCALE', 'Ent APPROPRIATE_ACTION_SCALE']\n",
    "eco_exit[avg_ent_cols].mean(axis=0)"
   ]
  },
  {
   "cell_type": "code",
   "execution_count": 16,
   "id": "1b1587fc",
   "metadata": {},
   "outputs": [
    {
     "data": {
      "text/plain": [
       "Exit SOCIAL_SCALE                4.795141\n",
       "Exit KNOWLEDGE_SCALE             4.251704\n",
       "Exit APPROPRIATE_ACTION_SCALE    5.289285\n",
       "dtype: float64"
      ]
     },
     "execution_count": 16,
     "metadata": {},
     "output_type": "execute_result"
    }
   ],
   "source": [
    "avg_ext_cols=['Exit SOCIAL_SCALE', 'Exit KNOWLEDGE_SCALE', 'Exit APPROPRIATE_ACTION_SCALE']\n",
    "eco_exit[avg_ext_cols].mean(axis=0)"
   ]
  },
  {
   "cell_type": "code",
   "execution_count": 17,
   "id": "f4bb267c",
   "metadata": {},
   "outputs": [
    {
     "data": {
      "text/html": [
       "<div>\n",
       "<style scoped>\n",
       "    .dataframe tbody tr th:only-of-type {\n",
       "        vertical-align: middle;\n",
       "    }\n",
       "\n",
       "    .dataframe tbody tr th {\n",
       "        vertical-align: top;\n",
       "    }\n",
       "\n",
       "    .dataframe thead th {\n",
       "        text-align: right;\n",
       "    }\n",
       "</style>\n",
       "<table border=\"1\" class=\"dataframe\">\n",
       "  <thead>\n",
       "    <tr style=\"text-align: right;\">\n",
       "      <th></th>\n",
       "      <th>DISTRICT</th>\n",
       "      <th>CHILD_ID</th>\n",
       "      <th>ECO_Entry_DATE</th>\n",
       "      <th>Ent SOCIAL_SCALE</th>\n",
       "      <th>Ent KNOWLEDGE_SCALE</th>\n",
       "      <th>Ent APPROPRIATE_ACTION_SCALE</th>\n",
       "      <th>Avg_Entry_Score</th>\n",
       "      <th>ECO_Exit_DATE</th>\n",
       "      <th>Exit SOCIAL_SCALE</th>\n",
       "      <th>Exit KNOWLEDGE_SCALE</th>\n",
       "      <th>Avg_Exit_Score</th>\n",
       "      <th>Exit APPROPRIATE_ACTION_SCALE</th>\n",
       "      <th>Days btw I-IFSP to Exit ECO</th>\n",
       "    </tr>\n",
       "  </thead>\n",
       "  <tbody>\n",
       "    <tr>\n",
       "      <th>0</th>\n",
       "      <td>ET</td>\n",
       "      <td>500335.0</td>\n",
       "      <td>2021-04-23</td>\n",
       "      <td>5.0</td>\n",
       "      <td>3.0</td>\n",
       "      <td>4.0</td>\n",
       "      <td>4.000000</td>\n",
       "      <td>2021-10-23</td>\n",
       "      <td>6.0</td>\n",
       "      <td>3.0</td>\n",
       "      <td>4.333333</td>\n",
       "      <td>4.0</td>\n",
       "      <td>183.0</td>\n",
       "    </tr>\n",
       "    <tr>\n",
       "      <th>1</th>\n",
       "      <td>ET</td>\n",
       "      <td>479453.0</td>\n",
       "      <td>2020-03-23</td>\n",
       "      <td>7.0</td>\n",
       "      <td>7.0</td>\n",
       "      <td>7.0</td>\n",
       "      <td>7.000000</td>\n",
       "      <td>2021-08-19</td>\n",
       "      <td>7.0</td>\n",
       "      <td>7.0</td>\n",
       "      <td>7.000000</td>\n",
       "      <td>7.0</td>\n",
       "      <td>514.0</td>\n",
       "    </tr>\n",
       "    <tr>\n",
       "      <th>2</th>\n",
       "      <td>ET</td>\n",
       "      <td>510663.0</td>\n",
       "      <td>NaT</td>\n",
       "      <td>NaN</td>\n",
       "      <td>NaN</td>\n",
       "      <td>NaN</td>\n",
       "      <td>NaN</td>\n",
       "      <td>NaT</td>\n",
       "      <td>NaN</td>\n",
       "      <td>NaN</td>\n",
       "      <td>NaN</td>\n",
       "      <td>NaN</td>\n",
       "      <td>-44483.0</td>\n",
       "    </tr>\n",
       "    <tr>\n",
       "      <th>3</th>\n",
       "      <td>ET</td>\n",
       "      <td>452482.0</td>\n",
       "      <td>2019-01-31</td>\n",
       "      <td>2.0</td>\n",
       "      <td>3.0</td>\n",
       "      <td>3.0</td>\n",
       "      <td>2.666667</td>\n",
       "      <td>2021-11-22</td>\n",
       "      <td>5.0</td>\n",
       "      <td>3.0</td>\n",
       "      <td>4.333333</td>\n",
       "      <td>5.0</td>\n",
       "      <td>1026.0</td>\n",
       "    </tr>\n",
       "    <tr>\n",
       "      <th>4</th>\n",
       "      <td>ET</td>\n",
       "      <td>506507.0</td>\n",
       "      <td>NaT</td>\n",
       "      <td>NaN</td>\n",
       "      <td>NaN</td>\n",
       "      <td>NaN</td>\n",
       "      <td>NaN</td>\n",
       "      <td>NaT</td>\n",
       "      <td>NaN</td>\n",
       "      <td>NaN</td>\n",
       "      <td>NaN</td>\n",
       "      <td>NaN</td>\n",
       "      <td>-44434.0</td>\n",
       "    </tr>\n",
       "    <tr>\n",
       "      <th>...</th>\n",
       "      <td>...</td>\n",
       "      <td>...</td>\n",
       "      <td>...</td>\n",
       "      <td>...</td>\n",
       "      <td>...</td>\n",
       "      <td>...</td>\n",
       "      <td>...</td>\n",
       "      <td>...</td>\n",
       "      <td>...</td>\n",
       "      <td>...</td>\n",
       "      <td>...</td>\n",
       "      <td>...</td>\n",
       "      <td>...</td>\n",
       "    </tr>\n",
       "    <tr>\n",
       "      <th>8631</th>\n",
       "      <td>UC</td>\n",
       "      <td>514216.0</td>\n",
       "      <td>NaT</td>\n",
       "      <td>NaN</td>\n",
       "      <td>NaN</td>\n",
       "      <td>NaN</td>\n",
       "      <td>NaN</td>\n",
       "      <td>NaT</td>\n",
       "      <td>NaN</td>\n",
       "      <td>NaN</td>\n",
       "      <td>NaN</td>\n",
       "      <td>NaN</td>\n",
       "      <td>-44537.0</td>\n",
       "    </tr>\n",
       "    <tr>\n",
       "      <th>8632</th>\n",
       "      <td>NaN</td>\n",
       "      <td>NaN</td>\n",
       "      <td>NaT</td>\n",
       "      <td>NaN</td>\n",
       "      <td>NaN</td>\n",
       "      <td>NaN</td>\n",
       "      <td>NaN</td>\n",
       "      <td>NaT</td>\n",
       "      <td>NaN</td>\n",
       "      <td>NaN</td>\n",
       "      <td>NaN</td>\n",
       "      <td>NaN</td>\n",
       "      <td>NaN</td>\n",
       "    </tr>\n",
       "    <tr>\n",
       "      <th>8633</th>\n",
       "      <td>NaN</td>\n",
       "      <td>NaN</td>\n",
       "      <td>NaT</td>\n",
       "      <td>NaN</td>\n",
       "      <td>NaN</td>\n",
       "      <td>NaN</td>\n",
       "      <td>NaN</td>\n",
       "      <td>NaT</td>\n",
       "      <td>NaN</td>\n",
       "      <td>NaN</td>\n",
       "      <td>NaN</td>\n",
       "      <td>NaN</td>\n",
       "      <td>NaN</td>\n",
       "    </tr>\n",
       "    <tr>\n",
       "      <th>8634</th>\n",
       "      <td>NaN</td>\n",
       "      <td>NaN</td>\n",
       "      <td>NaT</td>\n",
       "      <td>NaN</td>\n",
       "      <td>NaN</td>\n",
       "      <td>NaN</td>\n",
       "      <td>NaN</td>\n",
       "      <td>NaT</td>\n",
       "      <td>NaN</td>\n",
       "      <td>NaN</td>\n",
       "      <td>NaN</td>\n",
       "      <td>NaN</td>\n",
       "      <td>NaN</td>\n",
       "    </tr>\n",
       "    <tr>\n",
       "      <th>8635</th>\n",
       "      <td>9/29/22 JM Corrected in TEIDS. Progress would ...</td>\n",
       "      <td>NaN</td>\n",
       "      <td>NaT</td>\n",
       "      <td>NaN</td>\n",
       "      <td>NaN</td>\n",
       "      <td>NaN</td>\n",
       "      <td>NaN</td>\n",
       "      <td>NaT</td>\n",
       "      <td>NaN</td>\n",
       "      <td>NaN</td>\n",
       "      <td>NaN</td>\n",
       "      <td>NaN</td>\n",
       "      <td>NaN</td>\n",
       "    </tr>\n",
       "  </tbody>\n",
       "</table>\n",
       "<p>8636 rows × 13 columns</p>\n",
       "</div>"
      ],
      "text/plain": [
       "                                               DISTRICT  CHILD_ID  \\\n",
       "0                                                    ET  500335.0   \n",
       "1                                                    ET  479453.0   \n",
       "2                                                    ET  510663.0   \n",
       "3                                                    ET  452482.0   \n",
       "4                                                    ET  506507.0   \n",
       "...                                                 ...       ...   \n",
       "8631                                                 UC  514216.0   \n",
       "8632                                                NaN       NaN   \n",
       "8633                                                NaN       NaN   \n",
       "8634                                                NaN       NaN   \n",
       "8635  9/29/22 JM Corrected in TEIDS. Progress would ...       NaN   \n",
       "\n",
       "     ECO_Entry_DATE  Ent SOCIAL_SCALE  Ent KNOWLEDGE_SCALE  \\\n",
       "0        2021-04-23               5.0                  3.0   \n",
       "1        2020-03-23               7.0                  7.0   \n",
       "2               NaT               NaN                  NaN   \n",
       "3        2019-01-31               2.0                  3.0   \n",
       "4               NaT               NaN                  NaN   \n",
       "...             ...               ...                  ...   \n",
       "8631            NaT               NaN                  NaN   \n",
       "8632            NaT               NaN                  NaN   \n",
       "8633            NaT               NaN                  NaN   \n",
       "8634            NaT               NaN                  NaN   \n",
       "8635            NaT               NaN                  NaN   \n",
       "\n",
       "      Ent APPROPRIATE_ACTION_SCALE  Avg_Entry_Score ECO_Exit_DATE  \\\n",
       "0                              4.0         4.000000    2021-10-23   \n",
       "1                              7.0         7.000000    2021-08-19   \n",
       "2                              NaN              NaN           NaT   \n",
       "3                              3.0         2.666667    2021-11-22   \n",
       "4                              NaN              NaN           NaT   \n",
       "...                            ...              ...           ...   \n",
       "8631                           NaN              NaN           NaT   \n",
       "8632                           NaN              NaN           NaT   \n",
       "8633                           NaN              NaN           NaT   \n",
       "8634                           NaN              NaN           NaT   \n",
       "8635                           NaN              NaN           NaT   \n",
       "\n",
       "      Exit SOCIAL_SCALE  Exit KNOWLEDGE_SCALE  Avg_Exit_Score  \\\n",
       "0                   6.0                   3.0        4.333333   \n",
       "1                   7.0                   7.0        7.000000   \n",
       "2                   NaN                   NaN             NaN   \n",
       "3                   5.0                   3.0        4.333333   \n",
       "4                   NaN                   NaN             NaN   \n",
       "...                 ...                   ...             ...   \n",
       "8631                NaN                   NaN             NaN   \n",
       "8632                NaN                   NaN             NaN   \n",
       "8633                NaN                   NaN             NaN   \n",
       "8634                NaN                   NaN             NaN   \n",
       "8635                NaN                   NaN             NaN   \n",
       "\n",
       "      Exit APPROPRIATE_ACTION_SCALE  Days btw I-IFSP to Exit ECO  \n",
       "0                               4.0                        183.0  \n",
       "1                               7.0                        514.0  \n",
       "2                               NaN                     -44483.0  \n",
       "3                               5.0                       1026.0  \n",
       "4                               NaN                     -44434.0  \n",
       "...                             ...                          ...  \n",
       "8631                            NaN                     -44537.0  \n",
       "8632                            NaN                          NaN  \n",
       "8633                            NaN                          NaN  \n",
       "8634                            NaN                          NaN  \n",
       "8635                            NaN                          NaN  \n",
       "\n",
       "[8636 rows x 13 columns]"
      ]
     },
     "execution_count": 17,
     "metadata": {},
     "output_type": "execute_result"
    }
   ],
   "source": [
    "eco_exit"
   ]
  },
  {
   "cell_type": "code",
   "execution_count": 18,
   "id": "950281d6",
   "metadata": {},
   "outputs": [],
   "source": [
    "eco_exit = eco_exit[['DISTRICT', 'CHILD_ID', 'ECO_Entry_DATE', 'Ent SOCIAL_SCALE', 'Ent KNOWLEDGE_SCALE', 'Ent APPROPRIATE_ACTION_SCALE', 'ECO_Exit_DATE', 'Exit SOCIAL_SCALE', 'Exit KNOWLEDGE_SCALE', 'Exit APPROPRIATE_ACTION_SCALE', 'Avg_Entry_Score', 'Avg_Exit_Score', 'Days btw I-IFSP to Exit ECO']]"
   ]
  },
  {
   "cell_type": "code",
   "execution_count": 19,
   "id": "97670f57",
   "metadata": {},
   "outputs": [
    {
     "data": {
      "text/html": [
       "<div>\n",
       "<style scoped>\n",
       "    .dataframe tbody tr th:only-of-type {\n",
       "        vertical-align: middle;\n",
       "    }\n",
       "\n",
       "    .dataframe tbody tr th {\n",
       "        vertical-align: top;\n",
       "    }\n",
       "\n",
       "    .dataframe thead th {\n",
       "        text-align: right;\n",
       "    }\n",
       "</style>\n",
       "<table border=\"1\" class=\"dataframe\">\n",
       "  <thead>\n",
       "    <tr style=\"text-align: right;\">\n",
       "      <th></th>\n",
       "      <th>DISTRICT</th>\n",
       "      <th>CHILD_ID</th>\n",
       "      <th>ECO_Entry_DATE</th>\n",
       "      <th>Ent SOCIAL_SCALE</th>\n",
       "      <th>Ent KNOWLEDGE_SCALE</th>\n",
       "      <th>Ent APPROPRIATE_ACTION_SCALE</th>\n",
       "      <th>ECO_Exit_DATE</th>\n",
       "      <th>Exit SOCIAL_SCALE</th>\n",
       "      <th>Exit KNOWLEDGE_SCALE</th>\n",
       "      <th>Exit APPROPRIATE_ACTION_SCALE</th>\n",
       "      <th>Avg_Entry_Score</th>\n",
       "      <th>Avg_Exit_Score</th>\n",
       "      <th>Days btw I-IFSP to Exit ECO</th>\n",
       "    </tr>\n",
       "  </thead>\n",
       "  <tbody>\n",
       "    <tr>\n",
       "      <th>0</th>\n",
       "      <td>ET</td>\n",
       "      <td>500335.0</td>\n",
       "      <td>2021-04-23</td>\n",
       "      <td>5.0</td>\n",
       "      <td>3.0</td>\n",
       "      <td>4.0</td>\n",
       "      <td>2021-10-23</td>\n",
       "      <td>6.0</td>\n",
       "      <td>3.0</td>\n",
       "      <td>4.0</td>\n",
       "      <td>4.000000</td>\n",
       "      <td>4.333333</td>\n",
       "      <td>183.0</td>\n",
       "    </tr>\n",
       "    <tr>\n",
       "      <th>1</th>\n",
       "      <td>ET</td>\n",
       "      <td>479453.0</td>\n",
       "      <td>2020-03-23</td>\n",
       "      <td>7.0</td>\n",
       "      <td>7.0</td>\n",
       "      <td>7.0</td>\n",
       "      <td>2021-08-19</td>\n",
       "      <td>7.0</td>\n",
       "      <td>7.0</td>\n",
       "      <td>7.0</td>\n",
       "      <td>7.000000</td>\n",
       "      <td>7.000000</td>\n",
       "      <td>514.0</td>\n",
       "    </tr>\n",
       "    <tr>\n",
       "      <th>2</th>\n",
       "      <td>ET</td>\n",
       "      <td>510663.0</td>\n",
       "      <td>NaT</td>\n",
       "      <td>NaN</td>\n",
       "      <td>NaN</td>\n",
       "      <td>NaN</td>\n",
       "      <td>NaT</td>\n",
       "      <td>NaN</td>\n",
       "      <td>NaN</td>\n",
       "      <td>NaN</td>\n",
       "      <td>NaN</td>\n",
       "      <td>NaN</td>\n",
       "      <td>-44483.0</td>\n",
       "    </tr>\n",
       "    <tr>\n",
       "      <th>3</th>\n",
       "      <td>ET</td>\n",
       "      <td>452482.0</td>\n",
       "      <td>2019-01-31</td>\n",
       "      <td>2.0</td>\n",
       "      <td>3.0</td>\n",
       "      <td>3.0</td>\n",
       "      <td>2021-11-22</td>\n",
       "      <td>5.0</td>\n",
       "      <td>3.0</td>\n",
       "      <td>5.0</td>\n",
       "      <td>2.666667</td>\n",
       "      <td>4.333333</td>\n",
       "      <td>1026.0</td>\n",
       "    </tr>\n",
       "    <tr>\n",
       "      <th>4</th>\n",
       "      <td>ET</td>\n",
       "      <td>506507.0</td>\n",
       "      <td>NaT</td>\n",
       "      <td>NaN</td>\n",
       "      <td>NaN</td>\n",
       "      <td>NaN</td>\n",
       "      <td>NaT</td>\n",
       "      <td>NaN</td>\n",
       "      <td>NaN</td>\n",
       "      <td>NaN</td>\n",
       "      <td>NaN</td>\n",
       "      <td>NaN</td>\n",
       "      <td>-44434.0</td>\n",
       "    </tr>\n",
       "    <tr>\n",
       "      <th>...</th>\n",
       "      <td>...</td>\n",
       "      <td>...</td>\n",
       "      <td>...</td>\n",
       "      <td>...</td>\n",
       "      <td>...</td>\n",
       "      <td>...</td>\n",
       "      <td>...</td>\n",
       "      <td>...</td>\n",
       "      <td>...</td>\n",
       "      <td>...</td>\n",
       "      <td>...</td>\n",
       "      <td>...</td>\n",
       "      <td>...</td>\n",
       "    </tr>\n",
       "    <tr>\n",
       "      <th>8631</th>\n",
       "      <td>UC</td>\n",
       "      <td>514216.0</td>\n",
       "      <td>NaT</td>\n",
       "      <td>NaN</td>\n",
       "      <td>NaN</td>\n",
       "      <td>NaN</td>\n",
       "      <td>NaT</td>\n",
       "      <td>NaN</td>\n",
       "      <td>NaN</td>\n",
       "      <td>NaN</td>\n",
       "      <td>NaN</td>\n",
       "      <td>NaN</td>\n",
       "      <td>-44537.0</td>\n",
       "    </tr>\n",
       "    <tr>\n",
       "      <th>8632</th>\n",
       "      <td>NaN</td>\n",
       "      <td>NaN</td>\n",
       "      <td>NaT</td>\n",
       "      <td>NaN</td>\n",
       "      <td>NaN</td>\n",
       "      <td>NaN</td>\n",
       "      <td>NaT</td>\n",
       "      <td>NaN</td>\n",
       "      <td>NaN</td>\n",
       "      <td>NaN</td>\n",
       "      <td>NaN</td>\n",
       "      <td>NaN</td>\n",
       "      <td>NaN</td>\n",
       "    </tr>\n",
       "    <tr>\n",
       "      <th>8633</th>\n",
       "      <td>NaN</td>\n",
       "      <td>NaN</td>\n",
       "      <td>NaT</td>\n",
       "      <td>NaN</td>\n",
       "      <td>NaN</td>\n",
       "      <td>NaN</td>\n",
       "      <td>NaT</td>\n",
       "      <td>NaN</td>\n",
       "      <td>NaN</td>\n",
       "      <td>NaN</td>\n",
       "      <td>NaN</td>\n",
       "      <td>NaN</td>\n",
       "      <td>NaN</td>\n",
       "    </tr>\n",
       "    <tr>\n",
       "      <th>8634</th>\n",
       "      <td>NaN</td>\n",
       "      <td>NaN</td>\n",
       "      <td>NaT</td>\n",
       "      <td>NaN</td>\n",
       "      <td>NaN</td>\n",
       "      <td>NaN</td>\n",
       "      <td>NaT</td>\n",
       "      <td>NaN</td>\n",
       "      <td>NaN</td>\n",
       "      <td>NaN</td>\n",
       "      <td>NaN</td>\n",
       "      <td>NaN</td>\n",
       "      <td>NaN</td>\n",
       "    </tr>\n",
       "    <tr>\n",
       "      <th>8635</th>\n",
       "      <td>9/29/22 JM Corrected in TEIDS. Progress would ...</td>\n",
       "      <td>NaN</td>\n",
       "      <td>NaT</td>\n",
       "      <td>NaN</td>\n",
       "      <td>NaN</td>\n",
       "      <td>NaN</td>\n",
       "      <td>NaT</td>\n",
       "      <td>NaN</td>\n",
       "      <td>NaN</td>\n",
       "      <td>NaN</td>\n",
       "      <td>NaN</td>\n",
       "      <td>NaN</td>\n",
       "      <td>NaN</td>\n",
       "    </tr>\n",
       "  </tbody>\n",
       "</table>\n",
       "<p>8636 rows × 13 columns</p>\n",
       "</div>"
      ],
      "text/plain": [
       "                                               DISTRICT  CHILD_ID  \\\n",
       "0                                                    ET  500335.0   \n",
       "1                                                    ET  479453.0   \n",
       "2                                                    ET  510663.0   \n",
       "3                                                    ET  452482.0   \n",
       "4                                                    ET  506507.0   \n",
       "...                                                 ...       ...   \n",
       "8631                                                 UC  514216.0   \n",
       "8632                                                NaN       NaN   \n",
       "8633                                                NaN       NaN   \n",
       "8634                                                NaN       NaN   \n",
       "8635  9/29/22 JM Corrected in TEIDS. Progress would ...       NaN   \n",
       "\n",
       "     ECO_Entry_DATE  Ent SOCIAL_SCALE  Ent KNOWLEDGE_SCALE  \\\n",
       "0        2021-04-23               5.0                  3.0   \n",
       "1        2020-03-23               7.0                  7.0   \n",
       "2               NaT               NaN                  NaN   \n",
       "3        2019-01-31               2.0                  3.0   \n",
       "4               NaT               NaN                  NaN   \n",
       "...             ...               ...                  ...   \n",
       "8631            NaT               NaN                  NaN   \n",
       "8632            NaT               NaN                  NaN   \n",
       "8633            NaT               NaN                  NaN   \n",
       "8634            NaT               NaN                  NaN   \n",
       "8635            NaT               NaN                  NaN   \n",
       "\n",
       "      Ent APPROPRIATE_ACTION_SCALE ECO_Exit_DATE  Exit SOCIAL_SCALE  \\\n",
       "0                              4.0    2021-10-23                6.0   \n",
       "1                              7.0    2021-08-19                7.0   \n",
       "2                              NaN           NaT                NaN   \n",
       "3                              3.0    2021-11-22                5.0   \n",
       "4                              NaN           NaT                NaN   \n",
       "...                            ...           ...                ...   \n",
       "8631                           NaN           NaT                NaN   \n",
       "8632                           NaN           NaT                NaN   \n",
       "8633                           NaN           NaT                NaN   \n",
       "8634                           NaN           NaT                NaN   \n",
       "8635                           NaN           NaT                NaN   \n",
       "\n",
       "      Exit KNOWLEDGE_SCALE  Exit APPROPRIATE_ACTION_SCALE  Avg_Entry_Score  \\\n",
       "0                      3.0                            4.0         4.000000   \n",
       "1                      7.0                            7.0         7.000000   \n",
       "2                      NaN                            NaN              NaN   \n",
       "3                      3.0                            5.0         2.666667   \n",
       "4                      NaN                            NaN              NaN   \n",
       "...                    ...                            ...              ...   \n",
       "8631                   NaN                            NaN              NaN   \n",
       "8632                   NaN                            NaN              NaN   \n",
       "8633                   NaN                            NaN              NaN   \n",
       "8634                   NaN                            NaN              NaN   \n",
       "8635                   NaN                            NaN              NaN   \n",
       "\n",
       "      Avg_Exit_Score  Days btw I-IFSP to Exit ECO  \n",
       "0           4.333333                        183.0  \n",
       "1           7.000000                        514.0  \n",
       "2                NaN                     -44483.0  \n",
       "3           4.333333                       1026.0  \n",
       "4                NaN                     -44434.0  \n",
       "...              ...                          ...  \n",
       "8631             NaN                     -44537.0  \n",
       "8632             NaN                          NaN  \n",
       "8633             NaN                          NaN  \n",
       "8634             NaN                          NaN  \n",
       "8635             NaN                          NaN  \n",
       "\n",
       "[8636 rows x 13 columns]"
      ]
     },
     "execution_count": 19,
     "metadata": {},
     "output_type": "execute_result"
    }
   ],
   "source": [
    "eco_exit"
   ]
  },
  {
   "cell_type": "code",
   "execution_count": 20,
   "id": "d69fadd2",
   "metadata": {},
   "outputs": [
    {
     "data": {
      "text/html": [
       "<div>\n",
       "<style scoped>\n",
       "    .dataframe tbody tr th:only-of-type {\n",
       "        vertical-align: middle;\n",
       "    }\n",
       "\n",
       "    .dataframe tbody tr th {\n",
       "        vertical-align: top;\n",
       "    }\n",
       "\n",
       "    .dataframe thead th {\n",
       "        text-align: right;\n",
       "    }\n",
       "</style>\n",
       "<table border=\"1\" class=\"dataframe\">\n",
       "  <thead>\n",
       "    <tr style=\"text-align: right;\">\n",
       "      <th></th>\n",
       "      <th>DISTRICT</th>\n",
       "      <th>CHILD_ID</th>\n",
       "      <th>ECO_Entry_DATE</th>\n",
       "      <th>Ent SOCIAL_SCALE</th>\n",
       "      <th>Ent KNOWLEDGE_SCALE</th>\n",
       "      <th>Ent APPROPRIATE_ACTION_SCALE</th>\n",
       "      <th>ECO_Exit_DATE</th>\n",
       "      <th>Exit SOCIAL_SCALE</th>\n",
       "      <th>Exit KNOWLEDGE_SCALE</th>\n",
       "      <th>Exit APPROPRIATE_ACTION_SCALE</th>\n",
       "      <th>Avg_Entry_Score</th>\n",
       "      <th>Avg_Exit_Score</th>\n",
       "      <th>Days btw I-IFSP to Exit ECO</th>\n",
       "    </tr>\n",
       "  </thead>\n",
       "  <tbody>\n",
       "    <tr>\n",
       "      <th>3</th>\n",
       "      <td>ET</td>\n",
       "      <td>452482.0</td>\n",
       "      <td>2019-01-31</td>\n",
       "      <td>2.0</td>\n",
       "      <td>3.0</td>\n",
       "      <td>3.0</td>\n",
       "      <td>2021-11-22</td>\n",
       "      <td>5.0</td>\n",
       "      <td>3.0</td>\n",
       "      <td>5.0</td>\n",
       "      <td>2.666667</td>\n",
       "      <td>4.333333</td>\n",
       "      <td>1026.0</td>\n",
       "    </tr>\n",
       "    <tr>\n",
       "      <th>15</th>\n",
       "      <td>ET</td>\n",
       "      <td>473712.0</td>\n",
       "      <td>2020-05-20</td>\n",
       "      <td>1.0</td>\n",
       "      <td>5.0</td>\n",
       "      <td>1.0</td>\n",
       "      <td>2021-12-10</td>\n",
       "      <td>7.0</td>\n",
       "      <td>7.0</td>\n",
       "      <td>7.0</td>\n",
       "      <td>2.333333</td>\n",
       "      <td>7.000000</td>\n",
       "      <td>569.0</td>\n",
       "    </tr>\n",
       "    <tr>\n",
       "      <th>40</th>\n",
       "      <td>ET</td>\n",
       "      <td>486469.0</td>\n",
       "      <td>2020-08-21</td>\n",
       "      <td>1.0</td>\n",
       "      <td>2.0</td>\n",
       "      <td>5.0</td>\n",
       "      <td>2021-08-17</td>\n",
       "      <td>3.0</td>\n",
       "      <td>1.0</td>\n",
       "      <td>4.0</td>\n",
       "      <td>2.666667</td>\n",
       "      <td>2.666667</td>\n",
       "      <td>361.0</td>\n",
       "    </tr>\n",
       "    <tr>\n",
       "      <th>51</th>\n",
       "      <td>ET</td>\n",
       "      <td>484314.0</td>\n",
       "      <td>2020-07-01</td>\n",
       "      <td>1.0</td>\n",
       "      <td>3.0</td>\n",
       "      <td>4.0</td>\n",
       "      <td>2021-11-22</td>\n",
       "      <td>3.0</td>\n",
       "      <td>3.0</td>\n",
       "      <td>5.0</td>\n",
       "      <td>2.666667</td>\n",
       "      <td>3.666667</td>\n",
       "      <td>509.0</td>\n",
       "    </tr>\n",
       "    <tr>\n",
       "      <th>54</th>\n",
       "      <td>ET</td>\n",
       "      <td>477970.0</td>\n",
       "      <td>2020-09-24</td>\n",
       "      <td>1.0</td>\n",
       "      <td>3.0</td>\n",
       "      <td>4.0</td>\n",
       "      <td>2021-08-24</td>\n",
       "      <td>2.0</td>\n",
       "      <td>3.0</td>\n",
       "      <td>5.0</td>\n",
       "      <td>2.666667</td>\n",
       "      <td>3.333333</td>\n",
       "      <td>526.0</td>\n",
       "    </tr>\n",
       "    <tr>\n",
       "      <th>...</th>\n",
       "      <td>...</td>\n",
       "      <td>...</td>\n",
       "      <td>...</td>\n",
       "      <td>...</td>\n",
       "      <td>...</td>\n",
       "      <td>...</td>\n",
       "      <td>...</td>\n",
       "      <td>...</td>\n",
       "      <td>...</td>\n",
       "      <td>...</td>\n",
       "      <td>...</td>\n",
       "      <td>...</td>\n",
       "      <td>...</td>\n",
       "    </tr>\n",
       "    <tr>\n",
       "      <th>8601</th>\n",
       "      <td>UC</td>\n",
       "      <td>476161.0</td>\n",
       "      <td>2020-10-20</td>\n",
       "      <td>3.0</td>\n",
       "      <td>2.0</td>\n",
       "      <td>3.0</td>\n",
       "      <td>2021-10-12</td>\n",
       "      <td>5.0</td>\n",
       "      <td>7.0</td>\n",
       "      <td>7.0</td>\n",
       "      <td>2.666667</td>\n",
       "      <td>6.333333</td>\n",
       "      <td>357.0</td>\n",
       "    </tr>\n",
       "    <tr>\n",
       "      <th>8611</th>\n",
       "      <td>UC</td>\n",
       "      <td>469594.0</td>\n",
       "      <td>2019-10-16</td>\n",
       "      <td>1.0</td>\n",
       "      <td>4.0</td>\n",
       "      <td>1.0</td>\n",
       "      <td>2021-09-08</td>\n",
       "      <td>3.0</td>\n",
       "      <td>1.0</td>\n",
       "      <td>1.0</td>\n",
       "      <td>2.000000</td>\n",
       "      <td>1.666667</td>\n",
       "      <td>693.0</td>\n",
       "    </tr>\n",
       "    <tr>\n",
       "      <th>8612</th>\n",
       "      <td>UC</td>\n",
       "      <td>492126.0</td>\n",
       "      <td>2020-11-20</td>\n",
       "      <td>2.0</td>\n",
       "      <td>3.0</td>\n",
       "      <td>2.0</td>\n",
       "      <td>2021-05-26</td>\n",
       "      <td>3.0</td>\n",
       "      <td>3.0</td>\n",
       "      <td>1.0</td>\n",
       "      <td>2.333333</td>\n",
       "      <td>2.333333</td>\n",
       "      <td>187.0</td>\n",
       "    </tr>\n",
       "    <tr>\n",
       "      <th>8614</th>\n",
       "      <td>UC</td>\n",
       "      <td>495409.0</td>\n",
       "      <td>2021-02-02</td>\n",
       "      <td>3.0</td>\n",
       "      <td>2.0</td>\n",
       "      <td>3.0</td>\n",
       "      <td>2021-08-04</td>\n",
       "      <td>6.0</td>\n",
       "      <td>4.0</td>\n",
       "      <td>5.0</td>\n",
       "      <td>2.666667</td>\n",
       "      <td>5.000000</td>\n",
       "      <td>196.0</td>\n",
       "    </tr>\n",
       "    <tr>\n",
       "      <th>8626</th>\n",
       "      <td>UC</td>\n",
       "      <td>483729.0</td>\n",
       "      <td>2020-08-25</td>\n",
       "      <td>1.0</td>\n",
       "      <td>3.0</td>\n",
       "      <td>2.0</td>\n",
       "      <td>2021-08-12</td>\n",
       "      <td>6.0</td>\n",
       "      <td>6.0</td>\n",
       "      <td>6.0</td>\n",
       "      <td>2.000000</td>\n",
       "      <td>6.000000</td>\n",
       "      <td>352.0</td>\n",
       "    </tr>\n",
       "  </tbody>\n",
       "</table>\n",
       "<p>1170 rows × 13 columns</p>\n",
       "</div>"
      ],
      "text/plain": [
       "     DISTRICT  CHILD_ID ECO_Entry_DATE  Ent SOCIAL_SCALE  Ent KNOWLEDGE_SCALE  \\\n",
       "3          ET  452482.0     2019-01-31               2.0                  3.0   \n",
       "15         ET  473712.0     2020-05-20               1.0                  5.0   \n",
       "40         ET  486469.0     2020-08-21               1.0                  2.0   \n",
       "51         ET  484314.0     2020-07-01               1.0                  3.0   \n",
       "54         ET  477970.0     2020-09-24               1.0                  3.0   \n",
       "...       ...       ...            ...               ...                  ...   \n",
       "8601       UC  476161.0     2020-10-20               3.0                  2.0   \n",
       "8611       UC  469594.0     2019-10-16               1.0                  4.0   \n",
       "8612       UC  492126.0     2020-11-20               2.0                  3.0   \n",
       "8614       UC  495409.0     2021-02-02               3.0                  2.0   \n",
       "8626       UC  483729.0     2020-08-25               1.0                  3.0   \n",
       "\n",
       "      Ent APPROPRIATE_ACTION_SCALE ECO_Exit_DATE  Exit SOCIAL_SCALE  \\\n",
       "3                              3.0    2021-11-22                5.0   \n",
       "15                             1.0    2021-12-10                7.0   \n",
       "40                             5.0    2021-08-17                3.0   \n",
       "51                             4.0    2021-11-22                3.0   \n",
       "54                             4.0    2021-08-24                2.0   \n",
       "...                            ...           ...                ...   \n",
       "8601                           3.0    2021-10-12                5.0   \n",
       "8611                           1.0    2021-09-08                3.0   \n",
       "8612                           2.0    2021-05-26                3.0   \n",
       "8614                           3.0    2021-08-04                6.0   \n",
       "8626                           2.0    2021-08-12                6.0   \n",
       "\n",
       "      Exit KNOWLEDGE_SCALE  Exit APPROPRIATE_ACTION_SCALE  Avg_Entry_Score  \\\n",
       "3                      3.0                            5.0         2.666667   \n",
       "15                     7.0                            7.0         2.333333   \n",
       "40                     1.0                            4.0         2.666667   \n",
       "51                     3.0                            5.0         2.666667   \n",
       "54                     3.0                            5.0         2.666667   \n",
       "...                    ...                            ...              ...   \n",
       "8601                   7.0                            7.0         2.666667   \n",
       "8611                   1.0                            1.0         2.000000   \n",
       "8612                   3.0                            1.0         2.333333   \n",
       "8614                   4.0                            5.0         2.666667   \n",
       "8626                   6.0                            6.0         2.000000   \n",
       "\n",
       "      Avg_Exit_Score  Days btw I-IFSP to Exit ECO  \n",
       "3           4.333333                       1026.0  \n",
       "15          7.000000                        569.0  \n",
       "40          2.666667                        361.0  \n",
       "51          3.666667                        509.0  \n",
       "54          3.333333                        526.0  \n",
       "...              ...                          ...  \n",
       "8601        6.333333                        357.0  \n",
       "8611        1.666667                        693.0  \n",
       "8612        2.333333                        187.0  \n",
       "8614        5.000000                        196.0  \n",
       "8626        6.000000                        352.0  \n",
       "\n",
       "[1170 rows x 13 columns]"
      ]
     },
     "execution_count": 20,
     "metadata": {},
     "output_type": "execute_result"
    }
   ],
   "source": [
    "eco_exit.loc[eco_exit['Avg_Entry_Score'].between(2.0,2.9)]"
   ]
  },
  {
   "cell_type": "code",
   "execution_count": 21,
   "id": "437e2815",
   "metadata": {},
   "outputs": [
    {
     "data": {
      "text/html": [
       "<div>\n",
       "<style scoped>\n",
       "    .dataframe tbody tr th:only-of-type {\n",
       "        vertical-align: middle;\n",
       "    }\n",
       "\n",
       "    .dataframe tbody tr th {\n",
       "        vertical-align: top;\n",
       "    }\n",
       "\n",
       "    .dataframe thead th {\n",
       "        text-align: right;\n",
       "    }\n",
       "</style>\n",
       "<table border=\"1\" class=\"dataframe\">\n",
       "  <thead>\n",
       "    <tr style=\"text-align: right;\">\n",
       "      <th></th>\n",
       "      <th>DISTRICT</th>\n",
       "      <th>CHILD_ID</th>\n",
       "      <th>ECO_Entry_DATE</th>\n",
       "      <th>Ent SOCIAL_SCALE</th>\n",
       "      <th>Ent KNOWLEDGE_SCALE</th>\n",
       "      <th>Ent APPROPRIATE_ACTION_SCALE</th>\n",
       "      <th>ECO_Exit_DATE</th>\n",
       "      <th>Exit SOCIAL_SCALE</th>\n",
       "      <th>Exit KNOWLEDGE_SCALE</th>\n",
       "      <th>Exit APPROPRIATE_ACTION_SCALE</th>\n",
       "      <th>Avg_Entry_Score</th>\n",
       "      <th>Avg_Exit_Score</th>\n",
       "      <th>Days btw I-IFSP to Exit ECO</th>\n",
       "    </tr>\n",
       "  </thead>\n",
       "  <tbody>\n",
       "    <tr>\n",
       "      <th>36</th>\n",
       "      <td>ET</td>\n",
       "      <td>475788.0</td>\n",
       "      <td>2020-02-05</td>\n",
       "      <td>1.0</td>\n",
       "      <td>5.0</td>\n",
       "      <td>6.0</td>\n",
       "      <td>2021-07-19</td>\n",
       "      <td>2.0</td>\n",
       "      <td>1.0</td>\n",
       "      <td>4.0</td>\n",
       "      <td>4.000000</td>\n",
       "      <td>2.333333</td>\n",
       "      <td>530.0</td>\n",
       "    </tr>\n",
       "    <tr>\n",
       "      <th>40</th>\n",
       "      <td>ET</td>\n",
       "      <td>486469.0</td>\n",
       "      <td>2020-08-21</td>\n",
       "      <td>1.0</td>\n",
       "      <td>2.0</td>\n",
       "      <td>5.0</td>\n",
       "      <td>2021-08-17</td>\n",
       "      <td>3.0</td>\n",
       "      <td>1.0</td>\n",
       "      <td>4.0</td>\n",
       "      <td>2.666667</td>\n",
       "      <td>2.666667</td>\n",
       "      <td>361.0</td>\n",
       "    </tr>\n",
       "    <tr>\n",
       "      <th>56</th>\n",
       "      <td>ET</td>\n",
       "      <td>490882.0</td>\n",
       "      <td>2021-04-29</td>\n",
       "      <td>1.0</td>\n",
       "      <td>3.0</td>\n",
       "      <td>4.0</td>\n",
       "      <td>2021-10-07</td>\n",
       "      <td>1.0</td>\n",
       "      <td>2.0</td>\n",
       "      <td>4.0</td>\n",
       "      <td>2.666667</td>\n",
       "      <td>2.333333</td>\n",
       "      <td>161.0</td>\n",
       "    </tr>\n",
       "    <tr>\n",
       "      <th>61</th>\n",
       "      <td>ET</td>\n",
       "      <td>486813.0</td>\n",
       "      <td>2020-08-27</td>\n",
       "      <td>1.0</td>\n",
       "      <td>3.0</td>\n",
       "      <td>5.0</td>\n",
       "      <td>2022-02-01</td>\n",
       "      <td>2.0</td>\n",
       "      <td>2.0</td>\n",
       "      <td>4.0</td>\n",
       "      <td>3.000000</td>\n",
       "      <td>2.666667</td>\n",
       "      <td>523.0</td>\n",
       "    </tr>\n",
       "    <tr>\n",
       "      <th>119</th>\n",
       "      <td>ET</td>\n",
       "      <td>496592.0</td>\n",
       "      <td>2021-03-22</td>\n",
       "      <td>1.0</td>\n",
       "      <td>1.0</td>\n",
       "      <td>3.0</td>\n",
       "      <td>2021-08-23</td>\n",
       "      <td>2.0</td>\n",
       "      <td>2.0</td>\n",
       "      <td>4.0</td>\n",
       "      <td>1.666667</td>\n",
       "      <td>2.666667</td>\n",
       "      <td>182.0</td>\n",
       "    </tr>\n",
       "    <tr>\n",
       "      <th>...</th>\n",
       "      <td>...</td>\n",
       "      <td>...</td>\n",
       "      <td>...</td>\n",
       "      <td>...</td>\n",
       "      <td>...</td>\n",
       "      <td>...</td>\n",
       "      <td>...</td>\n",
       "      <td>...</td>\n",
       "      <td>...</td>\n",
       "      <td>...</td>\n",
       "      <td>...</td>\n",
       "      <td>...</td>\n",
       "      <td>...</td>\n",
       "    </tr>\n",
       "    <tr>\n",
       "      <th>8565</th>\n",
       "      <td>UC</td>\n",
       "      <td>479762.0</td>\n",
       "      <td>2020-06-30</td>\n",
       "      <td>2.0</td>\n",
       "      <td>4.0</td>\n",
       "      <td>2.0</td>\n",
       "      <td>2021-12-08</td>\n",
       "      <td>2.0</td>\n",
       "      <td>4.0</td>\n",
       "      <td>2.0</td>\n",
       "      <td>2.666667</td>\n",
       "      <td>2.666667</td>\n",
       "      <td>526.0</td>\n",
       "    </tr>\n",
       "    <tr>\n",
       "      <th>8567</th>\n",
       "      <td>UC</td>\n",
       "      <td>462401.0</td>\n",
       "      <td>2019-06-13</td>\n",
       "      <td>1.0</td>\n",
       "      <td>1.0</td>\n",
       "      <td>1.0</td>\n",
       "      <td>2021-06-01</td>\n",
       "      <td>1.0</td>\n",
       "      <td>2.0</td>\n",
       "      <td>3.0</td>\n",
       "      <td>1.000000</td>\n",
       "      <td>2.000000</td>\n",
       "      <td>719.0</td>\n",
       "    </tr>\n",
       "    <tr>\n",
       "      <th>8608</th>\n",
       "      <td>UC</td>\n",
       "      <td>484332.0</td>\n",
       "      <td>2020-07-22</td>\n",
       "      <td>3.0</td>\n",
       "      <td>2.0</td>\n",
       "      <td>4.0</td>\n",
       "      <td>2021-06-09</td>\n",
       "      <td>3.0</td>\n",
       "      <td>1.0</td>\n",
       "      <td>4.0</td>\n",
       "      <td>3.000000</td>\n",
       "      <td>2.666667</td>\n",
       "      <td>336.0</td>\n",
       "    </tr>\n",
       "    <tr>\n",
       "      <th>8612</th>\n",
       "      <td>UC</td>\n",
       "      <td>492126.0</td>\n",
       "      <td>2020-11-20</td>\n",
       "      <td>2.0</td>\n",
       "      <td>3.0</td>\n",
       "      <td>2.0</td>\n",
       "      <td>2021-05-26</td>\n",
       "      <td>3.0</td>\n",
       "      <td>3.0</td>\n",
       "      <td>1.0</td>\n",
       "      <td>2.333333</td>\n",
       "      <td>2.333333</td>\n",
       "      <td>187.0</td>\n",
       "    </tr>\n",
       "    <tr>\n",
       "      <th>8624</th>\n",
       "      <td>UC</td>\n",
       "      <td>490337.0</td>\n",
       "      <td>2020-11-09</td>\n",
       "      <td>3.0</td>\n",
       "      <td>1.0</td>\n",
       "      <td>1.0</td>\n",
       "      <td>2021-05-12</td>\n",
       "      <td>3.0</td>\n",
       "      <td>3.0</td>\n",
       "      <td>1.0</td>\n",
       "      <td>1.666667</td>\n",
       "      <td>2.333333</td>\n",
       "      <td>184.0</td>\n",
       "    </tr>\n",
       "  </tbody>\n",
       "</table>\n",
       "<p>529 rows × 13 columns</p>\n",
       "</div>"
      ],
      "text/plain": [
       "     DISTRICT  CHILD_ID ECO_Entry_DATE  Ent SOCIAL_SCALE  Ent KNOWLEDGE_SCALE  \\\n",
       "36         ET  475788.0     2020-02-05               1.0                  5.0   \n",
       "40         ET  486469.0     2020-08-21               1.0                  2.0   \n",
       "56         ET  490882.0     2021-04-29               1.0                  3.0   \n",
       "61         ET  486813.0     2020-08-27               1.0                  3.0   \n",
       "119        ET  496592.0     2021-03-22               1.0                  1.0   \n",
       "...       ...       ...            ...               ...                  ...   \n",
       "8565       UC  479762.0     2020-06-30               2.0                  4.0   \n",
       "8567       UC  462401.0     2019-06-13               1.0                  1.0   \n",
       "8608       UC  484332.0     2020-07-22               3.0                  2.0   \n",
       "8612       UC  492126.0     2020-11-20               2.0                  3.0   \n",
       "8624       UC  490337.0     2020-11-09               3.0                  1.0   \n",
       "\n",
       "      Ent APPROPRIATE_ACTION_SCALE ECO_Exit_DATE  Exit SOCIAL_SCALE  \\\n",
       "36                             6.0    2021-07-19                2.0   \n",
       "40                             5.0    2021-08-17                3.0   \n",
       "56                             4.0    2021-10-07                1.0   \n",
       "61                             5.0    2022-02-01                2.0   \n",
       "119                            3.0    2021-08-23                2.0   \n",
       "...                            ...           ...                ...   \n",
       "8565                           2.0    2021-12-08                2.0   \n",
       "8567                           1.0    2021-06-01                1.0   \n",
       "8608                           4.0    2021-06-09                3.0   \n",
       "8612                           2.0    2021-05-26                3.0   \n",
       "8624                           1.0    2021-05-12                3.0   \n",
       "\n",
       "      Exit KNOWLEDGE_SCALE  Exit APPROPRIATE_ACTION_SCALE  Avg_Entry_Score  \\\n",
       "36                     1.0                            4.0         4.000000   \n",
       "40                     1.0                            4.0         2.666667   \n",
       "56                     2.0                            4.0         2.666667   \n",
       "61                     2.0                            4.0         3.000000   \n",
       "119                    2.0                            4.0         1.666667   \n",
       "...                    ...                            ...              ...   \n",
       "8565                   4.0                            2.0         2.666667   \n",
       "8567                   2.0                            3.0         1.000000   \n",
       "8608                   1.0                            4.0         3.000000   \n",
       "8612                   3.0                            1.0         2.333333   \n",
       "8624                   3.0                            1.0         1.666667   \n",
       "\n",
       "      Avg_Exit_Score  Days btw I-IFSP to Exit ECO  \n",
       "36          2.333333                        530.0  \n",
       "40          2.666667                        361.0  \n",
       "56          2.333333                        161.0  \n",
       "61          2.666667                        523.0  \n",
       "119         2.666667                        182.0  \n",
       "...              ...                          ...  \n",
       "8565        2.666667                        526.0  \n",
       "8567        2.000000                        719.0  \n",
       "8608        2.666667                        336.0  \n",
       "8612        2.333333                        187.0  \n",
       "8624        2.333333                        184.0  \n",
       "\n",
       "[529 rows x 13 columns]"
      ]
     },
     "execution_count": 21,
     "metadata": {},
     "output_type": "execute_result"
    }
   ],
   "source": [
    "eco_exit.loc[eco_exit['Avg_Exit_Score'].between(2.0,2.9)]"
   ]
  },
  {
   "cell_type": "code",
   "execution_count": 22,
   "id": "163ccd46",
   "metadata": {},
   "outputs": [],
   "source": [
    "no_progress_social=eco_exit[(eco_exit['Ent SOCIAL_SCALE']==2) & (eco_exit['Exit SOCIAL_SCALE']==2)]\n",
    "no_progress_know=eco_exit[(eco_exit['Ent KNOWLEDGE_SCALE']==2) & (eco_exit['Exit KNOWLEDGE_SCALE']==2)]\n",
    "no_progress_aa=eco_exit[(eco_exit['Ent APPROPRIATE_ACTION_SCALE']==2) & (eco_exit['Exit APPROPRIATE_ACTION_SCALE']==2)]"
   ]
  },
  {
   "cell_type": "code",
   "execution_count": 23,
   "id": "1880f5bb",
   "metadata": {},
   "outputs": [
    {
     "data": {
      "text/plain": [
       "<bound method NDFrame.head of      DISTRICT  CHILD_ID ECO_Entry_DATE  Ent SOCIAL_SCALE  Ent KNOWLEDGE_SCALE  \\\n",
       "17         ET  500498.0     2021-04-16               2.0                  1.0   \n",
       "229        ET  488763.0     2020-10-07               2.0                  3.0   \n",
       "488        ET  505997.0     2021-07-22               2.0                  5.0   \n",
       "507        ET  497056.0     2021-03-10               2.0                  5.0   \n",
       "797        ET  493861.0     2021-02-05               2.0                  5.0   \n",
       "...       ...       ...            ...               ...                  ...   \n",
       "8296       UC  481923.0     2020-06-24               2.0                  2.0   \n",
       "8350       UC  497878.0     2021-03-02               2.0                  3.0   \n",
       "8382       UC  486264.0     2020-08-05               2.0                  2.0   \n",
       "8565       UC  479762.0     2020-06-30               2.0                  4.0   \n",
       "8604       UC  469626.0     2019-10-16               2.0                  5.0   \n",
       "\n",
       "      Ent APPROPRIATE_ACTION_SCALE ECO_Exit_DATE  Exit SOCIAL_SCALE  \\\n",
       "17                             2.0    2021-10-14                2.0   \n",
       "229                            6.0    2021-04-06                2.0   \n",
       "488                            1.0    2022-01-19                2.0   \n",
       "507                            2.0    2021-08-27                2.0   \n",
       "797                            2.0    2021-08-24                2.0   \n",
       "...                            ...           ...                ...   \n",
       "8296                           2.0    2021-06-23                2.0   \n",
       "8350                           1.0    2021-10-20                2.0   \n",
       "8382                           2.0    2021-08-04                2.0   \n",
       "8565                           2.0    2021-12-08                2.0   \n",
       "8604                           2.0    2022-03-04                2.0   \n",
       "\n",
       "      Exit KNOWLEDGE_SCALE  Exit APPROPRIATE_ACTION_SCALE  Avg_Entry_Score  \\\n",
       "17                     1.0                            2.0         1.666667   \n",
       "229                    2.0                            4.0         3.666667   \n",
       "488                    3.0                            1.0         2.666667   \n",
       "507                    5.0                            2.0         3.000000   \n",
       "797                    5.0                            1.0         3.000000   \n",
       "...                    ...                            ...              ...   \n",
       "8296                   3.0                            7.0         2.000000   \n",
       "8350                   5.0                            1.0         2.000000   \n",
       "8382                   2.0                            3.0         2.000000   \n",
       "8565                   4.0                            2.0         2.666667   \n",
       "8604                   1.0                            1.0         3.000000   \n",
       "\n",
       "      Avg_Exit_Score  Days btw I-IFSP to Exit ECO  \n",
       "17          1.666667                        181.0  \n",
       "229         2.666667                        181.0  \n",
       "488         2.000000                        181.0  \n",
       "507         3.000000                        170.0  \n",
       "797         2.666667                        200.0  \n",
       "...              ...                          ...  \n",
       "8296        4.000000                        364.0  \n",
       "8350        2.666667                        232.0  \n",
       "8382        2.333333                        364.0  \n",
       "8565        2.666667                        526.0  \n",
       "8604        1.333333                        870.0  \n",
       "\n",
       "[152 rows x 13 columns]>"
      ]
     },
     "execution_count": 23,
     "metadata": {},
     "output_type": "execute_result"
    }
   ],
   "source": [
    "no_progress_social.head"
   ]
  },
  {
   "cell_type": "code",
   "execution_count": 24,
   "id": "412acb90",
   "metadata": {},
   "outputs": [
    {
     "data": {
      "text/plain": [
       "<bound method NDFrame.head of      DISTRICT  CHILD_ID ECO_Entry_DATE  Ent SOCIAL_SCALE  Ent KNOWLEDGE_SCALE  \\\n",
       "22         ET  493241.0     2021-05-11               5.0                  2.0   \n",
       "118        ET  487690.0     2020-08-24               7.0                  2.0   \n",
       "181        ET  480570.0     2021-01-14               2.0                  2.0   \n",
       "252        ET  501399.0     2021-05-06               5.0                  2.0   \n",
       "254        ET  488278.0     2020-09-21               4.0                  2.0   \n",
       "...       ...       ...            ...               ...                  ...   \n",
       "8278       UC  506370.0     2021-07-30               2.0                  2.0   \n",
       "8338       UC  457946.0     2019-04-26               1.0                  2.0   \n",
       "8382       UC  486264.0     2020-08-05               2.0                  2.0   \n",
       "8456       UC  491203.0     2020-11-17               4.0                  2.0   \n",
       "8460       UC  497544.0     2021-03-25               3.0                  2.0   \n",
       "\n",
       "      Ent APPROPRIATE_ACTION_SCALE ECO_Exit_DATE  Exit SOCIAL_SCALE  \\\n",
       "22                             6.0    2021-10-25                5.0   \n",
       "118                            6.0    2021-02-17                7.0   \n",
       "181                            4.0    2021-07-08                4.0   \n",
       "252                            1.0    2021-11-04                1.0   \n",
       "254                            4.0    2021-09-16                6.0   \n",
       "...                            ...           ...                ...   \n",
       "8278                           3.0    2022-01-19                3.0   \n",
       "8338                           1.0    2021-09-15                5.0   \n",
       "8382                           2.0    2021-08-04                2.0   \n",
       "8456                           4.0    2021-05-12                6.0   \n",
       "8460                           2.0    2021-08-09                3.0   \n",
       "\n",
       "      Exit KNOWLEDGE_SCALE  Exit APPROPRIATE_ACTION_SCALE  Avg_Entry_Score  \\\n",
       "22                     2.0                            4.0         4.333333   \n",
       "118                    2.0                            6.0         5.000000   \n",
       "181                    2.0                            6.0         2.666667   \n",
       "252                    2.0                            6.0         2.666667   \n",
       "254                    2.0                            3.0         3.333333   \n",
       "...                    ...                            ...              ...   \n",
       "8278                   2.0                            3.0         2.333333   \n",
       "8338                   2.0                            6.0         1.333333   \n",
       "8382                   2.0                            3.0         2.000000   \n",
       "8456                   2.0                            4.0         3.333333   \n",
       "8460                   2.0                            2.0         2.333333   \n",
       "\n",
       "      Avg_Exit_Score  Days btw I-IFSP to Exit ECO  \n",
       "22          3.666667                        167.0  \n",
       "118         5.000000                        177.0  \n",
       "181         4.000000                        175.0  \n",
       "252         3.000000                        182.0  \n",
       "254         3.666667                        360.0  \n",
       "...              ...                          ...  \n",
       "8278        2.666667                        173.0  \n",
       "8338        4.333333                        873.0  \n",
       "8382        2.333333                        364.0  \n",
       "8456        4.000000                        176.0  \n",
       "8460        2.333333                        137.0  \n",
       "\n",
       "[91 rows x 13 columns]>"
      ]
     },
     "execution_count": 24,
     "metadata": {},
     "output_type": "execute_result"
    }
   ],
   "source": [
    "no_progress_know.head"
   ]
  },
  {
   "cell_type": "code",
   "execution_count": 25,
   "id": "b344ac4b",
   "metadata": {},
   "outputs": [
    {
     "data": {
      "text/plain": [
       "<bound method NDFrame.head of      DISTRICT  CHILD_ID ECO_Entry_DATE  Ent SOCIAL_SCALE  Ent KNOWLEDGE_SCALE  \\\n",
       "17         ET  500498.0     2021-04-16               2.0                  1.0   \n",
       "49         ET  506116.0     2021-07-07               1.0                  1.0   \n",
       "107        ET  509730.0     2021-10-27               2.0                  5.0   \n",
       "185        ET  493518.0     2021-02-25               1.0                  1.0   \n",
       "203        ET  502821.0     2021-06-04               1.0                  1.0   \n",
       "...       ...       ...            ...               ...                  ...   \n",
       "8148       UC  489551.0     2020-12-23               1.0                  1.0   \n",
       "8388       UC  494800.0     2021-01-27               1.0                  1.0   \n",
       "8422       UC  465699.0     2019-10-03               2.0                  5.0   \n",
       "8460       UC  497544.0     2021-03-25               3.0                  2.0   \n",
       "8565       UC  479762.0     2020-06-30               2.0                  4.0   \n",
       "\n",
       "      Ent APPROPRIATE_ACTION_SCALE ECO_Exit_DATE  Exit SOCIAL_SCALE  \\\n",
       "17                             2.0    2021-10-14                2.0   \n",
       "49                             2.0    2021-12-13                2.0   \n",
       "107                            2.0    2022-04-22                3.0   \n",
       "185                            2.0    2021-06-17                1.0   \n",
       "203                            2.0    2021-11-17                1.0   \n",
       "...                            ...           ...                ...   \n",
       "8148                           2.0    2021-05-27                1.0   \n",
       "8388                           2.0    2022-01-21                1.0   \n",
       "8422                           2.0    2020-01-14                3.0   \n",
       "8460                           2.0    2021-08-09                3.0   \n",
       "8565                           2.0    2021-12-08                2.0   \n",
       "\n",
       "      Exit KNOWLEDGE_SCALE  Exit APPROPRIATE_ACTION_SCALE  Avg_Entry_Score  \\\n",
       "17                     1.0                            2.0         1.666667   \n",
       "49                     1.0                            2.0         1.333333   \n",
       "107                    5.0                            2.0         3.000000   \n",
       "185                    1.0                            2.0         1.333333   \n",
       "203                    1.0                            2.0         1.333333   \n",
       "...                    ...                            ...              ...   \n",
       "8148                   1.0                            2.0         1.333333   \n",
       "8388                   1.0                            2.0         1.333333   \n",
       "8422                   5.0                            2.0         3.000000   \n",
       "8460                   2.0                            2.0         2.333333   \n",
       "8565                   4.0                            2.0         2.666667   \n",
       "\n",
       "      Avg_Exit_Score  Days btw I-IFSP to Exit ECO  \n",
       "17          1.666667                        181.0  \n",
       "49          1.666667                        159.0  \n",
       "107         3.333333                        177.0  \n",
       "185         1.333333                        170.0  \n",
       "203         1.333333                        166.0  \n",
       "...              ...                          ...  \n",
       "8148        1.333333                        196.0  \n",
       "8388        1.333333                        359.0  \n",
       "8422        3.333333                        167.0  \n",
       "8460        2.333333                        137.0  \n",
       "8565        2.666667                        526.0  \n",
       "\n",
       "[104 rows x 13 columns]>"
      ]
     },
     "execution_count": 25,
     "metadata": {},
     "output_type": "execute_result"
    }
   ],
   "source": [
    "no_progress_aa.head"
   ]
  },
  {
   "cell_type": "code",
   "execution_count": 26,
   "id": "3ce1b062",
   "metadata": {},
   "outputs": [],
   "source": [
    "decrease_social=eco_exit[(eco_exit['Ent SOCIAL_SCALE']==2) & (eco_exit['Exit SOCIAL_SCALE']<2)]\n",
    "decrease_know=eco_exit[(eco_exit['Ent KNOWLEDGE_SCALE']==2) & (eco_exit['Exit KNOWLEDGE_SCALE']<2)]\n",
    "decrease_aa=eco_exit[(eco_exit['Ent APPROPRIATE_ACTION_SCALE']==2) & (eco_exit['Exit APPROPRIATE_ACTION_SCALE']<2)]"
   ]
  },
  {
   "cell_type": "code",
   "execution_count": 27,
   "id": "84dc222a",
   "metadata": {},
   "outputs": [
    {
     "data": {
      "text/plain": [
       "<bound method NDFrame.head of      DISTRICT  CHILD_ID ECO_Entry_DATE  Ent SOCIAL_SCALE  Ent KNOWLEDGE_SCALE  \\\n",
       "9          ET  489949.0     2020-10-20               2.0                  1.0   \n",
       "310        ET  444163.0     2018-10-29               2.0                  1.0   \n",
       "347        ET  486966.0     2020-09-02               2.0                  3.0   \n",
       "681        ET  495292.0     2021-02-01               2.0                  2.0   \n",
       "904        ET  482077.0     2020-06-18               2.0                  3.0   \n",
       "...       ...       ...            ...               ...                  ...   \n",
       "7959       UC  465803.0     2019-07-26               2.0                  1.0   \n",
       "8054       UC  461597.0     2019-06-07               2.0                  1.0   \n",
       "8198       UC  450397.0     2019-01-28               2.0                  3.0   \n",
       "8254       UC  444052.0     2018-10-18               2.0                  1.0   \n",
       "8480       UC  461124.0     2019-05-30               2.0                  1.0   \n",
       "\n",
       "      Ent APPROPRIATE_ACTION_SCALE ECO_Exit_DATE  Exit SOCIAL_SCALE  \\\n",
       "9                              2.0    2021-09-30                1.0   \n",
       "310                            2.0    2020-09-02                1.0   \n",
       "347                            5.0    2021-08-18                1.0   \n",
       "681                            2.0    2022-01-24                1.0   \n",
       "904                            6.0    2021-10-27                1.0   \n",
       "...                            ...           ...                ...   \n",
       "7959                           1.0    2021-07-02                1.0   \n",
       "8054                           2.0    2021-11-03                1.0   \n",
       "8198                           1.0    2021-08-11                1.0   \n",
       "8254                           2.0    2020-10-09                1.0   \n",
       "8480                           1.0    2021-10-12                1.0   \n",
       "\n",
       "      Exit KNOWLEDGE_SCALE  Exit APPROPRIATE_ACTION_SCALE  Avg_Entry_Score  \\\n",
       "9                      4.0                            5.0         1.666667   \n",
       "310                    1.0                            1.0         1.666667   \n",
       "347                    1.0                            3.0         3.333333   \n",
       "681                    1.0                            3.0         2.000000   \n",
       "904                    1.0                            1.0         3.666667   \n",
       "...                    ...                            ...              ...   \n",
       "7959                   1.0                            1.0         1.333333   \n",
       "8054                   1.0                            1.0         1.666667   \n",
       "8198                   1.0                            1.0         2.000000   \n",
       "8254                   1.0                            1.0         1.666667   \n",
       "8480                   1.0                            1.0         1.333333   \n",
       "\n",
       "      Avg_Exit_Score  Days btw I-IFSP to Exit ECO  \n",
       "9           3.333333                        345.0  \n",
       "310         1.000000                        695.0  \n",
       "347         1.666667                        350.0  \n",
       "681         1.666667                        357.0  \n",
       "904         1.000000                        496.0  \n",
       "...              ...                          ...  \n",
       "7959        1.000000                        707.0  \n",
       "8054        1.000000                        880.0  \n",
       "8198        1.000000                        926.0  \n",
       "8254        1.000000                        722.0  \n",
       "8480        1.000000                        866.0  \n",
       "\n",
       "[88 rows x 13 columns]>"
      ]
     },
     "execution_count": 27,
     "metadata": {},
     "output_type": "execute_result"
    }
   ],
   "source": [
    "decrease_social.head"
   ]
  },
  {
   "cell_type": "code",
   "execution_count": 28,
   "id": "a2daa3ed",
   "metadata": {},
   "outputs": [
    {
     "data": {
      "text/plain": [
       "<bound method NDFrame.head of      DISTRICT  CHILD_ID ECO_Entry_DATE  Ent SOCIAL_SCALE  Ent KNOWLEDGE_SCALE  \\\n",
       "40         ET  486469.0     2020-08-21               1.0                  2.0   \n",
       "171        ET  479734.0     2020-05-13               1.0                  2.0   \n",
       "421        ET  482178.0     2020-06-02               1.0                  2.0   \n",
       "437        ET  461765.0     2021-04-08               1.0                  2.0   \n",
       "468        ET  461487.0     2019-06-06               1.0                  2.0   \n",
       "...       ...       ...            ...               ...                  ...   \n",
       "8298       UC  461176.0     2021-03-01               2.0                  2.0   \n",
       "8396       UC  494621.0     2021-02-03               3.0                  2.0   \n",
       "8522       UC  501015.0     2021-05-20               3.0                  2.0   \n",
       "8564       UC  460258.0     2019-05-15               1.0                  2.0   \n",
       "8608       UC  484332.0     2020-07-22               3.0                  2.0   \n",
       "\n",
       "      Ent APPROPRIATE_ACTION_SCALE ECO_Exit_DATE  Exit SOCIAL_SCALE  \\\n",
       "40                             5.0    2021-08-17                3.0   \n",
       "171                            3.0    2021-05-03                3.0   \n",
       "421                            2.0    2021-05-17                2.0   \n",
       "437                            2.0    2022-03-29                2.0   \n",
       "468                            1.0    2021-04-26                3.0   \n",
       "...                            ...           ...                ...   \n",
       "8298                           1.0    2021-08-04                3.0   \n",
       "8396                           4.0    2022-02-01                4.0   \n",
       "8522                           4.0    2021-11-03                3.0   \n",
       "8564                           2.0    2021-06-08                2.0   \n",
       "8608                           4.0    2021-06-09                3.0   \n",
       "\n",
       "      Exit KNOWLEDGE_SCALE  Exit APPROPRIATE_ACTION_SCALE  Avg_Entry_Score  \\\n",
       "40                     1.0                            4.0         2.666667   \n",
       "171                    1.0                            2.0         2.000000   \n",
       "421                    1.0                            1.0         1.666667   \n",
       "437                    1.0                            2.0         1.666667   \n",
       "468                    1.0                            1.0         1.333333   \n",
       "...                    ...                            ...              ...   \n",
       "8298                   1.0                            3.0         1.666667   \n",
       "8396                   1.0                            4.0         3.000000   \n",
       "8522                   1.0                            4.0         3.000000   \n",
       "8564                   1.0                            3.0         1.666667   \n",
       "8608                   1.0                            4.0         3.000000   \n",
       "\n",
       "      Avg_Exit_Score  Days btw I-IFSP to Exit ECO  \n",
       "40          2.666667                        361.0  \n",
       "171         2.000000                        355.0  \n",
       "421         1.333333                        349.0  \n",
       "437         1.666667                        355.0  \n",
       "468         1.666667                        690.0  \n",
       "...              ...                          ...  \n",
       "8298        2.333333                        156.0  \n",
       "8396        3.000000                        363.0  \n",
       "8522        2.666667                        167.0  \n",
       "8564        2.000000                        778.0  \n",
       "8608        2.666667                        336.0  \n",
       "\n",
       "[167 rows x 13 columns]>"
      ]
     },
     "execution_count": 28,
     "metadata": {},
     "output_type": "execute_result"
    }
   ],
   "source": [
    "decrease_know.head"
   ]
  },
  {
   "cell_type": "code",
   "execution_count": 29,
   "id": "f54e6d06",
   "metadata": {},
   "outputs": [
    {
     "data": {
      "text/plain": [
       "<bound method NDFrame.head of      DISTRICT  CHILD_ID ECO_Entry_DATE  Ent SOCIAL_SCALE  Ent KNOWLEDGE_SCALE  \\\n",
       "291        ET  462746.0     2019-06-27               1.0                  5.0   \n",
       "310        ET  444163.0     2018-10-29               2.0                  1.0   \n",
       "380        ET  451832.0     2020-01-10               3.0                  4.0   \n",
       "421        ET  482178.0     2020-06-02               1.0                  2.0   \n",
       "797        ET  493861.0     2021-02-05               2.0                  5.0   \n",
       "...       ...       ...            ...               ...                  ...   \n",
       "8254       UC  444052.0     2018-10-18               2.0                  1.0   \n",
       "8309       UC  487422.0     2020-09-04               2.0                  5.0   \n",
       "8486       UC  490772.0     2020-11-16               1.0                  1.0   \n",
       "8604       UC  469626.0     2019-10-16               2.0                  5.0   \n",
       "8612       UC  492126.0     2020-11-20               2.0                  3.0   \n",
       "\n",
       "      Ent APPROPRIATE_ACTION_SCALE ECO_Exit_DATE  Exit SOCIAL_SCALE  \\\n",
       "291                            2.0    2021-06-24                1.0   \n",
       "310                            2.0    2020-09-02                1.0   \n",
       "380                            2.0    2021-02-16                1.0   \n",
       "421                            2.0    2021-05-17                2.0   \n",
       "797                            2.0    2021-08-24                2.0   \n",
       "...                            ...           ...                ...   \n",
       "8254                           2.0    2020-10-09                1.0   \n",
       "8309                           2.0    2022-02-22                3.0   \n",
       "8486                           2.0    2021-11-02                1.0   \n",
       "8604                           2.0    2022-03-04                2.0   \n",
       "8612                           2.0    2021-05-26                3.0   \n",
       "\n",
       "      Exit KNOWLEDGE_SCALE  Exit APPROPRIATE_ACTION_SCALE  Avg_Entry_Score  \\\n",
       "291                    1.0                            1.0         2.666667   \n",
       "310                    1.0                            1.0         1.666667   \n",
       "380                    1.0                            1.0         3.000000   \n",
       "421                    1.0                            1.0         1.666667   \n",
       "797                    5.0                            1.0         3.000000   \n",
       "...                    ...                            ...              ...   \n",
       "8254                   1.0                            1.0         1.666667   \n",
       "8309                   5.0                            1.0         3.000000   \n",
       "8486                   1.0                            1.0         1.333333   \n",
       "8604                   1.0                            1.0         3.000000   \n",
       "8612                   3.0                            1.0         2.333333   \n",
       "\n",
       "      Avg_Exit_Score  Days btw I-IFSP to Exit ECO  \n",
       "291         1.000000                        728.0  \n",
       "310         1.000000                        695.0  \n",
       "380         1.000000                        432.0  \n",
       "421         1.333333                        349.0  \n",
       "797         2.666667                        200.0  \n",
       "...              ...                          ...  \n",
       "8254        1.000000                        722.0  \n",
       "8309        3.000000                        536.0  \n",
       "8486        1.000000                        351.0  \n",
       "8604        1.333333                        870.0  \n",
       "8612        2.333333                        187.0  \n",
       "\n",
       "[82 rows x 13 columns]>"
      ]
     },
     "execution_count": 29,
     "metadata": {},
     "output_type": "execute_result"
    }
   ],
   "source": [
    "decrease_aa.head"
   ]
  },
  {
   "cell_type": "code",
   "execution_count": 30,
   "id": "b133cda4",
   "metadata": {},
   "outputs": [],
   "source": [
    "increase_social=eco_exit[(eco_exit['Ent SOCIAL_SCALE']==2) & (eco_exit['Exit SOCIAL_SCALE']>2)]\n",
    "increase_know=eco_exit[(eco_exit['Ent KNOWLEDGE_SCALE']==2) & (eco_exit['Exit KNOWLEDGE_SCALE']>2)]\n",
    "increase_aa=eco_exit[(eco_exit['Ent APPROPRIATE_ACTION_SCALE']==2) & (eco_exit['Exit APPROPRIATE_ACTION_SCALE']>2)]"
   ]
  },
  {
   "cell_type": "code",
   "execution_count": 31,
   "id": "23fd1915",
   "metadata": {},
   "outputs": [
    {
     "data": {
      "text/plain": [
       "<bound method NDFrame.head of      DISTRICT  CHILD_ID ECO_Entry_DATE  Ent SOCIAL_SCALE  Ent KNOWLEDGE_SCALE  \\\n",
       "3          ET  452482.0     2019-01-31               2.0                  3.0   \n",
       "5          ET  494216.0     2021-01-06               2.0                  4.0   \n",
       "19         ET  480351.0     2020-04-30               2.0                  3.0   \n",
       "33         ET  484687.0     2020-07-13               2.0                  5.0   \n",
       "34         ET  469115.0     2019-10-14               2.0                  4.0   \n",
       "...       ...       ...            ...               ...                  ...   \n",
       "8579       UC  456867.0     2019-04-26               2.0                  7.0   \n",
       "8580       UC  483054.0     2020-06-09               2.0                  3.0   \n",
       "8599       UC  480731.0     2020-07-21               2.0                  5.0   \n",
       "8607       UC  472442.0     2019-12-04               2.0                  1.0   \n",
       "8612       UC  492126.0     2020-11-20               2.0                  3.0   \n",
       "\n",
       "      Ent APPROPRIATE_ACTION_SCALE ECO_Exit_DATE  Exit SOCIAL_SCALE  \\\n",
       "3                              3.0    2021-11-22                5.0   \n",
       "5                              6.0    2021-06-30                4.0   \n",
       "19                             5.0    2021-04-15                5.0   \n",
       "33                             6.0    2021-07-01                4.0   \n",
       "34                             7.0    2021-09-01                7.0   \n",
       "...                            ...           ...                ...   \n",
       "8579                           7.0    2021-10-28                7.0   \n",
       "8580                           5.0    2021-06-04                7.0   \n",
       "8599                           2.0    2021-07-14                7.0   \n",
       "8607                           1.0    2021-07-28                6.0   \n",
       "8612                           2.0    2021-05-26                3.0   \n",
       "\n",
       "      Exit KNOWLEDGE_SCALE  Exit APPROPRIATE_ACTION_SCALE  Avg_Entry_Score  \\\n",
       "3                      3.0                            5.0         2.666667   \n",
       "5                      5.0                            7.0         4.000000   \n",
       "19                     2.0                            6.0         3.333333   \n",
       "33                     2.0                            6.0         4.333333   \n",
       "34                     7.0                            7.0         4.333333   \n",
       "...                    ...                            ...              ...   \n",
       "8579                   7.0                            7.0         5.333333   \n",
       "8580                   3.0                            6.0         3.333333   \n",
       "8599                   7.0                            7.0         3.000000   \n",
       "8607                   6.0                            7.0         1.333333   \n",
       "8612                   3.0                            1.0         2.333333   \n",
       "\n",
       "      Avg_Exit_Score  Days btw I-IFSP to Exit ECO  \n",
       "3           4.333333                       1026.0  \n",
       "5           5.333333                        175.0  \n",
       "19          4.333333                        350.0  \n",
       "33          4.000000                        353.0  \n",
       "34          7.000000                        688.0  \n",
       "...              ...                          ...  \n",
       "8579        7.000000                        916.0  \n",
       "8580        5.333333                        360.0  \n",
       "8599        7.000000                        358.0  \n",
       "8607        6.333333                        602.0  \n",
       "8612        2.333333                        187.0  \n",
       "\n",
       "[811 rows x 13 columns]>"
      ]
     },
     "execution_count": 31,
     "metadata": {},
     "output_type": "execute_result"
    }
   ],
   "source": [
    "increase_social.head"
   ]
  },
  {
   "cell_type": "code",
   "execution_count": 32,
   "id": "537ffc27",
   "metadata": {},
   "outputs": [
    {
     "data": {
      "text/plain": [
       "<bound method NDFrame.head of      DISTRICT  CHILD_ID ECO_Entry_DATE  Ent SOCIAL_SCALE  Ent KNOWLEDGE_SCALE  \\\n",
       "70         ET  473128.0     2020-06-18               1.0                  2.0   \n",
       "128        ET  506732.0     2021-08-13               5.0                  2.0   \n",
       "276        ET  449515.0     2020-10-15               2.0                  2.0   \n",
       "309        ET  458547.0     2019-04-23               3.0                  2.0   \n",
       "414        ET  493668.0     2020-12-16               5.0                  2.0   \n",
       "...       ...       ...            ...               ...                  ...   \n",
       "8526       UC  506214.0     2021-07-15               3.0                  2.0   \n",
       "8533       UC  491028.0     2020-10-23               4.0                  2.0   \n",
       "8550       UC  457789.0     2019-04-02               1.0                  2.0   \n",
       "8601       UC  476161.0     2020-10-20               3.0                  2.0   \n",
       "8614       UC  495409.0     2021-02-02               3.0                  2.0   \n",
       "\n",
       "      Ent APPROPRIATE_ACTION_SCALE ECO_Exit_DATE  Exit SOCIAL_SCALE  \\\n",
       "70                             1.0    2021-06-15                1.0   \n",
       "128                            3.0    2022-01-26                1.0   \n",
       "276                            4.0    2021-04-21                7.0   \n",
       "309                            3.0    2019-05-17                2.0   \n",
       "414                            4.0    2021-05-21                6.0   \n",
       "...                            ...           ...                ...   \n",
       "8526                           1.0    2022-01-20                3.0   \n",
       "8533                           4.0    2021-04-05                6.0   \n",
       "8550                           1.0    2021-07-22                7.0   \n",
       "8601                           3.0    2021-10-12                5.0   \n",
       "8614                           3.0    2021-08-04                6.0   \n",
       "\n",
       "      Exit KNOWLEDGE_SCALE  Exit APPROPRIATE_ACTION_SCALE  Avg_Entry_Score  \\\n",
       "70                     3.0                            1.0         1.333333   \n",
       "128                    5.0                            1.0         3.333333   \n",
       "276                    6.0                            7.0         2.666667   \n",
       "309                    3.0                            1.0         2.666667   \n",
       "414                    4.0                            7.0         3.666667   \n",
       "...                    ...                            ...              ...   \n",
       "8526                   5.0                            4.0         2.000000   \n",
       "8533                   3.0                            6.0         3.333333   \n",
       "8550                   7.0                            7.0         1.333333   \n",
       "8601                   7.0                            7.0         2.666667   \n",
       "8614                   4.0                            5.0         2.666667   \n",
       "\n",
       "      Avg_Exit_Score  Days btw I-IFSP to Exit ECO  \n",
       "70          1.666667                        362.0  \n",
       "128         2.333333                        166.0  \n",
       "276         6.666667                        188.0  \n",
       "309         2.000000                         24.0  \n",
       "414         5.666667                        156.0  \n",
       "...              ...                          ...  \n",
       "8526        4.000000                        189.0  \n",
       "8533        5.000000                        164.0  \n",
       "8550        7.000000                        842.0  \n",
       "8601        6.333333                        357.0  \n",
       "8614        5.000000                        196.0  \n",
       "\n",
       "[263 rows x 13 columns]>"
      ]
     },
     "execution_count": 32,
     "metadata": {},
     "output_type": "execute_result"
    }
   ],
   "source": [
    "increase_know.head"
   ]
  },
  {
   "cell_type": "code",
   "execution_count": 33,
   "id": "88c1dfb5",
   "metadata": {},
   "outputs": [
    {
     "data": {
      "text/plain": [
       "<bound method NDFrame.head of      DISTRICT  CHILD_ID ECO_Entry_DATE  Ent SOCIAL_SCALE  Ent KNOWLEDGE_SCALE  \\\n",
       "9          ET  489949.0     2020-10-20               2.0                  1.0   \n",
       "32         ET  501251.0     2021-06-10               3.0                  5.0   \n",
       "53         ET  474423.0     2020-01-29               5.0                  6.0   \n",
       "89         ET  456325.0     2019-03-21               2.0                  1.0   \n",
       "95         ET  466802.0     2019-08-28               2.0                  5.0   \n",
       "...       ...       ...            ...               ...                  ...   \n",
       "8564       UC  460258.0     2019-05-15               1.0                  2.0   \n",
       "8566       UC  456548.0     2019-03-21               2.0                  1.0   \n",
       "8599       UC  480731.0     2020-07-21               2.0                  5.0   \n",
       "8623       UC  456154.0     2019-03-14               4.0                  5.0   \n",
       "8626       UC  483729.0     2020-08-25               1.0                  3.0   \n",
       "\n",
       "      Ent APPROPRIATE_ACTION_SCALE ECO_Exit_DATE  Exit SOCIAL_SCALE  \\\n",
       "9                              2.0    2021-09-30                1.0   \n",
       "32                             2.0    2022-04-29                3.0   \n",
       "53                             2.0    2021-12-29                7.0   \n",
       "89                             2.0    2021-09-09                6.0   \n",
       "95                             2.0    2022-01-24                7.0   \n",
       "...                            ...           ...                ...   \n",
       "8564                           2.0    2021-06-08                2.0   \n",
       "8566                           2.0    2021-08-16                4.0   \n",
       "8599                           2.0    2021-07-14                7.0   \n",
       "8623                           2.0    2021-03-03                7.0   \n",
       "8626                           2.0    2021-08-12                6.0   \n",
       "\n",
       "      Exit KNOWLEDGE_SCALE  Exit APPROPRIATE_ACTION_SCALE  Avg_Entry_Score  \\\n",
       "9                      4.0                            5.0         1.666667   \n",
       "32                     6.0                            7.0         3.333333   \n",
       "53                     5.0                            7.0         4.333333   \n",
       "89                     3.0                            7.0         1.666667   \n",
       "95                     7.0                            7.0         3.000000   \n",
       "...                    ...                            ...              ...   \n",
       "8564                   1.0                            3.0         1.666667   \n",
       "8566                   2.0                            4.0         1.666667   \n",
       "8599                   7.0                            7.0         3.000000   \n",
       "8623                   6.0                            7.0         3.666667   \n",
       "8626                   6.0                            6.0         2.000000   \n",
       "\n",
       "      Avg_Exit_Score  Days btw I-IFSP to Exit ECO  \n",
       "9           3.333333                        345.0  \n",
       "32          5.333333                        343.0  \n",
       "53          6.333333                        714.0  \n",
       "89          5.333333                        917.0  \n",
       "95          7.000000                        880.0  \n",
       "...              ...                          ...  \n",
       "8564        2.000000                        778.0  \n",
       "8566        3.333333                        879.0  \n",
       "8599        7.000000                        358.0  \n",
       "8623        6.666667                        720.0  \n",
       "8626        6.000000                        352.0  \n",
       "\n",
       "[535 rows x 13 columns]>"
      ]
     },
     "execution_count": 33,
     "metadata": {},
     "output_type": "execute_result"
    }
   ],
   "source": [
    "increase_aa.head"
   ]
  },
  {
   "cell_type": "code",
   "execution_count": 34,
   "id": "64f799f9",
   "metadata": {},
   "outputs": [
    {
     "name": "stdout",
     "output_type": "stream",
     "text": [
      "14.462416745956233\n",
      "17.46641074856046\n",
      "14.424410540915394\n"
     ]
    }
   ],
   "source": [
    "print(no_progress_social['Ent SOCIAL_SCALE'].count()/entss['Ent SOCIAL_SCALE'].count()*100)\n",
    "print(no_progress_know['Ent SOCIAL_SCALE'].count()/entks['Ent SOCIAL_SCALE'].count()*100)\n",
    "print(no_progress_aa['Ent SOCIAL_SCALE'].count()/entaa['Ent SOCIAL_SCALE'].count()*100)"
   ]
  },
  {
   "cell_type": "code",
   "execution_count": 35,
   "id": "59594028",
   "metadata": {},
   "outputs": [
    {
     "name": "stdout",
     "output_type": "stream",
     "text": [
      "8.372978116079924\n",
      "32.05374280230326\n",
      "11.373092926490985\n"
     ]
    }
   ],
   "source": [
    "print(decrease_social['Ent SOCIAL_SCALE'].count()/entss['Ent SOCIAL_SCALE'].count()*100)\n",
    "print(decrease_know['Ent SOCIAL_SCALE'].count()/entks['Ent SOCIAL_SCALE'].count()*100)\n",
    "print(decrease_aa['Ent SOCIAL_SCALE'].count()/entaa['Ent SOCIAL_SCALE'].count()*100)"
   ]
  },
  {
   "cell_type": "code",
   "execution_count": 36,
   "id": "e468444d",
   "metadata": {},
   "outputs": [
    {
     "name": "stdout",
     "output_type": "stream",
     "text": [
      "77.16460513796385\n",
      "50.479846449136275\n",
      "74.20249653259361\n"
     ]
    }
   ],
   "source": [
    "print(increase_social['Ent SOCIAL_SCALE'].count()/entss['Ent SOCIAL_SCALE'].count()*100)\n",
    "print(increase_know['Ent SOCIAL_SCALE'].count()/entks['Ent SOCIAL_SCALE'].count()*100)\n",
    "print(increase_aa['Ent SOCIAL_SCALE'].count()/entaa['Ent SOCIAL_SCALE'].count()*100)"
   ]
  },
  {
   "cell_type": "markdown",
   "id": "d2e64ce4",
   "metadata": {},
   "source": [
    "## Increase from 2 to 3.."
   ]
  },
  {
   "cell_type": "code",
   "execution_count": 37,
   "id": "cc8c8ec2",
   "metadata": {},
   "outputs": [],
   "source": [
    "increase_social_3=eco_exit[(eco_exit['Ent SOCIAL_SCALE']==2) & (eco_exit['Exit SOCIAL_SCALE'] ==3)]\n",
    "increase_know_3=eco_exit[(eco_exit['Ent KNOWLEDGE_SCALE']==2) & (eco_exit['Exit KNOWLEDGE_SCALE']==3)]\n",
    "increase_aa_3=eco_exit[(eco_exit['Ent APPROPRIATE_ACTION_SCALE']==2) & (eco_exit['Exit APPROPRIATE_ACTION_SCALE']==3)]"
   ]
  },
  {
   "cell_type": "code",
   "execution_count": 38,
   "id": "e2663136",
   "metadata": {},
   "outputs": [
    {
     "name": "stdout",
     "output_type": "stream",
     "text": [
      "20.17126546146527\n",
      "18.618042226487525\n",
      "10.679611650485436\n"
     ]
    }
   ],
   "source": [
    "is3=increase_social_3['Ent SOCIAL_SCALE'].count()/entss['Ent SOCIAL_SCALE'].count()*100\n",
    "ik3=increase_know_3['Ent SOCIAL_SCALE'].count()/entks['Ent SOCIAL_SCALE'].count()*100\n",
    "ia3=increase_aa_3['Ent SOCIAL_SCALE'].count()/entaa['Ent SOCIAL_SCALE'].count()*100\n",
    "print(is3)\n",
    "print(ik3)\n",
    "print(ia3)"
   ]
  },
  {
   "cell_type": "markdown",
   "id": "ed3eeee6",
   "metadata": {},
   "source": [
    "## Increase from 2 to 4.."
   ]
  },
  {
   "cell_type": "code",
   "execution_count": 39,
   "id": "e8e66ac9",
   "metadata": {},
   "outputs": [
    {
     "name": "stdout",
     "output_type": "stream",
     "text": [
      "9.800190294957185\n",
      "7.677543186180421\n",
      "13.453536754507628\n"
     ]
    }
   ],
   "source": [
    "increase_social_4=eco_exit[(eco_exit['Ent SOCIAL_SCALE']==2) & (eco_exit['Exit SOCIAL_SCALE'] ==4)]\n",
    "increase_know_4=eco_exit[(eco_exit['Ent KNOWLEDGE_SCALE']==2) & (eco_exit['Exit KNOWLEDGE_SCALE']==4)]\n",
    "increase_aa_4=eco_exit[(eco_exit['Ent APPROPRIATE_ACTION_SCALE']==2) & (eco_exit['Exit APPROPRIATE_ACTION_SCALE']==4)]\n",
    "is4=increase_social_4['Ent SOCIAL_SCALE'].count()/entss['Ent SOCIAL_SCALE'].count()*100\n",
    "ik4=increase_know_4['Ent SOCIAL_SCALE'].count()/entks['Ent SOCIAL_SCALE'].count()*100\n",
    "ia4=increase_aa_4['Ent SOCIAL_SCALE'].count()/entaa['Ent SOCIAL_SCALE'].count()*100\n",
    "print(is4)\n",
    "print(ik4)\n",
    "print(ia4)"
   ]
  },
  {
   "cell_type": "markdown",
   "id": "c58068f2",
   "metadata": {},
   "source": [
    "## Increase from 2 to 5.."
   ]
  },
  {
   "cell_type": "code",
   "execution_count": 40,
   "id": "9f719653",
   "metadata": {},
   "outputs": [
    {
     "name": "stdout",
     "output_type": "stream",
     "text": [
      "12.464319695528069\n",
      "11.132437619961612\n",
      "7.766990291262135\n"
     ]
    }
   ],
   "source": [
    "increase_social_5=eco_exit[(eco_exit['Ent SOCIAL_SCALE']==2) & (eco_exit['Exit SOCIAL_SCALE'] ==5)]\n",
    "increase_know_5=eco_exit[(eco_exit['Ent KNOWLEDGE_SCALE']==2) & (eco_exit['Exit KNOWLEDGE_SCALE']==5)]\n",
    "increase_aa_5=eco_exit[(eco_exit['Ent APPROPRIATE_ACTION_SCALE']==2) & (eco_exit['Exit APPROPRIATE_ACTION_SCALE']==5)]\n",
    "is5=increase_social_5['Ent SOCIAL_SCALE'].count()/entss['Ent SOCIAL_SCALE'].count()*100\n",
    "ik5=increase_know_5['Ent SOCIAL_SCALE'].count()/entks['Ent SOCIAL_SCALE'].count()*100\n",
    "ia5=increase_aa_5['Ent SOCIAL_SCALE'].count()/entaa['Ent SOCIAL_SCALE'].count()*100\n",
    "print(is5)\n",
    "print(ik5)\n",
    "print(ia5)"
   ]
  },
  {
   "cell_type": "markdown",
   "id": "a85d34b9",
   "metadata": {},
   "source": [
    "## Increase from 2 to 6.."
   ]
  },
  {
   "cell_type": "code",
   "execution_count": 41,
   "id": "efe40680",
   "metadata": {},
   "outputs": [
    {
     "name": "stdout",
     "output_type": "stream",
     "text": [
      "11.98858230256898\n",
      "4.990403071017274\n",
      "8.460471567267684\n"
     ]
    }
   ],
   "source": [
    "increase_social_6=eco_exit[(eco_exit['Ent SOCIAL_SCALE']==2) & (eco_exit['Exit SOCIAL_SCALE'] ==6)]\n",
    "increase_know_6=eco_exit[(eco_exit['Ent KNOWLEDGE_SCALE']==2) & (eco_exit['Exit KNOWLEDGE_SCALE']==6)]\n",
    "increase_aa_6=eco_exit[(eco_exit['Ent APPROPRIATE_ACTION_SCALE']==2) & (eco_exit['Exit APPROPRIATE_ACTION_SCALE']==6)]\n",
    "is6=increase_social_6['Ent SOCIAL_SCALE'].count()/entss['Ent SOCIAL_SCALE'].count()*100\n",
    "ik6=increase_know_6['Ent SOCIAL_SCALE'].count()/entks['Ent SOCIAL_SCALE'].count()*100\n",
    "ia6=increase_aa_6['Ent SOCIAL_SCALE'].count()/entaa['Ent SOCIAL_SCALE'].count()*100\n",
    "print(is6)\n",
    "print(ik6)\n",
    "print(ia6)"
   ]
  },
  {
   "cell_type": "markdown",
   "id": "4588e2ad",
   "metadata": {},
   "source": [
    "## Increase from 2 to 7.."
   ]
  },
  {
   "cell_type": "code",
   "execution_count": 42,
   "id": "6e920ec2",
   "metadata": {},
   "outputs": [
    {
     "name": "stdout",
     "output_type": "stream",
     "text": [
      "22.74024738344434\n",
      "8.061420345489443\n",
      "33.841886269070734\n"
     ]
    }
   ],
   "source": [
    "increase_social_7=eco_exit[(eco_exit['Ent SOCIAL_SCALE']==2) & (eco_exit['Exit SOCIAL_SCALE'] ==7)]\n",
    "increase_know_7=eco_exit[(eco_exit['Ent KNOWLEDGE_SCALE']==2) & (eco_exit['Exit KNOWLEDGE_SCALE']==7)]\n",
    "increase_aa_7=eco_exit[(eco_exit['Ent APPROPRIATE_ACTION_SCALE']==2) & (eco_exit['Exit APPROPRIATE_ACTION_SCALE']==7)]\n",
    "is7=increase_social_7['Ent SOCIAL_SCALE'].count()/entss['Ent SOCIAL_SCALE'].count()*100\n",
    "ik7=increase_know_7['Ent SOCIAL_SCALE'].count()/entks['Ent SOCIAL_SCALE'].count()*100\n",
    "ia7=increase_aa_7['Ent SOCIAL_SCALE'].count()/entaa['Ent SOCIAL_SCALE'].count()*100\n",
    "print(is7)\n",
    "print(ik7)\n",
    "print(ia7)"
   ]
  },
  {
   "cell_type": "markdown",
   "id": "101f65a4",
   "metadata": {},
   "source": [
    "## Decrease from 2 to 1.."
   ]
  },
  {
   "cell_type": "code",
   "execution_count": 43,
   "id": "90c73384",
   "metadata": {},
   "outputs": [
    {
     "name": "stdout",
     "output_type": "stream",
     "text": [
      "8.372978116079924\n",
      "32.05374280230326\n",
      "11.373092926490985\n"
     ]
    }
   ],
   "source": [
    "decrease_social_1=eco_exit[(eco_exit['Ent SOCIAL_SCALE']==2) & (eco_exit['Exit SOCIAL_SCALE']==1)]\n",
    "decrease_know_1=eco_exit[(eco_exit['Ent KNOWLEDGE_SCALE']==2) & (eco_exit['Exit KNOWLEDGE_SCALE']==1)]\n",
    "decrease_aa_1=eco_exit[(eco_exit['Ent APPROPRIATE_ACTION_SCALE']==2) & (eco_exit['Exit APPROPRIATE_ACTION_SCALE']==1)]\n",
    "print(decrease_social_1['Ent SOCIAL_SCALE'].count()/entss['Ent SOCIAL_SCALE'].count()*100)\n",
    "print(decrease_know_1['Ent SOCIAL_SCALE'].count()/entks['Ent SOCIAL_SCALE'].count()*100)\n",
    "print(decrease_aa_1['Ent SOCIAL_SCALE'].count()/entaa['Ent SOCIAL_SCALE'].count()*100)\n"
   ]
  },
  {
   "cell_type": "markdown",
   "id": "9ce46bef",
   "metadata": {},
   "source": [
    "## Plot shows many outliers that could affect average number of \n",
    "## days in program. Will use median in place of mean..."
   ]
  },
  {
   "cell_type": "code",
   "execution_count": 44,
   "id": "c2d1af23",
   "metadata": {},
   "outputs": [
    {
     "data": {
      "text/plain": [
       "<AxesSubplot:xlabel='CHILD_ID', ylabel='Days btw I-IFSP to Exit ECO'>"
      ]
     },
     "execution_count": 44,
     "metadata": {},
     "output_type": "execute_result"
    },
    {
     "data": {
      "image/png": "[encoded data removed]",
      "text/plain": [
       "<Figure size 432x288 with 1 Axes>"
      ]
     },
     "metadata": {
      "needs_background": "light"
     },
     "output_type": "display_data"
    }
   ],
   "source": [
    "increase_social.plot(kind='scatter',x='CHILD_ID', y='Days btw I-IFSP to Exit ECO')"
   ]
  },
  {
   "cell_type": "code",
   "execution_count": 45,
   "id": "fac5137e",
   "metadata": {},
   "outputs": [
    {
     "data": {
      "text/plain": [
       "490.0"
      ]
     },
     "execution_count": 45,
     "metadata": {},
     "output_type": "execute_result"
    }
   ],
   "source": [
    "increase_social['Days btw I-IFSP to Exit ECO'].median()"
   ]
  },
  {
   "cell_type": "code",
   "execution_count": 46,
   "id": "19fe763c",
   "metadata": {},
   "outputs": [
    {
     "data": {
      "text/plain": [
       "335.0"
      ]
     },
     "execution_count": 46,
     "metadata": {},
     "output_type": "execute_result"
    }
   ],
   "source": [
    "increase_know['Days btw I-IFSP to Exit ECO'].median()"
   ]
  },
  {
   "cell_type": "code",
   "execution_count": 47,
   "id": "a0c16dff",
   "metadata": {},
   "outputs": [
    {
     "data": {
      "text/plain": [
       "523.0"
      ]
     },
     "execution_count": 47,
     "metadata": {},
     "output_type": "execute_result"
    }
   ],
   "source": [
    "increase_aa['Days btw I-IFSP to Exit ECO'].median()"
   ]
  },
  {
   "cell_type": "code",
   "execution_count": 48,
   "id": "10828c46",
   "metadata": {},
   "outputs": [
    {
     "name": "stdout",
     "output_type": "stream",
     "text": [
      "327.0\n",
      "193.0\n",
      "187.0\n"
     ]
    }
   ],
   "source": [
    "print(increase_social_3['Days btw I-IFSP to Exit ECO'].median())\n",
    "print(increase_know_3['Days btw I-IFSP to Exit ECO'].median())\n",
    "print(increase_aa_3['Days btw I-IFSP to Exit ECO'].median())"
   ]
  },
  {
   "cell_type": "code",
   "execution_count": 49,
   "id": "c5e7300b",
   "metadata": {},
   "outputs": [
    {
     "name": "stdout",
     "output_type": "stream",
     "text": [
      "359.0\n",
      "190.5\n",
      "349.0\n"
     ]
    }
   ],
   "source": [
    "print(increase_social_4['Days btw I-IFSP to Exit ECO'].median())\n",
    "print(increase_know_4['Days btw I-IFSP to Exit ECO'].median())\n",
    "print(increase_aa_4['Days btw I-IFSP to Exit ECO'].median())"
   ]
  },
  {
   "cell_type": "code",
   "execution_count": 50,
   "id": "c3207f07",
   "metadata": {},
   "outputs": [
    {
     "name": "stdout",
     "output_type": "stream",
     "text": [
      "360.0\n",
      "334.5\n",
      "356.0\n"
     ]
    }
   ],
   "source": [
    "print(increase_social_5['Days btw I-IFSP to Exit ECO'].median())\n",
    "print(increase_know_5['Days btw I-IFSP to Exit ECO'].median())\n",
    "print(increase_aa_5['Days btw I-IFSP to Exit ECO'].median())"
   ]
  },
  {
   "cell_type": "code",
   "execution_count": 51,
   "id": "e7b2ab84",
   "metadata": {},
   "outputs": [
    {
     "name": "stdout",
     "output_type": "stream",
     "text": [
      "690.0\n",
      "368.5\n",
      "673.0\n"
     ]
    }
   ],
   "source": [
    "print(increase_social_6['Days btw I-IFSP to Exit ECO'].median())\n",
    "print(increase_know_6['Days btw I-IFSP to Exit ECO'].median())\n",
    "print(increase_aa_6['Days btw I-IFSP to Exit ECO'].median())"
   ]
  },
  {
   "cell_type": "code",
   "execution_count": 52,
   "id": "816f60b8",
   "metadata": {},
   "outputs": [
    {
     "name": "stdout",
     "output_type": "stream",
     "text": [
      "721.0\n",
      "724.5\n",
      "695.0\n"
     ]
    }
   ],
   "source": [
    "print(increase_social_7['Days btw I-IFSP to Exit ECO'].median())\n",
    "print(increase_know_7['Days btw I-IFSP to Exit ECO'].median())\n",
    "print(increase_aa_7['Days btw I-IFSP to Exit ECO'].median())"
   ]
  },
  {
   "cell_type": "code",
   "execution_count": 53,
   "id": "68d22f35",
   "metadata": {},
   "outputs": [
    {
     "name": "stdout",
     "output_type": "stream",
     "text": [
      "388.5\n",
      "349.0\n",
      "425.0\n"
     ]
    }
   ],
   "source": [
    "print(decrease_social_1['Days btw I-IFSP to Exit ECO'].median())\n",
    "print(decrease_know_1['Days btw I-IFSP to Exit ECO'].median())\n",
    "print(decrease_aa_1['Days btw I-IFSP to Exit ECO'].median())"
   ]
  },
  {
   "cell_type": "code",
   "execution_count": 54,
   "id": "f90aff5d",
   "metadata": {},
   "outputs": [
    {
     "data": {
      "text/plain": [
       "177.0"
      ]
     },
     "execution_count": 54,
     "metadata": {},
     "output_type": "execute_result"
    }
   ],
   "source": [
    "eco_exit['Days btw I-IFSP to Exit ECO'].median()"
   ]
  },
  {
   "cell_type": "code",
   "execution_count": 55,
   "id": "0652052a",
   "metadata": {},
   "outputs": [
    {
     "data": {
      "text/plain": [
       "<AxesSubplot:ylabel='Frequency'>"
      ]
     },
     "execution_count": 55,
     "metadata": {},
     "output_type": "execute_result"
    },
    {
     "data": {
      "image/png": "[encoded data removed]",
      "text/plain": [
       "<Figure size 432x288 with 1 Axes>"
      ]
     },
     "metadata": {
      "needs_background": "light"
     },
     "output_type": "display_data"
    }
   ],
   "source": [
    "increase_social_3.plot(kind='hist',x='DISTRICT', y='Days btw I-IFSP to Exit ECO')"
   ]
  },
  {
   "cell_type": "code",
   "execution_count": 56,
   "id": "b0532e98",
   "metadata": {},
   "outputs": [
    {
     "data": {
      "text/plain": [
       "<AxesSubplot:ylabel='Frequency'>"
      ]
     },
     "execution_count": 56,
     "metadata": {},
     "output_type": "execute_result"
    },
    {
     "data": {
      "image/png": "[encoded data removed]",
      "text/plain": [
       "<Figure size 432x288 with 1 Axes>"
      ]
     },
     "metadata": {
      "needs_background": "light"
     },
     "output_type": "display_data"
    }
   ],
   "source": [
    "increase_social_4.plot(kind='hist',x='DISTRICT', y='Days btw I-IFSP to Exit ECO')"
   ]
  },
  {
   "cell_type": "code",
   "execution_count": 57,
   "id": "99f2c289",
   "metadata": {},
   "outputs": [
    {
     "data": {
      "text/plain": [
       "<AxesSubplot:ylabel='Frequency'>"
      ]
     },
     "execution_count": 57,
     "metadata": {},
     "output_type": "execute_result"
    },
    {
     "data": {
      "image/png": "[encoded data removed]",
      "text/plain": [
       "<Figure size 432x288 with 1 Axes>"
      ]
     },
     "metadata": {
      "needs_background": "light"
     },
     "output_type": "display_data"
    }
   ],
   "source": [
    "increase_social_5.plot(kind='hist',x='DISTRICT', y='Days btw I-IFSP to Exit ECO')"
   ]
  },
  {
   "cell_type": "code",
   "execution_count": 58,
   "id": "2cacc63a",
   "metadata": {},
   "outputs": [
    {
     "data": {
      "text/plain": [
       "226.5"
      ]
     },
     "execution_count": 58,
     "metadata": {},
     "output_type": "execute_result"
    }
   ],
   "source": [
    "no_progress_social['Days btw I-IFSP to Exit ECO'].median()"
   ]
  },
  {
   "cell_type": "code",
   "execution_count": 59,
   "id": "97af2469",
   "metadata": {},
   "outputs": [
    {
     "data": {
      "text/plain": [
       "180.0"
      ]
     },
     "execution_count": 59,
     "metadata": {},
     "output_type": "execute_result"
    }
   ],
   "source": [
    "no_progress_know['Days btw I-IFSP to Exit ECO'].median()"
   ]
  },
  {
   "cell_type": "code",
   "execution_count": 60,
   "id": "714c8429",
   "metadata": {},
   "outputs": [
    {
     "data": {
      "text/plain": [
       "184.5"
      ]
     },
     "execution_count": 60,
     "metadata": {},
     "output_type": "execute_result"
    }
   ],
   "source": [
    "no_progress_aa['Days btw I-IFSP to Exit ECO'].median()"
   ]
  },
  {
   "cell_type": "code",
   "execution_count": 61,
   "id": "4f21d017",
   "metadata": {
    "scrolled": true
   },
   "outputs": [
    {
     "name": "stdout",
     "output_type": "stream",
     "text": [
      "   entry_score  pct_of_children_improved  time_in_program\n",
      "0            1                     57.90              364\n",
      "1            2                     77.20              490\n",
      "2            3                     71.60              357\n",
      "3            4                     75.00              345\n",
      "4            5                     71.14              335\n",
      "5            6                     60.00              194\n",
      "   entry_score  pct_of_children_improved  time_in_program\n",
      "0            1                      52.1              480\n",
      "1            2                      50.5              335\n",
      "2            3                      41.3              336\n",
      "3            4                      52.0              348\n",
      "4            5                      49.2              353\n",
      "5            6                      53.0              338\n",
      "   entry_score  pct_of_children_improved  time_in_program\n",
      "0            1                      67.6              693\n",
      "1            2                      74.2              523\n",
      "2            3                      66.9              352\n",
      "3            4                      61.0              342\n",
      "4            5                      64.0              335\n",
      "5            6                      56.0              201\n",
      "   entry_score  pct_of_children_nochange  time_in_program\n",
      "0            1                      42.1              317\n",
      "1            2                      14.5              227\n",
      "2            3                      19.8              183\n",
      "3            4                      14.0              189\n",
      "4            5                      21.9              182\n",
      "5            6                      34.0              182\n",
      "6            7                      88.4              188\n",
      "   entry_score  pct_of_children_nochange  time_in_program\n",
      "0            1                      47.9              196\n",
      "1            2                      17.5              180\n",
      "2            3                      31.7              186\n",
      "3            4                      18.0              234\n",
      "4            5                      21.8              325\n",
      "5            6                      27.0              189\n",
      "6            7                      85.0              186\n",
      "   entry_score  pct_of_children_nochange  time_in_program\n",
      "0            1                      32.4              362\n",
      "1            2                      14.4              185\n",
      "2            3                      19.8              203\n",
      "3            4                      22.0              184\n",
      "4            5                      13.6              184\n",
      "5            6                      27.0              183\n",
      "6            7                      85.3              250\n",
      "   entry_score  pct_of_children_decrease  time_in_program\n",
      "0            2                       8.4              389\n",
      "1            3                       8.6              352\n",
      "2            4                      11.0              351\n",
      "3            5                       6.9              325\n",
      "4            6                       6.0              319\n",
      "5            7                      11.6              200\n",
      "   entry_score  pct_of_children_decrease  time_in_program\n",
      "0            2                      32.1              349\n",
      "1            3                      27.0              357\n",
      "2            4                      30.0              364\n",
      "3            5                      29.0              501\n",
      "4            6                      21.0              357\n",
      "5            7                      14.8              350\n",
      "   entry_score  pct_of_children_decrease  time_in_program\n",
      "0            2                      11.4              425\n",
      "1            3                      13.3              348\n",
      "2            4                      17.0              337\n",
      "3            5                      22.4              343\n",
      "4            6                      17.0              340\n",
      "5            7                      14.7              349\n"
     ]
    },
    {
     "data": {
      "text/plain": [
       "<AxesSubplot:title={'center':'Approp. Action Decrease'}, xlabel='Entry Score', ylabel='Children Showing Decrease  [%]'>"
      ]
     },
     "execution_count": 61,
     "metadata": {},
     "output_type": "execute_result"
    },
    {
     "data": {
      "image/png": "[encoded data removed]",
      "text/plain": [
       "<Figure size 432x288 with 1 Axes>"
      ]
     },
     "metadata": {
      "needs_background": "light"
     },
     "output_type": "display_data"
    },
    {
     "data": {
      "image/png": "[encoded data removed]",
      "text/plain": [
       "<Figure size 432x288 with 1 Axes>"
      ]
     },
     "metadata": {
      "needs_background": "light"
     },
     "output_type": "display_data"
    },
    {
     "data": {
      "image/png": "[encoded data removed]",
      "text/plain": [
       "<Figure size 432x288 with 1 Axes>"
      ]
     },
     "metadata": {
      "needs_background": "light"
     },
     "output_type": "display_data"
    },
    {
     "data": {
      "image/png": "[encoded data removed]",
      "text/plain": [
       "<Figure size 432x288 with 1 Axes>"
      ]
     },
     "metadata": {
      "needs_background": "light"
     },
     "output_type": "display_data"
    },
    {
     "data": {
      "image/png": "[encoded data removed]",
      "text/plain": [
       "<Figure size 432x288 with 1 Axes>"
      ]
     },
     "metadata": {
      "needs_background": "light"
     },
     "output_type": "display_data"
    },
    {
     "data": {
      "image/png": "[encoded data removed]",
      "text/plain": [
       "<Figure size 432x288 with 1 Axes>"
      ]
     },
     "metadata": {
      "needs_background": "light"
     },
     "output_type": "display_data"
    },
    {
     "data": {
      "image/png": "[encoded data removed]",
      "text/plain": [
       "<Figure size 432x288 with 1 Axes>"
      ]
     },
     "metadata": {
      "needs_background": "light"
     },
     "output_type": "display_data"
    },
    {
     "data": {
      "image/png": "[encoded data removed]",
      "text/plain": [
       "<Figure size 432x288 with 1 Axes>"
      ]
     },
     "metadata": {
      "needs_background": "light"
     },
     "output_type": "display_data"
    },
    {
     "data": {
      "image/png": "[encoded data removed]",
      "text/plain": [
       "<Figure size 432x288 with 1 Axes>"
      ]
     },
     "metadata": {
      "needs_background": "light"
     },
     "output_type": "display_data"
    },
    {
     "data": {
      "image/png": "[encoded data removed]",
      "text/plain": [
       "<Figure size 432x288 with 1 Axes>"
      ]
     },
     "metadata": {
      "needs_background": "light"
     },
     "output_type": "display_data"
    },
    {
     "data": {
      "image/png": "[encoded data removed]",
      "text/plain": [
       "<Figure size 432x288 with 1 Axes>"
      ]
     },
     "metadata": {
      "needs_background": "light"
     },
     "output_type": "display_data"
    },
    {
     "data": {
      "image/png": "[encoded data removed]",
      "text/plain": [
       "<Figure size 432x288 with 1 Axes>"
      ]
     },
     "metadata": {
      "needs_background": "light"
     },
     "output_type": "display_data"
    },
    {
     "data": {
      "image/png": "[encoded data removed]",
      "text/plain": [
       "<Figure size 432x288 with 1 Axes>"
      ]
     },
     "metadata": {
      "needs_background": "light"
     },
     "output_type": "display_data"
    },
    {
     "data": {
      "image/png": "[encoded data removed]",
      "text/plain": [
       "<Figure size 432x288 with 1 Axes>"
      ]
     },
     "metadata": {
      "needs_background": "light"
     },
     "output_type": "display_data"
    },
    {
     "data": {
      "image/png": "[encoded data removed]",
      "text/plain": [
       "<Figure size 432x288 with 1 Axes>"
      ]
     },
     "metadata": {
      "needs_background": "light"
     },
     "output_type": "display_data"
    },
    {
     "data": {
      "image/png": "[encoded data removed]",
      "text/plain": [
       "<Figure size 432x288 with 1 Axes>"
      ]
     },
     "metadata": {
      "needs_background": "light"
     },
     "output_type": "display_data"
    },
    {
     "data": {
      "image/png": "[encoded data removed]",
      "text/plain": [
       "<Figure size 432x288 with 1 Axes>"
      ]
     },
     "metadata": {
      "needs_background": "light"
     },
     "output_type": "display_data"
    },
    {
     "data": {
      "image/png": "[encoded data removed]",
      "text/plain": [
       "<Figure size 432x288 with 1 Axes>"
      ]
     },
     "metadata": {
      "needs_background": "light"
     },
     "output_type": "display_data"
    }
   ],
   "source": [
    "#social scale increase df\n",
    "ssin = pd.DataFrame()\n",
    "\n",
    "ssin =pd.DataFrame(columns=[\"entry_score\", \"pct_of_children_improved\", \"time_in_program\"])\n",
    "\n",
    "list1 = [1,2,3,4,5,6]\n",
    "list2 = [57.9,77.2,71.6,75.0,71.14,60.0]\n",
    "list3 = [364,490,357,345,335,194] \n",
    "\n",
    "ssin['entry_score'] = list1\n",
    "ssin['pct_of_children_improved'] = list2\n",
    "ssin['time_in_program'] = list3\n",
    "\n",
    "print(ssin)\n",
    "\n",
    "#knowledge scale increase df\n",
    "ksin = pd.DataFrame()\n",
    "\n",
    "ksin =pd.DataFrame(columns=[\"entry_score\", \"pct_of_children_improved\", \"time_in_program\"])\n",
    "\n",
    "list1a = [1,2,3,4,5,6]\n",
    "list2a = [52.1,50.5,41.3,52.0,49.2,53.0]\n",
    "list3a = [480,335,336,348,353,338]\n",
    "\n",
    "ksin['entry_score'] = list1a\n",
    "ksin['pct_of_children_improved'] = list2a\n",
    "ksin['time_in_program'] = list3a\n",
    "\n",
    "print(ksin)\n",
    "\n",
    "\n",
    "#appropriate action scale increase df\n",
    "aasin = pd.DataFrame()\n",
    "\n",
    "aasin =pd.DataFrame(columns=[\"entry_score\", \"pct_of_children_improved\", \"time_in_program\"])\n",
    "\n",
    "list1b = [1,2,3,4,5,6]\n",
    "list2b = [67.6,74.2,66.9,61.0,64.0,56.0]\n",
    "list3b = [693,523,352,342,335,201] # need to update value 3\n",
    "\n",
    "aasin['entry_score'] = list1b\n",
    "aasin['pct_of_children_improved'] = list2b\n",
    "aasin['time_in_program'] = list3b\n",
    "\n",
    "print(aasin)\n",
    "\n",
    "\n",
    "#social scale no change df\n",
    "ssnc = pd.DataFrame()\n",
    "\n",
    "ssnc =pd.DataFrame(columns=[\"entry_score\", \"pct_of_children_nochange\", \"time_in_program\"])\n",
    "\n",
    "list1c = [1,2,3,4,5,6,7]\n",
    "list2c = [42.1,14.5,19.8,14.0,21.9,34.0,88.4]\n",
    "list3c = [317,227,183,189,182,182,188]\n",
    "\n",
    "ssnc['entry_score'] = list1c\n",
    "ssnc['pct_of_children_nochange'] = list2c\n",
    "ssnc['time_in_program'] = list3c\n",
    "\n",
    "print(ssnc)\n",
    "\n",
    "\n",
    "#knowledge scale no change df\n",
    "ksnc = pd.DataFrame()\n",
    "\n",
    "ksnc =pd.DataFrame(columns=[\"entry_score\", \"pct_of_children_nochange\", \"time_in_program\"])\n",
    "\n",
    "list1d = [1,2,3,4,5,6,7]\n",
    "list2d = [47.9,17.5,31.7,18.0,21.8,27.0,85.0]\n",
    "list3d = [196,180,186,234,325,189,186]\n",
    "\n",
    "ksnc['entry_score'] = list1d\n",
    "ksnc['pct_of_children_nochange'] = list2d\n",
    "ksnc['time_in_program'] = list3d\n",
    "\n",
    "print(ksnc)\n",
    "\n",
    "\n",
    "#appropriate action scale no change df\n",
    "aasnc = pd.DataFrame()\n",
    "\n",
    "aasnc = pd.DataFrame(columns=[\"entry_score\", \"pct_of_children_nochange\", \"time_in_program\"])\n",
    "\n",
    "list1e = [1,2,3,4,5,6,7]\n",
    "list2e = [32.4,14.4,19.8,22,13.6,27,85.3]\n",
    "list3e = [362,185,203,184,184,183,250]\n",
    "\n",
    "aasnc['entry_score'] = list1e\n",
    "aasnc['pct_of_children_nochange'] = list2e\n",
    "aasnc['time_in_program'] = list3e\n",
    "\n",
    "print(aasnc)\n",
    "\n",
    "\n",
    "#social scale decrease df\n",
    "ssde = pd.DataFrame()\n",
    "\n",
    "ssde =pd.DataFrame(columns=[\"entry_score\", \"pct_of_children_decrease\", \"time_in_program\"])\n",
    "\n",
    "list1f = [2,3,4,5,6,7]\n",
    "list2f = [8.4,8.6,11.0,6.9,6.0,11.6] # need to update value 2\n",
    "list3f = [389,352,351,325,319,200] # need to update value 2\n",
    "\n",
    "ssde['entry_score'] = list1f\n",
    "ssde['pct_of_children_decrease'] = list2f\n",
    "ssde['time_in_program'] = list3f\n",
    "\n",
    "print(ssde)\n",
    "\n",
    "\n",
    "#knowledge scale decrease df\n",
    "ksde = pd.DataFrame()\n",
    "\n",
    "ksde =pd.DataFrame(columns=[\"entry_score\", \"pct_of_children_decrease\", \"time_in_program\"])\n",
    "\n",
    "list1g = [2,3,4,5,6,7]\n",
    "list2g = [32.1,27.0,30.0,29.0,21.0,14.8]\n",
    "list3g = [349,357,364,501,357,350]\n",
    "\n",
    "ksde['entry_score'] = list1g\n",
    "ksde['pct_of_children_decrease'] = list2g\n",
    "ksde['time_in_program'] = list3g\n",
    "\n",
    "print(ksde)\n",
    "\n",
    "\n",
    "#appropriate action scale decrease df\n",
    "aasde = pd.DataFrame()\n",
    "\n",
    "aasde =pd.DataFrame(columns=[\"entry_score\", \"pct_of_children_decrease\", \"time_in_program\"])\n",
    "\n",
    "list1h = [2,3,4,5,6,7]\n",
    "list2h = [11.4,13.3,17.0,22.4,17.0,14.7]\n",
    "list3h = [425,348,337,343,340,349]\n",
    "\n",
    "aasde['entry_score'] = list1h\n",
    "aasde['pct_of_children_decrease'] = list2h\n",
    "aasde['time_in_program'] = list3h\n",
    "\n",
    "print(aasde)\n",
    "\n",
    "\n",
    "ssingraph = ssin.plot(x = 'entry_score',\n",
    "                      y = 'time_in_program',\n",
    "                      title = 'Social Improved T.I.P.(Median)',\n",
    "                      xlabel = 'Entry Score',\n",
    "                      ylabel = 'Days in Program',\n",
    "                      kind = 'bar',\n",
    "                     color = 'Green')\n",
    "\n",
    "ssingraph.get_legend ().remove ()\n",
    "\n",
    "\n",
    "ksingraph = ksin.plot(x = 'entry_score',\n",
    "                      y = 'time_in_program',\n",
    "                      title = 'Knowledge Improved T.I.P.(Median)',\n",
    "                      xlabel = 'Entry Score',\n",
    "                      ylabel = 'Days in Program',\n",
    "                      kind = 'bar',\n",
    "                     color = 'Green')\n",
    "\n",
    "ksingraph.get_legend ().remove ()\n",
    "\n",
    "\n",
    "aasingraph = aasin.plot(x = 'entry_score',\n",
    "                        y = 'time_in_program',\n",
    "                        title = 'Approp. Action T.I.P.(Median)',\n",
    "                        xlabel = 'Entry Score',\n",
    "                        ylabel = 'Days in Program',\n",
    "                        kind = 'bar',\n",
    "                       color = 'Green')\n",
    "\n",
    "aasingraph.get_legend ().remove ()\n",
    "\n",
    "\n",
    "ssingrapha = ssin.plot(x = 'entry_score',\n",
    "                      y = 'pct_of_children_improved',\n",
    "                      xlabel = 'Entry Score',\n",
    "                      ylabel = 'Children Showing Improvement [%]',\n",
    "                      kind = 'bar',\n",
    "                      title = 'Social Improved',\n",
    "                      color = 'Green')\n",
    "\n",
    "ssingrapha.get_legend ().remove ()\n",
    "\n",
    "\n",
    "ksingrapha = ksin.plot(x = 'entry_score',\n",
    "                      y = 'pct_of_children_improved',\n",
    "                      xlabel = 'Entry Score',\n",
    "                      ylabel = 'Children Showing Improvement [%]',\n",
    "                      kind = 'bar',\n",
    "                      title = 'Knowledge Improved',\n",
    "                      color = 'Green')\n",
    "\n",
    "ksingrapha.get_legend ().remove ()\n",
    "\n",
    "\n",
    "aasingrapha = aasin.plot(x = 'entry_score',\n",
    "                      y = 'pct_of_children_improved',\n",
    "                      xlabel = 'Entry Score',\n",
    "                      ylabel = 'Children Showing Improvement [%]',\n",
    "                      kind = 'bar',\n",
    "                        title = 'Approp. Action Improved',\n",
    "                        color = 'green')\n",
    "\n",
    "aasingrapha.get_legend ().remove ()\n",
    "\n",
    "\n",
    "ssncgraph = ssnc.plot(x = 'entry_score',\n",
    "                      y = 'time_in_program',\n",
    "                      title = 'Social No Change T.I.P.(Median)',\n",
    "                      xlabel = 'Entry Score',\n",
    "                      ylabel = 'Days in Program',\n",
    "                      kind = 'bar',\n",
    "                     color = 'dimgrey')\n",
    "\n",
    "ssncgraph.get_legend ().remove ()\n",
    "\n",
    "\n",
    "ksncgraph = ksnc.plot(x = 'entry_score',\n",
    "                      y = 'time_in_program',\n",
    "                      title = 'Knowledge No Change T.I.P.(Median)',\n",
    "                      xlabel = 'Entry Score',\n",
    "                      ylabel = 'Days in Program',\n",
    "                      kind = 'bar',\n",
    "                     color = 'dimgrey')\n",
    "\n",
    "\n",
    "ksncgraph.get_legend ().remove ()\n",
    "\n",
    "\n",
    "aasncgraph = aasnc.plot(x = 'entry_score',\n",
    "                      y = 'time_in_program',\n",
    "                      title = 'Approp. Action No Change T.I.P.(Median)',\n",
    "                      xlabel = 'Entry Score',\n",
    "                      ylabel = 'Days in Program',\n",
    "                      kind = 'bar',\n",
    "                       color = 'dimgrey')\n",
    "\n",
    "aasncgraph.get_legend ().remove ()\n",
    "\n",
    "\n",
    "ssncgrapha = ssnc.plot(x = 'entry_score',\n",
    "                      y = 'pct_of_children_nochange',\n",
    "                      xlabel = 'Entry Score',\n",
    "                      ylabel = 'Children Showing No change  [%]',\n",
    "                      kind = 'bar',\n",
    "                      title = 'Social No Change',\n",
    "                      color = 'dimgrey')\n",
    "\n",
    "ssncgrapha.get_legend ().remove ()\n",
    "\n",
    "\n",
    "ksncgrapha = ksnc.plot(x = 'entry_score',\n",
    "                      y = 'pct_of_children_nochange',\n",
    "                      xlabel = 'Entry Score',\n",
    "                      ylabel = 'Children Showing No change  [%]',\n",
    "                      kind = 'bar',\n",
    "                      title = 'Knowledge No Change',\n",
    "                      color = 'dimgrey')\n",
    "\n",
    "ksncgrapha.get_legend ().remove ()\n",
    "\n",
    "\n",
    "aasncgrapha = aasnc.plot(x = 'entry_score',\n",
    "                      y = 'pct_of_children_nochange',\n",
    "                      xlabel = 'Entry Score',\n",
    "                      ylabel = 'Children Showing No change  [%]',\n",
    "                      kind = 'bar',\n",
    "                        title = 'Approp. Action No Change',\n",
    "                        color = 'dimgrey')\n",
    "\n",
    "aasncgrapha.get_legend ().remove ()\n",
    "\n",
    "\n",
    "ssdegraph = ssde.plot(x = 'entry_score',\n",
    "                      y = 'time_in_program',\n",
    "                      title = 'Social Decrease T.I.P.(Median)',\n",
    "                      xlabel = 'Entry Score',\n",
    "                      ylabel = 'Days in Program',\n",
    "                      kind = 'bar',\n",
    "                     color = 'darkred')\n",
    "\n",
    "ssdegraph.get_legend ().remove ()\n",
    "\n",
    "\n",
    "ksdegraph = ksde.plot(x = 'entry_score',\n",
    "                      y = 'time_in_program',\n",
    "                      title = 'Knowledge Decrease T.I.P.(Median)',\n",
    "                      xlabel = 'Entry Score',\n",
    "                      ylabel = 'Days in Program',\n",
    "                      kind = 'bar',\n",
    "                     color = 'darkred')\n",
    "\n",
    "ksdegraph.get_legend ().remove ()\n",
    "\n",
    "\n",
    "aasdegraph = aasde.plot(x = 'entry_score',\n",
    "                      y = 'time_in_program',\n",
    "                      title = 'Approp. Action Decrease T.I.P.(Median)',\n",
    "                      xlabel = 'Entry Score',\n",
    "                      ylabel = 'Days in Program',\n",
    "                      kind = 'bar',\n",
    "                       color = 'darkred')\n",
    "\n",
    "aasdegraph.get_legend ().remove ()\n",
    "\n",
    "\n",
    "ssdegrapha = ssde.plot(x = 'entry_score',\n",
    "                      y = 'pct_of_children_decrease',\n",
    "                      xlabel = 'Entry Score',\n",
    "                      ylabel = 'Children Showing Decrease  [%]',\n",
    "                      kind = 'bar',\n",
    "                      title = 'Social Decrease',\n",
    "                      color = 'darkred')\n",
    "\n",
    "ssdegrapha.get_legend ().remove ()\n",
    "\n",
    "\n",
    "ksdegrapha = ksde.plot(x = 'entry_score',\n",
    "                      y = 'pct_of_children_decrease',\n",
    "                      xlabel = 'Entry Score',\n",
    "                      ylabel = 'Children Showing Decrease  [%]',\n",
    "                      kind = 'bar',\n",
    "                      title = 'Knowledge Decrease',\n",
    "                      color = 'darkred')\n",
    "\n",
    "ksdegrapha.get_legend ().remove ()\n",
    "\n",
    "\n",
    "aasdegrapha = aasde.plot(x = 'entry_score',\n",
    "                      y = 'pct_of_children_decrease',\n",
    "                      xlabel = 'Entry Score',\n",
    "                      ylabel = 'Children Showing Decrease  [%]',\n",
    "                      kind = 'bar',\n",
    "                      title = 'Approp. Action Decrease',\n",
    "                        color = 'darkred',\n",
    "                        )\n",
    "\n",
    "aasdegrapha.get_legend ().remove ()\n",
    "\n",
    "\n",
    "\n",
    "\n",
    "#You can select a graph below and simply call it to show the results\n",
    "\n",
    "#Graphs for children whos entry scores increased: days in program by entry score\n",
    "ssingraph # social scale\n",
    "ksingraph # knowledge scale\n",
    "aasingraph # appropriate action scale\n",
    "\n",
    "#Graphs for children whos entry scores increased: percent of children with increase by entry score\n",
    "ssingrapha\n",
    "ksingrapha\n",
    "aasingrapha\n",
    "\n",
    "#Graphs for children whos entry scores did not change: days in program by entry score\n",
    "ssncgraph\n",
    "ksncgraph\n",
    "aasncgraph\n",
    "\n",
    "#Graphs for children whos entry scores did not change: percent of children with increase by entry score\n",
    "ssncgrapha\n",
    "ksncgrapha\n",
    "aasncgrapha\n",
    "\n",
    "#Graphs for children whos entry scores decreased: days in program by entry score\n",
    "ssdegraph\n",
    "ksdegraph\n",
    "aasdegraph\n",
    "\n",
    "#Graphs for children whos entry scores decreased: percent of children with increase by entry score\n",
    "ssdegrapha\n",
    "ksdegrapha\n",
    "aasdegrapha"
   ]
  },
  {
   "cell_type": "code",
   "execution_count": 62,
   "id": "1543dcd7",
   "metadata": {
    "scrolled": true
   },
   "outputs": [
    {
     "ename": "TypeError",
     "evalue": "only size-1 arrays can be converted to Python scalars",
     "output_type": "error",
     "traceback": [
      "\u001b[1;31m---------------------------------------------------------------------------\u001b[0m",
      "\u001b[1;31mTypeError\u001b[0m                                 Traceback (most recent call last)",
      "Input \u001b[1;32mIn [62]\u001b[0m, in \u001b[0;36m<cell line: 9>\u001b[1;34m()\u001b[0m\n\u001b[0;32m      6\u001b[0m X_axis \u001b[38;5;241m=\u001b[39m np\u001b[38;5;241m.\u001b[39marange(\u001b[38;5;28mlen\u001b[39m(X))\n\u001b[0;32m      7\u001b[0m Y_axis \u001b[38;5;241m=\u001b[39m X_axis\u001b[38;5;241m.\u001b[39mastype(\u001b[38;5;28mint\u001b[39m)\n\u001b[1;32m----> 9\u001b[0m \u001b[43mplt\u001b[49m\u001b[38;5;241;43m.\u001b[39;49m\u001b[43mbar\u001b[49m\u001b[43m(\u001b[49m\u001b[43mX_axis\u001b[49m\u001b[43m \u001b[49m\u001b[38;5;241;43m-\u001b[39;49m\u001b[43m \u001b[49m\u001b[38;5;241;43m0.2\u001b[39;49m\u001b[43m,\u001b[49m\u001b[43m \u001b[49m\u001b[43msocialimp\u001b[49m\u001b[43m,\u001b[49m\u001b[43m \u001b[49m\u001b[38;5;241;43m0.4\u001b[39;49m\u001b[43m,\u001b[49m\u001b[43m \u001b[49m\u001b[43mlabel\u001b[49m\u001b[43m \u001b[49m\u001b[38;5;241;43m=\u001b[39;49m\u001b[43m \u001b[49m\u001b[38;5;124;43m'\u001b[39;49m\u001b[38;5;124;43mIncrease\u001b[39;49m\u001b[38;5;124;43m'\u001b[39;49m\u001b[43m)\u001b[49m\n\u001b[0;32m     10\u001b[0m plt\u001b[38;5;241m.\u001b[39mbar(X_axis \u001b[38;5;241m+\u001b[39m \u001b[38;5;241m0.2\u001b[39m, socialnc, \u001b[38;5;241m0.4\u001b[39m, label \u001b[38;5;241m=\u001b[39m \u001b[38;5;124m'\u001b[39m\u001b[38;5;124mNo Change\u001b[39m\u001b[38;5;124m'\u001b[39m)\n\u001b[0;32m     11\u001b[0m plt\u001b[38;5;241m.\u001b[39mbar(X_axis \u001b[38;5;241m+\u001b[39m \u001b[38;5;241m0.2\u001b[39m, socialde, \u001b[38;5;241m0.4\u001b[39m, label \u001b[38;5;241m=\u001b[39m \u001b[38;5;124m'\u001b[39m\u001b[38;5;124mDecrease\u001b[39m\u001b[38;5;124m'\u001b[39m)\n",
      "File \u001b[1;32m~\\anaconda3\\lib\\site-packages\\matplotlib\\pyplot.py:2387\u001b[0m, in \u001b[0;36mbar\u001b[1;34m(x, height, width, bottom, align, data, **kwargs)\u001b[0m\n\u001b[0;32m   2383\u001b[0m \u001b[38;5;129m@_copy_docstring_and_deprecators\u001b[39m(Axes\u001b[38;5;241m.\u001b[39mbar)\n\u001b[0;32m   2384\u001b[0m \u001b[38;5;28;01mdef\u001b[39;00m \u001b[38;5;21mbar\u001b[39m(\n\u001b[0;32m   2385\u001b[0m         x, height, width\u001b[38;5;241m=\u001b[39m\u001b[38;5;241m0.8\u001b[39m, bottom\u001b[38;5;241m=\u001b[39m\u001b[38;5;28;01mNone\u001b[39;00m, \u001b[38;5;241m*\u001b[39m, align\u001b[38;5;241m=\u001b[39m\u001b[38;5;124m'\u001b[39m\u001b[38;5;124mcenter\u001b[39m\u001b[38;5;124m'\u001b[39m,\n\u001b[0;32m   2386\u001b[0m         data\u001b[38;5;241m=\u001b[39m\u001b[38;5;28;01mNone\u001b[39;00m, \u001b[38;5;241m*\u001b[39m\u001b[38;5;241m*\u001b[39mkwargs):\n\u001b[1;32m-> 2387\u001b[0m     \u001b[38;5;28;01mreturn\u001b[39;00m gca()\u001b[38;5;241m.\u001b[39mbar(\n\u001b[0;32m   2388\u001b[0m         x, height, width\u001b[38;5;241m=\u001b[39mwidth, bottom\u001b[38;5;241m=\u001b[39mbottom, align\u001b[38;5;241m=\u001b[39malign,\n\u001b[0;32m   2389\u001b[0m         \u001b[38;5;241m*\u001b[39m\u001b[38;5;241m*\u001b[39m({\u001b[38;5;124m\"\u001b[39m\u001b[38;5;124mdata\u001b[39m\u001b[38;5;124m\"\u001b[39m: data} \u001b[38;5;28;01mif\u001b[39;00m data \u001b[38;5;129;01mis\u001b[39;00m \u001b[38;5;129;01mnot\u001b[39;00m \u001b[38;5;28;01mNone\u001b[39;00m \u001b[38;5;28;01melse\u001b[39;00m {}), \u001b[38;5;241m*\u001b[39m\u001b[38;5;241m*\u001b[39mkwargs)\n",
      "File \u001b[1;32m~\\anaconda3\\lib\\site-packages\\matplotlib\\__init__.py:1412\u001b[0m, in \u001b[0;36m_preprocess_data.<locals>.inner\u001b[1;34m(ax, data, *args, **kwargs)\u001b[0m\n\u001b[0;32m   1409\u001b[0m \u001b[38;5;129m@functools\u001b[39m\u001b[38;5;241m.\u001b[39mwraps(func)\n\u001b[0;32m   1410\u001b[0m \u001b[38;5;28;01mdef\u001b[39;00m \u001b[38;5;21minner\u001b[39m(ax, \u001b[38;5;241m*\u001b[39margs, data\u001b[38;5;241m=\u001b[39m\u001b[38;5;28;01mNone\u001b[39;00m, \u001b[38;5;241m*\u001b[39m\u001b[38;5;241m*\u001b[39mkwargs):\n\u001b[0;32m   1411\u001b[0m     \u001b[38;5;28;01mif\u001b[39;00m data \u001b[38;5;129;01mis\u001b[39;00m \u001b[38;5;28;01mNone\u001b[39;00m:\n\u001b[1;32m-> 1412\u001b[0m         \u001b[38;5;28;01mreturn\u001b[39;00m func(ax, \u001b[38;5;241m*\u001b[39m\u001b[38;5;28mmap\u001b[39m(sanitize_sequence, args), \u001b[38;5;241m*\u001b[39m\u001b[38;5;241m*\u001b[39mkwargs)\n\u001b[0;32m   1414\u001b[0m     bound \u001b[38;5;241m=\u001b[39m new_sig\u001b[38;5;241m.\u001b[39mbind(ax, \u001b[38;5;241m*\u001b[39margs, \u001b[38;5;241m*\u001b[39m\u001b[38;5;241m*\u001b[39mkwargs)\n\u001b[0;32m   1415\u001b[0m     auto_label \u001b[38;5;241m=\u001b[39m (bound\u001b[38;5;241m.\u001b[39marguments\u001b[38;5;241m.\u001b[39mget(label_namer)\n\u001b[0;32m   1416\u001b[0m                   \u001b[38;5;129;01mor\u001b[39;00m bound\u001b[38;5;241m.\u001b[39mkwargs\u001b[38;5;241m.\u001b[39mget(label_namer))\n",
      "File \u001b[1;32m~\\anaconda3\\lib\\site-packages\\matplotlib\\axes\\_axes.py:2395\u001b[0m, in \u001b[0;36mAxes.bar\u001b[1;34m(self, x, height, width, bottom, align, **kwargs)\u001b[0m\n\u001b[0;32m   2392\u001b[0m args \u001b[38;5;241m=\u001b[39m \u001b[38;5;28mzip\u001b[39m(left, bottom, width, height, color, edgecolor, linewidth,\n\u001b[0;32m   2393\u001b[0m            hatch)\n\u001b[0;32m   2394\u001b[0m \u001b[38;5;28;01mfor\u001b[39;00m l, b, w, h, c, e, lw, htch \u001b[38;5;129;01min\u001b[39;00m args:\n\u001b[1;32m-> 2395\u001b[0m     r \u001b[38;5;241m=\u001b[39m \u001b[43mmpatches\u001b[49m\u001b[38;5;241;43m.\u001b[39;49m\u001b[43mRectangle\u001b[49m\u001b[43m(\u001b[49m\n\u001b[0;32m   2396\u001b[0m \u001b[43m        \u001b[49m\u001b[43mxy\u001b[49m\u001b[38;5;241;43m=\u001b[39;49m\u001b[43m(\u001b[49m\u001b[43ml\u001b[49m\u001b[43m,\u001b[49m\u001b[43m \u001b[49m\u001b[43mb\u001b[49m\u001b[43m)\u001b[49m\u001b[43m,\u001b[49m\u001b[43m \u001b[49m\u001b[43mwidth\u001b[49m\u001b[38;5;241;43m=\u001b[39;49m\u001b[43mw\u001b[49m\u001b[43m,\u001b[49m\u001b[43m \u001b[49m\u001b[43mheight\u001b[49m\u001b[38;5;241;43m=\u001b[39;49m\u001b[43mh\u001b[49m\u001b[43m,\u001b[49m\n\u001b[0;32m   2397\u001b[0m \u001b[43m        \u001b[49m\u001b[43mfacecolor\u001b[49m\u001b[38;5;241;43m=\u001b[39;49m\u001b[43mc\u001b[49m\u001b[43m,\u001b[49m\n\u001b[0;32m   2398\u001b[0m \u001b[43m        \u001b[49m\u001b[43medgecolor\u001b[49m\u001b[38;5;241;43m=\u001b[39;49m\u001b[43me\u001b[49m\u001b[43m,\u001b[49m\n\u001b[0;32m   2399\u001b[0m \u001b[43m        \u001b[49m\u001b[43mlinewidth\u001b[49m\u001b[38;5;241;43m=\u001b[39;49m\u001b[43mlw\u001b[49m\u001b[43m,\u001b[49m\n\u001b[0;32m   2400\u001b[0m \u001b[43m        \u001b[49m\u001b[43mlabel\u001b[49m\u001b[38;5;241;43m=\u001b[39;49m\u001b[38;5;124;43m'\u001b[39;49m\u001b[38;5;124;43m_nolegend_\u001b[39;49m\u001b[38;5;124;43m'\u001b[39;49m\u001b[43m,\u001b[49m\n\u001b[0;32m   2401\u001b[0m \u001b[43m        \u001b[49m\u001b[43mhatch\u001b[49m\u001b[38;5;241;43m=\u001b[39;49m\u001b[43mhtch\u001b[49m\u001b[43m,\u001b[49m\n\u001b[0;32m   2402\u001b[0m \u001b[43m        \u001b[49m\u001b[43m)\u001b[49m\n\u001b[0;32m   2403\u001b[0m     r\u001b[38;5;241m.\u001b[39mupdate(kwargs)\n\u001b[0;32m   2404\u001b[0m     r\u001b[38;5;241m.\u001b[39mget_path()\u001b[38;5;241m.\u001b[39m_interpolation_steps \u001b[38;5;241m=\u001b[39m \u001b[38;5;241m100\u001b[39m\n",
      "File \u001b[1;32m~\\anaconda3\\lib\\site-packages\\matplotlib\\patches.py:727\u001b[0m, in \u001b[0;36mRectangle.__init__\u001b[1;34m(self, xy, width, height, angle, **kwargs)\u001b[0m\n\u001b[0;32m    708\u001b[0m \u001b[38;5;129m@docstring\u001b[39m\u001b[38;5;241m.\u001b[39mdedent_interpd\n\u001b[0;32m    709\u001b[0m \u001b[38;5;28;01mdef\u001b[39;00m \u001b[38;5;21m__init__\u001b[39m(\u001b[38;5;28mself\u001b[39m, xy, width, height, angle\u001b[38;5;241m=\u001b[39m\u001b[38;5;241m0.0\u001b[39m, \u001b[38;5;241m*\u001b[39m\u001b[38;5;241m*\u001b[39mkwargs):\n\u001b[0;32m    710\u001b[0m     \u001b[38;5;124;03m\"\"\"\u001b[39;00m\n\u001b[0;32m    711\u001b[0m \u001b[38;5;124;03m    Parameters\u001b[39;00m\n\u001b[0;32m    712\u001b[0m \u001b[38;5;124;03m    ----------\u001b[39;00m\n\u001b[1;32m   (...)\u001b[0m\n\u001b[0;32m    725\u001b[0m \u001b[38;5;124;03m        %(Patch:kwdoc)s\u001b[39;00m\n\u001b[0;32m    726\u001b[0m \u001b[38;5;124;03m    \"\"\"\u001b[39;00m\n\u001b[1;32m--> 727\u001b[0m     \u001b[38;5;28msuper\u001b[39m()\u001b[38;5;241m.\u001b[39m\u001b[38;5;21m__init__\u001b[39m(\u001b[38;5;241m*\u001b[39m\u001b[38;5;241m*\u001b[39mkwargs)\n\u001b[0;32m    728\u001b[0m     \u001b[38;5;28mself\u001b[39m\u001b[38;5;241m.\u001b[39m_x0 \u001b[38;5;241m=\u001b[39m xy[\u001b[38;5;241m0\u001b[39m]\n\u001b[0;32m    729\u001b[0m     \u001b[38;5;28mself\u001b[39m\u001b[38;5;241m.\u001b[39m_y0 \u001b[38;5;241m=\u001b[39m xy[\u001b[38;5;241m1\u001b[39m]\n",
      "File \u001b[1;32m~\\anaconda3\\lib\\site-packages\\matplotlib\\patches.py:106\u001b[0m, in \u001b[0;36mPatch.__init__\u001b[1;34m(self, edgecolor, facecolor, color, linewidth, linestyle, antialiased, hatch, fill, capstyle, joinstyle, **kwargs)\u001b[0m\n\u001b[0;32m    104\u001b[0m \u001b[38;5;28mself\u001b[39m\u001b[38;5;241m.\u001b[39mset_fill(fill)\n\u001b[0;32m    105\u001b[0m \u001b[38;5;28mself\u001b[39m\u001b[38;5;241m.\u001b[39mset_linestyle(linestyle)\n\u001b[1;32m--> 106\u001b[0m \u001b[38;5;28;43mself\u001b[39;49m\u001b[38;5;241;43m.\u001b[39;49m\u001b[43mset_linewidth\u001b[49m\u001b[43m(\u001b[49m\u001b[43mlinewidth\u001b[49m\u001b[43m)\u001b[49m\n\u001b[0;32m    107\u001b[0m \u001b[38;5;28mself\u001b[39m\u001b[38;5;241m.\u001b[39mset_antialiased(antialiased)\n\u001b[0;32m    108\u001b[0m \u001b[38;5;28mself\u001b[39m\u001b[38;5;241m.\u001b[39mset_hatch(hatch)\n",
      "File \u001b[1;32m~\\anaconda3\\lib\\site-packages\\matplotlib\\patches.py:411\u001b[0m, in \u001b[0;36mPatch.set_linewidth\u001b[1;34m(self, w)\u001b[0m\n\u001b[0;32m    408\u001b[0m     \u001b[38;5;28;01mif\u001b[39;00m w \u001b[38;5;129;01mis\u001b[39;00m \u001b[38;5;28;01mNone\u001b[39;00m:\n\u001b[0;32m    409\u001b[0m         w \u001b[38;5;241m=\u001b[39m mpl\u001b[38;5;241m.\u001b[39mrcParams[\u001b[38;5;124m'\u001b[39m\u001b[38;5;124maxes.linewidth\u001b[39m\u001b[38;5;124m'\u001b[39m]\n\u001b[1;32m--> 411\u001b[0m \u001b[38;5;28mself\u001b[39m\u001b[38;5;241m.\u001b[39m_linewidth \u001b[38;5;241m=\u001b[39m \u001b[38;5;28;43mfloat\u001b[39;49m\u001b[43m(\u001b[49m\u001b[43mw\u001b[49m\u001b[43m)\u001b[49m\n\u001b[0;32m    412\u001b[0m \u001b[38;5;66;03m# scale the dash pattern by the linewidth\u001b[39;00m\n\u001b[0;32m    413\u001b[0m offset, ls \u001b[38;5;241m=\u001b[39m \u001b[38;5;28mself\u001b[39m\u001b[38;5;241m.\u001b[39m_us_dashes\n",
      "\u001b[1;31mTypeError\u001b[0m: only size-1 arrays can be converted to Python scalars"
     ]
    },
    {
     "data": {
      "image/png": "[encoded data removed]",
      "text/plain": [
       "<Figure size 432x288 with 1 Axes>"
      ]
     },
     "metadata": {
      "needs_background": "light"
     },
     "output_type": "display_data"
    }
   ],
   "source": [
    "\n",
    "  \n",
    "X = ['Social Increase', 'Social No Change', 'Social Decrease']\n",
    "socialimp = [ssin]\n",
    "socialnc = [ssnc]\n",
    "socialde = [ssde]\n",
    "  \n",
    "X_axis = np.arange(len(X))\n",
    "Y_axis = X_axis.astype(int)\n",
    "  \n",
    "plt.bar(X_axis - 0.2, socialimp, 0.4, label = 'Increase')\n",
    "plt.bar(X_axis + 0.2, socialnc, 0.4, label = 'No Change')\n",
    "plt.bar(X_axis + 0.2, socialde, 0.4, label = 'Decrease')\n",
    "  \n",
    "plt.xticks(X_axis, X)\n",
    "plt.xlabel(\"\")\n",
    "plt.ylabel(\"Percentage of Change\")\n",
    "plt.title(\"Social Scale: Improvement or No?\")\n",
    "plt.legend()\n",
    "plt.show()"
   ]
  },
  {
   "cell_type": "code",
   "execution_count": 63,
   "id": "d772cac5",
   "metadata": {
    "scrolled": false
   },
   "outputs": [
    {
     "data": {
      "image/png": "[encoded data removed]",
      "text/plain": [
       "<Figure size 432x288 with 1 Axes>"
      ]
     },
     "metadata": {
      "needs_background": "light"
     },
     "output_type": "display_data"
    }
   ],
   "source": [
    "# df1=pd.DataFrame({'x':[1,2,3,4,5],'y':[10,2,454,121,34]})\n",
    "# df2=pd.DataFrame({'x':[4,1,2,5,3],'y':[54,12,65,12,8]})\n",
    "\n",
    "ssin['Scale']='Social'\n",
    "ksin['Scale']='Knowledge'\n",
    "aasin['Scale']='Approp. Action'\n",
    "res=pd.concat([ssin,ksin,aasin])\n",
    "sns.barplot(x='entry_score',y=('pct_of_children_improved'),data=res,hue='Scale',palette='Paired').set(title='Percent Improved')\n",
    "plt.show()"
   ]
  },
  {
   "cell_type": "code",
   "execution_count": 64,
   "id": "dbe7cefc",
   "metadata": {},
   "outputs": [
    {
     "data": {
      "image/png": "[encoded data removed]",
      "text/plain": [
       "<Figure size 432x288 with 1 Axes>"
      ]
     },
     "metadata": {
      "needs_background": "light"
     },
     "output_type": "display_data"
    }
   ],
   "source": [
    "ssin['Scale']='Social'\n",
    "ksin['Scale']='Knowledge'\n",
    "aasin['Scale']='Approp. Action'\n",
    "res=pd.concat([ssin,ksin,aasin])\n",
    "sns.barplot(x='entry_score',y=('time_in_program'),data=res,hue='Scale',palette='Paired').set(title='Scale-Improved T.I.P(Median)')\n",
    "plt.show()"
   ]
  },
  {
   "cell_type": "code",
   "execution_count": 65,
   "id": "9ca74997",
   "metadata": {
    "scrolled": true
   },
   "outputs": [
    {
     "data": {
      "image/png": "[encoded data removed]",
      "text/plain": [
       "<Figure size 432x288 with 1 Axes>"
      ]
     },
     "metadata": {
      "needs_background": "light"
     },
     "output_type": "display_data"
    }
   ],
   "source": [
    "ssnc['Scale']='Social'\n",
    "ksnc['Scale']='Knowledge'\n",
    "aasnc['Scale']='Approp. Action'\n",
    "res=pd.concat([ssnc,ksnc,aasnc])\n",
    "sns.barplot(x='entry_score',y=('pct_of_children_nochange'),data=res,hue='Scale',palette='Paired').set(title='Percent With No Change')\n",
    "plt.show()"
   ]
  },
  {
   "cell_type": "code",
   "execution_count": 66,
   "id": "598765a6",
   "metadata": {},
   "outputs": [
    {
     "data": {
      "image/png": "[encoded data removed]",
      "text/plain": [
       "<Figure size 432x288 with 1 Axes>"
      ]
     },
     "metadata": {
      "needs_background": "light"
     },
     "output_type": "display_data"
    }
   ],
   "source": [
    "ssnc['Scale']='Social'\n",
    "ksnc['Scale']='Knowledge'\n",
    "aasnc['Scale']='Approp. Action'\n",
    "res=pd.concat([ssnc,ksnc,aasnc])\n",
    "sns.barplot(x='entry_score',y=('time_in_program'),data=res,hue='Scale',palette='Paired').set(title='Scale-No Change T.I.P(Median)')\n",
    "plt.show()"
   ]
  },
  {
   "cell_type": "code",
   "execution_count": 67,
   "id": "d1c19d0e",
   "metadata": {
    "scrolled": true
   },
   "outputs": [
    {
     "data": {
      "image/png": "[encoded data removed]",
      "text/plain": [
       "<Figure size 432x288 with 1 Axes>"
      ]
     },
     "metadata": {
      "needs_background": "light"
     },
     "output_type": "display_data"
    }
   ],
   "source": [
    "ssde['Scale']='Social'\n",
    "ksde['Scale']='Knowledge'\n",
    "aasde['Scale']='Approp. Action'\n",
    "res=pd.concat([ssde,ksde,aasde])\n",
    "sns.barplot(x='entry_score',y=('pct_of_children_decrease'),data=res,hue='Scale',palette='Paired').set(title='Percent Decreased')\n",
    "plt.show()"
   ]
  },
  {
   "cell_type": "code",
   "execution_count": 68,
   "id": "d3dad008",
   "metadata": {
    "scrolled": true
   },
   "outputs": [
    {
     "data": {
      "image/png": "[encoded data removed]",
      "text/plain": [
       "<Figure size 432x288 with 1 Axes>"
      ]
     },
     "metadata": {
      "needs_background": "light"
     },
     "output_type": "display_data"
    }
   ],
   "source": [
    "ssde['Scale']='Social'\n",
    "ksde['Scale']='Knowledge'\n",
    "aasde['Scale']='Approp. Action'\n",
    "res=pd.concat([ssde,ksde,aasde])\n",
    "sns.barplot(x='entry_score',y=('time_in_program'),data=res,hue='Scale',palette='Paired').set(title='Scale-Decrease T.I.P(Median)')\n",
    "plt.show()"
   ]
  },
  {
   "cell_type": "code",
   "execution_count": 69,
   "id": "8a96d3cf",
   "metadata": {},
   "outputs": [
    {
     "data": {
      "text/plain": [
       "<bound method NDFrame.head of    entry_score  pct_of_children_improved  time_in_program   Scale\n",
       "0            1                     57.90              364  Social\n",
       "1            2                     77.20              490  Social\n",
       "2            3                     71.60              357  Social\n",
       "3            4                     75.00              345  Social\n",
       "4            5                     71.14              335  Social\n",
       "5            6                     60.00              194  Social>"
      ]
     },
     "execution_count": 69,
     "metadata": {},
     "output_type": "execute_result"
    }
   ],
   "source": [
    "ssin.head"
   ]
  },
  {
   "cell_type": "code",
   "execution_count": 70,
   "id": "b4798a36",
   "metadata": {},
   "outputs": [
    {
     "data": {
      "text/plain": [
       "<bound method NDFrame.head of    entry_score  pct_of_children_nochange  time_in_program   Scale\n",
       "0            1                      42.1              317  Social\n",
       "1            2                      14.5              227  Social\n",
       "2            3                      19.8              183  Social\n",
       "3            4                      14.0              189  Social\n",
       "4            5                      21.9              182  Social\n",
       "5            6                      34.0              182  Social\n",
       "6            7                      88.4              188  Social>"
      ]
     },
     "execution_count": 70,
     "metadata": {},
     "output_type": "execute_result"
    }
   ],
   "source": [
    "ssnc.head"
   ]
  },
  {
   "cell_type": "code",
   "execution_count": 71,
   "id": "347256dc",
   "metadata": {},
   "outputs": [
    {
     "data": {
      "text/plain": [
       "<bound method NDFrame.head of    entry_score  pct_of_children_decrease  time_in_program   Scale\n",
       "0            2                       8.4              389  Social\n",
       "1            3                       8.6              352  Social\n",
       "2            4                      11.0              351  Social\n",
       "3            5                       6.9              325  Social\n",
       "4            6                       6.0              319  Social\n",
       "5            7                      11.6              200  Social>"
      ]
     },
     "execution_count": 71,
     "metadata": {},
     "output_type": "execute_result"
    }
   ],
   "source": [
    "ssde.head"
   ]
  },
  {
   "cell_type": "code",
   "execution_count": 72,
   "id": "72b008cf",
   "metadata": {},
   "outputs": [
    {
     "data": {
      "text/html": [
       "<div>\n",
       "<style scoped>\n",
       "    .dataframe tbody tr th:only-of-type {\n",
       "        vertical-align: middle;\n",
       "    }\n",
       "\n",
       "    .dataframe tbody tr th {\n",
       "        vertical-align: top;\n",
       "    }\n",
       "\n",
       "    .dataframe thead th {\n",
       "        text-align: right;\n",
       "    }\n",
       "</style>\n",
       "<table border=\"1\" class=\"dataframe\">\n",
       "  <thead>\n",
       "    <tr style=\"text-align: right;\">\n",
       "      <th></th>\n",
       "      <th>CHILD_ID</th>\n",
       "      <th>Ent SOCIAL_SCALE</th>\n",
       "      <th>Ent KNOWLEDGE_SCALE</th>\n",
       "      <th>Ent APPROPRIATE_ACTION_SCALE</th>\n",
       "      <th>Exit SOCIAL_SCALE</th>\n",
       "      <th>Exit KNOWLEDGE_SCALE</th>\n",
       "      <th>Exit APPROPRIATE_ACTION_SCALE</th>\n",
       "      <th>Avg_Entry_Score</th>\n",
       "      <th>Avg_Exit_Score</th>\n",
       "      <th>Days btw I-IFSP to Exit ECO</th>\n",
       "    </tr>\n",
       "  </thead>\n",
       "  <tbody>\n",
       "    <tr>\n",
       "      <th>count</th>\n",
       "      <td>8632.000000</td>\n",
       "      <td>5721.000000</td>\n",
       "      <td>5721.000000</td>\n",
       "      <td>5721.000000</td>\n",
       "      <td>5721.000000</td>\n",
       "      <td>5721.000000</td>\n",
       "      <td>5721.000000</td>\n",
       "      <td>5721.000000</td>\n",
       "      <td>5721.000000</td>\n",
       "      <td>8632.000000</td>\n",
       "    </tr>\n",
       "    <tr>\n",
       "      <th>mean</th>\n",
       "      <td>489991.365385</td>\n",
       "      <td>3.283167</td>\n",
       "      <td>3.609684</td>\n",
       "      <td>4.022723</td>\n",
       "      <td>4.795141</td>\n",
       "      <td>4.251704</td>\n",
       "      <td>5.289285</td>\n",
       "      <td>3.638525</td>\n",
       "      <td>4.778710</td>\n",
       "      <td>-14724.668675</td>\n",
       "    </tr>\n",
       "    <tr>\n",
       "      <th>std</th>\n",
       "      <td>18101.075788</td>\n",
       "      <td>1.930219</td>\n",
       "      <td>1.690441</td>\n",
       "      <td>2.137700</td>\n",
       "      <td>2.128639</td>\n",
       "      <td>2.147349</td>\n",
       "      <td>2.031837</td>\n",
       "      <td>1.654901</td>\n",
       "      <td>1.928534</td>\n",
       "      <td>21183.390516</td>\n",
       "    </tr>\n",
       "    <tr>\n",
       "      <th>min</th>\n",
       "      <td>440888.000000</td>\n",
       "      <td>1.000000</td>\n",
       "      <td>1.000000</td>\n",
       "      <td>1.000000</td>\n",
       "      <td>1.000000</td>\n",
       "      <td>1.000000</td>\n",
       "      <td>1.000000</td>\n",
       "      <td>1.000000</td>\n",
       "      <td>1.000000</td>\n",
       "      <td>-44734.000000</td>\n",
       "    </tr>\n",
       "    <tr>\n",
       "      <th>25%</th>\n",
       "      <td>478734.250000</td>\n",
       "      <td>2.000000</td>\n",
       "      <td>2.000000</td>\n",
       "      <td>2.000000</td>\n",
       "      <td>3.000000</td>\n",
       "      <td>3.000000</td>\n",
       "      <td>4.000000</td>\n",
       "      <td>2.333333</td>\n",
       "      <td>3.333333</td>\n",
       "      <td>-44329.000000</td>\n",
       "    </tr>\n",
       "    <tr>\n",
       "      <th>50%</th>\n",
       "      <td>492992.500000</td>\n",
       "      <td>3.000000</td>\n",
       "      <td>4.000000</td>\n",
       "      <td>4.000000</td>\n",
       "      <td>5.000000</td>\n",
       "      <td>4.000000</td>\n",
       "      <td>6.000000</td>\n",
       "      <td>3.333333</td>\n",
       "      <td>5.000000</td>\n",
       "      <td>177.000000</td>\n",
       "    </tr>\n",
       "    <tr>\n",
       "      <th>75%</th>\n",
       "      <td>503007.500000</td>\n",
       "      <td>5.000000</td>\n",
       "      <td>5.000000</td>\n",
       "      <td>6.000000</td>\n",
       "      <td>7.000000</td>\n",
       "      <td>6.000000</td>\n",
       "      <td>7.000000</td>\n",
       "      <td>5.000000</td>\n",
       "      <td>6.666667</td>\n",
       "      <td>360.000000</td>\n",
       "    </tr>\n",
       "    <tr>\n",
       "      <th>max</th>\n",
       "      <td>528675.000000</td>\n",
       "      <td>7.000000</td>\n",
       "      <td>7.000000</td>\n",
       "      <td>7.000000</td>\n",
       "      <td>7.000000</td>\n",
       "      <td>7.000000</td>\n",
       "      <td>7.000000</td>\n",
       "      <td>7.000000</td>\n",
       "      <td>7.000000</td>\n",
       "      <td>1057.000000</td>\n",
       "    </tr>\n",
       "  </tbody>\n",
       "</table>\n",
       "</div>"
      ],
      "text/plain": [
       "            CHILD_ID  Ent SOCIAL_SCALE  Ent KNOWLEDGE_SCALE  \\\n",
       "count    8632.000000       5721.000000          5721.000000   \n",
       "mean   489991.365385          3.283167             3.609684   \n",
       "std     18101.075788          1.930219             1.690441   \n",
       "min    440888.000000          1.000000             1.000000   \n",
       "25%    478734.250000          2.000000             2.000000   \n",
       "50%    492992.500000          3.000000             4.000000   \n",
       "75%    503007.500000          5.000000             5.000000   \n",
       "max    528675.000000          7.000000             7.000000   \n",
       "\n",
       "       Ent APPROPRIATE_ACTION_SCALE  Exit SOCIAL_SCALE  Exit KNOWLEDGE_SCALE  \\\n",
       "count                   5721.000000        5721.000000           5721.000000   \n",
       "mean                       4.022723           4.795141              4.251704   \n",
       "std                        2.137700           2.128639              2.147349   \n",
       "min                        1.000000           1.000000              1.000000   \n",
       "25%                        2.000000           3.000000              3.000000   \n",
       "50%                        4.000000           5.000000              4.000000   \n",
       "75%                        6.000000           7.000000              6.000000   \n",
       "max                        7.000000           7.000000              7.000000   \n",
       "\n",
       "       Exit APPROPRIATE_ACTION_SCALE  Avg_Entry_Score  Avg_Exit_Score  \\\n",
       "count                    5721.000000      5721.000000     5721.000000   \n",
       "mean                        5.289285         3.638525        4.778710   \n",
       "std                         2.031837         1.654901        1.928534   \n",
       "min                         1.000000         1.000000        1.000000   \n",
       "25%                         4.000000         2.333333        3.333333   \n",
       "50%                         6.000000         3.333333        5.000000   \n",
       "75%                         7.000000         5.000000        6.666667   \n",
       "max                         7.000000         7.000000        7.000000   \n",
       "\n",
       "       Days btw I-IFSP to Exit ECO  \n",
       "count                  8632.000000  \n",
       "mean                 -14724.668675  \n",
       "std                   21183.390516  \n",
       "min                  -44734.000000  \n",
       "25%                  -44329.000000  \n",
       "50%                     177.000000  \n",
       "75%                     360.000000  \n",
       "max                    1057.000000  "
      ]
     },
     "execution_count": 72,
     "metadata": {},
     "output_type": "execute_result"
    }
   ],
   "source": [
    "eco_exit.describe()"
   ]
  },
  {
   "cell_type": "code",
   "execution_count": 73,
   "id": "3b8aab05",
   "metadata": {},
   "outputs": [
    {
     "data": {
      "image/png": "[encoded data removed]",
      "text/plain": [
       "<Figure size 432x288 with 1 Axes>"
      ]
     },
     "metadata": {
      "needs_background": "light"
     },
     "output_type": "display_data"
    }
   ],
   "source": [
    "ssde['Scale']='Social'\n",
    "ksde['Scale']='Knowledge'\n",
    "aasde['Scale']='Approp. Action'\n",
    "res=pd.concat([ssde,ksde,aasde])\n",
    "sns.scatterplot(x='entry_score',y=('pct_of_children_decrease'),data=res,hue='Scale',palette='Paired').set(title='Percent Decreased')\n",
    "plt.show()"
   ]
  },
  {
   "cell_type": "code",
   "execution_count": 74,
   "id": "18bae340",
   "metadata": {},
   "outputs": [
    {
     "data": {
      "text/html": [
       "<div>\n",
       "<style scoped>\n",
       "    .dataframe tbody tr th:only-of-type {\n",
       "        vertical-align: middle;\n",
       "    }\n",
       "\n",
       "    .dataframe tbody tr th {\n",
       "        vertical-align: top;\n",
       "    }\n",
       "\n",
       "    .dataframe thead th {\n",
       "        text-align: right;\n",
       "    }\n",
       "</style>\n",
       "<table border=\"1\" class=\"dataframe\">\n",
       "  <thead>\n",
       "    <tr style=\"text-align: right;\">\n",
       "      <th></th>\n",
       "      <th>entry_score</th>\n",
       "      <th>pct_of_children_decrease</th>\n",
       "      <th>time_in_program</th>\n",
       "    </tr>\n",
       "  </thead>\n",
       "  <tbody>\n",
       "    <tr>\n",
       "      <th>count</th>\n",
       "      <td>6.000000</td>\n",
       "      <td>6.000000</td>\n",
       "      <td>6.000000</td>\n",
       "    </tr>\n",
       "    <tr>\n",
       "      <th>mean</th>\n",
       "      <td>4.500000</td>\n",
       "      <td>8.750000</td>\n",
       "      <td>322.666667</td>\n",
       "    </tr>\n",
       "    <tr>\n",
       "      <th>std</th>\n",
       "      <td>1.870829</td>\n",
       "      <td>2.205221</td>\n",
       "      <td>65.006666</td>\n",
       "    </tr>\n",
       "    <tr>\n",
       "      <th>min</th>\n",
       "      <td>2.000000</td>\n",
       "      <td>6.000000</td>\n",
       "      <td>200.000000</td>\n",
       "    </tr>\n",
       "    <tr>\n",
       "      <th>25%</th>\n",
       "      <td>3.250000</td>\n",
       "      <td>7.275000</td>\n",
       "      <td>320.500000</td>\n",
       "    </tr>\n",
       "    <tr>\n",
       "      <th>50%</th>\n",
       "      <td>4.500000</td>\n",
       "      <td>8.500000</td>\n",
       "      <td>338.000000</td>\n",
       "    </tr>\n",
       "    <tr>\n",
       "      <th>75%</th>\n",
       "      <td>5.750000</td>\n",
       "      <td>10.400000</td>\n",
       "      <td>351.750000</td>\n",
       "    </tr>\n",
       "    <tr>\n",
       "      <th>max</th>\n",
       "      <td>7.000000</td>\n",
       "      <td>11.600000</td>\n",
       "      <td>389.000000</td>\n",
       "    </tr>\n",
       "  </tbody>\n",
       "</table>\n",
       "</div>"
      ],
      "text/plain": [
       "       entry_score  pct_of_children_decrease  time_in_program\n",
       "count     6.000000                  6.000000         6.000000\n",
       "mean      4.500000                  8.750000       322.666667\n",
       "std       1.870829                  2.205221        65.006666\n",
       "min       2.000000                  6.000000       200.000000\n",
       "25%       3.250000                  7.275000       320.500000\n",
       "50%       4.500000                  8.500000       338.000000\n",
       "75%       5.750000                 10.400000       351.750000\n",
       "max       7.000000                 11.600000       389.000000"
      ]
     },
     "execution_count": 74,
     "metadata": {},
     "output_type": "execute_result"
    }
   ],
   "source": [
    "ssde.describe()"
   ]
  },
  {
   "cell_type": "code",
   "execution_count": 75,
   "id": "d8ef75e8",
   "metadata": {},
   "outputs": [
    {
     "data": {
      "text/html": [
       "<div>\n",
       "<style scoped>\n",
       "    .dataframe tbody tr th:only-of-type {\n",
       "        vertical-align: middle;\n",
       "    }\n",
       "\n",
       "    .dataframe tbody tr th {\n",
       "        vertical-align: top;\n",
       "    }\n",
       "\n",
       "    .dataframe thead th {\n",
       "        text-align: right;\n",
       "    }\n",
       "</style>\n",
       "<table border=\"1\" class=\"dataframe\">\n",
       "  <thead>\n",
       "    <tr style=\"text-align: right;\">\n",
       "      <th></th>\n",
       "      <th>entry_score</th>\n",
       "      <th>pct_of_children_decrease</th>\n",
       "      <th>time_in_program</th>\n",
       "    </tr>\n",
       "  </thead>\n",
       "  <tbody>\n",
       "    <tr>\n",
       "      <th>count</th>\n",
       "      <td>6.000000</td>\n",
       "      <td>6.000000</td>\n",
       "      <td>6.000000</td>\n",
       "    </tr>\n",
       "    <tr>\n",
       "      <th>mean</th>\n",
       "      <td>4.500000</td>\n",
       "      <td>25.650000</td>\n",
       "      <td>379.666667</td>\n",
       "    </tr>\n",
       "    <tr>\n",
       "      <th>std</th>\n",
       "      <td>1.870829</td>\n",
       "      <td>6.525565</td>\n",
       "      <td>59.691429</td>\n",
       "    </tr>\n",
       "    <tr>\n",
       "      <th>min</th>\n",
       "      <td>2.000000</td>\n",
       "      <td>14.800000</td>\n",
       "      <td>349.000000</td>\n",
       "    </tr>\n",
       "    <tr>\n",
       "      <th>25%</th>\n",
       "      <td>3.250000</td>\n",
       "      <td>22.500000</td>\n",
       "      <td>351.750000</td>\n",
       "    </tr>\n",
       "    <tr>\n",
       "      <th>50%</th>\n",
       "      <td>4.500000</td>\n",
       "      <td>28.000000</td>\n",
       "      <td>357.000000</td>\n",
       "    </tr>\n",
       "    <tr>\n",
       "      <th>75%</th>\n",
       "      <td>5.750000</td>\n",
       "      <td>29.750000</td>\n",
       "      <td>362.250000</td>\n",
       "    </tr>\n",
       "    <tr>\n",
       "      <th>max</th>\n",
       "      <td>7.000000</td>\n",
       "      <td>32.100000</td>\n",
       "      <td>501.000000</td>\n",
       "    </tr>\n",
       "  </tbody>\n",
       "</table>\n",
       "</div>"
      ],
      "text/plain": [
       "       entry_score  pct_of_children_decrease  time_in_program\n",
       "count     6.000000                  6.000000         6.000000\n",
       "mean      4.500000                 25.650000       379.666667\n",
       "std       1.870829                  6.525565        59.691429\n",
       "min       2.000000                 14.800000       349.000000\n",
       "25%       3.250000                 22.500000       351.750000\n",
       "50%       4.500000                 28.000000       357.000000\n",
       "75%       5.750000                 29.750000       362.250000\n",
       "max       7.000000                 32.100000       501.000000"
      ]
     },
     "execution_count": 75,
     "metadata": {},
     "output_type": "execute_result"
    }
   ],
   "source": [
    "ksde.describe()"
   ]
  },
  {
   "cell_type": "markdown",
   "id": "88599d64",
   "metadata": {},
   "source": [
    "## Finished Bar/Point Graphs for Improved, No Change, & Decreased"
   ]
  },
  {
   "cell_type": "code",
   "execution_count": 76,
   "id": "9e6aec5c",
   "metadata": {
    "scrolled": true
   },
   "outputs": [
    {
     "data": {
      "image/png": "[encoded data removed]",
      "text/plain": [
       "<Figure size 864x432 with 2 Axes>"
      ]
     },
     "metadata": {
      "needs_background": "light"
     },
     "output_type": "display_data"
    }
   ],
   "source": [
    "ssin['Scale']='Social'\n",
    "ksin['Scale']='Knowledge'\n",
    "aasin['Scale']='Approp. Action'\n",
    "res=pd.concat([ssin,ksin,aasin])\n",
    "#matplotlib.rc_file_defaults()\n",
    "ax1 = sns.set_style(style=None, rc=None )\n",
    "fig, ax1 = plt.subplots(figsize=(12,6))\n",
    "sns.pointplot(x='entry_score',y=('time_in_program'),data=res,hue='Scale',kind='point',palette='Paired',ax=ax1).set(title='T.I.P(Median) VS. PCT of Change')\n",
    "plt.legend(loc='upper right')\n",
    "ax2 = ax1.twinx()\n",
    "sns.barplot(x='entry_score',y=('pct_of_children_improved'),data=res,hue='Scale',palette='Paired',alpha=0.40,ax=ax2)\n",
    "plt.legend(loc='upper right')\n",
    "plt.savefig(\"improvedVStime.png\")\n",
    "plt.show()"
   ]
  },
  {
   "cell_type": "code",
   "execution_count": 77,
   "id": "ac1abfe8",
   "metadata": {
    "scrolled": true
   },
   "outputs": [
    {
     "data": {
      "image/png": "[encoded data removed]",
      "text/plain": [
       "<Figure size 864x432 with 2 Axes>"
      ]
     },
     "metadata": {
      "needs_background": "light"
     },
     "output_type": "display_data"
    }
   ],
   "source": [
    "ssnc['Scale']='Social'\n",
    "ksnc['Scale']='Knowledge'\n",
    "aasnc['Scale']='Approp. Action'\n",
    "res=pd.concat([ssnc,ksnc,aasnc])\n",
    "ax1 = sns.set_style(style=None, rc=None )\n",
    "fig, ax1 = plt.subplots(figsize=(12,6))\n",
    "sns.pointplot(x='entry_score',y=('time_in_program'),data=res,hue='Scale',kind='point',palette='Paired',ax=ax1).set(title='T.I.P(Median) VS PCT of Change')\n",
    "plt.legend(loc='upper right')\n",
    "ax2 = ax1.twinx()\n",
    "sns.barplot(x='entry_score',y=('pct_of_children_nochange'),data=res,hue='Scale',palette='Paired',alpha=0.40,ax=ax2)\n",
    "plt.legend(loc='upper right')\n",
    "plt.savefig(\"nochangeVStime.png\")\n",
    "plt.show()"
   ]
  },
  {
   "cell_type": "code",
   "execution_count": 78,
   "id": "e61209d3",
   "metadata": {},
   "outputs": [
    {
     "data": {
      "image/png": "[encoded data removed]",
      "text/plain": [
       "<Figure size 864x432 with 2 Axes>"
      ]
     },
     "metadata": {
      "needs_background": "light"
     },
     "output_type": "display_data"
    }
   ],
   "source": [
    "ssde['Scale']='Social'\n",
    "ksde['Scale']='Knowledge'\n",
    "aasde['Scale']='Approp. Action'\n",
    "res=pd.concat([ssde,ksde,aasde])\n",
    "#matplotlib.rc_file_defaults()\n",
    "ax1 = sns.set_style(style=None, rc=None )\n",
    "fig, ax1 = plt.subplots(figsize=(12,6))\n",
    "sns.pointplot(x='entry_score',y=('time_in_program'),data=res,hue='Scale',kind='point',palette='Paired',ax=ax1).set(title='T.I.P(Median) VS PCT of Change')\n",
    "plt.legend(loc='upper right')\n",
    "ax2 = ax1.twinx()\n",
    "sns.barplot(x='entry_score',y=('pct_of_children_decrease'),data=res,hue='Scale',palette='Paired',alpha=0.40,ax=ax2)\n",
    "plt.legend(loc='upper right')\n",
    "plt.savefig(\"decreaseVStime.png\")\n",
    "plt.show()"
   ]
  },
  {
   "cell_type": "markdown",
   "id": "72e6f0ed",
   "metadata": {},
   "source": [
    "#### Testing graph styles...."
   ]
  },
  {
   "cell_type": "code",
   "execution_count": 79,
   "id": "39ced91e",
   "metadata": {
    "scrolled": true
   },
   "outputs": [
    {
     "data": {
      "image/png": "[encoded data removed]",
      "text/plain": [
       "<Figure size 864x432 with 2 Axes>"
      ]
     },
     "metadata": {
      "needs_background": "light"
     },
     "output_type": "display_data"
    },
    {
     "data": {
      "image/png": "[encoded data removed]",
      "text/plain": [
       "<Figure size 469.25x360 with 1 Axes>"
      ]
     },
     "metadata": {
      "needs_background": "light"
     },
     "output_type": "display_data"
    }
   ],
   "source": [
    "ssnc['Scale']='Social'\n",
    "ksnc['Scale']='Knowledge'\n",
    "aasnc['Scale']='Approp. Action'\n",
    "res=pd.concat([ssnc,ksnc,aasnc])\n",
    "ax1 = sns.set_style(style=None, rc=None )\n",
    "fig, ax1 = plt.subplots(figsize=(12,6))\n",
    "sns.catplot(x='entry_score',y=('time_in_program'),data=res,hue='Scale',kind='point',palette='autumn_r').set(title='Scale-No Change T.I.P(Median)')\n",
    "ax2 = ax1.twinx()\n",
    "sns.barplot(x='entry_score',y=('time_in_program'),data=res,hue='Scale',palette='Paired').set(title='Scale-Improved T.I.P(Median)')\n",
    "plt.show()"
   ]
  },
  {
   "cell_type": "code",
   "execution_count": 80,
   "id": "8d8a6d6d",
   "metadata": {
    "scrolled": true
   },
   "outputs": [
    {
     "data": {
      "image/png": "[encoded data removed]",
      "text/plain": [
       "<Figure size 469.25x360 with 1 Axes>"
      ]
     },
     "metadata": {
      "needs_background": "light"
     },
     "output_type": "display_data"
    }
   ],
   "source": [
    "ssde['Scale']='Social'\n",
    "ksde['Scale']='Knowledge'\n",
    "aasde['Scale']='Approp. Action'\n",
    "res=pd.concat([ssde,ksde,aasde])\n",
    "sns.catplot(x='entry_score',y=('time_in_program'),data=res,hue='Scale',kind='point',palette='autumn_r').set(title='Scale-Decrease T.I.P(Median)')\n",
    "plt.show()"
   ]
  },
  {
   "cell_type": "code",
   "execution_count": 81,
   "id": "46ba8682",
   "metadata": {},
   "outputs": [
    {
     "data": {
      "image/png": "[encoded data removed]",
      "text/plain": [
       "<Figure size 432x288 with 1 Axes>"
      ]
     },
     "metadata": {},
     "output_type": "display_data"
    }
   ],
   "source": [
    "values = [6.235011990407674,33.81294964028777, 59.95203836930456]\n",
    "colors = ['r', 'b', 'g']\n",
    "labels = ['Decreased','No Change','Increased']\n",
    "days = ['Days in Program:319','Days in Program:182','Days in Program:194']\n",
    "explode = (0.4, 0, 0)\n",
    "plt.pie(values, colors=colors, labels=labels,\n",
    "explode=explode, autopct='%1.1f%%',\n",
    "counterclock=False, shadow=True)\n",
    "plt.title('Change in Entry Score and Average Length of Stay\\n (Social Scale)')\n",
    "plt.legend(days,loc=10)\n",
    "plt.show()"
   ]
  },
  {
   "cell_type": "code",
   "execution_count": 82,
   "id": "808e36be",
   "metadata": {},
   "outputs": [
    {
     "data": {
      "image/png": "[encoded data removed]",
      "text/plain": [
       "<Figure size 576x432 with 1 Axes>"
      ]
     },
     "metadata": {},
     "output_type": "display_data"
    }
   ],
   "source": [
    "source_data={'students':['No Change','Decreased','Increased'],\n",
    "'social_scale':[33.81294964028777,6.235011990407674,59.95203836930456],\n",
    "'knowledge_scale':[26.697892271662766,20.60889929742389,52.693208430913355],\n",
    "'appropriate_action_scale':[27.17872968980798,16.691285081240768,56.12998522895125]}\n",
    "\n",
    "# Segregating the raw data into usuable form\n",
    "df=pd.DataFrame(source_data,columns=\n",
    "['students','social_scale','knowledge_scale','appropriate_action_scale'])\n",
    "# df['cumulative_score']=df['social_scale']+df['knowledge_scale']\n",
    "# +df['appropriate_action_scale']\n",
    "\n",
    "# Seperating the sub-parts of the given data\n",
    "x1= df.iloc[0:3,1]\n",
    "x2= df.iloc[0:3,2]\n",
    "x3= df.iloc[0:3,3]\n",
    "\n",
    "# Setting figure colors\n",
    "cmap = plt.get_cmap(\"tab20c\")\n",
    "# outer_colors = cmap(np.arange(3)*4)\n",
    "outer_colors = cmap(np.array([1,5,9]))\n",
    "inner_colors = cmap(np.array([1,5,9]))\n",
    "inner_colors1 = cmap(np.array([1,5,9]))\n",
    "# Setting the size of the figure\n",
    "plt.figure(figsize=(8,6))\n",
    "\n",
    "# Plotting the outer pie\n",
    "plt.pie(x1, labels = df.iloc[0:3, 0], \n",
    "       startangle=90, pctdistance =0.88 ,colors=outer_colors,\n",
    "       autopct = '%1.1f%%', radius= 1.0, labeldistance=1.05,\n",
    "       textprops ={'fontsize':13},\n",
    "       wedgeprops = {'linewidth' : 3, 'edgecolor' : \"w\" } )\n",
    "\n",
    "# PLotting the inner pie\n",
    "plt.pie(x2,startangle=90, pctdistance =.85,colors=inner_colors,\n",
    "        autopct = '%1.1f%%',radius= 0.70,\n",
    "       textprops ={'fontsize':13}, \n",
    "       wedgeprops = {'linewidth' : 3, 'edgecolor' : \"w\" } )\n",
    "\n",
    "# PLotting the inner pie2\n",
    "plt.pie(x3,startangle=90, pctdistance =.50,colors=inner_colors1,\n",
    "        autopct = '%1.1f%%',radius= 0.45,\n",
    "        textprops ={'fontsize':13}, \n",
    "       wedgeprops = {'linewidth' : 3, 'edgecolor' : \"w\" } )\n",
    "# 'fontweight': 'bold' ,\n",
    "# Creating the donut shape for the pie\n",
    "centre_circle = plt.Circle((0,0), 0.25, fc='white')\n",
    "fig= plt.gcf()\n",
    "fig.gca().add_artist(centre_circle) # adding the centre circle\n",
    "\n",
    "# Plotting the pie \n",
    "plt.axis('equal')  # equal aspect ratio\n",
    "# plt.legend(loc=3, fontsize =10)\n",
    "# plt.legend(['Outer Ring (Social Scale)', 'Middle Ring (Knowledge Scale)', 'Inner Ring (Appropriate Action Scale)'])\n",
    "plt.title('Change in Entry Score (6)\\n\\nOuter Ring - Social Scale\\nMiddle Ring - Knowledge Scale\\nInner Ring - Appropriate Action Scale', fontweight='bold')\n",
    "plt.tight_layout()\n",
    "plt.show()\n"
   ]
  },
  {
   "cell_type": "code",
   "execution_count": null,
   "id": "067e1b48",
   "metadata": {},
   "outputs": [],
   "source": []
  }
 ],
 "metadata": {
  "kernelspec": {
   "display_name": "Python 3 (ipykernel)",
   "language": "python",
   "name": "python3"
  },
  "language_info": {
   "codemirror_mode": {
    "name": "ipython",
    "version": 3
   },
   "file_extension": ".py",
   "mimetype": "text/x-python",
   "name": "python",
   "nbconvert_exporter": "python",
   "pygments_lexer": "ipython3",
   "version": "3.9.12"
  }
 },
 "nbformat": 4,
 "nbformat_minor": 5
}
