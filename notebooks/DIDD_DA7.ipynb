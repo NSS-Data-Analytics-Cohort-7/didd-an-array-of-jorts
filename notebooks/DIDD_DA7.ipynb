{
 "cells": [
  {
   "cell_type": "markdown",
   "id": "ccdd34fb",
   "metadata": {},
   "source": [
    "### *Analysis Results*\n",
    "##### *Number with scores of 2*\n",
    "- Entrance Social Scale of '2' = 1,051\n",
    "- Exit Social Scale of '2' = 373\n",
    "- Entrance Knowledge Scale of '2' = 521\n",
    "- Exit Knowledge Scale of '2' = 373\n",
    "- Entrand Appropriate Action Scale of '2' = 721\n",
    "- Exit Appropriate Action Scale of '2' = 298\n",
    "##### *Avgs btwn '2.0-2.9'*\n",
    "- Avg Entry Score of '2.0-2.9' = 1,170\n",
    "- Avg Exit Score of '2.0-2.9' = 529\n",
    "##### *Total Averages*\n",
    "- TOTAL Ent SOCIAL_SCALE Average = 3.283167\n",
    "- TOTAL Ent KNOWLEDGE_SCALE Average = 3.609684\n",
    "- TOTAL Ent APPROPRIATE_ACTION_SCALE Average = 4.022723\n",
    "- TOTAL Exit SOCIAL_SCALE                4.795141\n",
    "- TOTAL Exit KNOWLEDGE_SCALE             4.251704\n",
    "- TOTAL Exit APPROPRIATE_ACTION_SCALE    5.289285\n",
    "##### *No Progress with score of 2 *\n",
    "- No Progress Social Scale = 152\n",
    "- No Progress Knowledge Scale = 91\n",
    "- No Progress Appropriate Action Scale = 104\n",
    "##### *Decrease in Progress*\n",
    "- Decrease Social Scale = 88\n",
    "- Decrease Knowledge Scale = 167\n",
    "- Decrease Appropriate Action Scale = 82\n",
    "##### *Increase in Progress*\n",
    "- Increase Social Scale = 811\n",
    "- Increase Knowledge Scale = 263\n",
    "- Increase Appropriate Action Scale = 535\n",
    "##### *Percentage of Change in scores of '2'*\n",
    "- No Progress\n",
    "    - Social = 14.46%\n",
    "    - Knowledge = 17.47%\n",
    "    - Appropriate Action = 14.42%\n",
    "- Increase Greater than 2\n",
    "    - Social = 77.16%\n",
    "    - Knowledge = 50.48%\n",
    "    - Appropriate Action = 74.22%\n",
    "- Decrease to 1 \n",
    "    - Social = 8.37%\n",
    "    - Knowledge = 32.05%\n",
    "    - Appropriate Action = 11.37%\n",
    "- Increase to 3\n",
    "    - Social = 20.17%\n",
    "    - Knowledge = 18.62%\n",
    "    - Appropriat Action = 10.68%\n",
    "- Increase to 4\n",
    "    - Social = 9.80%\n",
    "    - Knowledge = 7.68%\n",
    "    - Appropriate Action = 13.45%\n",
    "- Increase to 5\n",
    "    - Social = 12.46%\n",
    "    - Knowledge = 11.13%\n",
    "    - Appropriate Action = 7.77%\n",
    "- Increase to 6\n",
    "    - Social = 11.99%\n",
    "    - Knowledge = 4.99%\n",
    "    - Appropriate Action = 8.46%\n",
    "- Increase to 7\n",
    "    - Social = 22.74%\n",
    "    - Knowledge = 8.06%\n",
    "    - Appropriate Action = 33.84%\n",
    "- Median Days in Program\n",
    "    - Overall with entry of 2\n",
    "        - Social = 490\n",
    "        - Knowledge = 335\n",
    "        - Appropriate Action = 523\n",
    "    - Increased to 3\n",
    "        - Social = 327\n",
    "        - Knowledge = 193\n",
    "        - Appropriate Action = 187\n",
    "    - Increased to 4\n",
    "        - Social = 359\n",
    "        - Knowledge = 190.5\n",
    "        - Appropriate Action = 349\n",
    "    - Increased to 5\n",
    "        - Social = 360\n",
    "        - Knowledge = 334.5\n",
    "        - Appropriate Action = 356\n",
    "    - Increased to 6\n",
    "        - Social = 690\n",
    "        - Knowledge = 368.5\n",
    "        - Appropriate Action = 673\n",
    "    - Increased to 7\n",
    "        - Social = 721\n",
    "        - Knowledge = 724.5\n",
    "        - Appropriate Action = 695\n",
    "    - Decrease to 1\n",
    "        - Social = 388.5\n",
    "        - Knowledge = 349\n",
    "        - Appropriate Action = 425\n",
    "    - No Progress\n",
    "        - Social = 226.5\n",
    "        - Knowledge = 180\n",
    "        - Appropriate Action = 184.5"
   ]
  },
  {
   "cell_type": "markdown",
   "id": "7510f239",
   "metadata": {},
   "source": [
    "#### Overall increase\n",
    "- Entry score of 2\n",
    "- Social,  77.16% increase, 490 days\n",
    "- Knowledge, 50.48% increase, 335 days\n",
    "- Approp. Action, 74.22% increase, 523 days\n",
    "#### Overall no change\n",
    "- Entry Score of 2\n",
    "- Social, 14.46% no change, 226.5 days\n",
    "- Knowledge, 17.47% no change, 180 days\n",
    "- Approp. Action, 14.42% no change, 184.5 days\n",
    "#### Overall decrease\n",
    "- Entry score of 2\n",
    "- Social, 8.37% decrease, 388.5 days\n",
    "- Knowledge, 32.05% decrease, 349 days\n",
    "- Approp. Action, 11.37% decrease, 425 days\n"
   ]
  },
  {
   "cell_type": "code",
   "execution_count": null,
   "id": "73e5f443",
   "metadata": {},
   "outputs": [],
   "source": [
    "import pandas as pd\n",
    "import matplotlib.pyplot as plt\n",
    "import seaborn as sns\n",
    "import numpy as np"
   ]
  },
  {
   "cell_type": "code",
   "execution_count": null,
   "id": "beb25fc3",
   "metadata": {},
   "outputs": [],
   "source": [
    "project_data = pd.read_excel('../data/TEIS-NSS Project Data 10-2022.xlsx', sheet_name=['ECO with Exit21-22', 'Elig Timeline Rpt 2018-2022'])"
   ]
  },
  {
   "cell_type": "code",
   "execution_count": null,
   "id": "f62ae6ff",
   "metadata": {},
   "outputs": [],
   "source": [
    "eco_exit = project_data.get('ECO with Exit21-22')\n",
    "elig_timeline = project_data.get('Elig Timeline Rpt 2018-2022')\n",
    "print(eco_exit)\n",
    "print(elig_timeline)"
   ]
  },
  {
   "cell_type": "code",
   "execution_count": null,
   "id": "9f33d078",
   "metadata": {},
   "outputs": [],
   "source": [
    "eco_exit.head()"
   ]
  },
  {
   "cell_type": "code",
   "execution_count": null,
   "id": "3285fe0a",
   "metadata": {},
   "outputs": [],
   "source": [
    "for columnName in eco_exit:\n",
    "    print(columnName)"
   ]
  },
  {
   "cell_type": "code",
   "execution_count": null,
   "id": "52a6f85c",
   "metadata": {},
   "outputs": [],
   "source": [
    "eco_exit = eco_exit[['DISTRICT', 'CHILD_ID', 'ECO_Entry_DATE', 'Ent SOCIAL_SCALE', 'Ent KNOWLEDGE_SCALE', 'Ent APPROPRIATE_ACTION_SCALE', 'ECO_Exit_DATE', 'Exit SOCIAL_SCALE', 'Exit KNOWLEDGE_SCALE', 'Exit APPROPRIATE_ACTION_SCALE', 'Days btw I-IFSP to Exit ECO']]\n",
    "eco_exit"
   ]
  },
  {
   "cell_type": "markdown",
   "id": "be00bed9",
   "metadata": {},
   "source": [
    "### 530  with an Entry-Social-Scale of \"2\""
   ]
  },
  {
   "cell_type": "code",
   "execution_count": null,
   "id": "9f90bee3",
   "metadata": {
    "scrolled": true
   },
   "outputs": [],
   "source": [
    "entss=eco_exit.loc[eco_exit['Ent SOCIAL_SCALE']== 2]"
   ]
  },
  {
   "cell_type": "code",
   "execution_count": null,
   "id": "ca75720b",
   "metadata": {},
   "outputs": [],
   "source": [
    "exitss=eco_exit.loc[eco_exit['Exit SOCIAL_SCALE']== 2]"
   ]
  },
  {
   "cell_type": "code",
   "execution_count": null,
   "id": "6b97668a",
   "metadata": {},
   "outputs": [],
   "source": [
    "entks=eco_exit.loc[eco_exit['Ent KNOWLEDGE_SCALE']== 2]"
   ]
  },
  {
   "cell_type": "code",
   "execution_count": null,
   "id": "0b36659b",
   "metadata": {},
   "outputs": [],
   "source": [
    "exitks=eco_exit.loc[eco_exit['Exit KNOWLEDGE_SCALE']== 2]"
   ]
  },
  {
   "cell_type": "code",
   "execution_count": null,
   "id": "e36bd18a",
   "metadata": {},
   "outputs": [],
   "source": [
    "entaa=eco_exit.loc[eco_exit['Ent APPROPRIATE_ACTION_SCALE']== 2]"
   ]
  },
  {
   "cell_type": "code",
   "execution_count": null,
   "id": "dc64909d",
   "metadata": {
    "scrolled": true
   },
   "outputs": [],
   "source": [
    "exitaa=eco_exit.loc[eco_exit['Exit APPROPRIATE_ACTION_SCALE']== 2]"
   ]
  },
  {
   "cell_type": "code",
   "execution_count": null,
   "id": "4717cf89",
   "metadata": {},
   "outputs": [],
   "source": [
    "avg_ent_rows=['Ent SOCIAL_SCALE', 'Ent KNOWLEDGE_SCALE', 'Ent APPROPRIATE_ACTION_SCALE']\n",
    "avg_ent_rows2=eco_exit[avg_ent_rows].mean(axis=1)\n",
    "\n",
    "eco_exit.insert(loc=6,column='Avg_Entry_Score',value=avg_ent_rows2)\n",
    "print(eco_exit)"
   ]
  },
  {
   "cell_type": "code",
   "execution_count": null,
   "id": "5ea9b6dc",
   "metadata": {},
   "outputs": [],
   "source": [
    "avg_ext_rows=['Exit SOCIAL_SCALE', 'Exit KNOWLEDGE_SCALE', 'Exit APPROPRIATE_ACTION_SCALE']\n",
    "avg_ext_rows2=eco_exit[avg_ext_rows].mean(axis=1)\n",
    "\n",
    "eco_exit.insert(loc=10,column='Avg_Exit_Score',value=avg_ext_rows2)\n",
    "print(eco_exit)"
   ]
  },
  {
   "cell_type": "code",
   "execution_count": null,
   "id": "66caf213",
   "metadata": {},
   "outputs": [],
   "source": [
    "avg_ent_cols=['Ent SOCIAL_SCALE', 'Ent KNOWLEDGE_SCALE', 'Ent APPROPRIATE_ACTION_SCALE']\n",
    "eco_exit[avg_ent_cols].mean(axis=0)"
   ]
  },
  {
   "cell_type": "code",
   "execution_count": null,
   "id": "1b1587fc",
   "metadata": {},
   "outputs": [],
   "source": [
    "avg_ext_cols=['Exit SOCIAL_SCALE', 'Exit KNOWLEDGE_SCALE', 'Exit APPROPRIATE_ACTION_SCALE']\n",
    "eco_exit[avg_ext_cols].mean(axis=0)"
   ]
  },
  {
   "cell_type": "code",
   "execution_count": null,
   "id": "f4bb267c",
   "metadata": {},
   "outputs": [],
   "source": [
    "eco_exit"
   ]
  },
  {
   "cell_type": "code",
   "execution_count": null,
   "id": "950281d6",
   "metadata": {},
   "outputs": [],
   "source": [
    "eco_exit = eco_exit[['DISTRICT', 'CHILD_ID', 'ECO_Entry_DATE', 'Ent SOCIAL_SCALE', 'Ent KNOWLEDGE_SCALE', 'Ent APPROPRIATE_ACTION_SCALE', 'ECO_Exit_DATE', 'Exit SOCIAL_SCALE', 'Exit KNOWLEDGE_SCALE', 'Exit APPROPRIATE_ACTION_SCALE', 'Avg_Entry_Score', 'Avg_Exit_Score', 'Days btw I-IFSP to Exit ECO']]"
   ]
  },
  {
   "cell_type": "code",
   "execution_count": null,
   "id": "97670f57",
   "metadata": {},
   "outputs": [],
   "source": [
    "eco_exit"
   ]
  },
  {
   "cell_type": "code",
   "execution_count": null,
   "id": "d69fadd2",
   "metadata": {},
   "outputs": [],
   "source": [
    "eco_exit.loc[eco_exit['Avg_Entry_Score'].between(2.0,2.9)]"
   ]
  },
  {
   "cell_type": "code",
   "execution_count": null,
   "id": "437e2815",
   "metadata": {},
   "outputs": [],
   "source": [
    "eco_exit.loc[eco_exit['Avg_Exit_Score'].between(2.0,2.9)]"
   ]
  },
  {
   "cell_type": "code",
   "execution_count": null,
   "id": "163ccd46",
   "metadata": {},
   "outputs": [],
   "source": [
    "no_progress_social=eco_exit[(eco_exit['Ent SOCIAL_SCALE']==2) & (eco_exit['Exit SOCIAL_SCALE']==2)]\n",
    "no_progress_know=eco_exit[(eco_exit['Ent KNOWLEDGE_SCALE']==2) & (eco_exit['Exit KNOWLEDGE_SCALE']==2)]\n",
    "no_progress_aa=eco_exit[(eco_exit['Ent APPROPRIATE_ACTION_SCALE']==2) & (eco_exit['Exit APPROPRIATE_ACTION_SCALE']==2)]"
   ]
  },
  {
   "cell_type": "code",
   "execution_count": null,
   "id": "1880f5bb",
   "metadata": {},
   "outputs": [],
   "source": [
    "no_progress_social.head"
   ]
  },
  {
   "cell_type": "code",
   "execution_count": null,
   "id": "412acb90",
   "metadata": {},
   "outputs": [],
   "source": [
    "no_progress_know.head"
   ]
  },
  {
   "cell_type": "code",
   "execution_count": null,
   "id": "b344ac4b",
   "metadata": {},
   "outputs": [],
   "source": [
    "no_progress_aa.head"
   ]
  },
  {
   "cell_type": "code",
   "execution_count": null,
   "id": "3ce1b062",
   "metadata": {},
   "outputs": [],
   "source": [
    "decrease_social=eco_exit[(eco_exit['Ent SOCIAL_SCALE']==2) & (eco_exit['Exit SOCIAL_SCALE']<2)]\n",
    "decrease_know=eco_exit[(eco_exit['Ent KNOWLEDGE_SCALE']==2) & (eco_exit['Exit KNOWLEDGE_SCALE']<2)]\n",
    "decrease_aa=eco_exit[(eco_exit['Ent APPROPRIATE_ACTION_SCALE']==2) & (eco_exit['Exit APPROPRIATE_ACTION_SCALE']<2)]"
   ]
  },
  {
   "cell_type": "code",
   "execution_count": null,
   "id": "84dc222a",
   "metadata": {},
   "outputs": [],
   "source": [
    "decrease_social.head"
   ]
  },
  {
   "cell_type": "code",
   "execution_count": null,
   "id": "a2daa3ed",
   "metadata": {},
   "outputs": [],
   "source": [
    "decrease_know.head"
   ]
  },
  {
   "cell_type": "code",
   "execution_count": null,
   "id": "f54e6d06",
   "metadata": {},
   "outputs": [],
   "source": [
    "decrease_aa.head"
   ]
  },
  {
   "cell_type": "code",
   "execution_count": null,
   "id": "b133cda4",
   "metadata": {},
   "outputs": [],
   "source": [
    "increase_social=eco_exit[(eco_exit['Ent SOCIAL_SCALE']==2) & (eco_exit['Exit SOCIAL_SCALE']>2)]\n",
    "increase_know=eco_exit[(eco_exit['Ent KNOWLEDGE_SCALE']==2) & (eco_exit['Exit KNOWLEDGE_SCALE']>2)]\n",
    "increase_aa=eco_exit[(eco_exit['Ent APPROPRIATE_ACTION_SCALE']==2) & (eco_exit['Exit APPROPRIATE_ACTION_SCALE']>2)]"
   ]
  },
  {
   "cell_type": "code",
   "execution_count": null,
   "id": "23fd1915",
   "metadata": {},
   "outputs": [],
   "source": [
    "increase_social.head"
   ]
  },
  {
   "cell_type": "code",
   "execution_count": null,
   "id": "537ffc27",
   "metadata": {},
   "outputs": [],
   "source": [
    "increase_know.head"
   ]
  },
  {
   "cell_type": "code",
   "execution_count": null,
   "id": "88c1dfb5",
   "metadata": {},
   "outputs": [],
   "source": [
    "increase_aa.head"
   ]
  },
  {
   "cell_type": "code",
   "execution_count": null,
   "id": "64f799f9",
   "metadata": {},
   "outputs": [],
   "source": [
    "print(no_progress_social['Ent SOCIAL_SCALE'].count()/entss['Ent SOCIAL_SCALE'].count()*100)\n",
    "print(no_progress_know['Ent SOCIAL_SCALE'].count()/entks['Ent SOCIAL_SCALE'].count()*100)\n",
    "print(no_progress_aa['Ent SOCIAL_SCALE'].count()/entaa['Ent SOCIAL_SCALE'].count()*100)"
   ]
  },
  {
   "cell_type": "code",
   "execution_count": null,
   "id": "59594028",
   "metadata": {},
   "outputs": [],
   "source": [
    "print(decrease_social['Ent SOCIAL_SCALE'].count()/entss['Ent SOCIAL_SCALE'].count()*100)\n",
    "print(decrease_know['Ent SOCIAL_SCALE'].count()/entks['Ent SOCIAL_SCALE'].count()*100)\n",
    "print(decrease_aa['Ent SOCIAL_SCALE'].count()/entaa['Ent SOCIAL_SCALE'].count()*100)"
   ]
  },
  {
   "cell_type": "code",
   "execution_count": null,
   "id": "e468444d",
   "metadata": {},
   "outputs": [],
   "source": [
    "print(increase_social['Ent SOCIAL_SCALE'].count()/entss['Ent SOCIAL_SCALE'].count()*100)\n",
    "print(increase_know['Ent SOCIAL_SCALE'].count()/entks['Ent SOCIAL_SCALE'].count()*100)\n",
    "print(increase_aa['Ent SOCIAL_SCALE'].count()/entaa['Ent SOCIAL_SCALE'].count()*100)"
   ]
  },
  {
   "cell_type": "markdown",
   "id": "d2e64ce4",
   "metadata": {},
   "source": [
    "## Increase from 2 to 3.."
   ]
  },
  {
   "cell_type": "code",
   "execution_count": null,
   "id": "cc8c8ec2",
   "metadata": {},
   "outputs": [],
   "source": [
    "increase_social_3=eco_exit[(eco_exit['Ent SOCIAL_SCALE']==2) & (eco_exit['Exit SOCIAL_SCALE'] ==3)]\n",
    "increase_know_3=eco_exit[(eco_exit['Ent KNOWLEDGE_SCALE']==2) & (eco_exit['Exit KNOWLEDGE_SCALE']==3)]\n",
    "increase_aa_3=eco_exit[(eco_exit['Ent APPROPRIATE_ACTION_SCALE']==2) & (eco_exit['Exit APPROPRIATE_ACTION_SCALE']==3)]"
   ]
  },
  {
   "cell_type": "code",
   "execution_count": null,
   "id": "e2663136",
   "metadata": {},
   "outputs": [],
   "source": [
    "is3=increase_social_3['Ent SOCIAL_SCALE'].count()/entss['Ent SOCIAL_SCALE'].count()*100\n",
    "ik3=increase_know_3['Ent SOCIAL_SCALE'].count()/entks['Ent SOCIAL_SCALE'].count()*100\n",
    "ia3=increase_aa_3['Ent SOCIAL_SCALE'].count()/entaa['Ent SOCIAL_SCALE'].count()*100\n",
    "print(is3)\n",
    "print(ik3)\n",
    "print(ia3)"
   ]
  },
  {
   "cell_type": "markdown",
   "id": "ed3eeee6",
   "metadata": {},
   "source": [
    "## Increase from 2 to 4.."
   ]
  },
  {
   "cell_type": "code",
   "execution_count": null,
   "id": "e8e66ac9",
   "metadata": {},
   "outputs": [],
   "source": [
    "increase_social_4=eco_exit[(eco_exit['Ent SOCIAL_SCALE']==2) & (eco_exit['Exit SOCIAL_SCALE'] ==4)]\n",
    "increase_know_4=eco_exit[(eco_exit['Ent KNOWLEDGE_SCALE']==2) & (eco_exit['Exit KNOWLEDGE_SCALE']==4)]\n",
    "increase_aa_4=eco_exit[(eco_exit['Ent APPROPRIATE_ACTION_SCALE']==2) & (eco_exit['Exit APPROPRIATE_ACTION_SCALE']==4)]\n",
    "is4=increase_social_4['Ent SOCIAL_SCALE'].count()/entss['Ent SOCIAL_SCALE'].count()*100\n",
    "ik4=increase_know_4['Ent SOCIAL_SCALE'].count()/entks['Ent SOCIAL_SCALE'].count()*100\n",
    "ia4=increase_aa_4['Ent SOCIAL_SCALE'].count()/entaa['Ent SOCIAL_SCALE'].count()*100\n",
    "print(is4)\n",
    "print(ik4)\n",
    "print(ia4)"
   ]
  },
  {
   "cell_type": "markdown",
   "id": "c58068f2",
   "metadata": {},
   "source": [
    "## Increase from 2 to 5.."
   ]
  },
  {
   "cell_type": "code",
   "execution_count": null,
   "id": "9f719653",
   "metadata": {},
   "outputs": [],
   "source": [
    "increase_social_5=eco_exit[(eco_exit['Ent SOCIAL_SCALE']==2) & (eco_exit['Exit SOCIAL_SCALE'] ==5)]\n",
    "increase_know_5=eco_exit[(eco_exit['Ent KNOWLEDGE_SCALE']==2) & (eco_exit['Exit KNOWLEDGE_SCALE']==5)]\n",
    "increase_aa_5=eco_exit[(eco_exit['Ent APPROPRIATE_ACTION_SCALE']==2) & (eco_exit['Exit APPROPRIATE_ACTION_SCALE']==5)]\n",
    "is5=increase_social_5['Ent SOCIAL_SCALE'].count()/entss['Ent SOCIAL_SCALE'].count()*100\n",
    "ik5=increase_know_5['Ent SOCIAL_SCALE'].count()/entks['Ent SOCIAL_SCALE'].count()*100\n",
    "ia5=increase_aa_5['Ent SOCIAL_SCALE'].count()/entaa['Ent SOCIAL_SCALE'].count()*100\n",
    "print(is5)\n",
    "print(ik5)\n",
    "print(ia5)"
   ]
  },
  {
   "cell_type": "markdown",
   "id": "a85d34b9",
   "metadata": {},
   "source": [
    "## Increase from 2 to 6.."
   ]
  },
  {
   "cell_type": "code",
   "execution_count": null,
   "id": "efe40680",
   "metadata": {},
   "outputs": [],
   "source": [
    "increase_social_6=eco_exit[(eco_exit['Ent SOCIAL_SCALE']==2) & (eco_exit['Exit SOCIAL_SCALE'] ==6)]\n",
    "increase_know_6=eco_exit[(eco_exit['Ent KNOWLEDGE_SCALE']==2) & (eco_exit['Exit KNOWLEDGE_SCALE']==6)]\n",
    "increase_aa_6=eco_exit[(eco_exit['Ent APPROPRIATE_ACTION_SCALE']==2) & (eco_exit['Exit APPROPRIATE_ACTION_SCALE']==6)]\n",
    "is6=increase_social_6['Ent SOCIAL_SCALE'].count()/entss['Ent SOCIAL_SCALE'].count()*100\n",
    "ik6=increase_know_6['Ent SOCIAL_SCALE'].count()/entks['Ent SOCIAL_SCALE'].count()*100\n",
    "ia6=increase_aa_6['Ent SOCIAL_SCALE'].count()/entaa['Ent SOCIAL_SCALE'].count()*100\n",
    "print(is6)\n",
    "print(ik6)\n",
    "print(ia6)"
   ]
  },
  {
   "cell_type": "markdown",
   "id": "4588e2ad",
   "metadata": {},
   "source": [
    "## Increase from 2 to 7.."
   ]
  },
  {
   "cell_type": "code",
   "execution_count": null,
   "id": "6e920ec2",
   "metadata": {},
   "outputs": [],
   "source": [
    "increase_social_7=eco_exit[(eco_exit['Ent SOCIAL_SCALE']==2) & (eco_exit['Exit SOCIAL_SCALE'] ==7)]\n",
    "increase_know_7=eco_exit[(eco_exit['Ent KNOWLEDGE_SCALE']==2) & (eco_exit['Exit KNOWLEDGE_SCALE']==7)]\n",
    "increase_aa_7=eco_exit[(eco_exit['Ent APPROPRIATE_ACTION_SCALE']==2) & (eco_exit['Exit APPROPRIATE_ACTION_SCALE']==7)]\n",
    "is7=increase_social_7['Ent SOCIAL_SCALE'].count()/entss['Ent SOCIAL_SCALE'].count()*100\n",
    "ik7=increase_know_7['Ent SOCIAL_SCALE'].count()/entks['Ent SOCIAL_SCALE'].count()*100\n",
    "ia7=increase_aa_7['Ent SOCIAL_SCALE'].count()/entaa['Ent SOCIAL_SCALE'].count()*100\n",
    "print(is7)\n",
    "print(ik7)\n",
    "print(ia7)"
   ]
  },
  {
   "cell_type": "markdown",
   "id": "101f65a4",
   "metadata": {},
   "source": [
    "## Decrease from 2 to 1.."
   ]
  },
  {
   "cell_type": "code",
   "execution_count": null,
   "id": "90c73384",
   "metadata": {},
   "outputs": [],
   "source": [
    "decrease_social_1=eco_exit[(eco_exit['Ent SOCIAL_SCALE']==2) & (eco_exit['Exit SOCIAL_SCALE']==1)]\n",
    "decrease_know_1=eco_exit[(eco_exit['Ent KNOWLEDGE_SCALE']==2) & (eco_exit['Exit KNOWLEDGE_SCALE']==1)]\n",
    "decrease_aa_1=eco_exit[(eco_exit['Ent APPROPRIATE_ACTION_SCALE']==2) & (eco_exit['Exit APPROPRIATE_ACTION_SCALE']==1)]\n",
    "print(decrease_social_1['Ent SOCIAL_SCALE'].count()/entss['Ent SOCIAL_SCALE'].count()*100)\n",
    "print(decrease_know_1['Ent SOCIAL_SCALE'].count()/entks['Ent SOCIAL_SCALE'].count()*100)\n",
    "print(decrease_aa_1['Ent SOCIAL_SCALE'].count()/entaa['Ent SOCIAL_SCALE'].count()*100)\n"
   ]
  },
  {
   "cell_type": "markdown",
   "id": "9ce46bef",
   "metadata": {},
   "source": [
    "## Plot shows many outliers that could affect average number of \n",
    "## days in program. Will use median in place of mean..."
   ]
  },
  {
   "cell_type": "code",
   "execution_count": null,
   "id": "c2d1af23",
   "metadata": {},
   "outputs": [],
   "source": [
    "increase_social.plot(kind='scatter',x='CHILD_ID', y='Days btw I-IFSP to Exit ECO')"
   ]
  },
  {
   "cell_type": "code",
   "execution_count": null,
   "id": "fac5137e",
   "metadata": {},
   "outputs": [],
   "source": [
    "increase_social['Days btw I-IFSP to Exit ECO'].median()"
   ]
  },
  {
   "cell_type": "code",
   "execution_count": null,
   "id": "19fe763c",
   "metadata": {},
   "outputs": [],
   "source": [
    "increase_know['Days btw I-IFSP to Exit ECO'].median()"
   ]
  },
  {
   "cell_type": "code",
   "execution_count": null,
   "id": "a0c16dff",
   "metadata": {},
   "outputs": [],
   "source": [
    "increase_aa['Days btw I-IFSP to Exit ECO'].median()"
   ]
  },
  {
   "cell_type": "code",
   "execution_count": null,
   "id": "10828c46",
   "metadata": {},
   "outputs": [],
   "source": [
    "print(increase_social_3['Days btw I-IFSP to Exit ECO'].median())\n",
    "print(increase_know_3['Days btw I-IFSP to Exit ECO'].median())\n",
    "print(increase_aa_3['Days btw I-IFSP to Exit ECO'].median())"
   ]
  },
  {
   "cell_type": "code",
   "execution_count": null,
   "id": "c5e7300b",
   "metadata": {},
   "outputs": [],
   "source": [
    "print(increase_social_4['Days btw I-IFSP to Exit ECO'].median())\n",
    "print(increase_know_4['Days btw I-IFSP to Exit ECO'].median())\n",
    "print(increase_aa_4['Days btw I-IFSP to Exit ECO'].median())"
   ]
  },
  {
   "cell_type": "code",
   "execution_count": null,
   "id": "c3207f07",
   "metadata": {},
   "outputs": [],
   "source": [
    "print(increase_social_5['Days btw I-IFSP to Exit ECO'].median())\n",
    "print(increase_know_5['Days btw I-IFSP to Exit ECO'].median())\n",
    "print(increase_aa_5['Days btw I-IFSP to Exit ECO'].median())"
   ]
  },
  {
   "cell_type": "code",
   "execution_count": null,
   "id": "e7b2ab84",
   "metadata": {},
   "outputs": [],
   "source": [
    "print(increase_social_6['Days btw I-IFSP to Exit ECO'].median())\n",
    "print(increase_know_6['Days btw I-IFSP to Exit ECO'].median())\n",
    "print(increase_aa_6['Days btw I-IFSP to Exit ECO'].median())"
   ]
  },
  {
   "cell_type": "code",
   "execution_count": null,
   "id": "816f60b8",
   "metadata": {},
   "outputs": [],
   "source": [
    "print(increase_social_7['Days btw I-IFSP to Exit ECO'].median())\n",
    "print(increase_know_7['Days btw I-IFSP to Exit ECO'].median())\n",
    "print(increase_aa_7['Days btw I-IFSP to Exit ECO'].median())"
   ]
  },
  {
   "cell_type": "code",
   "execution_count": null,
   "id": "68d22f35",
   "metadata": {},
   "outputs": [],
   "source": [
    "print(decrease_social_1['Days btw I-IFSP to Exit ECO'].median())\n",
    "print(decrease_know_1['Days btw I-IFSP to Exit ECO'].median())\n",
    "print(decrease_aa_1['Days btw I-IFSP to Exit ECO'].median())"
   ]
  },
  {
   "cell_type": "code",
   "execution_count": null,
   "id": "f90aff5d",
   "metadata": {},
   "outputs": [],
   "source": [
    "eco_exit['Days btw I-IFSP to Exit ECO'].median()"
   ]
  },
  {
   "cell_type": "code",
   "execution_count": null,
   "id": "0652052a",
   "metadata": {},
   "outputs": [],
   "source": [
    "increase_social_3.plot(kind='hist',x='DISTRICT', y='Days btw I-IFSP to Exit ECO')"
   ]
  },
  {
   "cell_type": "code",
   "execution_count": null,
   "id": "b0532e98",
   "metadata": {},
   "outputs": [],
   "source": [
    "increase_social_4.plot(kind='hist',x='DISTRICT', y='Days btw I-IFSP to Exit ECO')"
   ]
  },
  {
   "cell_type": "code",
   "execution_count": null,
   "id": "99f2c289",
   "metadata": {},
   "outputs": [],
   "source": [
    "increase_social_5.plot(kind='hist',x='DISTRICT', y='Days btw I-IFSP to Exit ECO')"
   ]
  },
  {
   "cell_type": "code",
   "execution_count": null,
   "id": "2cacc63a",
   "metadata": {},
   "outputs": [],
   "source": [
    "no_progress_social['Days btw I-IFSP to Exit ECO'].median()"
   ]
  },
  {
   "cell_type": "code",
   "execution_count": null,
   "id": "97af2469",
   "metadata": {},
   "outputs": [],
   "source": [
    "no_progress_know['Days btw I-IFSP to Exit ECO'].median()"
   ]
  },
  {
   "cell_type": "code",
   "execution_count": null,
   "id": "714c8429",
   "metadata": {},
   "outputs": [],
   "source": [
    "no_progress_aa['Days btw I-IFSP to Exit ECO'].median()"
   ]
  },
  {
   "cell_type": "code",
   "execution_count": null,
   "id": "4f21d017",
   "metadata": {
    "scrolled": true
   },
   "outputs": [],
   "source": [
    "#social scale increase df\n",
    "ssin = pd.DataFrame()\n",
    "\n",
    "ssin =pd.DataFrame(columns=[\"entry_score\", \"pct_of_children_improved\", \"time_in_program\"])\n",
    "\n",
    "list1 = [1,2,3,4,5,6]\n",
    "list2 = [57.9,77.2,71.6,75.0,71.14,60.0]\n",
    "list3 = [364,490,357,345,335,194] \n",
    "\n",
    "ssin['entry_score'] = list1\n",
    "ssin['pct_of_children_improved'] = list2\n",
    "ssin['time_in_program'] = list3\n",
    "\n",
    "print(ssin)\n",
    "\n",
    "#knowledge scale increase df\n",
    "ksin = pd.DataFrame()\n",
    "\n",
    "ksin =pd.DataFrame(columns=[\"entry_score\", \"pct_of_children_improved\", \"time_in_program\"])\n",
    "\n",
    "list1a = [1,2,3,4,5,6]\n",
    "list2a = [52.1,50.5,41.3,52.0,49.2,53.0]\n",
    "list3a = [480,335,336,348,353,338]\n",
    "\n",
    "ksin['entry_score'] = list1a\n",
    "ksin['pct_of_children_improved'] = list2a\n",
    "ksin['time_in_program'] = list3a\n",
    "\n",
    "print(ksin)\n",
    "\n",
    "\n",
    "#appropriate action scale increase df\n",
    "aasin = pd.DataFrame()\n",
    "\n",
    "aasin =pd.DataFrame(columns=[\"entry_score\", \"pct_of_children_improved\", \"time_in_program\"])\n",
    "\n",
    "list1b = [1,2,3,4,5,6]\n",
    "list2b = [67.6,74.2,66.9,61.0,64.0,56.0]\n",
    "list3b = [693,523,352,342,335,201] # need to update value 3\n",
    "\n",
    "aasin['entry_score'] = list1b\n",
    "aasin['pct_of_children_improved'] = list2b\n",
    "aasin['time_in_program'] = list3b\n",
    "\n",
    "print(aasin)\n",
    "\n",
    "\n",
    "#social scale no change df\n",
    "ssnc = pd.DataFrame()\n",
    "\n",
    "ssnc =pd.DataFrame(columns=[\"entry_score\", \"pct_of_children_nochange\", \"time_in_program\"])\n",
    "\n",
    "list1c = [1,2,3,4,5,6,7]\n",
    "list2c = [42.1,14.5,19.8,14.0,21.9,34.0,88.4]\n",
    "list3c = [317,227,183,189,182,182,188]\n",
    "\n",
    "ssnc['entry_score'] = list1c\n",
    "ssnc['pct_of_children_nochange'] = list2c\n",
    "ssnc['time_in_program'] = list3c\n",
    "\n",
    "print(ssnc)\n",
    "\n",
    "\n",
    "#knowledge scale no change df\n",
    "ksnc = pd.DataFrame()\n",
    "\n",
    "ksnc =pd.DataFrame(columns=[\"entry_score\", \"pct_of_children_nochange\", \"time_in_program\"])\n",
    "\n",
    "list1d = [1,2,3,4,5,6,7]\n",
    "list2d = [47.9,17.5,31.7,18.0,21.8,27.0,85.0]\n",
    "list3d = [196,180,186,234,325,189,186]\n",
    "\n",
    "ksnc['entry_score'] = list1d\n",
    "ksnc['pct_of_children_nochange'] = list2d\n",
    "ksnc['time_in_program'] = list3d\n",
    "\n",
    "print(ksnc)\n",
    "\n",
    "\n",
    "#appropriate action scale no change df\n",
    "aasnc = pd.DataFrame()\n",
    "\n",
    "aasnc = pd.DataFrame(columns=[\"entry_score\", \"pct_of_children_nochange\", \"time_in_program\"])\n",
    "\n",
    "list1e = [1,2,3,4,5,6,7]\n",
    "list2e = [32.4,14.4,19.8,22,13.6,27,85.3]\n",
    "list3e = [362,185,203,184,184,183,250]\n",
    "\n",
    "aasnc['entry_score'] = list1e\n",
    "aasnc['pct_of_children_nochange'] = list2e\n",
    "aasnc['time_in_program'] = list3e\n",
    "\n",
    "print(aasnc)\n",
    "\n",
    "\n",
    "#social scale decrease df\n",
    "ssde = pd.DataFrame()\n",
    "\n",
    "ssde =pd.DataFrame(columns=[\"entry_score\", \"pct_of_children_decrease\", \"time_in_program\"])\n",
    "\n",
    "list1f = [2,3,4,5,6,7]\n",
    "list2f = [8.4,8.6,11.0,6.9,6.0,11.6] # need to update value 2\n",
    "list3f = [389,352,351,325,319,200] # need to update value 2\n",
    "\n",
    "ssde['entry_score'] = list1f\n",
    "ssde['pct_of_children_decrease'] = list2f\n",
    "ssde['time_in_program'] = list3f\n",
    "\n",
    "print(ssde)\n",
    "\n",
    "\n",
    "#knowledge scale decrease df\n",
    "ksde = pd.DataFrame()\n",
    "\n",
    "ksde =pd.DataFrame(columns=[\"entry_score\", \"pct_of_children_decrease\", \"time_in_program\"])\n",
    "\n",
    "list1g = [2,3,4,5,6,7]\n",
    "list2g = [32.1,27.0,30.0,29.0,21.0,14.8]\n",
    "list3g = [349,357,364,501,357,350]\n",
    "\n",
    "ksde['entry_score'] = list1g\n",
    "ksde['pct_of_children_decrease'] = list2g\n",
    "ksde['time_in_program'] = list3g\n",
    "\n",
    "print(ksde)\n",
    "\n",
    "\n",
    "#appropriate action scale decrease df\n",
    "aasde = pd.DataFrame()\n",
    "\n",
    "aasde =pd.DataFrame(columns=[\"entry_score\", \"pct_of_children_decrease\", \"time_in_program\"])\n",
    "\n",
    "list1h = [2,3,4,5,6,7]\n",
    "list2h = [11.4,13.3,17.0,22.4,17.0,14.7]\n",
    "list3h = [425,348,337,343,340,349]\n",
    "\n",
    "aasde['entry_score'] = list1h\n",
    "aasde['pct_of_children_decrease'] = list2h\n",
    "aasde['time_in_program'] = list3h\n",
    "\n",
    "print(aasde)\n",
    "\n",
    "\n",
    "ssingraph = ssin.plot(x = 'entry_score',\n",
    "                      y = 'time_in_program',\n",
    "                      title = 'Social Improved T.I.P.(Median)',\n",
    "                      xlabel = 'Entry Score',\n",
    "                      ylabel = 'Days in Program',\n",
    "                      kind = 'bar',\n",
    "                     color = 'Green')\n",
    "\n",
    "ssingraph.get_legend ().remove ()\n",
    "\n",
    "\n",
    "ksingraph = ksin.plot(x = 'entry_score',\n",
    "                      y = 'time_in_program',\n",
    "                      title = 'Knowledge Improved T.I.P.(Median)',\n",
    "                      xlabel = 'Entry Score',\n",
    "                      ylabel = 'Days in Program',\n",
    "                      kind = 'bar',\n",
    "                     color = 'Green')\n",
    "\n",
    "ksingraph.get_legend ().remove ()\n",
    "\n",
    "\n",
    "aasingraph = aasin.plot(x = 'entry_score',\n",
    "                        y = 'time_in_program',\n",
    "                        title = 'Approp. Action T.I.P.(Median)',\n",
    "                        xlabel = 'Entry Score',\n",
    "                        ylabel = 'Days in Program',\n",
    "                        kind = 'bar',\n",
    "                       color = 'Green')\n",
    "\n",
    "aasingraph.get_legend ().remove ()\n",
    "\n",
    "\n",
    "ssingrapha = ssin.plot(x = 'entry_score',\n",
    "                      y = 'pct_of_children_improved',\n",
    "                      xlabel = 'Entry Score',\n",
    "                      ylabel = 'Children Showing Improvement [%]',\n",
    "                      kind = 'bar',\n",
    "                      title = 'Social Improved',\n",
    "                      color = 'Green')\n",
    "\n",
    "ssingrapha.get_legend ().remove ()\n",
    "\n",
    "\n",
    "ksingrapha = ksin.plot(x = 'entry_score',\n",
    "                      y = 'pct_of_children_improved',\n",
    "                      xlabel = 'Entry Score',\n",
    "                      ylabel = 'Children Showing Improvement [%]',\n",
    "                      kind = 'bar',\n",
    "                      title = 'Knowledge Improved',\n",
    "                      color = 'Green')\n",
    "\n",
    "ksingrapha.get_legend ().remove ()\n",
    "\n",
    "\n",
    "aasingrapha = aasin.plot(x = 'entry_score',\n",
    "                      y = 'pct_of_children_improved',\n",
    "                      xlabel = 'Entry Score',\n",
    "                      ylabel = 'Children Showing Improvement [%]',\n",
    "                      kind = 'bar',\n",
    "                        title = 'Approp. Action Improved',\n",
    "                        color = 'green')\n",
    "\n",
    "aasingrapha.get_legend ().remove ()\n",
    "\n",
    "\n",
    "ssncgraph = ssnc.plot(x = 'entry_score',\n",
    "                      y = 'time_in_program',\n",
    "                      title = 'Social No Change T.I.P.(Median)',\n",
    "                      xlabel = 'Entry Score',\n",
    "                      ylabel = 'Days in Program',\n",
    "                      kind = 'bar',\n",
    "                     color = 'dimgrey')\n",
    "\n",
    "ssncgraph.get_legend ().remove ()\n",
    "\n",
    "\n",
    "ksncgraph = ksnc.plot(x = 'entry_score',\n",
    "                      y = 'time_in_program',\n",
    "                      title = 'Knowledge No Change T.I.P.(Median)',\n",
    "                      xlabel = 'Entry Score',\n",
    "                      ylabel = 'Days in Program',\n",
    "                      kind = 'bar',\n",
    "                     color = 'dimgrey')\n",
    "\n",
    "\n",
    "ksncgraph.get_legend ().remove ()\n",
    "\n",
    "\n",
    "aasncgraph = aasnc.plot(x = 'entry_score',\n",
    "                      y = 'time_in_program',\n",
    "                      title = 'Approp. Action No Change T.I.P.(Median)',\n",
    "                      xlabel = 'Entry Score',\n",
    "                      ylabel = 'Days in Program',\n",
    "                      kind = 'bar',\n",
    "                       color = 'dimgrey')\n",
    "\n",
    "aasncgraph.get_legend ().remove ()\n",
    "\n",
    "\n",
    "ssncgrapha = ssnc.plot(x = 'entry_score',\n",
    "                      y = 'pct_of_children_nochange',\n",
    "                      xlabel = 'Entry Score',\n",
    "                      ylabel = 'Children Showing No change  [%]',\n",
    "                      kind = 'bar',\n",
    "                      title = 'Social No Change',\n",
    "                      color = 'dimgrey')\n",
    "\n",
    "ssncgrapha.get_legend ().remove ()\n",
    "\n",
    "\n",
    "ksncgrapha = ksnc.plot(x = 'entry_score',\n",
    "                      y = 'pct_of_children_nochange',\n",
    "                      xlabel = 'Entry Score',\n",
    "                      ylabel = 'Children Showing No change  [%]',\n",
    "                      kind = 'bar',\n",
    "                      title = 'Knowledge No Change',\n",
    "                      color = 'dimgrey')\n",
    "\n",
    "ksncgrapha.get_legend ().remove ()\n",
    "\n",
    "\n",
    "aasncgrapha = aasnc.plot(x = 'entry_score',\n",
    "                      y = 'pct_of_children_nochange',\n",
    "                      xlabel = 'Entry Score',\n",
    "                      ylabel = 'Children Showing No change  [%]',\n",
    "                      kind = 'bar',\n",
    "                        title = 'Approp. Action No Change',\n",
    "                        color = 'dimgrey')\n",
    "\n",
    "aasncgrapha.get_legend ().remove ()\n",
    "\n",
    "\n",
    "ssdegraph = ssde.plot(x = 'entry_score',\n",
    "                      y = 'time_in_program',\n",
    "                      title = 'Social Decrease T.I.P.(Median)',\n",
    "                      xlabel = 'Entry Score',\n",
    "                      ylabel = 'Days in Program',\n",
    "                      kind = 'bar',\n",
    "                     color = 'darkred')\n",
    "\n",
    "ssdegraph.get_legend ().remove ()\n",
    "\n",
    "\n",
    "ksdegraph = ksde.plot(x = 'entry_score',\n",
    "                      y = 'time_in_program',\n",
    "                      title = 'Knowledge Decrease T.I.P.(Median)',\n",
    "                      xlabel = 'Entry Score',\n",
    "                      ylabel = 'Days in Program',\n",
    "                      kind = 'bar',\n",
    "                     color = 'darkred')\n",
    "\n",
    "ksdegraph.get_legend ().remove ()\n",
    "\n",
    "\n",
    "aasdegraph = aasde.plot(x = 'entry_score',\n",
    "                      y = 'time_in_program',\n",
    "                      title = 'Approp. Action Decrease T.I.P.(Median)',\n",
    "                      xlabel = 'Entry Score',\n",
    "                      ylabel = 'Days in Program',\n",
    "                      kind = 'bar',\n",
    "                       color = 'darkred')\n",
    "\n",
    "aasdegraph.get_legend ().remove ()\n",
    "\n",
    "\n",
    "ssdegrapha = ssde.plot(x = 'entry_score',\n",
    "                      y = 'pct_of_children_decrease',\n",
    "                      xlabel = 'Entry Score',\n",
    "                      ylabel = 'Children Showing Decrease  [%]',\n",
    "                      kind = 'bar',\n",
    "                      title = 'Social Decrease',\n",
    "                      color = 'darkred')\n",
    "\n",
    "ssdegrapha.get_legend ().remove ()\n",
    "\n",
    "\n",
    "ksdegrapha = ksde.plot(x = 'entry_score',\n",
    "                      y = 'pct_of_children_decrease',\n",
    "                      xlabel = 'Entry Score',\n",
    "                      ylabel = 'Children Showing Decrease  [%]',\n",
    "                      kind = 'bar',\n",
    "                      title = 'Knowledge Decrease',\n",
    "                      color = 'darkred')\n",
    "\n",
    "ksdegrapha.get_legend ().remove ()\n",
    "\n",
    "\n",
    "aasdegrapha = aasde.plot(x = 'entry_score',\n",
    "                      y = 'pct_of_children_decrease',\n",
    "                      xlabel = 'Entry Score',\n",
    "                      ylabel = 'Children Showing Decrease  [%]',\n",
    "                      kind = 'bar',\n",
    "                      title = 'Approp. Action Decrease',\n",
    "                        color = 'darkred',\n",
    "                        )\n",
    "\n",
    "aasdegrapha.get_legend ().remove ()\n",
    "\n",
    "\n",
    "\n",
    "\n",
    "#You can select a graph below and simply call it to show the results\n",
    "\n",
    "#Graphs for children whos entry scores increased: days in program by entry score\n",
    "ssingraph # social scale\n",
    "ksingraph # knowledge scale\n",
    "aasingraph # appropriate action scale\n",
    "\n",
    "#Graphs for children whos entry scores increased: percent of children with increase by entry score\n",
    "ssingrapha\n",
    "ksingrapha\n",
    "aasingrapha\n",
    "\n",
    "#Graphs for children whos entry scores did not change: days in program by entry score\n",
    "ssncgraph\n",
    "ksncgraph\n",
    "aasncgraph\n",
    "\n",
    "#Graphs for children whos entry scores did not change: percent of children with increase by entry score\n",
    "ssncgrapha\n",
    "ksncgrapha\n",
    "aasncgrapha\n",
    "\n",
    "#Graphs for children whos entry scores decreased: days in program by entry score\n",
    "ssdegraph\n",
    "ksdegraph\n",
    "aasdegraph\n",
    "\n",
    "#Graphs for children whos entry scores decreased: percent of children with increase by entry score\n",
    "ssdegrapha\n",
    "ksdegrapha\n",
    "aasdegrapha"
   ]
  },
  {
   "cell_type": "code",
   "execution_count": null,
   "id": "1543dcd7",
   "metadata": {
    "scrolled": true
   },
   "outputs": [],
   "source": [
    "\n",
    "  \n",
    "X = ['Social Increase', 'Social No Change', 'Social Decrease']\n",
    "socialimp = [ssin]\n",
    "socialnc = [ssnc]\n",
    "socialde = [ssde]\n",
    "  \n",
    "X_axis = np.arange(len(X))\n",
    "Y_axis = X_axis.astype(int)\n",
    "  \n",
    "plt.bar(X_axis - 0.2, socialimp, 0.4, label = 'Increase')\n",
    "plt.bar(X_axis + 0.2, socialnc, 0.4, label = 'No Change')\n",
    "plt.bar(X_axis + 0.2, socialde, 0.4, label = 'Decrease')\n",
    "  \n",
    "plt.xticks(X_axis, X)\n",
    "plt.xlabel(\"\")\n",
    "plt.ylabel(\"Percentage of Change\")\n",
    "plt.title(\"Social Scale: Improvement or No?\")\n",
    "plt.legend()\n",
    "plt.show()"
   ]
  },
  {
   "cell_type": "code",
   "execution_count": null,
   "id": "d772cac5",
   "metadata": {
    "scrolled": false
   },
   "outputs": [],
   "source": [
    "# df1=pd.DataFrame({'x':[1,2,3,4,5],'y':[10,2,454,121,34]})\n",
    "# df2=pd.DataFrame({'x':[4,1,2,5,3],'y':[54,12,65,12,8]})\n",
    "\n",
    "ssin['Scale']='Social'\n",
    "ksin['Scale']='Knowledge'\n",
    "aasin['Scale']='Approp. Action'\n",
    "res=pd.concat([ssin,ksin,aasin])\n",
    "sns.barplot(x='entry_score',y=('pct_of_children_improved'),data=res,hue='Scale',palette='Paired').set(title='Percent Improved')\n",
    "plt.show()"
   ]
  },
  {
   "cell_type": "code",
   "execution_count": null,
   "id": "dbe7cefc",
   "metadata": {},
   "outputs": [],
   "source": [
    "ssin['Scale']='Social'\n",
    "ksin['Scale']='Knowledge'\n",
    "aasin['Scale']='Approp. Action'\n",
    "res=pd.concat([ssin,ksin,aasin])\n",
    "sns.barplot(x='entry_score',y=('time_in_program'),data=res,hue='Scale',palette='Paired').set(title='Scale-Improved T.I.P(Median)')\n",
    "plt.show()"
   ]
  },
  {
   "cell_type": "code",
   "execution_count": null,
   "id": "9ca74997",
   "metadata": {
    "scrolled": true
   },
   "outputs": [],
   "source": [
    "ssnc['Scale']='Social'\n",
    "ksnc['Scale']='Knowledge'\n",
    "aasnc['Scale']='Approp. Action'\n",
    "res=pd.concat([ssnc,ksnc,aasnc])\n",
    "sns.barplot(x='entry_score',y=('pct_of_children_nochange'),data=res,hue='Scale',palette='Paired').set(title='Percent With No Change')\n",
    "plt.show()"
   ]
  },
  {
   "cell_type": "code",
   "execution_count": null,
   "id": "598765a6",
   "metadata": {},
   "outputs": [],
   "source": [
    "ssnc['Scale']='Social'\n",
    "ksnc['Scale']='Knowledge'\n",
    "aasnc['Scale']='Approp. Action'\n",
    "res=pd.concat([ssnc,ksnc,aasnc])\n",
    "sns.barplot(x='entry_score',y=('time_in_program'),data=res,hue='Scale',palette='Paired').set(title='Scale-No Change T.I.P(Median)')\n",
    "plt.show()"
   ]
  },
  {
   "cell_type": "code",
   "execution_count": null,
   "id": "d1c19d0e",
   "metadata": {
    "scrolled": true
   },
   "outputs": [],
   "source": [
    "ssde['Scale']='Social'\n",
    "ksde['Scale']='Knowledge'\n",
    "aasde['Scale']='Approp. Action'\n",
    "res=pd.concat([ssde,ksde,aasde])\n",
    "sns.barplot(x='entry_score',y=('pct_of_children_decrease'),data=res,hue='Scale',palette='Paired').set(title='Percent Decreased')\n",
    "plt.show()"
   ]
  },
  {
   "cell_type": "code",
   "execution_count": null,
   "id": "d3dad008",
   "metadata": {
    "scrolled": true
   },
   "outputs": [],
   "source": [
    "ssde['Scale']='Social'\n",
    "ksde['Scale']='Knowledge'\n",
    "aasde['Scale']='Approp. Action'\n",
    "res=pd.concat([ssde,ksde,aasde])\n",
    "sns.barplot(x='entry_score',y=('time_in_program'),data=res,hue='Scale',palette='Paired').set(title='Scale-Decrease T.I.P(Median)')\n",
    "plt.show()"
   ]
  },
  {
   "cell_type": "code",
   "execution_count": null,
   "id": "8a96d3cf",
   "metadata": {},
   "outputs": [],
   "source": [
    "ssin.head"
   ]
  },
  {
   "cell_type": "code",
   "execution_count": null,
   "id": "b4798a36",
   "metadata": {},
   "outputs": [],
   "source": [
    "ssnc.head"
   ]
  },
  {
   "cell_type": "code",
   "execution_count": null,
   "id": "347256dc",
   "metadata": {},
   "outputs": [],
   "source": [
    "ssde.head"
   ]
  },
  {
   "cell_type": "code",
   "execution_count": null,
   "id": "72b008cf",
   "metadata": {},
   "outputs": [],
   "source": [
    "eco_exit.describe()"
   ]
  },
  {
   "cell_type": "code",
   "execution_count": null,
   "id": "acccf88e",
   "metadata": {},
   "outputs": [],
   "source": [
    "ssde['Scale']='Social'\n",
    "ksde['Scale']='Knowledge'\n",
    "aasde['Scale']='Approp. Action'\n",
    "res=pd.concat([ssde,ksde,aasde])\n",
    "sns.scatterplot(x='entry_score',y=('pct_of_children_decrease'),data=res,hue='Scale',palette='Paired').set(title='Percent Decreased')\n",
    "plt.show()"
   ]
  },
  {
   "cell_type": "code",
   "execution_count": null,
   "id": "13cda089",
   "metadata": {},
   "outputs": [],
   "source": [
    "ssde.describe()"
   ]
  },
  {
   "cell_type": "code",
   "execution_count": null,
   "id": "b66dd7c1",
   "metadata": {},
   "outputs": [],
   "source": [
    "ksde.describe()"
   ]
  },
  {
   "cell_type": "markdown",
   "id": "d90fcf02",
   "metadata": {},
   "source": [
    "## Finished Bar/Point Graphs for Improved, No Change, & Decreased"
   ]
  },
  {
   "cell_type": "code",
   "execution_count": null,
   "id": "f9b0d214",
   "metadata": {
    "scrolled": true
   },
   "outputs": [],
   "source": [
    "ssin['Scale']='Social'\n",
    "ksin['Scale']='Knowledge'\n",
    "aasin['Scale']='Approp. Action'\n",
    "res=pd.concat([ssin,ksin,aasin])\n",
    "#matplotlib.rc_file_defaults()\n",
    "ax1 = sns.set_style(style=None, rc=None )\n",
    "fig, ax1 = plt.subplots(figsize=(12,6))\n",
    "sns.pointplot(x='entry_score',y=('time_in_program'),data=res,hue='Scale',kind='point',palette='Paired',ax=ax1).set(title='T.I.P(Median) VS. PCT of Change')\n",
    "plt.legend(loc='upper right')\n",
    "ax2 = ax1.twinx()\n",
    "sns.barplot(x='entry_score',y=('pct_of_children_improved'),data=res,hue='Scale',palette='Paired',alpha=0.40,ax=ax2)\n",
    "plt.legend(loc='upper right')\n",
    "plt.savefig(\"improvedVStime.png\")\n",
    "plt.show()"
   ]
  },
  {
   "cell_type": "code",
   "execution_count": null,
   "id": "52993f98",
   "metadata": {
    "scrolled": true
   },
   "outputs": [],
   "source": [
    "ssnc['Scale']='Social'\n",
    "ksnc['Scale']='Knowledge'\n",
    "aasnc['Scale']='Approp. Action'\n",
    "res=pd.concat([ssnc,ksnc,aasnc])\n",
    "ax1 = sns.set_style(style=None, rc=None )\n",
    "fig, ax1 = plt.subplots(figsize=(12,6))\n",
    "sns.pointplot(x='entry_score',y=('time_in_program'),data=res,hue='Scale',kind='point',palette='Paired',ax=ax1).set(title='T.I.P(Median) VS PCT of Change')\n",
    "plt.legend(loc='upper right')\n",
    "ax2 = ax1.twinx()\n",
    "sns.barplot(x='entry_score',y=('pct_of_children_nochange'),data=res,hue='Scale',palette='Paired',alpha=0.40,ax=ax2)\n",
    "plt.legend(loc='upper right')\n",
    "plt.savefig(\"nochangeVStime.png\")\n",
    "plt.show()"
   ]
  },
  {
   "cell_type": "code",
   "execution_count": null,
   "id": "7112f541",
   "metadata": {},
   "outputs": [],
   "source": [
    "ssde['Scale']='Social'\n",
    "ksde['Scale']='Knowledge'\n",
    "aasde['Scale']='Approp. Action'\n",
    "res=pd.concat([ssde,ksde,aasde])\n",
    "#matplotlib.rc_file_defaults()\n",
    "ax1 = sns.set_style(style=None, rc=None )\n",
    "fig, ax1 = plt.subplots(figsize=(12,6))\n",
    "sns.pointplot(x='entry_score',y=('time_in_program'),data=res,hue='Scale',kind='point',palette='Paired',ax=ax1).set(title='T.I.P(Median) VS PCT of Change')\n",
    "plt.legend(loc='upper right')\n",
    "ax2 = ax1.twinx()\n",
    "sns.barplot(x='entry_score',y=('pct_of_children_decrease'),data=res,hue='Scale',palette='Paired',alpha=0.40,ax=ax2)\n",
    "plt.legend(loc='upper right')\n",
    "plt.savefig(\"decreaseVStime.png\")\n",
    "plt.show()"
   ]
  },
  {
   "cell_type": "markdown",
   "id": "22f0c9b1",
   "metadata": {},
   "source": [
    "#### Testing graph styles...."
   ]
  },
  {
   "cell_type": "code",
   "execution_count": null,
   "id": "ba606943",
   "metadata": {
    "scrolled": true
   },
   "outputs": [],
   "source": [
    "ssnc['Scale']='Social'\n",
    "ksnc['Scale']='Knowledge'\n",
    "aasnc['Scale']='Approp. Action'\n",
    "res=pd.concat([ssnc,ksnc,aasnc])\n",
    "ax1 = sns.set_style(style=None, rc=None )\n",
    "fig, ax1 = plt.subplots(figsize=(12,6))\n",
    "sns.catplot(x='entry_score',y=('time_in_program'),data=res,hue='Scale',kind='point',palette='autumn_r').set(title='Scale-No Change T.I.P(Median)')\n",
    "ax2 = ax1.twinx()\n",
    "sns.barplot(x='entry_score',y=('time_in_program'),data=res,hue='Scale',palette='Paired').set(title='Scale-Improved T.I.P(Median)')\n",
    "plt.show()"
   ]
  },
  {
   "cell_type": "code",
   "execution_count": null,
   "id": "8aafc873",
   "metadata": {
    "scrolled": true
   },
   "outputs": [],
   "source": [
    "ssde['Scale']='Social'\n",
    "ksde['Scale']='Knowledge'\n",
    "aasde['Scale']='Approp. Action'\n",
    "res=pd.concat([ssde,ksde,aasde])\n",
    "sns.catplot(x='entry_score',y=('time_in_program'),data=res,hue='Scale',kind='point',palette='autumn_r').set(title='Scale-Decrease T.I.P(Median)')\n",
    "plt.show()"
   ]
  },
  {
   "cell_type": "code",
   "execution_count": null,
   "id": "8bc6bcf2",
   "metadata": {},
   "outputs": [],
   "source": [
    "values = [6.235011990407674,33.81294964028777, 59.95203836930456]\n",
    "colors = ['r', 'b', 'g']\n",
    "labels = ['Decreased','No Change','Increased']\n",
    "days = ['Days in Program:319','Days in Program:182','Days in Program:194']\n",
    "explode = (0.4, 0, 0)\n",
    "plt.pie(values, colors=colors, labels=labels,\n",
    "explode=explode, autopct='%1.1f%%',\n",
    "counterclock=False, shadow=True)\n",
    "plt.title('Change in Entry Score and Average Length of Stay\\n (Social Scale)')\n",
    "plt.legend(days,loc=10)\n",
    "plt.show()"
   ]
  },
  {
   "cell_type": "code",
   "execution_count": null,
   "id": "60175df2",
   "metadata": {},
   "outputs": [],
   "source": []
  }
 ],
 "metadata": {
  "kernelspec": {
   "display_name": "Python 3 (ipykernel)",
   "language": "python",
   "name": "python3"
  },
  "language_info": {
   "codemirror_mode": {
    "name": "ipython",
    "version": 3
   },
   "file_extension": ".py",
   "mimetype": "text/x-python",
   "name": "python",
   "nbconvert_exporter": "python",
   "pygments_lexer": "ipython3",
   "version": "3.9.12"
  }
 },
 "nbformat": 4,
 "nbformat_minor": 5
}
