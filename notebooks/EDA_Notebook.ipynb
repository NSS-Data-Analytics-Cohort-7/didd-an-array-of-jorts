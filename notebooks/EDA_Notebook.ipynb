{
 "cells": [
  {
   "cell_type": "code",
   "execution_count": null,
   "id": "8f314162",
   "metadata": {},
   "outputs": [],
   "source": [
    "import pandas as pd"
   ]
  },
  {
   "cell_type": "code",
   "execution_count": null,
   "id": "8e7b4922",
   "metadata": {},
   "outputs": [],
   "source": [
    "project_data = pd.read_excel('../data/TEIS-NSS Project Data 10-2022.xlsx', sheet_name=['ECO with Exit21-22', 'Elig Timeline Rpt 2018-2022'])"
   ]
  },
  {
   "cell_type": "code",
   "execution_count": null,
   "id": "e56fe1c7",
   "metadata": {
    "scrolled": true
   },
   "outputs": [],
   "source": [
    "eco_exit = project_data.get('ECO with Exit21-22')\n",
    "elig_timeline = project_data.get('Elig Timeline Rpt 2018-2022')\n",
    "print(eco_exit)\n",
    "print(elig_timeline)"
   ]
  },
  {
   "cell_type": "code",
   "execution_count": null,
   "id": "77b50a85",
   "metadata": {
    "scrolled": true
   },
   "outputs": [],
   "source": [
    "eco_exit.head(10)"
   ]
  },
  {
   "cell_type": "code",
   "execution_count": null,
   "id": "06e705d0",
   "metadata": {},
   "outputs": [],
   "source": [
    "eco_exit.tail(10)"
   ]
  },
  {
   "cell_type": "code",
   "execution_count": null,
   "id": "b82b66c5",
   "metadata": {
    "scrolled": true
   },
   "outputs": [],
   "source": [
    "elig_timeline.head()"
   ]
  },
  {
   "cell_type": "code",
   "execution_count": null,
   "id": "65f717e6",
   "metadata": {},
   "outputs": [],
   "source": [
    "eco_exit.rename(columns={'CHILD_ID':'Child ID'},inplace=True)\n",
    "\n",
    "eco_elig_df=eco_exit.merge(elig_timeline, how='outer', on='Child ID')"
   ]
  },
  {
   "cell_type": "markdown",
   "id": "00b7daea",
   "metadata": {},
   "source": [
    "## Pulling all rows with 'Diagnosed Condition'.."
   ]
  },
  {
   "cell_type": "code",
   "execution_count": null,
   "id": "c04f117e",
   "metadata": {},
   "outputs": [],
   "source": [
    "dcdf=eco_elig_df[eco_elig_df['Init. Elig. Category']=='Diagnosed Condition']"
   ]
  },
  {
   "cell_type": "code",
   "execution_count": null,
   "id": "0fa6d0cd",
   "metadata": {
    "scrolled": true
   },
   "outputs": [],
   "source": [
    "dcdf"
   ]
  },
  {
   "cell_type": "markdown",
   "id": "f050d654",
   "metadata": {},
   "source": [
    "## Pulling all rows with 'Developmental Evaluation'.."
   ]
  },
  {
   "cell_type": "code",
   "execution_count": null,
   "id": "96211ea0",
   "metadata": {},
   "outputs": [],
   "source": [
    "dedf = eco_elig_df[eco_elig_df['Init. Elig. Category']=='Developmental Evaluation']"
   ]
  },
  {
   "cell_type": "code",
   "execution_count": null,
   "id": "39eda5be",
   "metadata": {
    "scrolled": true
   },
   "outputs": [],
   "source": [
    "dedf"
   ]
  },
  {
   "cell_type": "markdown",
   "id": "635a67f0",
   "metadata": {},
   "source": [
    "## Pulling all rows with 'Diagnosed Condition, Developmental Evaluation'.."
   ]
  },
  {
   "cell_type": "code",
   "execution_count": null,
   "id": "4bdde87a",
   "metadata": {},
   "outputs": [],
   "source": [
    "dedcdf = eco_elig_df.loc[eco_elig_df['Init. Elig. Category']=='Diagnosed Condition, Developmental Evaluation']"
   ]
  },
  {
   "cell_type": "code",
   "execution_count": null,
   "id": "7f21b9b9",
   "metadata": {
    "scrolled": true
   },
   "outputs": [],
   "source": [
    "dedcdf"
   ]
  },
  {
   "cell_type": "markdown",
   "id": "ff7b789a",
   "metadata": {},
   "source": [
    "## Count of 'Eligible vs. Ineligible' for service.."
   ]
  },
  {
   "cell_type": "markdown",
   "id": "2e285f65",
   "metadata": {},
   "source": [
    "#### Eligible:"
   ]
  },
  {
   "cell_type": "markdown",
   "id": "b9c559a3",
   "metadata": {},
   "source": []
  },
  {
   "cell_type": "code",
   "execution_count": null,
   "id": "cc0c7a48",
   "metadata": {
    "scrolled": true
   },
   "outputs": [],
   "source": [
    "sum(elig_timeline['Init. Elig. Decision']=='Eligible')"
   ]
  },
  {
   "cell_type": "markdown",
   "id": "0673ecbe",
   "metadata": {},
   "source": [
    "#### Ineligible:"
   ]
  },
  {
   "cell_type": "code",
   "execution_count": null,
   "id": "c034a6e7",
   "metadata": {},
   "outputs": [],
   "source": [
    "sum(elig_timeline['Init. Elig. Decision']=='Ineligible')"
   ]
  },
  {
   "cell_type": "code",
   "execution_count": null,
   "id": "5d081651",
   "metadata": {},
   "outputs": [],
   "source": [
    "eco_exit.info()"
   ]
  },
  {
   "cell_type": "code",
   "execution_count": null,
   "id": "de9b5cff",
   "metadata": {},
   "outputs": [],
   "source": [
    "eco_exit.isna().sum()"
   ]
  },
  {
   "cell_type": "code",
   "execution_count": null,
   "id": "74b66f45",
   "metadata": {},
   "outputs": [],
   "source": []
  }
 ],
 "metadata": {
  "kernelspec": {
   "display_name": "Python 3 (ipykernel)",
   "language": "python",
   "name": "python3"
  },
  "language_info": {
   "codemirror_mode": {
    "name": "ipython",
    "version": 3
   },
   "file_extension": ".py",
   "mimetype": "text/x-python",
   "name": "python",
   "nbconvert_exporter": "python",
   "pygments_lexer": "ipython3",
   "version": "3.9.12"
  }
 },
 "nbformat": 4,
 "nbformat_minor": 5
}
