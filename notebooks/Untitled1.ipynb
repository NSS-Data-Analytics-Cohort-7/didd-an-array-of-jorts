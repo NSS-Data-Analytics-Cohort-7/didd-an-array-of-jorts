{
 "cells": [
  {
   "cell_type": "code",
   "execution_count": null,
   "id": "e153baa5",
   "metadata": {},
   "outputs": [],
   "source": [
    "# import packages"
   ]
  },
  {
   "cell_type": "code",
   "execution_count": null,
   "id": "04f81299",
   "metadata": {},
   "outputs": [],
   "source": [
    "import pandas as pd\n",
    "import numpy as np\n",
    "import matplotlib.pyplot as plt\n",
    "import seaborn as sns"
   ]
  },
  {
   "cell_type": "code",
   "execution_count": null,
   "id": "efe8e874",
   "metadata": {},
   "outputs": [],
   "source": [
    "#matplotlib inline"
   ]
  },
  {
   "cell_type": "code",
   "execution_count": null,
   "id": "af6c80c1",
   "metadata": {},
   "outputs": [],
   "source": [
    "%matplotlib inline"
   ]
  },
  {
   "cell_type": "code",
   "execution_count": null,
   "id": "131e9515",
   "metadata": {},
   "outputs": [],
   "source": [
    "#read xls"
   ]
  },
  {
   "cell_type": "code",
   "execution_count": null,
   "id": "87c96061",
   "metadata": {},
   "outputs": [],
   "source": [
    "project_data = pd.read_excel('../data/TEIS-NSS Project Data 10-2022.xlsx', \n",
    "                             sheet_name=['ECO with Exit21-22', 'Elig Timeline Rpt 2018-2022'])\n",
    "\n",
    "eco_exit = project_data.get('ECO with Exit21-22')\n",
    "elig_timeline = project_data.get('Elig Timeline Rpt 2018-2022')\n",
    "print(eco_exit)\n",
    "print(elig_timeline)"
   ]
  },
  {
   "cell_type": "code",
   "execution_count": null,
   "id": "cbd71ce0",
   "metadata": {},
   "outputs": [],
   "source": [
    "#tails"
   ]
  },
  {
   "cell_type": "code",
   "execution_count": null,
   "id": "ae0a40bb",
   "metadata": {},
   "outputs": [],
   "source": [
    "elig_timeline.tail(3)"
   ]
  },
  {
   "cell_type": "code",
   "execution_count": null,
   "id": "a68b8e08",
   "metadata": {},
   "outputs": [],
   "source": [
    "eco_exit.tail(3)"
   ]
  },
  {
   "cell_type": "code",
   "execution_count": null,
   "id": "2877c864",
   "metadata": {},
   "outputs": [],
   "source": [
    "#heads"
   ]
  },
  {
   "cell_type": "code",
   "execution_count": null,
   "id": "0ff99f36",
   "metadata": {},
   "outputs": [],
   "source": [
    "elig_timeline.head(3)"
   ]
  },
  {
   "cell_type": "code",
   "execution_count": null,
   "id": "b37ea94e",
   "metadata": {},
   "outputs": [],
   "source": [
    "eco_exit.head(3)"
   ]
  },
  {
   "cell_type": "code",
   "execution_count": null,
   "id": "0fd5a4e4",
   "metadata": {},
   "outputs": [],
   "source": [
    "## info"
   ]
  },
  {
   "cell_type": "code",
   "execution_count": null,
   "id": "60da6dec",
   "metadata": {},
   "outputs": [],
   "source": [
    "elig_timeline.info"
   ]
  },
  {
   "cell_type": "code",
   "execution_count": null,
   "id": "b75430e5",
   "metadata": {},
   "outputs": [],
   "source": [
    "eco_exit.info"
   ]
  },
  {
   "cell_type": "code",
   "execution_count": null,
   "id": "160098b1",
   "metadata": {},
   "outputs": [],
   "source": []
  },
  {
   "cell_type": "code",
   "execution_count": null,
   "id": "fcc13499",
   "metadata": {},
   "outputs": [],
   "source": []
  }
 ],
 "metadata": {
  "kernelspec": {
   "display_name": "Python 3 (ipykernel)",
   "language": "python",
   "name": "python3"
  },
  "language_info": {
   "codemirror_mode": {
    "name": "ipython",
    "version": 3
   },
   "file_extension": ".py",
   "mimetype": "text/x-python",
   "name": "python",
   "nbconvert_exporter": "python",
   "pygments_lexer": "ipython3",
   "version": "3.9.12"
  }
 },
 "nbformat": 4,
 "nbformat_minor": 5
}
